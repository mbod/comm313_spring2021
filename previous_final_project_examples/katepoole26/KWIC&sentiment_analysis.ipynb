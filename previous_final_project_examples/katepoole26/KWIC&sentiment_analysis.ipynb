{
 "cells": [
  {
   "cell_type": "markdown",
   "metadata": {},
   "source": [
    "# KWIC Analysis & Sentiment Scoring (R v. D)"
   ]
  },
  {
   "cell_type": "markdown",
   "metadata": {},
   "source": [
    "## Notebook goals: \n",
    "- Using key words identified via keyness analysis notebook, create and analyze KWICS \n",
    "- Score Democrat v. Republicans KWICS using VADER sid lexicon"
   ]
  },
  {
   "cell_type": "markdown",
   "metadata": {},
   "source": [
    "## Setup"
   ]
  },
  {
   "cell_type": "code",
   "execution_count": 49,
   "metadata": {},
   "outputs": [],
   "source": [
    "%matplotlib inline\n",
    "\n",
    "import os\n",
    "import re\n",
    "import csv\n",
    "import pandas as pd\n",
    "import numpy as np\n",
    "import matplotlib.pyplot as plt\n",
    "\n",
    "from nltk import tokenize\n",
    "from nltk.sentiment.vader import SentimentIntensityAnalyzer"
   ]
  },
  {
   "cell_type": "code",
   "execution_count": 50,
   "metadata": {},
   "outputs": [],
   "source": [
    "## Load speech data\n",
    "all_speeches_r = open('data/republican_all.txt').read()\n",
    "all_speeches_d = open('data/democrat_all.txt').read()"
   ]
  },
  {
   "cell_type": "code",
   "execution_count": 51,
   "metadata": {},
   "outputs": [],
   "source": [
    "## Parameters\n",
    "to_strip = ',.\\xa0:-()\\';$\"/?][!`Ą@Ś§¨’–“”…ï‘>&\\\\%˝˘*'"
   ]
  },
  {
   "cell_type": "code",
   "execution_count": 52,
   "metadata": {},
   "outputs": [],
   "source": [
    "sid = SentimentIntensityAnalyzer()"
   ]
  },
  {
   "cell_type": "markdown",
   "metadata": {},
   "source": [
    "## Functions"
   ]
  },
  {
   "cell_type": "code",
   "execution_count": 53,
   "metadata": {},
   "outputs": [],
   "source": [
    " %run functions.ipynb"
   ]
  },
  {
   "cell_type": "markdown",
   "metadata": {},
   "source": [
    "## \"america\""
   ]
  },
  {
   "cell_type": "code",
   "execution_count": 54,
   "metadata": {},
   "outputs": [
    {
     "name": "stdout",
     "output_type": "stream",
     "text": [
      "[[['world', 'and', 'the', 'tragedy', 'of', 'disappointment', 'and', 'europes', 'misunderstanding', 'of'], 'america', ['easily', 'might', 'have', 'been', 'avoided', 'the', 'republicans', 'of', 'the', 'senate']], [['peace', 'maintained', 'one', 'may', 'readily', 'sense', 'the', 'conscience', 'of', 'our'], 'america', ['i', 'am', 'sure', 'i', 'understand', 'the', 'purpose', 'of', 'the', 'dominant']], [['to', 'defeat', 'a', 'world', 'aspiration', 'we', 'were', 'resolved', 'to', 'safeguard'], 'america', ['we', 'were', 'resolved', 'then', 'even', 'as', 'we', 'are', 'today', 'and']], [['the', 'referendum', 'to', 'the', 'american', 'people', 'on', 'the', 'preservation', 'of'], 'america', ['and', 'the', 'republican', 'party', 'pledges', 'its', 'defense', 'of', 'the', 'preserved']], [['of', 'national', 'freedom', 'in', 'the', 'call', 'of', 'the', 'conscience', 'of'], 'america', ['is', 'peace', 'peace', 'that', 'closes', 'the', 'gaping', 'wound', 'of', 'world']], [['of', 'its', 'example', 'possessor', 'of', 'might', 'that', 'admits', 'no', 'fear'], 'america', ['must', 'stand', 'foremost', 'for', 'the', 'right', 'if', 'the', 'mistaken', 'voice']], [['stand', 'foremost', 'for', 'the', 'right', 'if', 'the', 'mistaken', 'voice', 'of'], 'america', ['spoken', 'in', 'unheeding', 'haste', 'led', 'europe', 'in', 'the', 'hour', 'of']], [['to', 'their', 'security', 'then', 'we', 'must', 'speak', 'the', 'truth', 'for'], 'america', ['and', 'express', 'our', 'hope', 'for', 'the', 'fraternized', 'conscience', 'of', 'nations']], [['by', 'its', 'administration', 'sponsors', 'who', 'resisted', 'every', 'effort', 'to', 'safeguard'], 'america', ['and', 'who', 'finally', 'rejected', 'it', 'when', 'such', 'safeguards', 'were', 'inserted']], [['to', 'war', 'their', 'supreme', 'sacrifice', 'shall', 'only', 'be', 'asked', 'for'], 'america', ['and', 'its', 'call', 'of', 'honor', 'there', 'is', 'a', 'sanctity', 'in']], [['new', 'relationship', 'to', 'commit', 'the', 'moral', 'forces', 'of', 'the', 'world'], 'america', ['included', 'to', 'peace', 'and', 'international', 'justice', 'still', 'leaving', 'america', 'free']], [['world', 'america', 'included', 'to', 'peace', 'and', 'international', 'justice', 'still', 'leaving'], 'america', ['free', 'independent', 'and', 'selfreliant', 'but', 'offering', 'friendship', 'to', 'all', 'the']], [['lighted', 'their', 'torches', 'among', 'other', 'peoples', 'and', 'hope', 'to', 'see'], 'america', ['as', 'a', 'part', 'of', 'the', 'great', 'red', 'conflagration', 'ours', 'is']], [['ours', 'to', 'call', 'the', 'sons', 'of', 'opportunity', 'to', 'its', 'defense'], 'america', ['must', 'not', 'only', 'save', 'herself', 'but', 'ours', 'must', 'be', 'the']], [['need', 'is', 'maximum', 'maximums', 'not', 'minimums', 'is', 'the', 'call', 'of'], 'america', ['it', 'isnt', 'a', 'new', 'story', 'because', 'war', 'never', 'fails', 'to']]]\n",
      "\n",
      "\n",
      "Found 468 instances of america\n"
     ]
    }
   ],
   "source": [
    "republican_tokens = tokenize(all_speeches_r, lowercase=True, strip_chars=to_strip)\n",
    "america_kwic_r = make_kwic('america', republican_tokens, win=10)\n",
    "\n",
    "print(america_kwic_r[:15])\n",
    "print('\\n')\n",
    "print('Found {} instances of america'.format(len(america_kwic_r)))"
   ]
  },
  {
   "cell_type": "code",
   "execution_count": 55,
   "metadata": {},
   "outputs": [
    {
     "name": "stdout",
     "output_type": "stream",
     "text": [
      "[[['and', 'not', 'enough', 'to', 'the', 'navy', 'the', 'other', 'republics', 'of'], 'america', ['distrusted', 'us', 'because', 'they', 'found', 'that', 'we', 'thought', 'first', 'of']], [['are', 'and', 'how', 'to', 'get', 'at', 'them', 'the', 'workingmen', 'of'], 'america', ['have', 'been', 'given', 'a', 'veritable', 'emancipation', 'by', 'the', 'legal', 'recognition']], [['the', 'shame', 'of', 'divisions', 'of', 'sentiment', 'and', 'purpose', 'in', 'which'], 'america', ['was', 'contemned', 'and', 'forgotten', 'it', 'is', 'part', 'of', 'the', 'business']], [['the', 'united', 'states', 'with', 'a', 'distressed', 'and', 'distracted', 'people', 'all'], 'america', ['looks', 'on', 'test', 'is', 'now', 'being', 'made', 'of', 'us', 'whether']], [['ours', 'depends', 'every', 'relationship', 'of', 'the', 'united', 'states', 'with', 'latin'], 'america', ['whether', 'in', 'politics', 'or', 'in', 'commerce', 'and', 'enterprise', 'these', 'are']], [['issues', 'of', 'the', 'politics', 'of', 'the', 'world', 'the', 'republics', 'of'], 'america', ['have', 'in', 'the', 'last', 'three', 'years', 'been', 'drawing', 'together', 'in']], [['be', 'a', 'just', 'and', 'settled', 'peace', 'and', 'we', 'here', 'in'], 'america', ['must', 'contribute', 'the', 'full', 'force', 'of', 'our', 'enthusiasm', 'and', 'of']], [['to', 'see', 'the', 'stimulus', 'of', 'that', 'new', 'day', 'draw', 'all'], 'america', ['the', 'republics', 'of', 'both', 'continents', 'on', 'to', 'a', 'new', 'life']], [['the', 'great', 'affairs', 'of', 'peace', 'we', 'are', 'americans', 'for', 'big'], 'america', ['and', 'rejoice', 'to', 'look', 'forward', 'to', 'the', 'days', 'in', 'which']], [['and', 'rejoice', 'to', 'look', 'forward', 'to', 'the', 'days', 'in', 'which'], 'america', ['shall', 'strive', 'to', 'stir', 'the', 'world', 'without', 'irritating', 'it', 'or']], [['the', 'necessity', 'for', 'the', 'restoration', 'of', 'cordial', 'relations', 'with', 'latin'], 'america', ['and', 'i', 'take', 'my', 'text', 'from', 'a', 'great', 'republican', 'secretary']], [['evil', 'effect', 'of', 'the', 'administrations', 'policy', 'with', 'respect', 'to', 'latin'], 'america', ['has', 'extended', 'to', 'our', 'relations', 'with', 'the', 'rest', 'of', 'the']], [['foreign', 'country', 'our', 'unwarranted', 'intervention', 'in', 'internal', 'affairs', 'in', 'latin'], 'america', ['and', 'this', 'specious', 'reason', 'for', 'it', 'constitute', 'the', 'basis', 'upon']], [['take', 'advantage', 'of', 'the', 'freedom', 'and', 'the', 'opportunities', 'offered', 'by'], 'america', ['the', 'rugged', 'qualities', 'of', 'our', 'immigrants', 'have', 'helped', 'to', 'develop']], [['every', 'race', 'has', 'made', 'its', 'contribution', 'to', 'the', 'betterment', 'of'], 'america', ['while', 'i', 'stand', 'squarely', 'on', 'our', 'platform', 'declaration', 'that', 'the']]]\n",
      "\n",
      "\n",
      "Found 373 instances of america\n"
     ]
    }
   ],
   "source": [
    "democrat_tokens = tokenize(all_speeches_d, lowercase=True, strip_chars=to_strip)\n",
    "america_kwic_d = make_kwic('america', democrat_tokens, win=10)\n",
    "\n",
    "print(america_kwic_d[:15])\n",
    "print('\\n')\n",
    "print('Found {} instances of america'.format(len(america_kwic_d)))"
   ]
  },
  {
   "cell_type": "code",
   "execution_count": 56,
   "metadata": {},
   "outputs": [],
   "source": [
    "dem_score=score_kwic(america_kwic_d)\n",
    "rep_score=score_kwic(america_kwic_r)"
   ]
  },
  {
   "cell_type": "code",
   "execution_count": 57,
   "metadata": {},
   "outputs": [
    {
     "data": {
      "text/plain": [
       "(0.929173583806612, 1.0337364394198925)"
      ]
     },
     "execution_count": 57,
     "metadata": {},
     "output_type": "execute_result"
    }
   ],
   "source": [
    "sum(dem_score)/len(dem_score), sum(rep_score)/len(rep_score)"
   ]
  },
  {
   "cell_type": "markdown",
   "metadata": {},
   "source": [
    "## \"democrats\""
   ]
  },
  {
   "cell_type": "code",
   "execution_count": 58,
   "metadata": {},
   "outputs": [
    {
     "name": "stdout",
     "output_type": "stream",
     "text": [
      "[[['writers', 'not', 'to', 'mention', 'reformers', 'of', 'all', 'kinds', 'freesoilers', 'independent'], 'democrats', ['conscience', 'whigs', 'barnburners', 'soft', 'hunkers', 'teetotallers', 'vegetarians', 'and', 'transcendentalists', 'now']], [['infinitesimal', 'compared', 'to', 'the', 'gulf', 'between', 'us', 'and', 'what', 'the'], 'democrats', ['would', 'put', 'upon', 'us', 'from', 'what', 'they', 'did', 'in', 'los']], [['that', 'just', 'as', 'in', '1952', 'and', 'in', '1956', 'millions', 'of'], 'democrats', ['will', 'join', 'usnot', 'because', 'they', 'are', 'deserting', 'their', 'party', 'but']], [['world', 'is', 'involved', 'we', 'are', 'not', 'republicans', 'we', 'are', 'not'], 'democrats', ['we', 'are', 'americans', 'first', 'last', 'and', 'always', 'these', 'five', 'presidents']], [['convention', 'i', 'cant', 'tell', 'which', 'faces', 'are', 'republicans', 'which', 'are'], 'democrats', ['and', 'which', 'are', 'independents', 'i', 'cannot', 'see', 'their', 'color', 'or']], [['people', 'we', 'call', 'americans', 'everywhere', 'we', 'have', 'met', 'thousands', 'of'], 'democrats', ['independents', 'and', 'republicans', 'from', 'all', 'economic', 'conditions', 'and', 'walks', 'of']], [['and', 'the', 'executive', 'branch', 'with', 'the', 'help', 'of', 'some', 'concerned'], 'democrats', ['in', 'the', 'house', 'we', 'started', 'a', 'policy', 'of', 'tightening', 'the']], [['vote', 'in', '1932', 'for', 'franklin', 'delano', 'roosevelt', 'that', 'year', 'the'], 'democrats', ['called', 'for', 'a', '25percent', 'reduction', 'in', 'the', 'cost', 'of', 'government']], [['that', 'party', 'leave', 'not', 'just', 'me', 'but', 'millions', 'of', 'patriotic'], 'democrats', ['who', 'believed', 'in', 'the', 'principles', 'and', 'philosophy', 'of', 'that', 'platform']], [['its', 'first', 'principles', 'its', 'no', 'surprise', 'that', 'so', 'many', 'responsible'], 'democrats', ['feel', 'that', 'our', 'platform', 'is', 'closer', 'to', 'their', 'views', 'and']], [['them', 'take', 'it', 'away', 'from', 'you', 'i', 'know', 'the', 'liberal'], 'democrats', ['are', 'worried', 'about', 'the', 'economy', 'theyre', 'worried', 'its', 'going', 'to']], [['of', 'community—a', 'beautiful', 'word', 'with', 'a', 'big', 'meaning', 'though', 'liberal'], 'democrats', ['have', 'an', 'odd', 'view', 'of', 'it', 'they', 'see', 'community', 'as']], [['one', 'of', 'our', 'children', 'deserves', 'a', 'firstrate', 'school', 'the', 'liberal'], 'democrats', ['want', 'power', 'in', 'the', 'hands', 'of', 'the', 'federal', 'government', 'and']], [['impact', 'of', 'our', 'foreign', 'policy', 'failures', 'the', 'last', 'time', 'the'], 'democrats', ['controlled', 'both', 'ends', 'of', 'pennsylvania', 'avenue', 'gas', 'lines', 'grain', 'embargoes']], [['two', 'years', 'ago', 'i', 'made', 'a', 'bad', 'call', 'on', 'the'], 'democrats', ['tax', 'increase', 'i', 'underestimated', 'congress', 'addiction', 'to', 'taxes', 'with', 'my']]]\n",
      "\n",
      "\n",
      "Found 23 instances of democrats\n"
     ]
    }
   ],
   "source": [
    "democrats_kwic_r = make_kwic('democrats', republican_tokens, win=10)\n",
    "\n",
    "print(democrats_kwic_r[:15])\n",
    "print('\\n')\n",
    "print('Found {} instances of democrats'.format(len(democrats_kwic_r)))"
   ]
  },
  {
   "cell_type": "code",
   "execution_count": 59,
   "metadata": {},
   "outputs": [
    {
     "name": "stdout",
     "output_type": "stream",
     "text": [
      "[[['action', 'must', 'be', 'weighed', 'against', 'destructive', 'comment', 'and', 'reaction', 'the'], 'democrats', ['either', 'have', 'or', 'have', 'not', 'understood', 'the', 'varied', 'interests', 'of']], [['in', 'the', 'record', 'what', 'is', 'that', 'record', 'what', 'were', 'the'], 'democrats', ['called', 'into', 'power', 'to', 'do', 'what', 'things', 'had', 'long', 'waited']], [['had', 'long', 'waited', 'to', 'be', 'done', 'and', 'how', 'did', 'the'], 'democrats', ['do', 'them', 'it', 'is', 'a', 'record', 'of', 'extraordinary', 'length', 'and']], [['here', 'and', 'now', 'in', 'equal', 'measure', 'i', 'warn', 'those', 'nominal'], 'democrats', ['who', 'squint', 'at', 'the', 'future', 'with', 'their', 'faces', 'turned', 'toward']], [['the', '18th', 'amendment', 'is', 'doomed', 'when', 'that', 'happens', 'we', 'as'], 'democrats', ['must', 'and', 'will', 'rightly', 'and', 'morally', 'enable', 'the', 'states', 'to']], [['of', 'the', 'united', 'states', 'have', 'transcended', 'party', 'affiliation', 'not', 'only'], 'democrats', ['but', 'also', 'forwardlooking', 'republicans', 'and', 'millions', 'of', 'independent', 'voters', 'have']], [['you', 'join', 'me', 'in', 'gratitude', 'and', 'respect', 'for', 'the', 'great'], 'democrats', ['and', 'the', 'leaders', 'of', 'our', 'generation', 'whose', 'names', 'you', 'have']], [['of', 'this', 'convention', 'you', 'have', 'argued', 'and', 'disagreed', 'because', 'as'], 'democrats', ['you', 'care', 'and', 'you', 'cared', 'deeply', 'but', 'you', 'have', 'disagreed']], [['issues', 'sensibly', 'and', 'soberly', 'i', 'hope', 'and', 'pray', 'that', 'we'], 'democrats', ['win', 'or', 'lose', 'can', 'campaign', 'not', 'as', 'a', 'crusade', 'to']], [['generationthat', 'your', 'chairman', 'will', 'live', 'forever', 'in', 'the', 'memories', 'of'], 'democrats', ['and', 'among', 'all', 'who', 'love', 'the', 'political', 'institutions', 'of', 'this']], [['i', 'think', 'the', 'ultimate', 'indignity', 'to', 'the', 'democratic', 'process', 'we'], 'democrats', ['must', 'also', 'face', 'the', 'fact', 'that', 'no', 'president', 'and', 'no']], [['candidate', 'but', 'ignored', 'as', 'a', 'leader', 'is', 'largely', 'indebted', 'to'], 'democrats', ['in', 'congress', 'for', 'what', 'accomplishments', 'he', 'can', 'claim', 'the', 'truth']], [['johnson', 'mr', 'butler', 'senator', 'symington', 'senator', 'humphrey', 'speaker', 'rayburn', 'fellow'], 'democrats', ['i', 'want', 'to', 'express', 'my', 'thanks', 'to', 'governor', 'stevenson', 'for']], [['what', 'can', 'you', 'do', 'for', 'your', 'country', 'and', 'my', 'fellow'], 'democrats', ['and', 'fellow', 'americans', 'in', 'that', 'spirit', 'of', 'that', 'great', 'man']], [['say', 'thank', 'you', 'thank', 'you', 'mr', 'president', 'yes', 'my', 'fellow'], 'democrats', ['we', 'have', 'recognized', 'and', 'indeed', 'we', 'must', 'recognize', 'the', 'end']]]\n",
      "\n",
      "\n",
      "Found 53 instances of democrats\n"
     ]
    }
   ],
   "source": [
    "democrats_kwic_d = make_kwic('democrats', democrat_tokens, win=10)\n",
    "\n",
    "print(democrats_kwic_d[:15])\n",
    "print('\\n')\n",
    "print('Found {} instances of democrats'.format(len(democrats_kwic_d)))"
   ]
  },
  {
   "cell_type": "code",
   "execution_count": 60,
   "metadata": {},
   "outputs": [],
   "source": [
    "dem_score_dems=score_kwic(democrats_kwic_d)\n",
    "rep_score_dems=score_kwic(democrats_kwic_r)"
   ]
  },
  {
   "cell_type": "code",
   "execution_count": 61,
   "metadata": {},
   "outputs": [
    {
     "data": {
      "text/plain": [
       "(0.9266304347826086, 0.15196078431372548)"
      ]
     },
     "execution_count": 61,
     "metadata": {},
     "output_type": "execute_result"
    }
   ],
   "source": [
    "sum(dem_score_dems)/len(dem_score_dems), sum(rep_score_dems)/len(rep_score_dems)"
   ]
  },
  {
   "cell_type": "markdown",
   "metadata": {},
   "source": [
    "## \"republicans\""
   ]
  },
  {
   "cell_type": "code",
   "execution_count": 62,
   "metadata": {},
   "outputs": [
    {
     "name": "stdout",
     "output_type": "stream",
     "text": [
      "[[['make', 'ourselves', 'clear', 'on', 'the', 'question', 'of', 'international', 'relationship', 'we'], 'republicans', ['of', 'the', 'senate', 'conscious', 'of', 'our', 'solemn', 'oaths', 'and', 'mindful']], [['europes', 'misunderstanding', 'of', 'america', 'easily', 'might', 'have', 'been', 'avoided', 'the'], 'republicans', ['of', 'the', 'senate', 'halted', 'the', 'barter', 'of', 'independent', 'american', 'eminence']], [['the', 'people', 'our', 'party', 'platform', 'fairly', 'expresses', 'the', 'conscience', 'of'], 'republicans', ['on', 'industrial', 'relations', 'no', 'party', 'is', 'indifferent', 'to', 'the', 'welfare']], [['nothing', 'could', 'make', 'that', 'clearer', 'than', 'the', 'nomination', 'by', 'the'], 'republicans', ['of', 'a', 'liberal', 'democrat', 'who', 'changed', 'his', 'party', 'affiliation', 'because']], [['free', 'americans', 'face', 'the', 'spectre', 'of', 'longcontinued', 'mass', 'unemployment', 'we'], 'republicans', ['are', 'agreed', 'that', 'full', 'employment', 'shall', 'be', 'a', 'first', 'objective']], [['the', 'american', 'people', 'june', '24', '1948', 'speaker', 'martin', 'and', 'fellow'], 'republicans', ['you', 'the', 'elected', 'representatives', 'of', 'our', 'republican', 'party', 'have', 'again']], [['erect', 'and', 'free', 'july', '11', '1952', 'mr', 'chairman', 'my', 'fellow'], 'republicans', ['may', 'i', 'first', 'thank', 'you', 'on', 'behalf', 'of', 'mrs', 'eisenhower']], [['aims', 'we', 'must', 'have', 'total', 'victory', 'we', 'must', 'have', 'more'], 'republicans', ['in', 'our', 'state', 'and', 'local', 'offices', 'more', 'republican', 'governments', 'in']], [['that', 'we', 'so', 'love', 'the', 'noble', 'service', 'to', 'which', 'we'], 'republicans', ['summon', 'all', 'americans', 'is', 'not', 'only', 'for', 'one', 'campaign', 'or']], [['is', 'this', 'that', 'every', 'american', 'who', 'believes', 'as', 'we', 'dothe'], 'republicans', ['the', 'independents', 'the', 'straightthinking', 'democratsmust', 'carry', 'the', 'message', 'of', 'the']], [['technique', 'of', 'pitting', 'group', 'against', 'group', 'for', 'cheap', 'political', 'advantage'], 'republicans', ['view', 'as', 'a', 'central', 'principle', 'of', 'conductnot', 'just', 'as', 'a']], [['by', 'enlisting', 'the', 'fullest', 'energies', 'of', 'free', 'creative', 'individual', 'people'], 'republicans', ['have', 'proved', 'that', 'it', 'is', 'possible', 'for', 'a', 'government', 'to']], [['crusaders', 'we', 'can', 'produce', 'or', 'find', 'we', 'want', 'them', 'all'], 'republicans', ['independents', 'discerning', 'democratscome', 'on', 'in', 'and', 'help', 'one', 'hundred', 'years']], [['platform', 'and', 'may', 'i', 'say', 'that', 'during', 'this', 'week', 'we'], 'republicans', ['who', 'feel', 'our', 'convictions', 'strongly', 'about', 'our', 'party', 'and', 'about']], [['gracious', 'remarks', 'of', 'my', 'friend', 'nelson', 'rockefeller', 'indicated', 'tonight', 'we'], 'republicans', ['know', 'that', 'the', 'differences', 'that', 'divide', 'us', 'are', 'infinitesimal', 'compared']]]\n",
      "\n",
      "\n",
      "Found 45 instances of republicans\n"
     ]
    }
   ],
   "source": [
    "## Republican 'republicans' kwic\n",
    "republicans_kwic_r = make_kwic('republicans', republican_tokens, win=10)\n",
    "\n",
    "print(republicans_kwic_r[:15])\n",
    "print('\\n')\n",
    "print('Found {} instances of republicans'.format(len(republicans_kwic_r)))"
   ]
  },
  {
   "cell_type": "code",
   "execution_count": 63,
   "metadata": {},
   "outputs": [
    {
     "name": "stdout",
     "output_type": "stream",
     "text": [
      "[[['or', 'for', 'timidity', 'here', 'and', 'now', 'i', 'invite', 'those', 'nominal'], 'republicans', ['who', 'find', 'that', 'their', 'conscience', 'cannot', 'be', 'squared', 'with', 'the']], [['have', 'transcended', 'party', 'affiliation', 'not', 'only', 'democrats', 'but', 'also', 'forwardlooking'], 'republicans', ['and', 'millions', 'of', 'independent', 'voters', 'have', 'turned', 'to', 'progressive', 'leadership']], [['barkley', 'and', 'i', 'will', 'win', 'this', 'election', 'and', 'make', 'these'], 'republicans', ['like', 'itdont', 'you', 'forget', 'that', 'we', 'will', 'do', 'that', 'because']], [['last', 'worst', '80th', 'congress', 'proved', 'just', 'the', 'opposite', 'for', 'the'], 'republicans', ['the', 'record', 'on', 'foreign', 'policy', 'of', 'the', 'democratic', 'party', 'is']], [['and', 'we', 'have', 'converted', 'the', 'greatest', 'and', 'best', 'of', 'the'], 'republicans', ['to', 'our', 'viewpoint', 'on', 'that', 'subject', 'the', 'united', 'states', 'has']], [['the', 'league', 'of', 'nations', 'the', 'league', 'was', 'sabotaged', 'by', 'the'], 'republicans', ['in', '1920', 'and', 'we', 'must', 'see', 'that', 'the', 'united', 'nations']], [['it', 'openly', 'people', 'can', 'tell', 'where', 'they', 'stand', 'but', 'the'], 'republicans', ['all', 'professed', 'to', 'be', 'for', 'these', 'measures', 'but', 'congress', 'failed']], [['a', 'knife', 'into', 'the', 'back', 'of', 'the', 'poor', 'now', 'the'], 'republicans', ['came', 'here', 'a', 'few', 'weeks', 'ago', 'and', 'they', 'wrote', 'a']], [['circuses', 'and', 'demagoguery', 'the', 'people', 'are', 'wise', 'wiser', 'than', 'the'], 'republicans', ['think', 'and', 'the', 'democratic', 'party', 'is', 'the', 'peoples', 'party', 'not']], [['had', 'his', 'fair', 'share', 'of', 'the', 'national', 'income', 'and', 'the'], 'republicans', ['have', 'done', 'nothing', 'to', 'help', 'himuntil', 'an', 'election', 'year', 'the']], [['the', 'middle', 'of', 'the', 'roada', 'place', 'im', 'told', 'that', 'some'], 'republicans', ['likewhile', 'the', 'world', 'goes', 'whirling', 'past', 'us', 'america', 'which', 'has']], [['campaign', 'that', 'talks', 'sense', 'and', 'were', 'going', 'to', 'beat', 'the'], 'republicans', ['in', 'november', 'well', 'win', 'because', 'we', 'are', 'the', 'party', 'of']], [['support', 'well', 'make', 'great', 'partners', 'this', 'fall', 'in', 'whipping', 'the'], 'republicans', ['we', 'are', 'democrats', 'and', 'weve', 'had', 'our', 'differences', 'but', 'we']], [['future', 'by', 'rebuilding', 'our', 'military', 'strength—steadily', 'carefully', 'and', 'responsibly', 'the'], 'republicans', ['talk', 'about', 'military', 'strength', 'but', 'they', 'were', 'in', 'office', 'for']], [['the', 'past', 'long', 'after', 'the', '1973', 'arab', 'oil', 'embargo', 'the'], 'republicans', ['in', 'the', 'white', 'house', 'had', 'still', 'done', 'nothing', 'to', 'meet']]]\n",
      "\n",
      "\n",
      "Found 34 instances of republicans\n"
     ]
    }
   ],
   "source": [
    "## democrat 'republicans' kwic\n",
    "republicans_kwic_d = make_kwic('republicans', democrat_tokens, win=10)\n",
    "\n",
    "print(republicans_kwic_d[:15])\n",
    "print('\\n')\n",
    "print('Found {} instances of republicans'.format(len(republicans_kwic_d)))"
   ]
  },
  {
   "cell_type": "code",
   "execution_count": 64,
   "metadata": {},
   "outputs": [],
   "source": [
    "dem_score_rep=score_kwic(republicans_kwic_d)\n",
    "rep_score_rep=score_kwic(republicans_kwic_r)"
   ]
  },
  {
   "cell_type": "code",
   "execution_count": 65,
   "metadata": {},
   "outputs": [
    {
     "data": {
      "text/plain": [
       "(0.7366666666666666, 1.1091228070175436)"
      ]
     },
     "execution_count": 65,
     "metadata": {},
     "output_type": "execute_result"
    }
   ],
   "source": [
    "sum(dem_score_rep)/len(dem_score_rep), sum(rep_score_rep)/len(rep_score_rep)"
   ]
  },
  {
   "cell_type": "markdown",
   "metadata": {},
   "source": [
    "## \"government\" "
   ]
  },
  {
   "cell_type": "code",
   "execution_count": 66,
   "metadata": {},
   "outputs": [
    {
     "name": "stdout",
     "output_type": "stream",
     "text": [
      "[[['principles', 'of', 'our', 'civil', 'service', 'laws', 'in', 'every', 'department', 'of'], 'government', ['the', 'highest', 'efficiency', 'must', 'be', 'insisted', 'upon', 'for', 'all', 'laws']], [['from', 'the', 'very', 'beginning', 'i', 'believe', 'in', 'party', 'sponsorship', 'in'], 'government', ['i', 'believe', 'in', 'party', 'government', 'as', 'distinguished', 'from', 'personal', 'government']], [['believe', 'in', 'party', 'sponsorship', 'in', 'government', 'i', 'believe', 'in', 'party'], 'government', ['as', 'distinguished', 'from', 'personal', 'government', 'individual', 'dictatorial', 'autocratic', 'or', 'what']], [['government', 'i', 'believe', 'in', 'party', 'government', 'as', 'distinguished', 'from', 'personal'], 'government', ['individual', 'dictatorial', 'autocratic', 'or', 'what', 'not', 'in', 'a', 'citizenship', 'of']], [['to', 'give', 'to', 'this', 'republic', 'a', 'dependable', 'and', 'enduring', 'popular'], 'government', ['representative', 'in', 'form', 'and', 'it', 'was', 'designed', 'to', 'make', 'political']], [['convictions', 'and', 'conscience', 'may', 'be', 'translated', 'into', 'public', 'performance', 'popular'], 'government', ['has', 'been', 'an', 'inspiration', 'of', 'liberty', 'since', 'the', 'dawn', 'of']], [['risen', 'and', 'fallen', 'and', 'a', 'transition', 'from', 'party', 'to', 'personal'], 'government', ['has', 'preceded', 'every', 'failure', 'since', 'the', 'world', 'began', 'under', 'the']], [['has', 'expanded', 'human', 'freedom', 'it', 'has', 'been', 'wrought', 'through', 'party'], 'government', ['no', 'man', 'is', 'big', 'enough', 'to', 'run', 'this', 'great', 'republic']], [['ended', 'our', 'first', 'committal', 'is', 'the', 'restoration', 'of', 'representative', 'popular'], 'government', ['under', 'the', 'constitution', 'through', 'the', 'agency', 'of', 'the', 'republican', 'party']], [['members', 'are', 'the', 'designated', 'sentinels', 'on', 'the', 'towers', 'of', 'constitutional'], 'government', ['the', 'resumption', 'of', 'the', 'senates', 'authority', 'saved', 'to', 'this', 'republic']], [['exchange', 'for', 'an', 'obscure', 'and', 'unequal', 'place', 'in', 'the', 'merged'], 'government', ['of', 'the', 'world', 'our', 'party', 'means', 'to', 'hold', 'the', 'heritage']], [['of', 'rational', 'conscienceimpelled', 'advancement', 'we', 'hold', 'the', 'majesty', 'of', 'righteous'], 'government', ['with', 'liberty', 'under', 'the', 'law', 'to', 'be', 'our', 'avoidance', 'of']], [['made', 'us', 'what', 'we', 'are', 'and', 'we', 'will', 'have', 'orderly'], 'government', ['safeguard', 'the', 'onward', 'march', 'to', 'all', 'we', 'ought', 'to', 'be']], [['conditions', 'caused', 'by', 'the', 'war', 'the', 'manifest', 'weakness', 'in', 'popular'], 'government', ['lies', 'in', 'the', 'temptation', 'to', 'appeal', 'to', 'grouped', 'citizenship', 'for']], [['which', 'contemplates', 'all', 'america', 'as', 'one', 'people', 'and', 'holds', 'just'], 'government', ['free', 'from', 'influence', 'on', 'the', 'one', 'hand', 'and', 'unmoved', 'by']]]\n",
      "\n",
      "\n",
      "Found 282 instances of government\n"
     ]
    }
   ],
   "source": [
    "## Republican 'government' kwic\n",
    "government_kwic_r = make_kwic('government', republican_tokens, win=10)\n",
    "\n",
    "print(government_kwic_r[:15])\n",
    "print('\\n')\n",
    "print('Found {} instances of government'.format(len(government_kwic_r)))"
   ]
  },
  {
   "cell_type": "code",
   "execution_count": 67,
   "metadata": {},
   "outputs": [
    {
     "name": "stdout",
     "output_type": "stream",
     "text": [
      "[[['involved', 'in', 'the', 'present', 'and', 'immediate', 'future', 'conduct', 'of', 'our'], 'government', ['i', 'shall', 'seek', 'as', 'i', 'have', 'always', 'sought', 'to', 'justify']], [['wish', 'the', 'democratic', 'party', 'to', 'continue', 'in', 'control', 'of', 'the'], 'government', ['they', 'are', 'not', 'in', 'the', 'habit', 'of', 'rejecting', 'those', 'who']], [['have', 'anything', 'to', 'do', 'with', 'the', 'action', 'of', 'our', 'great'], 'government', ['i', 'shall', 'do', 'everything', 'in', 'my', 'power', 'to', 'prevent', 'anyone']], [['huerta', 'betrayed', 'the', 'very', 'comrades', 'he', 'served', 'traitorously', 'overthrew', 'the'], 'government', ['of', 'which', 'he', 'was', 'a', 'trusted', 'part', 'impudently', 'spoke', 'for']], [['long', 'as', 'the', 'power', 'of', 'recognition', 'rests', 'with', 'me', 'the'], 'government', ['of', 'the', 'united', 'states', 'will', 'refuse', 'to', 'extend', 'the', 'hand']], [['amongst', 'us', 'to', 'act', 'in', 'energetic', 'concert', 'and', 'for', 'the'], 'government', ['of', 'the', 'united', 'states', 'to', 'insist', 'upon', 'the', 'maintenance', 'throughout']], [['i', 'learned', 'the', 'principles', 'the', 'purposes', 'and', 'the', 'functions', 'of'], 'government', ['and', 'to', 'know', 'that', 'the', 'greatest', 'privilege', 'that', 'can', 'come']], [['i', 'accept', 'your', 'summons', 'to', 'the', 'wider', 'field', 'of', 'action'], 'government', ['should', 'be', 'constructive', 'not', 'destructive', 'progressive', 'not', 'reactionary', 'i', 'am']], [['be', 'made', 'better', 'it', 'is', 'our', 'new', 'world', 'theory', 'that'], 'government', ['exists', 'for', 'the', 'people', 'as', 'against', 'the', 'old', 'world', 'conception']], [['the', 'old', 'world', 'conception', 'that', 'the', 'people', 'exist', 'for', 'the'], 'government', ['a', 'sharp', 'line', 'separates', 'those', 'who', 'believe', 'that', 'an', 'elect']], [['of', 'the', 'governments', 'concern', 'and', 'those', 'who', 'believe', 'that', 'the'], 'government', ['is', 'the', 'agent', 'and', 'servant', 'of', 'the', 'people', 'who', 'create']], [['excuse', 'for', 'political', 'inequality', 'it', 'makes', 'the', 'concern', 'of', 'the'], 'government', ['not', 'people', 'but', 'material', 'things', 'i', 'have', 'fought', 'this', 'spirit']], [['will', 'be', 'occupied', 'by', 'the', 'friends', 'of', 'equal', 'opportunity', 'likewise'], 'government', ['policy', 'should', 'spring', 'from', 'the', 'deliberate', 'action', 'of', 'an', 'informed']], [['the', 'people', 'can', 'and', 'do', 'grasp', 'the', 'problems', 'of', 'the'], 'government', ['against', 'the', 'opposition', 'of', 'the', 'selfseeker', 'and', 'the', 'partisan', 'again']], [['projects', 'the', 'complete', 'reconstruction', 'of', 'the', 'machinery', 'of', 'the', 'state'], 'government', ['the', 'institution', 'of', 'an', 'executive', 'budget', 'these', 'are', 'but', 'a']]]\n",
      "\n",
      "\n",
      "Found 160 instances of republicans\n"
     ]
    }
   ],
   "source": [
    "## democrat 'government' kwic\n",
    "government_kwic_d = make_kwic('government', democrat_tokens, win=10)\n",
    "\n",
    "print(government_kwic_d[:15])\n",
    "print('\\n')\n",
    "print('Found {} instances of republicans'.format(len(government_kwic_d)))"
   ]
  },
  {
   "cell_type": "code",
   "execution_count": 68,
   "metadata": {},
   "outputs": [],
   "source": [
    "dem_score_gov=score_kwic(government_kwic_d)\n",
    "rep_score_gov=score_kwic(government_kwic_r)"
   ]
  },
  {
   "cell_type": "code",
   "execution_count": 69,
   "metadata": {},
   "outputs": [
    {
     "data": {
      "text/plain": [
       "(0.5996981627296593, 0.7362995198079226)"
      ]
     },
     "execution_count": 69,
     "metadata": {},
     "output_type": "execute_result"
    }
   ],
   "source": [
    "sum(dem_score_gov)/len(dem_score_gov), sum(rep_score_gov)/len(rep_score_gov)"
   ]
  },
  {
   "cell_type": "markdown",
   "metadata": {},
   "source": [
    "## \"education\" "
   ]
  },
  {
   "cell_type": "code",
   "execution_count": 70,
   "metadata": {},
   "outputs": [
    {
     "name": "stdout",
     "output_type": "stream",
     "text": [
      "[[['international', 'questions', 'there', 'are', 'problems', 'of', 'the', 'home', 'and', 'the'], 'education', ['of', 'children', 'and', 'of', 'citizenship', 'they', 'are', 'the', 'most', 'vital']], [['highest', 'of', 'all', 'perhaps', 'will', 'be', 'the', 'priority', 'of', 'firstclass'], 'education', ['to', 'meet', 'the', 'demands', 'of', 'our', 'swiftly', 'growing', 'schoolage', 'population']], [['their', 'own', 'science', 'and', 'technology', 'laborsaving', 'methods', 'management', 'labor', 'organization'], 'education', ['medicineand', 'not', 'least', 'politics', 'and', 'governmentall', 'these', 'have', 'brought', 'within']], [['america', 'young', 'americans', 'shall', 'not', 'only', 'have', 'the', 'best', 'basic'], 'education', ['in', 'america', 'but', 'every', 'boy', 'and', 'girl', 'of', 'ability', 'regardless']], [['communistled', 'mobs', 'in', 'caracas', 'and', 'tokyo', 'we', 'heard', 'that', 'american'], 'education', ['and', 'american', 'scientists', 'are', 'inferior', 'were', 'heard', 'that', 'america', 'militarily']], [['regardless', 'of', 'his', 'background', 'has', 'a', 'chance', 'for', 'the', 'best'], 'education', ['our', 'wisdom', 'and', 'schools', 'can', 'provide', 'and', 'an', 'equal', 'chance']], [['restore', 'neighborhood', 'pride', 'we', 'will', 'return', 'control', 'of', 'our', 'childrens'], 'education', ['to', 'parents', 'and', 'local', 'school', 'authorities', 'we', 'will', 'make', 'sure']], [['have', 'a', 'better', 'chance', 'in', 'life', 'than', 'we', 'had', 'an'], 'education', ['they', 'can', 'use', 'and', 'a', 'career', 'they', 'can', 'be', 'proud']], [['the', 'moment', 'not', 'for', 'the', 'nothing', 'are', 'we', 'the', 'biggest'], 'education', ['spenders', 'and', 'among', 'the', 'lowest', 'education', 'achievers', 'among', 'the', 'leading']], [['are', 'we', 'the', 'biggest', 'education', 'spenders', 'and', 'among', 'the', 'lowest'], 'education', ['achievers', 'among', 'the', 'leading', 'industrial', 'nations', 'the', 'teachers', 'unions', 'nominated']], [['the', 'teachers', 'but', 'to', 'their', 'unions', 'i', 'say', 'this', 'if'], 'education', ['were', 'a', 'war', 'you', 'would', 'be', 'losing', 'it', 'if', 'it']], [['for', 'the', 'commendable', 'privilege', 'of', 'giving', 'our', 'children', 'a', 'real'], 'education', ['there', 'is', 'no', 'reason', 'why', 'those', 'who', 'live', 'on', 'any']], [['pregnancies', 'lets', 'start', 'by', 'giving', 'all', 'our', 'children', 'a', 'firstclass'], 'education', ['and', 'i', 'also', 'want', 'these', 'children', 'to', 'inherit', 'a', 'country']], [['this', 'generation—this', 'generation', 'was', 'given', 'the', 'gift', 'of', 'the', 'best'], 'education', ['in', 'american', 'history', 'yet', 'we', 'do', 'not', 'share', 'that', 'gift']], [['independence', 'that', 'no', 'politician', 'can', 'ever', 'take', 'away', 'applause', 'on'], 'education', ['too', 'many', 'american', 'children', 'are', 'segregated', 'into', 'schools', 'without', 'standards']]]\n",
      "\n",
      "\n",
      "Found 25 instances of education\n"
     ]
    }
   ],
   "source": [
    "## Republican 'education' kwic\n",
    "education_kwic_r = make_kwic('education', republican_tokens, win=10)\n",
    "\n",
    "print(education_kwic_r[:15])\n",
    "print('\\n')\n",
    "print('Found {} instances of education'.format(len(education_kwic_r)))"
   ]
  },
  {
   "cell_type": "code",
   "execution_count": 71,
   "metadata": {},
   "outputs": [
    {
     "name": "stdout",
     "output_type": "stream",
     "text": [
      "[[['of', 'unrra', 'of', 'the', 'international', 'labor', 'conference', 'of', 'the', 'international'], 'education', ['conference', 'of', 'the', 'international', 'monetary', 'conference', 'and', 'they', 'will', 'decide']], [['bill', 'the', 'republican', 'platform', 'favors', 'educational', 'opportunity', 'and', 'promotion', 'of'], 'education', ['i', 'have', 'been', 'trying', 'to', 'get', 'congress', 'to', 'do', 'something']], [['act', 'upon', 'other', 'vitally', 'needed', 'measures', 'such', 'as', 'aid', 'to'], 'education', ['which', 'they', 'say', 'they', 'are', 'for', 'a', 'national', 'health', 'program']], [['for', 'all', 'and', 'so', 'do', 'i', 'most', 'americans', 'want', 'an'], 'education', ['for', 'every', 'child', 'to', 'the', 'limit', 'of', 'his', 'ability', 'and']], [['tonight', 'in', 'starting', 'a', 'program', 'that', 'will', 'give', 'every', 'child'], 'education', ['of', 'the', 'highest', 'quality', 'that', 'he', 'can', 'take', 'so', 'let']], [['is', 'anxious', 'and', 'willing', 'to', 'learn', 'to', 'have', 'a', 'good'], 'education', ['and', 'it', 'is', 'to', 'these', 'rights—the', 'rights', 'of', 'law', 'and']], [['carolina', 'who', 'over', 'the', 'years', 'has', 'opened', 'new', 'vistas', 'in'], 'education', ['and', 'public', 'excellence', 'terry', 'sanford', '—the', 'leader', 'who', 'in', '1968']], [['strengthen', 'the', 'government', 'closest', 'to', 'the', 'people', 'business', 'labor', 'agriculture'], 'education', ['science', 'and', 'government', 'should', 'not', 'struggle', 'in', 'isolation', 'from', 'one']], [['generation', 'we', 'can', 'have', 'an', 'america', 'that', 'provides', 'excellence', 'in'], 'education', ['to', 'my', 'child', 'and', 'your', 'child', 'and', 'every', 'child', 'we']], [['of', 'justice—the', 'justice', 'of', 'good', 'jobs', 'decent', 'health', 'care', 'quality'], 'education', ['a', 'full', 'opportunity', 'for', 'all', 'people', 'regardless', 'of', 'color', 'or']], [['young', 'do', 'not', 'need', 'more', 'help', 'in', 'getting', 'a', 'better'], 'education', ['workers', 'do', 'not', 'require', 'the', 'guarantee', 'of', 'a', 'healthy', 'and']], [['of', 'the', 'government', 'would', 'have', 'to', 'be', 'abolished', 'everything', 'from'], 'education', ['to', 'farm', 'programs', 'from', 'the', 'gi', 'bill', 'to', 'the', 'night']], [['in', 'the', 'world', 'economy', 'we', 'will', 'launch', 'a', 'renaissance', 'in'], 'education', ['in', 'science', 'and', 'learning', 'a', 'mind', 'is', 'a', 'terrible', 'thing']], [['they', 'work', 'or', 'how', 'hard', 'their', 'child', 'tries', 'a', 'college'], 'education', ['is', 'a', 'right', 'they', 'cant', 'afford', 'its', 'time', 'to', 'ask']], [['looked', 'down', 'on', 'my', 'grandfather', 'just', 'had', 'a', 'high', 'school'], 'education', ['a', 'grade', 'school', 'education', 'but', 'in', 'that', 'country', 'store', 'he']]]\n",
      "\n",
      "\n",
      "Found 57 instances of education\n"
     ]
    }
   ],
   "source": [
    "## democrat 'education' kwic\n",
    "education_kwic_d = make_kwic('education', democrat_tokens, win=10)\n",
    "\n",
    "print(education_kwic_d[:15])\n",
    "print('\\n')\n",
    "print('Found {} instances of education'.format(len(education_kwic_d)))"
   ]
  },
  {
   "cell_type": "code",
   "execution_count": 72,
   "metadata": {},
   "outputs": [],
   "source": [
    "dem_score_edu=score_kwic(education_kwic_d)\n",
    "rep_score_edu=score_kwic(education_kwic_r)"
   ]
  },
  {
   "cell_type": "code",
   "execution_count": 73,
   "metadata": {},
   "outputs": [
    {
     "data": {
      "text/plain": [
       "(0.9333703703703701, 0.5881159420289854)"
      ]
     },
     "execution_count": 73,
     "metadata": {},
     "output_type": "execute_result"
    }
   ],
   "source": [
    "sum(dem_score_edu)/len(dem_score_edu), sum(rep_score_edu)/len(rep_score_edu)"
   ]
  },
  {
   "cell_type": "markdown",
   "metadata": {},
   "source": [
    "## \"welfare\" "
   ]
  },
  {
   "cell_type": "code",
   "execution_count": 74,
   "metadata": {},
   "outputs": [
    {
     "name": "stdout",
     "output_type": "stream",
     "text": [
      "[[['republicans', 'on', 'industrial', 'relations', 'no', 'party', 'is', 'indifferent', 'to', 'the'], 'welfare', ['of', 'the', 'wageearner', 'to', 'us', 'his', 'good', 'fortune', 'is', 'of']], [['the', 'ability', 'to', 'make', 'things', 'is', 'the', 'measure', 'of', 'mans'], 'welfare', ['on', 'this', 'earth', 'to', 'be', 'free', 'man', 'must', 'be', 'creative']], [['of', 'a', 'united', 'people', 'we', 'must', 'have', 'faith', 'that', 'the'], 'welfare', ['of', 'one', 'is', 'the', 'welfare', 'of', 'all', 'we', 'must', 'know']], [['must', 'have', 'faith', 'that', 'the', 'welfare', 'of', 'one', 'is', 'the'], 'welfare', ['of', 'all', 'we', 'must', 'know', 'that', 'the', 'truth', 'can', 'only']], [['universally', 'available', 'to', 'friendly', 'nations', 'in', 'order', 'to', 'promote', 'human'], 'welfare', ['we', 'have', 'agreements', 'with', 'more', 'than', 'thirty', 'nations', 'for', 'research']], [['of', 'the', 'same—more', 'billions', 'for', 'government', 'jobs', 'government', 'housing', 'government'], 'welfare', ['i', 'say', 'it', 'is', 'time', 'to', 'quit', 'pouring', 'billions', 'of']], [['to', 'help', 'themselves—what', 'we', 'need', 'are', 'not', 'more', 'millions', 'on'], 'welfare', ['rolls—but', 'more', 'millions', 'on', 'payrolls', 'in', 'the', 'united', 'states', 'of']], [['america', 'instead', 'of', 'government', 'jobs', 'and', 'government', 'housing', 'and', 'government'], 'welfare', ['let', 'government', 'use', 'its', 'tax', 'and', 'credit', 'policies', 'to', 'enlist']], [['and', 'despair', 'he', 'fails', 'in', 'school', 'he', 'ends', 'up', 'on'], 'welfare', ['for', 'him', 'the', 'american', 'system', 'is', 'one', 'that', 'feeds', 'his']], [['be', 'very', 'grateful', 'in', 'this', 'country', 'that', 'the', 'people', 'on'], 'welfare', ['in', 'america', 'would', 'be', 'rich', 'in', 'most', 'of', 'the', 'nations']], [['proposed', 'legislation', 'which', 'would', 'add', '82', 'million', 'people', 'to', 'the'], 'welfare', ['rolls', 'i', 'say', 'that', 'instead', 'of', 'providing', 'incentives', 'for', 'millions']], [['providing', 'incentives', 'for', 'millions', 'of', 'more', 'americans', 'to', 'go', 'on'], 'welfare', ['we', 'need', 'a', 'program', 'which', 'will', 'provide', 'incentives', 'for', 'people']], [['which', 'will', 'provide', 'incentives', 'for', 'people', 'to', 'get', 'off', 'of'], 'welfare', ['and', 'to', 'get', 'to', 'work', 'we', 'believe', 'that', 'it', 'is']], [['that', 'it', 'is', 'wrong', 'for', 'anyone', 'to', 'receive', 'more', 'on'], 'welfare', ['than', 'for', 'someone', 'who', 'works', 'let', 'us', 'be', 'generous', 'to']], [['those', 'who', 'do', 'work', 'and', 'while', 'we', 'are', 'talking', 'about'], 'welfare', ['let', 'us', 'quit', 'treating', 'our', 'senior', 'citizens', 'in', 'this', 'country']]]\n",
      "\n",
      "\n",
      "Found 21 instances of welfare\n"
     ]
    }
   ],
   "source": [
    "## Republican 'welfare' kwic\n",
    "welfare_kwic_r = make_kwic('welfare', republican_tokens, win=10)\n",
    "\n",
    "print(welfare_kwic_r[:15])\n",
    "print('\\n')\n",
    "print('Found {} instances of welfare'.format(len(welfare_kwic_r)))"
   ]
  },
  {
   "cell_type": "code",
   "execution_count": 75,
   "metadata": {},
   "outputs": [
    {
     "name": "stdout",
     "output_type": "stream",
     "text": [
      "[[['i', 'emphasize', 'my', 'belief', 'that', 'legitimate', 'business', 'promotes', 'the', 'national'], 'welfare', ['let', 'me', 'warn', 'the', 'forces', 'of', 'corruption', 'and', 'favoritism', 'that']], [['appeal', 'i', 'am', 'stating', 'a', 'proposition', 'as', 'vital', 'to', 'the'], 'welfare', ['of', 'business', 'as', 'of', 'agriculture', 'with', 'the', 'exception', 'of', 'the']], [['work', 'is', 'an', 'essential', 'basis', 'of', 'the', 'nations', 'wellbeing', 'the'], 'welfare', ['of', 'our', 'country', 'therefore', 'demands', 'governmental', 'concern', 'for', 'the', 'legitimate']], [['of', 'our', 'platform', 'i', 'pledge', 'a', 'complete', 'devotion', 'to', 'the'], 'welfare', ['of', 'our', 'country', 'and', 'our', 'people', 'i', 'place', 'that', 'welfare']], [['welfare', 'of', 'our', 'country', 'and', 'our', 'people', 'i', 'place', 'that'], 'welfare', ['above', 'every', 'other', 'consideration', 'and', 'i', 'am', 'satisfied', 'that', 'our']], [['these', 'points', 'is', 'based', 'upon', 'this', 'simple', 'moral', 'principle', 'the'], 'welfare', ['and', 'the', 'soundness', 'of', 'a', 'nation', 'depend', 'first', 'upon', 'what']], [['and', 'still', 'has', 'a', 'continuing', 'responsibility', 'for', 'the', 'broader', 'public'], 'welfare', ['it', 'will', 'soon', 'fulfill', 'that', 'responsibility', 'and', 'now', 'just', 'a']], [['17', '1947and', 'i', 'set', 'out', 'a', '10point', 'program', 'for', 'the'], 'welfare', ['and', 'benefit', 'of', 'this', 'country', 'among', 'other', 'things', 'standby', 'controls']], [['support', 'too', 'many', 'others', 'mired', 'in', 'a', 'demeaning', 'and', 'hopeless'], 'welfare', ['mess', 'therefore', 'we', 'intend', 'to', 'begin', 'by', 'putting', 'millions', 'back']], [['a', 'job', 'when', 'deprivation', 'results', 'from', 'a', 'confused', 'and', 'bewildering'], 'welfare', ['system', 'they', 'never', 'do', 'without', 'food', 'or', 'clothing', 'or', 'a']], [['coast', 'to', 'coast', 'and', 'were', 'going', 'to', 'give', 'those', 'on'], 'welfare', ['the', 'chance', 'to', 'lift', 'themselves', 'out', 'of', 'poverty', 'to', 'get']], [['a', 'young', 'mother', 'named', 'dawn', 'lawson', 'leaves', 'seven', 'years', 'of'], 'welfare', ['to', 'become', 'a', 'personnel', 'specialist', 'in', 'a', 'fortune', '500', 'company']], [['new', 'covenant', 'is', 'all', 'about', 'an', 'america', 'where', 'we', 'end'], 'welfare', ['as', 'we', 'know', 'it', 'we', 'will', 'say', 'to', 'those', 'on']], [['as', 'we', 'know', 'it', 'we', 'will', 'say', 'to', 'those', 'on'], 'welfare', ['you', 'will', 'have', 'and', 'you', 'deserve', 'the', 'opportunity', 'through', 'training']], [['yourself', 'but', 'then', 'when', 'you', 'can', 'you', 'must', 'work', 'because'], 'welfare', ['should', 'be', 'a', 'second', 'chance', 'not', 'a', 'way', 'of', 'life']]]\n",
      "\n",
      "\n",
      "Found 45 instances of welfare\n"
     ]
    }
   ],
   "source": [
    "## democrat 'welfare' kwic\n",
    "welfare_kwic_d = make_kwic('welfare', democrat_tokens, win=10)\n",
    "\n",
    "print(welfare_kwic_d[:15])\n",
    "print('\\n')\n",
    "print('Found {} instances of welfare'.format(len(welfare_kwic_d)))"
   ]
  },
  {
   "cell_type": "code",
   "execution_count": 76,
   "metadata": {},
   "outputs": [],
   "source": [
    "dem_score_wel=score_kwic(welfare_kwic_d)\n",
    "rep_score_wel=score_kwic(welfare_kwic_r)"
   ]
  },
  {
   "cell_type": "code",
   "execution_count": 77,
   "metadata": {},
   "outputs": [
    {
     "data": {
      "text/plain": [
       "(0.5465277777777777, 1.2606481481481482)"
      ]
     },
     "execution_count": 77,
     "metadata": {},
     "output_type": "execute_result"
    }
   ],
   "source": [
    "sum(dem_score_wel)/len(dem_score_wel), sum(rep_score_wel)/len(rep_score_wel)"
   ]
  },
  {
   "cell_type": "markdown",
   "metadata": {},
   "source": [
    "## \"police\" "
   ]
  },
  {
   "cell_type": "code",
   "execution_count": 78,
   "metadata": {},
   "outputs": [
    {
     "name": "stdout",
     "output_type": "stream",
     "text": [
      "[[['right', 'hands', 'had', 'been', 'cut', 'off', 'by', 'saddam', 'husseins', 'secret'], 'police', ['the', 'sadistic', 'punishment', 'for', 'imaginary', 'crimes', 'during', 'our', 'emotional', 'visit']], [['moment', 'of', 'crisis', 'for', 'our', 'nation', 'the', 'attacks', 'on', 'our'], 'police', ['and', 'the', 'terrorism', 'in', 'our', 'cities', 'threaten', 'our', 'very', 'way']], [['the', 'chicago', 'area', 'since', 'he', 'took', 'office', 'the', 'number', 'of'], 'police', ['officers', 'killed', 'in', 'the', 'line', 'of', 'duty', 'has', 'risen', 'by']], [['national', 'good', 'disruption', 'in', 'the', 'audience', 'how', 'great', 'are', 'our'], 'police', ['and', 'how', 'great', 'is', 'cleveland', 'i', 'have', 'no', 'patience', 'for']], [['their', 'communities', 'america', 'was', 'shocked', 'to', 'its', 'core', 'when', 'our'], 'police', ['officers', 'in', 'dallas', 'were', 'so', 'brutally', 'executed', 'in', 'the', 'days']], [['georgia', 'missouri', 'wisconsin', 'kansas', 'michigan', 'and', 'tennessee', 'on', 'sunday', 'more'], 'police', ['were', 'gunned', 'down', 'in', 'baton', 'rouge', 'louisiana', 'three', 'were', 'killed']], [['the', 'peace', 'on', 'our', 'streets', 'and', 'the', 'safety', 'of', 'our'], 'police', ['when', 'i', 'take', 'the', 'oath', 'of', 'office', 'next', 'year', 'i']]]\n",
      "\n",
      "\n",
      "Found 7 instances of police\n"
     ]
    }
   ],
   "source": [
    "## Republican 'police' kwic\n",
    "police_kwic_r = make_kwic('police', republican_tokens, win=10)\n",
    "\n",
    "print(police_kwic_r[:15])\n",
    "print('\\n')\n",
    "print('Found {} instances of police'.format(len(police_kwic_r)))"
   ]
  },
  {
   "cell_type": "code",
   "execution_count": 79,
   "metadata": {},
   "outputs": [
    {
     "name": "stdout",
     "output_type": "stream",
     "text": [
      "[[['laws', 'or', 'our', 'attorney', 'general', 'we', 'do', 'not', 'want', 'a'], 'police', ['state', 'but', 'we', 'need', 'a', 'state', 'of', 'law', 'and', 'order']], [['state', 'of', 'law', 'and', 'order', 'we', 'do', 'not', 'want', 'a'], 'police', ['state', 'but', 'we', 'need', 'a', 'state', 'of', 'law', 'and', 'order']], [['state', 'of', 'law', 'and', 'order', 'and', 'neither', 'mob', 'violence', 'nor'], 'police', ['brutality', 'have', 'any', 'place', 'in', 'america', 'and', 'i', 'pledge', 'to']], [['way', 'it', 'works', 'cut', '100000', 'bureaucrats', 'and', 'put', '100000', 'new'], 'police', ['officers', 'on', 'the', 'streets', 'of', 'american', 'cities', 'but', 'i', 'will']], [['who', 'was', 'once', 'on', 'welfare', 'in', 'west', 'virginia', 'a', 'brave'], 'police', ['officer', 'shot', 'and', 'paralyzed', 'now', 'a', 'civic', 'leader', 'in', 'kentucky']], [['are', 'we', 'going', 'to', 'do', 'on', 'crime', 'were', 'putting', '100000'], 'police', ['on', 'the', 'streets', 'we', 'made', 'three', 'strikes', 'and', 'youre', 'out']], [['not', 'left', 'to', 'raise', 'themselves', 'on', 'the', 'streets', 'with', 'more'], 'police', ['and', 'punishment', 'and', 'prevention', 'the', 'crime', 'rate', 'has', 'dropped', 'for']], [['bullets', 'they', 'are', 'designed', 'for', 'one', 'reason', 'only', 'to', 'kill'], 'police', ['officers', 'we', 'asked', 'the', 'police', 'to', 'keep', 'us', 'safe', 'we']], [['one', 'reason', 'only', 'to', 'kill', 'police', 'officers', 'we', 'asked', 'the'], 'police', ['to', 'keep', 'us', 'safe', 'we', 'owe', 'it', 'to', 'them', 'to']], [['we', 'can', 'crack', 'the', 'bombmakers', 'to', 'extend', 'the', 'same', 'power'], 'police', ['now', 'have', 'against', 'organized', 'crime', 'to', 'save', 'lives', 'by', 'tapping']], [['i', 'studied', 'religion', 'at', 'vanderbilt', 'and', 'worked', 'nights', 'as', 'a'], 'police', ['reporter', 'at', 'the', 'nashville', 'tennessean', 'and', 'i', 'saw', 'more', 'of']], [['what', 'could', 'go', 'wrong', 'in', 'america', 'not', 'only', 'on', 'the'], 'police', ['beat', 'but', 'as', 'an', 'investigative', 'reporter', 'covering', 'local', 'government', 'i']], [['crime', 'bill', 'in', 'history', 'and', 'were', 'putting', '100000', 'new', 'community'], 'police', ['on', 'our', 'streets', 'crime', 'has', 'fallen', 'in', 'every', 'major', 'category']], [['year', 'thats', 'why', 'ill', 'fight', 'to', 'add', 'another', '50000', 'new'], 'police', ['applause', 'community', 'police', 'prevention', 'community', 'police', 'who', 'help', 'prevent', 'crime']], [['ill', 'fight', 'to', 'add', 'another', '50000', 'new', 'police', 'applause', 'community'], 'police', ['prevention', 'community', 'police', 'who', 'help', 'prevent', 'crime', 'by', 'establishing', 'real']]]\n",
      "\n",
      "\n",
      "Found 21 instances of police\n"
     ]
    }
   ],
   "source": [
    "## democrat 'police' kwic\n",
    "police_kwic_d = make_kwic('police', democrat_tokens, win=10)\n",
    "\n",
    "print(police_kwic_d[:15])\n",
    "print('\\n')\n",
    "print('Found {} instances of police'.format(len(police_kwic_d)))"
   ]
  },
  {
   "cell_type": "code",
   "execution_count": 80,
   "metadata": {},
   "outputs": [],
   "source": [
    "dem_score_pol=score_kwic(police_kwic_d)\n",
    "rep_score_pol=score_kwic(police_kwic_r)"
   ]
  },
  {
   "cell_type": "code",
   "execution_count": 81,
   "metadata": {},
   "outputs": [
    {
     "data": {
      "text/plain": [
       "(-0.7095833333333333, -1.067142857142857)"
      ]
     },
     "execution_count": 81,
     "metadata": {},
     "output_type": "execute_result"
    }
   ],
   "source": [
    "sum(dem_score_pol)/len(dem_score_pol), sum(rep_score_pol)/len(rep_score_pol)"
   ]
  },
  {
   "cell_type": "markdown",
   "metadata": {},
   "source": [
    "## \"companies\""
   ]
  },
  {
   "cell_type": "code",
   "execution_count": 82,
   "metadata": {},
   "outputs": [
    {
     "name": "stdout",
     "output_type": "stream",
     "text": [
      "[[['credit', 'we', 'prevented', 'the', 'wholesale', 'failure', 'of', 'banks', 'of', 'insurance'], 'companies', ['of', 'building', 'and', 'loan', 'associations', 'of', 'farm', 'mortgage', 'associations', 'and']], [['together', 'to', 'purchase', 'insurance', 'at', 'the', 'discounts', 'available', 'to', 'big'], 'companies', ['we', 'will', 'offer', 'a', 'tax', 'credit', 'to', 'encourage', 'small', 'businesses']], [['ive', 'fought', 'crooked', 'deals', 'in', 'the', 'pentagon', 'ive', 'fought', 'tobacco'], 'companies', ['and', 'trial', 'lawyers', 'drug', 'companies', 'and', 'union', 'bosses', 'applause', 'ive']], [['the', 'pentagon', 'ive', 'fought', 'tobacco', 'companies', 'and', 'trial', 'lawyers', 'drug'], 'companies', ['and', 'union', 'bosses', 'applause', 'ive', 'fought', 'for', 'the', 'right', 'strategy']], [['and', 'senator', 'obama', 'passed', 'another', 'corporate', 'welfare', 'bill', 'for', 'oil'], 'companies', ['we', 'lost', 'their', 'trust', 'when', 'we', 'valued', 'our', 'power', 'over']], [['secondhighest', 'business', 'tax', 'rate', 'in', 'the', 'world', 'will', 'help', 'american'], 'companies', ['compete', 'and', 'keep', 'jobs', 'from', 'going', 'overseas', 'applause', 'doubling', 'the']], [['supported', 'great', 'women', 'leaders', 'who', 'went', 'on', 'to', 'run', 'great'], 'companies', ['i', 'grew', 'up', 'in', 'detroit', 'in', 'love', 'with', 'cars', 'and']], [['idea', 'that', 'if', 'we', 'really', 'believed', 'our', 'advice', 'was', 'helping'], 'companies', ['we', 'should', 'invest', 'in', 'companies', 'we', 'should', 'bet', 'on', 'ourselves']], [['believed', 'our', 'advice', 'was', 'helping', 'companies', 'we', 'should', 'invest', 'in'], 'companies', ['we', 'should', 'bet', 'on', 'ourselves', 'and', 'on', 'our', 'advice', 'so']], [['grown', 'into', 'a', 'great', 'american', 'success', 'story', 'some', 'of', 'the'], 'companies', ['we', 'helped', 'start', 'are', 'names', 'you', 'know', 'an', 'office', 'supply']], [['all', 'of', 'america', 'and', 'i', 'am', 'not', 'going', 'to', 'let'], 'companies', ['move', 'to', 'other', 'countries', 'firing', 'their', 'employees', 'along', 'the', 'way']], [['highesttaxed', 'nations', 'in', 'the', 'world', 'reducing', 'taxes', 'will', 'cause', 'new'], 'companies', ['and', 'new', 'jobs', 'to', 'come', 'roaring', 'back', 'into', 'our', 'country']]]\n",
      "\n",
      "\n",
      "Found 12 instances of companies\n"
     ]
    }
   ],
   "source": [
    "## Republican 'companies' kwic\n",
    "companies_kwic_r = make_kwic('companies', republican_tokens, win=10)\n",
    "\n",
    "print(companies_kwic_r[:15])\n",
    "print('\\n')\n",
    "print('Found {} instances of companies'.format(len(companies_kwic_r)))"
   ]
  },
  {
   "cell_type": "code",
   "execution_count": 83,
   "metadata": {},
   "outputs": [
    {
     "name": "stdout",
     "output_type": "stream",
     "text": [
      "[[['may', 'be', 'must', 'retain', 'through', 'contractual', 'agreement', 'with', 'the', 'distributing'], 'companies', ['the', 'right', 'to', 'provide', 'fair', 'and', 'reasonable', 'rates', 'to', 'the']], [['of', 'all', 'kinds', 'federal', 'state', 'county', 'municipal', 'bonds', 'of', 'industrial'], 'companies', ['of', 'utility', 'companies', 'mortgages', 'on', 'real', 'estate', 'in', 'farms', 'and']], [['federal', 'state', 'county', 'municipal', 'bonds', 'of', 'industrial', 'companies', 'of', 'utility'], 'companies', ['mortgages', 'on', 'real', 'estate', 'in', 'farms', 'and', 'cities', 'and', 'finally']], [['as', 'now', 'their', 'policy', 'was', 'dictated', 'by', 'the', 'big', 'oil'], 'companies', ['we', 'democrats', 'fought', 'hard', 'to', 'rally', 'our', 'nation', 'behind', 'a']], [['destroy', 'the', 'windfall', 'profits', 'tax', 'and', 'to', 'unleash', 'the', 'oil'], 'companies', ['and', 'let', 'them', 'solve', 'the', 'energy', 'problem', 'for', 'us', 'thats']], [['rules', 'lets', 'get', 'with', 'it', 'in', 'america', 'again', 'to', 'big'], 'companies', ['that', 'send', 'our', 'jobs', 'overseas', 'my', 'message', 'is', 'we', 'need']], [['economy', 'i', 'do', 'he', 'wont', 'take', 'on', 'the', 'big', 'insurance'], 'companies', ['and', 'the', 'bureaucracies', 'to', 'control', 'health', 'costs', 'and', 'give', 'us']], [['you', 'must', 'do', 'your', 'part', 'you', 'must', 'be', 'responsible', 'american'], 'companies', ['must', 'act', 'like', 'american', 'companies', 'again', 'exporting', 'products', 'not', 'jobs']], [['you', 'must', 'be', 'responsible', 'american', 'companies', 'must', 'act', 'like', 'american'], 'companies', ['again', 'exporting', 'products', 'not', 'jobs', 'thats', 'what', 'this', 'new', 'covenant']], [['month', 'i', 'signed', 'a', 'law', 'imposing', 'harsh', 'sanctions', 'on', 'foreign'], 'companies', ['that', 'invest', 'in', 'key', 'sectors', 'of', 'the', 'iranian', 'and', 'libyan']], [['to', 'choose', 'between', 'food', 'and', 'medicine', 'while', 'the', 'big', 'drug'], 'companies', ['run', 'up', 'record', 'profits', 'that', 'is', 'wrong', 'applause', 'i', 'met']], [['take', 'the', 'medical', 'decisions', 'away', 'from', 'the', 'hmos', 'and', 'insurance'], 'companies', ['and', 'give', 'them', 'back', 'to', 'the', 'doctors', 'and', 'the', 'nurses']], [['tobacco', 'to', 'our', 'children', 'no', 'matter', 'how', 'hard', 'the', 'tobacco'], 'companies', ['lobby', 'and', 'no', 'matter', 'how', 'much', 'they', 'spend', 'applause', 'a']], [['side', 'will', 'not', 'they', 'give', 'in', 'to', 'the', 'big', 'drug'], 'companies', ['their', 'plan', 'tells', 'seniors', 'to', 'beg', 'the', 'hmos', 'and', 'insurance']], [['their', 'plan', 'tells', 'seniors', 'to', 'beg', 'the', 'hmos', 'and', 'insurance'], 'companies', ['for', 'prescription', 'drug', 'coverage', 'and', 'thats', 'the', 'difference', 'in', 'this']]]\n",
      "\n",
      "\n",
      "Found 30 instances of companies\n"
     ]
    }
   ],
   "source": [
    "## democrat 'companies' kwic\n",
    "companies_kwic_d = make_kwic('companies', democrat_tokens, win=10)\n",
    "\n",
    "print(companies_kwic_d[:15])\n",
    "print('\\n')\n",
    "print('Found {} instances of companies'.format(len(companies_kwic_d)))"
   ]
  },
  {
   "cell_type": "code",
   "execution_count": 84,
   "metadata": {},
   "outputs": [],
   "source": [
    "dem_score_comp=score_kwic(companies_kwic_d)\n",
    "rep_score_comp=score_kwic(companies_kwic_r)"
   ]
  },
  {
   "cell_type": "code",
   "execution_count": 85,
   "metadata": {},
   "outputs": [
    {
     "data": {
      "text/plain": [
       "(0.7467391304347827, 0.9553030303030302)"
      ]
     },
     "execution_count": 85,
     "metadata": {},
     "output_type": "execute_result"
    }
   ],
   "source": [
    "sum(dem_score_comp)/len(dem_score_comp), sum(rep_score_comp)/len(rep_score_comp)"
   ]
  },
  {
   "cell_type": "markdown",
   "metadata": {},
   "source": [
    "## \"immigrants\" "
   ]
  },
  {
   "cell_type": "code",
   "execution_count": 86,
   "metadata": {},
   "outputs": [
    {
     "name": "stdout",
     "output_type": "stream",
     "text": [
      "[[['that', 'burned', 'with', 'zeal', 'in', 'the', 'hearts', 'of', 'millions', 'of'], 'immigrants', ['from', 'every', 'corner', 'of', 'the', 'earth', 'who', 'came', 'here', 'in']], [['immigration', 'and', 'yet', 'when', 'the', 'blood', 'of', 'the', 'sons', 'of'], 'immigrants', ['and', 'the', 'grandsons', 'of', 'slaves', 'fell', 'on', 'foreign', 'fields', 'it']], [['moms', 'struggling', 'to', 'feed', 'the', 'kids', 'and', 'pay', 'the', 'rent'], 'immigrants', ['starting', 'a', 'hard', 'life', 'in', 'a', 'new', 'world', 'children', 'without']], [['what', 'brought', 'us', 'to', 'america', 'we', 'are', 'a', 'nation', 'of'], 'immigrants', ['we', 'are', 'the', 'children', 'and', 'grandchildren', 'and', 'greatgrandchildren', 'of', 'the']], [['special', 'kinship', 'with', 'the', 'future', 'when', 'every', 'new', 'wave', 'of'], 'immigrants', ['looked', 'up', 'and', 'saw', 'the', 'statue', 'of', 'liberty', 'or', 'knelt']], [['percent', 'compared', 'to', 'this', 'point', 'last', 'year', 'nearly', '180000', 'illegal'], 'immigrants', ['with', 'criminal', 'records', 'ordered', 'deported', 'from', 'our', 'country', 'are', 'tonight']], [['heard', 'from', 'three', 'parents', 'whose', 'children', 'were', 'killed', 'by', 'illegal'], 'immigrants', ['mary', 'ann', 'mendoza', 'sabine', 'durden', 'and', 'my', 'friend', 'jamiel', 'shaw']], [['your', 'jobs', 'and', 'wages', 'and', 'make', 'it', 'harder', 'for', 'recent'], 'immigrants', ['to', 'escape', 'the', 'tremendous', 'cycle', 'of', 'poverty', 'that', 'theyre', 'going']]]\n",
      "\n",
      "\n",
      "Found 8 instances of immigrants\n"
     ]
    }
   ],
   "source": [
    "## Republican 'immigrants' kwic\n",
    "immigrants_kwic_r = make_kwic('immigrants', republican_tokens, win=10)\n",
    "\n",
    "print(immigrants_kwic_r[:15])\n",
    "print('\\n')\n",
    "print('Found {} instances of immigrants'.format(len(immigrants_kwic_r)))"
   ]
  },
  {
   "cell_type": "code",
   "execution_count": 87,
   "metadata": {},
   "outputs": [
    {
     "name": "stdout",
     "output_type": "stream",
     "text": [
      "[[['the', 'opportunities', 'offered', 'by', 'america', 'the', 'rugged', 'qualities', 'of', 'our'], 'immigrants', ['have', 'helped', 'to', 'develop', 'our', 'country', 'and', 'their', 'children', 'have']], [['i', 'can', 'assure', 'you', '—', 'tonight', 'as', 'a', 'son', 'of'], 'immigrants', ['with', 'a', 'wonderful', 'wife', 'and', 'now', 'with', 'lisa', 'our', 'lovely']], [['that', 'you', 'make', 'to', 'yours', 'a', 'promise', 'that', 'has', 'led'], 'immigrants', ['to', 'cross', 'oceans', 'and', 'pioneers', 'to', 'travel', 'west', 'a', 'promise']], [['more', 'than', 'are', 'welfare', 'recipients', 'or', 'corporations', 'or', 'unions', 'or'], 'immigrants', ['or', 'gays', 'or', 'any', 'other', 'group', 'were', 'told', 'to', 'blame']], [['and', 'well', 'build', 'a', 'path', 'to', 'citizenship', 'for', 'millions', 'of'], 'immigrants', ['who', 'are', 'already', 'contributing', 'to', 'our', 'economy', 'we', 'will', 'not']], [['jobs', 'i', 'believe', 'that', 'when', 'we', 'have', 'millions', 'of', 'hardworking'], 'immigrants', ['contributing', 'to', 'our', 'economy', 'it', 'would', 'be', 'selfdefeating', 'and', 'inhumane']]]\n",
      "\n",
      "\n",
      "Found 6 instances of immigrants\n"
     ]
    }
   ],
   "source": [
    "## democrat 'immigrants' kwic\n",
    "immigrants_kwic_d = make_kwic('immigrants', democrat_tokens, win=10)\n",
    "\n",
    "print(immigrants_kwic_d[:15])\n",
    "print('\\n')\n",
    "print('Found {} instances of immigrants'.format(len(immigrants_kwic_d)))"
   ]
  },
  {
   "cell_type": "code",
   "execution_count": 88,
   "metadata": {},
   "outputs": [],
   "source": [
    "dem_score_imm=score_kwic(immigrants_kwic_d)\n",
    "rep_score_imm=score_kwic(immigrants_kwic_r)"
   ]
  },
  {
   "cell_type": "code",
   "execution_count": 89,
   "metadata": {},
   "outputs": [
    {
     "data": {
      "text/plain": [
       "(0.9800000000000001, -0.6833333333333333)"
      ]
     },
     "execution_count": 89,
     "metadata": {},
     "output_type": "execute_result"
    }
   ],
   "source": [
    "sum(dem_score_imm)/len(dem_score_imm), sum(rep_score_imm)/len(rep_score_imm)"
   ]
  },
  {
   "cell_type": "markdown",
   "metadata": {},
   "source": [
    "## \"environment\" "
   ]
  },
  {
   "cell_type": "code",
   "execution_count": 90,
   "metadata": {},
   "outputs": [
    {
     "name": "stdout",
     "output_type": "stream",
     "text": [
      "[[['strive', 'to', 'cure', 'disease', 'subdue', 'and', 'make', 'fruitful', 'our', 'natural'], 'environment', ['and', 'produce', 'the', 'inventive', 'engines', 'of', 'production', 'science', 'and', 'technology']], [['knows', 'itself', 'a', 'generation', 'determined', 'to', 'preserve', 'its', 'ideals', 'its'], 'environment', ['our', 'nation', 'and', 'the', 'world', 'my', 'fellow', 'americans', 'i', 'like']], [['will', 'not', 'permit', 'the', 'safety', 'of', 'our', 'people', 'or', 'our'], 'environment', ['heritage', 'to', 'be', 'jeopardized', 'but', 'we', 'are', 'going', 'to', 'reaffirm']], [['prosperity', 'of', 'our', 'people', 'is', 'a', 'fundamental', 'part', 'of', 'our'], 'environment', ['our', 'problems', 'are', 'both', 'acute', 'and', 'chronic', 'yet', 'all', 'we']], [['by', 'race', 'and', 'color', 'has', 'made', 'america', 'a', 'more', 'dangerous'], 'environment', ['for', 'everyone', 'than', 'frankly', 'i', 'have', 'ever', 'seen', 'and', 'anybody']]]\n",
      "\n",
      "\n",
      "Found 5 instances of environment\n"
     ]
    }
   ],
   "source": [
    "## Republican 'environment' kwic\n",
    "environment_kwic_r = make_kwic('environment', republican_tokens, win=10)\n",
    "\n",
    "print(environment_kwic_r[:15])\n",
    "print('\\n')\n",
    "print('Found {} instances of environment'.format(len(environment_kwic_r)))"
   ]
  },
  {
   "cell_type": "code",
   "execution_count": 91,
   "metadata": {},
   "outputs": [
    {
     "name": "stdout",
     "output_type": "stream",
     "text": [
      "[[['has', 'reconciled', 'its', 'economic', 'needs', 'with', 'its', 'desire', 'for', 'an'], 'environment', ['that', 'we', 'can', 'pass', 'on', 'with', 'pride', 'to', 'the', 'next']], [['employment', 'laws', 'safety', 'in', 'the', 'work', 'place', 'and', 'a', 'healthy'], 'environment', ['lately', 'as', 'you', 'know', 'the', 'republicans', 'have', 'been', 'quoting', 'democratic']], [['civil', 'rights', 'laws', 'you', 'did', 'not', 'vote', 'to', 'poison', 'the'], 'environment', ['you', 'did', 'not', 'vote', 'to', 'assault', 'the', 'poor', 'the', 'sick']], [['and', 'a', 'dedicated', 'staff', 'of', 'teachers', 'and', 'counselors', 'create', 'an'], 'environment', ['for', 'learning', 'at', 'the', 'george', 'washington', 'preparatory', 'high', 'school', 'in']], [['i', 'will', 'he', 'wont', 'take', 'the', 'lead', 'in', 'protecting', 'the'], 'environment', ['and', 'creating', 'new', 'jobs', 'in', 'environmental', 'technologies', 'for', 'the', '21st']], [['of', 'the', 'global', 'effort', 'to', 'preserve', 'and', 'protect', 'our', 'common'], 'environment', ['and', 'promoting', 'global', 'growth', 'an', 'america', 'that', 'will', 'not', 'coddle']], [['20', 'years', 'i', 'met', 'a', 'grandmother', 'fighting', 'for', 'her', 'grandsons'], 'environment', ['in', 'michigan', 'and', 'i', 'stood', 'with', 'two', 'wonderful', 'little', 'children']], [['break', 'the', 'cycle', 'of', 'poverty', 'and', 'dependence', 'to', 'protect', 'our'], 'environment', ['for', 'generations', 'to', 'come', 'and', 'to', 'maintain', 'our', 'world', 'leadership']], [['it', 'in', 'a', 'way', 'that', 'preserves', 'medicare', 'medicaid', 'education', 'the'], 'environment', ['the', 'integrity', 'of', 'our', 'pensions', 'the', 'strength', 'of', 'our', 'people']], [['cuts', 'that', 'devastate', 'education', 'for', 'our', 'children', 'that', 'pollute', 'our'], 'environment', ['that', 'end', 'the', 'guarantee', 'of', 'health', 'care', 'for', 'those', 'who']], [['for', 'even', 'bigger', 'cuts', 'in', 'medicare', 'medicaid', 'education', 'and', 'the'], 'environment', ['than', 'they', 'passed', 'and', 'i', 'vetoed', 'last', 'year', 'but', 'even']], [['bridge', 'to', 'the', '21st', 'century', 'with', 'a', 'clean', 'and', 'safe'], 'environment', ['we', 'are', 'making', 'our', 'food', 'safer', 'from', 'pesticides', 'were', 'protecting']], [['a', 'leader', 'of', 'character', 'and', 'courage', 'a', 'defender', 'of', 'the'], 'environment', ['and', 'working', 'families', 'the', 'next', 'vice', 'president', 'of', 'the', 'united']], [['safe', 'clean', 'drinking', 'water', 'applause', 'on', 'the', 'issue', 'of', 'the'], 'environment', ['ive', 'never', 'given', 'up', 'ive', 'never', 'backed', 'down', 'and', 'i']], [['prevent', 'the', 'exploitation', 'of', 'workers', 'and', 'the', 'poisoning', 'of', 'the'], 'environment', ['free', 'trade', 'can', 'and', 'must', 'be', 'and', 'if', 'im', 'president']]]\n",
      "\n",
      "\n",
      "Found 17 instances of environment\n"
     ]
    }
   ],
   "source": [
    "## democrat 'environment' kwic\n",
    "environment_kwic_d = make_kwic('environment', democrat_tokens, win=10)\n",
    "\n",
    "print(environment_kwic_d[:15])\n",
    "print('\\n')\n",
    "print('Found {} instances of environment'.format(len(environment_kwic_d)))"
   ]
  },
  {
   "cell_type": "code",
   "execution_count": 92,
   "metadata": {},
   "outputs": [],
   "source": [
    "dem_score_env=score_kwic(environment_kwic_d)\n",
    "rep_score_env=score_kwic(environment_kwic_r)"
   ]
  },
  {
   "cell_type": "code",
   "execution_count": 93,
   "metadata": {},
   "outputs": [
    {
     "data": {
      "text/plain": [
       "(0.8511764705882353, 0.14666666666666658)"
      ]
     },
     "execution_count": 93,
     "metadata": {},
     "output_type": "execute_result"
    }
   ],
   "source": [
    "sum(dem_score_env)/len(dem_score_env), sum(rep_score_env)/len(rep_score_env)"
   ]
  },
  {
   "cell_type": "markdown",
   "metadata": {},
   "source": [
    "## \"drugs\""
   ]
  },
  {
   "cell_type": "code",
   "execution_count": 95,
   "metadata": {},
   "outputs": [
    {
     "name": "stdout",
     "output_type": "stream",
     "text": [
      "[[['of', 'criminal', 'laws', 'to', 'crack', 'down', 'on', 'crime', 'and', 'illegal'], 'drugs', ['the', 'other', 'partys', 'platform', 'deplores', 'americas', '90', 'billion', 'cost', 'of']], [['we', 'could', 'get', 'the', 'lord', 'back', 'in', 'the', 'schoolrooms', 'and'], 'drugs', ['and', 'violence', 'out', 'something', 'else', 'illustrates', 'the', 'nature', 'of', 'the']], [['the', 'volunteers', 'who', 'are', 'helping', 'us', 'battle', 'the', 'scourge', 'of'], 'drugs', ['in', 'america', 'we', 'say', 'thank', 'you', 'thank', 'you', 'from', 'the']], [['in', 'the', 'opinions', 'of', 'millions', 'of', 'americans', 'is', 'crime', 'and'], 'drugs', ['illegitimacy', 'abortion', 'the', 'abdication', 'of', 'duty', 'and', 'the', 'abandonment', 'of']], [['of', 'life', 'the', 'decision', 'of', 'a', 'child', 'not', 'to', 'use'], 'drugs', ['of', 'a', 'student', 'not', 'to', 'cheat', 'of', 'a', 'young', 'woman']], [['will', 'set', 'it', 'on', 'firm', 'financial', 'ground', 'and', 'make', 'prescription'], 'drugs', ['available', 'and', 'affordable', 'for', 'every', 'senior', 'who', 'needs', 'them', 'applause']], [['without', 'fathers', 'in', 'neighborhoods', 'where', 'gangs', 'seem', 'like', 'friendship', 'or'], 'drugs', ['promise', 'peace', 'and', 'where', 'sex', 'sadly', 'seems', 'the', 'closest', 'thing']], [['them—we', 'must', 'tell', 'them—we', 'must', 'tell', 'them', 'with', 'confidence', 'that'], 'drugs', ['and', 'alcohol', 'can', 'destroy', 'you', 'and', 'bigotry', 'disfigures', 'the', 'heart']], [['stop', 'the', 'gangs', 'and', 'the', 'violence', 'and', 'to', 'stop', 'the'], 'drugs', ['from', 'pouring', 'into', 'our', 'communities', 'i', 'have', 'been', 'honored', 'to']]]\n",
      "\n",
      "\n",
      "Found 9 instances of drugs\n"
     ]
    }
   ],
   "source": [
    "## Republican 'drugs' kwic\n",
    "drugs_kwic_r = make_kwic('drugs', republican_tokens, win=10)\n",
    "\n",
    "print(drugs_kwic_r[:15])\n",
    "print('\\n')\n",
    "print('Found {} instances of drugs'.format(len(drugs_kwic_r)))"
   ]
  },
  {
   "cell_type": "code",
   "execution_count": 96,
   "metadata": {},
   "outputs": [
    {
     "name": "stdout",
     "output_type": "stream",
     "text": [
      "[[['hemisphere', 'is', 'not', 'the', 'sandinistas', '—', 'its', 'the', 'avalanche', 'of'], 'drugs', ['that', 'is', 'pouring', 'into', 'this', 'country', 'and', 'poisoning', 'our', 'kids']], [['have', 'a', 'real', 'war', 'and', 'not', 'a', 'phony', 'war', 'against'], 'drugs', ['and', 'my', 'friends', 'we', 'wont', 'be', 'doing', 'business', 'with', 'drugrunning']], [['the', 'family', 'but', 'i', 'do', 'hes', 'talked', 'a', 'lot', 'about'], 'drugs', ['but', 'he', 'hasnt', 'helped', 'people', 'on', 'the', 'front', 'line', 'to']], [['people', 'on', 'the', 'front', 'line', 'to', 'wage', 'that', 'war', 'on'], 'drugs', ['and', 'crime', 'but', 'i', 'will', 'he', 'wont', 'take', 'the', 'lead']], [['people', 'with', 'disabilities', 'or', 'helping', 'young', 'people', 'to', 'stay', 'off'], 'drugs', ['and', 'out', 'of', 'gangs', 'giving', 'us', 'all', 'a', 'sense', 'of']], [['calculator', 'can', 'do', 'in', '30000', 'years', 'more', 'rapid', 'development', 'of'], 'drugs', ['to', 'deal', 'with', 'hiv', 'and', 'aids', 'and', 'moving', 'them', 'to']], [['tougher', 'punishment', 'and', 'prevention', 'programs', 'to', 'keep', 'our', 'children', 'from'], 'drugs', ['and', 'gangs', 'and', 'violence', 'four', 'years', 'now—', 'for', 'four', 'years']], [['to', 'me', 'that', 'drug', 'use', 'among', 'young', 'people', 'is', 'up'], 'drugs', ['nearly', 'killed', 'my', 'brother', 'when', 'he', 'was', 'a', 'young', 'man']], [['some', 'of', 'our', 'young', 'people', 'they', 'simply', 'dont', 'think', 'these'], 'drugs', ['are', 'dangerous', 'anymore', 'or', 'they', 'think', 'the', 'risk', 'is', 'acceptable']], [['teach', 'this', 'generation', 'of', 'young', 'people', 'the', 'hard', 'cold', 'truth'], 'drugs', ['are', 'deadly', 'drugs', 'are', 'wrong', 'drugs', 'can', 'cost', 'you', 'your']], [['of', 'young', 'people', 'the', 'hard', 'cold', 'truth', 'drugs', 'are', 'deadly'], 'drugs', ['are', 'wrong', 'drugs', 'can', 'cost', 'you', 'your', 'life', 'general', 'barry']], [['the', 'hard', 'cold', 'truth', 'drugs', 'are', 'deadly', 'drugs', 'are', 'wrong'], 'drugs', ['can', 'cost', 'you', 'your', 'life', 'general', 'barry', 'mccaffrey', 'the', 'fourstar']], [['barry', 'mccaffrey', 'the', 'fourstar', 'general', 'who', 'led', 'our', 'fight', 'against'], 'drugs', ['in', 'latin', 'america', 'now', 'leads', 'our', 'crusade', 'against', 'drugs', 'at']], [['against', 'drugs', 'in', 'latin', 'america', 'now', 'leads', 'our', 'crusade', 'against'], 'drugs', ['at', 'home', 'stopping', 'more', 'drugs', 'at', 'our', 'borders', 'cracking', 'down']], [['now', 'leads', 'our', 'crusade', 'against', 'drugs', 'at', 'home', 'stopping', 'more'], 'drugs', ['at', 'our', 'borders', 'cracking', 'down', 'on', 'those', 'who', 'sell', 'them']]]\n",
      "\n",
      "\n",
      "Found 21 instances of drugs\n"
     ]
    }
   ],
   "source": [
    "## democrat 'drugs' kwic\n",
    "drugs_kwic_d = make_kwic('drugs', democrat_tokens, win=10)\n",
    "\n",
    "print(drugs_kwic_d[:15])\n",
    "print('\\n')\n",
    "print('Found {} instances of drugs'.format(len(drugs_kwic_d)))"
   ]
  },
  {
   "cell_type": "code",
   "execution_count": 97,
   "metadata": {},
   "outputs": [],
   "source": [
    "dem_score_drug=score_kwic(drugs_kwic_d)\n",
    "rep_score_drug=score_kwic(drugs_kwic_r)"
   ]
  },
  {
   "cell_type": "code",
   "execution_count": 98,
   "metadata": {},
   "outputs": [
    {
     "data": {
      "text/plain": [
       "(-0.828125, -0.8105555555555555)"
      ]
     },
     "execution_count": 98,
     "metadata": {},
     "output_type": "execute_result"
    }
   ],
   "source": [
    "sum(dem_score_drug)/len(dem_score_drug), sum(rep_score_drug)/len(rep_score_drug)"
   ]
  },
  {
   "cell_type": "markdown",
   "metadata": {},
   "source": [
    "## \"abortion\""
   ]
  },
  {
   "cell_type": "code",
   "execution_count": 107,
   "metadata": {},
   "outputs": [
    {
     "name": "stdout",
     "output_type": "stream",
     "text": [
      "[[['you', 'see', 'we', 'must', 'change', 'weve', 'got', 'to', 'change', 'from'], 'abortion', ['to', 'adoption', 'and', 'let', 'me', 'tell', 'you', 'this', 'barbara', 'and']], [['opinions', 'of', 'millions', 'of', 'americans', 'is', 'crime', 'and', 'drugs', 'illegitimacy'], 'abortion', ['the', 'abdication', 'of', 'duty', 'and', 'the', 'abandonment', 'of', 'children', 'and']], [['notification', 'and', 'when', 'congress', 'sends', 'me', 'a', 'bill', 'against', 'partialbirth'], 'abortion', ['i', 'will', 'sign', 'it', 'into', 'law', 'applause', 'behind', 'every', 'goal']]]\n",
      "\n",
      "\n",
      "Found 3 instances of abortion\n"
     ]
    }
   ],
   "source": [
    "## Republican 'abortion' kwic\n",
    "abortion_kwic_r = make_kwic('abortion', republican_tokens, win=10)\n",
    "\n",
    "print(abortion_kwic_r[:15])\n",
    "print('\\n')\n",
    "print('Found {} instances of abortion'.format(len(abortion_kwic_r)))"
   ]
  },
  {
   "cell_type": "code",
   "execution_count": 108,
   "metadata": {},
   "outputs": [
    {
     "name": "stdout",
     "output_type": "stream",
     "text": [
      "[[['individual', 'conscience', 'of', 'every', 'american', 'on', 'the', 'painful', 'issue', 'of'], 'abortion', ['but', 'believe', 'as', 'a', 'matter', 'of', 'law', 'that', 'this', 'decision']], [['a', 'woman', 'her', 'conscience', 'her', 'doctor', 'and', 'her', 'god', 'but'], 'abortion', ['should', 'not', 'only', 'be', 'safe', 'and', 'legal', 'it', 'should', 'be']], [['what', 'we', 'have', 'to', 'restore', 'we', 'may', 'not', 'agree', 'on'], 'abortion', ['but', 'surely', 'we', 'can', 'agree', 'on', 'reducing', 'the', 'number', 'of']]]\n",
      "\n",
      "\n",
      "Found 3 instances of abortion\n"
     ]
    }
   ],
   "source": [
    "## democrat 'abortion' kwic\n",
    "abortion_kwic_d = make_kwic('abortion', democrat_tokens, win=10)\n",
    "\n",
    "print(abortion_kwic_d[:15])\n",
    "print('\\n')\n",
    "print('Found {} instances of abortion'.format(len(abortion_kwic_d)))"
   ]
  },
  {
   "cell_type": "code",
   "execution_count": 109,
   "metadata": {},
   "outputs": [],
   "source": [
    "dem_score_abort=score_kwic(abortion_kwic_d)\n",
    "rep_score_abort=score_kwic(abortion_kwic_r)"
   ]
  },
  {
   "cell_type": "code",
   "execution_count": 110,
   "metadata": {},
   "outputs": [
    {
     "data": {
      "text/plain": [
       "(0.5155555555555555, -0.32500000000000007)"
      ]
     },
     "execution_count": 110,
     "metadata": {},
     "output_type": "execute_result"
    }
   ],
   "source": [
    "sum(dem_score_abort)/len(dem_score_abort), sum(rep_score_abort)/len(rep_score_abort)"
   ]
  },
  {
   "cell_type": "code",
   "execution_count": null,
   "metadata": {},
   "outputs": [],
   "source": []
  }
 ],
 "metadata": {
  "kernelspec": {
   "display_name": "Python 3",
   "language": "python",
   "name": "python3"
  },
  "language_info": {
   "codemirror_mode": {
    "name": "ipython",
    "version": 3
   },
   "file_extension": ".py",
   "mimetype": "text/x-python",
   "name": "python",
   "nbconvert_exporter": "python",
   "pygments_lexer": "ipython3",
   "version": "3.7.3"
  }
 },
 "nbformat": 4,
 "nbformat_minor": 2
}
