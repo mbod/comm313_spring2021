{
 "cells": [
  {
   "cell_type": "markdown",
   "metadata": {},
   "source": [
    "# Keyness Analysis (R v. D)"
   ]
  },
  {
   "cell_type": "markdown",
   "metadata": {},
   "source": [
    "## Setup"
   ]
  },
  {
   "cell_type": "code",
   "execution_count": 2,
   "metadata": {},
   "outputs": [],
   "source": [
    "import os\n",
    "\n",
    "from collections import Counter\n",
    "\n",
    "%matplotlib inline\n",
    "\n",
    "import os\n",
    "import re\n",
    "import csv\n",
    "import pandas as pd\n",
    "import numpy as np\n",
    "import matplotlib.pyplot as plt\n",
    "\n",
    "from nltk import tokenize\n",
    "from nltk.sentiment.vader import SentimentIntensityAnalyzer"
   ]
  },
  {
   "cell_type": "code",
   "execution_count": 3,
   "metadata": {},
   "outputs": [],
   "source": [
    "## Parameters\n",
    "to_strip = ',.\\xa0:-()\\';$\"/?][!`Ą@Ś§¨’–“”…ï‘>&\\\\%˝˘*'"
   ]
  },
  {
   "cell_type": "code",
   "execution_count": 19,
   "metadata": {},
   "outputs": [],
   "source": [
    "## Open speeches\n",
    "all_speeches_r = open('data/republican_all.txt').read()\n",
    "all_speeches_d = open('data/democrat_all.txt').read()"
   ]
  },
  {
   "cell_type": "markdown",
   "metadata": {},
   "source": [
    "## Functions"
   ]
  },
  {
   "cell_type": "code",
   "execution_count": 20,
   "metadata": {},
   "outputs": [],
   "source": [
    " %run functions.ipynb"
   ]
  },
  {
   "cell_type": "markdown",
   "metadata": {},
   "source": [
    "## Get n-Gram Distributions"
   ]
  },
  {
   "cell_type": "code",
   "execution_count": 1,
   "metadata": {},
   "outputs": [
    {
     "name": "stdout",
     "output_type": "stream",
     "text": [
      "98055 tokens in the Republican convention nominee speeches\n",
      "91071 tokens in the Democratic convention nominee speeches\n"
     ]
    }
   ],
   "source": [
    "%run n-gram_frequency_analysis.ipynb"
   ]
  },
  {
   "cell_type": "markdown",
   "metadata": {},
   "source": [
    "## Keyness Analysis"
   ]
  },
  {
   "cell_type": "code",
   "execution_count": 3,
   "metadata": {},
   "outputs": [
    {
     "name": "stdout",
     "output_type": "stream",
     "text": [
      "WORD                     Corpus A Freq.Corpus B Freq.Keyness\n",
      "============================================================\n",
      "we've                    66        17        34.642\n",
      "democratic               96        36        32.925\n",
      "john                     42        8         27.935\n",
      "family                   112       52        27.139\n",
      "that's                   94        40        26.576\n",
      "can                      368       268       24.069\n",
      "—                        51        16        21.907\n",
      "platform                 58        23        18.337\n",
      "college                  40        12        18.052\n",
      "working                  69        31        17.761\n",
      "families                 87        44        17.745\n",
      "go                       106       60        16.551\n",
      "bridge                   27        6         16.055\n",
      "kennedy                  27        6         16.055\n",
      "care                     72        36        15.048\n",
      "al                       26        6         15.002\n",
      "afford                   24        5         14.988\n",
      "you                      634       545       14.935\n",
      "bill                     49        20        14.818\n",
      "democrats                53        23        14.497\n",
      "nor                      25        6         13.963\n",
      "rights                   67        34        13.566\n",
      "education                54        25        13.155\n",
      "here                     144       97        13.037\n",
      "met                      32        11        12.323\n",
      "want                     145       100       11.982\n",
      "powerful                 28        9         11.697\n",
      "do                       295       236       11.668\n",
      "pay                      66        36        11.318\n",
      "out                      143       100       11.168\n",
      "truth                    55        28        11.059\n",
      "tariff                   22        6         10.943\n",
      "part                     64        35        10.905\n",
      "welfare                  45        21        10.799\n",
      "they                     453       389       10.765\n",
      "we're                    88        55        10.325\n",
      "ought                    23        7         10.219\n",
      "mother                   31        12        10.159\n",
      "about                    182       137       10.140\n",
      "should                   156       114       10.042\n",
      "police                   21        6         9.974\n",
      "value                    26        9         9.924\n",
      "teachers                 24        8         9.601\n",
      "health                   64        37        9.445\n",
      "together                 81        51        9.282\n",
      "if                       198       154       9.257\n",
      "so                       286       236       9.217\n",
      "fair                     41        20        9.019\n",
      "off                      41        20        9.019\n",
      "where                    121       86        8.823\n",
      "–                        81        52        8.705\n",
      "companies                29        12        8.582\n",
      "words                    47        25        8.559\n",
      "easy                     21        7         8.401\n",
      "farm                     33        15        8.317\n",
      "hard                     60        36        7.974\n",
      "play                     22        8         7.872\n",
      "talking                  17        5         7.835\n",
      "time                     198       159       7.648\n",
      "all                      466       418       7.376\n",
      "control                  45        25        7.372\n",
      "or                       322       278       7.312\n",
      "party                    206       168       7.196\n",
      "senator                  34        17        7.106\n",
      "stronger                 27        12        7.085\n",
      "challenges               21        8         7.043\n",
      "new                      288       247       6.916\n",
      "environment              16        5         6.903\n",
      "just                     155       122       6.765\n",
      "values                   55        34        6.680\n",
      "yes                      36        19        6.676\n",
      "citizen                  22        9         6.629\n"
     ]
    }
   ],
   "source": [
    "calculate_keyness(word_freq_d, word_freq_r)"
   ]
  },
  {
   "cell_type": "code",
   "execution_count": 4,
   "metadata": {},
   "outputs": [
    {
     "name": "stdout",
     "output_type": "stream",
     "text": [
      "WORD                     Corpus A Freq.Corpus B Freq.Keyness\n",
      "============================================================\n",
      "democratic party         49        9         33.386\n",
      "the democratic           59        16        29.510\n",
      "if you                   51        16        21.907\n",
      "an america               32        7         19.263\n",
      "can do                   44        14        18.598\n",
      "we can                   113       63        18.348\n",
      "i want                   83        42        16.910\n",
      "by the                   112       65        16.357\n",
      "you can                  37        12        15.295\n",
      "we should                36        12        14.402\n",
      "do it                    36        12        14.402\n",
      "here tonight             26        8         11.414\n",
      "for all                  70        39        11.386\n",
      "health care              37        15        11.309\n",
      "the old                  29        10        11.124\n",
      "this country             77        45        11.031\n",
      "people of                52        26        10.868\n",
      "to make                  85        52        10.661\n",
      "what the                 28        10        10.264\n",
      "should be                48        24        10.032\n",
      "family and               21        6         9.974\n",
      "the truth                41        19        9.970\n",
      "know what                19        5         9.778\n",
      "middle class             19        5         9.778\n",
      "have to                  59        33        9.502\n",
      "we're going              41        20        9.019\n",
      "as president             28        11        8.978\n",
      "time to                  46        25        7.959\n",
      "the people               126       93        7.737\n",
      "need to                  32        15        7.615\n",
      "and for                  45        25        7.373\n",
      "part of                  41        22        7.315\n",
      "my mother                18        6         7.201\n",
      "say to                   30        14        7.200\n",
      "and you                  24        10        7.024\n",
      "not by                   16        5         6.903\n",
      "that's what              16        5         6.903\n",
      "want to                  78        53        6.833\n",
      "has the                  19        7         6.679\n",
      "ought to                 19        7         6.679\n",
      "our own                  45        26        6.652\n"
     ]
    }
   ],
   "source": [
    "calculate_keyness(bigram_freq_d,  bigram_freq_r)"
   ]
  },
  {
   "cell_type": "code",
   "execution_count": 5,
   "metadata": {},
   "outputs": [
    {
     "name": "stdout",
     "output_type": "stream",
     "text": [
      "WORD                     Corpus A Freq.Corpus B Freq.Keyness\n",
      "============================================================\n",
      "the democratic party     47        8         33.590\n",
      "we can do                24        7         11.160\n",
      "the people of            40        18        10.268\n",
      "i want to                46        23        9.615\n",
      "we're going to           41        20        9.020\n",
      "of this country          21        8         7.044\n"
     ]
    }
   ],
   "source": [
    "calculate_keyness(trigram_freq_d, trigram_freq_r)"
   ]
  },
  {
   "cell_type": "code",
   "execution_count": null,
   "metadata": {},
   "outputs": [],
   "source": []
  }
 ],
 "metadata": {
  "kernelspec": {
   "display_name": "Python 3",
   "language": "python",
   "name": "python3"
  },
  "language_info": {
   "codemirror_mode": {
    "name": "ipython",
    "version": 3
   },
   "file_extension": ".py",
   "mimetype": "text/x-python",
   "name": "python",
   "nbconvert_exporter": "python",
   "pygments_lexer": "ipython3",
   "version": "3.7.3"
  }
 },
 "nbformat": 4,
 "nbformat_minor": 2
}
