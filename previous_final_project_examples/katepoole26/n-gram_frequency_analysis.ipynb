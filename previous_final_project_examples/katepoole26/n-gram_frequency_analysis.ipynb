{
 "cells": [
  {
   "cell_type": "markdown",
   "metadata": {},
   "source": [
    "# n-Gram Frequency Distribution Analysis (R v. D)"
   ]
  },
  {
   "cell_type": "markdown",
   "metadata": {},
   "source": [
    "## Setup"
   ]
  },
  {
   "cell_type": "code",
   "execution_count": 2,
   "metadata": {},
   "outputs": [],
   "source": [
    "import os\n",
    "\n",
    "from collections import Counter\n",
    "\n",
    "%matplotlib inline\n",
    "\n",
    "import os\n",
    "import re\n",
    "import csv\n",
    "import pandas as pd\n",
    "import numpy as np\n",
    "import matplotlib.pyplot as plt\n",
    "\n",
    "from nltk import tokenize\n",
    "from nltk.sentiment.vader import SentimentIntensityAnalyzer"
   ]
  },
  {
   "cell_type": "code",
   "execution_count": 3,
   "metadata": {},
   "outputs": [],
   "source": [
    "## Parameters\n",
    "to_strip = ',.\\xa0:-()\\';$\"/?][!`Ą@Ś§¨’–“”…ï‘>&\\\\%˝˘*'"
   ]
  },
  {
   "cell_type": "code",
   "execution_count": 8,
   "metadata": {},
   "outputs": [],
   "source": [
    "## Open speeches\n",
    "all_speeches_r = open('data/republican_all.txt').read()\n",
    "all_speeches_d = open('data/democrat_all.txt').read()"
   ]
  },
  {
   "cell_type": "markdown",
   "metadata": {},
   "source": [
    "## Functions"
   ]
  },
  {
   "cell_type": "code",
   "execution_count": 24,
   "metadata": {},
   "outputs": [],
   "source": [
    " %run functions.ipynb"
   ]
  },
  {
   "cell_type": "markdown",
   "metadata": {},
   "source": [
    "## Speech Tokens"
   ]
  },
  {
   "cell_type": "code",
   "execution_count": 25,
   "metadata": {},
   "outputs": [
    {
     "name": "stdout",
     "output_type": "stream",
     "text": [
      "98055 tokens in the Republican convention nominee speeches\n",
      "91071 tokens in the Democratic convention nominee speeches\n"
     ]
    }
   ],
   "source": [
    "republicantokens = tokenize(all_speeches_r)\n",
    "democrattokens = tokenize(all_speeches_d)\n",
    "\n",
    "print('{} tokens in the Republican convention nominee speeches'.format(len(republicantokens)))\n",
    "print('{} tokens in the Democratic convention nominee speeches'.format(len(democrattokens)))"
   ]
  },
  {
   "cell_type": "markdown",
   "metadata": {},
   "source": [
    "## n-gram Frequencies - Republicans"
   ]
  },
  {
   "cell_type": "code",
   "execution_count": 32,
   "metadata": {},
   "outputs": [],
   "source": [
    "## Split speeches by white space \n",
    "r_split = all_speeches_r.split('\\n\\n')"
   ]
  },
  {
   "cell_type": "code",
   "execution_count": 45,
   "metadata": {},
   "outputs": [
    {
     "data": {
      "text/plain": [
       "[('the', 5671),\n",
       " ('and', 3705),\n",
       " ('of', 3595),\n",
       " ('to', 3145),\n",
       " ('in', 2077),\n",
       " ('a', 1787),\n",
       " ('we', 1535),\n",
       " ('that', 1530),\n",
       " ('i', 1472),\n",
       " ('our', 1315),\n",
       " ('is', 1157),\n",
       " ('for', 1128),\n",
       " ('it', 899),\n",
       " ('have', 846),\n",
       " ('this', 809),\n",
       " ('will', 802),\n",
       " ('be', 640),\n",
       " ('not', 638),\n",
       " ('are', 595),\n",
       " ('you', 545),\n",
       " ('with', 538),\n",
       " ('but', 513),\n",
       " ('on', 502),\n",
       " ('my', 488),\n",
       " ('as', 465),\n",
       " ('america', 457),\n",
       " ('their', 424),\n",
       " ('all', 418),\n",
       " ('by', 416),\n",
       " ('people', 396)]"
      ]
     },
     "execution_count": 45,
     "metadata": {},
     "output_type": "execute_result"
    }
   ],
   "source": [
    "word_freq_r = Counter()\n",
    "bigram_freq_r = Counter()\n",
    "trigram_freq_r = Counter()\n",
    "\n",
    "for speech in r_split: \n",
    "    r_replaced = speech.replace(': ', ' ').replace(',', '').replace('.', '')\n",
    "    r_lower = r_replaced.lower()\n",
    "    tokens_r = tokenize(r_lower)\n",
    "    word_freq_r.update(tokens_r)\n",
    "    bigrams_r = get_bigram_tokens(tokens_r)\n",
    "    bigram_freq_r.update(bigrams_r)\n",
    "    trigrams_r = get_ngram_tokens(tokens_r, n = 3)\n",
    "    trigram_freq_r.update(trigrams_r)\n",
    "\n",
    "word_freq_r.most_common(30)"
   ]
  },
  {
   "cell_type": "code",
   "execution_count": 46,
   "metadata": {},
   "outputs": [
    {
     "data": {
      "text/plain": [
       "[('of the', 728),\n",
       " ('in the', 507),\n",
       " ('to the', 346),\n",
       " ('and the', 239),\n",
       " ('of our', 218),\n",
       " ('for the', 217),\n",
       " ('the world', 216),\n",
       " ('it is', 215),\n",
       " ('we have', 192),\n",
       " ('and i', 183),\n",
       " ('we will', 172),\n",
       " ('we are', 163),\n",
       " ('on the', 148),\n",
       " ('the american', 147),\n",
       " ('i have', 146),\n",
       " ('we must', 146),\n",
       " ('is the', 140),\n",
       " ('will be', 136),\n",
       " ('the united', 135),\n",
       " ('united states', 133),\n",
       " ('to be', 130),\n",
       " ('in this', 128),\n",
       " ('in our', 119),\n",
       " ('that we', 116),\n",
       " ('i am', 115),\n",
       " ('and we', 112),\n",
       " ('i will', 111),\n",
       " ('that the', 109),\n",
       " ('in a', 107),\n",
       " ('is a', 102)]"
      ]
     },
     "execution_count": 46,
     "metadata": {},
     "output_type": "execute_result"
    }
   ],
   "source": [
    "bigram_freq_r.most_common(30)"
   ]
  },
  {
   "cell_type": "code",
   "execution_count": 47,
   "metadata": {},
   "outputs": [
    {
     "data": {
      "text/plain": [
       "[('the united states', 131),\n",
       " ('in the world', 77),\n",
       " ('the american people', 76),\n",
       " ('of the united', 70),\n",
       " ('of the world', 43),\n",
       " ('president of the', 39),\n",
       " ('the republican party', 37),\n",
       " ('of the american', 34),\n",
       " ('my fellow americans', 32),\n",
       " ('are going to', 32),\n",
       " ('men and women', 31),\n",
       " ('it is the', 28),\n",
       " ('we are going', 27),\n",
       " ('i believe in', 26),\n",
       " ('there is no', 26),\n",
       " ('one of the', 26),\n",
       " ('united states of', 23),\n",
       " ('states of america', 23),\n",
       " ('i want to', 23),\n",
       " ('it is a', 22),\n",
       " ('in this country', 21),\n",
       " ('and i am', 21),\n",
       " ('and we will', 21),\n",
       " ('the federal government', 21),\n",
       " ('that we have', 21),\n",
       " ('the party of', 21),\n",
       " ('not going to', 21),\n",
       " ('and in the', 20),\n",
       " ('i believe that', 20),\n",
       " (\"we're going to\", 20)]"
      ]
     },
     "execution_count": 47,
     "metadata": {},
     "output_type": "execute_result"
    }
   ],
   "source": [
    "trigram_freq_r.most_common(30)"
   ]
  },
  {
   "cell_type": "markdown",
   "metadata": {},
   "source": [
    "## n-gram Frequencies - Democrats"
   ]
  },
  {
   "cell_type": "code",
   "execution_count": 33,
   "metadata": {},
   "outputs": [],
   "source": [
    "## Split speeches by white space \n",
    "d_split = all_speeches_d.split('\\n\\n')"
   ]
  },
  {
   "cell_type": "code",
   "execution_count": 40,
   "metadata": {},
   "outputs": [
    {
     "data": {
      "text/plain": [
       "[('the', 5284),\n",
       " ('and', 3622),\n",
       " ('of', 3144),\n",
       " ('to', 2881),\n",
       " ('a', 1721),\n",
       " ('in', 1703),\n",
       " ('that', 1497),\n",
       " ('we', 1365),\n",
       " ('i', 1311),\n",
       " ('for', 1128),\n",
       " ('our', 1128),\n",
       " ('is', 972),\n",
       " ('it', 770),\n",
       " ('have', 764),\n",
       " ('this', 651),\n",
       " ('you', 634),\n",
       " ('will', 591),\n",
       " ('not', 575),\n",
       " ('are', 569),\n",
       " ('be', 545),\n",
       " ('with', 509),\n",
       " ('as', 501),\n",
       " ('but', 488),\n",
       " ('on', 474),\n",
       " ('all', 466),\n",
       " ('they', 453),\n",
       " ('who', 423),\n",
       " ('my', 418),\n",
       " ('by', 418),\n",
       " ('people', 390)]"
      ]
     },
     "execution_count": 40,
     "metadata": {},
     "output_type": "execute_result"
    }
   ],
   "source": [
    "word_freq_d = Counter()\n",
    "bigram_freq_d = Counter()\n",
    "trigram_freq_d = Counter()\n",
    "\n",
    "for speech in d_split: \n",
    "    d_replaced = speech.replace(': ', ' ').replace(',', '').replace('.', '')\n",
    "    d_lower = d_replaced.lower()\n",
    "    tokens_d = tokenize(d_lower)\n",
    "    word_freq_d.update(tokens_d)\n",
    "    bigrams_d = get_bigram_tokens(tokens_d)\n",
    "    bigram_freq_d.update(bigrams_d)\n",
    "    trigrams_d = get_ngram_tokens(tokens_d, n = 3)\n",
    "    trigram_freq_d.update(trigrams_d)\n",
    "    \n",
    "word_freq_d.most_common(30)"
   ]
  },
  {
   "cell_type": "code",
   "execution_count": 41,
   "metadata": {
    "scrolled": true
   },
   "outputs": [
    {
     "data": {
      "text/plain": [
       "[('of the', 660),\n",
       " ('in the', 457),\n",
       " ('to the', 286),\n",
       " ('and the', 242),\n",
       " ('for the', 220),\n",
       " ('we have', 206),\n",
       " ('of our', 205),\n",
       " ('and i', 181),\n",
       " ('it is', 155),\n",
       " ('on the', 154),\n",
       " ('is the', 136),\n",
       " ('to be', 134),\n",
       " ('we are', 130),\n",
       " ('we will', 129),\n",
       " ('the people', 126),\n",
       " ('the world', 119),\n",
       " ('we must', 117),\n",
       " ('that the', 115),\n",
       " ('we can', 113),\n",
       " ('by the', 112),\n",
       " ('i will', 112),\n",
       " ('of a', 111),\n",
       " ('in this', 109),\n",
       " ('the american', 102),\n",
       " ('i am', 101),\n",
       " ('that we', 100),\n",
       " ('and we', 97),\n",
       " ('the united', 96),\n",
       " ('i have', 93),\n",
       " ('with the', 93)]"
      ]
     },
     "execution_count": 41,
     "metadata": {},
     "output_type": "execute_result"
    }
   ],
   "source": [
    "bigram_freq_d.most_common(30)"
   ]
  },
  {
   "cell_type": "code",
   "execution_count": 43,
   "metadata": {},
   "outputs": [
    {
     "data": {
      "text/plain": [
       "[('the united states', 90),\n",
       " ('of the united', 64),\n",
       " ('the american people', 63),\n",
       " ('the democratic party', 47),\n",
       " ('i want to', 46),\n",
       " (\"we're going to\", 41),\n",
       " ('the people of', 40),\n",
       " ('in the world', 31),\n",
       " ('my fellow americans', 31),\n",
       " ('of the world', 30),\n",
       " ('men and women', 30),\n",
       " ('president of the', 29),\n",
       " ('be able to', 28),\n",
       " ('the 21st century', 27),\n",
       " ('and we will', 24),\n",
       " ('we can do', 24),\n",
       " ('the party of', 23),\n",
       " ('this is the', 23),\n",
       " ('and i will', 23),\n",
       " ('the republican party', 21),\n",
       " ('of this country', 21),\n",
       " ('all of us', 21),\n",
       " ('bridge to the', 21),\n",
       " ('and in the', 20),\n",
       " ('in the last', 20),\n",
       " ('one of the', 20),\n",
       " ('of the democratic', 20),\n",
       " ('that is the', 20),\n",
       " ('it is time', 20),\n",
       " ('to the 21st', 20)]"
      ]
     },
     "execution_count": 43,
     "metadata": {},
     "output_type": "execute_result"
    }
   ],
   "source": [
    "trigram_freq_d.most_common(30)"
   ]
  }
 ],
 "metadata": {
  "kernelspec": {
   "display_name": "Python 3",
   "language": "python",
   "name": "python3"
  },
  "language_info": {
   "codemirror_mode": {
    "name": "ipython",
    "version": 3
   },
   "file_extension": ".py",
   "mimetype": "text/x-python",
   "name": "python",
   "nbconvert_exporter": "python",
   "pygments_lexer": "ipython3",
   "version": "3.7.3"
  }
 },
 "nbformat": 4,
 "nbformat_minor": 2
}
