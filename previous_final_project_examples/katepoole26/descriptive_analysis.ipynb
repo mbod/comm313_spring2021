{
 "cells": [
  {
   "cell_type": "markdown",
   "metadata": {},
   "source": [
    "# Descriptive Analysis (R v. D)\n",
    "\n",
    "### Notebook goals: \n",
    "- Offer preliminary description of the dimensions of the data (democrats v. republicans)\n",
    "- Provide basic insight into the contents of the data"
   ]
  },
  {
   "cell_type": "markdown",
   "metadata": {},
   "source": [
    "## Set up"
   ]
  },
  {
   "cell_type": "code",
   "execution_count": 1,
   "metadata": {},
   "outputs": [],
   "source": [
    "import os\n",
    "\n",
    "from collections import Counter\n",
    "\n",
    "%matplotlib inline\n",
    "\n",
    "import os\n",
    "import re\n",
    "import csv\n",
    "import pandas as pd\n",
    "import numpy as np\n",
    "import matplotlib.pyplot as plt\n",
    "\n",
    "from nltk import tokenize\n",
    "from nltk.sentiment.vader import SentimentIntensityAnalyzer"
   ]
  },
  {
   "cell_type": "code",
   "execution_count": 2,
   "metadata": {},
   "outputs": [],
   "source": [
    "## Parameters\n",
    "to_strip = ',.\\xa0:-()\\';$\"/?][!`Ą@Ś§¨’–“”…ï‘>&\\\\%˝˘*'"
   ]
  },
  {
   "cell_type": "markdown",
   "metadata": {},
   "source": [
    "## Functions"
   ]
  },
  {
   "cell_type": "code",
   "execution_count": 3,
   "metadata": {},
   "outputs": [],
   "source": [
    " %run functions.ipynb"
   ]
  },
  {
   "cell_type": "markdown",
   "metadata": {},
   "source": [
    "## Data Files"
   ]
  },
  {
   "cell_type": "markdown",
   "metadata": {},
   "source": [
    "#### Data organization: \n",
    "* I have ordered my data in the POOLE final data folder by party, and then additionally ordered the files by date (in ascending order).\n",
    "* The dimensions of the analysis span from 1916 - 2016, and they were all collected from one source, UCBS's American Presidency Project website. (https://www.presidency.ucsb.edu/documents/presidential-documents-archive-guidebook/nomination-acceptance-speeches)\n",
    "* The size of units within my analysis are roughly 4 years (although there are larger gaps in the early 1900s). All of the articles of analysis were made at a national level, and they include both conservative and liberal units."
   ]
  },
  {
   "cell_type": "code",
   "execution_count": 4,
   "metadata": {},
   "outputs": [],
   "source": [
    "repub_all = os.listdir('data/republicans/')\n",
    "\n",
    "dem_all = os.listdir('data/democrats/')"
   ]
  },
  {
   "cell_type": "code",
   "execution_count": 5,
   "metadata": {},
   "outputs": [
    {
     "data": {
      "text/plain": [
       "['1916_Hughes_R.txt',\n",
       " '1920_Harding_R.txt',\n",
       " '1932_Hoover_R.txt',\n",
       " '1940_Willkie_R.txt',\n",
       " '1944_Dewey_R.txt',\n",
       " '1948_Dewey_R.txt',\n",
       " '1952_Eisenhower_R.txt',\n",
       " '1956_Eisenhower_R.txt',\n",
       " '1960_Nixon_R.txt',\n",
       " '1964_Goldwater_R.txt',\n",
       " '1968_Nixon_R.txt',\n",
       " '1972_Nixon_R.txt',\n",
       " '1976_Ford_R.txt',\n",
       " '1980_Reagan_R.txt',\n",
       " '1984_Reagan_R.txt',\n",
       " '1988_Bush_R.txt',\n",
       " '1992_Bush_R.txt',\n",
       " '1996_Dole_R.txt',\n",
       " '2000_W_Bush_R.txt',\n",
       " '2004_W_Bush_R.txt',\n",
       " '2008_Mccain_R.txt',\n",
       " '2012_Romney_R.txt',\n",
       " '2016_Trump_R.txt']"
      ]
     },
     "execution_count": 5,
     "metadata": {},
     "output_type": "execute_result"
    }
   ],
   "source": [
    "sorted(repub_all)"
   ]
  },
  {
   "cell_type": "code",
   "execution_count": 6,
   "metadata": {},
   "outputs": [
    {
     "data": {
      "text/plain": [
       "['1916_Wilson_D.txt',\n",
       " '1928_Smith_D.txt',\n",
       " '1932_Roosevelt_D.txt',\n",
       " '1936_Roosevelt_D.txt',\n",
       " '1944_Roosevelt_D.txt',\n",
       " '1948_Truman_D.txt',\n",
       " '1952_Stevenson_D.txt',\n",
       " '1956_Stevenson_D.txt',\n",
       " '1960_Kennedy_D.txt',\n",
       " '1964_Johnson_D.txt',\n",
       " '1968_Humphrey_D.txt',\n",
       " '1972_Mcgovern_D.txt',\n",
       " '1976_Carter_D.txt',\n",
       " '1980_Carter_D.txt',\n",
       " '1984_Mondale_D.txt',\n",
       " '1988_Dukakis_D.txt',\n",
       " '1992_B_Clinton_D.txt',\n",
       " '1996_B_Clinton_D.txt',\n",
       " '2000_Gore_D.txt',\n",
       " '2004_Kerry_D.txt',\n",
       " '2008_Obama_D.txt',\n",
       " '2012_Obama_D.txt',\n",
       " '2016_H_Clinton_D.txt']"
      ]
     },
     "execution_count": 6,
     "metadata": {},
     "output_type": "execute_result"
    }
   ],
   "source": [
    "sorted(dem_all)"
   ]
  },
  {
   "cell_type": "markdown",
   "metadata": {},
   "source": [
    "## Data Descriptives"
   ]
  },
  {
   "cell_type": "code",
   "execution_count": 7,
   "metadata": {},
   "outputs": [],
   "source": [
    "## open speech files \n",
    "all_speeches_r = open('data/republican_all.txt').read()\n",
    "all_speeches_d = open('data/democrat_all.txt').read()"
   ]
  },
  {
   "cell_type": "code",
   "execution_count": 8,
   "metadata": {},
   "outputs": [
    {
     "name": "stdout",
     "output_type": "stream",
     "text": [
      "repub_all\t23\tspeeches\n",
      "dem_all  \t23\tspeeches\n"
     ]
    }
   ],
   "source": [
    "## how many speeches are made by each party?\n",
    "print('{}\\t{}\\t{}'.format(\"repub_all\", len(repub_all), \"speeches\"))\n",
    "print('{}\\t{}\\t{}'.format(\"dem_all  \", len(dem_all), \"speeches\"))"
   ]
  },
  {
   "cell_type": "code",
   "execution_count": 9,
   "metadata": {},
   "outputs": [
    {
     "name": "stdout",
     "output_type": "stream",
     "text": [
      "all_speeches_r\t560637\twords\n",
      "all_speeches_d\t512144\twords\n"
     ]
    }
   ],
   "source": [
    "## how many words in all Republican and Democratic speeches\n",
    "print('{}\\t{}\\t{}'.format(\"all_speeches_r\", len(all_speeches_r), \"words\"))\n",
    "print('{}\\t{}\\t{}'.format(\"all_speeches_d\", len(all_speeches_d), \"words\"))"
   ]
  }
 ],
 "metadata": {
  "kernelspec": {
   "display_name": "Python 3",
   "language": "python",
   "name": "python3"
  },
  "language_info": {
   "codemirror_mode": {
    "name": "ipython",
    "version": 3
   },
   "file_extension": ".py",
   "mimetype": "text/x-python",
   "name": "python",
   "nbconvert_exporter": "python",
   "pygments_lexer": "ipython3",
   "version": "3.7.3"
  }
 },
 "nbformat": 4,
 "nbformat_minor": 2
}
