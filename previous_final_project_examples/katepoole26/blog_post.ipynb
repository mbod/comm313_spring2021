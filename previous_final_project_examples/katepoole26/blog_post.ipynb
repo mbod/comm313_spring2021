{
 "cells": [
  {
   "cell_type": "markdown",
   "metadata": {},
   "source": [
    "# Assessing Political Directives of the Republican and Democratic Parties\n",
    "\n",
    "### What are the primary differences in the Democratic and Republican party's national platforms? Have these policy priorities endured over time?"
   ]
  },
  {
   "cell_type": "markdown",
   "metadata": {},
   "source": [
    "Katherine Poole   \n",
    "COMM 313 Final Project"
   ]
  },
  {
   "cell_type": "markdown",
   "metadata": {},
   "source": [
    "<img src=\"img/FIGHT.png\" width=\"600\"/>"
   ]
  },
  {
   "cell_type": "markdown",
   "metadata": {},
   "source": [
    "#### Background\n",
    "\n",
    "American politics are an ideological battle field and have only become more bitter in their division as time progresses. Since the partisan realignment following the Civil War and reconstruction, the Republicans have come to be known as the party which champions traditional values, freedom, and American identity, whereas the Democrats have amassed a message primarily focused on tolerance, equality, and care for one another. These values have appear to have endured as central tenets of the American two-party system since its inception, underscoring the inherent differences between the parties as they approach nearly all policy issues. As a third-party viewer, we are inundated with Republican and Democratic party differences daily via fervent media reporting and analyses, which tend to focus on the same current talking points. However, much of the public fails to find information beyond media portrayal, which has resulted in what can be considered homogenizing message and compiling of the parties behind the media's chosen portrayal. This analysis aims to extend understanding of inter-party differences beyond what we are fed in the media as well as strive to understand if these differences have endured the test of time. What exactly is it that makes the Democrats and Republicans so different?\n",
    "\n",
    "#### Guiding Question\n",
    "*What policy opinions and directives have resulted in the hostile partisan divide between the Democrats and the Republicans? Are these differences consistent and enduring?*"
   ]
  },
  {
   "cell_type": "markdown",
   "metadata": {},
   "source": [
    "#### The Corpus\n",
    "\n",
    "The corpus that I have collected for this analysis includes both the Democratic and Republican nominee speeches from the Presidential Nomination Convention. All speeches were found at the University of California Santa Barbara's Presidential Library archives (https://www.presidency.ucsb.edu/documents/presidential-documents-archive-guidebook/nomination-acceptance-speeches). The earliest Democratic speech is from 1916 (Woodrow Wilson) and the earliest Republican nominee speech is from 1864 (Abraham Lincoln). I only collected and analyze the speeches after 1916 in order to normalize the timelines. Additionally, the Democratic and Republican parties realigned during reconstruction - early 1900's, and so 1916 is a better gauge for modern beliefs of the parties."
   ]
  },
  {
   "cell_type": "markdown",
   "metadata": {},
   "source": [
    "This analysis will be split into four distinct parts:   \n",
    "\n",
    "\n",
    "**1. Descriptive analysis**  \n",
    "**2. n-Gram Frequency Analyses**  \n",
    "**3. Keyness Analysis**  \n",
    "**4. KWIC and Sentiment Analysis**\n",
    "\n",
    "These choices of analyses were made in order to broadly understand the corpuses and then delve deeper into their hidden occupants. Let's begin!"
   ]
  },
  {
   "cell_type": "markdown",
   "metadata": {},
   "source": [
    "## Setup & Load Data"
   ]
  },
  {
   "cell_type": "code",
   "execution_count": 4,
   "metadata": {},
   "outputs": [],
   "source": [
    "import os\n",
    "import re\n",
    "import csv\n",
    "import pandas as pd\n",
    "import numpy as np\n",
    "import matplotlib.pyplot as plt\n",
    "\n",
    "from nltk import tokenize\n",
    "from nltk.sentiment.vader import SentimentIntensityAnalyzer"
   ]
  },
  {
   "cell_type": "code",
   "execution_count": 5,
   "metadata": {},
   "outputs": [],
   "source": [
    "%%capture\n",
    "\n",
    "%run descriptive_analysis.ipynb\n",
    "%run keyness_analysis.ipynb\n",
    "%run KWIC&sentiment_analysis.ipynb\n",
    "%run n-gram_frequency_analysis.ipynb\n",
    "%run functions.ipynb\n"
   ]
  },
  {
   "cell_type": "code",
   "execution_count": 6,
   "metadata": {},
   "outputs": [],
   "source": [
    "sid = SentimentIntensityAnalyzer()"
   ]
  },
  {
   "cell_type": "markdown",
   "metadata": {},
   "source": [
    "## Democrats v. Republicans on a National Platform"
   ]
  },
  {
   "cell_type": "markdown",
   "metadata": {},
   "source": [
    "### Descriptive Analysis\n",
    "\n",
    "The two corpuses that are to be compared in the proceeding analysis each contain 23 speeches spanning the years from 1916 - 2016. The speeches were all made on a national dimension, with an intended audience of the american people at large, however more specifically geared towards each individual party's members. Let us understand some basics about the two corpuses. "
   ]
  },
  {
   "cell_type": "code",
   "execution_count": 7,
   "metadata": {},
   "outputs": [
    {
     "name": "stdout",
     "output_type": "stream",
     "text": [
      "['1916_Hughes_R.txt', '1920_Harding_R.txt', '1932_Hoover_R.txt', '1940_Willkie_R.txt', '1944_Dewey_R.txt', '1948_Dewey_R.txt', '1952_Eisenhower_R.txt', '1956_Eisenhower_R.txt', '1960_Nixon_R.txt', '1964_Goldwater_R.txt', '1968_Nixon_R.txt', '1972_Nixon_R.txt', '1976_Ford_R.txt', '1980_Reagan_R.txt', '1984_Reagan_R.txt', '1988_Bush_R.txt', '1992_Bush_R.txt', '1996_Dole_R.txt', '2000_W_Bush_R.txt', '2004_W_Bush_R.txt', '2008_Mccain_R.txt', '2012_Romney_R.txt', '2016_Trump_R.txt']\n",
      "\n",
      "\n",
      "repub_all\t23\tspeeches\n",
      "\n",
      "\n",
      "all_speeches_r\t560637\twords\n"
     ]
    }
   ],
   "source": [
    "print(sorted(repub_all))\n",
    "print('\\n')\n",
    "print('{}\\t{}\\t{}'.format(\"repub_all\", len(repub_all), \"speeches\"))\n",
    "print('\\n')\n",
    "print('{}\\t{}\\t{}'.format(\"all_speeches_r\", len(all_speeches_r), \"words\"))"
   ]
  },
  {
   "cell_type": "code",
   "execution_count": 8,
   "metadata": {},
   "outputs": [
    {
     "name": "stdout",
     "output_type": "stream",
     "text": [
      "['1916_Wilson_D.txt', '1928_Smith_D.txt', '1932_Roosevelt_D.txt', '1936_Roosevelt_D.txt', '1944_Roosevelt_D.txt', '1948_Truman_D.txt', '1952_Stevenson_D.txt', '1956_Stevenson_D.txt', '1960_Kennedy_D.txt', '1964_Johnson_D.txt', '1968_Humphrey_D.txt', '1972_Mcgovern_D.txt', '1976_Carter_D.txt', '1980_Carter_D.txt', '1984_Mondale_D.txt', '1988_Dukakis_D.txt', '1992_B_Clinton_D.txt', '1996_B_Clinton_D.txt', '2000_Gore_D.txt', '2004_Kerry_D.txt', '2008_Obama_D.txt', '2012_Obama_D.txt', '2016_H_Clinton_D.txt']\n",
      "\n",
      "\n",
      "dem_all\t23\tspeeches\n",
      "\n",
      "\n",
      "all_speeches_d\t512144\twords\n"
     ]
    }
   ],
   "source": [
    "print(sorted(dem_all))\n",
    "print('\\n')\n",
    "print('{}\\t{}\\t{}'.format(\"dem_all\", len(dem_all), \"speeches\"))\n",
    "print('\\n')\n",
    "print('{}\\t{}\\t{}'.format(\"all_speeches_d\", len(all_speeches_d), \"words\"))"
   ]
  },
  {
   "cell_type": "markdown",
   "metadata": {},
   "source": [
    "Despite sharing the same speech dimensions, it appears that the Republican's boast quite a few more words than the Democrats. Are the Republicans more eager to share their policy agendas? Or are the Democrats politicians of few words? Let us take a deeper look into the corpuses to understand what is happening under the surface."
   ]
  },
  {
   "cell_type": "markdown",
   "metadata": {},
   "source": [
    "### n-Gram Frequency Distributions"
   ]
  },
  {
   "cell_type": "code",
   "execution_count": 9,
   "metadata": {},
   "outputs": [
    {
     "data": {
      "text/plain": [
       "([('the', 5671),\n",
       "  ('and', 3705),\n",
       "  ('of', 3595),\n",
       "  ('to', 3145),\n",
       "  ('in', 2077),\n",
       "  ('a', 1787),\n",
       "  ('we', 1535),\n",
       "  ('that', 1530),\n",
       "  ('i', 1472),\n",
       "  ('our', 1315),\n",
       "  ('is', 1157),\n",
       "  ('for', 1128),\n",
       "  ('it', 899),\n",
       "  ('have', 846),\n",
       "  ('this', 809),\n",
       "  ('will', 802),\n",
       "  ('be', 640),\n",
       "  ('not', 638),\n",
       "  ('are', 595),\n",
       "  ('you', 545),\n",
       "  ('with', 538),\n",
       "  ('but', 513),\n",
       "  ('on', 502),\n",
       "  ('my', 488),\n",
       "  ('as', 465),\n",
       "  ('america', 457),\n",
       "  ('their', 424),\n",
       "  ('all', 418),\n",
       "  ('by', 416),\n",
       "  ('people', 396)],\n",
       " [('the', 5284),\n",
       "  ('and', 3622),\n",
       "  ('of', 3144),\n",
       "  ('to', 2881),\n",
       "  ('a', 1721),\n",
       "  ('in', 1703),\n",
       "  ('that', 1497),\n",
       "  ('we', 1365),\n",
       "  ('i', 1311),\n",
       "  ('for', 1128),\n",
       "  ('our', 1128),\n",
       "  ('is', 972),\n",
       "  ('it', 770),\n",
       "  ('have', 764),\n",
       "  ('this', 651),\n",
       "  ('you', 634),\n",
       "  ('will', 591),\n",
       "  ('not', 575),\n",
       "  ('are', 569),\n",
       "  ('be', 545),\n",
       "  ('with', 509),\n",
       "  ('as', 501),\n",
       "  ('but', 488),\n",
       "  ('on', 474),\n",
       "  ('all', 466),\n",
       "  ('they', 453),\n",
       "  ('who', 423),\n",
       "  ('my', 418),\n",
       "  ('by', 418),\n",
       "  ('people', 390)])"
      ]
     },
     "execution_count": 9,
     "metadata": {},
     "output_type": "execute_result"
    }
   ],
   "source": [
    "word_freq_r.most_common(30), word_freq_d.most_common(30)"
   ]
  },
  {
   "cell_type": "markdown",
   "metadata": {},
   "source": [
    "The Republicans and the Democrats appear to share many similarities in terms of their most commonly used words. Let us look at bigrams and trigrams in order to assess if there is more noticeable a difference between corpuses there."
   ]
  },
  {
   "cell_type": "code",
   "execution_count": 10,
   "metadata": {},
   "outputs": [
    {
     "data": {
      "text/plain": [
       "([('of the', 728),\n",
       "  ('in the', 507),\n",
       "  ('to the', 346),\n",
       "  ('and the', 239),\n",
       "  ('of our', 218),\n",
       "  ('for the', 217),\n",
       "  ('the world', 216),\n",
       "  ('it is', 215),\n",
       "  ('we have', 192),\n",
       "  ('and i', 183),\n",
       "  ('we will', 172),\n",
       "  ('we are', 163),\n",
       "  ('on the', 148),\n",
       "  ('the american', 147),\n",
       "  ('i have', 146),\n",
       "  ('we must', 146),\n",
       "  ('is the', 140),\n",
       "  ('will be', 136),\n",
       "  ('the united', 135),\n",
       "  ('united states', 133),\n",
       "  ('to be', 130),\n",
       "  ('in this', 128),\n",
       "  ('in our', 119),\n",
       "  ('that we', 116),\n",
       "  ('i am', 115),\n",
       "  ('and we', 112),\n",
       "  ('i will', 111),\n",
       "  ('that the', 109),\n",
       "  ('in a', 107),\n",
       "  ('is a', 102)],\n",
       " [('of the', 660),\n",
       "  ('in the', 457),\n",
       "  ('to the', 286),\n",
       "  ('and the', 242),\n",
       "  ('for the', 220),\n",
       "  ('we have', 206),\n",
       "  ('of our', 205),\n",
       "  ('and i', 181),\n",
       "  ('it is', 155),\n",
       "  ('on the', 154),\n",
       "  ('is the', 136),\n",
       "  ('to be', 134),\n",
       "  ('we are', 130),\n",
       "  ('we will', 129),\n",
       "  ('the people', 126),\n",
       "  ('the world', 119),\n",
       "  ('we must', 117),\n",
       "  ('that the', 115),\n",
       "  ('we can', 113),\n",
       "  ('by the', 112),\n",
       "  ('i will', 112),\n",
       "  ('of a', 111),\n",
       "  ('in this', 109),\n",
       "  ('the american', 102),\n",
       "  ('i am', 101),\n",
       "  ('that we', 100),\n",
       "  ('and we', 97),\n",
       "  ('the united', 96),\n",
       "  ('i have', 93),\n",
       "  ('with the', 93)])"
      ]
     },
     "execution_count": 10,
     "metadata": {},
     "output_type": "execute_result"
    }
   ],
   "source": [
    "bigram_freq_r.most_common(30), bigram_freq_d.most_common(30)"
   ]
  },
  {
   "cell_type": "code",
   "execution_count": 11,
   "metadata": {},
   "outputs": [
    {
     "data": {
      "text/plain": [
       "([('the united states', 131),\n",
       "  ('in the world', 77),\n",
       "  ('the american people', 76),\n",
       "  ('of the united', 70),\n",
       "  ('of the world', 43),\n",
       "  ('president of the', 39),\n",
       "  ('the republican party', 37),\n",
       "  ('of the american', 34),\n",
       "  ('my fellow americans', 32),\n",
       "  ('are going to', 32),\n",
       "  ('men and women', 31),\n",
       "  ('it is the', 28),\n",
       "  ('we are going', 27),\n",
       "  ('i believe in', 26),\n",
       "  ('there is no', 26),\n",
       "  ('one of the', 26),\n",
       "  ('united states of', 23),\n",
       "  ('states of america', 23),\n",
       "  ('i want to', 23),\n",
       "  ('it is a', 22),\n",
       "  ('in this country', 21),\n",
       "  ('and i am', 21),\n",
       "  ('and we will', 21),\n",
       "  ('the federal government', 21),\n",
       "  ('that we have', 21),\n",
       "  ('the party of', 21),\n",
       "  ('not going to', 21),\n",
       "  ('and in the', 20),\n",
       "  ('i believe that', 20),\n",
       "  (\"we're going to\", 20)],\n",
       " [('the united states', 90),\n",
       "  ('of the united', 64),\n",
       "  ('the american people', 63),\n",
       "  ('the democratic party', 47),\n",
       "  ('i want to', 46),\n",
       "  (\"we're going to\", 41),\n",
       "  ('the people of', 40),\n",
       "  ('in the world', 31),\n",
       "  ('my fellow americans', 31),\n",
       "  ('of the world', 30),\n",
       "  ('men and women', 30),\n",
       "  ('president of the', 29),\n",
       "  ('be able to', 28),\n",
       "  ('the 21st century', 27),\n",
       "  ('and we will', 24),\n",
       "  ('we can do', 24),\n",
       "  ('the party of', 23),\n",
       "  ('this is the', 23),\n",
       "  ('and i will', 23),\n",
       "  ('the republican party', 21),\n",
       "  ('of this country', 21),\n",
       "  ('all of us', 21),\n",
       "  ('bridge to the', 21),\n",
       "  ('and in the', 20),\n",
       "  ('in the last', 20),\n",
       "  ('one of the', 20),\n",
       "  ('of the democratic', 20),\n",
       "  ('that is the', 20),\n",
       "  ('it is time', 20),\n",
       "  ('to the 21st', 20)])"
      ]
     },
     "execution_count": 11,
     "metadata": {},
     "output_type": "execute_result"
    }
   ],
   "source": [
    "trigram_freq_r.most_common(30), trigram_freq_d.most_common(30)"
   ]
  },
  {
   "cell_type": "markdown",
   "metadata": {},
   "source": [
    "Both the bigram and trigram lists share remarkable similarities. Given the large scope of the corpuses, and their equivalent intentions and delivery settings, this occurrence is sound. Despite their difference in parties, politicians generally employ similar speaking patterns and repeat age-old phrases (e.g. \"the united states\", \"my fellow americans\", \"the american people\"), hence why the trigram distributions are so similar. Democratic presidential nominees and Republican presidential nominees are very similar in their goal, which is to become the President of the United States. And given their goal alignment and necessity to appeal to a broad audience (not only their party, but the entire American populace), they must employ similar speaking tactics and methods. Their differences emerge when it gets into their policy platforms and directives. Let's explore some keywords via keyness analysis to better understand."
   ]
  },
  {
   "cell_type": "markdown",
   "metadata": {},
   "source": [
    "### Keyness Analysis"
   ]
  },
  {
   "cell_type": "markdown",
   "metadata": {},
   "source": [
    "Although examining frequencies of n-gram tokens did little to offer significant evidence detailing the differences between the Republican and Democrat corpuses, I hypothesize that a keyness analysis can do more to offer insight into the party's inherent differences due to the fact that keyness is able to distinguish key words rather than simply frequently repeated words (and bigrams and trigrams). Let's compare."
   ]
  },
  {
   "cell_type": "code",
   "execution_count": 12,
   "metadata": {},
   "outputs": [
    {
     "name": "stdout",
     "output_type": "stream",
     "text": [
      "WORD                     Corpus A Freq.Corpus B Freq.Keyness\n",
      "============================================================\n",
      "we've                    66        17        34.642\n",
      "democratic               96        36        32.925\n",
      "john                     42        8         27.935\n",
      "family                   112       52        27.139\n",
      "that's                   94        40        26.576\n",
      "can                      368       268       24.069\n",
      "—                        51        16        21.907\n",
      "platform                 58        23        18.337\n",
      "college                  40        12        18.052\n",
      "working                  69        31        17.761\n",
      "families                 87        44        17.745\n",
      "go                       106       60        16.551\n",
      "bridge                   27        6         16.055\n",
      "kennedy                  27        6         16.055\n",
      "care                     72        36        15.048\n",
      "al                       26        6         15.002\n",
      "afford                   24        5         14.988\n",
      "you                      634       545       14.935\n",
      "bill                     49        20        14.818\n",
      "democrats                53        23        14.497\n",
      "nor                      25        6         13.963\n",
      "rights                   67        34        13.566\n",
      "education                54        25        13.155\n",
      "here                     144       97        13.037\n",
      "met                      32        11        12.323\n",
      "want                     145       100       11.982\n",
      "powerful                 28        9         11.697\n",
      "do                       295       236       11.668\n",
      "pay                      66        36        11.318\n",
      "out                      143       100       11.168\n",
      "truth                    55        28        11.059\n",
      "tariff                   22        6         10.943\n",
      "part                     64        35        10.905\n",
      "welfare                  45        21        10.799\n",
      "they                     453       389       10.765\n",
      "we're                    88        55        10.325\n",
      "ought                    23        7         10.219\n",
      "mother                   31        12        10.159\n",
      "about                    182       137       10.140\n",
      "should                   156       114       10.042\n",
      "police                   21        6         9.974\n",
      "value                    26        9         9.924\n",
      "teachers                 24        8         9.601\n",
      "health                   64        37        9.445\n",
      "together                 81        51        9.282\n",
      "if                       198       154       9.257\n",
      "so                       286       236       9.217\n",
      "fair                     41        20        9.019\n",
      "off                      41        20        9.019\n",
      "where                    121       86        8.823\n",
      "–                        81        52        8.705\n",
      "companies                29        12        8.582\n",
      "words                    47        25        8.559\n",
      "easy                     21        7         8.401\n",
      "farm                     33        15        8.317\n",
      "hard                     60        36        7.974\n",
      "play                     22        8         7.872\n",
      "talking                  17        5         7.835\n",
      "time                     198       159       7.648\n",
      "all                      466       418       7.376\n",
      "control                  45        25        7.372\n",
      "or                       322       278       7.312\n",
      "party                    206       168       7.196\n",
      "senator                  34        17        7.106\n",
      "stronger                 27        12        7.085\n",
      "challenges               21        8         7.043\n",
      "new                      288       247       6.916\n",
      "environment              16        5         6.903\n",
      "just                     155       122       6.765\n",
      "values                   55        34        6.680\n",
      "yes                      36        19        6.676\n",
      "citizen                  22        9         6.629\n"
     ]
    }
   ],
   "source": [
    "calculate_keyness(word_freq_d, word_freq_r)"
   ]
  },
  {
   "cell_type": "markdown",
   "metadata": {},
   "source": [
    "The initial keyness analysis between corpuses offers multiple interesting results. Specifically, this output reports significant differences between the frequencies and keyness' of words which are traditionally aligned with the Democratic party and it's policy motives. The words in question include: **education**, **teachers**, **rights**, and **environment.**\n",
    "\n",
    "Additionally, more frequent usage of family related words, such as **\"mother\"** and **\"families\"** is an interesting observation. Perhaps the Democrat's are more inclined to discuss their own families and family values?\n"
   ]
  },
  {
   "cell_type": "code",
   "execution_count": 13,
   "metadata": {},
   "outputs": [
    {
     "name": "stdout",
     "output_type": "stream",
     "text": [
      "WORD                     Corpus A Freq.Corpus B Freq.Keyness\n",
      "============================================================\n",
      "democratic party         49        9         33.386\n",
      "the democratic           59        16        29.510\n",
      "if you                   51        16        21.907\n",
      "an america               32        7         19.263\n",
      "can do                   44        14        18.598\n",
      "we can                   113       63        18.348\n",
      "i want                   83        42        16.910\n",
      "by the                   112       65        16.357\n",
      "you can                  37        12        15.295\n",
      "we should                36        12        14.402\n",
      "do it                    36        12        14.402\n",
      "here tonight             26        8         11.414\n",
      "for all                  70        39        11.386\n",
      "health care              37        15        11.309\n",
      "the old                  29        10        11.124\n",
      "this country             77        45        11.031\n",
      "people of                52        26        10.868\n",
      "to make                  85        52        10.661\n",
      "what the                 28        10        10.264\n",
      "should be                48        24        10.032\n",
      "family and               21        6         9.974\n",
      "the truth                41        19        9.970\n",
      "know what                19        5         9.778\n",
      "middle class             19        5         9.778\n",
      "have to                  59        33        9.502\n",
      "we're going              41        20        9.019\n",
      "as president             28        11        8.978\n",
      "time to                  46        25        7.959\n",
      "the people               126       93        7.737\n",
      "need to                  32        15        7.615\n",
      "and for                  45        25        7.373\n",
      "part of                  41        22        7.315\n",
      "my mother                18        6         7.201\n",
      "say to                   30        14        7.200\n",
      "and you                  24        10        7.024\n",
      "not by                   16        5         6.903\n",
      "that's what              16        5         6.903\n",
      "want to                  78        53        6.833\n",
      "has the                  19        7         6.679\n",
      "ought to                 19        7         6.679\n",
      "our own                  45        26        6.652\n"
     ]
    }
   ],
   "source": [
    "calculate_keyness(bigram_freq_d,  bigram_freq_r)"
   ]
  },
  {
   "cell_type": "markdown",
   "metadata": {},
   "source": [
    "Similar to the word frequency analysis, the bigram frequency analysis heavily features word pairs that have primarily become associated with the Democratic party and its values, and for many, have become the rallying cry for the Democratic party's appeal to the marginalized sects of our society. These bigrams are: **health care** and **middle class.**\n",
    "\n",
    "Let us move on to KWIC analyses to delve deeper into the context surrounding the usage of these words."
   ]
  },
  {
   "cell_type": "markdown",
   "metadata": {},
   "source": [
    "### KWIC Analysis & Sentiment Scoring\n",
    "\n",
    "The keyness analyses highlighted numerous key terms which were of interest and related to policy platforms and directives. Some of these that particularly sparked my interest include: \n",
    "\n",
    "    • \"america\"\n",
    "    • \"democrats\"\n",
    "    • \"environment\"\n",
    "    \n",
    " Additionally, although the words **\"abortion\"** and **\"immigrants\"** were not specifically isolated within the keyness analysis, these are both hot button and polarized words in politics, and so I am going to include them in the proceeding analyses.  \n",
    "    "
   ]
  },
  {
   "cell_type": "markdown",
   "metadata": {},
   "source": [
    "#### \"america\""
   ]
  },
  {
   "cell_type": "code",
   "execution_count": 14,
   "metadata": {},
   "outputs": [
    {
     "name": "stdout",
     "output_type": "stream",
     "text": [
      "[[['world', 'and', 'the', 'tragedy', 'of', 'disappointment', 'and', 'europes', 'misunderstanding', 'of'], 'america', ['easily', 'might', 'have', 'been', 'avoided', 'the', 'republicans', 'of', 'the', 'senate']], [['peace', 'maintained', 'one', 'may', 'readily', 'sense', 'the', 'conscience', 'of', 'our'], 'america', ['i', 'am', 'sure', 'i', 'understand', 'the', 'purpose', 'of', 'the', 'dominant']], [['to', 'defeat', 'a', 'world', 'aspiration', 'we', 'were', 'resolved', 'to', 'safeguard'], 'america', ['we', 'were', 'resolved', 'then', 'even', 'as', 'we', 'are', 'today', 'and']], [['the', 'referendum', 'to', 'the', 'american', 'people', 'on', 'the', 'preservation', 'of'], 'america', ['and', 'the', 'republican', 'party', 'pledges', 'its', 'defense', 'of', 'the', 'preserved']], [['of', 'national', 'freedom', 'in', 'the', 'call', 'of', 'the', 'conscience', 'of'], 'america', ['is', 'peace', 'peace', 'that', 'closes', 'the', 'gaping', 'wound', 'of', 'world']], [['of', 'its', 'example', 'possessor', 'of', 'might', 'that', 'admits', 'no', 'fear'], 'america', ['must', 'stand', 'foremost', 'for', 'the', 'right', 'if', 'the', 'mistaken', 'voice']], [['stand', 'foremost', 'for', 'the', 'right', 'if', 'the', 'mistaken', 'voice', 'of'], 'america', ['spoken', 'in', 'unheeding', 'haste', 'led', 'europe', 'in', 'the', 'hour', 'of']], [['to', 'their', 'security', 'then', 'we', 'must', 'speak', 'the', 'truth', 'for'], 'america', ['and', 'express', 'our', 'hope', 'for', 'the', 'fraternized', 'conscience', 'of', 'nations']], [['by', 'its', 'administration', 'sponsors', 'who', 'resisted', 'every', 'effort', 'to', 'safeguard'], 'america', ['and', 'who', 'finally', 'rejected', 'it', 'when', 'such', 'safeguards', 'were', 'inserted']], [['to', 'war', 'their', 'supreme', 'sacrifice', 'shall', 'only', 'be', 'asked', 'for'], 'america', ['and', 'its', 'call', 'of', 'honor', 'there', 'is', 'a', 'sanctity', 'in']], [['new', 'relationship', 'to', 'commit', 'the', 'moral', 'forces', 'of', 'the', 'world'], 'america', ['included', 'to', 'peace', 'and', 'international', 'justice', 'still', 'leaving', 'america', 'free']], [['world', 'america', 'included', 'to', 'peace', 'and', 'international', 'justice', 'still', 'leaving'], 'america', ['free', 'independent', 'and', 'selfreliant', 'but', 'offering', 'friendship', 'to', 'all', 'the']], [['lighted', 'their', 'torches', 'among', 'other', 'peoples', 'and', 'hope', 'to', 'see'], 'america', ['as', 'a', 'part', 'of', 'the', 'great', 'red', 'conflagration', 'ours', 'is']], [['ours', 'to', 'call', 'the', 'sons', 'of', 'opportunity', 'to', 'its', 'defense'], 'america', ['must', 'not', 'only', 'save', 'herself', 'but', 'ours', 'must', 'be', 'the']], [['need', 'is', 'maximum', 'maximums', 'not', 'minimums', 'is', 'the', 'call', 'of'], 'america', ['it', 'isnt', 'a', 'new', 'story', 'because', 'war', 'never', 'fails', 'to']]]\n",
      "\n",
      "\n",
      "Found 468 instances of america\n"
     ]
    }
   ],
   "source": [
    "print(america_kwic_r[:15])\n",
    "print('\\n')\n",
    "print('Found {} instances of america'.format(len(america_kwic_r)))"
   ]
  },
  {
   "cell_type": "code",
   "execution_count": 15,
   "metadata": {},
   "outputs": [
    {
     "name": "stdout",
     "output_type": "stream",
     "text": [
      "[[['and', 'not', 'enough', 'to', 'the', 'navy', 'the', 'other', 'republics', 'of'], 'america', ['distrusted', 'us', 'because', 'they', 'found', 'that', 'we', 'thought', 'first', 'of']], [['are', 'and', 'how', 'to', 'get', 'at', 'them', 'the', 'workingmen', 'of'], 'america', ['have', 'been', 'given', 'a', 'veritable', 'emancipation', 'by', 'the', 'legal', 'recognition']], [['the', 'shame', 'of', 'divisions', 'of', 'sentiment', 'and', 'purpose', 'in', 'which'], 'america', ['was', 'contemned', 'and', 'forgotten', 'it', 'is', 'part', 'of', 'the', 'business']], [['the', 'united', 'states', 'with', 'a', 'distressed', 'and', 'distracted', 'people', 'all'], 'america', ['looks', 'on', 'test', 'is', 'now', 'being', 'made', 'of', 'us', 'whether']], [['ours', 'depends', 'every', 'relationship', 'of', 'the', 'united', 'states', 'with', 'latin'], 'america', ['whether', 'in', 'politics', 'or', 'in', 'commerce', 'and', 'enterprise', 'these', 'are']], [['issues', 'of', 'the', 'politics', 'of', 'the', 'world', 'the', 'republics', 'of'], 'america', ['have', 'in', 'the', 'last', 'three', 'years', 'been', 'drawing', 'together', 'in']], [['be', 'a', 'just', 'and', 'settled', 'peace', 'and', 'we', 'here', 'in'], 'america', ['must', 'contribute', 'the', 'full', 'force', 'of', 'our', 'enthusiasm', 'and', 'of']], [['to', 'see', 'the', 'stimulus', 'of', 'that', 'new', 'day', 'draw', 'all'], 'america', ['the', 'republics', 'of', 'both', 'continents', 'on', 'to', 'a', 'new', 'life']], [['the', 'great', 'affairs', 'of', 'peace', 'we', 'are', 'americans', 'for', 'big'], 'america', ['and', 'rejoice', 'to', 'look', 'forward', 'to', 'the', 'days', 'in', 'which']], [['and', 'rejoice', 'to', 'look', 'forward', 'to', 'the', 'days', 'in', 'which'], 'america', ['shall', 'strive', 'to', 'stir', 'the', 'world', 'without', 'irritating', 'it', 'or']], [['the', 'necessity', 'for', 'the', 'restoration', 'of', 'cordial', 'relations', 'with', 'latin'], 'america', ['and', 'i', 'take', 'my', 'text', 'from', 'a', 'great', 'republican', 'secretary']], [['evil', 'effect', 'of', 'the', 'administrations', 'policy', 'with', 'respect', 'to', 'latin'], 'america', ['has', 'extended', 'to', 'our', 'relations', 'with', 'the', 'rest', 'of', 'the']], [['foreign', 'country', 'our', 'unwarranted', 'intervention', 'in', 'internal', 'affairs', 'in', 'latin'], 'america', ['and', 'this', 'specious', 'reason', 'for', 'it', 'constitute', 'the', 'basis', 'upon']], [['take', 'advantage', 'of', 'the', 'freedom', 'and', 'the', 'opportunities', 'offered', 'by'], 'america', ['the', 'rugged', 'qualities', 'of', 'our', 'immigrants', 'have', 'helped', 'to', 'develop']], [['every', 'race', 'has', 'made', 'its', 'contribution', 'to', 'the', 'betterment', 'of'], 'america', ['while', 'i', 'stand', 'squarely', 'on', 'our', 'platform', 'declaration', 'that', 'the']]]\n",
      "\n",
      "\n",
      "Found 373 instances of america\n"
     ]
    }
   ],
   "source": [
    "print(america_kwic_d[:15])\n",
    "print('\\n')\n",
    "print('Found {} instances of america'.format(len(america_kwic_d)))"
   ]
  },
  {
   "cell_type": "code",
   "execution_count": 16,
   "metadata": {},
   "outputs": [
    {
     "data": {
      "text/plain": [
       "(0.929173583806612, 1.0337364394198925)"
      ]
     },
     "execution_count": 16,
     "metadata": {},
     "output_type": "execute_result"
    }
   ],
   "source": [
    "sum(dem_score)/len(dem_score), sum(rep_score)/len(rep_score)"
   ]
  },
  {
   "cell_type": "markdown",
   "metadata": {},
   "source": [
    "Matching my intuition, \"america\" was found more times in the Republican corpus (468 instances) than the Democrats (373 instances). Typically, the Republicans have branded themselves as the party of the **AMERICAN** people, bald eagles and guns included. As such, they have chosen to include the term \"america\" more in their speeches to remain within their brand. Also, although the discrepancy is slight, Republican (1.03) use of \"america\" offers a mildly higher sentiment score than the Democrats (0.93)."
   ]
  },
  {
   "cell_type": "markdown",
   "metadata": {},
   "source": [
    "#### \"democrats\""
   ]
  },
  {
   "cell_type": "code",
   "execution_count": 17,
   "metadata": {},
   "outputs": [
    {
     "name": "stdout",
     "output_type": "stream",
     "text": [
      "[[['writers', 'not', 'to', 'mention', 'reformers', 'of', 'all', 'kinds', 'freesoilers', 'independent'], 'democrats', ['conscience', 'whigs', 'barnburners', 'soft', 'hunkers', 'teetotallers', 'vegetarians', 'and', 'transcendentalists', 'now']], [['infinitesimal', 'compared', 'to', 'the', 'gulf', 'between', 'us', 'and', 'what', 'the'], 'democrats', ['would', 'put', 'upon', 'us', 'from', 'what', 'they', 'did', 'in', 'los']], [['that', 'just', 'as', 'in', '1952', 'and', 'in', '1956', 'millions', 'of'], 'democrats', ['will', 'join', 'usnot', 'because', 'they', 'are', 'deserting', 'their', 'party', 'but']], [['world', 'is', 'involved', 'we', 'are', 'not', 'republicans', 'we', 'are', 'not'], 'democrats', ['we', 'are', 'americans', 'first', 'last', 'and', 'always', 'these', 'five', 'presidents']], [['convention', 'i', 'cant', 'tell', 'which', 'faces', 'are', 'republicans', 'which', 'are'], 'democrats', ['and', 'which', 'are', 'independents', 'i', 'cannot', 'see', 'their', 'color', 'or']], [['people', 'we', 'call', 'americans', 'everywhere', 'we', 'have', 'met', 'thousands', 'of'], 'democrats', ['independents', 'and', 'republicans', 'from', 'all', 'economic', 'conditions', 'and', 'walks', 'of']], [['and', 'the', 'executive', 'branch', 'with', 'the', 'help', 'of', 'some', 'concerned'], 'democrats', ['in', 'the', 'house', 'we', 'started', 'a', 'policy', 'of', 'tightening', 'the']], [['vote', 'in', '1932', 'for', 'franklin', 'delano', 'roosevelt', 'that', 'year', 'the'], 'democrats', ['called', 'for', 'a', '25percent', 'reduction', 'in', 'the', 'cost', 'of', 'government']], [['that', 'party', 'leave', 'not', 'just', 'me', 'but', 'millions', 'of', 'patriotic'], 'democrats', ['who', 'believed', 'in', 'the', 'principles', 'and', 'philosophy', 'of', 'that', 'platform']], [['its', 'first', 'principles', 'its', 'no', 'surprise', 'that', 'so', 'many', 'responsible'], 'democrats', ['feel', 'that', 'our', 'platform', 'is', 'closer', 'to', 'their', 'views', 'and']], [['them', 'take', 'it', 'away', 'from', 'you', 'i', 'know', 'the', 'liberal'], 'democrats', ['are', 'worried', 'about', 'the', 'economy', 'theyre', 'worried', 'its', 'going', 'to']], [['of', 'community—a', 'beautiful', 'word', 'with', 'a', 'big', 'meaning', 'though', 'liberal'], 'democrats', ['have', 'an', 'odd', 'view', 'of', 'it', 'they', 'see', 'community', 'as']], [['one', 'of', 'our', 'children', 'deserves', 'a', 'firstrate', 'school', 'the', 'liberal'], 'democrats', ['want', 'power', 'in', 'the', 'hands', 'of', 'the', 'federal', 'government', 'and']], [['impact', 'of', 'our', 'foreign', 'policy', 'failures', 'the', 'last', 'time', 'the'], 'democrats', ['controlled', 'both', 'ends', 'of', 'pennsylvania', 'avenue', 'gas', 'lines', 'grain', 'embargoes']], [['two', 'years', 'ago', 'i', 'made', 'a', 'bad', 'call', 'on', 'the'], 'democrats', ['tax', 'increase', 'i', 'underestimated', 'congress', 'addiction', 'to', 'taxes', 'with', 'my']]]\n",
      "\n",
      "\n",
      "Found 23 instances of democrats\n"
     ]
    }
   ],
   "source": [
    "print(democrats_kwic_r[:15])\n",
    "print('\\n')\n",
    "print('Found {} instances of democrats'.format(len(democrats_kwic_r)))"
   ]
  },
  {
   "cell_type": "code",
   "execution_count": 18,
   "metadata": {},
   "outputs": [
    {
     "name": "stdout",
     "output_type": "stream",
     "text": [
      "[[['action', 'must', 'be', 'weighed', 'against', 'destructive', 'comment', 'and', 'reaction', 'the'], 'democrats', ['either', 'have', 'or', 'have', 'not', 'understood', 'the', 'varied', 'interests', 'of']], [['in', 'the', 'record', 'what', 'is', 'that', 'record', 'what', 'were', 'the'], 'democrats', ['called', 'into', 'power', 'to', 'do', 'what', 'things', 'had', 'long', 'waited']], [['had', 'long', 'waited', 'to', 'be', 'done', 'and', 'how', 'did', 'the'], 'democrats', ['do', 'them', 'it', 'is', 'a', 'record', 'of', 'extraordinary', 'length', 'and']], [['here', 'and', 'now', 'in', 'equal', 'measure', 'i', 'warn', 'those', 'nominal'], 'democrats', ['who', 'squint', 'at', 'the', 'future', 'with', 'their', 'faces', 'turned', 'toward']], [['the', '18th', 'amendment', 'is', 'doomed', 'when', 'that', 'happens', 'we', 'as'], 'democrats', ['must', 'and', 'will', 'rightly', 'and', 'morally', 'enable', 'the', 'states', 'to']], [['of', 'the', 'united', 'states', 'have', 'transcended', 'party', 'affiliation', 'not', 'only'], 'democrats', ['but', 'also', 'forwardlooking', 'republicans', 'and', 'millions', 'of', 'independent', 'voters', 'have']], [['you', 'join', 'me', 'in', 'gratitude', 'and', 'respect', 'for', 'the', 'great'], 'democrats', ['and', 'the', 'leaders', 'of', 'our', 'generation', 'whose', 'names', 'you', 'have']], [['of', 'this', 'convention', 'you', 'have', 'argued', 'and', 'disagreed', 'because', 'as'], 'democrats', ['you', 'care', 'and', 'you', 'cared', 'deeply', 'but', 'you', 'have', 'disagreed']], [['issues', 'sensibly', 'and', 'soberly', 'i', 'hope', 'and', 'pray', 'that', 'we'], 'democrats', ['win', 'or', 'lose', 'can', 'campaign', 'not', 'as', 'a', 'crusade', 'to']], [['generationthat', 'your', 'chairman', 'will', 'live', 'forever', 'in', 'the', 'memories', 'of'], 'democrats', ['and', 'among', 'all', 'who', 'love', 'the', 'political', 'institutions', 'of', 'this']], [['i', 'think', 'the', 'ultimate', 'indignity', 'to', 'the', 'democratic', 'process', 'we'], 'democrats', ['must', 'also', 'face', 'the', 'fact', 'that', 'no', 'president', 'and', 'no']], [['candidate', 'but', 'ignored', 'as', 'a', 'leader', 'is', 'largely', 'indebted', 'to'], 'democrats', ['in', 'congress', 'for', 'what', 'accomplishments', 'he', 'can', 'claim', 'the', 'truth']], [['johnson', 'mr', 'butler', 'senator', 'symington', 'senator', 'humphrey', 'speaker', 'rayburn', 'fellow'], 'democrats', ['i', 'want', 'to', 'express', 'my', 'thanks', 'to', 'governor', 'stevenson', 'for']], [['what', 'can', 'you', 'do', 'for', 'your', 'country', 'and', 'my', 'fellow'], 'democrats', ['and', 'fellow', 'americans', 'in', 'that', 'spirit', 'of', 'that', 'great', 'man']], [['say', 'thank', 'you', 'thank', 'you', 'mr', 'president', 'yes', 'my', 'fellow'], 'democrats', ['we', 'have', 'recognized', 'and', 'indeed', 'we', 'must', 'recognize', 'the', 'end']]]\n",
      "\n",
      "\n",
      "Found 53 instances of democrats\n"
     ]
    }
   ],
   "source": [
    "print(democrats_kwic_d[:15])\n",
    "print('\\n')\n",
    "print('Found {} instances of democrats'.format(len(democrats_kwic_d)))"
   ]
  },
  {
   "cell_type": "code",
   "execution_count": 19,
   "metadata": {},
   "outputs": [
    {
     "data": {
      "text/plain": [
       "(0.9266304347826086, 0.15196078431372548)"
      ]
     },
     "execution_count": 19,
     "metadata": {},
     "output_type": "execute_result"
    }
   ],
   "source": [
    "sum(dem_score_dems)/len(dem_score_dems), sum(rep_score_dems)/len(rep_score_dems)"
   ]
  },
  {
   "cell_type": "markdown",
   "metadata": {},
   "source": [
    "\"democrats\" mentioned by democrats not only occurred much more frequently, but it was done so in a much more contextually positive manner. While the Democrats use their own party's name to refer to themselves in a positive light, the Republicans do so more disparagingly. This aligns with \"playing politics\" that Presidential nominees presumably do at their respective conventions in order to progress past the primary intra-party competition mindset and broaden the scope to inter-party battle."
   ]
  },
  {
   "cell_type": "markdown",
   "metadata": {},
   "source": [
    "#### \"environment\""
   ]
  },
  {
   "cell_type": "code",
   "execution_count": 20,
   "metadata": {},
   "outputs": [
    {
     "name": "stdout",
     "output_type": "stream",
     "text": [
      "[[['strive', 'to', 'cure', 'disease', 'subdue', 'and', 'make', 'fruitful', 'our', 'natural'], 'environment', ['and', 'produce', 'the', 'inventive', 'engines', 'of', 'production', 'science', 'and', 'technology']], [['knows', 'itself', 'a', 'generation', 'determined', 'to', 'preserve', 'its', 'ideals', 'its'], 'environment', ['our', 'nation', 'and', 'the', 'world', 'my', 'fellow', 'americans', 'i', 'like']], [['will', 'not', 'permit', 'the', 'safety', 'of', 'our', 'people', 'or', 'our'], 'environment', ['heritage', 'to', 'be', 'jeopardized', 'but', 'we', 'are', 'going', 'to', 'reaffirm']], [['prosperity', 'of', 'our', 'people', 'is', 'a', 'fundamental', 'part', 'of', 'our'], 'environment', ['our', 'problems', 'are', 'both', 'acute', 'and', 'chronic', 'yet', 'all', 'we']], [['by', 'race', 'and', 'color', 'has', 'made', 'america', 'a', 'more', 'dangerous'], 'environment', ['for', 'everyone', 'than', 'frankly', 'i', 'have', 'ever', 'seen', 'and', 'anybody']]]\n",
      "\n",
      "\n",
      "Found 5 instances of environment\n"
     ]
    }
   ],
   "source": [
    "print(environment_kwic_r[:15])\n",
    "print('\\n')\n",
    "print('Found {} instances of environment'.format(len(environment_kwic_r)))"
   ]
  },
  {
   "cell_type": "code",
   "execution_count": 21,
   "metadata": {},
   "outputs": [
    {
     "name": "stdout",
     "output_type": "stream",
     "text": [
      "[[['has', 'reconciled', 'its', 'economic', 'needs', 'with', 'its', 'desire', 'for', 'an'], 'environment', ['that', 'we', 'can', 'pass', 'on', 'with', 'pride', 'to', 'the', 'next']], [['employment', 'laws', 'safety', 'in', 'the', 'work', 'place', 'and', 'a', 'healthy'], 'environment', ['lately', 'as', 'you', 'know', 'the', 'republicans', 'have', 'been', 'quoting', 'democratic']], [['civil', 'rights', 'laws', 'you', 'did', 'not', 'vote', 'to', 'poison', 'the'], 'environment', ['you', 'did', 'not', 'vote', 'to', 'assault', 'the', 'poor', 'the', 'sick']], [['and', 'a', 'dedicated', 'staff', 'of', 'teachers', 'and', 'counselors', 'create', 'an'], 'environment', ['for', 'learning', 'at', 'the', 'george', 'washington', 'preparatory', 'high', 'school', 'in']], [['i', 'will', 'he', 'wont', 'take', 'the', 'lead', 'in', 'protecting', 'the'], 'environment', ['and', 'creating', 'new', 'jobs', 'in', 'environmental', 'technologies', 'for', 'the', '21st']], [['of', 'the', 'global', 'effort', 'to', 'preserve', 'and', 'protect', 'our', 'common'], 'environment', ['and', 'promoting', 'global', 'growth', 'an', 'america', 'that', 'will', 'not', 'coddle']], [['20', 'years', 'i', 'met', 'a', 'grandmother', 'fighting', 'for', 'her', 'grandsons'], 'environment', ['in', 'michigan', 'and', 'i', 'stood', 'with', 'two', 'wonderful', 'little', 'children']], [['break', 'the', 'cycle', 'of', 'poverty', 'and', 'dependence', 'to', 'protect', 'our'], 'environment', ['for', 'generations', 'to', 'come', 'and', 'to', 'maintain', 'our', 'world', 'leadership']], [['it', 'in', 'a', 'way', 'that', 'preserves', 'medicare', 'medicaid', 'education', 'the'], 'environment', ['the', 'integrity', 'of', 'our', 'pensions', 'the', 'strength', 'of', 'our', 'people']], [['cuts', 'that', 'devastate', 'education', 'for', 'our', 'children', 'that', 'pollute', 'our'], 'environment', ['that', 'end', 'the', 'guarantee', 'of', 'health', 'care', 'for', 'those', 'who']], [['for', 'even', 'bigger', 'cuts', 'in', 'medicare', 'medicaid', 'education', 'and', 'the'], 'environment', ['than', 'they', 'passed', 'and', 'i', 'vetoed', 'last', 'year', 'but', 'even']], [['bridge', 'to', 'the', '21st', 'century', 'with', 'a', 'clean', 'and', 'safe'], 'environment', ['we', 'are', 'making', 'our', 'food', 'safer', 'from', 'pesticides', 'were', 'protecting']], [['a', 'leader', 'of', 'character', 'and', 'courage', 'a', 'defender', 'of', 'the'], 'environment', ['and', 'working', 'families', 'the', 'next', 'vice', 'president', 'of', 'the', 'united']], [['safe', 'clean', 'drinking', 'water', 'applause', 'on', 'the', 'issue', 'of', 'the'], 'environment', ['ive', 'never', 'given', 'up', 'ive', 'never', 'backed', 'down', 'and', 'i']], [['prevent', 'the', 'exploitation', 'of', 'workers', 'and', 'the', 'poisoning', 'of', 'the'], 'environment', ['free', 'trade', 'can', 'and', 'must', 'be', 'and', 'if', 'im', 'president']]]\n",
      "\n",
      "\n",
      "Found 17 instances of environment\n"
     ]
    }
   ],
   "source": [
    "print(environment_kwic_d[:15])\n",
    "print('\\n')\n",
    "print('Found {} instances of environment'.format(len(environment_kwic_d)))"
   ]
  },
  {
   "cell_type": "code",
   "execution_count": 22,
   "metadata": {},
   "outputs": [
    {
     "data": {
      "text/plain": [
       "(0.8511764705882353, 0.14666666666666658)"
      ]
     },
     "execution_count": 22,
     "metadata": {},
     "output_type": "execute_result"
    }
   ],
   "source": [
    "sum(dem_score_env)/len(dem_score_env), sum(rep_score_env)/len(rep_score_env)"
   ]
  },
  {
   "cell_type": "markdown",
   "metadata": {},
   "source": [
    "The Democratic nominee's use the word \"environment\" much more frequently than the Republicans, and also in a much more positive context. It appears that Republican use of \"environment\" is done so in reference to one's contextual environment, whereas Democrats tend to employ the word to refer to the natural, outdoor environment and resources. This difference aligns with the fact that the Democrats are traditionally seen as the party charged with environmental awareness and protection, leading them to a more frequent and positive use of the word in a outdoors context."
   ]
  },
  {
   "cell_type": "markdown",
   "metadata": {},
   "source": [
    "#### \"abortion\""
   ]
  },
  {
   "cell_type": "code",
   "execution_count": 23,
   "metadata": {},
   "outputs": [
    {
     "name": "stdout",
     "output_type": "stream",
     "text": [
      "[[['you', 'see', 'we', 'must', 'change', 'weve', 'got', 'to', 'change', 'from'], 'abortion', ['to', 'adoption', 'and', 'let', 'me', 'tell', 'you', 'this', 'barbara', 'and']], [['opinions', 'of', 'millions', 'of', 'americans', 'is', 'crime', 'and', 'drugs', 'illegitimacy'], 'abortion', ['the', 'abdication', 'of', 'duty', 'and', 'the', 'abandonment', 'of', 'children', 'and']], [['notification', 'and', 'when', 'congress', 'sends', 'me', 'a', 'bill', 'against', 'partialbirth'], 'abortion', ['i', 'will', 'sign', 'it', 'into', 'law', 'applause', 'behind', 'every', 'goal']]]\n",
      "\n",
      "\n",
      "Found 3 instances of abortion\n"
     ]
    }
   ],
   "source": [
    "print(abortion_kwic_r[:15])\n",
    "print('\\n')\n",
    "print('Found {} instances of abortion'.format(len(abortion_kwic_r)))"
   ]
  },
  {
   "cell_type": "code",
   "execution_count": 24,
   "metadata": {},
   "outputs": [
    {
     "name": "stdout",
     "output_type": "stream",
     "text": [
      "[[['individual', 'conscience', 'of', 'every', 'american', 'on', 'the', 'painful', 'issue', 'of'], 'abortion', ['but', 'believe', 'as', 'a', 'matter', 'of', 'law', 'that', 'this', 'decision']], [['a', 'woman', 'her', 'conscience', 'her', 'doctor', 'and', 'her', 'god', 'but'], 'abortion', ['should', 'not', 'only', 'be', 'safe', 'and', 'legal', 'it', 'should', 'be']], [['what', 'we', 'have', 'to', 'restore', 'we', 'may', 'not', 'agree', 'on'], 'abortion', ['but', 'surely', 'we', 'can', 'agree', 'on', 'reducing', 'the', 'number', 'of']]]\n",
      "\n",
      "\n",
      "Found 3 instances of abortion\n"
     ]
    }
   ],
   "source": [
    "print(abortion_kwic_d[:15])\n",
    "print('\\n')\n",
    "print('Found {} instances of abortion'.format(len(abortion_kwic_d)))"
   ]
  },
  {
   "cell_type": "code",
   "execution_count": 25,
   "metadata": {},
   "outputs": [
    {
     "data": {
      "text/plain": [
       "(0.5155555555555555, -0.32500000000000007)"
      ]
     },
     "execution_count": 25,
     "metadata": {},
     "output_type": "execute_result"
    }
   ],
   "source": [
    "sum(dem_score_abort)/len(dem_score_abort), sum(rep_score_abort)/len(rep_score_abort)"
   ]
  },
  {
   "cell_type": "markdown",
   "metadata": {},
   "source": [
    "The word \"abortion\" is an incredibly divisive factor in American politics. Both surprisingly and unsurprisingly, the word is used fairly few times in each corpus: only 3 instances each. I presume that this comes as a result of the intensely polarizing nature inherent to the word – even some die-hard Democrats are still uncomfortable endorsing the pro-choice movement despite the Democratic party's alignment with it. As a result, given the national audience of the nomination speeches, I am sure that the speakers are playing politics and refraining from mentioning the word more than absolutely necessary and are more so choosing to focus their attention on policy platforms which are able to appeal to the masses. It is important to note, however, the vast difference in contexts that the word \"abortion\" is used between the Democrats and the Republicans. One positive and progressive, and one incredibly negative and prohibitive."
   ]
  },
  {
   "cell_type": "markdown",
   "metadata": {},
   "source": [
    "#### \"immigrants\""
   ]
  },
  {
   "cell_type": "code",
   "execution_count": 26,
   "metadata": {},
   "outputs": [
    {
     "name": "stdout",
     "output_type": "stream",
     "text": [
      "[[['that', 'burned', 'with', 'zeal', 'in', 'the', 'hearts', 'of', 'millions', 'of'], 'immigrants', ['from', 'every', 'corner', 'of', 'the', 'earth', 'who', 'came', 'here', 'in']], [['immigration', 'and', 'yet', 'when', 'the', 'blood', 'of', 'the', 'sons', 'of'], 'immigrants', ['and', 'the', 'grandsons', 'of', 'slaves', 'fell', 'on', 'foreign', 'fields', 'it']], [['moms', 'struggling', 'to', 'feed', 'the', 'kids', 'and', 'pay', 'the', 'rent'], 'immigrants', ['starting', 'a', 'hard', 'life', 'in', 'a', 'new', 'world', 'children', 'without']], [['what', 'brought', 'us', 'to', 'america', 'we', 'are', 'a', 'nation', 'of'], 'immigrants', ['we', 'are', 'the', 'children', 'and', 'grandchildren', 'and', 'greatgrandchildren', 'of', 'the']], [['special', 'kinship', 'with', 'the', 'future', 'when', 'every', 'new', 'wave', 'of'], 'immigrants', ['looked', 'up', 'and', 'saw', 'the', 'statue', 'of', 'liberty', 'or', 'knelt']], [['percent', 'compared', 'to', 'this', 'point', 'last', 'year', 'nearly', '180000', 'illegal'], 'immigrants', ['with', 'criminal', 'records', 'ordered', 'deported', 'from', 'our', 'country', 'are', 'tonight']], [['heard', 'from', 'three', 'parents', 'whose', 'children', 'were', 'killed', 'by', 'illegal'], 'immigrants', ['mary', 'ann', 'mendoza', 'sabine', 'durden', 'and', 'my', 'friend', 'jamiel', 'shaw']], [['your', 'jobs', 'and', 'wages', 'and', 'make', 'it', 'harder', 'for', 'recent'], 'immigrants', ['to', 'escape', 'the', 'tremendous', 'cycle', 'of', 'poverty', 'that', 'theyre', 'going']]]\n",
      "\n",
      "\n",
      "Found 8 instances of immigrants\n"
     ]
    }
   ],
   "source": [
    "print(immigrants_kwic_r[:15])\n",
    "print('\\n')\n",
    "print('Found {} instances of immigrants'.format(len(immigrants_kwic_r)))"
   ]
  },
  {
   "cell_type": "code",
   "execution_count": 27,
   "metadata": {},
   "outputs": [
    {
     "name": "stdout",
     "output_type": "stream",
     "text": [
      "[[['the', 'opportunities', 'offered', 'by', 'america', 'the', 'rugged', 'qualities', 'of', 'our'], 'immigrants', ['have', 'helped', 'to', 'develop', 'our', 'country', 'and', 'their', 'children', 'have']], [['i', 'can', 'assure', 'you', '—', 'tonight', 'as', 'a', 'son', 'of'], 'immigrants', ['with', 'a', 'wonderful', 'wife', 'and', 'now', 'with', 'lisa', 'our', 'lovely']], [['that', 'you', 'make', 'to', 'yours', 'a', 'promise', 'that', 'has', 'led'], 'immigrants', ['to', 'cross', 'oceans', 'and', 'pioneers', 'to', 'travel', 'west', 'a', 'promise']], [['more', 'than', 'are', 'welfare', 'recipients', 'or', 'corporations', 'or', 'unions', 'or'], 'immigrants', ['or', 'gays', 'or', 'any', 'other', 'group', 'were', 'told', 'to', 'blame']], [['and', 'well', 'build', 'a', 'path', 'to', 'citizenship', 'for', 'millions', 'of'], 'immigrants', ['who', 'are', 'already', 'contributing', 'to', 'our', 'economy', 'we', 'will', 'not']], [['jobs', 'i', 'believe', 'that', 'when', 'we', 'have', 'millions', 'of', 'hardworking'], 'immigrants', ['contributing', 'to', 'our', 'economy', 'it', 'would', 'be', 'selfdefeating', 'and', 'inhumane']]]\n",
      "\n",
      "\n",
      "Found 6 instances of immigrants\n"
     ]
    }
   ],
   "source": [
    "print(immigrants_kwic_d[:15])\n",
    "print('\\n')\n",
    "print('Found {} instances of immigrants'.format(len(immigrants_kwic_d)))"
   ]
  },
  {
   "cell_type": "code",
   "execution_count": 28,
   "metadata": {},
   "outputs": [
    {
     "data": {
      "text/plain": [
       "(0.9800000000000001, -0.6833333333333333)"
      ]
     },
     "execution_count": 28,
     "metadata": {},
     "output_type": "execute_result"
    }
   ],
   "source": [
    "sum(dem_score_imm)/len(dem_score_imm), sum(rep_score_imm)/len(rep_score_imm)"
   ]
  },
  {
   "cell_type": "markdown",
   "metadata": {},
   "source": [
    "Democrats have traditionally been the party that is more sympathetic towards the plight of immigrants, which results in its positive sentiment score. The Republican score for \"immigrant\" is shockingly low, and underscores their assumed perversion towards immigration and immigrants within our country. Although this phenomenon might seem like a recent development within the party, perhaps there is a deep rooted anti-immigrant sentiment housed by the party."
   ]
  },
  {
   "cell_type": "markdown",
   "metadata": {},
   "source": [
    "## Conclusion: Democrats v. Republicans\n",
    "\n",
    "The Republican and Democratic parties often represent polar opposite views and priorities on problems which face our nation. Initially, I wanted to believe that these inherent ideological differences would be immediately reflected in the descriptive make-up of the corpuses, however the research indicated that there really are no broad significant differences. Through the frequency lists, we notice that there are nearly identical lines of words for tokens, bigrams, and trigrams.\n",
    "\n",
    "Only when we delved deeper into the corpuses and approached the keyness and KWIC analyses did the significant differences become illuminated. Specifically, the keyness analyses were able to isolate significant words shared by the two parties, and proceeding KWIC analyses identified the context and contextual sentiment of usage of these words. The Democrat's traditional policy directives (environment, abortion, immigrants) were, as expected, featured more prominently and positively in the Democrat's speeches, while the Republicans referred to their political counterparts within a primarily negative context and leaned on their patriotic identity, referencing \"america\" an overwhelming amount. KWIC analyses provided a crucial tool to highlight the more minute differences found between the corpuses that were unable to emerge in the broader analyses.\n",
    "\n",
    "Despite this analysis and blog's good intentions, it appears that there are in fact less apparent differences between the nomination convention speeches between the Democrats and the Republicans. This might come as a result of the intended audiences of the speeches, which are essentially the entire United States, which would mean the speakers are at least somewhat altering their speeches to cater to a broad audience with diverse interests. In order to move past this barrier and hopefully better understand party differences, a further analysis might find it beneficial to use more pointed speeches within the corpus in order to unveil politician's actual directive and motivations rather than those which are able to gratify a national audience."
   ]
  }
 ],
 "metadata": {
  "kernelspec": {
   "display_name": "Python 3",
   "language": "python",
   "name": "python3"
  },
  "language_info": {
   "codemirror_mode": {
    "name": "ipython",
    "version": 3
   },
   "file_extension": ".py",
   "mimetype": "text/x-python",
   "name": "python",
   "nbconvert_exporter": "python",
   "pygments_lexer": "ipython3",
   "version": "3.7.3"
  }
 },
 "nbformat": 4,
 "nbformat_minor": 2
}
