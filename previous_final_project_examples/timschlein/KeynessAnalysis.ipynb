{
 "cells": [
  {
   "cell_type": "code",
   "execution_count": 1,
   "metadata": {},
   "outputs": [],
   "source": [
    "##################################################################\n",
    "# In this Notebook I conducted a keyness analysis \n",
    "# by doing the following:\n",
    "# 1) separating IRA from ALl Twitter Tweets, tokenizing, and counting\n",
    "#################################################################"
   ]
  },
  {
   "cell_type": "code",
   "execution_count": 2,
   "metadata": {},
   "outputs": [],
   "source": [
    "%run ImportStatements.ipynb\n",
    "%run functions.ipynb\n",
    "%run SentimentAnalysis.ipynb"
   ]
  },
  {
   "cell_type": "markdown",
   "metadata": {},
   "source": [
    "### All Twitter vs. IRA Analysis"
   ]
  },
  {
   "cell_type": "code",
   "execution_count": 3,
   "metadata": {},
   "outputs": [],
   "source": [
    "# Here I conducted some basic Keyness Analysis\n",
    "# this is for the IRa, and the second for loop is for the all Twitter Corpus\n",
    "IRA_terms = []\n",
    "years = [2014, 2015, 2016, 2017, 2018]\n",
    "to_strip = ',.\\xa0:-()\\';$\"/?][!`Ą@Ś§¨’–“”…ï‘>&\\\\%˝˘*'\n",
    "\n",
    "\n",
    "for year in years:\n",
    "    data = pd.read_csv(\"data/\" + str(year) + \"/IRA\" + str(year) + \".csv\")\n",
    "    for item in data['content']:\n",
    "        toks = tokenize(item, True, to_strip)\n",
    "        IRA_terms.extend(toks)\n",
    "        \n",
    "twitter_terms = []\n",
    "for item in IRA2017_charlottesville['content']:\n",
    "    toks = tokenize(item, lowercase=True, strip_chars='\",()[]!:.;-')\n",
    "    twitter_terms.extend(toks)\n",
    "\n",
    "IRA_terms_freq=Counter(IRA_terms)\n",
    "twitter_terms_freq=Counter(twitter_terms)\n",
    "\n",
    "\n",
    "\n"
   ]
  },
  {
   "cell_type": "code",
   "execution_count": 4,
   "metadata": {},
   "outputs": [
    {
     "name": "stdout",
     "output_type": "stream",
     "text": [
      "WORD                     Corpus A Freq.Corpus B Freq.Keyness\n",
      "============================================================\n",
      "rt                       14819     20408     14027.440\n",
      "enlist                   4512      4738      5550.206\n",
      "charlottesville          1993      2024      2521.437\n",
      "trump                    6592      17142     2259.950\n",
      "army                     1938      2279      2153.811\n",
      "antifa                   1737      1914      2048.929\n",
      "patriot                  1682      1891      1948.606\n",
      "our                      3552      7472      1872.481\n",
      "#usfa                    1384      1446      1709.787\n",
      "the                      17218     68811     1181.541\n",
      "breaking                 2041      4468      1001.659\n",
      "potus                    1489      2815      935.005\n",
      "barbmuenchen             723       767       881.625\n",
      "realdonaldtrump          1775      3956      842.471\n",
      "stand                    1064      1713      837.002\n",
      "join                     1038      1787      746.897\n",
      "look                     1392      2968      716.543\n",
      "patriots                 772       1119      689.955\n",
      "statue                   573       666       643.822\n",
      "us                       2417      7075      608.495\n"
     ]
    }
   ],
   "source": [
    "# Here I printed out the results:\n",
    "# Clearly the IRA data is far more in favor of supporting \"Far Right\" and conservative agendas by simply looking at \n",
    "# top term discrepancies.\n",
    "\n",
    "calculate_keyness(twitter_terms_freq, IRA_terms_freq, top=20)"
   ]
  },
  {
   "cell_type": "markdown",
   "metadata": {},
   "source": [
    "Key Findings:\n",
    "- High focus on Trump, antifa\n",
    "- Donald Trump is clearly the focus of most Tweets, mostly supportive of the political right\n",
    "- very \"sensationalist\" themes\""
   ]
  },
  {
   "cell_type": "code",
   "execution_count": null,
   "metadata": {},
   "outputs": [],
   "source": []
  }
 ],
 "metadata": {
  "kernelspec": {
   "display_name": "Python 3",
   "language": "python",
   "name": "python3"
  },
  "language_info": {
   "codemirror_mode": {
    "name": "ipython",
    "version": 3
   },
   "file_extension": ".py",
   "mimetype": "text/x-python",
   "name": "python",
   "nbconvert_exporter": "python",
   "pygments_lexer": "ipython3",
   "version": "3.7.3"
  }
 },
 "nbformat": 4,
 "nbformat_minor": 2
}
