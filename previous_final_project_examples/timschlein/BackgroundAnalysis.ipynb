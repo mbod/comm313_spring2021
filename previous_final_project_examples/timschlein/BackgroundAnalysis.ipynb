{
 "cells": [
  {
   "cell_type": "code",
   "execution_count": 2,
   "metadata": {},
   "outputs": [],
   "source": [
    "##################################################################\n",
    "# In this Notebook I conducted a basic background analysis\n",
    "# by doing the following:\n",
    "# 1) Creating a timeline by day\n",
    "# 2) Creating a timeline by hour\n",
    "# PLEASE NOTE: The final outputs for this file are the html files in\n",
    "# in the images folder titled \"IRA_Act_Day.html\", \"IRA_Act_Hour.html\"\n",
    "#################################################################\n",
    "\n",
    "# Here is my code for the basic Background Analysis\n",
    "%run ImportStatements.ipynb\n",
    "%run functions.ipynb\n",
    "pd.set_option('mode.chained_assignment', None)"
   ]
  },
  {
   "cell_type": "markdown",
   "metadata": {},
   "source": [
    "### Importation of Data"
   ]
  },
  {
   "cell_type": "code",
   "execution_count": 3,
   "metadata": {},
   "outputs": [],
   "source": [
    "# I first imported each of my CSVs by year, and then formatted them into manaegable dataframes\n",
    "\n",
    "years = [2014, 2015, 2016, 2017, 2018]\n",
    "\n",
    "initial = {'Date': [], \n",
    "        'Num_Tweets': []}\n",
    "\n",
    "initial = pd.DataFrame(initial)\n",
    "\n",
    "# I then looped through all the files and reformatted them\n",
    "for year in years:\n",
    "    data = pd.read_csv(\"data/\" + str(year) + \"/IRA\" + str(year) + \".csv\")\n",
    "    formatted_Data = pd.DataFrame(pd.to_datetime(data['publish_date']).dt.strftime('%Y/%m/%d').value_counts())\n",
    "    temp = {'Date': pd.to_datetime(data['publish_date']).dt.strftime('%Y/%m/%d').value_counts().index,\n",
    "            'Num_Tweets': pd.to_datetime(data['publish_date']).dt.strftime('%Y/%m/%d').value_counts().values}\n",
    "    temp = pd.DataFrame(temp)   \n",
    "    initial = pd.concat([initial, temp])"
   ]
  },
  {
   "cell_type": "markdown",
   "metadata": {},
   "source": [
    "### Reformatting for Graphs"
   ]
  },
  {
   "cell_type": "code",
   "execution_count": 4,
   "metadata": {},
   "outputs": [],
   "source": [
    "# I then created an empty data frame for the period I would like to display data\n",
    "per1 = pd.date_range(start ='11/15/2014',  \n",
    "         end ='12/31/2018', freq ='1D')   \n",
    "\n",
    "master_Data = pd.DataFrame(per1)\n",
    "\n",
    "# I merged the data with the formatted data to show a complete timeline\n",
    "master_Data = master_Data.rename(columns={0:\"Date\"})\n",
    "master_Data['Date'] = master_Data['Date'].dt.strftime('%Y/%m/%d')\n",
    "master_Data.insert(1, \"Num_Tweets\", 0)\n",
    "\n",
    "initial[\"Num_Tweets\"] = initial[\"Num_Tweets\"].astype(int)\n",
    "\n",
    "\n",
    "merged_data =  pd.concat([master_Data, initial]).groupby(['Date']).sum().reset_index()\n"
   ]
  },
  {
   "cell_type": "code",
   "execution_count": 5,
   "metadata": {},
   "outputs": [],
   "source": [
    "# Finally, I graphed and formatted\n",
    "merged_data['Date'] = per1\n",
    "\n",
    "fig_IRA_Act_Day = px.line(merged_data, x=\"Date\", y=\"Num_Tweets\")\n",
    "fig_IRA_Act_Day.update_yaxes(title_text='# Tweets')\n",
    "fig_IRA_Act_Day.update_layout(\n",
    "    \n",
    "    title={\n",
    "        'text': \"IRA Activity by Day\",\n",
    "        'x':0.5,\n",
    "        'xanchor': 'center',\n",
    "        'yanchor': 'top'},\n",
    "    template=\"simple_white\",\n",
    "    annotations=[\n",
    "        dict(\n",
    "            x='2017-8-12',\n",
    "            y=6200,\n",
    "            xref=\"x\",\n",
    "            yref=\"y\",\n",
    "            text=\"Charlottesville Rally\",\n",
    "            showarrow=False,\n",
    "            arrowhead=1,\n",
    "            ax=0,\n",
    "            ay=-40\n",
    "        ),\n",
    "        dict(\n",
    "            x='2016-10-6',\n",
    "            y=3000,\n",
    "            xref=\"x\",\n",
    "            yref=\"y\",\n",
    "            text=\"Run up to 2016 Election\",\n",
    "            showarrow=False,\n",
    "            arrowhead=1,\n",
    "            ax=0,\n",
    "            ay=-40\n",
    "        ),\n",
    "        dict(\n",
    "            x='2015-7-22',\n",
    "            y=2800,\n",
    "            xref=\"x\",\n",
    "            yref=\"y\",\n",
    "            text=\"Hillary WikiLeaks Activity\",\n",
    "            showarrow=False,\n",
    "            arrowhead=1,\n",
    "            ax=0,\n",
    "            ay=-40\n",
    "        )\n",
    "    ])\n",
    "\n",
    "fig_IRA_Act_Day.write_html(\"images/IRA_Act_Day.html\")"
   ]
  },
  {
   "cell_type": "markdown",
   "metadata": {},
   "source": [
    "### Graphing by Hour"
   ]
  },
  {
   "cell_type": "code",
   "execution_count": 6,
   "metadata": {},
   "outputs": [],
   "source": [
    "# I did the same process as above, but instead differentiated by hour\n",
    "years = [2014, 2015, 2016, 2017, 2018]\n",
    "\n",
    "initial = {\n",
    "        'Hour': [], \n",
    "        'Num_Tweets': [],\n",
    "        'Year':[]\n",
    "        }\n",
    "\n",
    "initial = pd.DataFrame(initial)\n",
    "\n",
    "for year in years:\n",
    "    data = pd.read_csv(\"data/\" + str(year) + \"/IRA\" + str(year) + \".csv\")\n",
    "    hour = pd.to_datetime(data['publish_date']).dt.round('H').dt.hour.value_counts().index\n",
    "    num_tweets = pd.to_datetime(data['publish_date']).dt.round('H').dt.hour.value_counts().values\n",
    "    temp = {'Hour': hour,\n",
    "            'Num_Tweets': num_tweets,\n",
    "           'Year': str(year)}\n",
    "\n",
    "    temp = pd.DataFrame(temp)   \n",
    "    initial = pd.concat([initial, temp])\n",
    "    "
   ]
  },
  {
   "cell_type": "code",
   "execution_count": 7,
   "metadata": {},
   "outputs": [],
   "source": [
    "total = initial.groupby([\"Hour\"]).sum().reset_index()"
   ]
  },
  {
   "cell_type": "code",
   "execution_count": 8,
   "metadata": {},
   "outputs": [],
   "source": [
    "# This is the replacement frame to make sure the graph X-axis looks proper\n",
    "replacement = [\"12:00 AM\", \"1:00 AM\", \"2:00 AM\", \"3:00 AM\", \"4:00 AM\",\"5:00 AM\", \"6:00 AM\",\n",
    "                \"7:00 AM\", \"8:00 AM\", \"9:00 AM\", \"10:00 AM\", \"11:00 AM\", \"12:00 PM\" ,\"1:00 PM\",\n",
    "                \"2:00 PM\", \"3:00 PM\", \"4:00 PM\", \"5:00 PM\", \"6:00 PM\", \"7:00 PM\", \"8:00 PM\",\n",
    "                 \"9:00 PM\", \"10:00 PM\", \"11:00 PM\"]\n",
    "total['Time'] = replacement"
   ]
  },
  {
   "cell_type": "markdown",
   "metadata": {},
   "source": [
    "### Focusing on data by year"
   ]
  },
  {
   "cell_type": "code",
   "execution_count": 9,
   "metadata": {},
   "outputs": [],
   "source": [
    "# Here I separated the years by time, specifically by hour\n",
    "separate_years = initial.groupby([\"Hour\", 'Year']).sum().reset_index()\n",
    "\n",
    "\n",
    "\n",
    "year2014Data = separate_years.loc[separate_years['Year'] == '2014']\n",
    "\n",
    "\n",
    "year2015Data = separate_years.loc[separate_years['Year'] == '2015']\n",
    "year2015Data['Year'] = 2015\n",
    "\n",
    "year2016Data = separate_years.loc[separate_years['Year'] == '2016']\n",
    "year2016Data['Year'] = 2016\n",
    "\n",
    "year2017Data = separate_years.loc[separate_years['Year'] == '2017']\n",
    "year2017Data['Year'] = 2017\n",
    "\n",
    "year2018Data = separate_years.loc[separate_years['Year'] == '2018']\n",
    "\n",
    "total['Year'] = 'total'\n",
    "year2014Data = fill_missing_range(year2014Data, 'Hour', 0, 24, 1)\n",
    "year2018Data = fill_missing_range(year2018Data, 'Hour', 0, 24, 1)\n",
    "\n",
    "year2014Data['Year'] = 2014\n",
    "year2018Data['Year'] = 2018\n",
    "year2014Data['Time'] = replacement\n",
    "year2015Data['Time'] = replacement\n",
    "year2016Data['Time'] = replacement\n",
    "year2017Data['Time'] = replacement\n",
    "year2018Data['Time'] = replacement\n",
    "\n",
    "list_of_data = [total, year2014Data, year2015Data, year2016Data, year2017Data, year2018Data]"
   ]
  },
  {
   "cell_type": "code",
   "execution_count": 10,
   "metadata": {},
   "outputs": [],
   "source": [
    "# I then combined the data into a single data frame that I could plot by hour\n",
    "all_data = pd.concat(list_of_data, sort=True)\n",
    "\n",
    "fig_IRA_Act_Hour = px.line(all_data, x=\"Time\", y=\"Num_Tweets\", color='Year')\n",
    "fig_IRA_Act_Hour.update_yaxes(title_text='# Tweets')\n",
    "fig_IRA_Act_Hour.update_layout(\n",
    "    title={\n",
    "        'text': \"IRA Activity by Hour\",\n",
    "        'x':0.5,\n",
    "        'xanchor': 'center',\n",
    "        'yanchor': 'top'},\n",
    "    template=\"simple_white\")\n",
    "\n",
    "fig_IRA_Act_Hour.write_html(\"images/IRA_Act_Hour.html\")"
   ]
  },
  {
   "cell_type": "markdown",
   "metadata": {},
   "source": [
    "Key Results: \n",
    "- Key results, time spiked around 3 PM\n",
    "- Clear focus on responding to newsworthy events\n",
    "- high volume around charlottesville"
   ]
  }
 ],
 "metadata": {
  "kernelspec": {
   "display_name": "Python 3",
   "language": "python",
   "name": "python3"
  },
  "language_info": {
   "codemirror_mode": {
    "name": "ipython",
    "version": 3
   },
   "file_extension": ".py",
   "mimetype": "text/x-python",
   "name": "python",
   "nbconvert_exporter": "python",
   "pygments_lexer": "ipython3",
   "version": "3.7.3"
  }
 },
 "nbformat": 4,
 "nbformat_minor": 2
}
