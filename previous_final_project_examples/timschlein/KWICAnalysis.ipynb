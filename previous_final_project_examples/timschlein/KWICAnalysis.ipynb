{
 "cells": [
  {
   "cell_type": "code",
   "execution_count": 1,
   "metadata": {},
   "outputs": [],
   "source": [
    "##################################################################\n",
    "# In this Notebook I conducted a KWIC Analysis\n",
    "# by doing the following:\n",
    "# 1) Separate KWIC analysis of each corpus\n",
    "#################################################################"
   ]
  },
  {
   "cell_type": "code",
   "execution_count": 2,
   "metadata": {},
   "outputs": [
    {
     "name": "stdout",
     "output_type": "stream",
     "text": [
      "WORD                     Corpus A Freq.Corpus B Freq.Keyness\n",
      "============================================================\n",
      "rt                       14819     20408     14027.440\n",
      "enlist                   4512      4738      5550.206\n",
      "charlottesville          1993      2024      2521.437\n",
      "trump                    6592      17142     2259.950\n",
      "army                     1938      2279      2153.811\n",
      "antifa                   1737      1914      2048.929\n",
      "patriot                  1682      1891      1948.606\n",
      "our                      3552      7472      1872.481\n",
      "#usfa                    1384      1446      1709.787\n",
      "the                      17218     68811     1181.541\n",
      "breaking                 2041      4468      1001.659\n",
      "potus                    1489      2815      935.005\n",
      "barbmuenchen             723       767       881.625\n",
      "realdonaldtrump          1775      3956      842.471\n",
      "stand                    1064      1713      837.002\n",
      "join                     1038      1787      746.897\n",
      "look                     1392      2968      716.543\n",
      "patriots                 772       1119      689.955\n",
      "statue                   573       666       643.822\n",
      "us                       2417      7075      608.495\n"
     ]
    }
   ],
   "source": [
    "%run ImportStatements.ipynb\n",
    "%run functions.ipynb\n",
    "%run KeynessAnalysis.ipynb"
   ]
  },
  {
   "cell_type": "markdown",
   "metadata": {},
   "source": [
    "### Simple KWIC Analysis of IRA and All Twitter"
   ]
  },
  {
   "cell_type": "code",
   "execution_count": 3,
   "metadata": {},
   "outputs": [],
   "source": [
    "# I made the KWIC lists here\n",
    "IRA_kwic = make_kwic('charlottesville', IRA_terms)"
   ]
  },
  {
   "cell_type": "code",
   "execution_count": 4,
   "metadata": {},
   "outputs": [
    {
     "name": "stdout",
     "output_type": "stream",
     "text": [
      "httpstcoxiamf5ecly #abi bombshell report  charlottesville  car terrorist is antitrump\n",
      "               president trump reacts to  charlottesville  tragedy httpstcorgiba7z1eb #abiss httpstconc4k5i5giq\n",
      "                  #abi hillary reacts to  charlottesville  by blaming white supremacists\n",
      " #abiss httpstcotlgugqbbdu #abi breaking  charlottesville  death count increases httpstcoywablv6z5e\n",
      "              dinesh dsouzas tweet about  charlottesville  is viral httpstco0fh5mdyrkm #abiss\n",
      "                one person happiest with  charlottesville  httpstcoihlb4fxsmm #abiss httpstcoperixeejsu #abi\n",
      "                   explodes in flames in  charlottesville  httpstcootxb3zad3y #abiss httpstcod3dhequfu5 #abi\n",
      "                      of trump after the  charlottesville  tragedy httpstcoslfszx8qa1 #abiss httpstcorctsdaaicc\n",
      "                         who died in the  charlottesville  tragedy aftermath httpstcopuaf1es06r #abiss\n",
      "                     epic truth bombs in  charlottesville  tweet storm httpstcotwe8juifja #abiss\n",
      "                    punched by antifa in  charlottesville  httpstcotdrj2wwqiu #abiss httpstcodb1xw2fjln #abi\n",
      "                 drone aerial footage of  charlottesville  car plow httpstcoq4imgpk4tn #abiss\n",
      "                 look whose birthday the  charlottesville  tragedy occurred on httpstcoqyer1rx8dg\n",
      "     httpstcomu9ipawpq0 #abi shock video  charlottesville  man has head busted\n",
      "                         at the scene of  charlottesville  httpstcoefluouggl6 #abiss httpstcowk1zfezeko #abi\n",
      "                 breaking first photo of  charlottesville  suspect released httpstcogtjf0bq0ck #abiss\n",
      "                     the truth about the  charlottesville  tragedy httpstcosv2wuehl9h #abiss httpstcorhlyco90yu\n",
      "                 left is responsible for  charlottesville  httpstco79kc1vzfum #abiss httpstcooszkoxgqdp #abi\n",
      "                     blame trump for the  charlottesville  attack httpstcoiosqqh5b1p #abiss httpstcoui6k6hh1jx\n",
      "httpstcona2kheivgr #abiss httpstcoewqw8hyj6s #abi  charlottesville  mayor defends his failure\n",
      "                    on media coverage of  charlottesville  httpstcofa5ln3yq2n #abiss httpstco2zmj6qocyo #abi\n",
      "               kristol said about trumps  charlottesville  statement httpstcofcr7r24wpl #abiss httpstco3h58ktt3by\n",
      "                 the truth about leftist  charlottesville  violence httpstcodhnohuqbnf #abiss httpstcoyizuaxygqq\n",
      "                with liberal media calls  charlottesville  car incident terrorism httpstco75tmrst6ce\n",
      "httpstcomkt3srnxue #abiss httpstcowk9va9m1y0 #abi  charlottesville  police stood down when\n",
      "                  and antifa violence in  charlottesville  httpstcok65vca6nwx #abiss httpstcoobwfxfupfv #abi\n",
      "                 exposes sad truth about  charlottesville  httpstco5d8sdub6h6 #abiss httpstcopr6brwibhh #abi\n",
      "                   not telling you about  charlottesville  httpstco1lllwb6zsk #abiss httpstconlm0ud35ki #abi\n",
      "                       call out trump on  charlottesville  and it backfires httpstcotykpljtvgl\n",
      "                  behind the truth about  charlottesville  httpstcoexjl3xn6i6 #abiss httpstcolsasftz50k #abi\n"
     ]
    }
   ],
   "source": [
    "print_kwic(IRA_kwic[:30])"
   ]
  },
  {
   "cell_type": "code",
   "execution_count": 5,
   "metadata": {},
   "outputs": [],
   "source": [
    "# Did the same for all Twitter\n",
    "twitter_kwic = make_kwic('charlottesville', twitter_terms)"
   ]
  },
  {
   "cell_type": "code",
   "execution_count": 6,
   "metadata": {},
   "outputs": [
    {
     "name": "stdout",
     "output_type": "stream",
     "text": [
      "               president trump reacts to  charlottesville  tragedy https//tco/daylwkhnxh https//tco/magcky3fbj #anca\n",
      "https//tco/lhliy3f741 #anca bombshell report  charlottesville  car terrorist is antitrump?\n",
      "https//tco/xastvhtgm7 #aleex bombshell report  charlottesville  car terrorist is antitrump?\n",
      "               president trump reacts to  charlottesville  tragedy https//tco/uavoy98pgp #alexx https//tco/inwlaeaj61\n",
      "https//tco/zgu78t3npm #anniss bombshell report  charlottesville  car terrorist is antitrump?\n",
      "               president trump reacts to  charlottesville  tragedy https//tco/vry1ug50q1 https//tco/mdfgyjruag #ameliss\n",
      "               to follow developments in  charlottesville  and will provide whatever\n",
      "               president trump reacts to  charlottesville  tragedy https//tco/c3uhsmqtfx #alexdr https//tco/la1lrkjke3\n",
      " new jersey https//tco/3ola35vxie #alexa  charlottesville  car terrorist is antitrump?\n",
      "              cernovich ‘stay away’ from  charlottesville  rally urges va governor\n",
      "            cernovich trumps comments on  charlottesville  https//tco/rwdoklzprt jaketapper why is\n",
      "                  racism and violence in  charlottesville  https//tco/eqvtak28ad rt drwright4congr1 president\n",
      "                      end to violence in  charlottesville  blames many sides …\n",
      "https//tco/xiamf5ecly #abi bombshell report  charlottesville  car terrorist is antitrump?\n",
      "               president trump reacts to  charlottesville  tragedy https//tco/rgiba7z1eb #abiss https//tco/nc4k5i5giq\n",
      "               to follow developments in  charlottesville  and will provide whatever\n",
      "               president trump reacts to  charlottesville  tragedy https//tco/biu0klmxk3 #amis https//tco/yhptodo2pe\n",
      "death” https//tco/7jzj1razim https//tco/ex6xifzclv #ashle  charlottesville  car terrorist is antitrump?\n",
      "               president trump reacts to  charlottesville  tragedy https//tco/aa2evhnudu https//tco/eqzebq6gu4 #ashle\n",
      "https//tco/thbht31gv7 #amms bombshell report  charlottesville  car terrorist is antitrump?\n",
      "                   &amp altleft clash in  charlottesville  https//tco/3xmqrwl3uq #infowars #usa rt\n",
      "           agree #anche bombshell report  charlottesville  car terrorist is antitrump?\n",
      "               president trump reacts to  charlottesville  tragedy https//tco/ukturz6md1 #aamy https//tco/djjsjcgqyk\n",
      "              of #unitetheright march in  charlottesville  https//tco/67e0gvnn4z rt beyaself1 allah\n",
      "https//tco/o0xtgi8tbc #alba bombshell report  charlottesville  car terrorist is antitrump?\n",
      "               president trump reacts to  charlottesville  tragedy https//tco/u0mqw0rcic #albanis https//tco/cx9rvs9rqu\n",
      "               president trump reacts to  charlottesville  tragedy https//tco/z0k3h5kpw4 https//tco/3i7lz0ajy3 trump\n",
      "https//tco/b9owrthmfe https//tco/wmmczjbt9o bombshell report  charlottesville  car terrorist is antitrump?\n",
      "https//tco/cihmd0odwp #ameliss bombshell report  charlottesville  car terrorist is antitrump?\n",
      "               president trump reacts to  charlottesville  tragedy https//tco/9udnblo5k2 #amelin https//tco/fxus1202vd\n"
     ]
    }
   ],
   "source": [
    "print_kwic(twitter_kwic[:30])"
   ]
  },
  {
   "cell_type": "markdown",
   "metadata": {},
   "source": [
    "Key Findings:\n",
    "- A lot of noise\n",
    "- Both corpora are hard to decipher real differences\n",
    "- Seem to just add to noise of Twitter"
   ]
  },
  {
   "cell_type": "code",
   "execution_count": null,
   "metadata": {},
   "outputs": [],
   "source": []
  }
 ],
 "metadata": {
  "kernelspec": {
   "display_name": "Python 3",
   "language": "python",
   "name": "python3"
  },
  "language_info": {
   "codemirror_mode": {
    "name": "ipython",
    "version": 3
   },
   "file_extension": ".py",
   "mimetype": "text/x-python",
   "name": "python",
   "nbconvert_exporter": "python",
   "pygments_lexer": "ipython3",
   "version": "3.7.3"
  }
 },
 "nbformat": 4,
 "nbformat_minor": 2
}
