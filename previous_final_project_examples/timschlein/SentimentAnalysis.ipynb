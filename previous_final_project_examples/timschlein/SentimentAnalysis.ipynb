{
 "cells": [
  {
   "cell_type": "code",
   "execution_count": 1,
   "metadata": {},
   "outputs": [],
   "source": [
    "##################################################################\n",
    "# In this Notebook I conducted Sentiment Analysis \n",
    "# by doing the following:\n",
    "# 1) I first compiled all tweets mentioning charlottesville from the All Twitter Scraped Tweets\n",
    "# 2) Passed these Tweets through the Sentiment analysis\n",
    "# 3) For these texts I also calculated the V, A, and D scores and found a mean of their\n",
    "# composites\n",
    "# 4) Put and formatted these texts into a single table\n",
    "#################################################################"
   ]
  },
  {
   "cell_type": "code",
   "execution_count": 2,
   "metadata": {},
   "outputs": [],
   "source": [
    "# Here are the notebooks I needed\n",
    "%run ImportStatements.ipynb\n",
    "%run functions.ipynb"
   ]
  },
  {
   "cell_type": "markdown",
   "metadata": {},
   "source": [
    "### Data formatting"
   ]
  },
  {
   "cell_type": "code",
   "execution_count": 3,
   "metadata": {},
   "outputs": [],
   "source": [
    "# First I read in both JSON files I compiled of tweets that mentioned Charlottesville\n",
    "tweets = []\n",
    "for line in open('data/charlottesvillerally/#charlottesville_2017-08-11_to_2017-08-20.json', 'r'):\n",
    "    tweets.append(json.loads(line))\n",
    "    \n",
    "for line in open('data/charlottesvillerally/#charlottesville_2017-08-11_to_2017-08-20.json', 'r'):\n",
    "    tweets.append(json.loads(line))\n",
    "\n",
    "# I then compiled all the text into a single list\n",
    "all_tweets_text = []\n",
    "for tweet in tweets:\n",
    "    all_tweets_text.append(tweet)\n",
    "\n",
    "# Here I read in the 2017 IRA file and reformatted, subsetted, and prepared it for analysis\n",
    "IRA2017 = pd.read_csv(\"data/2017/IRA2017.csv\")\n",
    "IRA2017['publish_date'] = pd.to_datetime(IRA2017['publish_date']).dt.strftime('%Y/%m/%d')\n",
    "IRA2017 = pd.DataFrame(IRA2017).sort_values(by='publish_date') \n",
    "IRA2017_charlottesville = IRA2017[(IRA2017['publish_date'] >= '2017/08/11') & (IRA2017['publish_date'] <= '2017/08/20')]\n",
    "\n",
    "# I then checked for Tweets mentioning charlottesvillerally or charlottesvillerallyrally \n",
    "IRA2017_charlottesvillerally = []\n",
    "\n",
    "for item in IRA2017_charlottesville['content']:\n",
    "    if item.lower().count(\"charlottesvillerally\") > 0 or item.lower().count(\"charlottesville\") > 0:\n",
    "        IRA2017_charlottesvillerally.append(item)"
   ]
  },
  {
   "cell_type": "markdown",
   "metadata": {},
   "source": [
    "### All VAD Score"
   ]
  },
  {
   "cell_type": "code",
   "execution_count": 4,
   "metadata": {},
   "outputs": [],
   "source": [
    "# Here I performed some sentiment analysis\n",
    "sid = SentimentIntensityAnalyzer()\n",
    "\n",
    "sid_scores_IRA = []\n",
    "for tweet in IRA2017_charlottesvillerally:\n",
    "    sid_scores_IRA.append(sid.polarity_scores(tweet))\n",
    "\n",
    "sid_scores_all = []\n",
    "for tweet in all_tweets_text:\n",
    "    sid_scores_all.append(sid.polarity_scores(tweet['text']))\n",
    "\n",
    "\n",
    "# This shows how much more negative the IRA Tweets are than the overall Twitter discussion"
   ]
  },
  {
   "cell_type": "code",
   "execution_count": 5,
   "metadata": {},
   "outputs": [
    {
     "data": {
      "text/plain": [
       "-0.1962597586350404"
      ]
     },
     "execution_count": 5,
     "metadata": {},
     "output_type": "execute_result"
    }
   ],
   "source": [
    "sum([t['compound'] for t in sid_scores_IRA])/ len(IRA2017_charlottesvillerally)"
   ]
  },
  {
   "cell_type": "code",
   "execution_count": 6,
   "metadata": {},
   "outputs": [
    {
     "data": {
      "text/plain": [
       "-0.07746629999999999"
      ]
     },
     "execution_count": 6,
     "metadata": {},
     "output_type": "execute_result"
    }
   ],
   "source": [
    "sum([t['compound'] for t in sid_scores_all])/ len(all_tweets_text)"
   ]
  },
  {
   "cell_type": "markdown",
   "metadata": {},
   "source": [
    "- IRA Tone was overall more negative\n",
    "- Not as significant of a difference as I would have expected"
   ]
  },
  {
   "cell_type": "markdown",
   "metadata": {},
   "source": [
    "### VAD Analysis"
   ]
  },
  {
   "cell_type": "code",
   "execution_count": 7,
   "metadata": {},
   "outputs": [],
   "source": [
    "NRC_VAD_lexicon = open('data/NRC-VAD-Lexicon.txt').readlines()\n",
    "\n",
    "NRC_VAD = {}\n",
    "\n",
    "for r, line in enumerate(open('data/NRC-VAD-Lexicon.txt')):\n",
    "    if r>0:\n",
    "        word, V,A,D = line.strip().split('\\t')\n",
    "        NRC_VAD[word] = {'V': float(V), \n",
    "                         'A': float(A),\n",
    "                         'D': float(D)}"
   ]
  },
  {
   "cell_type": "code",
   "execution_count": 8,
   "metadata": {},
   "outputs": [],
   "source": [
    "tt=TweetTokenizer()"
   ]
  },
  {
   "cell_type": "code",
   "execution_count": 9,
   "metadata": {},
   "outputs": [],
   "source": [
    "# One important step is converting the IRA2017 panda dataframe into a dictionary so that I can \n",
    "# utilize the VADER functions\n",
    "dictIRA2017 = IRA2017_charlottesville.T.to_dict().values()\n",
    "\n",
    "for tweet1 in tweets:\n",
    "    process_tweet(tweet1)\n",
    "\n",
    "for tweet2 in dictIRA2017:\n",
    "    process_tweet(tweet2)\n",
    "    \n",
    "    "
   ]
  },
  {
   "cell_type": "code",
   "execution_count": 10,
   "metadata": {},
   "outputs": [],
   "source": [
    "# I then created separate lists to measure each of the scores so I could find a compound\n",
    "totalVTwitter = []\n",
    "totalATwitter = []\n",
    "totalDTwitter = []\n",
    "totalVIRA = []\n",
    "totalAIRA = []\n",
    "totalDIRA = []\n",
    "\n",
    "for item in tweets:\n",
    "    totalVTwitter.append(item.get(\"Valence\",''))\n",
    "    totalATwitter.append(item.get(\"Arousal\",''))\n",
    "    totalDTwitter.append(item.get(\"Dominance\",''))\n",
    "\n",
    "for item in dictIRA2017:\n",
    "    totalVIRA.append(item.get(\"Valence\",''))\n",
    "    totalAIRA.append(item.get(\"Arousal\",''))\n",
    "    totalDIRA.append(item.get(\"Dominance\",''))"
   ]
  },
  {
   "cell_type": "markdown",
   "metadata": {},
   "source": [
    "### VAD Table"
   ]
  },
  {
   "cell_type": "code",
   "execution_count": 11,
   "metadata": {},
   "outputs": [],
   "source": [
    "# I then made a list of values that I could format into a nice table\n",
    "values = [['<b>All Twitter</b>', '<b>Internet Research Agency</b>', '<b>Difference</b>'], #1st col\n",
    "    [str(average(totalVTwitter)),str(average(totalVIRA)),str(round(average(totalVTwitter)-average(totalVIRA),2))],\n",
    "    [str(average(totalATwitter)),str(average(totalAIRA)),str(round(average(totalATwitter)-average(totalAIRA),2))],\n",
    "    [str(average(totalDTwitter)),str(average(totalDIRA)),str(round(average(totalDTwitter)-average(totalDIRA),2))]\n",
    "    ]\n",
    "\n",
    "colors = ['royalblue', 'white', 'white',\n",
    "          'gray']\n",
    "\n",
    "\n",
    "fig_VAD = go.Figure(data=[go.Table(\n",
    "  columnorder = [1,2,3,4],\n",
    "  columnwidth = [80,80,80,80,80],\n",
    "  header = dict(\n",
    "    values = [['<b>Corpus</b>'],\n",
    "                  ['<b>Valence</b>'],\n",
    "             ['<b>Arousal</b>'],\n",
    "             ['<b>Dominance</b>']],\n",
    "    line_color='darkslategray',\n",
    "    fill_color='royalblue',\n",
    "    align=['left','center'],\n",
    "    font=dict(color='white', size=12),\n",
    "    height=20\n",
    "  ),\n",
    "  cells=dict(\n",
    "    values=values,\n",
    "    line_color='darkslategray',\n",
    "    align=['left', 'center'],\n",
    "    font_size=12,\n",
    "    height=30)\n",
    "    )\n",
    "])\n",
    "\n",
    "fig_VAD.write_html(\"images/VAD_table.html\")\n",
    "\n"
   ]
  },
  {
   "cell_type": "markdown",
   "metadata": {},
   "source": [
    "Key Findings:\n",
    "- IRA is overall more negative than Twitter\n",
    "- When comparing individual scores, not that much of a difference, suggesting echo theory\n",
    "- Emphasizes the \"adding to noise\" effort"
   ]
  },
  {
   "cell_type": "code",
   "execution_count": null,
   "metadata": {},
   "outputs": [],
   "source": []
  }
 ],
 "metadata": {
  "kernelspec": {
   "display_name": "Python 3",
   "language": "python",
   "name": "python3"
  },
  "language_info": {
   "codemirror_mode": {
    "name": "ipython",
    "version": 3
   },
   "file_extension": ".py",
   "mimetype": "text/x-python",
   "name": "python",
   "nbconvert_exporter": "python",
   "pygments_lexer": "ipython3",
   "version": "3.7.3"
  }
 },
 "nbformat": 4,
 "nbformat_minor": 2
}
