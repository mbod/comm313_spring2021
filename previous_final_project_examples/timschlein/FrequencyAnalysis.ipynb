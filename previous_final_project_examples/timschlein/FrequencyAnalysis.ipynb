{
 "cells": [
  {
   "cell_type": "code",
   "execution_count": 1,
   "metadata": {},
   "outputs": [],
   "source": [
    "##################################################################\n",
    "# In this Notebook I conducted my various frequency analysis \n",
    "# by doing the following:\n",
    "# 1) Doing an all IRA analysis of the text\n",
    "# 2) Doing a targeted analysis of charlottesville Tweets excluding stop words\n",
    "#################################################################\n",
    "\n",
    "# Needed notebooks left at the top\n",
    "%run ImportStatements.ipynb\n",
    "%run functions.ipynb"
   ]
  },
  {
   "cell_type": "markdown",
   "metadata": {},
   "source": [
    "### IRA: Imported CSV files and tokenized"
   ]
  },
  {
   "cell_type": "code",
   "execution_count": 2,
   "metadata": {},
   "outputs": [],
   "source": [
    "# Here is my stop words list\n",
    "stop_list = ['the', 'a', 'an', 'and', 'rt', 'in', 'is','of', 'with', 'for','on','to','about','his','by','at']"
   ]
  },
  {
   "cell_type": "code",
   "execution_count": 3,
   "metadata": {},
   "outputs": [],
   "source": [
    "# I then appended and tokenized each CSV file into a manageable counter\n",
    "years = [2014, 2015, 2016, 2017, 2018]\n",
    "to_strip = ',.\\xa0:-()\\';$\"/?][!`Ą@Ś§¨’–“”…ï‘>&\\\\%˝˘*'\n",
    "\n",
    "allTerms = Counter()\n",
    "\n",
    "for year in years:\n",
    "    data = pd.read_csv(\"data/\" + str(year) + \"/IRA\" + str(year) + \".csv\")\n",
    "    for item in data['content']:\n",
    "        tokenized = tokenize(item, True, to_strip)\n",
    "        allTerms.update(tokenized)\n",
    "       \n"
   ]
  },
  {
   "cell_type": "markdown",
   "metadata": {},
   "source": [
    "### IRA: Filtered dictionary analysis"
   ]
  },
  {
   "cell_type": "code",
   "execution_count": 4,
   "metadata": {},
   "outputs": [],
   "source": [
    "# I then did the same for the IRA terms, filtering by charlottesville content. I compared to my stop list to remove\n",
    "# less important words\n",
    "IRA_terms = []\n",
    "\n",
    "allTermsNoStop = Counter()\n",
    "\n",
    "for year in years:\n",
    "    data = pd.read_csv(\"data/\" + str(year) + \"/IRA\" + str(year) + \".csv\")\n",
    "    for item in data['content']:\n",
    "        if item.lower().find('charlottesville')>0:\n",
    "            toks = tokenize(item, True, to_strip)\n",
    "            tokens_without_sw = [word for word in toks if not word in stop_list]\n",
    "            IRA_terms.extend(toks)\n",
    "            allTermsNoStop.update(tokens_without_sw)"
   ]
  },
  {
   "cell_type": "code",
   "execution_count": 5,
   "metadata": {},
   "outputs": [
    {
     "data": {
      "text/plain": [
       "[('the', 68811),\n",
       " ('to', 55636),\n",
       " ('a', 37563),\n",
       " ('in', 36428),\n",
       " ('of', 33301),\n",
       " ('is', 28048),\n",
       " ('for', 25760),\n",
       " ('and', 25232),\n",
       " ('в', 20859),\n",
       " ('rt', 20408),\n",
       " ('you', 19601),\n",
       " ('on', 19204),\n",
       " ('i', 18088),\n",
       " ('trump', 17142),\n",
       " ('at', 14299),\n",
       " ('this', 13554),\n",
       " ('with', 13336),\n",
       " ('it', 12384),\n",
       " ('that', 11870),\n",
       " ('are', 11592)]"
      ]
     },
     "execution_count": 5,
     "metadata": {},
     "output_type": "execute_result"
    }
   ],
   "source": [
    "# Here I printed out the final results:\n",
    "allTerms.most_common(20)"
   ]
  },
  {
   "cell_type": "code",
   "execution_count": 6,
   "metadata": {},
   "outputs": [
    {
     "data": {
      "text/plain": [
       "[('charlottesville', 2017),\n",
       " ('trump', 402),\n",
       " ('#charlottesville', 376),\n",
       " ('antifa', 291),\n",
       " ('video', 274),\n",
       " ('trumps', 226),\n",
       " ('truth', 221),\n",
       " ('tragedy', 217),\n",
       " ('violence', 196),\n",
       " ('media', 176),\n",
       " ('breaking', 150),\n",
       " ('look', 136),\n",
       " ('what', 136),\n",
       " ('car', 135),\n",
       " ('after', 131),\n",
       " ('response', 129),\n",
       " ('new', 119),\n",
       " ('reveals', 107),\n",
       " ('police', 105),\n",
       " ('dinesh', 104)]"
      ]
     },
     "execution_count": 6,
     "metadata": {},
     "output_type": "execute_result"
    }
   ],
   "source": [
    "allTermsNoStop.most_common(20)"
   ]
  },
  {
   "cell_type": "markdown",
   "metadata": {},
   "source": [
    "Key Findings:\n",
    "- Large focus on galvanizing support\n",
    "- Take-arms theme\n",
    "- Seems to support left and right of political spectrum"
   ]
  },
  {
   "cell_type": "code",
   "execution_count": null,
   "metadata": {},
   "outputs": [],
   "source": []
  }
 ],
 "metadata": {
  "kernelspec": {
   "display_name": "Python 3",
   "language": "python",
   "name": "python3"
  },
  "language_info": {
   "codemirror_mode": {
    "name": "ipython",
    "version": 3
   },
   "file_extension": ".py",
   "mimetype": "text/x-python",
   "name": "python",
   "nbconvert_exporter": "python",
   "pygments_lexer": "ipython3",
   "version": "3.7.3"
  }
 },
 "nbformat": 4,
 "nbformat_minor": 2
}
