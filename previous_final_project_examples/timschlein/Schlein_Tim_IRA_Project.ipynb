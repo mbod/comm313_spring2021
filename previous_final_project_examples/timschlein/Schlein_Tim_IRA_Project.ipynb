{
 "cells": [
  {
   "cell_type": "code",
   "execution_count": 1,
   "metadata": {},
   "outputs": [],
   "source": [
    "%run ImportStatements.ipynb"
   ]
  },
  {
   "cell_type": "markdown",
   "metadata": {},
   "source": [
    "# How did Russian Trolls Polarize America?: A Language-Based Analysis of the IRA Disinformation Campaign\n",
    "By: Tim Schlein<br/>Date: May 10, 2020 <br/> Professor O'Donnell <br/> COMM 313: Computational Text Analysis"
   ]
  },
  {
   "cell_type": "markdown",
   "metadata": {},
   "source": [
    "## Introduction\n",
    "In this analysis I will attempt to better understand the nature of the <i>Internet Research Agency's</i> (IRA) disinformation campaign during the 2016 campaign cycle.  More specifically, I am interested in the linguistic mechanisms, frequency, and targeting strategies of the group.  Throughout this period, the topic of \"disinformation\" dominated the discussions in both the media news cycles and at the highest levels of government.  My goal is to dissect and discover whether the group was as \"effective\" as claimed.  In order to assess this, I describe effectiveness as being equivalent to how polarizing the group's messaging was.  It is quite clear that the intention of the Russian government and associated proxies was to divide the American public by catering their messaging to instill division within vulnerable groups, themes, and events.  I argue that the IRA's central focus was supporting the political \"Right\" in America through clear and divisive language, timing, and structure. I also would like to make it clear that the extent of the Russian government's disinformation strategies were not solely limited to Twitter; they took place across many social media platforms.  Additionally, the sample of Tweets that I have collected are thanks to the tireless effort of Clemson University Professors <b>Darren Linvill</b> and <b>Patrick Warren</b>.  Their methodology for tagging and collecting these Tweets is available at https://github.com/fivethirtyeight/russian-troll-tweets. In addition to this data, I also scraped over a thousand Tweets using Tweepy, specifically looking for Charlottesville Rally content in the week before and after August 12, 2017. <br/>\n",
    "\n",
    "<b>Research Question:</b>\n",
    "1) How did the IRA use language to polarize Americans?\n",
    "\n",
    "&nbsp;&nbsp;&nbsp;&nbsp;&nbsp;The structure of my paper is as follows:<br/>\n",
    "&nbsp;&nbsp;&nbsp;&nbsp;&nbsp;<b>Section 1</b>: <i>Presentation of the Data and Basic Analysis</i><br/>\n",
    "&nbsp;&nbsp;&nbsp;&nbsp;&nbsp;<b>Section 2</b>: <i>Word Frequency Analysis</i><br/>\n",
    "&nbsp;&nbsp;&nbsp;&nbsp;&nbsp;<b>Section 3</b>: <i>Keyness Analysis</i><br/>\n",
    "&nbsp;&nbsp;&nbsp;&nbsp;&nbsp;<b>Section 4</b>: <i>Sentiment Analysis (Both macro and targeted)</i><br/>\n",
    "&nbsp;&nbsp;&nbsp;&nbsp;&nbsp;<b>Section 5</b>: <i>KWIC Analysis</i><br/>\n",
    "&nbsp;&nbsp;&nbsp;&nbsp;&nbsp;<b>Conclusion</b><br/>\n"
   ]
  },
  {
   "cell_type": "markdown",
   "metadata": {},
   "source": [
    "## Section 1: Presentation of the Data and Basic Analysis\n",
    "To begin my analysis, I think it would be appropriate to provide a macro view of the issue as a whole.  The true dimensions of the IRA Twitter disinformation campaign are <b>STAGGERING</b> in size and impossible to fully catalog.  For instance, the Clemson University professors gathered close to <b>3 million</b> Tweets.  For computational purposes/to prevent my laptop from melting, I have a much smaller sample of <b>243,891</b> Tweets. <br/> <br/>Within this subset, there are numerous variables including, but not limited to:<br/>\n",
    "       &nbsp;&nbsp;&nbsp;&nbsp;&nbsp;&nbsp;<i><code>'external_author_id'</code><br/>\n",
    "       &nbsp;&nbsp;&nbsp;&nbsp;&nbsp;&nbsp;<code>'author'</code><br/> \n",
    "       &nbsp;&nbsp;&nbsp;&nbsp;&nbsp;&nbsp;<code>'content'</code><br/>\n",
    "       &nbsp;&nbsp;&nbsp;&nbsp;&nbsp;&nbsp;<code>'region'</code><br/>\n",
    "       &nbsp;&nbsp;&nbsp;&nbsp;&nbsp;&nbsp;<code>'language'</code><br/>\n",
    "       &nbsp;&nbsp;&nbsp;&nbsp;&nbsp;&nbsp;<code>'publish_date'</code><br/>\n",
    "       &nbsp;&nbsp;&nbsp;&nbsp;&nbsp;&nbsp;<code>'harvested_date'</code><br/>\n",
    "       &nbsp;&nbsp;&nbsp;&nbsp;&nbsp;&nbsp;<code>'following'</code><br/>\n",
    "       &nbsp;&nbsp;&nbsp;&nbsp;&nbsp;&nbsp;<code>'followers'</code><br/>\n",
    "       &nbsp;&nbsp;&nbsp;&nbsp;&nbsp;&nbsp;<code>'updates'</code><br/>\n",
    "       &nbsp;&nbsp;&nbsp;&nbsp;&nbsp;&nbsp;<code>'post_type'</code><br/>\n",
    "       &nbsp;&nbsp;&nbsp;&nbsp;&nbsp;&nbsp;<code>'account_type'</code><br/>\n",
    "       &nbsp;&nbsp;&nbsp;&nbsp;&nbsp;&nbsp;<code>'retweet'</code><br/>\n",
    "       &nbsp;&nbsp;&nbsp;&nbsp;&nbsp;&nbsp;<code>'account_category'</code></i>"
   ]
  },
  {
   "cell_type": "markdown",
   "metadata": {},
   "source": [
    "I think it is important to establish a basic time line to demonstrate the amount of planning that went into the IRA's effort.  It also serves to illustrate how responsive these campaigns were to current events.  In the figure below I added labels to provide historical context.  The data represents the dispersion of all IRA Tweets across all IRA accounts by day starting in late 2014 until early 2018.  One of the most remarkable findings was, by far, the number of Tweets posted during the Charlottesville Rally.  The attention paid to this event by traditional news outlet's and social media was incredible, so it makes sense why the IRA  hijacked the emotional frenzy for malicious purposes. I will go more into depth as to what exactly happened during this tragedy.  Interestingly, one would have thought the 2016 election itself would have resulted in the largest quantity of IRA Tweets. I found it useful to use Plotly because it allows the user to inspect time periods of interest, especially given the longevity of the campaign."
   ]
  },
  {
   "cell_type": "code",
   "execution_count": 2,
   "metadata": {},
   "outputs": [
    {
     "data": {
      "text/html": [
       "\n",
       "        <iframe\n",
       "            width=\"1000\"\n",
       "            height=\"600\"\n",
       "            src=\"images/IRA_Act_Day.html\"\n",
       "            frameborder=\"0\"\n",
       "            allowfullscreen\n",
       "        ></iframe>\n",
       "        "
      ],
      "text/plain": [
       "<IPython.lib.display.IFrame at 0x7f7ea9683860>"
      ]
     },
     "execution_count": 2,
     "metadata": {},
     "output_type": "execute_result"
    }
   ],
   "source": [
    "IFrame(src='images/IRA_Act_Day.html', width=1000, height=600)"
   ]
  },
  {
   "cell_type": "markdown",
   "metadata": {},
   "source": [
    "Additionally, I thought it was important to zoom in even more by examining the timeline by day. A significant portion of disinformation campaigns conducted by the Russian government involved what are called \"sockpuppet\" accounts, or bots that are automated to send specially crafted content. Some reports demonstrate this through heat maps of Twitter postings by correlating the frequency of postings to a specific time.  If there is a sudden flurry, at say 2:00 PM, it is likely that a machine was programmed to execute this task. The IRA, however, was a group of several hundred individuals based in St. Petersburg (United States, 4).  Below is a graph of IRA activity by hour, separated by year as well as aggregated from 2014 to 2018 show in \"Year=total\".  "
   ]
  },
  {
   "cell_type": "code",
   "execution_count": 3,
   "metadata": {},
   "outputs": [
    {
     "data": {
      "text/html": [
       "\n",
       "        <iframe\n",
       "            width=\"1000\"\n",
       "            height=\"600\"\n",
       "            src=\"images/IRA_Act_Hour.html\"\n",
       "            frameborder=\"0\"\n",
       "            allowfullscreen\n",
       "        ></iframe>\n",
       "        "
      ],
      "text/plain": [
       "<IPython.lib.display.IFrame at 0x7f7ea9683e48>"
      ]
     },
     "execution_count": 3,
     "metadata": {},
     "output_type": "execute_result"
    }
   ],
   "source": [
    "IFrame(src='images/IRA_Act_Hour.html', width=1000, height=600)"
   ]
  },
  {
   "cell_type": "markdown",
   "metadata": {},
   "source": [
    "## Section 2: Word Frequency Analysis"
   ]
  },
  {
   "cell_type": "markdown",
   "metadata": {},
   "source": [
    "Continuing the macro to micro \"zoom\" approach of my analysis, I needed to investigate the content of the Tweets produced by the IRA.  Using a simple <i>tokenize</i> function and through updating a counter, I determined the most common words in the sample.  Unsurprisingly, the top 20 words were mostly common stop words.  However, \"<i>trump</i>\" made an appearance at number 14 on the list."
   ]
  },
  {
   "cell_type": "markdown",
   "metadata": {},
   "source": [
    "<img src=\"images/allTerms.most_common.png\">"
   ]
  },
  {
   "cell_type": "markdown",
   "metadata": {},
   "source": [
    "<img src=\"images/allTerms.most_common_OUTPUT.png\">"
   ]
  },
  {
   "cell_type": "markdown",
   "metadata": {},
   "source": [
    "If we focus on Tweets during the Charlottesville Rally, as well as filter out common stop words, we get a more interesting result. Due to the computationally exhaustive process of checking every permutation of a stop word in each Charlottesville Tweet, it is limited to just Tweets containing the word <i>\"charlottesville\"</i>. Given more time and resources, it would be interesting to attempt this process on the entire sample. This is the first clear instance of using potentially polarizing terms, such as <i>\"antifa\", \"truth\", \"trump\"</i>, and <i>\"response\"</i>.  However, it would be irresponsible to conclude, after such a simple exploration, that this is the extent of the IRA's disinformation tactics.  I will continue to unpack how this language was used in the following sections."
   ]
  },
  {
   "cell_type": "markdown",
   "metadata": {},
   "source": [
    "<img src=\"images/allTermsNoStop.most_common.png\">"
   ]
  },
  {
   "cell_type": "markdown",
   "metadata": {},
   "source": [
    "<img src=\"images/allTermsNoStop.most_common_OUTPUT.png\">"
   ]
  },
  {
   "cell_type": "markdown",
   "metadata": {},
   "source": [
    "## Section 3: Keyness Analysis"
   ]
  },
  {
   "cell_type": "markdown",
   "metadata": {},
   "source": [
    "To further my investigation of term usage, I conducted a basic keyness analysis between two corpora.  The first corpus is a series of Tweets scraped from Twitter. These Tweets were identified by grabbing content containing the hashtags <i>\"#charlottesville\"</i> or <i>\"#charlottesvillerally\"</i> with a date range of August 11, 2017 (the 12th was the tragedy) to August 20, 2017.  By selecting a date range before and after the aftermath of the rally, I hoped to grab a more nuanced slice of the Twitter chatter. I placed these Tweets directly scraped from Twitter first in the keyness analysis due to the frequent presence of Russian characters and other less manageable tokens in the IRA sample. The <i>Freq.Keyness</i> column is a measure of the log likelihood of the given term in comparing the two corpora. "
   ]
  },
  {
   "cell_type": "markdown",
   "metadata": {},
   "source": [
    "<img src=\"images/calculate_keyness.png\">"
   ]
  },
  {
   "cell_type": "markdown",
   "metadata": {},
   "source": [
    "<img src=\"images/calculate_keyness_OUTPUT.png\">"
   ]
  },
  {
   "cell_type": "markdown",
   "metadata": {},
   "source": [
    "Unlike the basic term frequency analysis conducted in <b>Section 2</b>, this metric identifies just how much more common a particular term was between the compared corpora.  In the case of \"<i>antifa</i>\", \"<i>patriot</i>\" or \"<i>barbmuenchen</i>\"* etc, there are more clearly divisive terms that stand out.  As a step further, the language used far more frequently in the IRA sample suggests an almost galvanizing tone as highlighted by terms such as \"<i>join</i>\", \"<i>us</i>\", or \"<i>army</i>\".  This would confirm many reports that there were events and rallies  organized by Russian operatives to further polarize and energize the public (United States, 25).  Another key finding is the clearly heavy bias towards supporting of Donald Trump.  We can confirm this through KWIC analysis to determine whether this support is positive or negative.<br><br><br>\n",
    "\n",
    "*<i>barbmuenchen</i> is a Pro Trump Twitter account with over 95k followers"
   ]
  },
  {
   "cell_type": "markdown",
   "metadata": {},
   "source": [
    "## Section 4: Sentiment Analysis"
   ]
  },
  {
   "cell_type": "markdown",
   "metadata": {},
   "source": [
    "A crucial ingredient in a successful disinformation campaign is emotional fervor.  In other words, creating content that polarizes people likely relies on prompting a human, emotional response. An important part of the social media echo chamber effect relies on the principle of \"homophily\", or the tendency of humans to relay content shared by their friends on a given social media site (M. De Choudhury).  IRA efforts to expand their reach were clearly successful, so in this section I analyzed the emotional content of the Tweets. Also known as Sentiment Analysis, there are various methods to score language. I used both a macro and micro approach, once again, in evaluating the emotional content of IRA tweets.  After feeding all the IRA tweets for the Charlottesville Rally filter through a Sentiment Analyzer, we got these two scores:"
   ]
  },
  {
   "cell_type": "markdown",
   "metadata": {},
   "source": [
    "<img src=\"images/sentiment_analysis.png\">"
   ]
  },
  {
   "cell_type": "markdown",
   "metadata": {},
   "source": [
    "The first score (-0.20) represents the mean composite score of all the IRA Tweets (remember, we filtered by Charlottesville rally content), and the second score (-0.08) is the general corpus of Tweets scraped directly from Twitter that specifically mention the Charlottesville Rally.  A score of 1 is perfectly positive.  A score of -1 is perfectly negative.  Overall it would seem that the majority of Tweets posted tended toward the negative side.  Interestingly, IRA Tweets tended to possess slightly more negative content.  The difference between both corpora does not appear to be all that significant, suggesting that the IRA was able to seamlessly fit into the Twitter narrative frenzy.  In order to confirm this, we need to be targeted with our emotional analysis.  Using a more sophisticated method, we can estimate the sentiment of these Tweet using VAD scores for each Tweet in each corpus. The VAD Lexicon is specially tailored for social media language usage and habits.  Each score is defined, as quoted from the website, as the following (Mohammad):<br>\n",
    "\n",
    "&nbsp;&nbsp;&nbsp;&nbsp;&nbsp;<b>V</b>: <i>valence is the positive--negative or pleasure--displeasure dimension</i><br>\n",
    "&nbsp;&nbsp;&nbsp;&nbsp;&nbsp;<b>A</b>: <i>arousal is the excited--calm or active--passive dimension</i><br>\n",
    "&nbsp;&nbsp;&nbsp;&nbsp;&nbsp;<b>D</b>: <i>dominance is the powerful--weak or 'have full control'--'have no control' dimension</i><br>\n",
    "\n",
    "Below are my findings:\n"
   ]
  },
  {
   "cell_type": "code",
   "execution_count": 4,
   "metadata": {},
   "outputs": [
    {
     "data": {
      "text/html": [
       "\n",
       "        <iframe\n",
       "            width=\"1000\"\n",
       "            height=\"400\"\n",
       "            src=\"images/VAD_table.html\"\n",
       "            frameborder=\"0\"\n",
       "            allowfullscreen\n",
       "        ></iframe>\n",
       "        "
      ],
      "text/plain": [
       "<IPython.lib.display.IFrame at 0x7f7ea9683cf8>"
      ]
     },
     "execution_count": 4,
     "metadata": {},
     "output_type": "execute_result"
    }
   ],
   "source": [
    "IFrame(src='images/VAD_table.html', width=1000, height=400)"
   ]
  },
  {
   "cell_type": "markdown",
   "metadata": {},
   "source": [
    "These results largely confirm my suspicion of \"seamless\" integration into the Twitter narrative at the time.  There is no significant difference between the \"All Twitter\" content and IRA Tweets. Many reports argue that the group was able to better hide their identity over time as well as improve its tactics (United States, 30-38).  Given that this was late in 2017, this seems to support that argument."
   ]
  },
  {
   "cell_type": "markdown",
   "metadata": {},
   "source": [
    "## Section 5: KWIC Analysis"
   ]
  },
  {
   "cell_type": "markdown",
   "metadata": {},
   "source": [
    "In this final section I attempted to put all the pieces together.  We have looked at overall trends, including the dimension of time, term frequency, keyness, and emotional sentiment.  Lastly, I want to see how the language was used in the broader context of the Tweet.  Using KWIC analysis, which allows the user to organize text around a pre-determined term, one can analyze context.  This is incredibly important because even if Trump is mentioned in a Tweet, it does not mean it is automatically in support.  For the sake of brevity, I conducted basic KWIC analysis surrounding the usage of the word \"charlottesville\" in both the \"All Twitter\" corpus and the IRA Charlottesville corpus."
   ]
  },
  {
   "cell_type": "markdown",
   "metadata": {},
   "source": [
    "<img src=\"images/Twitter_KWIC.png\">"
   ]
  },
  {
   "cell_type": "markdown",
   "metadata": {},
   "source": [
    "<img src=\"images/Twitter_KWIC_OUTPUT.png\">"
   ]
  },
  {
   "cell_type": "markdown",
   "metadata": {},
   "source": [
    "And here is the KWIC for the IRA Tweets:"
   ]
  },
  {
   "cell_type": "markdown",
   "metadata": {},
   "source": [
    "<img src=\"images/IRA_KWIC.png\">"
   ]
  },
  {
   "cell_type": "markdown",
   "metadata": {},
   "source": [
    "<img src=\"images/IRA_KWIC_OUTPUT.png\">"
   ]
  },
  {
   "cell_type": "markdown",
   "metadata": {},
   "source": [
    "Conducting the KWIC analysis on such an obviously polarizing topic was really difficult. As I continued to struggle to discern trends and differences between both corpora, I realized it was all a hopeless mess. I mentioned throughout this post how the sole intention of the IRA was to sow discord amongst the American public through mass interjection of disinformation.  Even if the information wasn't false, by harnessing the echo chamber effect of Twitter, the IRA could accomplish its task.  Put more succinctly, by adding to the noise, it only helped the IRA's chances.  While there is no absolute way to measure the American public's \"polarization\" score independent of and taking into consideration disinformation, it is likely that the IRA was effective. The mass volume of Tweets measured in the first graph supports this."
   ]
  },
  {
   "cell_type": "markdown",
   "metadata": {},
   "source": [
    "# Conclusion"
   ]
  },
  {
   "cell_type": "markdown",
   "metadata": {},
   "source": [
    "Through this analysis I discovered the Internet Research Agency's characterizing features by looking at distribution, term usage in both numbers and context, and emotional substance.  Not unlike  disinformation attempts on other social platforms, the IRA took advantage of the globalizing effect of Twitter by stoking both the political Left and Right into conflict with one another.  The key findings are as follows:<br><br>\n",
    "&nbsp;&nbsp;&nbsp;&nbsp;&nbsp;<b>1) The IRA was overall more supportive of President Trump and the political \"Right\"</b><br>\n",
    "&nbsp;&nbsp;&nbsp;&nbsp;&nbsp;<b>2) The group's Twitter content was able to blend in with the general Twitter narrative</b>\n",
    "<br>&nbsp;&nbsp;&nbsp;&nbsp;&nbsp;<b>3) They helped extend the internet's wide-reaching tentacles by adding to the sheer volume of content produced</b><br><br>\n",
    "One of the biggest struggles of this paper was simply doing the busy-work and segmenting the data into manageable chunks.  My project dealt with a large quantity of data and at times was difficult to sort through to find trends or anything of note. Looking into the future, it is likely that there will be more disinformation spreading attempts.  Additionally, as the quality of the content improves, it will likely become more difficult to trace to a foreign nation state.  This will be an incredibly difficult task that both the public and private sector will need to tackle."
   ]
  },
  {
   "cell_type": "markdown",
   "metadata": {},
   "source": [
    "## Bibliography"
   ]
  },
  {
   "cell_type": "markdown",
   "metadata": {},
   "source": [
    "Linvill, Darren, and Patrick Warren. “3 Million Russian Troll Tweets.” <i>GitHub</i>, Fivethirtyeight, 28 Aug. 2018, github.com/fivethirtyeight/russian-troll-tweets.<br>\n",
    "\n",
    "M. De Choudhury, \"Tie Formation on Twitter: Homophily and Structure of Egocentric Networks,\" <i>2011 IEEE Third International Conference on Privacy, Security, &nbsp; &nbsp;&nbsp;&nbsp;&nbsp;&nbsp;&nbsp; Risk and Trust and 2011 IEEE Third International Conference on Social Computing</i>, Boston, MA, 2011, pp. 465-470. <br>\n",
    "\n",
    "Mohammad, Saif M. “The NRC Valence, Arousal, and Dominance (NRC-VAD) Lexicon.” <i>Saif Mohammad</i>, National Research Council Canada, &nbsp; &nbsp;&nbsp;&nbsp;&nbsp;&nbsp; &nbsp;&nbsp;&nbsp;&nbsp;&nbsp; &nbsp;&nbsp;&nbsp;&nbsp;&nbsp; &nbsp;&nbsp;&nbsp;&nbsp;&nbsp; &nbsp;&nbsp;&nbsp;&nbsp;&nbsp; &nbsp;&nbsp;&nbsp; saifmohammad.com/WebPages/nrc-vad.html.<br>\n",
    "\n",
    "United States, Congress, Mueller, Robert S. “Report on the Investigation into Russian Interference in the 2016 Presidential Election.” <i>Report on the \n",
    "&nbsp; &nbsp;&nbsp;&nbsp;&nbsp;&nbsp; &nbsp;&nbsp;&nbsp;&nbsp;&nbsp; &nbsp;&nbsp;&nbsp;&nbsp;&nbsp; &nbsp;&nbsp;&nbsp;&nbsp;Investigation into Russian Interference in the 2016 Presidential Election</i>, vol. 1, 2019."
   ]
  }
 ],
 "metadata": {
  "kernelspec": {
   "display_name": "Python 3",
   "language": "python",
   "name": "python3"
  },
  "language_info": {
   "codemirror_mode": {
    "name": "ipython",
    "version": 3
   },
   "file_extension": ".py",
   "mimetype": "text/x-python",
   "name": "python",
   "nbconvert_exporter": "python",
   "pygments_lexer": "ipython3",
   "version": "3.7.3"
  }
 },
 "nbformat": 4,
 "nbformat_minor": 2
}
