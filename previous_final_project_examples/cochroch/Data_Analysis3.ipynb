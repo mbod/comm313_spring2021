{
 "cells": [
  {
   "cell_type": "markdown",
   "metadata": {},
   "source": [
    "### Data_Analysis3: Combing the two female and male candidates\n",
    "I wanted to create corpuses of the female tweets and male tweets to try and get further insight. Notebook features frequency lists, keyness analysis, KWIC analysis, and concordance analysis. "
   ]
  },
  {
   "cell_type": "code",
   "execution_count": 1,
   "metadata": {},
   "outputs": [],
   "source": [
    "import os\n",
    "import json\n",
    "from nltk.tokenize import TweetTokenizer, WordPunctTokenizer\n",
    "import datetime\n",
    "from collections import Counter\n",
    "import string\n",
    "from nltk.corpus import stopwords\n",
    "from nltk.sentiment.vader import SentimentIntensityAnalyzer\n",
    "import random"
   ]
  },
  {
   "cell_type": "code",
   "execution_count": 2,
   "metadata": {},
   "outputs": [],
   "source": [
    "sid = SentimentIntensityAnalyzer()"
   ]
  },
  {
   "cell_type": "code",
   "execution_count": 3,
   "metadata": {},
   "outputs": [],
   "source": [
    "stoplist=stopwords.raw('english').split('\\n')"
   ]
  },
  {
   "cell_type": "code",
   "execution_count": 4,
   "metadata": {},
   "outputs": [],
   "source": [
    "tt = TweetTokenizer(preserve_case=False)"
   ]
  },
  {
   "cell_type": "code",
   "execution_count": 5,
   "metadata": {},
   "outputs": [],
   "source": [
    "%run functions.ipynb"
   ]
  },
  {
   "cell_type": "code",
   "execution_count": 6,
   "metadata": {},
   "outputs": [],
   "source": [
    "Biden_tweets_nrt = json.load(open('move_data/corpus_data1.json'))\n",
    "\n",
    "Klob_tweets_nrt = json.load(open('move_data/corpus_data2.json'))\n",
    "\n",
    "Sanders_tweets_nrt = json.load(open('move_data/corpus_data3.json'))\n",
    "\n",
    "Warren_tweets_nrt = json.load(open('move_data/corpus_data4.json'))"
   ]
  },
  {
   "cell_type": "markdown",
   "metadata": {},
   "source": [
    "#### Analysis the male and female candidates together\n",
    "I want to combine the Biden and Sanders corpus and the Klobuchar and Warren Corpus using extend. Then I want to get frequency lists and do KWIC analysis."
   ]
  },
  {
   "cell_type": "code",
   "execution_count": 7,
   "metadata": {},
   "outputs": [],
   "source": [
    "Male_tweets = []\n",
    "for tweets in (Biden_tweets_nrt, Sanders_tweets_nrt):\n",
    "    Male_tweets.extend(tweets)"
   ]
  },
  {
   "cell_type": "code",
   "execution_count": 8,
   "metadata": {},
   "outputs": [],
   "source": [
    "Female_tweets = []\n",
    "for tweets in (Klob_tweets_nrt, Warren_tweets_nrt):\n",
    "    Female_tweets.extend(tweets)"
   ]
  },
  {
   "cell_type": "code",
   "execution_count": 9,
   "metadata": {},
   "outputs": [],
   "source": [
    "Male_freq = Counter()\n",
    "Male_bigram_freq= Counter()\n",
    "Male_trigram_freq= Counter()\n",
    "\n",
    "for tweet in Male_tweets:\n",
    "    Male_toks = tt.tokenize(tweet['text'])\n",
    "    toks_np = [t for t in Male_toks if t not in string.punctuation + '’']\n",
    "    Male_freq.update(toks_np)\n",
    "    Male_bigrams = get_ngram_tokens(toks_np, n=2)\n",
    "    Male_bigram_freq.update(Male_bigrams)\n",
    "    Male_trigrams = get_ngram_tokens(toks_np, n=3)\n",
    "    Male_trigram_freq.update(Male_trigrams)"
   ]
  },
  {
   "cell_type": "code",
   "execution_count": 10,
   "metadata": {},
   "outputs": [],
   "source": [
    "Female_freq = Counter()\n",
    "Female_bigram_freq= Counter()\n",
    "Female_trigram_freq= Counter()\n",
    "\n",
    "for tweet in Female_tweets:\n",
    "    Female_toks = tt.tokenize(tweet['text'])\n",
    "    toks_np = [t for t in Female_toks if t not in string.punctuation + '’']\n",
    "    Female_freq.update(toks_np)\n",
    "    Female_bigrams = get_ngram_tokens(toks_np, n=2)\n",
    "    Female_bigram_freq.update(Female_bigrams)\n",
    "    Female_trigrams = get_ngram_tokens(toks_np, n=3)\n",
    "    Female_trigram_freq.update(Female_trigrams)"
   ]
  },
  {
   "cell_type": "code",
   "execution_count": 11,
   "metadata": {},
   "outputs": [
    {
     "data": {
      "text/plain": [
       "[('the', 13511),\n",
       " ('to', 9915),\n",
       " ('a', 7459),\n",
       " ('and', 7051),\n",
       " ('is', 6454),\n",
       " ('you', 6426),\n",
       " ('i', 5861),\n",
       " ('of', 5587),\n",
       " ('bernie', 5213),\n",
       " ('for', 5085),\n",
       " ('in', 4903),\n",
       " ('that', 4429),\n",
       " ('it', 3673),\n",
       " ('he', 3336),\n",
       " ('biden', 3049),\n",
       " ('not', 2938),\n",
       " ('are', 2889),\n",
       " ('this', 2665),\n",
       " ('be', 2413),\n",
       " ('s', 2397),\n",
       " ('on', 2234),\n",
       " ('have', 2215),\n",
       " ('but', 2077),\n",
       " ('will', 2043),\n",
       " ('t', 2028),\n",
       " ('with', 2017),\n",
       " ('we', 2010),\n",
       " ('if', 1998),\n",
       " ('trump', 1983),\n",
       " ('they', 1940)]"
      ]
     },
     "execution_count": 11,
     "metadata": {},
     "output_type": "execute_result"
    }
   ],
   "source": [
    "Male_freq.most_common(30)"
   ]
  },
  {
   "cell_type": "code",
   "execution_count": 12,
   "metadata": {},
   "outputs": [
    {
     "data": {
      "text/plain": [
       "[('the', 14196),\n",
       " ('to', 11063),\n",
       " ('and', 9286),\n",
       " ('a', 8437),\n",
       " ('i', 7872),\n",
       " ('is', 6819),\n",
       " ('warren', 6697),\n",
       " ('of', 6135),\n",
       " ('in', 5972),\n",
       " ('for', 5826),\n",
       " ('you', 5676),\n",
       " ('klobuchar', 4699),\n",
       " ('that', 4340),\n",
       " ('it', 3769),\n",
       " ('not', 3120),\n",
       " ('she', 2979),\n",
       " ('bernie', 2915),\n",
       " ('but', 2894),\n",
       " ('be', 2889),\n",
       " ('s', 2815),\n",
       " ('biden', 2752),\n",
       " ('this', 2627),\n",
       " ('are', 2620),\n",
       " ('on', 2587),\n",
       " ('have', 2382),\n",
       " ('her', 2372),\n",
       " ('with', 2352),\n",
       " ('he', 2290),\n",
       " ('if', 2257),\n",
       " ('out', 2096)]"
      ]
     },
     "execution_count": 12,
     "metadata": {},
     "output_type": "execute_result"
    }
   ],
   "source": [
    "Female_freq.most_common(30)"
   ]
  },
  {
   "cell_type": "code",
   "execution_count": 13,
   "metadata": {},
   "outputs": [
    {
     "data": {
      "text/plain": [
       "[('in the', 1299),\n",
       " ('of the', 1105),\n",
       " ('amy klobuchar', 895),\n",
       " ('to be', 750),\n",
       " ('elizabeth warren', 741),\n",
       " ('vote for', 710),\n",
       " ('is a', 679),\n",
       " ('i m', 624),\n",
       " ('it s', 616),\n",
       " ('don t', 603),\n",
       " ('i think', 572),\n",
       " ('drop out', 559),\n",
       " ('for the', 558),\n",
       " ('is the', 556),\n",
       " ('this is', 548),\n",
       " ('warren is', 479),\n",
       " ('on the', 475),\n",
       " ('and klobuchar', 472),\n",
       " ('going to', 464),\n",
       " ('would be', 464),\n",
       " ('to the', 461),\n",
       " ('warren and', 446),\n",
       " ('need to', 432),\n",
       " ('but i', 409),\n",
       " ('klobuchar and', 402),\n",
       " ('to get', 365),\n",
       " ('you are', 363),\n",
       " ('and i', 351),\n",
       " ('out of', 350),\n",
       " ('if you', 341)]"
      ]
     },
     "execution_count": 13,
     "metadata": {},
     "output_type": "execute_result"
    }
   ],
   "source": [
    "Female_bigram_freq.most_common(30)"
   ]
  },
  {
   "cell_type": "code",
   "execution_count": 14,
   "metadata": {},
   "outputs": [
    {
     "data": {
      "text/plain": [
       "[('in the', 1043),\n",
       " ('of the', 938),\n",
       " ('is a', 664),\n",
       " ('vote for', 654),\n",
       " ('don t', 626),\n",
       " ('it s', 606),\n",
       " ('to be', 605),\n",
       " ('is the', 571),\n",
       " ('for the', 549),\n",
       " ('going to', 528),\n",
       " ('i m', 501),\n",
       " ('bernie is', 491),\n",
       " ('this is', 487),\n",
       " ('joe biden', 462),\n",
       " ('to the', 460),\n",
       " ('bernie sanders', 460),\n",
       " ('if you', 451),\n",
       " ('you are', 440),\n",
       " ('on the', 428),\n",
       " ('for bernie', 376),\n",
       " ('he is', 375),\n",
       " ('he s', 354),\n",
       " ('that s', 345),\n",
       " ('i think', 339),\n",
       " ('need to', 326),\n",
       " ('will be', 321),\n",
       " ('and the', 314),\n",
       " ('is not', 313),\n",
       " ('have to', 313),\n",
       " ('want to', 303)]"
      ]
     },
     "execution_count": 14,
     "metadata": {},
     "output_type": "execute_result"
    }
   ],
   "source": [
    "Male_bigram_freq.most_common(30)"
   ]
  },
  {
   "cell_type": "code",
   "execution_count": 15,
   "metadata": {},
   "outputs": [
    {
     "data": {
      "text/plain": [
       "[('i don t', 213),\n",
       " ('to drop out', 206),\n",
       " ('to vote for', 174),\n",
       " ('buttigieg and klobuchar', 166),\n",
       " ('a lot of', 156),\n",
       " ('in the race', 139),\n",
       " ('out of the', 136),\n",
       " ('warren and klobuchar', 121),\n",
       " ('klobuchar', 100),\n",
       " ('one of the', 98),\n",
       " ('should not be', 93),\n",
       " ('is going to', 91),\n",
       " ('we need to', 90),\n",
       " ('klobuchar and buttigieg', 88),\n",
       " ('going to be', 84),\n",
       " ('of the race', 84),\n",
       " ('i voted for', 82),\n",
       " ('at this point', 82),\n",
       " ('would be a', 80),\n",
       " ('i m not', 80),\n",
       " ('official language of', 78),\n",
       " ('drop out and', 78),\n",
       " ('elizabeth warren is', 74),\n",
       " ('english should not', 74),\n",
       " ('thank you for', 73),\n",
       " ('warren', 73),\n",
       " ('not going to', 70),\n",
       " ('this is a', 70),\n",
       " ('will vote for', 70),\n",
       " ('to be a', 70)]"
      ]
     },
     "execution_count": 15,
     "metadata": {},
     "output_type": "execute_result"
    }
   ],
   "source": [
    "Female_trigram_freq.most_common(30)"
   ]
  },
  {
   "cell_type": "code",
   "execution_count": 16,
   "metadata": {},
   "outputs": [
    {
     "data": {
      "text/plain": [
       "[('i don t', 197),\n",
       " ('to vote for', 171),\n",
       " ('a lot of', 146),\n",
       " ('vote for bernie', 132),\n",
       " ('is going to', 110),\n",
       " ('i m not', 105),\n",
       " ('you don t', 86),\n",
       " ('bernie is the', 82),\n",
       " ('vote for him', 80),\n",
       " ('bernie is a', 80),\n",
       " ('it s not', 77),\n",
       " ('you want to', 72),\n",
       " ('we need to', 72),\n",
       " ('this is a', 69),\n",
       " ('out of the', 68),\n",
       " ('the democratic party', 66),\n",
       " ('is not a', 65),\n",
       " ('medicare for all', 65),\n",
       " ('thank you for', 64),\n",
       " ('do you think', 64),\n",
       " ('be able to', 61),\n",
       " ('is the only', 61),\n",
       " ('it s a', 59),\n",
       " ('you need to', 57),\n",
       " ('one of the', 57),\n",
       " ('going to be', 57),\n",
       " (\"i don't think\", 56),\n",
       " ('he is a', 56),\n",
       " ('don t think', 56),\n",
       " ('is the nominee', 56)]"
      ]
     },
     "execution_count": 16,
     "metadata": {},
     "output_type": "execute_result"
    }
   ],
   "source": [
    "Male_trigram_freq.most_common(30)"
   ]
  },
  {
   "cell_type": "markdown",
   "metadata": {},
   "source": [
    "These give a very similar story to the individual candidate frequency lists, that there is more mentions other politicians for the female candidates than the male candidates. There are mentions of campaign specific things for both men and women, like 'the democratic party' and 'drop out'."
   ]
  },
  {
   "cell_type": "code",
   "execution_count": 17,
   "metadata": {},
   "outputs": [
    {
     "name": "stdout",
     "output_type": "stream",
     "text": [
      "WORD                     Corpus A Freq.Corpus B Freq.Keyness\n",
      "============================================================\n",
      "bernie                   5213      2915      1049.311\n",
      "@berniesanders           1315      391       676.638\n",
      "he                       3336      2290      384.271\n",
      "joe                      1053      429       373.110\n",
      "@joebiden                1087      567       253.646\n",
      "his                      1682      1077      240.084\n",
      "you                      6426      5676      227.181\n",
      "socialism                238       42        182.440\n",
      "communist                169       23        148.423\n",
      "healthcare               244       77        118.172\n",
      "free                     295       111       116.410\n",
      "obama                    360       164       107.494\n",
      "establishment            304       126       105.084\n",
      "trump                    1983      1653      99.984\n",
      "people                   1571      1260      96.844\n",
      "biden                    3049      2752      92.434\n",
      "hunter                   80        5         91.539\n",
      "are                      2889      2620      84.516\n",
      "#bernie2020              161       47        84.341\n",
      "him                      1155      895       83.625\n",
      "socialist                254       109       83.375\n",
      "your                     1688      1423      79.882\n",
      "communism                85        13        70.501\n",
      "the                      13511     14196     70.029\n",
      "that                     4429      4340      63.605\n",
      "capitalism               64        8         58.392\n",
      "ad                       121       39        57.299\n",
      "they                     1940      1758      57.087\n",
      "#notmeus                 123       43        53.147\n",
      "pay                      220       113       52.933\n",
      "economy                  105       32        52.714\n",
      "kids                     132       50        51.641\n",
      "government               162       71        51.474\n",
      "we                       2010      1859      50.330\n",
      "bernie's                 217       115       49.028\n",
      "guy                      234       130       47.791\n",
      "afford                   74        19        43.531\n",
      "income                   81        24        41.823\n",
      "wage                     51        8         41.745\n",
      "#biden2020               63        14        41.515\n",
      "guns                     57        11        41.364\n",
      "years                    424       307       40.482\n",
      "...                      1709      1593      40.068\n",
      "children                 91        32        39.048\n",
      "himself                  111       46        38.378\n",
      "russia                   131       61        37.706\n",
      "t                        2028      1940      37.488\n",
      "party                    424       314       37.120\n",
      "never                    528       413       36.646\n",
      "this                     2665      2627      35.755\n",
      "gun                      70        21        35.702\n",
      "biden's                  131       63        35.647\n",
      "@realdonaldtrump         188       109       34.797\n",
      "cuba                     41        6         34.774\n",
      "will                     2043      1971      34.686\n",
      "working                  209       127       34.414\n",
      "bros                     113       51        34.261\n",
      "supporters               650       543       32.383\n",
      "medicare                 140       74        31.801\n",
      "workers                  61        18        31.623\n",
      "son                      87        35        31.381\n",
      "cost                     75        27        31.285\n",
      "planet                   70        24        30.942\n",
      "everyone                 320       231       30.898\n",
      "virus                    42        8         30.732\n"
     ]
    }
   ],
   "source": [
    "calculate_keyness(Male_freq, Female_freq)"
   ]
  },
  {
   "cell_type": "code",
   "execution_count": 18,
   "metadata": {},
   "outputs": [
    {
     "name": "stdout",
     "output_type": "stream",
     "text": [
      "WORD                     Corpus A Freq.Corpus B Freq.Keyness\n",
      "============================================================\n",
      "warren                   6697      590       5129.205\n",
      "klobuchar                4699      99        5023.642\n",
      "amy                      1505      81        1354.185\n",
      "@amyklobuchar            1672      133       1331.749\n",
      "she                      2979      663       1265.661\n",
      "her                      2372      546       974.528\n",
      "buttigieg                1441      168       971.553\n",
      "@ewarren                 1650      275       894.117\n",
      "elizabeth                839       61        689.819\n",
      "steyer                   679       89        429.558\n",
      "bloomberg                1318      420       362.205\n",
      "drop                     635       110       334.447\n",
      "harris                   407       77        200.020\n",
      "she's                    378       73        182.620\n",
      "language                 197       14        163.219\n",
      "warren's                 174       8         162.777\n",
      "gabbard                  256       35        158.009\n",
      "english                  173       9         157.044\n",
      "woman                    349       74        155.271\n",
      "women                    412       107       148.460\n",
      "@petebuttigieg           607       219       136.042\n",
      "minnesota                145       8         129.610\n",
      "out                      2096      1251      107.660\n",
      "candidates               595       246       101.650\n",
      "sen                      143       16        98.438\n",
      "#warren2020              132       14        93.249\n",
      "sanders                  1797      1073      92.107\n",
      "race                     421       160       85.643\n",
      "pete                     840       422       85.460\n",
      "official                 130       17        82.352\n",
      "7                        148       25        79.420\n",
      "#warren                  113       13        76.708\n",
      "ticket                   275       87        76.399\n",
      "or                       1915      1199      76.164\n",
      "@senwarren               172       37        75.499\n",
      "i                        7872      5861      70.974\n",
      "progressive              400       164       69.607\n",
      "booker                   114       16        69.257\n",
      "dropped                  134       25        66.608\n",
      "mn                       102       13        65.561\n",
      "abrams                   106       15        64.073\n",
      "senator                  209       62        63.658\n",
      "and                      9286      7051      63.183\n",
      "debate                   372       155       62.461\n",
      "candidate                843       469       59.352\n",
      "native                   70        5         57.898\n",
      "@tomsteyer               213       70        55.827\n",
      "kamala                   157       42        54.621\n",
      "female                   108       22        49.829\n",
      "men                      142       39        47.834\n",
      "final                    81        12        47.567\n",
      "tuesday                  317       139       47.213\n",
      "tom                      101       21        45.750\n",
      "sexist                   118       29        45.251\n",
      "liz                      158       49        45.200\n",
      "@betoorourke             67        8         44.615\n",
      "@kamalaharris            110       27        42.241\n",
      "super                    417       211       41.454\n",
      "would                    1706      1152      40.999\n",
      "choice                   352       170       40.428\n",
      "but                      2894      2077      40.230\n",
      "9                        92        20        39.983\n",
      "5                        203       81        37.439\n",
      "0                        117       34        36.645\n",
      "moderate                 228       97        36.501\n",
      "ag                       69        12        36.234\n",
      "massachusetts            86        20        34.965\n",
      "drops                    92        23        34.622\n",
      "13                       74        15        34.291\n",
      "precincts                48        5         34.196\n",
      "1                        384       202       33.451\n",
      "delegates                296       145       32.581\n",
      "ma                       63        12        30.789\n",
      "#buttigieg               44        5         30.055\n"
     ]
    }
   ],
   "source": [
    "calculate_keyness(Female_freq, Male_freq)"
   ]
  },
  {
   "cell_type": "markdown",
   "metadata": {},
   "source": [
    "The unigram keyness test is really revealing into how people's tweets characterize the candidates and their campaigns. It puts emphasis on policies characteristics that the candidates have wanted to be in the public eye and some that they did not"
   ]
  },
  {
   "cell_type": "code",
   "execution_count": 19,
   "metadata": {},
   "outputs": [
    {
     "name": "stdout",
     "output_type": "stream",
     "text": [
      "WORD                     Corpus A Freq.Corpus B Freq.Keyness\n",
      "============================================================\n",
      "joe biden                462       188       165.657\n",
      "bernie is                491       213       160.238\n",
      "for bernie               376       171       113.866\n",
      "bernie sanders           460       235       113.298\n",
      "he is                    375       198       86.518\n",
      "biden is                 241       104       79.285\n",
      "bernie supporters        158       51        75.341\n",
      "for @berniesanders       78        9         73.976\n",
      "of bernie                130       39        66.844\n",
      "the establishment        153       56        63.116\n",
      "@joebiden is             67        14        46.430\n",
      "his supporters           112       41        46.193\n",
      "for @joebiden            66        14        45.264\n",
      "and his                  136       59        44.381\n",
      "he s                     354       239       43.874\n",
      "the bernie               104       38        42.993\n",
      "bernie bros              88        28        42.608\n",
      "@berniesanders is        78        22        42.547\n",
      "bernie s                 147       70        41.192\n",
      "the government           53        10        39.261\n",
      "bernie bro               72        21        38.052\n",
      "bernie you               43        6         37.535\n",
      "if you                   451       341       37.180\n",
      "bernie will              116       51        37.080\n",
      "will never               128       60        36.855\n",
      "by the                   182       103       36.172\n",
      "@berniesanders and       66        19        35.318\n",
      "pay for                  74        25        33.561\n",
      "a democrat               114       54        32.239\n",
      "to pay                   81        31        31.568\n",
      "that bernie              127       65        31.169\n"
     ]
    }
   ],
   "source": [
    "calculate_keyness(Male_bigram_freq, Female_bigram_freq)"
   ]
  },
  {
   "cell_type": "code",
   "execution_count": 20,
   "metadata": {},
   "outputs": [
    {
     "name": "stdout",
     "output_type": "stream",
     "text": [
      "WORD                     Corpus A Freq.Corpus B Freq.Keyness\n",
      "============================================================\n",
      "amy klobuchar            895       8         1027.967\n",
      "elizabeth warren         741       40        662.887\n",
      "and klobuchar            472       8         514.880\n",
      "klobuchar and            402       8         430.834\n",
      "warren is                479       42        365.496\n",
      "warren and               446       41        333.792\n",
      "drop out                 559       92        303.501\n",
      "for warren               274       12        257.920\n",
      "and warren               319       32        229.861\n",
      "buttigieg and            221       9         211.332\n",
      "she s                    338       58        177.986\n",
      "she is                   313       51        171.158\n",
      "warren klobuchar         165       6         161.409\n",
      "or klobuchar             165       8         151.684\n",
      "a woman                  204       24        136.053\n",
      "she has                  207       26        133.284\n",
      "for her                  250       48        120.439\n",
      "for @ewarren             147       11        119.027\n",
      "to drop                  227       42        112.741\n",
      "biden klobuchar          134       9         112.487\n",
      "warren or                160       17        112.261\n",
      "and buttigieg            148       16        102.983\n",
      "warren s                 118       8         98.759\n",
      "warren but               147       18        95.978\n",
      "a warren                 150       21        90.665\n",
      "warren has               147       20        90.401\n",
      "if she                   184       35        89.336\n",
      "dropped out              112       9         88.388\n",
      "she was                  175       33        85.579\n",
      "biden buttigieg          106       8         85.572\n",
      "but she                  112       12        78.270\n",
      "or warren                134       20        77.782\n",
      "the warren               92        7         74.058\n",
      "@petebuttigieg @amyklobuchar101       10        73.206\n",
      "warren supporters        134       22        72.880\n",
      "@amyklobuchar @petebuttigieg143       26        72.021\n",
      "to warren                90        7         71.880\n",
      "warren was               82        5         70.902\n",
      "warren in                91        8         69.364\n",
      "in her                   105       13        68.145\n",
      "warren i                 101       12        67.013\n",
      "i like                   243       78        65.320\n",
      "@ewarren @amyklobuchar   102       13        65.144\n",
      "and amy                  93        10        64.880\n",
      "the race                 277       97        64.630\n",
      "warren for               87        9         61.813\n",
      "with warren              91        11        59.828\n",
      "warren to                94        13        57.242\n",
      "@amyklobuchar @ewarren   77        8         54.598\n",
      "and she                  108       20        53.601\n",
      "think she                84        11        52.828\n",
      "tom steyer               71        7         51.559\n",
      "warren would             85        12        51.113\n",
      "and @amyklobuchar        81        11        49.868\n",
      "she will                 99        18        49.861\n",
      "of her                   132       33        49.225\n",
      "if warren                105       21        48.846\n",
      "kamala harris            74        9         48.492\n",
      "pete buttigieg           111       24        48.090\n",
      "and steyer               73        9         47.486\n",
      "to her                   102       21        46.243\n",
      "about warren             65        7         45.313\n",
      "home state               86        15        44.733\n",
      "stay in                  78        12        44.378\n",
      "that she                 106       24        43.904\n",
      "liz warren               57        5         43.486\n",
      "@amyklobuchar and        62        7         42.229\n",
      "super tuesday            262       111       41.716\n",
      "that warren              98        22        40.937\n",
      "warren supporter         95        21        40.291\n",
      "and bloomberg            92        20        39.653\n",
      "@ewarren and             75        13        39.196\n",
      "her to                   97        23        38.315\n",
      "is warren                52        5         38.179\n",
      "to sanders               54        6         37.075\n",
      "steyer and               69        12        35.970\n",
      "warren as                58        8         35.376\n",
      "out and                  167       62        35.065\n",
      "biden bloomberg          57        8         34.400\n",
      "warren biden             72        14        34.318\n",
      "bernie warren            66        12        33.240\n",
      "about her                61        10        33.212\n",
      "she can                  88        22        32.817\n",
      "u s                      106       31        32.582\n",
      "dropping out             79        18        32.514\n",
      "should drop              65        12        32.340\n",
      "via @breitbartnews       46        5         31.924\n",
      "warren are               46        5         31.924\n",
      "her own                  62        11        31.830\n",
      "because she              80        19        31.546\n",
      "with her                 73        16        31.217\n",
      "@joebiden @amyklobuchar  85        22        30.466\n"
     ]
    }
   ],
   "source": [
    "calculate_keyness(Female_bigram_freq, Male_bigram_freq)"
   ]
  },
  {
   "cell_type": "markdown",
   "metadata": {},
   "source": [
    "I do not think that the keyness analysis of the bigrams reveals anything super interesting, the two word phrases are very similar for both candidates, but the female candidates do have two words phrases that features more candidates. "
   ]
  },
  {
   "cell_type": "markdown",
   "metadata": {},
   "source": [
    "### KWIC analysis\n",
    "I wanted to analyze some interesting bigrams and unigrams about male vs female policy"
   ]
  },
  {
   "cell_type": "code",
   "execution_count": 21,
   "metadata": {},
   "outputs": [],
   "source": [
    "Male_kwic_votefor = []\n",
    "\n",
    "for tweet in Male_tweets:\n",
    "    tokens = tt.tokenize(tweet['text'])\n",
    "    Male_kwic_votefor.extend(make_kwic_mw('vote for', tokens))"
   ]
  },
  {
   "cell_type": "code",
   "execution_count": 22,
   "metadata": {},
   "outputs": [
    {
     "name": "stdout",
     "output_type": "stream",
     "text": [
      "                                          vote for  anyone that makes you\n",
      "                                          vote for  bernie for starters !\n",
      "                                          vote for  whoever is the democratic\n",
      "                   bernie for starters !  vote for  the best qualified .\n",
      "                          you see this ,  vote for  bernie sanders . \n",
      "                    keep america great .  vote for  bernie is a vote\n",
      "                     to save democracy .  vote for  bernie .  \n",
      "                             in 2016 . a  vote for  bernie is more likely\n",
      "                         will not cast a  vote for  . #medicareforall  \n",
      "                         ’ s to actually  vote for  you . signed ,\n",
      "                         to go ahead and  vote for  bernie in south carolina\n",
      "                        i guess i better  vote for  him then .. how\n",
      "                          , then i could  vote for  him .  \n",
      "             sooo , massachusetts didn't  vote for  their senator or their\n",
      "                       sure i won't ever  vote for  him . he's a\n",
      "                         he is nominee i  vote for  him . can you\n",
      "              @tulsigabbard who should i  vote for  and why ? \n",
      "                       kamala . now i'll  vote for  whoever can knock out\n",
      "                            ! ! ... just  vote for  your candidate and see\n",
      "                                , i ’ ll  vote for  anyone who wins fairly\n",
      "                   i definitely will not  vote for  rat boy . \n",
      "                   i definitely will not  vote for  rat boy . \n",
      "                  this democrat will not  vote for  any california primary candidate\n",
      "                       . when trump says  vote for  bernie , he's posturing\n",
      "                       . when trump says  vote for  bernie , he's posturing\n",
      "                         me if he should  vote for  bloomberg because biden could\n",
      "                          you ’ ll still  vote for  him when he wins\n",
      "                         people didn ’ t  vote for  her because they didn\n",
      "                          simply don ’ t  vote for  him and move on\n",
      "                           women won ’ t  vote for  her ( for whatever\n",
      "                    them for using their  vote for  what is right to\n",
      "                        as a democrat to  vote for  bernie if you are\n",
      "                     much more likely to  vote for  someone they know ,\n",
      "                        going to have to  vote for  trump , my mom\n",
      "                   a moral obligation to  vote for  whoever is the nominee\n",
      "                          tell me who to  vote for  ” is obviously regarding\n",
      "                          it was hard to  vote for  hillary but i did\n",
      "                   but you're welcome to  vote for  the other guy .\n",
      "                    leftists come out to  vote for  them . we're not\n",
      "                         its a reason to  vote for  him . everyone biden's\n",
      "                        beat trump if we  vote for  them . this is\n",
      "                            all . i will  vote for  the last person standing\n",
      "            primaries . republicans will  vote for  bernie . as per\n",
      "                     supporters : i will  vote for  your candidate please dont\n",
      "                            , yes i will  vote for  him . #bluewave2020 \n",
      "                      sanders but i will  vote for  him if win the\n",
      "                         , want and will  vote for  calm , cool and\n",
      "                     if bernie bros will  vote for  warren or any other\n",
      "                          . if you won't  vote for  sanders ... trump wins\n",
      "                     would they make you  vote for  biden ! ? ?\n"
     ]
    }
   ],
   "source": [
    "Male_votefor_sample = random.sample(Male_kwic_votefor, 50)\n",
    "print_kwic(sort_kwic(Male_votefor_sample , order=['L1']))"
   ]
  },
  {
   "cell_type": "code",
   "execution_count": 23,
   "metadata": {},
   "outputs": [],
   "source": [
    "Female_kwic_votefor = []\n",
    "\n",
    "for tweet in Female_tweets:\n",
    "    tokens = tt.tokenize(tweet['text'])\n",
    "    Female_kwic_votefor.extend(make_kwic_mw('vote for', tokens))"
   ]
  },
  {
   "cell_type": "code",
   "execution_count": 24,
   "metadata": {},
   "outputs": [
    {
     "name": "stdout",
     "output_type": "stream",
     "text": [
      "                                          vote for  warren . if she\n",
      "                                          vote for  trump   \n",
      "                                          vote for  @joebiden is a vote\n",
      "                                          vote for  #warren because they want\n",
      "                                          vote for  senator warren in the\n",
      "                                          vote for  @amyklobuchar ! #amyknowsme #amyforamerica\n",
      "                         her own state )  vote for  her .  \n",
      "                         let that go and  vote for  ... then do you\n",
      "                         let that go and  vote for  ... then do you\n",
      "                   bloomberg today , but  vote for  elizabeth warren tomorrow ...\n",
      "                 become unlocked and can  vote for  anyone . everyone likes\n",
      "                                 . i ’ d  vote for  biden or warren or\n",
      "                few republicans that did  vote for  him . it's not\n",
      "                        would be an easy  vote for  me . i like\n",
      "                            vote . lol i  vote for  every senate and house\n",
      "                         bernie wins , i  vote for  him . if biden\n",
      "                   the nomination , i'll  vote for  bernie in november .\n",
      "                          win , but i'll  vote for  the democratic candidate .\n",
      "                          . i might just  vote for  my local issues and\n",
      "                             mean i ’ ll  vote for  anything the democrats put\n",
      "                           though i ’ ll  vote for  that ticket , you\n",
      "                       here who will not  vote for  bernie in my primary\n",
      "                   be casting my primary  vote for  @joebiden .  \n",
      "                       . i will probably  vote for  warren next week but\n",
      "                most people would rather  vote for  a * popular person\n",
      "                    are great reasons to  vote for  sanders and biden (\n",
      "                       get the chance to  vote for  her . #elizabethwarren2020 \n",
      "                            ! be sure to  vote for  warren now ! \n",
      "                   to convince people to  vote for  him . just fucking\n",
      "                         want to have to  vote for  biden myself . i\n",
      "                         . can't wait to  vote for  @ewarren !  \n",
      "                     and vowing never to  vote for  her , saying she\n",
      "                          know of not to  vote for  hillary . hillary's horrible\n",
      "                      very bad choose to  vote for  . im going to\n",
      "                       and vowing not to  vote for  orange foolius again .\n",
      "               superdelegates in 2016 to  vote for  him and overturn the\n",
      "                      they were going to  vote for  trump anyway . \n",
      "                            him . i will  vote for  you . wednesday i\n",
      "                       tom steyer i will  vote for  elizabeth warren i will\n",
      "                    amy klobuchar i will  vote for  bernie sanders i will\n",
      "                     if bernie bros will  vote for  warren or any other\n",
      "                    supporter but i will  vote for  #warren #sanders #bloomberg #klobuchar\n",
      "                   yuppppppppp ok i will  vote for  whomever can slay the\n",
      "                           wins ( i will  vote for  him ) , warren\n",
      "                     who said they would  vote for  elizabeth warren but not\n",
      "               which no republican would  vote for  . but you go\n",
      "                    me why someone would  vote for  amy klobuchar over elizabeth\n",
      "                   of candidates i would  vote for  over bernie . biden\n",
      "                      “ rednecks ” would  vote for  any dem ? of\n",
      "                      who said she would  vote for  biden over bernie because\n"
     ]
    }
   ],
   "source": [
    "Female_votefor_sample = random.sample(Female_kwic_votefor, 50)\n",
    "print_kwic(sort_kwic(Female_votefor_sample , order=['L1']))"
   ]
  },
  {
   "cell_type": "markdown",
   "metadata": {},
   "source": [
    "'vote for' is an interesting bigram because it showing how people tweet the support that they will vote for someone, vote for a candidate over another candidate, or negative like they will never vote fro someone"
   ]
  },
  {
   "cell_type": "code",
   "execution_count": 25,
   "metadata": {},
   "outputs": [],
   "source": [
    "Male_kwic_needto = []\n",
    "\n",
    "for tweet in Male_tweets:\n",
    "    tokens = tt.tokenize(tweet['text'])\n",
    "    Male_kwic_needto.extend(make_kwic_mw('need to', tokens))"
   ]
  },
  {
   "cell_type": "code",
   "execution_count": 26,
   "metadata": {},
   "outputs": [
    {
     "name": "stdout",
     "output_type": "stream",
     "text": [
      "                        party , you also  need to  admit so will bernie\n",
      "                                          need to  apologize . apologies won't\n",
      "                          / feb and they  need to  be better prepared .\n",
      "               change and global warming  need to  be top priority i\n",
      "            concluded the candidates all  need to  be routinely copied on\n",
      "                       being heard . you  need to  be screaming at the\n",
      "                            them don ’ t  need to  be on them .\n",
      "                  bernie . sometimes you  need to  be aggressive / go\n",
      "                   and julian castro all  need to  be on the debate\n",
      "                       bernie . we kinda  need to  beat trump , among\n",
      "                   the doctors when they  need to  because they either can't\n",
      "                            ) . but they  need to  beef up on selling\n",
      "                         him . then they  need to  both call mayor pete\n",
      "                         him . then they  need to  both call mayor pete\n",
      "                                          need to  consolidate our vote on\n",
      "                   supporters is what we  need to  defeat trump . 1/2\n",
      "                    this thing you might  need to  do negative ads with\n",
      "                    this thing you might  need to  do negative ads with\n",
      "                                          need to  do a piece on\n",
      "                         the five of you  need to  drop out so @berniesanders\n",
      "             vp @joebiden other moderate  need to  drop out or cause\n",
      "                                          need to  focus on sanders .\n",
      "                      state schools . no  need to  get semantical . it's\n",
      "                   convinces me that you  need to  gfy ... have a\n",
      "                           sc all of you  need to  give @tearaglass and @bigbeetlebite\n",
      "                                          need to  go after bernie sanders\n",
      "                         be a leader you  need to  have a little bit\n",
      "                                          need to  hold a rally near\n",
      "                        bernie is who we  need to  kick trump ’ s\n",
      "                          county , all i  need to  know about a primary\n",
      "                         us more than we  need to  know about bernie .\n",
      "                                          need to  look up justice democrats\n",
      "                  for bloomberg , people  need to  make up money is\n",
      "                    top 5 dem candidates  need to  pick a card .\n",
      "                                          need to  protect the harvesting of\n",
      "                                          need to  register as a communist\n",
      "                            as you say ,  need to  run a better campaign\n",
      "                                          need to  see what's in his\n",
      "                    bernie bro ” mindset  need to  stop being selfish &\n",
      "                    bernie bro ” mindset  need to  stop being selfish &\n",
      "                  running and you people  need to  take responsibility for your\n",
      "                          you want but i  need to  tell you about my\n",
      "                          you want but i  need to  tell you about my\n",
      "                          you want but i  need to  tell you about my\n",
      "                                          need to  treat this sanders v\n",
      "                          ignore it , we  need to  try to find a\n",
      "                                          need to  turn this into a\n",
      "                               i don ’ t  need to  vote shame if you\n",
      "                               & pa & we  need to  win back the dissatisfied\n",
      "                       bernie ... now he  need to  win suburban mothers ...\n"
     ]
    }
   ],
   "source": [
    "Male_needto_sample = random.sample(Male_kwic_needto, 50)\n",
    "print_kwic(sort_kwic(Male_needto_sample , order=['R1']))"
   ]
  },
  {
   "cell_type": "code",
   "execution_count": 27,
   "metadata": {},
   "outputs": [],
   "source": [
    "Female_kwic_needto = []\n",
    "\n",
    "for tweet in Female_tweets:\n",
    "    tokens = tt.tokenize(tweet['text'])\n",
    "    Female_kwic_needto.extend(make_kwic_mw('need to', tokens))"
   ]
  },
  {
   "cell_type": "code",
   "execution_count": 28,
   "metadata": {},
   "outputs": [
    {
     "name": "stdout",
     "output_type": "stream",
     "text": [
      "                         the outcome , i  need to  add a warren decal\n",
      "                        power . they all  need to  be voted out .\n",
      "                   elizabeth warren . we  need to  be ready . \n",
      "                       we as women don't  need to  be pandered to .\n",
      "                                          need to  be on the front\n",
      "                      in the meantime we  need to  beat trump and win\n",
      "                         him . then they  need to  both call mayor pete\n",
      "                    , steyer & bloomberg  need to  bow out and the\n",
      "                     for warren . things  need to  change . $ should\n",
      "                  primary because now we  need to  coalesce   \n",
      "                  i think some campaigns  need to  consider dropping out now\n",
      "                                          need to  defend her . her\n",
      "                                          need to  drop the fuck out\n",
      "             vp @joebiden other moderate  need to  drop out or cause\n",
      "                  steyer , and bloomberg  need to  drop out . i\n",
      "                  , steyer and bloomberg  need to  drop out . now\n",
      "                          , pete and amy  need to  dropout now and endorse\n",
      "                    ! bloomberg & steyer  need to  get messsge out we\n",
      "                       , and klobuchar ,  need to  get together and draw\n",
      "           @cnn @nbcpolitics @pbs you'll  need to  give amyk more air\n",
      "               this election . bloomberg  need to  go run as a\n",
      "                        fact is that you  need to  go and win some\n",
      "               this election . bloomberg  need to  go run as a\n",
      "               this election . bloomberg  need to  go run as a\n",
      "                        the unity we all  need to  have in order to\n",
      "                               . don ’ t  need to  hear benghazi or hillary\n",
      "                                          need to  leave now . \n",
      "                         free ” and they  need to  quit insulting my intelligence\n",
      "                             ’ t work or  need to  raise their kid ?\n",
      "                       then maybe you do  need to  reflect on your priorities\n",
      "                                          need to  roll your sleeves up\n",
      "                        is the person we  need to  run against trump .\n",
      "                        zealous base . i  need to  see it . i'm\n",
      "                  the massive numbers we  need to  solve this on a\n",
      "                                          need to  start dropping out \n",
      "                          , but it would  need to  start very soon .\n",
      "                                          need to  start impeachment proceedings for\n",
      "               winner . these candidates  need to  step out right now\n",
      "         aspects of society progressives  need to  stop attacking each other\n",
      "    @amyklobuchar @ewarren @joebiden you  need to  stop sanders  \n",
      "                                          need to  stop attacking each other\n",
      "                      ugliness , we just  need to  support the front runner\n",
      "                          is his lack of  need to  surround himself with yesmen\n",
      "                other creatures on earth  need to  survive .  \n",
      "                                          need to  talk about this more\n",
      "                   well & we desperately  need to  unify . trump must\n",
      "                                          need to  vote for amy she's\n",
      "                       or klobuchar . we  need to  win the senate .\n",
      "                     country and that we  need to  win , no time\n",
      "                                          need to  wise up to this\n"
     ]
    }
   ],
   "source": [
    "Female_needto_sample = random.sample(Female_kwic_needto, 50)\n",
    "print_kwic(sort_kwic(Female_needto_sample , order=['R1']))"
   ]
  },
  {
   "cell_type": "markdown",
   "metadata": {},
   "source": [
    "In tweets interesting it is very common to use the phrase 'need to' which often stalks about what a candidate or a supporter of a candidate needs to do, similar for both male and female candidates."
   ]
  },
  {
   "cell_type": "code",
   "execution_count": 29,
   "metadata": {},
   "outputs": [],
   "source": [
    "Male_kwic_policy = []\n",
    "\n",
    "for tweet in Male_tweets:\n",
    "    tokens = tt.tokenize(tweet['text'])\n",
    "    Male_kwic_policy.extend(make_kwic('policy', tokens))"
   ]
  },
  {
   "cell_type": "code",
   "execution_count": 30,
   "metadata": {},
   "outputs": [
    {
     "name": "stdout",
     "output_type": "stream",
     "text": [
      "                                          policy  that bernie promises to\n",
      "                                          policy  is not his supporters\n",
      "                                          policy  isn't whats important .\n",
      "                                          policy  did you compare this\n",
      "                                          policy  is literally 2016 disability\n",
      "                                          policy  point of view bernie-yang\n",
      "            #klobuchar has a #healthcare  policy  ; it's just different\n",
      "                                w / 50 +  policy  rich & detailed plans\n",
      "                         stated is not a  policy  platform of bernie sanders\n",
      "                     similar to clump by  policy  , just like shillary\n",
      "                     is her college dept  policy  .   \n",
      "          of neoliberal fascist economic  policy  that destroyed the middle\n",
      "           premiums skyrocketed . family  policy  fr $ 560 /\n",
      "           premiums skyrocketed . family  policy  fr $ 560 /\n",
      "                    care or your foreign  policy  , & most importantly\n",
      "                      bad for us foreign  policy  .   \n",
      "                 know what biden foreign  policy  thinking is always off\n",
      "                 , he's bernie's foreign  policy  advisor , so my\n",
      "        installed by imperialist foreign  policy  in genocidal coups that\n",
      "        installed by imperialist foreign  policy  in genocidal coups that\n",
      "                , he understands foreign  policy  very well , his\n",
      "                     part of our foreign  policy  ! they're a country\n",
      "                      his stop and frisk  policy  , along with his\n",
      "                    virtually all of her  policy  ideas .  \n",
      "                      voters who ask him  policy  questions while attending oligarch\n",
      "                         is not what his  policy  states , and to\n",
      "                    sanders . debate his  policy  , but don ’\n",
      "   over obama administration immigration  policy  , presidential candidate joe\n",
      "                        and sanity , not  policy  . that comes after\n",
      "                        and sanity , not  policy  . that comes after\n",
      "                      base it purely off  policy  why wouldnt we back\n",
      "                      more the latter on  policy  , but as you\n",
      "                             . i vote on  policy  , not people .\n",
      "                   to president trump on  policy  , not to mention\n",
      "                             . i vote on  policy  , not people .\n",
      "                       we can unite over  policy  , economics , gender\n",
      "                       we can unite over  policy  , economics , gender\n",
      "               to really get progressive  policy  done . i feel\n",
      "             and bernie have progressive  policy  they will be allies\n",
      "          progressive policy and radical  policy  ? why doesn't bernie\n",
      "                       they have no real  policy  arguments against bernie .\n",
      "           not provided under republican  policy     \n",
      "           not provided under republican  policy     \n",
      "                             of cuba ’ s  policy  is inherently a complement\n",
      "                     t find any specific  policy  initiatives on this topic\n",
      "                      when he headed tax  policy  negotiations with senate minority\n",
      "                          to look at the  policy  page as i may\n",
      "                  shokin was official us  policy  . not bidens personal\n",
      "                  can't really know what  policy  is exactly enough ,\n",
      "                    or correct sanders ’  policy  proposals are but i\n"
     ]
    }
   ],
   "source": [
    "Male_policy_sample = random.sample(Male_kwic_policy, 50)\n",
    "print_kwic(sort_kwic(Male_policy_sample , order=['L1']))"
   ]
  },
  {
   "cell_type": "code",
   "execution_count": 31,
   "metadata": {},
   "outputs": [],
   "source": [
    "Female_kwic_policy = []\n",
    "\n",
    "for tweet in Female_tweets:\n",
    "    tokens = tt.tokenize(tweet['text'])\n",
    "    Female_kwic_policy.extend(make_kwic('policy', tokens))"
   ]
  },
  {
   "cell_type": "code",
   "execution_count": 32,
   "metadata": {},
   "outputs": [
    {
     "name": "stdout",
     "output_type": "stream",
     "text": [
      "                                          policy  is literally 2016 disability\n",
      "                                          policy  period . what people\n",
      "                                          policy  matters and found out\n",
      "                                          policy  wise - fair .\n",
      "            #klobuchar has a #healthcare  policy  ; it's just different\n",
      "                                w / 50 +  policy  rich & detailed plans\n",
      "                          here star to a  policy  that is not what\n",
      "                               ’ m not a  policy  person nor in this\n",
      "                        . it's all about  policy  for me too and\n",
      "                 you actually care about  policy  because one second you\n",
      "                    bus next stop actual  policy  change .  \n",
      "             that's ironic since biden's  policy  positions are closer to\n",
      "                        biden ’ s border  policy  or are you too\n",
      "                       could be saved by  policy  changes , the difference\n",
      "                        toxic is a clear  policy  attack , right ?\n",
      "            is literally 2016 disability  policy  . i voted for\n",
      "        klobuchar embarrassed by foreign  policy  question from telemundo interviewer\n",
      "                is the klobuchar foreign  policy  doctrine ? find out\n",
      "                     , warren on foreign  policy  .   \n",
      "             ignore questions on foreign  policy  , warren can hold\n",
      "                  student debt , foreign  policy  , etc  \n",
      "                   best science to guide  policy  . candidates who are\n",
      "      lied about #klobuchar's healthcare  policy  in the debate ?\n",
      "                 closely aligns with her  policy  goals compared to biden\n",
      "                           , and not her  policy  , was the appeal\n",
      "                        badass , and her  policy  seems okay but she\n",
      "                      could have had his  policy  with plans to implement\n",
      "                    people while hers is  policy  . ... but honestly ,\n",
      "                            not a fan of  policy  on guns . where\n",
      "                     you mean because of  policy  compatibility ? i'd think\n",
      "                      base it purely off  policy  why wouldnt we back\n",
      "                      base it purely off  policy  why wouldnt we back\n",
      "                  bad candidate based on  policy  . it had been\n",
      "                  great candidate esp on  policy  but she just kept\n",
      "                 progressives ( based on  policy  ) are split with\n",
      "                      were so similar on  policy  , then you should\n",
      "                 comparable to bernie on  policy  , but her personality\n",
      "                 is say meanies override  policy  . bc that's stupid\n",
      "               care proposals – people's  policy  project . #bernie2020 #medicareforall\n",
      "            any other actual progressive  policy  is now on its\n",
      "               to really get progressive  policy  done . i feel\n",
      "      the difference between progressive  policy  and radical policy ?\n",
      "           has pushed extreme right-wing  policy  on #israel / #palestine\n",
      "                             ? biden ’ s  policy  includes dramatically increasing govt\n",
      "                  supported warren . the  policy  divide between biden &\n",
      "                   work to implement the  policy     \n",
      "                  people are backing the  policy  he advocates for .\n",
      "                   shit instead of their  policy  .   \n",
      "                        when it comes to  policy  . something to think\n",
      "                    warrens no first use  policy  is long overdue &\n"
     ]
    }
   ],
   "source": [
    "Female_policy_sample = random.sample(Female_kwic_policy, 50)\n",
    "print_kwic(sort_kwic(Female_policy_sample , order=['L1']))"
   ]
  },
  {
   "cell_type": "markdown",
   "metadata": {},
   "source": [
    "It seems that the tweets about the male candidate's policy have most to do with their specific policy, for example \"part of our foreign  policy\". But the tweets about the women's policy in general as in \"we vote on  policy.\""
   ]
  },
  {
   "cell_type": "code",
   "execution_count": 33,
   "metadata": {},
   "outputs": [],
   "source": [
    "Male_kwic_gov = []\n",
    "\n",
    "for tweet in Male_tweets:\n",
    "    tokens = tt.tokenize(tweet['text'])\n",
    "    Male_kwic_gov.extend(make_kwic('government', tokens))"
   ]
  },
  {
   "cell_type": "code",
   "execution_count": 34,
   "metadata": {},
   "outputs": [
    {
     "name": "stdout",
     "output_type": "stream",
     "text": [
      "                                          government  prints and backs the\n",
      "                                          government  has demonstrated it efficiency\n",
      "               healthcare for illegals ,  government  control of the economy\n",
      "                         level and not a  government  mandate .  \n",
      "                 forcible overthrow of a  government  or social order ,\n",
      "                           do not need a  government  to run more than\n",
      "                            am not for a  government  takeover of our healthcare\n",
      "                           do not need a  government  to run more than\n",
      "                    to his campaigns and  government  funding — to his\n",
      "             truth about socialism being  government  control over them .\n",
      "             truth about socialism being  government  control over them .\n",
      "              the revolving door between  government  and corporations . bernie\n",
      "                     ! democrats for big  government  and socialism ! \n",
      "                     ! democrats for big  government  and socialism ! \n",
      "             , canm fundamentally change  government  - #bernie is a\n",
      "               determined by the federal  government  and those standards can\n",
      "               determined by the federal  government  and those standards can\n",
      "                   tested to qualify for  government  funding .  \n",
      "                         in your form of  government  - other people just\n",
      "                        3 leaders of our  government  don ’ t buy\n",
      "                   that will reshape our  government  ! go team !\n",
      "            revolutionary changes to our  government  > full socialism >\n",
      "              you piss on representative  government  . no thanks .\n",
      "                     to expose a satanic  government  run coup = people\n",
      "                      a problem with the  government  retaliating against citizens after\n",
      "                         you part of the  government  ? why aren't you\n",
      "                     more money from the  government  \" . this is\n",
      "                    president ? keep the  government  out of our personal\n",
      "                       hard work but the  government  knows best and can\n",
      "                 treatments happen . the  government  is in charge of\n",
      "                     ignore the fact the  government  of irans official policy\n",
      "                     of buying power the  government  can negotiate lower healthcare\n",
      "                     more money from the  government  \" . this is\n",
      "                       hard work but the  government  knows best and can\n",
      "                    it's not because the  government  nationalized the entire water\n",
      "                        if he wanted the  government  to keep paying the\n",
      "                  what control would the  government  have , exactly ?\n",
      "                 thrived long before the  government  grew to what we\n",
      "            responsibility and knows the  government  isn ’ t our\n",
      "                       we don't want the  government  to have their hand\n",
      "                socialist are within the  government  while the citizens starve\n",
      "                       would we want the  government  forcing itself on everybody\n",
      "                 thrived long before the  government  grew to what we\n",
      "                   a complement of their  government  , because their government\n",
      "              people to supplement their  government  support with ... \n",
      "                        ’ m referring to  government  run healthcare . \n",
      "                        ’ m referring to  government  run healthcare . \n",
      "       defend themselves from tyrannical  government  not tyrannical deer \n",
      "              guard against a tyrannical  government  , our weapons need\n",
      "                         are you ok with  government  controlling every aspect of\n"
     ]
    }
   ],
   "source": [
    "Male_gov_sample = random.sample(Male_kwic_gov, 50)\n",
    "print_kwic(sort_kwic(Male_gov_sample , order=['L1']))"
   ]
  },
  {
   "cell_type": "code",
   "execution_count": 35,
   "metadata": {},
   "outputs": [],
   "source": [
    "Female_kwic_gov = []\n",
    "\n",
    "for tweet in Female_tweets:\n",
    "    tokens = tt.tokenize(tweet['text'])\n",
    "    Female_kwic_gov.extend(make_kwic('government', tokens))"
   ]
  },
  {
   "cell_type": "code",
   "execution_count": 36,
   "metadata": {},
   "outputs": [
    {
     "name": "stdout",
     "output_type": "stream",
     "text": [
      "                                          government  a day in his\n",
      "                                          government  accountability institute president peter\n",
      "                                          government  and has continued to\n",
      "                    and learn business ,  government  , different languages while\n",
      "                              i get it .  government  is a cesspool .\n",
      "                       replace it with a  government  knows best , tax\n",
      "                       replace it with a  government  knows best , tax\n",
      "                     you know much about  government  after the last 3\n",
      "                 language . printing all  government  related forms in english\n",
      "                  to build an all-around  government  in the chaos .\n",
      "                to build an all-powerful  government  . tell your supporters\n",
      "                         police , or any  government  agency , has no\n",
      "                       system so long as  government  stayed out of it\n",
      "             , canm fundamentally change  government  - #bernie is a\n",
      "                working with our federal  government  , which is a\n",
      "           ineffective , corrupt federal  government  which is basically now\n",
      "                      you doing to fight  government  corruption ?  \n",
      "                       it is illegal for  government  to negotiate drug prices\n",
      "               understand her vision for  government  in a loving ,\n",
      "                          to pay for her  government  health care plan -\n",
      "                       those who deal in  government  and financial corruption are\n",
      "                desperately need back in  government  .   \n",
      "                support there intrest in  government  .   \n",
      "                          3 terms . more  government  experience than mayor pete\n",
      "                          idle ? we need  government  grants to establish domestic\n",
      "                          is the role of  government  , regarding giant corporations\n",
      "           democratic republic system of  government  into a socialist system\n",
      "                         free ? evils of  government  ? how the gov\n",
      "                           have to be on  government  funded anything if they\n",
      "                corporate control of our  government  . “ moderate ”\n",
      "                        all parts of our  government  . new immigrants are\n",
      "                corporate control of our  government  . “ moderate ”\n",
      "                      taking hold of our  government  and messaging . \n",
      "                       any office in our  government  , ever , this\n",
      "                          world : my own  government  , i can not\n",
      "         president clinton that required  government  materials to be provided\n",
      "         president clinton that required  government  materials to be provided\n",
      "                          ’ s the shadow  government  that has been running\n",
      "                        want a “ smaller  government  ” should read her\n",
      "                     no , your socialist  government  will put people under\n",
      "                       not been a stable  government  in afghanistan . afghanistan\n",
      "                 , middle school student  government  campaign ?  \n",
      "                       to remember , the  government  is us . they\n",
      "                      your vision of the  government  is narrow . she\n",
      "                        my money and the  government  has no right to\n",
      "                            s plan , the  government  will have the negotiating\n",
      "                   the rules because the  government  will pay back those\n",
      "             integrity and competence to  government  after trump by @ewarren\n",
      "                       change in the way  government  and money interact .\n",
      "                       change in the way  government  and money interact .\n"
     ]
    }
   ],
   "source": [
    "Female_gov_sample = random.sample(Female_kwic_gov, 50)\n",
    "print_kwic(sort_kwic(Female_gov_sample , order=['L1']))"
   ]
  },
  {
   "cell_type": "markdown",
   "metadata": {},
   "source": [
    "As expected a lot of the kwic concordinances about the government are negative like the \"corporate control\" of the government, corrupt \"federal  government\", or \"shadow government\". Twitter seems seems to have a very negative, extreme view of the government.\n",
    "\n",
    "### KWIC analysis of Candidate names\n",
    "I wanted to show the use of one of the female candidate's names in the tweets about males and the use of one the male candidate's names in the tweets about females. KWIC is Key Word in Context and I want to see how the candidate's names are being used in the Tweets."
   ]
  },
  {
   "cell_type": "code",
   "execution_count": 37,
   "metadata": {},
   "outputs": [],
   "source": [
    "Male_kwic_Warren = []\n",
    "\n",
    "for tweet in Male_tweets:\n",
    "    tokens = tt.tokenize(tweet['text'])\n",
    "    Male_kwic_Warren.extend(make_kwic('warren', tokens))"
   ]
  },
  {
   "cell_type": "code",
   "execution_count": 38,
   "metadata": {},
   "outputs": [
    {
     "name": "stdout",
     "output_type": "stream",
     "text": [
      "                                          warren  only “ reassess ”\n",
      "                                          warren  and i don't have\n",
      "                      % buttigieg 14.7 %  warren  10 % klobuchar 5\n",
      "                        bernie , biden &  warren  in that order because\n",
      "                     was between biden ,  warren  and klobuchar  \n",
      "                     texting my bernie ,  warren  , and trump friends\n",
      "                        out like biden ,  warren  , harris lol .\n",
      "                  of urban development ,  warren  head of treasure .\n",
      "                         can get biden ,  warren  , and / or\n",
      "                  obama endorses biden .  warren  stays in the race\n",
      "                  agree regarding that .  warren  ’ s shot is\n",
      "              the neighboring precinct .  warren  got people from non\n",
      "                       will finish 4th .  warren  is 2nd in california\n",
      "                 not viable candidates .  warren  has the appeal and\n",
      "                            s a bernie /  warren  supporter .  \n",
      "                        but not bernie /  warren  in a general ,\n",
      "                       precinct 1339 . 6  warren  . 3 to biden\n",
      "              reported both tweets about  warren  & pete & another\n",
      "                      given anyway ) and  warren  gets her shot in\n",
      "                     . having bernie and  warren  on the stage to\n",
      "                          \" maybe he and  warren  can't trust themselves with\n",
      "                   with from berners and  warren  , beto , khive\n",
      "                   against yang pete and  warren  for walking back their\n",
      "                i think most anti-bernie  warren  fans don't want warren\n",
      "                      same voter pool as  warren  , steyer and bernie\n",
      "                      have to get behind  warren  . biden and buttigieg\n",
      "                        was a pretty big  warren  supporter at the outset\n",
      "                       is that once eliz  warren  drops out of the\n",
      "               sanders , while elizabeth  warren  sided with union bosses\n",
      "                   harris ag . elizabeth  warren  treasury sec . \n",
      "                       plans to vote for  warren  .   \n",
      "                      bros will vote for  warren  or any other dem\n",
      "                        get it done from  warren  .   \n",
      "                              is it , if  warren  drops out , then\n",
      "                          do that is let  warren  do the hard work\n",
      "                         retire . i love  warren  for her plans &\n",
      "                        i've had lots of  warren  supporters be deeply toxic\n",
      "                           on pete no on  warren  no on biden no\n",
      "                     were really down on  warren  the few times they\n",
      "                progressive as bernie or  warren  . what i ’\n",
      "                progressive as bernie or  warren  . what i ’\n",
      "                   money behind biden or  warren  if bernie gets the\n",
      "                      claims bernie , or  warren  , or frankly any\n",
      "                      . i'm with senator  warren  .   \n",
      "                      ... um ... support  warren  . you're a biden\n",
      "                    an indication , than  warren  supporters are at large\n",
      "           the self-righteousness of the  warren  and bernie brigades is\n",
      "                  that support is versus  warren  or buttigieg ? \n",
      "                of bad interactions with  warren  , buttigieg , and\n",
      "                      be very happy with  warren  as sec of treasury\n"
     ]
    }
   ],
   "source": [
    "Male_Warren_sample = random.sample(Male_kwic_Warren, 50)\n",
    "print_kwic(sort_kwic(Male_Warren_sample , order=['L1']))"
   ]
  },
  {
   "cell_type": "code",
   "execution_count": 39,
   "metadata": {},
   "outputs": [],
   "source": [
    "Female_kwic_Sanders = []\n",
    "\n",
    "for tweet in Female_tweets:\n",
    "    tokens = tt.tokenize(tweet['text'])\n",
    "    Female_kwic_Sanders.extend(make_kwic('bernie', tokens))"
   ]
  },
  {
   "cell_type": "code",
   "execution_count": 40,
   "metadata": {},
   "outputs": [
    {
     "name": "stdout",
     "output_type": "stream",
     "text": [
      "                                          bernie  ’ s massive margin\n",
      "                                          bernie  ’ s entire shtick\n",
      "                                          bernie  / warren vs .\n",
      "                                          bernie  - biden - bloomberg\n",
      "                                          bernie  got it right when\n",
      "                                          bernie  has my vote but\n",
      "                                          bernie  carries a lot of\n",
      "                                          bernie  : dry biden :\n",
      "                                          bernie  but this is an\n",
      "                                          bernie  has more college educated\n",
      "                                          bernie  didn't earn any of\n",
      "                                          bernie  seriously ! i support\n",
      "                           is not even \"  bernie  light \" and is\n",
      "                        biden , warren ,  bernie  , pete and klobuchar\n",
      "                          at this time ,  bernie  sanders is the odds\n",
      "             the democratic nomination ,  bernie  sanders as candidate means\n",
      "                     amy werent viable ,  bernie  grew as the 2nd\n",
      "                       buttigieg , 5/6 .  bernie  or biden . in\n",
      "                    we progressives do .  bernie  sanders . drop out\n",
      "                      heal the country .  bernie  cannot & will further\n",
      "            most people idealistically .  bernie  will have terrible oppo\n",
      "                      basically tied w /  bernie  ( until today's results\n",
      "                moderates dropping out ?  bernie  has the very larger\n",
      "               will actually guarantee a  bernie  win unless if biden\n",
      "                      you don't know all  bernie  supporters and it shows\n",
      "                      wanted trump . and  bernie  could t even persuade\n",
      "                 beating both warren and  bernie  . without a renewed\n",
      "                   sure it would benefit  bernie  or pete one way\n",
      "                 . they'll split between  bernie  , biden , and\n",
      "                favored warren over both  bernie  and biden . and\n",
      "        nothing will automatically bring  bernie  supporters over - many\n",
      "                        by warren not by  bernie  .   \n",
      "                        cast my vote for  bernie  ! amy couldn ’\n",
      "                       wave the flag for  bernie  but pretty please someone\n",
      "                      yang : lawful good  bernie  pete : lawful evil\n",
      "                    . but yeah hopefully  bernie  can pivot now .\n",
      "                            for her . if  bernie  sanders is nominated ,\n",
      "                   dire this election is  bernie  is not telling the\n",
      "                     flames out then its  bernie  . tgen steyer .\n",
      "                   warren and mostly let  bernie  lie this whole campaign\n",
      " progressive presidential candidate like  bernie  though . it's an\n",
      "             my progressive ideals match  bernie  , but my morals\n",
      "                        the same . maybe  bernie  would have edged out\n",
      "              progressive like warren or  bernie  instead of corporate tim\n",
      "                       . now . otherwise  bernie  wins .  \n",
      "                      that if you're pro  bernie  your only interest is\n",
      "                               i ’ m pro  bernie  , warren a strong\n",
      "                    it seems likely that  bernie  would pickup a plurality\n",
      "                 the false pretence that  bernie  somehow let hrc down\n",
      "                    first 100 days while  bernie  ’ s plan charges\n"
     ]
    }
   ],
   "source": [
    "Female_Sanders_sample = random.sample(Female_kwic_Sanders, 50)\n",
    "print_kwic(sort_kwic(Female_Sanders_sample , order=['L1']))"
   ]
  },
  {
   "cell_type": "markdown",
   "metadata": {},
   "source": [
    "### The use of candidate names in tweets\n",
    "In the use of candidates name in both the corpus of male and female tweets is in conjunction with other candidates, in comparison to another candidate, or with percentages in a horse race context. This shows how candidates' name are being used and that the female candidates are being used in tweets to with being a member in the race than the males."
   ]
  },
  {
   "cell_type": "markdown",
   "metadata": {},
   "source": [
    "### Collocation\n",
    "I want to investigate the qualifying words for the word policy to see what kinds of policy people are tweeting about most. As it is easier to understand words by the company that they keep."
   ]
  },
  {
   "cell_type": "code",
   "execution_count": 41,
   "metadata": {},
   "outputs": [],
   "source": [
    "Male_coll_toks = []\n",
    "\n",
    "for tweet in Male_tweets:\n",
    "    Male_toks = tt.tokenize(tweet['text'])\n",
    "    Male_toks_np = [t for t in Male_toks if t not in string.punctuation + '’']\n",
    "    Male_coll_toks.append(Male_toks_np)"
   ]
  },
  {
   "cell_type": "code",
   "execution_count": 42,
   "metadata": {},
   "outputs": [],
   "source": [
    "Male_colls = Counter()\n",
    "for tok in Male_coll_toks:\n",
    "    Male_colls.update(collocates(tok ,'policy', [4,4]))"
   ]
  },
  {
   "cell_type": "code",
   "execution_count": 66,
   "metadata": {},
   "outputs": [
    {
     "name": "stdout",
     "output_type": "stream",
     "text": [
      "foreign 11\n",
      "domestic 1\n",
      "tax 2\n",
      "healthcare 1\n",
      "climate None\n",
      "economic 2\n",
      "immigration 1\n",
      "college 2\n",
      "family 2\n",
      "government 3\n",
      "border None\n",
      "housing None\n",
      "similar 1\n",
      "good None\n",
      "bad 1\n"
     ]
    }
   ],
   "source": [
    "for Male_coll in ['foreign', 'domestic', 'tax', 'healthcare', 'climate', 'economic', 'immigration', 'college', 'family', 'government', 'border', 'housing', 'similar', 'good', 'bad']:\n",
    "    print(Male_coll, Male_colls.get(Male_coll))"
   ]
  },
  {
   "cell_type": "code",
   "execution_count": 44,
   "metadata": {},
   "outputs": [],
   "source": [
    "Female_coll_toks = []\n",
    "\n",
    "for tweet in Female_tweets:\n",
    "    Female_toks = tt.tokenize(tweet['text'])\n",
    "    Female_toks_np = [t for t in Female_toks if t not in string.punctuation + '’']\n",
    "    Female_coll_toks.append(Female_toks_np)"
   ]
  },
  {
   "cell_type": "code",
   "execution_count": 67,
   "metadata": {},
   "outputs": [],
   "source": [
    "Female_colls = Counter()\n",
    "for tok in Female_coll_toks:\n",
    "    Female_colls.update(collocates(tok ,'policy', [4,4]))"
   ]
  },
  {
   "cell_type": "code",
   "execution_count": 68,
   "metadata": {},
   "outputs": [
    {
     "name": "stdout",
     "output_type": "stream",
     "text": [
      "foreign 16\n",
      "domestic None\n",
      "tax None\n",
      "healthcare 1\n",
      "climate None\n",
      "economic 1\n",
      "immigration None\n",
      "college 1\n",
      "family None\n",
      "government None\n",
      "border 1\n",
      "housing 1\n",
      "similar 1\n",
      "good None\n",
      "bad 6\n"
     ]
    }
   ],
   "source": [
    "for Female_coll in ['foreign', 'domestic', 'tax', 'healthcare', 'climate', 'economic', 'immigration', 'college', 'family', 'government', 'border', 'housing', 'similar', 'good', 'bad']:\n",
    "    print(Female_coll, Female_colls.get(Female_coll))"
   ]
  },
  {
   "cell_type": "markdown",
   "metadata": {},
   "source": [
    "The collocation analysis show that the male candidates specific policies are being talked about more frequency than the womens, whose policies are talked about more generally like using the word bad."
   ]
  },
  {
   "cell_type": "markdown",
   "metadata": {},
   "source": [
    "Calculations about specific frequencies of words used for both male and female candidates."
   ]
  },
  {
   "cell_type": "code",
   "execution_count": 47,
   "metadata": {},
   "outputs": [
    {
     "data": {
      "text/plain": [
       "5667"
      ]
     },
     "execution_count": 47,
     "metadata": {},
     "output_type": "execute_result"
    }
   ],
   "source": [
    "Female_freq['biden'] + Female_freq['bernie']"
   ]
  },
  {
   "cell_type": "code",
   "execution_count": 48,
   "metadata": {},
   "outputs": [
    {
     "data": {
      "text/plain": [
       "689"
      ]
     },
     "execution_count": 48,
     "metadata": {},
     "output_type": "execute_result"
    }
   ],
   "source": [
    "Male_freq['warren'] + Male_freq['klobuchar']"
   ]
  },
  {
   "cell_type": "markdown",
   "metadata": {},
   "source": [
    "These show that there is a huge difference in the use of candidates of the other gender in the tweets between men and women. "
   ]
  }
 ],
 "metadata": {
  "kernelspec": {
   "display_name": "Python 3",
   "language": "python",
   "name": "python3"
  },
  "language_info": {
   "codemirror_mode": {
    "name": "ipython",
    "version": 3
   },
   "file_extension": ".py",
   "mimetype": "text/x-python",
   "name": "python",
   "nbconvert_exporter": "python",
   "pygments_lexer": "ipython3",
   "version": "3.7.3"
  }
 },
 "nbformat": 4,
 "nbformat_minor": 2
}
