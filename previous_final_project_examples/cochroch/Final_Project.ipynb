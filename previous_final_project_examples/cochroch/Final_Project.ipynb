{
 "cells": [
  {
   "cell_type": "markdown",
   "metadata": {},
   "source": [
    "# Tweets about Male and Female Candidates: Individual vs. Competitor \n",
    "## An investigation into how tweets during the 2020 Democratic Primary were different in their treatment of male and female candidates \n",
    "COMM 310 Final Project by Claire Ochroch"
   ]
  },
  {
   "cell_type": "markdown",
   "metadata": {},
   "source": [
    "![](img/Biden_Sanders.jpg)"
   ]
  },
  {
   "cell_type": "markdown",
   "metadata": {},
   "source": [
    "![](img/Klobuchar_Warren.jpg)"
   ]
  },
  {
   "cell_type": "markdown",
   "metadata": {},
   "source": [
    "### Why investigate the tweets about Democratic presidential candidates?\n",
    "I have always been interested in the ways that genders interacts with  politics. It is sometimes easy to ignore that gender plays a part in how we react to and think about politicians. Even though it has gotten much better over time, there is still more men in office than women, and there have been issues where women are more criticized for their looks and likability. Sexist pervades all areas of life and effects how we look at women who want to be in positions of leadership, in this case women who want to be the president of the United States. I wanted to see if tweets about the female and male candidates for president show a prejudice from the people tweeting about the candidates. Social media, especially Twitter is a platform for anyone who wants to be able to share their views. The Democratic primary was the perfect opportunity to investigate whether there was a phenomenon as there were multiple female and male candidates running for the same office."
   ]
  },
  {
   "cell_type": "markdown",
   "metadata": {},
   "source": [
    "![](img/women_running.jpg)"
   ]
  },
  {
   "cell_type": "markdown",
   "metadata": {},
   "source": [
    "### Original research question\n",
    "I originally wanted to understand if there was a difference of the tweets about male and female candidates. I wanted to see what kinds of topics, words, and even attitudes were associated with the different genders. Through my investigation I found that female candidates are tweeted about as competitors for their male candidates, while male candidates are seen for more of their individual persons and policies. Now into the process of my investigation..."
   ]
  },
  {
   "cell_type": "markdown",
   "metadata": {},
   "source": [
    "### The collection, time frame, and candidates in the data\n",
    "I used the GetOldTweets method to get tweets from the month between the Iowa primaries which were on February 3, 2020 and when the last female candidate, Elizabeth Warren, ended her campaign on March 5, 2020. I collected by each week individually and I chose to use the queries with the twitter usernames of the candidates and the name that the candidate is referred to which is a part of their full name, so it will capture tweets with both the name they are known by and the full name. I chose to use the two most prominent male and female candidates at the time, Vice-President Joe Biden and Senator Bernie Sanders, Senator Amy Klobuchar and Elizabeth Warren. I removed the retweets from each corpus of tweets to make sure that I was getting only the original words of the twitter user."
   ]
  },
  {
   "cell_type": "code",
   "execution_count": 1,
   "metadata": {},
   "outputs": [],
   "source": [
    "%%capture\n",
    "% run Data_Analysis1.ipynb"
   ]
  },
  {
   "cell_type": "code",
   "execution_count": 2,
   "metadata": {},
   "outputs": [],
   "source": [
    "%%capture\n",
    "% run Data_Analysis3.ipynb"
   ]
  },
  {
   "cell_type": "code",
   "execution_count": 3,
   "metadata": {},
   "outputs": [
    {
     "data": {
      "text/plain": [
       "9992"
      ]
     },
     "execution_count": 3,
     "metadata": {},
     "output_type": "execute_result"
    }
   ],
   "source": [
    "len(Biden_tweets_nrt)"
   ]
  },
  {
   "cell_type": "code",
   "execution_count": 4,
   "metadata": {},
   "outputs": [
    {
     "data": {
      "text/plain": [
       "9998"
      ]
     },
     "execution_count": 4,
     "metadata": {},
     "output_type": "execute_result"
    }
   ],
   "source": [
    "len(Klob_tweets_nrt)"
   ]
  },
  {
   "cell_type": "code",
   "execution_count": 5,
   "metadata": {},
   "outputs": [
    {
     "data": {
      "text/plain": [
       "9988"
      ]
     },
     "execution_count": 5,
     "metadata": {},
     "output_type": "execute_result"
    }
   ],
   "source": [
    "len(Sanders_tweets_nrt)"
   ]
  },
  {
   "cell_type": "code",
   "execution_count": 6,
   "metadata": {},
   "outputs": [
    {
     "data": {
      "text/plain": [
       "9994"
      ]
     },
     "execution_count": 6,
     "metadata": {},
     "output_type": "execute_result"
    }
   ],
   "source": [
    "len(Warren_tweets_nrt)"
   ]
  },
  {
   "cell_type": "markdown",
   "metadata": {},
   "source": [
    "## The Analysis \n",
    "### Frequency analysis\n",
    "I used the loop and filter technique to make tokens out of the text of the tweets and using tokens and counters to make frequency lists of the text of the tweets for each candidate. These frequency lists would show which words weer most common in tweets about a specific candidate."
   ]
  },
  {
   "cell_type": "code",
   "execution_count": 7,
   "metadata": {},
   "outputs": [
    {
     "data": {
      "text/plain": [
       "[('the', 6393),\n",
       " ('to', 4780),\n",
       " ('a', 3615),\n",
       " ('and', 3474),\n",
       " ('you', 3118),\n",
       " ('is', 3069),\n",
       " ('i', 2806),\n",
       " ('of', 2693),\n",
       " ('biden', 2574),\n",
       " ('in', 2445),\n",
       " ('for', 2415),\n",
       " ('that', 2090),\n",
       " ('it', 1749),\n",
       " ('he', 1713),\n",
       " ('not', 1405),\n",
       " ('this', 1327),\n",
       " ('are', 1304),\n",
       " ('s', 1198),\n",
       " ('be', 1182),\n",
       " ('on', 1133),\n",
       " ('bernie', 1112),\n",
       " ('have', 1049),\n",
       " ('with', 1020),\n",
       " ('@joebiden', 995),\n",
       " ('trump', 963),\n",
       " ('t', 959),\n",
       " ('but', 954),\n",
       " ('if', 947),\n",
       " ('will', 945),\n",
       " ('we', 943)]"
      ]
     },
     "execution_count": 7,
     "metadata": {},
     "output_type": "execute_result"
    }
   ],
   "source": [
    "Biden_freq.most_common(30)"
   ]
  },
  {
   "cell_type": "code",
   "execution_count": 8,
   "metadata": {},
   "outputs": [
    {
     "data": {
      "text/plain": [
       "[('the', 7123),\n",
       " ('to', 5428),\n",
       " ('and', 4755),\n",
       " ('klobuchar', 4417),\n",
       " ('a', 3992),\n",
       " ('i', 3487),\n",
       " ('is', 3226),\n",
       " ('of', 3113),\n",
       " ('in', 3086),\n",
       " ('you', 2898),\n",
       " ('for', 2758),\n",
       " ('that', 2038),\n",
       " ('it', 1848),\n",
       " ('biden', 1783),\n",
       " ('not', 1577),\n",
       " ('warren', 1571),\n",
       " ('@amyklobuchar', 1557),\n",
       " ('be', 1556),\n",
       " ('s', 1422),\n",
       " ('but', 1403),\n",
       " ('amy', 1378),\n",
       " ('are', 1313),\n",
       " ('this', 1256),\n",
       " ('she', 1255),\n",
       " ('on', 1244),\n",
       " ('he', 1190),\n",
       " ('bernie', 1186),\n",
       " ('buttigieg', 1184),\n",
       " ('have', 1166),\n",
       " ('out', 1163)]"
      ]
     },
     "execution_count": 8,
     "metadata": {},
     "output_type": "execute_result"
    }
   ],
   "source": [
    "Klob_freq.most_common(30)"
   ]
  },
  {
   "cell_type": "code",
   "execution_count": 9,
   "metadata": {},
   "outputs": [
    {
     "data": {
      "text/plain": [
       "[('the', 7118),\n",
       " ('to', 5135),\n",
       " ('bernie', 4101),\n",
       " ('a', 3844),\n",
       " ('and', 3577),\n",
       " ('is', 3385),\n",
       " ('you', 3308),\n",
       " ('i', 3055),\n",
       " ('of', 2894),\n",
       " ('for', 2670),\n",
       " ('in', 2458),\n",
       " ('that', 2339),\n",
       " ('it', 1924),\n",
       " ('he', 1623),\n",
       " ('are', 1585),\n",
       " ('not', 1533),\n",
       " ('this', 1338),\n",
       " ('be', 1231),\n",
       " ('s', 1199),\n",
       " ('have', 1166),\n",
       " ('but', 1123),\n",
       " ('on', 1101),\n",
       " ('will', 1098),\n",
       " ('t', 1069),\n",
       " ('we', 1067),\n",
       " ('they', 1062),\n",
       " ('if', 1051),\n",
       " ('trump', 1020),\n",
       " ('with', 997),\n",
       " ('people', 887)]"
      ]
     },
     "execution_count": 9,
     "metadata": {},
     "output_type": "execute_result"
    }
   ],
   "source": [
    "Sanders_freq.most_common(30)"
   ]
  },
  {
   "cell_type": "code",
   "execution_count": 10,
   "metadata": {},
   "outputs": [
    {
     "data": {
      "text/plain": [
       "[('the', 7073),\n",
       " ('to', 5635),\n",
       " ('warren', 5126),\n",
       " ('and', 4531),\n",
       " ('a', 4445),\n",
       " ('i', 4385),\n",
       " ('is', 3593),\n",
       " ('for', 3068),\n",
       " ('of', 3022),\n",
       " ('in', 2886),\n",
       " ('you', 2778),\n",
       " ('that', 2302),\n",
       " ('it', 1921),\n",
       " ('bernie', 1729),\n",
       " ('she', 1724),\n",
       " ('not', 1543),\n",
       " ('but', 1491),\n",
       " ('her', 1455),\n",
       " ('s', 1393),\n",
       " ('this', 1371),\n",
       " ('on', 1343),\n",
       " ('be', 1333),\n",
       " ('are', 1307),\n",
       " ('@ewarren', 1266),\n",
       " ('with', 1224),\n",
       " ('have', 1216),\n",
       " ('if', 1129),\n",
       " ('he', 1100),\n",
       " ('as', 1069),\n",
       " ('t', 1003)]"
      ]
     },
     "execution_count": 10,
     "metadata": {},
     "output_type": "execute_result"
    }
   ],
   "source": [
    "Warren_freq.most_common(30)"
   ]
  },
  {
   "cell_type": "markdown",
   "metadata": {},
   "source": [
    "This was extremely helpful in understanding what important key words were. The most interesting thing to me was the mention of other politicians in the corpuses which show comparison between two politicians. Biden's unigram list includes Bernie and Trump which show when people are talking about Biden, it includes references the current perceived largest competition for the candidate and future competition for the candidate. In Klobuchar's unigrams Biden, Bernie, Warren, and Buttigieg are mentioned which makes it evident that Klobuchar is often being compared to the other politicians in the Democratic primary. In the Sanders unigrams the only politician that is mentioned is 'trump' as Sanders was seen as a front runner during this time and potentially Trump's biggest competition. The politician mentioned in Warren's unigrams 'Bernie' which makes sense as she is often compared to the other progressive in the race which is Bernie Sanders. \n",
    "\n",
    "Based on the frequency lists, interestingly the women list's have much more frequent mentions of the other primary candidates, making it seem like the female candidates are being compared more to their competitors than the male candidates. None of the female candidates are in the top thirty most frequent tokens for the male candidates, showing that the male candidates are being less compared to the female counterparts than the female candidates who are being often compared to their male competition. The male candidates have more mentions of the current president which shows that they are being taken more seriously as potential competition for President Trump.\n",
    "\n",
    "\n",
    "### Showing the total number with use of the candidates name of the other gender in the corpus.\n",
    "I combined the two corpuses with tweets about the female candidates and the two corpuses with tweets about the male candidates. These are additions of the male candidates mentions in the female corpus and the female candidates mentions in the male corpus."
   ]
  },
  {
   "cell_type": "code",
   "execution_count": 11,
   "metadata": {},
   "outputs": [
    {
     "data": {
      "text/plain": [
       "5667"
      ]
     },
     "execution_count": 11,
     "metadata": {},
     "output_type": "execute_result"
    }
   ],
   "source": [
    "Female_freq['biden'] + Female_freq['bernie']"
   ]
  },
  {
   "cell_type": "code",
   "execution_count": 12,
   "metadata": {},
   "outputs": [
    {
     "data": {
      "text/plain": [
       "689"
      ]
     },
     "execution_count": 12,
     "metadata": {},
     "output_type": "execute_result"
    }
   ],
   "source": [
    "Male_freq['warren'] + Male_freq['klobuchar']"
   ]
  },
  {
   "cell_type": "code",
   "execution_count": 13,
   "metadata": {},
   "outputs": [
    {
     "data": {
      "text/plain": [
       "8.224963715529753"
      ]
     },
     "execution_count": 13,
     "metadata": {},
     "output_type": "execute_result"
    }
   ],
   "source": [
    "5667/689"
   ]
  },
  {
   "cell_type": "markdown",
   "metadata": {},
   "source": [
    "These shows that male candidates name are being used in tweets about the women 8.2 times more than the female candidates names are being used in tweets about the men, which shows the the women are being compared a lot more to the men and being seen as a part of the larger group than the men who are seen as individuals. \n",
    "\n",
    "### KWIC analysis of Candidate names\n",
    "I wanted to show the use of one of the female candidate's names in the male tweets corpus and the use of one the male candidate's names in the female tweets corpus. KWIC is Key Word in Context and I want to see how the candidate's names are being used in the Tweets."
   ]
  },
  {
   "cell_type": "code",
   "execution_count": 14,
   "metadata": {},
   "outputs": [
    {
     "name": "stdout",
     "output_type": "stream",
     "text": [
      "                                          warren  , biden , or\n",
      "                                          warren  has native american blood\n",
      "                                          warren  presidency would have been\n",
      "                                          warren  drops out , that\n",
      "                                          warren  supporters are a repeat\n",
      "                                          warren  . meanwhile , heres\n",
      "                                          warren  flip-flops and releases dna\n",
      "                                          warren  to bernie , in\n",
      "                                          warren  be sec of education\n",
      "                                          warren  is cherokee and doesn't\n",
      "                                          warren  is too tho ,\n",
      "                                          warren  vs . the moderates\n",
      "                            , trump 40 %  warren  46 % , trump\n",
      "                        % klobuchar 15 %  warren  13 % steyer 11\n",
      "                        bernie / biden ,  warren  dropping out wouldn't make\n",
      "                    the 2016 primaries .  warren  has apologized . \n",
      "                         ’ word around .  warren  doesn ’ t realize\n",
      "                         hit the floor .  warren  has a path \n",
      "                    and attacks bernie .  warren  stays in and siphons\n",
      "                  agree regarding that .  warren  ’ s shot is\n",
      "                      has chosen biden /  warren  as their ticket she\n",
      "                          , than biden /  warren  / bloomberg / buttigieg\n",
      "                           the 14 were :  warren  , booker and harris\n",
      "                          , harris , and  warren  are direly needed in\n",
      "                        , with biden and  warren  topping the list .\n",
      "                   against yang pete and  warren  for walking back their\n",
      "               he is currently attacking  warren  and wants her to\n",
      "               bernie is problematic but  warren  tried to lie even\n",
      "                             in tx , def  warren  , biden - yes\n",
      "                        no , don't elect  warren  , she might regulate\n",
      "                 joe biden and elizabeth  warren  . nyc votes in\n",
      "              that bernie told elizabeth  warren  : ' ' she\n",
      "                    drop out and endorse  warren  ” is super gross\n",
      "                   win with support from  warren  supporters also . \n",
      "                          she stops . if  warren  is thinking about continuing\n",
      "                     microscope now . if  warren  steps aside bernie can\n",
      "                         biden ? i liked  warren  to but unfortunately she\n",
      "                    with either biden or  warren  .   \n",
      "                  buttigieg — 13 percent  warren  — 11 percent biden\n",
      "                 es socialista igual que  warren  . biden esta viejo\n",
      "               its affiliates to support  warren  , sanders , or\n",
      "                    hurt biden more than  warren  hurt bernie ? \n",
      "                     had more votes than  warren  + sanders  \n",
      "                    is getting more than  warren  ... someone please explain\n",
      "              abandoning the values that  warren  ran on--values that would\n",
      "                   whoever told you that  warren  had a “ trend\n",
      "                  the battle between the  warren  supporters and the bernie\n",
      "           the self-righteousness of the  warren  and bernie brigades is\n",
      "                             . i gave to  warren  btw . but nonetheless\n",
      "                of bad interactions with  warren  , buttigieg , and\n"
     ]
    }
   ],
   "source": [
    "Male_Warren_sample = random.sample(Male_kwic_Warren, 50)\n",
    "print_kwic(sort_kwic(Male_Warren_sample , order=['L1']))"
   ]
  },
  {
   "cell_type": "code",
   "execution_count": 15,
   "metadata": {
    "scrolled": true
   },
   "outputs": [
    {
     "name": "stdout",
     "output_type": "stream",
     "text": [
      "                                          bernie  : university of north\n",
      "                                          bernie  really needs her out\n",
      "                                          bernie  people would stage a\n",
      "                                          bernie  proposes are the dream\n",
      "                                          bernie  but all you guys\n",
      "                                          bernie  weren't rallying in massachusetts\n",
      "                                          bernie  ’ s main primary\n",
      "                                          bernie  bc i dont like\n",
      "                                          bernie  teve uma má noite\n",
      "                       i'm with warren (  bernie  2nd ) but i\n",
      "                            a ( former )  bernie  supporter and i'm anything\n",
      "                         / his charity )  bernie  : yuppppppppp ok i\n",
      "                they showed solidarity ,  bernie  did not . \n",
      "                     bernie or nothing .  bernie  or bust . you\n",
      "                           ... i agree .  bernie  thinks he ’ s\n",
      "                    first race anyways .  bernie  is the only one\n",
      "              nevada democratic caucus :  bernie  sanders : 42.3 %\n",
      "               bernie alighnment chart ?  bernie  : true bernie yang\n",
      "                   of calls for @ewarren  bernie  is losing for two\n",
      "                           ’ d support a  bernie  presidency - caught it\n",
      "                        . both biden and  bernie  finished ahead of warren\n",
      "                    in because i believe  bernie  is not fit for\n",
      "             any other candidate besides  bernie  to even try to\n",
      "                  that favor anybody but  bernie  ... mayor pete ,\n",
      "               they have cnn criticising  bernie  , using fear tactics\n",
      "           shoulder . you're criticizing  bernie  for ... winning ?\n",
      "                    drop out and endorse  bernie  at this rate ,\n",
      "                          is it my fault  bernie  lost . i was\n",
      "                        / wbz poll finds  bernie  sanders and elizabeth warren\n",
      "                        and just one for  bernie  . the bernie supporter\n",
      "                     would be sexist for  bernie  to go soft against\n",
      "                  go away before helping  bernie  , she is way\n",
      "                    , and probably helps  bernie  in the end .\n",
      "               most people actually like  bernie  and this is roughly\n",
      "             anti-semetic for not liking  bernie  . ( when really\n",
      "                          point ? i love  bernie  , have for 30\n",
      "            klobuchar : central missouri  bernie  : webster is this\n",
      "                         go to biden not  bernie  .   \n",
      "                        voters , was not  bernie  . if anyone got\n",
      "                      that if you're pro  bernie  your only interest is\n",
      "                               if it ’ s  bernie  i ’ ll be\n",
      "                    you have to separate  bernie  himself from some of\n",
      "                             \" ones . so  bernie  is the strategic vote\n",
      "                  that she's better than  bernie  and biden combined .\n",
      "               finally place higher than  bernie  in south carolina ?\n",
      "             hack expresses concern that  bernie  might not get it\n",
      "                  otherwise have gone to  bernie  .   \n",
      "                     s are disservice to  bernie  , they leave everyone\n",
      "                        she ’ s trailing  bernie  in ma , her\n",
      "                           re in a weird  bernie  cult . #ne02 \n"
     ]
    }
   ],
   "source": [
    "Female_Sanders_sample = random.sample(Female_kwic_Sanders, 50)\n",
    "print_kwic(sort_kwic(Female_Sanders_sample , order=['L1']))"
   ]
  },
  {
   "cell_type": "markdown",
   "metadata": {},
   "source": [
    "### The use of candidate names in tweets\n",
    "The use of candidates names in the corpuses of male and female tweets is in conjunction with other candidates like 'think biden buttigieg and  warren  need to have a', in comparison to another candidate like 'i'm with warren (  bernie  2nd ) but i', or with percentages in a horse race context like '% steyer 9 %  warren  8 % cnn'. This shows how candidates' names are being used, showing that the female candidates are being used in tweets as one of many members in the race as compared to the males. This concept can be seen by the fact that the male candidates names in the female corpus are being used 8.2 times more than the female candidates names in the male corpus.\n",
    "\n",
    "### Concordance analysis\n",
    "The concordance analysis is used to see what words are more often used in each of the corpuses compared to the other corpus. It will show what really makes the tweets about male and the tweets about females unique from each other."
   ]
  },
  {
   "cell_type": "code",
   "execution_count": 16,
   "metadata": {},
   "outputs": [
    {
     "name": "stdout",
     "output_type": "stream",
     "text": [
      "WORD                     Corpus A Freq.Corpus B Freq.Keyness\n",
      "============================================================\n",
      "bernie                   5213      2915      1049.311\n",
      "@berniesanders           1315      391       676.638\n",
      "he                       3336      2290      384.271\n",
      "joe                      1053      429       373.110\n",
      "@joebiden                1087      567       253.646\n",
      "his                      1682      1077      240.084\n",
      "you                      6426      5676      227.181\n",
      "socialism                238       42        182.440\n",
      "communist                169       23        148.423\n",
      "healthcare               244       77        118.172\n",
      "free                     295       111       116.410\n",
      "obama                    360       164       107.494\n",
      "establishment            304       126       105.084\n",
      "trump                    1983      1653      99.984\n",
      "people                   1571      1260      96.844\n",
      "biden                    3049      2752      92.434\n",
      "hunter                   80        5         91.539\n",
      "are                      2889      2620      84.516\n",
      "#bernie2020              161       47        84.341\n",
      "him                      1155      895       83.625\n",
      "socialist                254       109       83.375\n",
      "your                     1688      1423      79.882\n",
      "communism                85        13        70.501\n",
      "the                      13511     14196     70.029\n",
      "that                     4429      4340      63.605\n",
      "capitalism               64        8         58.392\n",
      "ad                       121       39        57.299\n",
      "they                     1940      1758      57.087\n",
      "#notmeus                 123       43        53.147\n",
      "pay                      220       113       52.933\n",
      "economy                  105       32        52.714\n",
      "kids                     132       50        51.641\n",
      "government               162       71        51.474\n",
      "we                       2010      1859      50.330\n",
      "bernie's                 217       115       49.028\n",
      "guy                      234       130       47.791\n",
      "afford                   74        19        43.531\n",
      "income                   81        24        41.823\n",
      "wage                     51        8         41.745\n",
      "#biden2020               63        14        41.515\n",
      "guns                     57        11        41.364\n",
      "years                    424       307       40.482\n",
      "...                      1709      1593      40.068\n",
      "children                 91        32        39.048\n",
      "himself                  111       46        38.378\n",
      "russia                   131       61        37.706\n",
      "t                        2028      1940      37.488\n",
      "party                    424       314       37.120\n",
      "never                    528       413       36.646\n",
      "this                     2665      2627      35.755\n",
      "gun                      70        21        35.702\n",
      "biden's                  131       63        35.647\n",
      "@realdonaldtrump         188       109       34.797\n",
      "cuba                     41        6         34.774\n",
      "will                     2043      1971      34.686\n",
      "working                  209       127       34.414\n",
      "bros                     113       51        34.261\n",
      "supporters               650       543       32.383\n",
      "medicare                 140       74        31.801\n",
      "workers                  61        18        31.623\n",
      "son                      87        35        31.381\n",
      "cost                     75        27        31.285\n",
      "planet                   70        24        30.942\n",
      "everyone                 320       231       30.898\n",
      "virus                    42        8         30.732\n"
     ]
    }
   ],
   "source": [
    "calculate_keyness(Male_freq, Female_freq)"
   ]
  },
  {
   "cell_type": "markdown",
   "metadata": {},
   "source": [
    "Two of the categories of words that stand out that are unique to Biden and Bernie for me are words related to their current and past policy positions and ideology. Words to do with Biden's policy positions are gun, guns, war, children, and cages, which he clearly puts more focus on than other democrats in the race. Words that are associated with Bernie are socialism, free, communist, healthcare, establishment, capitalism, economy, wage, workers, mericare, income, #notmeus, and cuba. Having so many of these policy and ideology words for the male candidates shows that their individual ideas are being talked about on Twitter. \n",
    "\n",
    "When people are tweeting about Bernie and Biden they are talking about certain things that may be universal to democrats like the economy and healthcare more for male candidates than female candidates. The fact that Trump was used a lot with the male candidates more shows that they are being seen as a real competitor for the general election. It shows that certain serious topics are being talked about more in relation to males than females and that male candidates are being seen more as serious competitors."
   ]
  },
  {
   "cell_type": "code",
   "execution_count": 17,
   "metadata": {},
   "outputs": [
    {
     "name": "stdout",
     "output_type": "stream",
     "text": [
      "WORD                     Corpus A Freq.Corpus B Freq.Keyness\n",
      "============================================================\n",
      "warren                   6697      590       5129.205\n",
      "klobuchar                4699      99        5023.642\n",
      "amy                      1505      81        1354.185\n",
      "@amyklobuchar            1672      133       1331.749\n",
      "she                      2979      663       1265.661\n",
      "her                      2372      546       974.528\n",
      "buttigieg                1441      168       971.553\n",
      "@ewarren                 1650      275       894.117\n",
      "elizabeth                839       61        689.819\n",
      "steyer                   679       89        429.558\n",
      "bloomberg                1318      420       362.205\n",
      "drop                     635       110       334.447\n",
      "harris                   407       77        200.020\n",
      "she's                    378       73        182.620\n",
      "language                 197       14        163.219\n",
      "warren's                 174       8         162.777\n",
      "gabbard                  256       35        158.009\n",
      "english                  173       9         157.044\n",
      "woman                    349       74        155.271\n",
      "women                    412       107       148.460\n",
      "@petebuttigieg           607       219       136.042\n",
      "minnesota                145       8         129.610\n",
      "out                      2096      1251      107.660\n",
      "candidates               595       246       101.650\n",
      "sen                      143       16        98.438\n",
      "#warren2020              132       14        93.249\n",
      "sanders                  1797      1073      92.107\n",
      "race                     421       160       85.643\n",
      "pete                     840       422       85.460\n",
      "official                 130       17        82.352\n",
      "7                        148       25        79.420\n",
      "#warren                  113       13        76.708\n",
      "ticket                   275       87        76.399\n",
      "or                       1915      1199      76.164\n",
      "@senwarren               172       37        75.499\n",
      "i                        7872      5861      70.974\n",
      "progressive              400       164       69.607\n",
      "booker                   114       16        69.257\n",
      "dropped                  134       25        66.608\n",
      "mn                       102       13        65.561\n",
      "abrams                   106       15        64.073\n",
      "senator                  209       62        63.658\n",
      "and                      9286      7051      63.183\n",
      "debate                   372       155       62.461\n",
      "candidate                843       469       59.352\n",
      "native                   70        5         57.898\n",
      "@tomsteyer               213       70        55.827\n",
      "kamala                   157       42        54.621\n",
      "female                   108       22        49.829\n",
      "men                      142       39        47.834\n",
      "final                    81        12        47.567\n",
      "tuesday                  317       139       47.213\n",
      "tom                      101       21        45.750\n",
      "sexist                   118       29        45.251\n",
      "liz                      158       49        45.200\n",
      "@betoorourke             67        8         44.615\n",
      "@kamalaharris            110       27        42.241\n",
      "super                    417       211       41.454\n",
      "would                    1706      1152      40.999\n",
      "choice                   352       170       40.428\n",
      "but                      2894      2077      40.230\n",
      "9                        92        20        39.983\n",
      "5                        203       81        37.439\n",
      "0                        117       34        36.645\n",
      "moderate                 228       97        36.501\n",
      "ag                       69        12        36.234\n",
      "massachusetts            86        20        34.965\n",
      "drops                    92        23        34.622\n",
      "13                       74        15        34.291\n",
      "precincts                48        5         34.196\n",
      "1                        384       202       33.451\n",
      "delegates                296       145       32.581\n",
      "ma                       63        12        30.789\n",
      "#buttigieg               44        5         30.055\n"
     ]
    }
   ],
   "source": [
    "calculate_keyness(Female_freq, Male_freq)"
   ]
  },
  {
   "cell_type": "markdown",
   "metadata": {},
   "source": [
    "A lot of the words most frequent for Klobuchar and Warren are about other politicians and in comparison to the other candidates Buttigieg, Steyer, Bloomberg, Gabbard, Harris, Ambrams, Booker, Beto, and Gillibrand. It also includes the usernames of some of these politicians. The numbers are likely part of percentages in many horse race tweets about the candidate, as in who is at what percentage in the polls. These are being used much more for the female candidates than the other politicians in the list which tells me that the women are being seen in the perspective of how they are in relation to other politicians, some of which are out of the race or were never even in the race.\n",
    "\n",
    "### KWIC Analysis on 'policy'\n",
    "The male politicians have many words related to their current and past policy positions and ideology. I want to investigate the use of the word policy for male and female candidates and how they talk about the policy of candidates differently"
   ]
  },
  {
   "cell_type": "code",
   "execution_count": 18,
   "metadata": {},
   "outputs": [
    {
     "name": "stdout",
     "output_type": "stream",
     "text": [
      "                                          policy  point of view bernie-yang\n",
      "                                          policy  is not his supporters\n",
      "                                          policy  isn't whats important .\n",
      "            #klobuchar has a #healthcare  policy  ; it's just different\n",
      "              bernie's entire platform /  policy  is . sad how\n",
      "        consumer protection background /  policy  for student loans ,\n",
      "                        into place . any  policy  that he does have\n",
      "                     is her college dept  policy  .   \n",
      "            is literally 2016 disability  policy  . i voted for\n",
      "            is literally 2016 disability  policy  . i voted for\n",
      "          of neoliberal fascist economic  policy  that destroyed the middle\n",
      "                         ’ s no economic  policy  that will change that\n",
      "           premiums skyrocketed . family  policy  fr $ 560 /\n",
      "           premiums skyrocketed . family  policy  fr $ 560 /\n",
      "                 know what biden foreign  policy  thinking is always off\n",
      "        installed by imperialist foreign  policy  in genocidal coups that\n",
      "        installed by imperialist foreign  policy  in genocidal coups that\n",
      "        installed by imperialist foreign  policy  in genocidal coups that\n",
      "                 , he's bernie's foreign  policy  advisor , so my\n",
      "                      his stop and frisk  policy  , along with his\n",
      "                 though , his healthcare  policy  isn ’ t my\n",
      "                    virtually all of her  policy  ideas .  \n",
      "                      voters who ask him  policy  questions while attending oligarch\n",
      "                    sanders . debate his  policy  , but don ’\n",
      "                  be moving backwards in  policy  .   \n",
      "                      base it purely off  policy  why wouldnt we back\n",
      "            government of irans official  policy  is the destruction of\n",
      "            government of irans official  policy  is the destruction of\n",
      "                             . i vote on  policy  , not people .\n",
      "                   to president trump on  policy  , not to mention\n",
      "                  then get aggressive on  policy  ’ s that work\n",
      "                             . i vote on  policy  , not people .\n",
      "                       we can unite over  policy  , economics , gender\n",
      "                       we can unite over  policy  , economics , gender\n",
      "               to really get progressive  policy  done . i feel\n",
      "             and bernie have progressive  policy  they will be allies\n",
      "          progressive policy and radical  policy  ? why doesn't bernie\n",
      "                       they have no real  policy  arguments against bernie .\n",
      "           not provided under republican  policy     \n",
      "           not provided under republican  policy     \n",
      "           not provided under republican  policy     \n",
      "                        he means the tax  policy  , but yeah .\n",
      "                      when he headed tax  policy  negotiations with senate minority\n",
      "       their government implemented that  policy  , 2 - what\n",
      "                          to look at the  policy  page as i may\n",
      "                          & vote for the  policy  , if not the\n",
      "                          to look at the  policy  page as i may\n",
      "                          . focus on the  policy  .   \n",
      "                  shokin was official us  policy  . not bidens personal\n",
      "                          up . his whole  policy  agenda is based around\n"
     ]
    }
   ],
   "source": [
    "Male_policy_sample = random.sample(Male_kwic_policy, 50)\n",
    "print_kwic(sort_kwic(Male_policy_sample , order=['L1']))"
   ]
  },
  {
   "cell_type": "code",
   "execution_count": 19,
   "metadata": {},
   "outputs": [
    {
     "name": "stdout",
     "output_type": "stream",
     "text": [
      "                                          policy  and experience , warren\n",
      "                                          policy  matters and found out\n",
      "                                          policy  is literally 2016 disability\n",
      "                        not because of \"  policy  over personality \" but\n",
      "                       at his campaign /  policy  pages and it is\n",
      "                for never implementing a  policy  she obviously opposes .\n",
      "                          here star to a  policy  that is not what\n",
      "                          as it is about  policy  . and scoring cheap\n",
      "                        . it's all about  policy  for me too and\n",
      "                    bus next stop actual  policy  change .  \n",
      "               bernie's medicare for all  policy  . they are distinguishing\n",
      "             that's ironic since biden's  policy  positions are closer to\n",
      "              are personally affected by  policy  .   \n",
      "                        toxic is a clear  policy  attack , right ?\n",
      "            is literally 2016 disability  policy  . i voted for\n",
      "                         as u start down  policy  road u have to\n",
      "                 probably help nail down  policy  details ( filibuster for\n",
      "           out that bloomberg's economic  policy  really is tilted right\n",
      "              concept \" personnel equals  policy  . \" you can't\n",
      "              betrayed us breaking every  policy  , procedure and federal\n",
      "        klobuchar embarrassed by foreign  policy  question from telemundo interviewer\n",
      "                   trade deals . foreign  policy  . lowest black &\n",
      "                 her weakness on foreign  policy  . as a dem\n",
      "        klobuchar embarrassed by foreign  policy  question from telemundo interviewer\n",
      "                is the klobuchar foreign  policy  doctrine ? find out\n",
      "                     & bernie on foreign  policy  honestly , & that\n",
      "                   best science to guide  policy  . best science to\n",
      "      lied about #klobuchar's healthcare  policy  in the debate ?\n",
      "                    actually look at her  policy  ideas & pragmatism )\n",
      "                           , and not her  policy  , was the appeal\n",
      "           with @ewarren talking housing  policy  and regulating wall street\n",
      "                      base it purely off  policy  why wouldnt we back\n",
      "                 comparable to bernie on  policy  , but her personality\n",
      "                          be done and on  policy  . not personal attacks\n",
      "                 progressives ( based on  policy  ) are split with\n",
      "                    thing about what our  policy  should be towards our\n",
      "                 is say meanies override  policy  . bc that's stupid\n",
      "               to really get progressive  policy  done . i feel\n",
      "          sincere difference on pursuing  policy  and hoping liz warren\n",
      "          progressive policy and radical  policy  ? why doesn't bernie\n",
      "           has pushed extreme right-wing  policy  on #israel / #palestine\n",
      "                   own protection . same  policy  under president obama .\n",
      "                  supported warren . the  policy  divide between biden &\n",
      "                   shit instead of their  policy  .   \n",
      "                        win first , then  policy  . hard to tell\n",
      "                        when it comes to  policy  . something to think\n",
      "                    warrens no first use  policy  is long overdue &\n",
      "                       to be a visionary  policy  wonk who knows how\n",
      "                   this decision as your  policy  positions . and i\n",
      "                          warren , the “  policy  wonk , ” has\n"
     ]
    }
   ],
   "source": [
    "Female_policy_sample = random.sample(Female_kwic_policy, 50)\n",
    "print_kwic(sort_kwic(Female_policy_sample , order=['L1']))"
   ]
  },
  {
   "cell_type": "markdown",
   "metadata": {},
   "source": [
    "### The use of 'policy' in tweets\n",
    "It seems that the tweets about the male candidate's policy have most to do with their specific policy, for example \"part of our foreign  policy\" and lots of the women tweets are about specific policies as well. But the tweets about the women's policy also include uses of policy in general as in \"we vote on  policy.\" These policy tweets also show what kinds of issues people tweeting are concerned about and are compelled to tweet about.\n",
    "\n",
    "### Collocation analysis\n",
    "Collocations are used to find the kind of company that a word keeps. I want to see how much descriptive words about policy and more general words about policy are use in conjunction with the word policy. I chose some specific types of policy that are important to the election. The words I chose would be either within four words before or after the word policy and show what people are tweeting about in relation to candidates policies."
   ]
  },
  {
   "cell_type": "code",
   "execution_count": 20,
   "metadata": {},
   "outputs": [
    {
     "name": "stdout",
     "output_type": "stream",
     "text": [
      "foreign 11\n",
      "domestic 1\n",
      "tax 2\n",
      "healthcare 1\n",
      "climate None\n",
      "economic 2\n",
      "immigration 1\n",
      "college 2\n",
      "family 2\n",
      "government 3\n",
      "border None\n",
      "housing None\n",
      "similar 1\n",
      "good None\n",
      "bad 1\n"
     ]
    }
   ],
   "source": [
    "for Male_coll in ['foreign', 'domestic', 'tax', 'healthcare', 'climate', 'economic', 'immigration', 'college', 'family', 'government', 'border', 'housing', 'similar', 'good', 'bad']:\n",
    "    print(Male_coll, Male_colls.get(Male_coll))"
   ]
  },
  {
   "cell_type": "code",
   "execution_count": 21,
   "metadata": {},
   "outputs": [
    {
     "name": "stdout",
     "output_type": "stream",
     "text": [
      "foreign 16\n",
      "domestic None\n",
      "tax None\n",
      "healthcare 1\n",
      "climate None\n",
      "economic 1\n",
      "immigration None\n",
      "college 1\n",
      "family None\n",
      "government None\n",
      "border 1\n",
      "housing 1\n",
      "similar 1\n",
      "good None\n",
      "bad 6\n"
     ]
    }
   ],
   "source": [
    "for Female_coll in ['foreign', 'domestic', 'tax', 'healthcare', 'climate', 'economic', 'immigration', 'college', 'family', 'government', 'border', 'housing', 'similar', 'good', 'bad']:\n",
    "    print(Female_coll, Female_colls.get(Female_coll))"
   ]
  },
  {
   "cell_type": "markdown",
   "metadata": {},
   "source": [
    "### Collocation analysis of specific words surrounding 'policy'\n",
    "From the male tweet corpus there are more tweets about specific types of policy like 'government', 'race', and 'family'. For the female the words about general policy like 'bad' is being used more than the males. These shows that tweets are more considering the serious policy issues of the race for the male candidates than for the female candidates."
   ]
  },
  {
   "cell_type": "markdown",
   "metadata": {},
   "source": [
    "## Conclusion\n",
    "\n",
    "Based on my investigation into the tweets about male and female political candidates over the month between the Iowa caucuses and Warren, the last female politician in the race, dropped out, male and female candidates are tweeted about differently. The unigram frequency lists of all of the candidates shows that female candidates are being talked about in conjunction with male candidates than male candidates being talked about with female candidates. The KWIC analysis showed that the way that tweets in both corpuses mention the candidates of the other gender have to with grouping candidates together, comparison between candidates, and horse race politics. These kinds of tweets are much more common in the female corpus since other candidates names are mentioned much more in the female tweets than male tweets. Therefore the female candidates are seen much more as a part of the group of democratic candidates and as a comparison for other candidates, as opposed to tweeting about the female candidates as their own person.\n",
    "\n",
    "The calculate keyness function further confirmed how female candidates are being talked about in tweets. The words that were used for the females much more than the males included many politicians, some that had even dropped out of the race and some that were still in it. The use of the other candidates and it shows that female candidates are seen as a competitor for the office as opposed to male candidates. For males the keyness analysis pointed out many specific words to do with ideology and specific kinds of policy, which spoke to how the male candidates were being considered as individuals with their own ideas and plans for the office of President. The fact that Trump was used a lot with the male candidates in comparison to the female candidate shows that the males are being seen as a real competitor for the general election. The KWIC analysis on the word 'policy' showed how specific kinds of policy and policy in general were being mentioned in the tweets. The concordance analysis shows how specific words are being used in relation to the word policy and showed how male candidates specific policies are being talked about more than the females. Overall, from my analysis I think that women are being tweeted about an being seen more a part of the group of Democratic candidates as opposed to mean who are being seen less superficially and more for their ideology and policies."
   ]
  },
  {
   "cell_type": "markdown",
   "metadata": {},
   "source": [
    "## Future research\n",
    "In future exploration of this topic I would like to go into different congressional races and the past presidential races and primaries to see if this concept is consistent over time. I also want to related this more to the gender in the workplace and classroom realm and whether it is a part of the problem that women face everyday, that women face that they are seen more as a part of a group than for their individual accomplishments differently from their male counterparts. For future research I would also definitely want to see if this is true for woman in the world of sports, entertainment, and business."
   ]
  }
 ],
 "metadata": {
  "kernelspec": {
   "display_name": "Python 3",
   "language": "python",
   "name": "python3"
  },
  "language_info": {
   "codemirror_mode": {
    "name": "ipython",
    "version": 3
   },
   "file_extension": ".py",
   "mimetype": "text/x-python",
   "name": "python",
   "nbconvert_exporter": "python",
   "pygments_lexer": "ipython3",
   "version": "3.7.3"
  }
 },
 "nbformat": 4,
 "nbformat_minor": 2
}
