{
 "cells": [
  {
   "cell_type": "markdown",
   "metadata": {},
   "source": [
    "### First Analysis of Cleaned Data\n",
    "This analysis includes frequency lists from individual candidates, collocation analysis, and KWIC concordance analysis.\n",
    "The purpose of the analysis is to get an initial view of the difference between tweets about male vs female politicians."
   ]
  },
  {
   "cell_type": "markdown",
   "metadata": {},
   "source": [
    "Import necessary modules, name the sentiment intensity analyzer, name list of stopwords, and name tweet tokernizer \"tt\""
   ]
  },
  {
   "cell_type": "code",
   "execution_count": 1,
   "metadata": {},
   "outputs": [],
   "source": [
    "import os\n",
    "import json\n",
    "from nltk.tokenize import TweetTokenizer, WordPunctTokenizer\n",
    "import datetime\n",
    "from collections import Counter\n",
    "import string\n",
    "from nltk.corpus import stopwords\n",
    "from nltk.sentiment.vader import SentimentIntensityAnalyzer\n",
    "import random"
   ]
  },
  {
   "cell_type": "code",
   "execution_count": 2,
   "metadata": {},
   "outputs": [],
   "source": [
    "sid = SentimentIntensityAnalyzer()"
   ]
  },
  {
   "cell_type": "code",
   "execution_count": 3,
   "metadata": {},
   "outputs": [],
   "source": [
    "stoplist=stopwords.raw('english').split('\\n')"
   ]
  },
  {
   "cell_type": "code",
   "execution_count": 4,
   "metadata": {},
   "outputs": [],
   "source": [
    "tt = TweetTokenizer(preserve_case=False)"
   ]
  },
  {
   "cell_type": "code",
   "execution_count": 5,
   "metadata": {},
   "outputs": [],
   "source": [
    "Biden_tweets_nrt = json.load(open('move_data/corpus_data1.json'))\n",
    "\n",
    "Klob_tweets_nrt = json.load(open('move_data/corpus_data2.json'))\n",
    "\n",
    "Sanders_tweets_nrt = json.load(open('move_data/corpus_data3.json'))\n",
    "\n",
    "Warren_tweets_nrt = json.load(open('move_data/corpus_data4.json'))"
   ]
  },
  {
   "cell_type": "markdown",
   "metadata": {},
   "source": [
    "Name new working directory and download functions from functions folder"
   ]
  },
  {
   "cell_type": "code",
   "execution_count": 6,
   "metadata": {},
   "outputs": [],
   "source": [
    "%run functions.ipynb"
   ]
  },
  {
   "cell_type": "markdown",
   "metadata": {},
   "source": [
    "### Analysis of Tweets: Frequency lists\n",
    "#### For all of the tweets by candidate\n",
    "* Create counters for the frequency lists\n",
    "* Using loop and filter make tokens out of the text of the tweets using tweet tokenizer\n",
    "    * Remove punctuation from tokens\n",
    "    * Update the counters with the tokens to be able to update frequency\n",
    "    * Use tokens to make frequency lists of unigrams, bigrams, and trigrams from tweets"
   ]
  },
  {
   "cell_type": "code",
   "execution_count": 7,
   "metadata": {},
   "outputs": [],
   "source": [
    "Biden_freq = Counter()\n",
    "Biden_bigram_freq= Counter()\n",
    "Biden_trigram_freq= Counter()\n",
    "\n",
    "for tweet in Biden_tweets_nrt:\n",
    "    Biden_toks = tt.tokenize(tweet['text'])\n",
    "    toks_np = [t for t in Biden_toks if t not in string.punctuation + '’']\n",
    "    Biden_freq.update(toks_np)\n",
    "    Biden_bigrams = get_ngram_tokens(toks_np, n=2)\n",
    "    Biden_bigram_freq.update(Biden_bigrams)\n",
    "    Biden_trigrams = get_ngram_tokens(toks_np, n=3)\n",
    "    Biden_trigram_freq.update(Biden_trigrams)"
   ]
  },
  {
   "cell_type": "code",
   "execution_count": 8,
   "metadata": {},
   "outputs": [
    {
     "data": {
      "text/plain": [
       "[('the', 6393),\n",
       " ('to', 4780),\n",
       " ('a', 3615),\n",
       " ('and', 3474),\n",
       " ('you', 3118),\n",
       " ('is', 3069),\n",
       " ('i', 2806),\n",
       " ('of', 2693),\n",
       " ('biden', 2574),\n",
       " ('in', 2445),\n",
       " ('for', 2415),\n",
       " ('that', 2090),\n",
       " ('it', 1749),\n",
       " ('he', 1713),\n",
       " ('not', 1405),\n",
       " ('this', 1327),\n",
       " ('are', 1304),\n",
       " ('s', 1198),\n",
       " ('be', 1182),\n",
       " ('on', 1133),\n",
       " ('bernie', 1112),\n",
       " ('have', 1049),\n",
       " ('with', 1020),\n",
       " ('@joebiden', 995),\n",
       " ('trump', 963),\n",
       " ('t', 959),\n",
       " ('but', 954),\n",
       " ('if', 947),\n",
       " ('will', 945),\n",
       " ('we', 943)]"
      ]
     },
     "execution_count": 8,
     "metadata": {},
     "output_type": "execute_result"
    }
   ],
   "source": [
    "Biden_freq.most_common(30)"
   ]
  },
  {
   "cell_type": "code",
   "execution_count": 9,
   "metadata": {},
   "outputs": [
    {
     "data": {
      "text/plain": [
       "[('in the', 494),\n",
       " ('of the', 451),\n",
       " ('joe biden', 417),\n",
       " ('is a', 309),\n",
       " ('don t', 304),\n",
       " ('it s', 290),\n",
       " ('to be', 289),\n",
       " ('vote for', 286),\n",
       " ('for the', 268),\n",
       " ('going to', 256),\n",
       " ('is the', 254),\n",
       " ('this is', 244),\n",
       " ('i m', 236),\n",
       " ('to the', 232),\n",
       " ('you are', 222),\n",
       " ('if you', 212),\n",
       " ('he is', 207),\n",
       " ('biden is', 205),\n",
       " ('on the', 203),\n",
       " ('he s', 184),\n",
       " ('need to', 164),\n",
       " ('i think', 159),\n",
       " ('that s', 158),\n",
       " ('and the', 154),\n",
       " ('is not', 152),\n",
       " ('will be', 144),\n",
       " ('have to', 143),\n",
       " ('out of', 143),\n",
       " ('have a', 141),\n",
       " ('want to', 138)]"
      ]
     },
     "execution_count": 9,
     "metadata": {},
     "output_type": "execute_result"
    }
   ],
   "source": [
    "Biden_bigram_freq.most_common(30)"
   ]
  },
  {
   "cell_type": "code",
   "execution_count": 10,
   "metadata": {},
   "outputs": [
    {
     "data": {
      "text/plain": [
       "[('i don t', 99),\n",
       " ('to vote for', 79),\n",
       " ('a lot of', 65),\n",
       " ('is going to', 58),\n",
       " ('i m not', 43),\n",
       " ('joe biden is', 42),\n",
       " ('you don t', 40),\n",
       " ('out of the', 39),\n",
       " ('it s not', 39),\n",
       " ('vote for him', 35),\n",
       " ('don t think', 34),\n",
       " ('do you think', 33),\n",
       " ('is not a', 31),\n",
       " ('this is a', 31),\n",
       " ('we need to', 31),\n",
       " ('vote for biden', 31),\n",
       " ('you need to', 30),\n",
       " ('it s a', 30),\n",
       " ('you want to', 30),\n",
       " ('for joe biden', 30),\n",
       " ('biden is a', 29),\n",
       " (\"i don't think\", 29),\n",
       " ('going to be', 29),\n",
       " ('biden is the', 29),\n",
       " ('you have to', 28),\n",
       " ('this is the', 28),\n",
       " ('biden', 28),\n",
       " ('the democratic party', 27),\n",
       " ('will never be', 27),\n",
       " ('yes', 27)]"
      ]
     },
     "execution_count": 10,
     "metadata": {},
     "output_type": "execute_result"
    }
   ],
   "source": [
    "Biden_trigram_freq.most_common(30)"
   ]
  },
  {
   "cell_type": "markdown",
   "metadata": {},
   "source": [
    "These frequency lists are incredibly interesting. Biden's unigram list includes I, Bernie, and Trump which show when people are talking about Biden, it includes references to themselves and their personal opinions. Also different politicians are very common when talking about Biden as during this time was becoming more viable as a candidate and being compared to his biggest democratic primary competition and potential future competition. Some of the bigrams I found were 'vote for' and 'going to' which show people are tweeting out there support and either say what they think they or the candidate will do. The trigams that stood out to me were 'the democratic party' and the heavy feature of 'don't' in trigrams. Joe Biden is aligned with the democratic party, which people are both positive and negative about so it makes sense that it is a common things to tweet about. 'don t' is interesting because it is 'i don t', ' you don t', 'i don't think', and 'don t think' so it seems to be common to talk about Biden in a negative sense."
   ]
  },
  {
   "cell_type": "code",
   "execution_count": 11,
   "metadata": {},
   "outputs": [],
   "source": [
    "Klob_freq = Counter()\n",
    "Klob_bigram_freq= Counter()\n",
    "Klob_trigram_freq= Counter()\n",
    "\n",
    "for tweet in Klob_tweets_nrt:  \n",
    "    toks = tt.tokenize(tweet['text'])\n",
    "    toks_np = [t for t in toks if t not in string.punctuation + '’']\n",
    "    Klob_freq.update(toks_np)\n",
    "    Klob_bigrams = get_ngram_tokens(toks_np, n=2)\n",
    "    Klob_bigram_freq.update(Klob_bigrams)\n",
    "    Klob_trigrams = get_ngram_tokens(toks_np, n=3)\n",
    "    Klob_trigram_freq.update(Klob_trigrams)"
   ]
  },
  {
   "cell_type": "code",
   "execution_count": 12,
   "metadata": {},
   "outputs": [
    {
     "data": {
      "text/plain": [
       "[('the', 7123),\n",
       " ('to', 5428),\n",
       " ('and', 4755),\n",
       " ('klobuchar', 4417),\n",
       " ('a', 3992),\n",
       " ('i', 3487),\n",
       " ('is', 3226),\n",
       " ('of', 3113),\n",
       " ('in', 3086),\n",
       " ('you', 2898),\n",
       " ('for', 2758),\n",
       " ('that', 2038),\n",
       " ('it', 1848),\n",
       " ('biden', 1783),\n",
       " ('not', 1577),\n",
       " ('warren', 1571),\n",
       " ('@amyklobuchar', 1557),\n",
       " ('be', 1556),\n",
       " ('s', 1422),\n",
       " ('but', 1403),\n",
       " ('amy', 1378),\n",
       " ('are', 1313),\n",
       " ('this', 1256),\n",
       " ('she', 1255),\n",
       " ('on', 1244),\n",
       " ('he', 1190),\n",
       " ('bernie', 1186),\n",
       " ('buttigieg', 1184),\n",
       " ('have', 1166),\n",
       " ('out', 1163)]"
      ]
     },
     "execution_count": 12,
     "metadata": {},
     "output_type": "execute_result"
    }
   ],
   "source": [
    "Klob_freq.most_common(30)"
   ]
  },
  {
   "cell_type": "code",
   "execution_count": 13,
   "metadata": {},
   "outputs": [
    {
     "data": {
      "text/plain": [
       "[('amy klobuchar', 879),\n",
       " ('in the', 632),\n",
       " ('of the', 609),\n",
       " ('and klobuchar', 432),\n",
       " ('to be', 409),\n",
       " ('klobuchar and', 376),\n",
       " ('drop out', 369),\n",
       " ('vote for', 353),\n",
       " ('is a', 322),\n",
       " ('it s', 318),\n",
       " ('i think', 300),\n",
       " ('for the', 292),\n",
       " ('don t', 291),\n",
       " ('need to', 259),\n",
       " ('i m', 257),\n",
       " ('this is', 245),\n",
       " ('is the', 241),\n",
       " ('would be', 241),\n",
       " ('going to', 228),\n",
       " ('to the', 222),\n",
       " ('on the', 219),\n",
       " ('klobuchar is', 216),\n",
       " ('to win', 205),\n",
       " ('to get', 203),\n",
       " ('buttigieg and', 202),\n",
       " ('out of', 197),\n",
       " ('you are', 188),\n",
       " ('if you', 184),\n",
       " ('warren and', 183),\n",
       " ('but i', 176)]"
      ]
     },
     "execution_count": 13,
     "metadata": {},
     "output_type": "execute_result"
    }
   ],
   "source": [
    "Klob_bigram_freq.most_common(30)"
   ]
  },
  {
   "cell_type": "code",
   "execution_count": 14,
   "metadata": {},
   "outputs": [
    {
     "data": {
      "text/plain": [
       "[('buttigieg and klobuchar', 159),\n",
       " ('to drop out', 148),\n",
       " ('warren and klobuchar', 105),\n",
       " ('klobuchar', 97),\n",
       " ('i don t', 92),\n",
       " ('klobuchar and buttigieg', 87),\n",
       " ('out of the', 84),\n",
       " ('to vote for', 81),\n",
       " ('should not be', 81),\n",
       " ('official language of', 78),\n",
       " ('a lot of', 75),\n",
       " ('english should not', 74),\n",
       " ('says english should', 70),\n",
       " ('klobuchar says english', 66),\n",
       " ('amy klobuchar says', 65),\n",
       " ('in the race', 61),\n",
       " ('amy klobuchar is', 61),\n",
       " ('be official language', 58),\n",
       " ('of the race', 56),\n",
       " ('of u s', 56),\n",
       " ('language of u', 55),\n",
       " ('not be official', 53),\n",
       " ('one of the', 52),\n",
       " ('and amy klobuchar', 52),\n",
       " ('going to be', 51),\n",
       " ('the white house', 50),\n",
       " ('we need to', 49),\n",
       " ('would be a', 47),\n",
       " ('flip-flop amy klobuchar', 47),\n",
       " ('klobuchar and warren', 46)]"
      ]
     },
     "execution_count": 14,
     "metadata": {},
     "output_type": "execute_result"
    }
   ],
   "source": [
    "Klob_trigram_freq.most_common(30)"
   ]
  },
  {
   "cell_type": "markdown",
   "metadata": {},
   "source": [
    "In Klobuchar's unigrams biden, bernie, warren, and buttigieg are mentioned which makes it evident that Klobuchar is often being compared to the other politicians in the Democratic primary. This is furthered in the bigrams with 'buttigieg and' and 'warren and'. The bigram 'drop out' is also super common as people are reporting that during this time Klobuchar cropped out of the race. There are lots of trigrams have to with Klobuchar saying that English should not be the official language of the US which was a controversial piece of news that happened in this time. The trigrams include 'official language of', 'a lot of', 'english should not', 'says english should', and 'klobuchar says english'. These show how much one news story can dominate tweets. 'flip-flop amy klobuchar' is also an interesting trigram as it shows a common criticism or Klobuchar."
   ]
  },
  {
   "cell_type": "code",
   "execution_count": 15,
   "metadata": {},
   "outputs": [],
   "source": [
    "Sanders_freq= Counter()\n",
    "Sanders_bigram_freq= Counter()\n",
    "Sanders_trigram_freq= Counter()\n",
    "\n",
    "for tweet in Sanders_tweets_nrt:\n",
    "    toks = tt.tokenize(tweet['text'])\n",
    "    toks_np = [t for t in toks if t not in string.punctuation + '’']\n",
    "    Sanders_freq.update(toks_np)\n",
    "    Sanders_bigrams = get_ngram_tokens(toks_np, n=2)\n",
    "    Sanders_bigram_freq.update(Sanders_bigrams)\n",
    "    Sanders_trigrams = get_ngram_tokens(toks_np, n=3)\n",
    "    Sanders_trigram_freq.update(Sanders_trigrams)"
   ]
  },
  {
   "cell_type": "code",
   "execution_count": 16,
   "metadata": {},
   "outputs": [
    {
     "data": {
      "text/plain": [
       "[('the', 7118),\n",
       " ('to', 5135),\n",
       " ('bernie', 4101),\n",
       " ('a', 3844),\n",
       " ('and', 3577),\n",
       " ('is', 3385),\n",
       " ('you', 3308),\n",
       " ('i', 3055),\n",
       " ('of', 2894),\n",
       " ('for', 2670),\n",
       " ('in', 2458),\n",
       " ('that', 2339),\n",
       " ('it', 1924),\n",
       " ('he', 1623),\n",
       " ('are', 1585),\n",
       " ('not', 1533),\n",
       " ('this', 1338),\n",
       " ('be', 1231),\n",
       " ('s', 1199),\n",
       " ('have', 1166),\n",
       " ('but', 1123),\n",
       " ('on', 1101),\n",
       " ('will', 1098),\n",
       " ('t', 1069),\n",
       " ('we', 1067),\n",
       " ('they', 1062),\n",
       " ('if', 1051),\n",
       " ('trump', 1020),\n",
       " ('with', 997),\n",
       " ('people', 887)]"
      ]
     },
     "execution_count": 16,
     "metadata": {},
     "output_type": "execute_result"
    }
   ],
   "source": [
    "Sanders_freq.most_common(30)"
   ]
  },
  {
   "cell_type": "code",
   "execution_count": 17,
   "metadata": {},
   "outputs": [
    {
     "data": {
      "text/plain": [
       "[('in the', 549),\n",
       " ('of the', 487),\n",
       " ('bernie sanders', 382),\n",
       " ('bernie is', 374),\n",
       " ('vote for', 368),\n",
       " ('is a', 355),\n",
       " ('don t', 322),\n",
       " ('is the', 317),\n",
       " ('it s', 316),\n",
       " ('to be', 316),\n",
       " ('for bernie', 307),\n",
       " ('for the', 281),\n",
       " ('going to', 272),\n",
       " ('i m', 265),\n",
       " ('this is', 243),\n",
       " ('if you', 239),\n",
       " ('to the', 228),\n",
       " ('on the', 225),\n",
       " ('you are', 218),\n",
       " ('that s', 187),\n",
       " ('i think', 180),\n",
       " ('will be', 177),\n",
       " ('the same', 175),\n",
       " ('have to', 170),\n",
       " ('he s', 170),\n",
       " ('he is', 168),\n",
       " ('want to', 165),\n",
       " ('need to', 162),\n",
       " ('is not', 161),\n",
       " ('to vote', 160)]"
      ]
     },
     "execution_count": 17,
     "metadata": {},
     "output_type": "execute_result"
    }
   ],
   "source": [
    "Sanders_bigram_freq.most_common(30)"
   ]
  },
  {
   "cell_type": "code",
   "execution_count": 18,
   "metadata": {},
   "outputs": [
    {
     "data": {
      "text/plain": [
       "[('vote for bernie', 107),\n",
       " ('i don t', 98),\n",
       " ('to vote for', 92),\n",
       " ('a lot of', 81),\n",
       " ('bernie is the', 65),\n",
       " ('bernie is a', 65),\n",
       " ('i m not', 62),\n",
       " ('is going to', 52),\n",
       " ('bernie sanders is', 49),\n",
       " ('you don t', 46),\n",
       " ('vote for him', 45),\n",
       " ('you want to', 42),\n",
       " ('we need to', 41),\n",
       " ('medicare for all', 40),\n",
       " ('the democratic party', 39),\n",
       " ('thank you for', 39),\n",
       " ('it s not', 38),\n",
       " ('this is a', 38),\n",
       " ('bernie', 38),\n",
       " ('is the only', 37),\n",
       " ('is the nominee', 36),\n",
       " ('be able to', 35),\n",
       " ('is not a', 34),\n",
       " ('@berniesanders', 34),\n",
       " ('are going to', 34),\n",
       " ('do you think', 31),\n",
       " ('one of the', 31),\n",
       " ('the fact that', 31),\n",
       " ('he is a', 30),\n",
       " ('will vote for', 30)]"
      ]
     },
     "execution_count": 18,
     "metadata": {},
     "output_type": "execute_result"
    }
   ],
   "source": [
    "Sanders_trigram_freq.most_common(30)"
   ]
  },
  {
   "cell_type": "markdown",
   "metadata": {},
   "source": [
    "In the Sanders unigrams the only politician that is mentioned is 'trump' as Sanders was seen as a front runner during this time and potentially Trump's biggest competition. 'People' is also common which is evident of Bernie's message of  being for the  common American. The bigram 'the same' is shows that people are drawing similarities between Bernie and probably other politicians. Trigrams 'medicare for all' and 'is the nominee' show what tweets about bernie talk about his policies and his future in the race."
   ]
  },
  {
   "cell_type": "code",
   "execution_count": 19,
   "metadata": {},
   "outputs": [],
   "source": [
    "Warren_freq = Counter()\n",
    "Warren_bigram_freq= Counter()\n",
    "Warren_trigram_freq= Counter()\n",
    "\n",
    "for tweet in Warren_tweets_nrt:\n",
    "    toks = tt.tokenize(tweet['text'])\n",
    "    toks_np = [t for t in toks if t not in string.punctuation + '’']\n",
    "    Warren_freq.update(toks_np)\n",
    "    Warren_bigrams = get_ngram_tokens(toks_np, n=2)\n",
    "    Warren_bigram_freq.update(Warren_bigrams)\n",
    "    Warren_trigrams = get_ngram_tokens(toks_np, n=3)\n",
    "    Warren_trigram_freq.update(Warren_trigrams)"
   ]
  },
  {
   "cell_type": "code",
   "execution_count": 20,
   "metadata": {},
   "outputs": [
    {
     "data": {
      "text/plain": [
       "[('the', 7073),\n",
       " ('to', 5635),\n",
       " ('warren', 5126),\n",
       " ('and', 4531),\n",
       " ('a', 4445),\n",
       " ('i', 4385),\n",
       " ('is', 3593),\n",
       " ('for', 3068),\n",
       " ('of', 3022),\n",
       " ('in', 2886),\n",
       " ('you', 2778),\n",
       " ('that', 2302),\n",
       " ('it', 1921),\n",
       " ('bernie', 1729),\n",
       " ('she', 1724),\n",
       " ('not', 1543),\n",
       " ('but', 1491),\n",
       " ('her', 1455),\n",
       " ('s', 1393),\n",
       " ('this', 1371),\n",
       " ('on', 1343),\n",
       " ('be', 1333),\n",
       " ('are', 1307),\n",
       " ('@ewarren', 1266),\n",
       " ('with', 1224),\n",
       " ('have', 1216),\n",
       " ('if', 1129),\n",
       " ('he', 1100),\n",
       " ('as', 1069),\n",
       " ('t', 1003)]"
      ]
     },
     "execution_count": 20,
     "metadata": {},
     "output_type": "execute_result"
    }
   ],
   "source": [
    "Warren_freq.most_common(30)"
   ]
  },
  {
   "cell_type": "code",
   "execution_count": 21,
   "metadata": {},
   "outputs": [
    {
     "data": {
      "text/plain": [
       "[('in the', 667),\n",
       " ('elizabeth warren', 616),\n",
       " ('of the', 496),\n",
       " ('warren is', 422),\n",
       " ('i m', 367),\n",
       " ('is a', 357),\n",
       " ('vote for', 357),\n",
       " ('to be', 341),\n",
       " ('is the', 315),\n",
       " ('don t', 312),\n",
       " ('this is', 303),\n",
       " ('it s', 298),\n",
       " ('i think', 272),\n",
       " ('for the', 266),\n",
       " ('warren and', 263),\n",
       " ('on the', 256),\n",
       " ('for warren', 242),\n",
       " ('to the', 239),\n",
       " ('going to', 236),\n",
       " ('but i', 233),\n",
       " ('would be', 223),\n",
       " ('and warren', 217),\n",
       " ('and i', 210),\n",
       " ('she s', 201),\n",
       " ('i am', 197),\n",
       " ('drop out', 190),\n",
       " ('she is', 184),\n",
       " ('that s', 179),\n",
       " ('you are', 175),\n",
       " ('need to', 173)]"
      ]
     },
     "execution_count": 21,
     "metadata": {},
     "output_type": "execute_result"
    }
   ],
   "source": [
    "Warren_bigram_freq.most_common(30)"
   ]
  },
  {
   "cell_type": "code",
   "execution_count": 22,
   "metadata": {},
   "outputs": [
    {
     "data": {
      "text/plain": [
       "[('i don t', 121),\n",
       " ('to vote for', 93),\n",
       " ('a lot of', 81),\n",
       " ('in the race', 78),\n",
       " ('warren', 69),\n",
       " ('elizabeth warren is', 67),\n",
       " ('to drop out', 58),\n",
       " ('i voted for', 57),\n",
       " ('a warren supporter', 56),\n",
       " ('warren is the', 53),\n",
       " ('out of the', 52),\n",
       " ('for elizabeth warren', 50),\n",
       " ('is going to', 49),\n",
       " ('i like warren', 48),\n",
       " ('warren is a', 48),\n",
       " ('one of the', 46),\n",
       " ('at this point', 44),\n",
       " ('vote for warren', 43),\n",
       " ('i m not', 42),\n",
       " ('we need to', 41),\n",
       " ('vote for her', 40),\n",
       " ('this is a', 39),\n",
       " ('this is the', 39),\n",
       " ('thank you for', 39),\n",
       " ('warren and sanders', 37),\n",
       " ('in the primary', 37),\n",
       " ('it would be', 36),\n",
       " ('will vote for', 36),\n",
       " ('to be a', 35),\n",
       " ('don t think', 35)]"
      ]
     },
     "execution_count": 22,
     "metadata": {},
     "output_type": "execute_result"
    }
   ],
   "source": [
    "Warren_trigram_freq.most_common(30)"
   ]
  },
  {
   "cell_type": "markdown",
   "metadata": {},
   "source": [
    "The politician mentioned in Warren's unigrams 'bernie' which makes sense as she is often compared to the other progressive in the race which is Bernie Sanders. Two bigrams that are of particular interest are 'need to' and 'drop out'. 'need to' is  interesting because it shows what tweeter believes is necessary to know about Warren. At the end of the time period Warren dropped out of the race. The trigram 'out of the' shows how warren is being compared to field a lot and 'at this point' probably refers to what twitter believes that Warren should do 'in the race', which is also a popular trigram."
   ]
  },
  {
   "cell_type": "markdown",
   "metadata": {},
   "source": [
    "#### Thoughts on the frequency lists overall\n",
    "Based on the frequency lists, interestingly the women list's have much more frequent mentions of the other candidates, making it seem like the female candidates are being compared more to their competitors than the male candidates. I is also common for all the candidates showing that people are putting out their own personal opinions of the candidates. The male candidates also have Trump in their most common unigrams, showing that people may see male candidates as more formidable opponents to trump and their for comparing them more, or people showing their support for Trump instead of the male candidates. People also seem to be predicting the future for the campaigns which was totally up int he air at this point as the bigram 'going to' is common for all the mentions of the candidates. With twitter people also express who they support as the bigram 'vote for' and the trigram 'to vote for' are common for slal the candidates."
   ]
  },
  {
   "cell_type": "markdown",
   "metadata": {},
   "source": [
    "#### Calculating keyness\n",
    "I am using the calculate keyness function to be able to compare the words of the corpus of the tweets about one candidate to the rest of the twets about the other candidates."
   ]
  },
  {
   "cell_type": "code",
   "execution_count": 23,
   "metadata": {},
   "outputs": [
    {
     "name": "stdout",
     "output_type": "stream",
     "text": [
      "WORD                     Corpus A Freq.Corpus B Freq.Keyness\n",
      "============================================================\n",
      "biden                    2574      3227      1338.018\n",
      "@joebiden                995       659       1071.364\n",
      "joe                      888       594       948.398\n",
      "obama                    269       255       204.332\n",
      "hunter                   80        5         202.323\n",
      "he                       1713      3913      183.319\n",
      "his                      868       1891      113.785\n",
      "biden's                  110       84        104.605\n",
      "#biden2020               58        19        96.098\n",
      "ad                       88        72        78.298\n",
      "ukraine                  48        19        72.516\n",
      "you                      3118      8984      66.134\n",
      "son                      69        53        65.258\n",
      "south                    132       174       63.187\n",
      "gun                      56        35        63.144\n",
      "#biden                   68        68        48.467\n",
      "guns                     42        26        47.709\n",
      "war                      69        75        44.190\n",
      "@barackobama             56        54        41.697\n",
      "carolina                 103       150       41.150\n",
      "him                      588       1462      40.638\n",
      "cages                    30        15        39.580\n",
      "children                 59        64        37.889\n",
      "your                     845       2266      35.047\n",
      "mr                       45        44        32.959\n",
      "vice                     43        41        32.443\n",
      "creepy                   26        15        31.126\n",
      "dementia                 32        24        30.942\n"
     ]
    }
   ],
   "source": [
    "calculate_keyness(Biden_freq, Klob_freq + Sanders_freq + Warren_freq)"
   ]
  },
  {
   "cell_type": "markdown",
   "metadata": {},
   "source": [
    "Two of the categories of words that stand out that are unique to Biden for me are words related to Biden's current and past policy positions and personal issues with Biden. Words to do with Biden's policy positions are gun, guns, war, children, and cages, which he clearly puts more focus on than other democrats in the race. As well as things about Biden's personality and his family are hunter and ukraine, which have to do with cristism of Biden's son's dealing in Ukraine. Issues with Biden's personality which are creepy and dementia are some of the most common criticisms about the politician. 'south' and 'carolina' is important to Biden a this time in the race because that is where he stood out against other moderate candidates."
   ]
  },
  {
   "cell_type": "code",
   "execution_count": 24,
   "metadata": {},
   "outputs": [
    {
     "name": "stdout",
     "output_type": "stream",
     "text": [
      "WORD                     Corpus A Freq.Corpus B Freq.Keyness\n",
      "============================================================\n",
      "klobuchar                4417      381       9127.046\n",
      "@amyklobuchar            1557      248       2782.359\n",
      "amy                      1378      208       2501.373\n",
      "buttigieg                1184      425       1505.740\n",
      "steyer                   568       200       730.296\n",
      "bloomberg                871       867       414.851\n",
      "@petebuttigieg           497       329       396.287\n",
      "language                 191       20        379.684\n",
      "english                  170       12        363.571\n",
      "minnesota                140       13        285.254\n",
      "drop                     412       333       262.860\n",
      "gabbard                  208       83        248.238\n",
      "#klobuchar               117       9         246.720\n",
      "harris                   292       192       234.402\n",
      "pete                     569       693       187.578\n",
      "@tomsteyer               181       102       167.596\n",
      "official                 112       35        153.529\n",
      "mn                       93        22        144.756\n",
      "mexico                   59        6         118.016\n",
      "@betoorourke             65        10        117.345\n",
      "@mikebloomberg           223       210       115.647\n",
      "candidates               368       473       107.833\n",
      "@kamalaharris            94        43        102.415\n",
      "she                      1255      2387      96.132\n",
      "out                      1163      2184      95.204\n",
      "7                        107       66        91.368\n",
      "moderate                 169       156       90.244\n",
      "sen                      100       59        88.941\n",
      "states                   266       340       78.936\n",
      "booker                   83        47        76.535\n",
      "tom                      79        43        75.326\n",
      "or                       1063      2051      75.324\n",
      "abrams                   77        44        70.446\n",
      "#amyklobuchar            42        9         67.952\n",
      "national                 91        65        67.017\n",
      "dropped                  92        67        66.328\n",
      "@breitbartnews           43        11        64.767\n",
      "0                        88        63        64.648\n",
      "9                        71        41        64.363\n",
      "women                    225       294       63.469\n",
      "tuesday                  202       254       62.176\n",
      "mexican                  34        6         58.859\n",
      "5                        137       147       57.575\n",
      "nh                       94        80        56.146\n",
      "@marklevinshow           32        6         54.299\n",
      "ticket                   163       199       53.464\n",
      "13                       56        33        49.861\n",
      "should                   553       1029      47.411\n",
      "nevada                   163       211       46.992\n",
      "beto                     56        36        45.966\n",
      "@senategop               35        12        45.674\n",
      "state                    266       420       44.321\n",
      "6                        92        91        44.260\n",
      "kamala                   98        101       44.115\n",
      "5th                      35        13        43.635\n",
      "she's                    187       264       43.470\n",
      "name                     125       149       43.080\n",
      "reporting                53        35        42.362\n",
      "#buttigieg               35        14        41.708\n",
      "8                        88        89        40.858\n",
      "interview                49        31        40.848\n",
      "senator                  122       149       39.985\n",
      "final                    54        39        39.291\n",
      "#teampete                24        5         39.238\n",
      "biden                    1783      4018      38.724\n",
      "1                        228       358       38.694\n",
      "splitting                34        15        37.990\n",
      "#nvcaucus                53        40        36.701\n",
      "woman                    172       251       36.497\n",
      "buttigeig                25        7         36.156\n",
      "debate                   206       321       35.839\n",
      "race                     223       358       35.130\n",
      "precincts                35        18        34.939\n",
      "and                      4755      11582     34.194\n",
      "ag                       47        34        34.137\n",
      "14                       54        44        34.107\n",
      "@foxnews                 37        21        34.050\n",
      "gillibrand               21        5         32.601\n",
      "votes                    244       411       32.285\n",
      "tulsi                    107       136       32.157\n",
      "⁩                        27        11        31.802\n",
      "nv                       60        56        31.528\n",
      "11                       49        40        30.877\n"
     ]
    }
   ],
   "source": [
    "calculate_keyness(Klob_freq, Biden_freq + Sanders_freq + Warren_freq)"
   ]
  },
  {
   "cell_type": "markdown",
   "metadata": {},
   "source": [
    "A lot of the words most frequent for Klobuchar are about other politicians and in comparison to the other candidates buttigieg, steyer, bloomberg, gabbard, harris, ambramsn booker, beto, and gillibrand. These are being used much more for klobuchar than the other politicians in the list which tells me that klouchar is being seen in the perspective of how she is in relation to others some of which are out of the race or were never even in the race."
   ]
  },
  {
   "cell_type": "code",
   "execution_count": 25,
   "metadata": {},
   "outputs": [
    {
     "name": "stdout",
     "output_type": "stream",
     "text": [
      "WORD                     Corpus A Freq.Corpus B Freq.Keyness\n",
      "============================================================\n",
      "bernie                   4101      4027      2736.412\n",
      "@berniesanders           832       874       507.758\n",
      "socialism                170       110       174.590\n",
      "communist                118       74        124.359\n",
      "bernie's                 166       166       108.200\n",
      "socialist                177       186       107.969\n",
      "free                     192       214       107.703\n",
      "healthcare               156       165       94.310\n",
      "you                      3308      8794      88.911\n",
      "people                   887       1944      87.136\n",
      "#bernie2020              111       97        85.153\n",
      "he                       1623      4003      81.016\n",
      "are                      1585      3924      77.052\n",
      "#bernie                  87        75        67.762\n",
      "#notmeus                 87        79        63.870\n",
      "the                      7118      20589     63.845\n",
      "bros                     85        79        60.706\n",
      "bro                      80        71        60.305\n",
      "pay                      142       191       58.285\n",
      "establishment            173       257       58.121\n",
      "communism                58        40        56.377\n",
      "they                     1062      2636      50.685\n",
      "his                      814       1945      50.076\n",
      "supporters               389       804       49.430\n",
      "capitalism               45        27        49.127\n",
      "that                     2339      6430      43.730\n",
      "everyone                 198       353       41.953\n",
      "wage                     37        22        40.679\n",
      "venezuela                33        17        40.274\n",
      "dnc                      125       191       39.454\n",
      "economy                  66        71        38.966\n",
      "trump                    1020      2616      37.856\n",
      "income                   53        52        35.402\n",
      "cuba                     30        17        34.210\n",
      "billionaires             78        104       32.543\n",
      "we                       1067      2802      32.225\n",
      "college                  85        122       30.710\n",
      "planet                   47        47        30.635\n",
      "countries                48        49        30.450\n"
     ]
    }
   ],
   "source": [
    "calculate_keyness(Sanders_freq, Klob_freq + Biden_freq + Warren_freq)"
   ]
  },
  {
   "cell_type": "markdown",
   "metadata": {},
   "source": [
    "Bernie has a lot of policy and ideology words that are used more for him than others. Including socialism, free, communist, healthcare, establishment, college, capitalism, economy, wage, billionaires, income, #notmeus, venezuela, and cuba. This shows that when people are talking about Bernie they are seeing his policies that are specific to him and talking about certain things that may be universal to democrats like the economy and healthcare more for him than others."
   ]
  },
  {
   "cell_type": "code",
   "execution_count": 26,
   "metadata": {},
   "outputs": [
    {
     "name": "stdout",
     "output_type": "stream",
     "text": [
      "WORD                     Corpus A Freq.Corpus B Freq.Keyness\n",
      "============================================================\n",
      "warren                   5126      2161      6024.477\n",
      "@ewarren                 1266      659       1279.937\n",
      "elizabeth                697       203       1006.535\n",
      "her                      1455      1463      707.178\n",
      "she                      1724      1918      707.000\n",
      "#warren2020              125       21        223.015\n",
      "warren's                 143       39        212.883\n",
      "i                        4385      9348      185.745\n",
      "progressive              300       264       176.922\n",
      "native                   65        10        119.033\n",
      "liz                      128       79        111.964\n",
      "@senwarren               124       85        97.959\n",
      "pac                      90        66        66.197\n",
      "progressives             81        60        58.921\n",
      "plan                     163       202       54.231\n",
      "plans                    120       129       52.264\n",
      "#warren                  72        54        51.654\n",
      "she's                    191       260       51.418\n",
      "pacs                     41        18        46.912\n",
      "woman                    177       246       45.263\n",
      "allies                   37        18        39.382\n",
      "pocahontas               25        7         36.774\n",
      "canvassing               42        26        36.636\n",
      "fight                    125       166       35.692\n",
      "massachusetts            57        49        34.671\n",
      "love                     250       434       31.833\n",
      "sanders                  899       1971      30.481\n",
      "policy                   102       133       30.377\n"
     ]
    }
   ],
   "source": [
    "calculate_keyness(Warren_freq, Klob_freq + Sanders_freq + Biden_freq)"
   ]
  },
  {
   "cell_type": "markdown",
   "metadata": {},
   "source": [
    "Warren had words that she has tried to associate with herself like progressive, woman, fight, plan, and policy. These are all words that she sued during the campaign as positive about her as two of her slogans were, \"dream big, fight hard\" and \"she has a plan for that.\" There are also words that have been put on her negatively like native and pocahontas which was the result of others commenting on her claimed heritage."
   ]
  },
  {
   "cell_type": "markdown",
   "metadata": {},
   "source": [
    "#### Thoughts on concordance analysis\n",
    "The words found from the concordance analysis are incredibly interesting and show a lot about what made each of the candidates distinct to voters on twitter and shows the messages of the candidates at work. It is easy to show from the keyness what people most associate with specific candidates on twitter."
   ]
  },
  {
   "cell_type": "markdown",
   "metadata": {},
   "source": [
    "#### KWIC (Key Word in Context) analysis\n",
    "I want to see how certain key words are used for the different politicians. These words are found from the frequency lists and usually words are found in more that one list for different politicians."
   ]
  },
  {
   "cell_type": "code",
   "execution_count": 27,
   "metadata": {},
   "outputs": [],
   "source": [
    "Biden_kwic_I = []\n",
    "\n",
    "for tweet in Biden_tweets_nrt:\n",
    "    tokens = tt.tokenize(tweet['text'])\n",
    "    Biden_kwic_I.extend(make_kwic('i', tokens))"
   ]
  },
  {
   "cell_type": "code",
   "execution_count": 28,
   "metadata": {},
   "outputs": [],
   "source": [
    "Biden_I_sample = random.sample(Biden_kwic_I, 50)"
   ]
  },
  {
   "cell_type": "code",
   "execution_count": 29,
   "metadata": {
    "scrolled": true
   },
   "outputs": [
    {
     "name": "stdout",
     "output_type": "stream",
     "text": [
      "                         it , probably .  i  ' not sure \n",
      "                            we ( you and  i  ) don't need them\n",
      "                             \" so what \"  i  am certain that is\n",
      "                                          i  am prepared to make\n",
      "                             fun . btw ,  i  am for biden or\n",
      "               govt running healthcare .  i  believe that you are\n",
      "                       voices be heard .  i  called my senators multiple\n",
      "                        be this dense so  i  can only assume this\n",
      "                                          i  can afford . no\n",
      "                                          i  can ’ t stop\n",
      "                                          i  can think of is\n",
      "                                          i  do think a lot\n",
      "                   politician here too .  i  don ’ t need\n",
      "                    bernie doesn't - and  i  don't think those folks\n",
      "                                          i  don't see how that\n",
      "                 biden would approve but  i  dont like revisionist history\n",
      "                         do care alot as  i  fight for gvp daily\n",
      "                                          i  fully expect they would\n",
      "                     before the debate .  i  had to unfollow him\n",
      "                             on oil . if  i  had to guess i\n",
      "                                          i  had to block about\n",
      "                            have a dog .  i  have cats . and\n",
      "                                          i  have been harassed by\n",
      "                   d ’ en @berniesanders  i  ja em sento un\n",
      "                                          i  just want to bernie\n",
      "                           yes to both .  i  just don ’ t\n",
      "                                          i  just use toy light\n",
      "                          way , warren .  i  like to think of\n",
      "                                          i  love you . our\n",
      "                                          i  mean i like it\n",
      "               a pedophile with dementia  i  mean common now \n",
      "                      security as well !  i  meant medicare & medicaid\n",
      "                                          i  only regard “ alternative\n",
      "                                          i  really hope that @joebiden\n",
      "                                          i  recognize every one of\n",
      "                                          i  remember looking at a\n",
      "                  everyone being heard .  i  still had to laugh\n",
      "                                          i  think it ’ s\n",
      "                                          i  think biden will win\n",
      "                   hope you're right but  i  urge you to think\n",
      "                                          i  voted for whoever i\n",
      "                         t promote it if  i  was you . \n",
      "                 bernie supporter dude .  i  was responding to stacy\n",
      "                           joe as his vp  i  was all in for\n",
      "                                          i  ’ ll vote for\n",
      "                        in the streets .  i  ’ m not just\n",
      "                     programs too fast .  i  ’ d argue a\n",
      "                                          i  ’ m actually crying\n",
      "                                          i  ’ d rather have\n",
      "                                          i  ’ ve been living\n"
     ]
    }
   ],
   "source": [
    "print_kwic(sort_kwic(Biden_I_sample, order=['R1']))"
   ]
  },
  {
   "cell_type": "code",
   "execution_count": 30,
   "metadata": {},
   "outputs": [],
   "source": [
    "Klob_kwic_I = []\n",
    "\n",
    "for tweet in Klob_tweets_nrt:\n",
    "    tokens = tt.tokenize(tweet['text'])\n",
    "    Klob_kwic_I.extend(make_kwic('i', tokens))"
   ]
  },
  {
   "cell_type": "code",
   "execution_count": 31,
   "metadata": {},
   "outputs": [],
   "source": [
    "Klob_I_sample = random.sample(Klob_kwic_I, 50)"
   ]
  },
  {
   "cell_type": "code",
   "execution_count": 32,
   "metadata": {
    "scrolled": true
   },
   "outputs": [
    {
     "name": "stdout",
     "output_type": "stream",
     "text": [
      "                                          i  am a born-again christian\n",
      "                                          i  am just a messenger\n",
      "                                          i  assume this is sarcasm\n",
      "he did . https://www.politifact.com/factchecks/2017/feb/07/reince-priebus/were-7-nations-identified-donald-trumps-travel-ban/  i  can site my sources\n",
      "                 wins without cheating .  i  could never vote for\n",
      "                                          i  don ’ t know\n",
      "                         america . and ,  i  don ’ t want\n",
      "                                          i  don ’ t see\n",
      "                       on the ticket and  i  don't think that combo\n",
      "                                          i  dont think i've ever\n",
      "                                          i  encourage you to have\n",
      "                            oh man , can  i  ever ! ! \n",
      "                                          i  fear bernie alienates needed\n",
      "                    candidate than amy .  i  feel amy should ’\n",
      "                   and its weird because  i  found each of them\n",
      "             only strengthen the opinion  i  had before the primary\n",
      "                                          i  had heard of before\n",
      "                        and even pete if  i  had to . but\n",
      "                         voted for her .  i  have never openly supported\n",
      "                        been for years ,  i  have always known she\n",
      "                                          i  have some plastic forks\n",
      "                         name ? please ,  i  have been done with\n",
      "                 & klobuchar are getting  i  kinda wish kh was\n",
      "                      my original pick .  i  like bloomberg , warren\n",
      "                                          i  like susan rice .\n",
      "                 choices before sunday .  i  liked warren best but\n",
      "                        of you here that  i  listed below , none\n",
      "                            that ’ s why  i  love @amyklobuchar , has\n",
      "                                          i  loved the debate-amy came\n",
      "                                          i  prefer warren , biden\n",
      "                       pain for janice .  i  remember it well .\n",
      "                                          i  said this was likely\n",
      "                                          i  saw three young lads\n",
      "                         but joe might .  i  say this as a\n",
      "                                          i  see that bloomberg's check\n",
      "                                          i  should have tagged @amyklobuchar\n",
      "                    it empirically but ,  i  think the iowa corruption\n",
      "                 for @amyklobuchar , but  i  think biden ’ s\n",
      "                                          i  think trump would be\n",
      "                                          i  think most voters right\n",
      "                                          i  think bernie sanders is\n",
      "                    sorry but never will  i  vote for bernie .\n",
      "                         enough for me .  i  will keep fighting for\n",
      "                     is the dumbest take  i  will see all month\n",
      "                 likely be complicated .  i  ’ d like him\n",
      "                           , of course .  i  ’ m just searching\n",
      "                       , stop telling me  i  ’ m unwilling to\n",
      "                     : @amyklobuchar : “  i  ’ m so #middleamerica\n",
      "                          on last week .  i  ’ m more unsure\n",
      "                                          i  ’ m not sure\n"
     ]
    }
   ],
   "source": [
    "print_kwic(sort_kwic(Klob_I_sample, order=['R1']))"
   ]
  },
  {
   "cell_type": "code",
   "execution_count": 33,
   "metadata": {},
   "outputs": [],
   "source": [
    "Sanders_kwic_I = []\n",
    "\n",
    "for tweet in Sanders_tweets_nrt:\n",
    "    tokens = tt.tokenize(tweet['text'])\n",
    "    Sanders_kwic_I.extend(make_kwic('i', tokens))"
   ]
  },
  {
   "cell_type": "code",
   "execution_count": 34,
   "metadata": {},
   "outputs": [],
   "source": [
    "Sanders_I_sample = random.sample(Sanders_kwic_I, 50)"
   ]
  },
  {
   "cell_type": "code",
   "execution_count": 35,
   "metadata": {},
   "outputs": [
    {
     "name": "stdout",
     "output_type": "stream",
     "text": [
      "                           . toxic . and  i  agree in principle with\n",
      "                            ’ m not sure  i  believe this  \n",
      "               govt running healthcare .  i  believe that you are\n",
      "                 am very diligent before  i  choose . i want\n",
      "                                          i  do own a framed\n",
      "                      enough . however ,  i  don ’ t have\n",
      "                alot of conspiracies but  i  don ’ t see\n",
      "                          war in yemen .  i  don ’ t think\n",
      "                                          i  don't know how this\n",
      "                    bernie doesn't - and  i  don't think those folks\n",
      "                          to live . also  i  don't care for fox\n",
      "                           bit of both ,  i  dont typically hone in\n",
      "                                          i  guess putin's strategy has\n",
      "                                          i  had to block about\n",
      "                          it ’ s because  i  have a low tolerance\n",
      "                      remind us all that  i  have actually held bernie\n",
      "                     the stark reality (  i  have ) of socialism\n",
      "                        for bernie , and  i  hope that warren's campaign\n",
      "                   much dislike bernie .  i  know that ’ s\n",
      "                        bros by the time  i  leave   \n",
      "                                          i  like you bernie ,\n",
      "                       the bernie bus as  i  like to call it\n",
      "                                          i  like this kinda thing\n",
      "                                          i  love when they say\n",
      "                       will rest happy .  i  love that woman .\n",
      "                                          i  love both too but\n",
      "                                          i  love you @berniesanders you\n",
      "                       third , bernie if  i  must and pete if\n",
      "                                          i  rant because i ’\n",
      "                          i'm old af and  i  remember what they told\n",
      "                    media but every time  i  see it i think\n",
      "                          vote for him .  i  still blame bernie for\n",
      "                                          i  think it ’ s\n",
      "                                          i  think nina turner is\n",
      "                   plus , unlike hillary  i  think he loses popular\n",
      "                                          i  think she'd be a\n",
      "                        never took off .  i  think bernie should offer\n",
      "                                          i  thought that's called a\n",
      "                      , couldn't even if  i  wanted to . \n",
      "                 have more questions ...  i  went to a private\n",
      "                                          i  will vote for anybody\n",
      "                  away from deciding who  i  will vote for on\n",
      "                                          i  wish @ewarren & @berniesanders\n",
      "                          about them ? (  i  ’ m 33 with\n",
      "                                          i  ’ ll be happy\n",
      "                             ’ ve seen .  i  ’ m sure you\n",
      "                    a dictator already .  i  ’ m not voting\n",
      "                                          i  ’ ve yet to\n",
      "                                          i  ’ ve got influenza\n",
      "                              a lot of .  i  ’ m committed to\n"
     ]
    }
   ],
   "source": [
    "print_kwic(sort_kwic(Sanders_I_sample, order=['R1']))"
   ]
  },
  {
   "cell_type": "code",
   "execution_count": 36,
   "metadata": {},
   "outputs": [],
   "source": [
    "Warren_kwic_I = []\n",
    "\n",
    "for tweet in Warren_tweets_nrt:\n",
    "    tokens = tt.tokenize(tweet['text'])\n",
    "    Warren_kwic_I.extend(make_kwic('i', tokens))"
   ]
  },
  {
   "cell_type": "code",
   "execution_count": 37,
   "metadata": {},
   "outputs": [],
   "source": [
    "Warren_I_sample = random.sample(Warren_kwic_I, 50)"
   ]
  },
  {
   "cell_type": "code",
   "execution_count": 38,
   "metadata": {
    "scrolled": true
   },
   "outputs": [
    {
     "name": "stdout",
     "output_type": "stream",
     "text": [
      "                       , however , today  i  : • paid bills\n",
      "              initial positive comment .  i  acknowledge failures of both\n",
      "                                          i  am voting for @ewarren\n",
      "                                          i  am a @ewarren democrat\n",
      "                   see . @maggieullman &  i  are honored to support\n",
      "                                          i  believe we had so\n",
      "                                          i  cannot stop watching this\n",
      "                                          i  disagree , i was\n",
      "                      and his policies .  i  don ’ t give\n",
      "                                          i  don ’ t know\n",
      "                                          i  don't do gulags ..\n",
      "                      i'm middle aged so  i  earned that . \n",
      "                then everyone but warren  i  feel   \n",
      "                                          i  find common ground with\n",
      "                                          i  guess i missed something\n",
      "                                          i  had sarah sanderson ’\n",
      "                                          i  have no issues with\n",
      "                      and ... every time  i  hear @petebuttigieg speak i\n",
      "                                          i  just delivered this letter\n",
      "                               ? \" \" idk  i  just ... mayor pete\n",
      "                          in our state .  i  just think there are\n",
      "                                          i  know there are many\n",
      "                                          i  predict unh is secure\n",
      "                        be the nominee .  i  read that in the\n",
      "                                          i  saw . i listened\n",
      "                           or more now .  i  send her money i\n",
      "                            s not cool .  i  support bernie and i\n",
      "                                          i  suspect he wins ,\n",
      "                                          i  think everybody should quit\n",
      "                       a team player but  i  think there's a place\n",
      "                   supreme court first .  i  think that would be\n",
      "                     biden in tx because  i  thought he could win\n",
      "                         i'm sorry , but  i  was just researching it\n",
      "                            oh i agree ,  i  was responding to @t_bladel\n",
      "                    decides to concede ,  i  will support whoever the\n",
      "                         r donating . if  i  win , someone else\n",
      "                             \" daddy \" .  i  won't vote for someone\n",
      "                        people know me .  i  won't be campaigning ever\n",
      "                   the nomination . what  i  won't do is donate\n",
      "                           in this pic ,  i  would say warren has\n",
      "                                          i  would assume they ’\n",
      "                                          i  would argue that it\n",
      "                                          i  would surmise that @ewarren\n",
      "    only @tomsteyer @ewarren @andrewyang  i  ’ m not voting\n",
      "                              it ’ s why  i  ’ m for warren\n",
      "                              ’ t need .  i  ’ d like to\n",
      "                         for biden . and  i  ’ ve been a\n",
      "                and progressive causes .  i  ’ m grateful he\n",
      "                  with abstaining . like  i  ’ ve seen a\n",
      "              communication & humility .  i  ’ m more than\n"
     ]
    }
   ],
   "source": [
    "print_kwic(sort_kwic(Warren_I_sample, order=['R1']))"
   ]
  },
  {
   "cell_type": "markdown",
   "metadata": {
    "slideshow": {
     "slide_type": "slide"
    }
   },
   "source": [
    "I think that the use of the word I shows how people use twitter to give their personal opinions about the candidates including I don't, I like, I hope, I think, and I would. It is so common because people like to talk about how politics effects them. Talking about hope in terms of policies, thing they would like to see, and thinks they think about Biden, Klobuchar, Warren, and Sanders. Some of them are very positive like I just voted for a candidate or i just caucused for a candidate, showing support during the primary elections. Some common themes are people tweeting and trying to understand politicians, agreeing and disagreeing with politicians, and what they would do if they were that politician."
   ]
  },
  {
   "cell_type": "code",
   "execution_count": 39,
   "metadata": {},
   "outputs": [],
   "source": [
    "Biden_kwic_Trump = []\n",
    "\n",
    "for tweet in Biden_tweets_nrt:\n",
    "    tokens = tt.tokenize(tweet['text'])\n",
    "    Biden_kwic_Trump.extend(make_kwic('trump', tokens))"
   ]
  },
  {
   "cell_type": "code",
   "execution_count": 40,
   "metadata": {},
   "outputs": [],
   "source": [
    "Biden_Trump_sample = random.sample(Biden_kwic_Trump, 50)"
   ]
  },
  {
   "cell_type": "code",
   "execution_count": 41,
   "metadata": {},
   "outputs": [
    {
     "name": "stdout",
     "output_type": "stream",
     "text": [
      "                                          trump  2.0 .  \n",
      "                                          trump  can you charge biden\n",
      "                       the green stuff -  trump  is good for their\n",
      "                        for his sister .  trump  lies . trump is\n",
      "                       money from govt .  trump  family would have been\n",
      "                        bernie in 2016 .  trump  reached out for help\n",
      "                          4 more years .  trump  / pence 2020 \n",
      "                    vote for sanders ...  trump  wins and the nra\n",
      "                have zero chance against  trump  , right ? now\n",
      "              performs the worst against  trump  . i am a\n",
      "                            we ? you and  trump  ?   \n",
      "                          and orgs . and  trump  ’ s tweets .\n",
      "                       ad damn .. anyway  trump  2020   \n",
      "                      left can only beat  trump  with a centrist candidate\n",
      "                     biden will not beat  trump  . at all \n",
      "                   months needed to beat  trump  . his numbers will\n",
      "                       they want to beat  trump     \n",
      "                            can ’ t call  trump  out on his lies\n",
      "                         lie when u call  trump  a homophobe trump just\n",
      "                     he voted to convict  trump  .   \n",
      "                   only chance to defeat  trump     \n",
      "                  tried to remove donald  trump  from office even before\n",
      "                    don't think ( donald  trump  ) has a clue\n",
      "                       coup to take down  trump  . same dems cry\n",
      "                     - with this economy  trump  should be ahead .\n",
      "                  training needed to fix  trump  damage .  \n",
      "                  voters either vote for  trump  or a 3rd party\n",
      "              you are essentially giving  trump  your vote . dont\n",
      "                bernie , is guaranteeing  trump  4 more years #neverbernie\n",
      "                      the reason we have  trump  is the red &\n",
      "                          you ’ ve heard  trump  speak . biden ’\n",
      "                       \" we must impeach  trump  because he hates immigrant\n",
      "                       swamp , just like  trump  and the @gop .\n",
      "                   lies from the monster  trump  .   \n",
      "             another democrat instead of  trump  .   \n",
      "                   be a problem removing  trump  ... the only person\n",
      "              will liberal media support  trump  to protect they owners\n",
      "                 better for america than  trump  is .  \n",
      "               he doesn't recognize that  trump  has already forever changed\n",
      "                          to lead in the  trump  aftermath ? - he\n",
      "                    give the election to  trump  .   \n",
      "                     are handing 2020 to  trump  on a platter by\n",
      "                      biden will lose to  trump  . is that http://good.news\n",
      "                          , he will vote  trump  or stay home as\n",
      "                           . do you want  trump  to be re-elected ?\n",
      "                         day . dnc wants  trump  . why else would\n",
      "                      the nominee , when  trump  eats him in november\n",
      "                           ’ t deal with  trump  and bernie for 4\n",
      "                         \" the same word  trump  uses when he's full\n",
      "                                 ( i ) á  trump  .   \n"
     ]
    }
   ],
   "source": [
    "print_kwic(sort_kwic(Biden_Trump_sample, order=['L1']))"
   ]
  },
  {
   "cell_type": "code",
   "execution_count": 42,
   "metadata": {},
   "outputs": [],
   "source": [
    "Klob_kwic_Trump = []\n",
    "\n",
    "for tweet in Klob_tweets_nrt:\n",
    "    tokens = tt.tokenize(tweet['text'])\n",
    "    Klob_kwic_Trump.extend(make_kwic('trump', tokens))"
   ]
  },
  {
   "cell_type": "code",
   "execution_count": 43,
   "metadata": {},
   "outputs": [],
   "source": [
    "Klob_Trump_sample = random.sample(Klob_kwic_Trump, 50)"
   ]
  },
  {
   "cell_type": "code",
   "execution_count": 44,
   "metadata": {},
   "outputs": [
    {
     "name": "stdout",
     "output_type": "stream",
     "text": [
      "                                          trump  calls for buttigieg and\n",
      "                                          trump  won michigan by 10,000-\n",
      "                      tops trump 47-43 %  trump  is underwater at 42\n",
      "                          sanders 49 % ,  trump  42 % bloomberg 48\n",
      "                          the thing is ,  trump  is going to play\n",
      "                        bloomberg 48 % ,  trump  40 % warren 46\n",
      "                            biden 52 % -  trump  44 % ( +\n",
      "                        is running for .  trump  will eat him alive\n",
      "                    rigged against you .  trump  claimed that the election\n",
      "                     / buttigieg — 47/42  trump  / klobuchar — 46/41\n",
      "                 trump / buttigieg 47/42  trump  / klobuchar 46/41 https://twitter.com/Avenger2Toxic/status/1228796178336276480\n",
      "                campaign against him and  trump  both .  \n",
      "                          if you win and  trump  refuses to leave the\n",
      "                    mike will be another  trump  ( but with no\n",
      "                     the same mindset as  trump  when it comes to\n",
      "                         are going to be  trump  . we have more\n",
      "                            can ’ t beat  trump  when we ’ ve\n",
      "              progressive who could beat  trump  .   \n",
      "                        you want to beat  trump  , pete is not\n",
      "                       know , it beating  trump  is important and a\n",
      "                they want bernie because  trump  will beat him .\n",
      "                    all voted to convict  trump  & supported having impeachment\n",
      "                   hilary , she couldn't  trump  . buttigieg , klobuchar\n",
      "                       we need to defeat  trump  and bring everyone together\n",
      "                  vote for anyone except  trump  . but firing devos\n",
      "                   or klobuchar can face  trump     \n",
      "             that translates to fighting  trump  . pete put the\n",
      "                       going to vote for  trump  anyway .  \n",
      "                         and we will get  trump  . immediate need is\n",
      "                   appointees ... now if  trump  would just take your\n",
      "                  money wins , including  trump  when he was backed\n",
      "                      i think sanders is  trump  lite--arrogant , crude and\n",
      "                  then your sidepiece is  trump  and you are screwed\n",
      "                          is , much like  trump  , hard to see\n",
      "                 about serial liars like  trump  ... he hates it\n",
      "                           to get rid of  trump  . we need to\n",
      "                      another 4 years of  trump  and bernie can't win\n",
      "                              * t out of  trump  . here's my dream\n",
      "                          the right ’ of  trump  foreign diplomacy wise and\n",
      "            bloomberg because you oppose  trump  , your politics are\n",
      "         the democrats accused president  trump  of doing . you\n",
      "                      vote for bernie so  trump  can crush him in\n",
      "                    would be better than  trump  .   \n",
      "                       ' weakness ' that  trump  can exploit klobuchar ?\n",
      "                    would rather lose to  trump  with bernie than allow\n",
      "                    , then safety trumps  trump  . he ’ ll\n",
      "                        ones who gave us  trump  for 4 more years\n",
      "                           . do you want  trump  to win again ?\n",
      "                   are we following what  trump  & surrogates are promoting\n",
      "                            go ! for you  trump  supporters out there ,\n"
     ]
    }
   ],
   "source": [
    "print_kwic(sort_kwic(Klob_Trump_sample, order=['L1']))"
   ]
  },
  {
   "cell_type": "code",
   "execution_count": 45,
   "metadata": {},
   "outputs": [],
   "source": [
    "Sanders_kwic_Trump = []\n",
    "\n",
    "for tweet in Sanders_tweets_nrt:\n",
    "    tokens = tt.tokenize(tweet['text'])\n",
    "    Sanders_kwic_Trump.extend(make_kwic('trump', tokens))"
   ]
  },
  {
   "cell_type": "code",
   "execution_count": 46,
   "metadata": {},
   "outputs": [],
   "source": [
    "Sanders_Trump_sample = random.sample(Sanders_kwic_Trump, 50)"
   ]
  },
  {
   "cell_type": "code",
   "execution_count": 47,
   "metadata": {},
   "outputs": [
    {
     "name": "stdout",
     "output_type": "stream",
     "text": [
      "                                          trump  will be the death\n",
      "                                          trump  loves bernie . don\n",
      "                                          trump  ?   \n",
      "                                          trump  is betting on a\n",
      "                                          trump  ’ s not scared\n",
      "                                          trump  2020 kag  \n",
      "                                          trump  has a ___ is\n",
      "                                          trump  didnt say coronovirus was\n",
      "                                          trump  gets over 10k in\n",
      "                                          trump  are 2 sides of\n",
      "                         anybody , but ,  trump  ... even bernie sanders\n",
      "                    can vote for against  trump  and for bernie in\n",
      "                      ’ m voting against  trump  . bernie ’ s\n",
      "                    s between bernie and  trump  .   \n",
      "                 they should be arrested  trump  ( most ) supporters\n",
      "                            is as bad as  trump  . he doesn ’\n",
      "               and his supporters attack  trump  and how their plan\n",
      "                      do pete can't beat  trump  , warren has no\n",
      "                  spend billions to beat  trump  no matter if he\n",
      "                 candidate that can beat  trump  . how much more\n",
      "                    that can really beat  trump  . i have heard\n",
      "                         be able to beat  trump  . he'll be torn\n",
      "                     their vote to chose  trump  ’ s d .\n",
      "                          can ’ t defeat  trump  is a vote for\n",
      "               received mail from donald  trump  + @mikebloomberg ... i've\n",
      "                     - with this economy  trump  should be ahead .\n",
      "                           me , as every  trump  troll does . you\n",
      "                                     eww  trump  supporter   \n",
      "             guarantees another term for  trump  . every american but\n",
      "                      how many times has  trump  gone bankrupt ? )\n",
      "                  it #resisters you hate  trump  we ( the youth\n",
      "                        if you stay home  trump  stays president . bernie\n",
      "                          one . at least  trump  doesn ’ t cover\n",
      "                         dem party . let  trump  destroy the republicans .\n",
      "                       know why you like  trump  . you can ’\n",
      "                     , and certainly not  trump  .   \n",
      "                         4 more years of  trump  period #bernieorbust2020  \n",
      "                      choice , bernie or  trump  .   \n",
      "          : autoproclamados apoyados por  trump  : 1 ) guaidog\n",
      "                 . meanwhile , president  trump  empowers women - -\n",
      "            the cpac conference previews  trump  ’ s reelection strategy\n",
      "                          i want to stop  trump  from putting more judges\n",
      "                   full force to support  trump     \n",
      "               supporters are worse than  trump  supporters online .. and\n",
      "                  crisis any better than  trump  , the same way\n",
      "                     will likely lose to  trump  . even if they\n",
      "                        you mean lose to  trump  or lose to trump\n",
      "                                virginia  trump     \n",
      "                   or threatened to vote  trump  . make sense ?\n",
      "                           deal ' if you  trump  . however , allocating\n"
     ]
    }
   ],
   "source": [
    "print_kwic(sort_kwic(Sanders_Trump_sample, order=['L1']))"
   ]
  },
  {
   "cell_type": "code",
   "execution_count": 48,
   "metadata": {},
   "outputs": [],
   "source": [
    "Warren_kwic_Trump = []\n",
    "\n",
    "for tweet in Warren_tweets_nrt:\n",
    "    tokens = tt.tokenize(tweet['text'])\n",
    "    Warren_kwic_Trump.extend(make_kwic('trump', tokens))"
   ]
  },
  {
   "cell_type": "code",
   "execution_count": 49,
   "metadata": {},
   "outputs": [],
   "source": [
    "Warren_Trump_sample = random.sample(Warren_kwic_Trump, 50)"
   ]
  },
  {
   "cell_type": "code",
   "execution_count": 50,
   "metadata": {},
   "outputs": [
    {
     "name": "stdout",
     "output_type": "stream",
     "text": [
      "                                          trump  is also an idiot\n",
      "                                          trump  changed parties ? \n",
      "                                          trump  would be elected either\n",
      "                                          trump  and cover the spread\n",
      "                                          trump  and can ’ t\n",
      "                                          trump  has already taken care\n",
      "                                          trump  is a better alternative\n",
      "                           warren 46 % ,  trump  43 % buttigieg 45\n",
      "                           warren 46 % ,  trump  43 % buttigieg 45\n",
      "                          hillary 90 % ,  trump  10 % . but\n",
      "                         . biden sucks .  trump  sucks . all other\n",
      "                       pundits not get ?  trump  feared hillary , he\n",
      "                she couldn't win against  trump  ' ' ! trump\n",
      "                     need to run against  trump  . not another person\n",
      "                      the sand and allow  trump  to go unchecked .\n",
      "                      a republican . and  trump  was once a democrat\n",
      "                     too many ghosts and  trump  ammo ! ! !\n",
      "                         we need to beat  trump  ” rhetoric , because\n",
      "                      do pete can't beat  trump  , warren has no\n",
      "                            can ’ t beat  trump  , etc . just\n",
      "                    only warren can beat  trump  at this point .\n",
      "                        in order to beat  trump  in the face of\n",
      "                   believe he can't beat  trump  . for the greater\n",
      "                        pure \" than boot  trump  . and i guarantee\n",
      "                     joe biden to defeat  trump  . i fervently hope\n",
      "                           2012 . as did  trump  in 2016 . my\n",
      "                    forces and take down  trump     \n",
      "                  clip of maddow finding  trump  had paid taxes that\n",
      "                       . didn't vote for  trump  in 2016 and never\n",
      "                     would be voting for  trump     \n",
      "                         & two women for  trump  ! no @joebiden ,\n",
      "                   the reality tv format  trump  will create ... sanders\n",
      "                       country back . if  trump  wins we lose our\n",
      "                 suspicious . problem is  trump  is a russian asset\n",
      "                       knew this and let  trump  appoint an official from\n",
      "                     liberty ... give me  trump  ! !  \n",
      "                 moscow bernie vs moscow  trump     \n",
      "                 dynasty's big behind mr  trump  is realy afraid of\n",
      "                           enemy is - mr  trump  . and the only\n",
      "                         , sanders : not  trump     \n",
      "                    , and definitely not  trump  .   \n",
      "                           to get rid of  trump  , don ’ t\n",
      "                         able to take on  trump  in a debate .\n",
      "                   a fraud and president  trump  would make you cry\n",
      "                       will vote to stop  trump  ! priorities . \n",
      "                       and he'll lose to  trump  .   \n",
      "           about their experiences under  trump  and still have the\n",
      "                      is what brought us  trump  . we need structural\n",
      "                         now i just want  trump  the f out !\n",
      "                         . all the while  trump  spent 5.3 million dollars\n"
     ]
    }
   ],
   "source": [
    "print_kwic(sort_kwic(Warren_Trump_sample, order=['L1']))"
   ]
  },
  {
   "cell_type": "markdown",
   "metadata": {},
   "source": [
    "The use of trump includes many comparisons to Trump for all candidates and lots of horse race poll numbers, that have a certain primary candidate at a certain poling level against trump. There are lots of use of defeat trump and beat trump, as it is a common goal for the democratic candidates, and many believe that their chosen candidate is the best for the job. Some are pro-trump tweets which believe that a candidate will not beat him and is no competition or our current president."
   ]
  },
  {
   "cell_type": "code",
   "execution_count": null,
   "metadata": {},
   "outputs": [],
   "source": []
  }
 ],
 "metadata": {
  "kernelspec": {
   "display_name": "Python 3",
   "language": "python",
   "name": "python3"
  },
  "language_info": {
   "codemirror_mode": {
    "name": "ipython",
    "version": 3
   },
   "file_extension": ".py",
   "mimetype": "text/x-python",
   "name": "python",
   "nbconvert_exporter": "python",
   "pygments_lexer": "ipython3",
   "version": "3.7.3"
  }
 },
 "nbformat": 4,
 "nbformat_minor": 2
}
