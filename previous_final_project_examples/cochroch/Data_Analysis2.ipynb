{
 "cells": [
  {
   "cell_type": "markdown",
   "metadata": {},
   "source": [
    "### Data_Analysis2: VADER polarity scores\n",
    "I wanted to see if there was a large difference how people tweeted about males vs. female candidates in terms polarity scores by updating each tweet with its score and averaging them out by candidate."
   ]
  },
  {
   "cell_type": "code",
   "execution_count": 1,
   "metadata": {},
   "outputs": [],
   "source": [
    "import os\n",
    "import json\n",
    "from nltk.tokenize import TweetTokenizer, WordPunctTokenizer\n",
    "import datetime\n",
    "from collections import Counter\n",
    "import string\n",
    "from nltk.corpus import stopwords\n",
    "from nltk.sentiment.vader import SentimentIntensityAnalyzer\n",
    "import matplotlib.pyplot as plt; plt.rcdefaults()\n",
    "import numpy as np\n",
    "import matplotlib.pyplot as plt\n",
    "import random"
   ]
  },
  {
   "cell_type": "code",
   "execution_count": 2,
   "metadata": {},
   "outputs": [],
   "source": [
    "%run functions.ipynb"
   ]
  },
  {
   "cell_type": "code",
   "execution_count": 3,
   "metadata": {},
   "outputs": [],
   "source": [
    "sid = SentimentIntensityAnalyzer()"
   ]
  },
  {
   "cell_type": "code",
   "execution_count": 4,
   "metadata": {},
   "outputs": [],
   "source": [
    "Biden_tweets_nrt = json.load(open('move_data/corpus_data1.json'))"
   ]
  },
  {
   "cell_type": "code",
   "execution_count": 5,
   "metadata": {},
   "outputs": [],
   "source": [
    "Klob_tweets_nrt = json.load(open('move_data/corpus_data2.json'))"
   ]
  },
  {
   "cell_type": "code",
   "execution_count": 6,
   "metadata": {},
   "outputs": [],
   "source": [
    "Sanders_tweets_nrt = json.load(open('move_data/corpus_data3.json'))"
   ]
  },
  {
   "cell_type": "code",
   "execution_count": 7,
   "metadata": {},
   "outputs": [],
   "source": [
    "Warren_tweets_nrt = json.load(open('move_data/corpus_data4.json'))"
   ]
  },
  {
   "cell_type": "markdown",
   "metadata": {},
   "source": [
    "#### Polarity scores from Vader\n",
    "For all of the candidates I wanted to calculate the polarity scores to see if there was a difference in the compound  positive, neutral, and negative scores of the four candidates. I did this by updating each tweet with its polarity score and then dividing the total score by the number of tweets. Then I took a small sample of tweets to investigate what may be leading to specific scores"
   ]
  },
  {
   "cell_type": "code",
   "execution_count": 8,
   "metadata": {},
   "outputs": [],
   "source": [
    "for tweet in Biden_tweets_nrt:\n",
    "    tweet.update(sid.polarity_scores(tweet['text']))"
   ]
  },
  {
   "cell_type": "code",
   "execution_count": 9,
   "metadata": {},
   "outputs": [],
   "source": [
    "comp_Biden = sum([t['compound'] for t in Biden_tweets_nrt])/len(Biden_tweets_nrt)"
   ]
  },
  {
   "cell_type": "code",
   "execution_count": 10,
   "metadata": {},
   "outputs": [],
   "source": [
    "pos_Biden = sum([t['pos'] for t in Biden_tweets_nrt])/len(Biden_tweets_nrt)"
   ]
  },
  {
   "cell_type": "code",
   "execution_count": 11,
   "metadata": {},
   "outputs": [],
   "source": [
    "neu_Biden = sum([t['neu'] for t in Biden_tweets_nrt])/len(Biden_tweets_nrt)"
   ]
  },
  {
   "cell_type": "code",
   "execution_count": 12,
   "metadata": {},
   "outputs": [],
   "source": [
    "neg_Biden = sum([t['neg'] for t in Biden_tweets_nrt])/len(Biden_tweets_nrt)"
   ]
  },
  {
   "cell_type": "code",
   "execution_count": 13,
   "metadata": {},
   "outputs": [],
   "source": [
    "Biden_sample_nrt = random.sample(Biden_tweets_nrt, 20)"
   ]
  },
  {
   "cell_type": "code",
   "execution_count": 14,
   "metadata": {},
   "outputs": [
    {
     "name": "stdout",
     "output_type": "stream",
     "text": [
      " -------------------------------------------- {'neg': 0.0, 'neu': 0.0, 'pos': 0.0, 'compound': 0.0}\n",
      "They'll roll them into the final delegate counts {'neg': 0.0, 'neu': 1.0, 'pos': 0.0, 'compound': 0.0}\n",
      "Hopefully she's in talks with @JoeBiden for Veep {'neg': 0.0, 'neu': 0.722, 'pos': 0.278, 'compound': 0.4019}\n",
      "I’m #RidenWithBiden too! Voted for him last week in Texas. #TexansForBiden #VoteBlueNoMatterWho #AnyoneButTrump2020 {'neg': 0.0, 'neu': 1.0, 'pos': 0.0, 'compound': 0.0}\n",
      "and ppl leave you alone with their kids?----- {'neg': 0.348, 'neu': 0.652, 'pos': 0.0, 'compound': -0.296}\n",
      "--------------------------------------------- {'neg': 0.0, 'neu': 0.0, 'pos': 0.0, 'compound': 0.0}\n",
      "So if we win these states, we may hit the 1,991 threshold? {'neg': 0.0, 'neu': 0.73, 'pos': 0.27, 'compound': 0.6204}\n",
      "Joe Biden ended apartheid? I thought the South African people did that. There was a divestment movement that the institutions of this country fought against tooth and nail. I remember that. {'neg': 0.078, 'neu': 0.922, 'pos': 0.0, 'compound': -0.3182}\n",
      "Never happened------------------------------- {'neg': 0.0, 'neu': 1.0, 'pos': 0.0, 'compound': 0.0}\n",
      "Well it's important to not have a sewer rat as president and I think joe recognizes this {'neg': 0.0, 'neu': 0.769, 'pos': 0.231, 'compound': 0.4404}\n",
      "The truth is that the Black people who voted for Biden have become a part of the establishment whether complicit or not {'neg': 0.0, 'neu': 0.897, 'pos': 0.103, 'compound': 0.3182}\n",
      "Malarkey!------------------------------------ {'neg': 0.0, 'neu': 1.0, 'pos': 0.0, 'compound': 0.0}\n",
      "Pete can't win with only racist whites------- {'neg': 0.586, 'neu': 0.414, 'pos': 0.0, 'compound': -0.7948}\n",
      "OMG Bernie...stop whining!!!----------------- {'neg': 0.581, 'neu': 0.419, 'pos': 0.0, 'compound': -0.4168}\n",
      "Yep Liz can’t do it. Nor Amy; she didn’t do nearly enough outreach to PoC. I’m not sure I have the stomach for this; it promises to be the ugliest campaign of my lifetime. {'neg': 0.142, 'neu': 0.689, 'pos': 0.17, 'compound': 0.0356}\n",
      "Hopefully a few young people will be smart enough to know nothing is free. The problem with socialism, is the Bernie’s of the world always want to tell everyone else what to do. Moochers are moochers. Nothing else. {'neg': 0.234, 'neu': 0.626, 'pos': 0.14, 'compound': -0.6707}\n",
      "--------------------------------------------- {'neg': 0.0, 'neu': 0.0, 'pos': 0.0, 'compound': 0.0}\n",
      "And because they would then pick the VP and get rid of Biden who is stupid enough to think they like him. {'neg': 0.131, 'neu': 0.772, 'pos': 0.097, 'compound': -0.2263}\n",
      "I know I’m a real person who doesn’t artificially inflate my count like you fake Pete accounts. If I check how many of your followers will be other fake Pete accounts? {'neg': 0.184, 'neu': 0.742, 'pos': 0.074, 'compound': -0.5719}\n",
      "People need to understand that Warren was NEVER a progressive She was taking big money beforel she started running for president & has gone back to doing so The DNC has chosen Biden/Warren as their ticket She is NOT going to drop out of the race She is a 'player in the game'  {'neg': 0.0, 'neu': 0.964, 'pos': 0.036, 'compound': 0.2057}\n"
     ]
    }
   ],
   "source": [
    "for tweet in Biden_sample_nrt:\n",
    "    tweet_text = tweet['text']\n",
    "    vs = sid.polarity_scores(tweet_text)\n",
    "    print(\"{:-<45} {}\".format(tweet_text, str(vs)))"
   ]
  },
  {
   "cell_type": "code",
   "execution_count": 15,
   "metadata": {},
   "outputs": [],
   "source": [
    "for tweet in Klob_tweets_nrt:\n",
    "    tweet.update(sid.polarity_scores(tweet['text']))"
   ]
  },
  {
   "cell_type": "code",
   "execution_count": 16,
   "metadata": {},
   "outputs": [],
   "source": [
    "comp_Klob = sum([t['compound'] for t in Klob_tweets_nrt])/len(Biden_tweets_nrt)"
   ]
  },
  {
   "cell_type": "code",
   "execution_count": 17,
   "metadata": {},
   "outputs": [],
   "source": [
    "pos_Klob = sum([t['pos'] for t in Klob_tweets_nrt])/len(Biden_tweets_nrt)"
   ]
  },
  {
   "cell_type": "code",
   "execution_count": 18,
   "metadata": {},
   "outputs": [],
   "source": [
    "neu_Klob = sum([t['neu'] for t in Klob_tweets_nrt])/len(Biden_tweets_nrt)"
   ]
  },
  {
   "cell_type": "code",
   "execution_count": 19,
   "metadata": {},
   "outputs": [],
   "source": [
    "neg_Klob = sum([t['neg'] for t in Klob_tweets_nrt])/len(Biden_tweets_nrt)"
   ]
  },
  {
   "cell_type": "code",
   "execution_count": 20,
   "metadata": {},
   "outputs": [],
   "source": [
    "Klob_sample_nrt = random.sample(Klob_tweets_nrt, 20)"
   ]
  },
  {
   "cell_type": "code",
   "execution_count": 21,
   "metadata": {},
   "outputs": [
    {
     "name": "stdout",
     "output_type": "stream",
     "text": [
      "Paid hack expresses concern that Bernie might not get it done like Amy Klobuchar could...  {'neg': 0.0, 'neu': 0.848, 'pos': 0.152, 'compound': 0.3612}\n",
      "buttigieg klobuchar AND bloomberg are all endorsing biden...  {'neg': 0.0, 'neu': 1.0, 'pos': 0.0, 'compound': 0.0}\n",
      "With “sniper certified CBP” police state now? @SpeakerPelosi @Drew_Hammill @KamalaHarris @amyklobuchar @RepAdamSchiff @RepSwalwell @SenDuckworth @tedlieu {'neg': 0.0, 'neu': 1.0, 'pos': 0.0, 'compound': 0.0}\n",
      "Is Klobuchar on the Trump payroll?----------- {'neg': 0.0, 'neu': 1.0, 'pos': 0.0, 'compound': 0.0}\n",
      "She’s got a stapler! Duck!------------------- {'neg': 0.0, 'neu': 1.0, 'pos': 0.0, 'compound': 0.0}\n",
      "This. I know it's hard, but if you truly feel that going with Bernie is a mistake, you have to drop out now. {'neg': 0.25, 'neu': 0.612, 'pos': 0.138, 'compound': -0.2732}\n",
      "On the off chance we retake the Senate, I'm hoping to see Klobuchar as majority leader. I guess that means minority leader if we don't. Schumer is very... Meh. I think she'd be great in that role. {'neg': 0.032, 'neu': 0.752, 'pos': 0.216, 'compound': 0.8225}\n",
      "@JoeBiden and @amyklobuchar get out of the race now {'neg': 0.0, 'neu': 1.0, 'pos': 0.0, 'compound': 0.0}\n",
      "I suspect he wins, and even if it’s just by a point, he’s still a winner. That’d be four states and three different winners. The pressure really ratchets up on Klobuchar and Warren from here; they gotta win somewhere. {'neg': 0.09, 'neu': 0.615, 'pos': 0.295, 'compound': 0.9001}\n",
      "Sen. Amy Klobuchar: ‘Today Is a Big Day, We’re Excited’ @amyklobuchar {'neg': 0.0, 'neu': 1.0, 'pos': 0.0, 'compound': 0.0}\n",
      "Bernie:University of North Texas Biden:University of Texas- Austin Bloomberg:Southern Methodist Buttigieg:Baylor University Gabbard:Texas Christian Universitu Klobuchar:Sam Houston Steyer:Stephen F. Austin Warren: Rice University  {'neg': 0.0, 'neu': 1.0, 'pos': 0.0, 'compound': 0.0}\n",
      "We thank you.-------------------------------- {'neg': 0.0, 'neu': 0.444, 'pos': 0.556, 'compound': 0.3612}\n",
      "Bloomberg is trying to help us oust Trump. For me, that is priority 1 through 10. I am thankful that he has spent (and will continue to spend) what is a small portion of his wealth toward that effort. {'neg': 0.0, 'neu': 0.775, 'pos': 0.225, 'compound': 0.8625}\n",
      "Does anyone think that pundits would have a problem with Klobuchar or Warren campaigning in Vermont? It's a national primary! Every state counts. Why aren't we talking about how embarrassing it is not to be able to win your own home state?  {'neg': 0.127, 'neu': 0.791, 'pos': 0.081, 'compound': -0.2851}\n",
      "His sponsorship of amendments that became law is @a lower rate per year than Klobuchar or Warren.He's lying to his followers; you can not ban private insurance without getting rid of the filibuster. He does not want to get rid of the filibuster. He cannot pass m4all w/out that {'neg': 0.125, 'neu': 0.822, 'pos': 0.053, 'compound': -0.4401}\n",
      "It is the SC primary! Let's see if @Joebiden pulls ahead as polls predicted. Or will @ewarren @BernieSanders @amyklobuchar @PeteButtigieg @TomSteyer win SC? What do you think @JoshuaRush? #ATeenThatLovesPolitics {'neg': 0.0, 'neu': 0.863, 'pos': 0.137, 'compound': 0.6654}\n",
      "... Klobuchar has said in interviews she would want to be the Attorney General. Biden would gladly give her that position for Minnesota. Warren just doesn't want to go against the party which is why she didn't endorse Bernie in 2016. {'neg': 0.043, 'neu': 0.788, 'pos': 0.169, 'compound': 0.5773}\n",
      "So my question is; is the reverse true if Warren or Klobuchar campaign in Vermont or New York is that ageist or anti-semitic? {'neg': 0.0, 'neu': 0.887, 'pos': 0.113, 'compound': 0.4215}\n",
      " Sanders Warren Klobuchar Bloomberg Buttigieg Biden Gabbard {'neg': 0.0, 'neu': 1.0, 'pos': 0.0, 'compound': 0.0}\n",
      "@amyklobuchar DJT will kill the America organized labor movement if re-elected. Amy has my full support {'neg': 0.22, 'neu': 0.654, 'pos': 0.126, 'compound': -0.4588}\n"
     ]
    }
   ],
   "source": [
    "for tweet in Klob_sample_nrt:\n",
    "    tweet_text = tweet['text']\n",
    "    vs = sid.polarity_scores(tweet_text)\n",
    "    print(\"{:-<45} {}\".format(tweet_text, str(vs)))"
   ]
  },
  {
   "cell_type": "code",
   "execution_count": 22,
   "metadata": {},
   "outputs": [],
   "source": [
    "for tweet in Sanders_tweets_nrt:\n",
    "    tweet.update(sid.polarity_scores(tweet['text']))"
   ]
  },
  {
   "cell_type": "code",
   "execution_count": 23,
   "metadata": {},
   "outputs": [],
   "source": [
    "comp_Sanders = sum([t['compound'] for t in Sanders_tweets_nrt])/len(Biden_tweets_nrt)"
   ]
  },
  {
   "cell_type": "code",
   "execution_count": 24,
   "metadata": {},
   "outputs": [],
   "source": [
    "pos_Sanders = sum([t['pos'] for t in Sanders_tweets_nrt])/len(Biden_tweets_nrt)"
   ]
  },
  {
   "cell_type": "code",
   "execution_count": 25,
   "metadata": {},
   "outputs": [],
   "source": [
    "neu_Sanders = sum([t['neu'] for t in Sanders_tweets_nrt])/len(Biden_tweets_nrt)"
   ]
  },
  {
   "cell_type": "code",
   "execution_count": 26,
   "metadata": {},
   "outputs": [],
   "source": [
    "neg_Sanders = sum([t['neg'] for t in Sanders_tweets_nrt])/len(Biden_tweets_nrt)"
   ]
  },
  {
   "cell_type": "code",
   "execution_count": 27,
   "metadata": {},
   "outputs": [],
   "source": [
    "Sanders_sample_nrt = random.sample(Sanders_tweets_nrt, 20)"
   ]
  },
  {
   "cell_type": "code",
   "execution_count": 28,
   "metadata": {},
   "outputs": [
    {
     "name": "stdout",
     "output_type": "stream",
     "text": [
      "Running as a Democrat makes you a Democrat. It’s literally the only thing you have to do to be a Democrat. I became a Democrat by ticking a box when I got my driver’s license. {'neg': 0.0, 'neu': 1.0, 'pos': 0.0, 'compound': 0.0}\n",
      "It makes me so damn happy to see @ewarren supporters uniting to elect @BernieSanders today! I know that together we can win this thing. Let’s get to work! #SandersWarren2020 {'neg': 0.09, 'neu': 0.619, 'pos': 0.291, 'compound': 0.8303}\n",
      "1. My tweet doesn’t equate to dick riding Bernie, unfortunately. 2. Changing a few words from my tweet and tweeting it back to me doesn’t make you original or clever. 3. Mistaken* 4. Billionaires still don’t care about you. {'neg': 0.121, 'neu': 0.699, 'pos': 0.18, 'compound': 0.4215}\n",
      "Then you better focus on Senate and House races. {'neg': 0.0, 'neu': 0.734, 'pos': 0.266, 'compound': 0.4404}\n",
      "Fantastic!----------------------------------- {'neg': 0.0, 'neu': 0.0, 'pos': 1.0, 'compound': 0.5983}\n",
      "#NeverBernie #Trump2020NowMoreThanEver------- {'neg': 0.0, 'neu': 1.0, 'pos': 0.0, 'compound': 0.0}\n",
      "glad u repping Bernie now tho---------------- {'neg': 0.0, 'neu': 0.571, 'pos': 0.429, 'compound': 0.4588}\n",
      "Shawn King, if your negativity toward Biden ends up suppressing the vote, we’ll end up with 4 more years if Trump. That means all the issues you care about, like global warming, could be set back by years. Decades, if we’re stuck with an all-conservative SCOTUS. {'neg': 0.101, 'neu': 0.76, 'pos': 0.139, 'compound': 0.25}\n",
      "--------------------------------------------- {'neg': 0.0, 'neu': 0.0, 'pos': 0.0, 'compound': 0.0}\n",
      "You must be very lonely if such a small percentage of people can change your mind about someone who has no control over perfect strangers. {'neg': 0.168, 'neu': 0.707, 'pos': 0.125, 'compound': -0.0754}\n",
      "--------------------------------------------- {'neg': 0.0, 'neu': 0.0, 'pos': 0.0, 'compound': 0.0}\n",
      "Yes Bernard, fight back---------------------- {'neg': 0.356, 'neu': 0.274, 'pos': 0.37, 'compound': 0.0258}\n",
      "No, that's why I'm going all in fighting against Bernie. {'neg': 0.37, 'neu': 0.63, 'pos': 0.0, 'compound': -0.5719}\n",
      "Noam Chomsky's Theory Of Change Involves A Bernie Sanders White House  {'neg': 0.0, 'neu': 1.0, 'pos': 0.0, 'compound': 0.0}\n",
      "The campaign should add works by Bernie's favorite composer, Beethoven, to the playlist. {'neg': 0.0, 'neu': 0.8, 'pos': 0.2, 'compound': 0.4588}\n",
      "He's not joking, just a sad sad man.--------- {'neg': 0.155, 'neu': 0.371, 'pos': 0.474, 'compound': 0.5334}\n",
      "We did that in November of 2015. His name is @realDonaldTrump {'neg': 0.0, 'neu': 1.0, 'pos': 0.0, 'compound': 0.0}\n",
      "Of course minimum standards are determined by the federal government and those standards can be raised easily by the fed, along with increasing bloc grants to fund state schools. No need to get semantical. It's happened many times before, such as with No Child Left Behind {'neg': 0.084, 'neu': 0.787, 'pos': 0.129, 'compound': 0.3182}\n",
      "k-------------------------------------------- {'neg': 0.0, 'neu': 0.0, 'pos': 0.0, 'compound': 0.0}\n",
      "Trump don’t drink...Obama did...he liked beer and coke. {'neg': 0.0, 'neu': 0.714, 'pos': 0.286, 'compound': 0.4215}\n"
     ]
    }
   ],
   "source": [
    "for tweet in Sanders_sample_nrt:\n",
    "    tweet_text = tweet['text']\n",
    "    vs = sid.polarity_scores(tweet_text)\n",
    "    print(\"{:-<45} {}\".format(tweet_text, str(vs)))"
   ]
  },
  {
   "cell_type": "code",
   "execution_count": 29,
   "metadata": {},
   "outputs": [],
   "source": [
    "for tweet in Warren_tweets_nrt:\n",
    "    tweet.update(sid.polarity_scores(tweet['text']))"
   ]
  },
  {
   "cell_type": "code",
   "execution_count": 30,
   "metadata": {},
   "outputs": [],
   "source": [
    "comp_Warren = sum([t['compound'] for t in Warren_tweets_nrt])/len(Biden_tweets_nrt)"
   ]
  },
  {
   "cell_type": "code",
   "execution_count": 31,
   "metadata": {},
   "outputs": [],
   "source": [
    "pos_Warren = sum([t['pos'] for t in Warren_tweets_nrt])/len(Biden_tweets_nrt)"
   ]
  },
  {
   "cell_type": "code",
   "execution_count": 32,
   "metadata": {},
   "outputs": [],
   "source": [
    "neu_Warren = sum([t['neu'] for t in Warren_tweets_nrt])/len(Biden_tweets_nrt)"
   ]
  },
  {
   "cell_type": "code",
   "execution_count": 33,
   "metadata": {},
   "outputs": [],
   "source": [
    "neg_Warren = sum([t['neg'] for t in Warren_tweets_nrt])/len(Biden_tweets_nrt)"
   ]
  },
  {
   "cell_type": "code",
   "execution_count": 34,
   "metadata": {},
   "outputs": [],
   "source": [
    "Warren_sample_nrt = random.sample(Warren_tweets_nrt, 20)"
   ]
  },
  {
   "cell_type": "code",
   "execution_count": 35,
   "metadata": {},
   "outputs": [
    {
     "name": "stdout",
     "output_type": "stream",
     "text": [
      "That’s why we’ll vote for @BernieSanders----- {'neg': 0.0, 'neu': 1.0, 'pos': 0.0, 'compound': 0.0}\n",
      "The smartest thing joe could do is ask either Warren or Harris as his running mate {'neg': 0.0, 'neu': 0.789, 'pos': 0.211, 'compound': 0.6124}\n",
      "@ewarren was a Republican until 40+ years old. The thing to remember .. She will say/do anything to gain power. Zero Fs given to the ppl of MA. The ppl she is supposed to represent. {'neg': 0.0, 'neu': 0.907, 'pos': 0.093, 'compound': 0.5267}\n",
      "Oh hell no! Could have done without Kaine (Warren would have been good) but Bernie would have been dreadful as a VP nominee. He’s awful on his own too, but as a follower? NFW. {'neg': 0.403, 'neu': 0.597, 'pos': 0.0, 'compound': -0.9598}\n",
      "I love it, keep going------------------------ {'neg': 0.0, 'neu': 0.417, 'pos': 0.583, 'compound': 0.6369}\n",
      "Vote your conscience, then proudly back whoever is the final blue victor, who I also hope is Elizabeth Warren.  {'neg': 0.0, 'neu': 0.711, 'pos': 0.289, 'compound': 0.7579}\n",
      "Getting real sick of my fellow queer people in Facebook groups I’m in attacking me for criticizing @PeteButtigieg and his policies. I don’t give a flying fuck that he’s gay. I want a progressive president with substance in the White House like Sanders or Warren not a token gay. {'neg': 0.227, 'neu': 0.702, 'pos': 0.07, 'compound': -0.8591}\n",
      "Is there anyway to sway you over to @ewarren ...?  {'neg': 0.0, 'neu': 1.0, 'pos': 0.0, 'compound': 0.0}\n",
      "The Kremlin is donating to Warren's super PAC. Prove me wrong {'neg': 0.194, 'neu': 0.562, 'pos': 0.244, 'compound': 0.2023}\n",
      "Most common concern I've read is that people aren't confident Warren would commit her delegates to Sanders; and given his position right now, better to aim for winning 51% outright; also to reduce the possibility of shenanigans in general. Which, after Iowa... {'neg': 0.053, 'neu': 0.773, 'pos': 0.173, 'compound': 0.707}\n",
      "This is what she means by her working inside, and is working from the outside, and empowering our agencies that are already in place to improve the way our government functions!  {'neg': 0.0, 'neu': 0.904, 'pos': 0.096, 'compound': 0.4926}\n",
      "Campaign must do the outreach now------------ {'neg': 0.0, 'neu': 0.704, 'pos': 0.296, 'compound': 0.2732}\n",
      "Laughed, but serious, don't want that.------- {'neg': 0.358, 'neu': 0.385, 'pos': 0.257, 'compound': 0.0559}\n",
      "#Trump2020LandslideVictory------------------- {'neg': 0.0, 'neu': 1.0, 'pos': 0.0, 'compound': 0.0}\n",
      "The bots and trolls are out in full force because trumps incompetence is showing again. THANK YOU SENATOR WARREN !!!!!!!!!!! {'neg': 0.174, 'neu': 0.7, 'pos': 0.126, 'compound': -0.3038}\n",
      "Ryan, I'm sorry you're experiencing what many of us who supported Warren but crossed over to Bernie experienced from many of her rabid supporters. Can't tell you how many Warren supporters called me (a black woman) a \"Bernie Bro\" and accused me of internalized sexism. Smh. {'neg': 0.125, 'neu': 0.706, 'pos': 0.169, 'compound': 0.5346}\n",
      "Omg you ARE as crazy as they say.------------ {'neg': 0.255, 'neu': 0.745, 'pos': 0.0, 'compound': -0.34}\n",
      "I don’t really want Warren to waste her energy in a losing cause. Harris or Castro  {'neg': 0.283, 'neu': 0.524, 'pos': 0.193, 'compound': -0.4033}\n",
      "Not ridiculous. Warren wants an unconstitutional wealth tax and worker representation on boards of companies. Sounds very socialist to me. {'neg': 0.0, 'neu': 0.772, 'pos': 0.228, 'compound': 0.6497}\n",
      "Research shows when everyone is being lifted up (income, healthcare, education, etc.) it benefits all of US. Read article in Jan-Feb Foreign Affairs by experts who studied it around world.  {'neg': 0.0, 'neu': 0.918, 'pos': 0.082, 'compound': 0.3818}\n"
     ]
    }
   ],
   "source": [
    "for tweet in Warren_sample_nrt:\n",
    "    tweet_text = tweet['text']\n",
    "    vs = sid.polarity_scores(tweet_text)\n",
    "    print(\"{:-<45} {}\".format(tweet_text, str(vs)))"
   ]
  },
  {
   "cell_type": "code",
   "execution_count": 36,
   "metadata": {},
   "outputs": [
    {
     "data": {
      "image/png": "[encoded data removed]",
      "text/plain": [
       "<Figure size 432x288 with 1 Axes>"
      ]
     },
     "metadata": {
      "needs_background": "light"
     },
     "output_type": "display_data"
    }
   ],
   "source": [
    "objects = ('Biden', 'Klobuchar', 'Sanders', 'Warren')\n",
    "y_pos = np.arange(len(objects))\n",
    "performance = [comp_Biden, comp_Klob, comp_Sanders, comp_Warren]\n",
    "\n",
    "plt.bar(y_pos, performance, align='center', alpha=0.5)\n",
    "plt.xticks(y_pos, objects)\n",
    "plt.ylabel('Average compound score')\n",
    "plt.title('Average compound score by candidate')\n",
    "\n",
    "plt.show()\n"
   ]
  },
  {
   "cell_type": "code",
   "execution_count": 37,
   "metadata": {},
   "outputs": [
    {
     "data": {
      "image/png": "[encoded data removed]",
      "text/plain": [
       "<Figure size 432x288 with 1 Axes>"
      ]
     },
     "metadata": {
      "needs_background": "light"
     },
     "output_type": "display_data"
    }
   ],
   "source": [
    "objects = ('Biden', 'Klobuchar', 'Sanders', 'Warren')\n",
    "y_pos = np.arange(len(objects))\n",
    "performance = [pos_Biden, pos_Klob, pos_Sanders, pos_Warren]\n",
    "\n",
    "plt.bar(y_pos, performance, align='center', alpha=0.5)\n",
    "plt.xticks(y_pos, objects)\n",
    "plt.ylabel('Average positive score')\n",
    "plt.title('Average positive score by candidate')\n",
    "\n",
    "plt.show()"
   ]
  },
  {
   "cell_type": "code",
   "execution_count": 38,
   "metadata": {},
   "outputs": [
    {
     "data": {
      "image/png": "[encoded data removed]",
      "text/plain": [
       "<Figure size 432x288 with 1 Axes>"
      ]
     },
     "metadata": {
      "needs_background": "light"
     },
     "output_type": "display_data"
    }
   ],
   "source": [
    "objects = ('Biden', 'Klobuchar', 'Sanders', 'Warren')\n",
    "y_pos = np.arange(len(objects))\n",
    "performance = [neg_Biden, neg_Klob, neg_Sanders, neg_Warren]\n",
    "\n",
    "plt.bar(y_pos, performance, align='center', alpha=0.5)\n",
    "plt.xticks(y_pos, objects)\n",
    "plt.ylabel('Average negative score')\n",
    "plt.title('Average negative score by candidate')\n",
    "\n",
    "plt.show()"
   ]
  },
  {
   "cell_type": "code",
   "execution_count": 39,
   "metadata": {},
   "outputs": [
    {
     "data": {
      "image/png": "[encoded data removed]",
      "text/plain": [
       "<Figure size 432x288 with 1 Axes>"
      ]
     },
     "metadata": {
      "needs_background": "light"
     },
     "output_type": "display_data"
    }
   ],
   "source": [
    "objects = ('Biden', 'Klobuchar', 'Sanders', 'Warren')\n",
    "y_pos = np.arange(len(objects))\n",
    "performance = [neu_Biden, neu_Klob, neu_Sanders, neu_Warren]\n",
    "\n",
    "plt.bar(y_pos, performance, align='center', alpha=0.5)\n",
    "plt.xticks(y_pos, objects)\n",
    "plt.ylabel('Average neutral score')\n",
    "plt.title('Average neutral score by candidate')\n",
    "\n",
    "plt.show()"
   ]
  },
  {
   "cell_type": "markdown",
   "metadata": {},
   "source": [
    "While there are differences in the overall scores for women and men they were minuscule in the scale of 0-1 that VADER uses, this is probably do to the fact that the way that the calculate scores is not sensitive enough to really pick up on what exactly is going on with the tone of a tweet. There is not a lot that can be gleamed from these polarity scores, but it is interesting to see that in general tweets about politicians are more neutral than anything else, as many seem to be reporting information about the politicians or what happened in a primary."
   ]
  },
  {
   "cell_type": "code",
   "execution_count": null,
   "metadata": {},
   "outputs": [],
   "source": []
  }
 ],
 "metadata": {
  "kernelspec": {
   "display_name": "Python 3",
   "language": "python",
   "name": "python3"
  },
  "language_info": {
   "codemirror_mode": {
    "name": "ipython",
    "version": 3
   },
   "file_extension": ".py",
   "mimetype": "text/x-python",
   "name": "python",
   "nbconvert_exporter": "python",
   "pygments_lexer": "ipython3",
   "version": "3.7.3"
  }
 },
 "nbformat": 4,
 "nbformat_minor": 2
}
