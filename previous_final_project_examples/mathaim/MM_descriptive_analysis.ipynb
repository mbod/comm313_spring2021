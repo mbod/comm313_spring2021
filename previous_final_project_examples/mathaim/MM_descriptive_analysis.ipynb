{
 "cells": [
  {
   "cell_type": "markdown",
   "metadata": {},
   "source": [
    "### 1. Setup"
   ]
  },
  {
   "cell_type": "code",
   "execution_count": 5,
   "metadata": {},
   "outputs": [],
   "source": [
    "import os\n",
    "import random\n",
    "import re\n",
    "import string\n",
    "\n",
    "import json\n",
    "from collections import Counter"
   ]
  },
  {
   "cell_type": "markdown",
   "metadata": {},
   "source": [
    "### The Corpus"
   ]
  },
  {
   "cell_type": "code",
   "execution_count": 6,
   "metadata": {},
   "outputs": [
    {
     "data": {
      "text/plain": [
       "53"
      ]
     },
     "execution_count": 6,
     "metadata": {},
     "output_type": "execute_result"
    }
   ],
   "source": [
    "corpus = json.load(open('data/briefing_transcripts.json'))\n",
    "len(corpus)"
   ]
  },
  {
   "cell_type": "markdown",
   "metadata": {},
   "source": [
    "There are 53 briefings in the corpus."
   ]
  },
  {
   "cell_type": "markdown",
   "metadata": {},
   "source": [
    "Because I want to look at change over time, I am going to segment the data by months."
   ]
  },
  {
   "cell_type": "code",
   "execution_count": 7,
   "metadata": {},
   "outputs": [],
   "source": [
    "apr_briefings = [item for item in corpus if item['date'].split()[0]=='Apr']\n",
    "mar_briefings = [item for item in corpus if item['date'].split()[0]=='Mar']\n",
    "feb_briefings = [item for item in corpus if item['date'].split()[0]=='Feb']\n",
    "jan_briefings = [item for item in corpus if item['date'].split()[0]=='Jan']"
   ]
  },
  {
   "cell_type": "code",
   "execution_count": 8,
   "metadata": {},
   "outputs": [
    {
     "name": "stdout",
     "output_type": "stream",
     "text": [
      "In April, there are 23 briefings.\n",
      "In March, there are 26 briefings.\n",
      "In February, there are 2 briefings.\n",
      "In January, there are 2 briefings.\n"
     ]
    }
   ],
   "source": [
    "print(\"In April, there are\", len(apr_briefings), 'briefings.')\n",
    "print(\"In March, there are\", len(mar_briefings), 'briefings.')\n",
    "print(\"In February, there are\", len(feb_briefings), 'briefings.')\n",
    "print(\"In January, there are\", len(jan_briefings), 'briefings.')\n"
   ]
  },
  {
   "cell_type": "code",
   "execution_count": null,
   "metadata": {},
   "outputs": [],
   "source": []
  }
 ],
 "metadata": {
  "kernelspec": {
   "display_name": "Python 3",
   "language": "python",
   "name": "python3"
  },
  "language_info": {
   "codemirror_mode": {
    "name": "ipython",
    "version": 3
   },
   "file_extension": ".py",
   "mimetype": "text/x-python",
   "name": "python",
   "nbconvert_exporter": "python",
   "pygments_lexer": "ipython3",
   "version": "3.7.3"
  }
 },
 "nbformat": 4,
 "nbformat_minor": 2
}
