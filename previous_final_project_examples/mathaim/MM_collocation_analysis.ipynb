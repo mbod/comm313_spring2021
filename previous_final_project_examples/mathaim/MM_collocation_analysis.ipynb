{
 "cells": [
  {
   "cell_type": "code",
   "execution_count": 9,
   "metadata": {},
   "outputs": [],
   "source": [
    "## Madelyn -- I made some edits below to get you started -- take a look and let me know if you have any issues. -RV"
   ]
  },
  {
   "cell_type": "markdown",
   "metadata": {},
   "source": [
    "## OBJECTIVE"
   ]
  },
  {
   "cell_type": "markdown",
   "metadata": {},
   "source": [
    "Collocation analysis of a word shows lists words that are often next to that word."
   ]
  },
  {
   "cell_type": "markdown",
   "metadata": {},
   "source": [
    "## SETUP"
   ]
  },
  {
   "cell_type": "code",
   "execution_count": 5,
   "metadata": {},
   "outputs": [],
   "source": [
    "%matplotlib inline\n",
    "\n",
    "import matplotlib.pyplot as plt\n",
    "import os\n",
    "import re\n",
    "import pandas as pd\n",
    "import math\n",
    "\n",
    "from collections import Counter\n",
    "\n",
    "plt.style.use('seaborn')\n",
    "\n",
    "import json\n",
    "from collections import Counter"
   ]
  },
  {
   "cell_type": "code",
   "execution_count": 6,
   "metadata": {},
   "outputs": [],
   "source": [
    "to_strip = ',.\\xa0:-()\\';$\"/?][!`Ą@Ś§¨’–“”…ï‘>&\\\\%˝˘*—'"
   ]
  },
  {
   "cell_type": "markdown",
   "metadata": {},
   "source": [
    "## FUNCTIONS"
   ]
  },
  {
   "cell_type": "code",
   "execution_count": 7,
   "metadata": {},
   "outputs": [],
   "source": [
    "def tokenize(text, lowercase=True, strip_chars=''):\n",
    "    '''turn a string into a list of whitespace separated tokens - after observing lowercase flag and stripping specified characters\n",
    "    \n",
    "    Args:\n",
    "        text        -- a string object containing the text to be tokenized\n",
    "        lowercase   -- whether the string should be lowercased before tokenization (default: True)\n",
    "        strip_chars -- a string containing a series of characters which should be stripped from text before tokenization (default: empty string)\n",
    "        \n",
    "    \n",
    "    Returns:\n",
    "        list of tokens\n",
    "    '''\n",
    "    rdict = str.maketrans('','',strip_chars)\n",
    "    \n",
    "    if lowercase:\n",
    "        text=text.lower()\n",
    "        \n",
    "    text = text.translate(rdict)\n",
    "    \n",
    "    tokens = text.split()\n",
    "    \n",
    "    return tokens\n",
    "        "
   ]
  },
  {
   "cell_type": "code",
   "execution_count": 8,
   "metadata": {},
   "outputs": [],
   "source": [
    "def collocates(tokens, kw, win=[4,4]):\n",
    "    '''return the collocates in a window around a given keyword\n",
    "    \n",
    "    Args:\n",
    "          tokens -- a list of tokens\n",
    "          kw     -- keyword string to find and get collocates for\n",
    "          win    -- a list of number of tokens to left (index 0) and right (index 1) to use; default: [4,4]\n",
    "    \n",
    "    Returns:\n",
    "          a list of contexts (matching window specification) around each instance of keyword in tokens\n",
    "    '''\n",
    "    hits = [p for p,t in enumerate(tokens) if t==kw]\n",
    "    \n",
    "    context=[]\n",
    "    for hit in hits:\n",
    "        left = [] if win[0]<1 else tokens[hit-win[0]:hit]\n",
    "        right = [] if win[1]<1 else tokens[hit+1:hit+win[1]+1]\n",
    "        \n",
    "        context.extend(left)\n",
    "        context.extend(right)\n",
    "        \n",
    "    return context"
   ]
  },
  {
   "cell_type": "code",
   "execution_count": 9,
   "metadata": {},
   "outputs": [],
   "source": [
    "def get_colls(texts,kw, win=[4,4]):\n",
    "    '''create a collocate frequency list for instances of a kw in a list of texts\n",
    "    \n",
    "    Args:\n",
    "        texts  -- a list of tokenized texts\n",
    "        kw     -- keyword string to find and get collocates for\n",
    "        win    -- a list of number of tokens to left (index 0) and right (index 1) to use; default: [4,4]\n",
    "    \n",
    "    Returns:\n",
    "        a list-of-tuples where each tuple is (collocate, freq_with_kw, coll_total_freq)\n",
    "    '''\n",
    "    word_dist = Counter()\n",
    "    colls = Counter()\n",
    "    for text, tokens in texts.items():\n",
    "        word_dist.update(tokens)\n",
    "        colls.update(collocates(tokens,kw, win))\n",
    "    \n",
    "    return [(str(k),v, word_dist[k]) for k,v in colls.items()], word_dist.get(kw), sum(word_dist.values())"
   ]
  },
  {
   "cell_type": "code",
   "execution_count": 10,
   "metadata": {},
   "outputs": [],
   "source": [
    "def pmi(A, B, AB, N):\n",
    "    '''calculate pointwise mutual information for a pair of words given their co-occurring frequency and total frequencies\n",
    "    \n",
    "    Args:\n",
    "        A   -- total frequency of word 1\n",
    "        B   -- total frequency of word 1\n",
    "        AB  -- frequency of word 1 and word 2 together\n",
    "        N   -- number of tokens in corpus/sample\n",
    "        \n",
    "    Returns:\n",
    "        the PMI value   log2( AB / A*B * N)\n",
    "    '''\n",
    "    return math.log2(N* (AB / (A * B)))"
   ]
  },
  {
   "cell_type": "markdown",
   "metadata": {},
   "source": [
    "## LOAD DATA"
   ]
  },
  {
   "cell_type": "code",
   "execution_count": 11,
   "metadata": {},
   "outputs": [],
   "source": [
    "corpus = json.load(open('data/briefing_transcripts.json'))"
   ]
  },
  {
   "cell_type": "code",
   "execution_count": 12,
   "metadata": {},
   "outputs": [],
   "source": [
    "apr_briefings = [item for item in corpus if item['date'].split()[0]=='Apr']\n",
    "mar_briefings = [item for item in corpus if item['date'].split()[0]=='Mar']\n",
    "feb_briefings = [item for item in corpus if item['date'].split()[0]=='Feb']\n",
    "jan_briefings = [item for item in corpus if item['date'].split()[0]=='Jan']"
   ]
  },
  {
   "cell_type": "code",
   "execution_count": 13,
   "metadata": {},
   "outputs": [
    {
     "name": "stdout",
     "output_type": "stream",
     "text": [
      "['rose', 'garden', '538', 'pm', 'edt', 'the', 'president', 'thank', 'you', 'very', 'much', 'thank', 'you', 'today', 'id', 'like', 'to', 'provide', 'you', 'with', 'an', 'update', 'in', 'our', 'war', 'against', 'the', 'coronavirus', 'thanks', 'to', 'our', 'comprehensive', 'strategy', 'and', 'extraordinary', 'devotion', 'to', 'our', 'citizens', 'weve', 'had', 'such', 'tremendous', 'support', 'all', 'over', 'we', 'continue', 'to', 'see']\n"
     ]
    }
   ],
   "source": [
    "# set up a list for April tokens\n",
    "apr_tokens = []\n",
    "\n",
    "# process each of the April briefings\n",
    "for briefing in apr_briefings:\n",
    "    \n",
    "    # get the text string for the transcript of current briefing\n",
    "    briefing_text = briefing['text']\n",
    "    \n",
    "    # get a list of tokens for this text\n",
    "    tokens = tokenize(briefing_text, lowercase=True, strip_chars=to_strip)\n",
    "    \n",
    "    # update the list of tokens\n",
    "    apr_tokens.extend(tokens)\n",
    "\n",
    "print(apr_tokens[0:50])"
   ]
  },
  {
   "cell_type": "code",
   "execution_count": 14,
   "metadata": {},
   "outputs": [],
   "source": [
    "jan_tokens = []\n",
    "for briefing in jan_briefings:\n",
    "    briefing_text = briefing['text']\n",
    "    tokens = tokenize(briefing_text, lowercase=True, strip_chars=to_strip)\n",
    "    jan_tokens.extend(tokens)"
   ]
  },
  {
   "cell_type": "code",
   "execution_count": 15,
   "metadata": {},
   "outputs": [],
   "source": [
    "mar_tokens = []\n",
    "for briefing in mar_briefings:\n",
    "    briefing_text = briefing['text']\n",
    "    tokens = tokenize(briefing_text, lowercase=True, strip_chars=to_strip)\n",
    "    mar_tokens.extend(tokens)"
   ]
  },
  {
   "cell_type": "code",
   "execution_count": 16,
   "metadata": {},
   "outputs": [],
   "source": [
    "feb_tokens = []\n",
    "for briefing in feb_briefings:\n",
    "    briefing_text = briefing['text']\n",
    "    tokens = tokenize(briefing_text, lowercase=True, strip_chars=to_strip)\n",
    "    feb_tokens.extend(tokens)"
   ]
  },
  {
   "cell_type": "code",
   "execution_count": 17,
   "metadata": {},
   "outputs": [],
   "source": [
    "# for text in apr_tokens: <-- you don't need a for loop here because apr_tokens is ALREADY a list of tokens\n",
    "apr_word_dist = Counter()\n",
    "apr_bigram_dist = Counter()\n",
    "\n",
    "tokens = apr_tokens\n",
    "bigrams = [\"{} {}\".format(tokens[i],tokens[i+1]) for i,_ in enumerate(tokens[:-1])]\n",
    "apr_word_dist.update(tokens)\n",
    "apr_bigram_dist.update(bigrams)\n"
   ]
  },
  {
   "cell_type": "code",
   "execution_count": 18,
   "metadata": {},
   "outputs": [
    {
     "data": {
      "text/plain": [
       "[('the', 18749),\n",
       " ('to', 12776),\n",
       " ('and', 12315),\n",
       " ('that', 8680),\n",
       " ('a', 7991),\n",
       " ('of', 7885),\n",
       " ('you', 6783),\n",
       " ('i', 6574),\n",
       " ('we', 6399),\n",
       " ('in', 5090),\n",
       " ('have', 4787),\n",
       " ('it', 4773),\n",
       " ('president', 3718),\n",
       " ('is', 3692),\n",
       " ('were', 3440),\n",
       " ('they', 3176),\n",
       " ('but', 3147),\n",
       " ('are', 3061),\n",
       " ('be', 2917),\n",
       " ('this', 2832),\n",
       " ('so', 2693),\n",
       " ('for', 2577),\n",
       " ('with', 2436),\n",
       " ('very', 2413),\n",
       " ('q', 2353),\n",
       " ('on', 2319),\n",
       " ('its', 2296),\n",
       " ('going', 2287),\n",
       " ('people', 2137),\n",
       " ('what', 2070),\n",
       " ('do', 1977),\n",
       " ('know', 1945),\n",
       " ('about', 1893),\n",
       " ('as', 1768),\n",
       " ('was', 1749),\n",
       " ('our', 1723),\n",
       " ('at', 1683),\n",
       " ('not', 1665),\n",
       " ('all', 1602),\n",
       " ('think', 1600),\n",
       " ('well', 1590),\n",
       " ('if', 1538),\n",
       " ('want', 1416),\n",
       " ('them', 1357),\n",
       " ('can', 1345),\n",
       " ('just', 1336),\n",
       " ('theyre', 1304),\n",
       " ('been', 1285),\n",
       " ('now', 1271),\n",
       " ('because', 1261)]"
      ]
     },
     "execution_count": 18,
     "metadata": {},
     "output_type": "execute_result"
    }
   ],
   "source": [
    "apr_word_dist.most_common(50)"
   ]
  },
  {
   "cell_type": "code",
   "execution_count": 19,
   "metadata": {},
   "outputs": [
    {
     "data": {
      "text/plain": [
       "[('the president', 2634),\n",
       " ('going to', 1867),\n",
       " ('of the', 1566),\n",
       " ('in the', 1326),\n",
       " ('we have', 1230),\n",
       " ('to be', 1210),\n",
       " ('i think', 1121),\n",
       " ('want to', 1072),\n",
       " ('you know', 1065),\n",
       " ('a lot', 955),\n",
       " ('and i', 912),\n",
       " ('to the', 818),\n",
       " ('lot of', 767),\n",
       " ('and we', 709),\n",
       " ('to do', 698),\n",
       " ('and the', 672),\n",
       " ('thank you', 661),\n",
       " ('were going', 656),\n",
       " ('on the', 638),\n",
       " ('that we', 615),\n",
       " ('have to', 601),\n",
       " ('have a', 591),\n",
       " ('with the', 583),\n",
       " ('mr president', 562),\n",
       " ('this is', 518),\n",
       " ('at the', 504),\n",
       " ('it was', 499),\n",
       " ('all of', 484),\n",
       " ('i dont', 482),\n",
       " ('you have', 464),\n",
       " ('to get', 447),\n",
       " ('that the', 443),\n",
       " ('a very', 437),\n",
       " ('for the', 437),\n",
       " ('if you', 432),\n",
       " ('i mean', 424),\n",
       " ('to have', 421),\n",
       " ('new york', 420),\n",
       " ('have been', 399),\n",
       " ('the country', 381),\n",
       " ('and they', 376),\n",
       " ('dr birx', 375),\n",
       " ('to make', 366),\n",
       " ('vice president', 366),\n",
       " ('that are', 363),\n",
       " ('we are', 363),\n",
       " ('and were', 361),\n",
       " ('able to', 360),\n",
       " ('in a', 353),\n",
       " ('go ahead', 351)]"
      ]
     },
     "execution_count": 19,
     "metadata": {},
     "output_type": "execute_result"
    }
   ],
   "source": [
    "apr_bigram_dist.most_common(50)"
   ]
  },
  {
   "cell_type": "markdown",
   "metadata": {},
   "source": [
    "### \"Reopen\": April"
   ]
  },
  {
   "cell_type": "code",
   "execution_count": 20,
   "metadata": {},
   "outputs": [],
   "source": [
    "apr_colls_reopen = Counter()\n",
    "# for text in apr_tokens:\n",
    "apr_colls_reopen.update(collocates(apr_tokens,'reopen', [4,0]))"
   ]
  },
  {
   "cell_type": "code",
   "execution_count": 21,
   "metadata": {},
   "outputs": [
    {
     "data": {
      "text/plain": [
       "[('to', 54),\n",
       " ('we', 19),\n",
       " ('and', 11),\n",
       " ('can', 9),\n",
       " ('the', 9),\n",
       " ('you', 8),\n",
       " ('that', 7),\n",
       " ('want', 6),\n",
       " ('one', 5),\n",
       " ('states', 5),\n",
       " ('ready', 5),\n",
       " ('do', 5),\n",
       " ('be', 4),\n",
       " ('not', 4),\n",
       " ('about', 4),\n",
       " ('are', 4),\n",
       " ('is', 4),\n",
       " ('when', 4),\n",
       " ('see', 3),\n",
       " ('begin', 3),\n",
       " ('businesses', 3),\n",
       " ('it', 3),\n",
       " ('country', 3),\n",
       " ('gradually', 2),\n",
       " ('america', 2),\n",
       " ('able', 2),\n",
       " ('safely', 2),\n",
       " ('will', 2),\n",
       " ('way', 2),\n",
       " ('day', 2)]"
      ]
     },
     "execution_count": 21,
     "metadata": {},
     "output_type": "execute_result"
    }
   ],
   "source": [
    "apr_colls_reopen.most_common(30)"
   ]
  },
  {
   "cell_type": "markdown",
   "metadata": {},
   "source": [
    "### \"Fault\": March"
   ]
  },
  {
   "cell_type": "code",
   "execution_count": 22,
   "metadata": {},
   "outputs": [],
   "source": [
    "mar_colls_fault = Counter()\n",
    "# for text in apr_tokens:\n",
    "mar_colls_fault.update(collocates(mar_tokens,'fault', [4,0]))"
   ]
  },
  {
   "cell_type": "code",
   "execution_count": 30,
   "metadata": {},
   "outputs": [
    {
     "data": {
      "text/plain": [
       "[('not', 17),\n",
       " ('their', 16),\n",
       " ('its', 15),\n",
       " ('no', 11),\n",
       " ('nobodys', 9),\n",
       " ('it', 8),\n",
       " ('is', 6),\n",
       " ('was', 6),\n",
       " ('this', 5),\n",
       " ('through', 5),\n",
       " ('the', 4),\n",
       " ('and', 3),\n",
       " ('fault', 3),\n",
       " ('but', 3),\n",
       " ('wasnt', 3),\n",
       " ('are', 2),\n",
       " ('in', 2),\n",
       " ('to', 2),\n",
       " ('virus', 2),\n",
       " ('that', 2),\n",
       " ('thats', 2),\n",
       " ('these', 1),\n",
       " ('governors', 1),\n",
       " ('at', 1),\n",
       " ('federal', 1),\n",
       " ('governments', 1),\n",
       " ('president', 1),\n",
       " ('well', 1),\n",
       " ('country', 1),\n",
       " ('make', 1)]"
      ]
     },
     "execution_count": 30,
     "metadata": {},
     "output_type": "execute_result"
    }
   ],
   "source": [
    "mar_colls_fault.most_common(30)"
   ]
  },
  {
   "cell_type": "markdown",
   "metadata": {},
   "source": [
    "no clear ownership, no main party's fault\n",
    "nobodys is a collocate, which means he said it is nobdy's fault"
   ]
  },
  {
   "cell_type": "markdown",
   "metadata": {},
   "source": [
    "### \"Test\": March"
   ]
  },
  {
   "cell_type": "code",
   "execution_count": 23,
   "metadata": {},
   "outputs": [],
   "source": [
    "mar_colls_test = Counter()\n",
    "# for text in apr_tokens:\n",
    "mar_colls_test.update(collocates(mar_tokens,'test', [4,0]))"
   ]
  },
  {
   "cell_type": "code",
   "execution_count": 24,
   "metadata": {},
   "outputs": [
    {
     "data": {
      "text/plain": [
       "[('a', 139),\n",
       " ('the', 106),\n",
       " ('to', 73),\n",
       " ('have', 37),\n",
       " ('that', 34),\n",
       " ('this', 30),\n",
       " ('of', 28),\n",
       " ('get', 27),\n",
       " ('and', 26),\n",
       " ('we', 25),\n",
       " ('you', 22),\n",
       " ('can', 19),\n",
       " ('is', 18),\n",
       " ('coronavirus', 17),\n",
       " ('test', 16),\n",
       " ('it', 15),\n",
       " ('i', 15),\n",
       " ('about', 14),\n",
       " ('need', 13),\n",
       " ('not', 12),\n",
       " ('do', 12),\n",
       " ('new', 11),\n",
       " ('its', 11),\n",
       " ('dont', 10),\n",
       " ('pointofcare', 9),\n",
       " ('be', 9),\n",
       " ('who', 9),\n",
       " ('able', 8),\n",
       " ('in', 8),\n",
       " ('with', 8)]"
      ]
     },
     "execution_count": 24,
     "metadata": {},
     "output_type": "execute_result"
    }
   ],
   "source": [
    "mar_colls_test.most_common(30)"
   ]
  },
  {
   "cell_type": "markdown",
   "metadata": {},
   "source": [
    "### \"Symptoms\": March"
   ]
  },
  {
   "cell_type": "code",
   "execution_count": 37,
   "metadata": {},
   "outputs": [],
   "source": [
    "mar_colls_symptoms = Counter()\n",
    "# for text in apr_tokens:\n",
    "mar_colls_symptoms.update(collocates(mar_tokens,'symptoms', [4,0]))"
   ]
  },
  {
   "cell_type": "code",
   "execution_count": 38,
   "metadata": {},
   "outputs": [
    {
     "data": {
      "text/plain": [
       "[('have', 45),\n",
       " ('you', 20),\n",
       " ('people', 20),\n",
       " ('the', 18),\n",
       " ('that', 16),\n",
       " ('if', 13),\n",
       " ('dont', 12),\n",
       " ('who', 11),\n",
       " ('had', 11),\n",
       " ('no', 11),\n",
       " ('with', 10),\n",
       " ('are', 9),\n",
       " ('any', 8),\n",
       " ('of', 8),\n",
       " ('and', 7),\n",
       " ('mild', 7),\n",
       " ('to', 7),\n",
       " ('they', 5),\n",
       " ('or', 5),\n",
       " ('i', 5),\n",
       " ('duration', 3),\n",
       " ('fever', 3),\n",
       " ('flu', 3),\n",
       " ('for', 3),\n",
       " ('didnt', 3),\n",
       " ('through', 3),\n",
       " ('experiencing', 3),\n",
       " ('those', 3),\n",
       " ('about', 2),\n",
       " ('their', 2)]"
      ]
     },
     "execution_count": 38,
     "metadata": {},
     "output_type": "execute_result"
    }
   ],
   "source": [
    "mar_colls_symptoms.most_common(30)"
   ]
  },
  {
   "cell_type": "markdown",
   "metadata": {},
   "source": [
    "### \"Ventilators\": March"
   ]
  },
  {
   "cell_type": "code",
   "execution_count": 39,
   "metadata": {},
   "outputs": [],
   "source": [
    "mar_colls_ventilators = Counter()\n",
    "mar_colls_ventilators.update(collocates(mar_tokens,'ventilators', [4,0]))"
   ]
  },
  {
   "cell_type": "code",
   "execution_count": 40,
   "metadata": {},
   "outputs": [
    {
     "data": {
      "text/plain": [
       "[('of', 56),\n",
       " ('the', 35),\n",
       " ('to', 25),\n",
       " ('we', 19),\n",
       " ('have', 15),\n",
       " ('and', 15),\n",
       " ('thousands', 14),\n",
       " ('a', 14),\n",
       " ('for', 11),\n",
       " ('lot', 8),\n",
       " ('number', 8),\n",
       " ('more', 8),\n",
       " ('that', 7),\n",
       " ('or', 7),\n",
       " ('on', 7),\n",
       " ('need', 6),\n",
       " ('about', 6),\n",
       " ('many', 6),\n",
       " ('equipment', 6),\n",
       " ('doing', 5),\n",
       " ('10000', 5),\n",
       " ('numbers', 5),\n",
       " ('wants', 5),\n",
       " ('protective', 5),\n",
       " ('than', 5),\n",
       " ('masks', 5),\n",
       " ('right', 4),\n",
       " ('them', 4),\n",
       " ('including', 4),\n",
       " ('tremendous', 4)]"
      ]
     },
     "execution_count": 40,
     "metadata": {},
     "output_type": "execute_result"
    }
   ],
   "source": [
    "mar_colls_ventilators.most_common(30)"
   ]
  },
  {
   "cell_type": "markdown",
   "metadata": {},
   "source": [
    "### \"Ventilators\": April"
   ]
  },
  {
   "cell_type": "code",
   "execution_count": 41,
   "metadata": {},
   "outputs": [],
   "source": [
    "apr_colls_ventilators = Counter()\n",
    "apr_colls_ventilators.update(collocates(apr_tokens,'ventilators', [4,0]))"
   ]
  },
  {
   "cell_type": "code",
   "execution_count": 42,
   "metadata": {},
   "outputs": [
    {
     "data": {
      "text/plain": [
       "[('of', 113),\n",
       " ('the', 88),\n",
       " ('to', 65),\n",
       " ('have', 62),\n",
       " ('we', 48),\n",
       " ('a', 44),\n",
       " ('with', 35),\n",
       " ('on', 32),\n",
       " ('they', 32),\n",
       " ('thousands', 31),\n",
       " ('and', 30),\n",
       " ('more', 25),\n",
       " ('need', 24),\n",
       " ('about', 22),\n",
       " ('ventilators', 22),\n",
       " ('that', 21),\n",
       " ('were', 20),\n",
       " ('get', 19),\n",
       " ('lot', 19),\n",
       " ('for', 19),\n",
       " ('than', 18),\n",
       " ('you', 17),\n",
       " ('them', 15),\n",
       " ('be', 14),\n",
       " ('all', 14),\n",
       " ('some', 14),\n",
       " ('in', 14),\n",
       " ('like', 13),\n",
       " ('are', 13),\n",
       " ('it', 12)]"
      ]
     },
     "execution_count": 42,
     "metadata": {},
     "output_type": "execute_result"
    }
   ],
   "source": [
    "apr_colls_ventilators.most_common(30)"
   ]
  },
  {
   "cell_type": "markdown",
   "metadata": {},
   "source": [
    "nothing too interesting in March and April"
   ]
  },
  {
   "cell_type": "markdown",
   "metadata": {},
   "source": [
    "### \"States\": April"
   ]
  },
  {
   "cell_type": "code",
   "execution_count": 43,
   "metadata": {},
   "outputs": [],
   "source": [
    "apr_colls_states = Counter()\n",
    "apr_colls_states.update(collocates(apr_tokens,'states', [4,0]))"
   ]
  },
  {
   "cell_type": "code",
   "execution_count": 44,
   "metadata": {},
   "outputs": [
    {
     "data": {
      "text/plain": [
       "[('the', 553),\n",
       " ('united', 250),\n",
       " ('of', 186),\n",
       " ('in', 175),\n",
       " ('to', 167),\n",
       " ('and', 87),\n",
       " ('some', 75),\n",
       " ('that', 74),\n",
       " ('have', 60),\n",
       " ('with', 56),\n",
       " ('those', 52),\n",
       " ('all', 50),\n",
       " ('are', 47),\n",
       " ('other', 41),\n",
       " ('for', 41),\n",
       " ('we', 40),\n",
       " ('a', 39),\n",
       " ('their', 38),\n",
       " ('you', 38),\n",
       " ('testing', 27),\n",
       " ('president', 27),\n",
       " ('but', 27),\n",
       " ('were', 25),\n",
       " ('these', 25),\n",
       " ('across', 24),\n",
       " ('up', 24),\n",
       " ('our', 23),\n",
       " ('is', 23),\n",
       " ('it', 23),\n",
       " ('different', 21)]"
      ]
     },
     "execution_count": 44,
     "metadata": {},
     "output_type": "execute_result"
    }
   ],
   "source": [
    "apr_colls_states.most_common(30)"
   ]
  },
  {
   "cell_type": "markdown",
   "metadata": {},
   "source": [
    "different, indicates that he wants to give power back to states, it depends on the different states to do what is best for them"
   ]
  },
  {
   "cell_type": "markdown",
   "metadata": {},
   "source": [
    "### \"Oil\": April"
   ]
  },
  {
   "cell_type": "code",
   "execution_count": 46,
   "metadata": {},
   "outputs": [],
   "source": [
    "apr_colls_oil = Counter()\n",
    "apr_colls_oil.update(collocates(apr_tokens,'oil', [4,0]))"
   ]
  },
  {
   "cell_type": "code",
   "execution_count": 47,
   "metadata": {},
   "outputs": [
    {
     "data": {
      "text/plain": [
       "[('the', 36),\n",
       " ('of', 32),\n",
       " ('to', 22),\n",
       " ('on', 19),\n",
       " ('with', 14),\n",
       " ('a', 13),\n",
       " ('oil', 10),\n",
       " ('and', 7),\n",
       " ('you', 7),\n",
       " ('we', 7),\n",
       " ('now', 5),\n",
       " ('it', 5),\n",
       " ('than', 5),\n",
       " ('great', 5),\n",
       " ('theres', 5),\n",
       " ('for', 5),\n",
       " ('lot', 5),\n",
       " ('more', 5),\n",
       " ('q', 5),\n",
       " ('our', 5),\n",
       " ('know', 4),\n",
       " ('that', 4),\n",
       " ('president', 4),\n",
       " ('just', 4),\n",
       " ('from', 4),\n",
       " ('much', 4),\n",
       " ('price', 3),\n",
       " ('want', 3),\n",
       " ('have', 3),\n",
       " ('cut', 3)]"
      ]
     },
     "execution_count": 47,
     "metadata": {},
     "output_type": "execute_result"
    }
   ],
   "source": [
    "apr_colls_oil.most_common(30)"
   ]
  },
  {
   "cell_type": "markdown",
   "metadata": {},
   "source": [
    "nothing too interesting"
   ]
  },
  {
   "cell_type": "markdown",
   "metadata": {},
   "source": [
    "### \"Available\": March"
   ]
  },
  {
   "cell_type": "code",
   "execution_count": 48,
   "metadata": {},
   "outputs": [],
   "source": [
    "mar_colls_available = Counter()\n",
    "mar_colls_available.update(collocates(mar_tokens,'available', [4,0]))"
   ]
  },
  {
   "cell_type": "code",
   "execution_count": 49,
   "metadata": {},
   "outputs": [
    {
     "data": {
      "text/plain": [
       "[('that', 43),\n",
       " ('be', 30),\n",
       " ('testing', 30),\n",
       " ('is', 29),\n",
       " ('are', 27),\n",
       " ('make', 27),\n",
       " ('to', 26),\n",
       " ('tests', 26),\n",
       " ('will', 25),\n",
       " ('and', 22),\n",
       " ('the', 21),\n",
       " ('more', 16),\n",
       " ('of', 16),\n",
       " ('those', 15),\n",
       " ('have', 12),\n",
       " ('made', 8),\n",
       " ('making', 8),\n",
       " ('now', 8),\n",
       " ('these', 7),\n",
       " ('with', 7),\n",
       " ('thats', 7),\n",
       " ('test', 7),\n",
       " ('we', 6),\n",
       " ('it', 6),\n",
       " ('they', 6),\n",
       " ('masks', 6),\n",
       " ('for', 5),\n",
       " ('this', 5),\n",
       " ('going', 5),\n",
       " ('sure', 5)]"
      ]
     },
     "execution_count": 49,
     "metadata": {},
     "output_type": "execute_result"
    }
   ],
   "source": [
    "mar_colls_available.most_common(30)"
   ]
  },
  {
   "cell_type": "markdown",
   "metadata": {},
   "source": [
    "testing, tests, masks"
   ]
  },
  {
   "cell_type": "markdown",
   "metadata": {},
   "source": [
    "### \"Available\": April"
   ]
  },
  {
   "cell_type": "code",
   "execution_count": 50,
   "metadata": {},
   "outputs": [],
   "source": [
    "apr_colls_available = Counter()\n",
    "apr_colls_available.update(collocates(apr_tokens,'available', [4,0]))"
   ]
  },
  {
   "cell_type": "code",
   "execution_count": 51,
   "metadata": {},
   "outputs": [
    {
     "data": {
      "text/plain": [
       "[('that', 28),\n",
       " ('be', 17),\n",
       " ('those', 14),\n",
       " ('the', 14),\n",
       " ('make', 13),\n",
       " ('is', 12),\n",
       " ('are', 11),\n",
       " ('have', 11),\n",
       " ('and', 11),\n",
       " ('to', 10),\n",
       " ('we', 10),\n",
       " ('will', 10),\n",
       " ('tests', 8),\n",
       " ('made', 7),\n",
       " ('were', 6),\n",
       " ('this', 6),\n",
       " ('of', 6),\n",
       " ('testing', 5),\n",
       " ('best', 4),\n",
       " ('information', 4),\n",
       " ('all', 4),\n",
       " ('ventilators', 4),\n",
       " ('additional', 3),\n",
       " ('million', 3),\n",
       " ('capacity', 3),\n",
       " ('also', 3),\n",
       " ('on', 3),\n",
       " ('in', 3),\n",
       " ('can', 3),\n",
       " ('beds', 3)]"
      ]
     },
     "execution_count": 51,
     "metadata": {},
     "output_type": "execute_result"
    }
   ],
   "source": [
    "apr_colls_available.most_common(30)"
   ]
  },
  {
   "cell_type": "markdown",
   "metadata": {},
   "source": [
    "testing, tests, ventilators, information, capacity"
   ]
  },
  {
   "cell_type": "code",
   "execution_count": null,
   "metadata": {},
   "outputs": [],
   "source": []
  }
 ],
 "metadata": {
  "kernelspec": {
   "display_name": "Python 3",
   "language": "python",
   "name": "python3"
  },
  "language_info": {
   "codemirror_mode": {
    "name": "ipython",
    "version": 3
   },
   "file_extension": ".py",
   "mimetype": "text/x-python",
   "name": "python",
   "nbconvert_exporter": "python",
   "pygments_lexer": "ipython3",
   "version": "3.7.3"
  }
 },
 "nbformat": 4,
 "nbformat_minor": 2
}
