{
 "cells": [
  {
   "cell_type": "markdown",
   "metadata": {},
   "source": [
    "# Make Pandemic Responses Great Again!\n",
    "## The Evolution of the White House's Rhetoric on the COVID-19 Pandemic\n",
    "\n",
    "#### By: Madelyn Mathai"
   ]
  },
  {
   "cell_type": "markdown",
   "metadata": {},
   "source": [
    "![](trump.jpg)"
   ]
  },
  {
   "cell_type": "markdown",
   "metadata": {},
   "source": [
    "## Introduction"
   ]
  },
  {
   "cell_type": "markdown",
   "metadata": {},
   "source": [
    "The COVID-19 Pandemic is unlike anything in modern history. It has put entire states in lockdown, plunged the US into an economic recession, and taken 77,000 American lives so far. Even for those who are not directly effected medically or financially, the novel coronavirus has caused many people to put their normal lives on hold and shelter in place.  The pandemic has caused needs of the people to grow and evolve. In this blog, I will determine what these needs have been and when they were addressed by the White House.\n",
    "\n",
    "In confusing, difficult times like this, people turn to leadership for information, guidance, and a plan. There have been a number of different metrics used to characterize the severity of the problem including number of tests issued, number of tests positive, number of deaths, number of ventilators, number of masks, and number of hospital beds to name a few. People are constantly looking for measures of success to determine where in the \"slope of the curve\" they are. Success is largely subjective. People who are liberal tend to view the Trump Administration's pandemic response as chaotic, while his supporters call it heroic. \n",
    "\n",
    "This blog post will attempt to understand how briefings coming directly from the White House regarding the coronavirus have evolved over time. Hopefully this can offer an interesting analysis of the Trump Administration's handling of the COVID-19 pandemic and we can determine if it has improved over time. \n",
    "\n",
    "I hope to answer the following two questions:\n",
    "    1. How has the greatest need evolved over time?\n",
    "    2. How has the Trump Administration's rhetoric regarding responsibility evolved over time?"
   ]
  },
  {
   "cell_type": "markdown",
   "metadata": {},
   "source": [
    "## Setup"
   ]
  },
  {
   "cell_type": "code",
   "execution_count": 8,
   "metadata": {},
   "outputs": [],
   "source": [
    "import os\n",
    "import random\n",
    "import re\n",
    "import string\n",
    "\n",
    "import json\n",
    "from collections import Counter\n",
    "\n",
    "%matplotlib inline\n",
    "\n",
    "import os\n",
    "import re\n",
    "import csv\n",
    "import pandas as pd\n",
    "import numpy as np\n",
    "import matplotlib.pyplot as plt\n",
    "\n",
    "from nltk import tokenize\n",
    "from nltk.sentiment.vader import SentimentIntensityAnalyzer"
   ]
  },
  {
   "cell_type": "code",
   "execution_count": 9,
   "metadata": {},
   "outputs": [],
   "source": [
    "sid = SentimentIntensityAnalyzer()\n",
    "\n",
    "[m for m in dir(sid) if not m.startswith('_')]\n",
    "\n",
    "vlex = list(sid.lexicon.items())\n"
   ]
  },
  {
   "cell_type": "code",
   "execution_count": 87,
   "metadata": {},
   "outputs": [],
   "source": [
    "%run functions.ipynb"
   ]
  },
  {
   "cell_type": "markdown",
   "metadata": {},
   "source": [
    "## Data"
   ]
  },
  {
   "cell_type": "markdown",
   "metadata": {},
   "source": [
    "To consider this question, I used a corpus of Official White House Remarks & Briefings beginning on January 1, 2020 until April 30, 2020 with \"White House Coronavirus Tak Force\" in the title. While this may be a relatively small corpus because it is only pulled from a singular source, hopefully it will be useful in understanding how the American leadership has addressed the coronavirus pandemic."
   ]
  },
  {
   "cell_type": "code",
   "execution_count": 11,
   "metadata": {},
   "outputs": [
    {
     "data": {
      "text/plain": [
       "53"
      ]
     },
     "execution_count": 11,
     "metadata": {},
     "output_type": "execute_result"
    }
   ],
   "source": [
    "corpus = json.load(open('data/briefing_transcripts.json'))\n",
    "len(corpus)"
   ]
  },
  {
   "cell_type": "markdown",
   "metadata": {},
   "source": [
    "There are a total of 53 Briefings and Remarks in this corpus. "
   ]
  },
  {
   "cell_type": "markdown",
   "metadata": {},
   "source": [
    "## Descrpitive Analysis"
   ]
  },
  {
   "cell_type": "markdown",
   "metadata": {},
   "source": [
    "I want to consider the change in rhetoric over time, so I am going to segment the corpus by month."
   ]
  },
  {
   "cell_type": "code",
   "execution_count": 12,
   "metadata": {},
   "outputs": [],
   "source": [
    "apr_briefings = [item for item in corpus if item['date'].split()[0]=='Apr']\n",
    "mar_briefings = [item for item in corpus if item['date'].split()[0]=='Mar']\n",
    "feb_briefings = [item for item in corpus if item['date'].split()[0]=='Feb']\n",
    "jan_briefings = [item for item in corpus if item['date'].split()[0]=='Jan']"
   ]
  },
  {
   "cell_type": "code",
   "execution_count": 13,
   "metadata": {},
   "outputs": [
    {
     "name": "stdout",
     "output_type": "stream",
     "text": [
      "In April, there are 23 briefings.\n",
      "In March, there are 26 briefings.\n",
      "In February, there are 2 briefings.\n",
      "In January, there are 2 briefings.\n"
     ]
    }
   ],
   "source": [
    "print(\"In April, there are\", len(apr_briefings), 'briefings.')\n",
    "print(\"In March, there are\", len(mar_briefings), 'briefings.')\n",
    "print(\"In February, there are\", len(feb_briefings), 'briefings.')\n",
    "print(\"In January, there are\", len(jan_briefings), 'briefings.')\n"
   ]
  },
  {
   "cell_type": "markdown",
   "metadata": {},
   "source": [
    "There aren't many press briefings with Coronavirus Task Force in the title earlier on in the year. January and February only have two. This is a little surprising, but given that Trump declared a National Emergency on March 13, 2020, it makes sense that we would see a large increase in briefings and remarks after."
   ]
  },
  {
   "cell_type": "markdown",
   "metadata": {},
   "source": [
    "## Tokenizing the Data"
   ]
  },
  {
   "cell_type": "markdown",
   "metadata": {},
   "source": [
    "In order to tokenize the data, I ran a for loop for each month. The for loop pulled the text from each briefing and tokenized the text."
   ]
  },
  {
   "cell_type": "code",
   "execution_count": 14,
   "metadata": {},
   "outputs": [],
   "source": [
    "apr_tokens = []\n",
    "for briefing in apr_briefings:\n",
    "    briefing_text = briefing['text']\n",
    "    tokens = tokenize(briefing_text, lowercase=True, strip_chars=to_strip)\n",
    "    apr_tokens.extend(tokens)"
   ]
  },
  {
   "cell_type": "code",
   "execution_count": 15,
   "metadata": {},
   "outputs": [],
   "source": [
    "mar_tokens = []\n",
    "for briefing in mar_briefings:\n",
    "    mar_text = briefing['text']\n",
    "    tokens = tokenize(mar_text, lowercase=True, strip_chars=to_strip)\n",
    "    mar_tokens.extend(tokens)"
   ]
  },
  {
   "cell_type": "code",
   "execution_count": 16,
   "metadata": {},
   "outputs": [],
   "source": [
    "feb_tokens = []\n",
    "for briefing in jan_briefings:\n",
    "    feb_text = briefing['text']\n",
    "    tokens = tokenize(feb_text, lowercase=True, strip_chars=to_strip)\n",
    "    feb_tokens.extend(tokens)"
   ]
  },
  {
   "cell_type": "code",
   "execution_count": 17,
   "metadata": {},
   "outputs": [],
   "source": [
    "jan_tokens = []\n",
    "for briefing in jan_briefings:\n",
    "    jan_text = briefing['text']\n",
    "    tokens = tokenize(jan_text, lowercase=True, strip_chars=to_strip)\n",
    "    jan_tokens.extend(tokens)"
   ]
  },
  {
   "cell_type": "markdown",
   "metadata": {},
   "source": [
    "## Frequency Lists"
   ]
  },
  {
   "cell_type": "markdown",
   "metadata": {},
   "source": [
    "For other analysis like keyness, concordance, and sentiment, it will be useful to consider not only words but also bigrams and trigrams. "
   ]
  },
  {
   "cell_type": "code",
   "execution_count": 18,
   "metadata": {},
   "outputs": [],
   "source": [
    "apr_word_dist = Counter(apr_tokens)\n",
    "apr_bigram_dist = Counter(get_ngram_tokens(apr_tokens, 2))\n",
    "apr_trigram_dist = Counter(get_ngram_tokens(apr_tokens, 3))"
   ]
  },
  {
   "cell_type": "code",
   "execution_count": 19,
   "metadata": {},
   "outputs": [],
   "source": [
    "mar_word_dist = Counter(mar_tokens)\n",
    "mar_bigram_dist = Counter(get_ngram_tokens(mar_tokens, 2))\n",
    "mar_trigram_dist = Counter(get_ngram_tokens(mar_tokens, 3))"
   ]
  },
  {
   "cell_type": "code",
   "execution_count": 20,
   "metadata": {},
   "outputs": [],
   "source": [
    "feb_word_dist = Counter(feb_tokens)\n",
    "feb_bigram_dist = Counter(get_ngram_tokens(feb_tokens, 2))\n",
    "feb_trigram_dist = Counter(get_ngram_tokens(feb_tokens, 3))"
   ]
  },
  {
   "cell_type": "code",
   "execution_count": 21,
   "metadata": {},
   "outputs": [],
   "source": [
    "jan_word_dist = Counter(jan_tokens)\n",
    "jan_bigram_dist = Counter(get_ngram_tokens(jan_tokens, 2))\n",
    "jan_trigram_dist = Counter(get_ngram_tokens(jan_tokens, 3))"
   ]
  },
  {
   "cell_type": "code",
   "execution_count": 22,
   "metadata": {},
   "outputs": [
    {
     "data": {
      "text/plain": [
       "[('the', 18732),\n",
       " ('to', 12770),\n",
       " ('and', 12318),\n",
       " ('that', 8493),\n",
       " ('—', 8392),\n",
       " ('a', 7985),\n",
       " ('of', 7882),\n",
       " ('you', 6703),\n",
       " ('i', 6527),\n",
       " ('we', 6368),\n",
       " ('in', 5074),\n",
       " ('have', 4770),\n",
       " ('it', 4614),\n",
       " ('is', 3637),\n",
       " ('they', 3172),\n",
       " ('but', 3146),\n",
       " ('are', 3058),\n",
       " ('be', 2904),\n",
       " ('this', 2730),\n",
       " ('so', 2691)]"
      ]
     },
     "execution_count": 22,
     "metadata": {},
     "output_type": "execute_result"
    }
   ],
   "source": [
    "apr_word_dist.most_common(20)"
   ]
  },
  {
   "cell_type": "code",
   "execution_count": 23,
   "metadata": {},
   "outputs": [
    {
     "data": {
      "text/plain": [
       "[('the', 12986),\n",
       " ('to', 8990),\n",
       " ('and', 8302),\n",
       " ('that', 5967),\n",
       " ('of', 5452),\n",
       " ('a', 5006),\n",
       " ('—', 4837),\n",
       " ('we', 4445),\n",
       " ('you', 4347),\n",
       " ('i', 3937),\n",
       " ('in', 3291),\n",
       " ('have', 2885),\n",
       " ('it', 2623),\n",
       " ('is', 2379),\n",
       " ('are', 2296),\n",
       " ('be', 2269),\n",
       " ('this', 2095),\n",
       " ('for', 2000),\n",
       " ('but', 1956),\n",
       " ('with', 1870)]"
      ]
     },
     "execution_count": 23,
     "metadata": {},
     "output_type": "execute_result"
    }
   ],
   "source": [
    "mar_word_dist.most_common(20)"
   ]
  },
  {
   "cell_type": "code",
   "execution_count": 24,
   "metadata": {},
   "outputs": [
    {
     "data": {
      "text/plain": [
       "[('the', 351),\n",
       " ('to', 194),\n",
       " ('of', 182),\n",
       " ('and', 165),\n",
       " ('that', 103),\n",
       " ('in', 94),\n",
       " ('we', 89),\n",
       " ('you', 76),\n",
       " ('is', 74),\n",
       " ('a', 71),\n",
       " ('—', 71),\n",
       " ('this', 69),\n",
       " ('have', 59),\n",
       " ('as', 58),\n",
       " ('secretary', 57),\n",
       " ('are', 56),\n",
       " ('i', 49),\n",
       " ('china', 40),\n",
       " ('with', 40),\n",
       " ('so', 39)]"
      ]
     },
     "execution_count": 24,
     "metadata": {},
     "output_type": "execute_result"
    }
   ],
   "source": [
    "feb_word_dist.most_common(20)"
   ]
  },
  {
   "cell_type": "code",
   "execution_count": 25,
   "metadata": {},
   "outputs": [
    {
     "data": {
      "text/plain": [
       "[('the', 351),\n",
       " ('to', 194),\n",
       " ('of', 182),\n",
       " ('and', 165),\n",
       " ('that', 103),\n",
       " ('in', 94),\n",
       " ('we', 89),\n",
       " ('you', 76),\n",
       " ('is', 74),\n",
       " ('a', 71),\n",
       " ('—', 71),\n",
       " ('this', 69),\n",
       " ('have', 59),\n",
       " ('as', 58),\n",
       " ('secretary', 57),\n",
       " ('are', 56),\n",
       " ('i', 49),\n",
       " ('china', 40),\n",
       " ('with', 40),\n",
       " ('so', 39)]"
      ]
     },
     "execution_count": 25,
     "metadata": {},
     "output_type": "execute_result"
    }
   ],
   "source": [
    "jan_word_dist.most_common(20)"
   ]
  },
  {
   "cell_type": "markdown",
   "metadata": {},
   "source": [
    "This is what we expected. Throughout these months, the most used words were articles and pronouns. Let's now consider bigrams."
   ]
  },
  {
   "cell_type": "code",
   "execution_count": 26,
   "metadata": {},
   "outputs": [
    {
     "data": {
      "text/plain": [
       "[('the president:', 2218),\n",
       " ('going to', 1867),\n",
       " ('of the', 1551),\n",
       " ('in the', 1321),\n",
       " ('we have', 1216),\n",
       " ('to be', 1204),\n",
       " ('i think', 1119),\n",
       " ('— the', 1086),\n",
       " ('want to', 1072),\n",
       " ('you know', 1046),\n",
       " ('a lot', 949),\n",
       " ('and i', 909),\n",
       " ('to the', 789),\n",
       " ('lot of', 767),\n",
       " ('and we', 708),\n",
       " ('to do', 680),\n",
       " ('and the', 655),\n",
       " ('thank you', 651),\n",
       " ('we’re going', 626),\n",
       " ('on the', 625)]"
      ]
     },
     "execution_count": 26,
     "metadata": {},
     "output_type": "execute_result"
    }
   ],
   "source": [
    "apr_bigram_dist.most_common(20)"
   ]
  },
  {
   "cell_type": "code",
   "execution_count": 27,
   "metadata": {},
   "outputs": [
    {
     "data": {
      "text/plain": [
       "[('going to', 1208),\n",
       " ('of the', 1184),\n",
       " ('the president:', 1164),\n",
       " ('in the', 839),\n",
       " ('to be', 777),\n",
       " ('we have', 769),\n",
       " ('i think', 728),\n",
       " ('want to', 715),\n",
       " ('thank you', 707),\n",
       " ('to the', 625),\n",
       " ('you know', 604),\n",
       " ('a lot', 566),\n",
       " ('and i', 565),\n",
       " ('— the', 524),\n",
       " ('and the', 480),\n",
       " ('that we', 468),\n",
       " ('the president', 451),\n",
       " ('lot of', 433),\n",
       " ('and we', 429),\n",
       " ('to do', 424)]"
      ]
     },
     "execution_count": 27,
     "metadata": {},
     "output_type": "execute_result"
    }
   ],
   "source": [
    "mar_bigram_dist.most_common(20)"
   ]
  },
  {
   "cell_type": "code",
   "execution_count": 28,
   "metadata": {},
   "outputs": [
    {
     "data": {
      "text/plain": [
       "[('of the', 53),\n",
       " ('in the', 32),\n",
       " ('united states', 32),\n",
       " ('the united', 27),\n",
       " ('to the', 25),\n",
       " ('thank you', 19),\n",
       " ('the risk', 17),\n",
       " ('we have', 17),\n",
       " ('secretary azar:', 16),\n",
       " ('the american', 15),\n",
       " ('want to', 14),\n",
       " ('this is', 14),\n",
       " ('and the', 14),\n",
       " ('department of', 14),\n",
       " ('on the', 13),\n",
       " ('i want', 13),\n",
       " ('public health', 13),\n",
       " ('that we', 13),\n",
       " ('continue to', 12),\n",
       " ('14 days', 12)]"
      ]
     },
     "execution_count": 28,
     "metadata": {},
     "output_type": "execute_result"
    }
   ],
   "source": [
    "feb_bigram_dist.most_common(20)"
   ]
  },
  {
   "cell_type": "code",
   "execution_count": 29,
   "metadata": {},
   "outputs": [
    {
     "data": {
      "text/plain": [
       "[('of the', 53),\n",
       " ('in the', 32),\n",
       " ('united states', 32),\n",
       " ('the united', 27),\n",
       " ('to the', 25),\n",
       " ('thank you', 19),\n",
       " ('the risk', 17),\n",
       " ('we have', 17),\n",
       " ('secretary azar:', 16),\n",
       " ('the american', 15),\n",
       " ('want to', 14),\n",
       " ('this is', 14),\n",
       " ('and the', 14),\n",
       " ('department of', 14),\n",
       " ('on the', 13),\n",
       " ('i want', 13),\n",
       " ('public health', 13),\n",
       " ('that we', 13),\n",
       " ('continue to', 12),\n",
       " ('14 days', 12)]"
      ]
     },
     "execution_count": 29,
     "metadata": {},
     "output_type": "execute_result"
    }
   ],
   "source": [
    "jan_bigram_dist.most_common(20)"
   ]
  },
  {
   "cell_type": "markdown",
   "metadata": {},
   "source": [
    "This is slightly more informative. We can see a few patterns over time: \n",
    "* shifts away from *secretary azar,* who is the Secretary of Health and Human Services\n",
    "* shifts away from *the american,* \"united states\", \"the united\"\n",
    "* shifts away from *public health*\n",
    "* shifts away from *14 days,* which is the incubation period emphasized earlier on in the pandemic\n",
    "\n",
    "However, we must remember that January and Ferburary's corpora each only contain two briefings. Therefore, this is not super informative on how rhetoric has evolved. We want to look at the frequency of words given size of the corpus, so we will need to consider keyness."
   ]
  },
  {
   "cell_type": "markdown",
   "metadata": {},
   "source": [
    "## Keyness Analysis of Words"
   ]
  },
  {
   "cell_type": "code",
   "execution_count": 30,
   "metadata": {},
   "outputs": [
    {
     "name": "stdout",
     "output_type": "stream",
     "text": [
      "WORD                     Corpus Freq.RC Freq.  Keyness\n",
      "======================================================\n",
      "secretary                57        261       191.082\n",
      "risk                     25        51        116.845\n",
      "china                    40        279       105.908\n",
      "united                   32        262       76.228\n",
      "low                      19        68        71.505\n",
      "screening                11        6         71.220\n",
      "public                   25        168       67.744\n",
      "chinese                  11        12        61.629\n",
      "14                       12        25        55.689\n",
      "department               16        76        52.654\n",
      "health                   30        364       52.440\n",
      "travel                   13        46        49.169\n",
      "security                 11        48        37.762\n",
      "homeland                 7         10        36.515\n",
      "azar                     7         11        35.522\n",
      "citizens                 11        61        33.343\n",
      "steps                    8         23        32.992\n",
      "transmission             7         15        32.175\n",
      "entry                    6         8         31.905\n",
      "actions                  7         16        31.458\n"
     ]
    }
   ],
   "source": [
    "calculate_keyness(jan_word_dist, apr_word_dist, top=20)"
   ]
  },
  {
   "cell_type": "markdown",
   "metadata": {},
   "source": [
    "These are the 20 most key words, meaning these words appear far more frequently in January than April even when accounting for size of corpus. We can group these into categories:\n",
    "* Origination of COVID-19: *china*, *chinese*\n",
    "* Action plan: *actions*, *screening*, *security*, *travel*, *steps*, *department*, *entry*\n",
    "* Nature of the virus: *transmission*, *14* (referring to incubation period), *health*\n",
    "* US: *homeland*, *secretary*, *united*, *public*, *citizens*, *Azar*\n",
    "* Metrics/ Measurements: *low*, *risk*"
   ]
  },
  {
   "cell_type": "markdown",
   "metadata": {},
   "source": [
    "### Keyness Comparing March to April"
   ]
  },
  {
   "cell_type": "markdown",
   "metadata": {},
   "source": [
    "I want to now consider changes between March and April, as the understanding of the severity of the problem changes drastically in March. Shelter in place orders were issued, businesses were shutdown, and a national emergency was declared. Let's see what speech was used immediately after this shock and how it evolved over time. "
   ]
  },
  {
   "cell_type": "code",
   "execution_count": 31,
   "metadata": {},
   "outputs": [
    {
     "name": "stdout",
     "output_type": "stream",
     "text": [
      "WORD                     Corpus Freq.RC Freq.  Keyness\n",
      "======================================================\n",
      "vice                     508       378       107.722\n",
      "will                     1166      1196      84.206\n",
      "thank                    806       789       71.857\n",
      "available                187       102       71.496\n",
      "travel                   119       46        69.674\n",
      "tested                   155       80        64.244\n",
      "president                1165      1280      58.227\n",
      "risk                     113       51        55.773\n",
      "meeting                  98        41        52.781\n",
      "night                    106       49        50.814\n",
      "elderly                  47        8         48.634\n",
      "symptoms                 91        40        46.341\n",
      "legislation              46        10        41.916\n",
      "house                    165       115       40.576\n",
      "senate                   57        18        40.132\n",
      "commercial               93        47        39.693\n",
      "fault                    41        8         39.653\n",
      "children                 48        13        37.997\n",
      "private                  79        37        37.259\n",
      "screening                35        6         36.096\n"
     ]
    }
   ],
   "source": [
    "calculate_keyness(mar_word_dist, apr_word_dist, top=20)"
   ]
  },
  {
   "cell_type": "markdown",
   "metadata": {},
   "source": [
    "### Keyness Comparing April to March"
   ]
  },
  {
   "cell_type": "code",
   "execution_count": 32,
   "metadata": {},
   "outputs": [
    {
     "name": "stdout",
     "output_type": "stream",
     "text": [
      "WORD                     Corpus Freq.RC Freq.  Keyness\n",
      "======================================================\n",
      "he                       960       357       96.248\n",
      "states                   1014      406       80.691\n",
      "oil                      119       10        69.635\n",
      "military                 175       28        67.322\n",
      "—                        8392      4837      66.669\n",
      "ventilators              478       165       58.554\n",
      "see                      927       397       57.636\n",
      "jersey                   158       27        57.216\n",
      "farmers                  91        9         49.017\n",
      "they                     3172      1726      47.421\n",
      "antibody                 95        12        43.997\n",
      "it                       4614      2623      43.561\n",
      "million                  484       188       42.536\n",
      "program                  127       24        41.555\n",
      "machines                 83        10        39.692\n",
      "metro                    98        15        39.175\n",
      "infrastructure           65        6         36.318\n",
      "reopen                   72        8         36.253\n",
      "banks                    81        11        35.608\n",
      "did                      609       270       32.781\n"
     ]
    }
   ],
   "source": [
    "calculate_keyness( apr_word_dist,mar_word_dist, top=20)"
   ]
  },
  {
   "cell_type": "markdown",
   "metadata": {},
   "source": [
    "##### Some initial themes:\n",
    "* March has more federal government terms (*president*, *legislation*, *house*, *senate*)\n",
    "* March has more language directly related to coronavirus (*tested*, *risk*, *elderly*, *symptoms*)\n",
    "* April discusses more issues related to the economy (*oil*, *farmers*, *program*, *machines*, *infrastructure*, *banks*)\n",
    "\n",
    "\n",
    "######  Explanations for these Results\n",
    "It makes sense that the House and Senate were discussed more in March. On March 26, 2020, Congress passed a $2 trillion economic relief package, which many Americans were depending on. \n",
    "\n",
    "The initial narrative was that the coronavirus is only truly harmful for the elderly, but with more data that myth has been dispelled, because younger people have died from the coronavirus. This is why *elderly* is key in March but not in April. \n",
    "\n",
    "It also makes sense that the military is discussed more in April, because the National Guard has been deployed to hot spots like New York City to help.\n",
    "\n",
    "In April, Donald Trump also discussed bailing out the oil industry.\n",
    "\n",
    "There was a national debate in April on when to reopen the states. Some argue that there is not a serious threat it more rural areas where they live and they should not have to financially suffer. Others argue that staying home is what has been able to \"flatten the curve\" in most place and if we lift restrictive measures to early, the initial staying home period will have been for nothing and the virus will come back strong."
   ]
  },
  {
   "cell_type": "markdown",
   "metadata": {},
   "source": [
    "## Exploring Topics Further Using Collocation Analysis"
   ]
  },
  {
   "cell_type": "markdown",
   "metadata": {},
   "source": [
    "One word that I wanted to explore further is **available**. It has a keyness score of 71.496 in March. Throughout the pandemic, there has been a widespread fear of scarcity, ranging from things like tests to toilet paper. People are worried that there will not be enough of what they need. What is available gives a lot of indication to the severity of the problem. I wanted to explore what the Trump Administration was referring to when they said **available** and if that changed at all from March to April."
   ]
  },
  {
   "cell_type": "markdown",
   "metadata": {},
   "source": [
    "### March \"available\" Collocates"
   ]
  },
  {
   "cell_type": "code",
   "execution_count": 79,
   "metadata": {},
   "outputs": [],
   "source": [
    "mar_colls_available = Counter()\n",
    "mar_colls_available.update(collocates(mar_tokens,'available', [4,0]))"
   ]
  },
  {
   "cell_type": "code",
   "execution_count": 80,
   "metadata": {},
   "outputs": [
    {
     "data": {
      "text/plain": [
       "[('that', 43),\n",
       " ('testing', 30),\n",
       " ('is', 29),\n",
       " ('be', 28),\n",
       " ('are', 27),\n",
       " ('make', 27),\n",
       " ('to', 26),\n",
       " ('tests', 25),\n",
       " ('will', 24),\n",
       " ('the', 21),\n",
       " ('and', 21),\n",
       " ('more', 16),\n",
       " ('of', 16),\n",
       " ('those', 14),\n",
       " ('have', 12),\n",
       " ('made', 8),\n",
       " ('making', 8),\n",
       " ('now', 8),\n",
       " ('these', 7),\n",
       " ('with', 7),\n",
       " ('test', 7),\n",
       " ('we', 6),\n",
       " ('it', 6),\n",
       " ('masks', 6),\n",
       " ('that’s', 6),\n",
       " ('for', 5),\n",
       " ('this', 5),\n",
       " ('going', 5),\n",
       " ('sure', 5),\n",
       " ('they', 5)]"
      ]
     },
     "execution_count": 80,
     "metadata": {},
     "output_type": "execute_result"
    }
   ],
   "source": [
    "mar_colls_available.most_common(30)"
   ]
  },
  {
   "cell_type": "markdown",
   "metadata": {},
   "source": [
    "### April \"available\" Collocates"
   ]
  },
  {
   "cell_type": "code",
   "execution_count": 81,
   "metadata": {},
   "outputs": [],
   "source": [
    "apr_colls_available = Counter()\n",
    "apr_colls_available.update(collocates(apr_tokens,'available', [4,0]))"
   ]
  },
  {
   "cell_type": "code",
   "execution_count": 82,
   "metadata": {},
   "outputs": [
    {
     "data": {
      "text/plain": [
       "[('that', 28),\n",
       " ('be', 17),\n",
       " ('those', 14),\n",
       " ('the', 14),\n",
       " ('make', 13),\n",
       " ('is', 12),\n",
       " ('are', 11),\n",
       " ('and', 11),\n",
       " ('to', 10),\n",
       " ('we', 10),\n",
       " ('have', 10),\n",
       " ('will', 10),\n",
       " ('tests', 8),\n",
       " ('made', 7),\n",
       " ('this', 6),\n",
       " ('of', 6),\n",
       " ('testing', 5),\n",
       " ('best', 4),\n",
       " ('information', 4),\n",
       " ('all', 4),\n",
       " ('—', 4),\n",
       " ('ventilators', 4),\n",
       " ('additional', 3),\n",
       " ('million', 3),\n",
       " ('capacity', 3),\n",
       " ('also', 3),\n",
       " ('were', 3),\n",
       " ('on', 3),\n",
       " ('in', 3),\n",
       " ('can', 3)]"
      ]
     },
     "execution_count": 82,
     "metadata": {},
     "output_type": "execute_result"
    }
   ],
   "source": [
    "apr_colls_available.most_common(30)"
   ]
  },
  {
   "cell_type": "markdown",
   "metadata": {},
   "source": [
    "###### Testing\n",
    "**Testing** and **tests** are commons words used around **available** in both months, although they are used more frequently in March.\n",
    "Tests is one of the things the Trump Administration has received a lot of background for regarding the coronavirus. Donald Trump famously told reporters on March 6, \"Anybody that wants a test can get a test.\" However, this was not the case. As of May 7, the COVID Tracking Project estimates that over 8.1 million people in the United States have now been tested.  That is approximately 2.4% of the US population. The press is aware of this failure to deliver, so they often ask him about the status of testing, which explains why it appears in both March and April. \n",
    "\n",
    "###### Masks\n",
    "The word **Masks** was used often with the word **available** in March but not in April. There was a great change in rhetoric regarding masks from March to April. In March, there was a shortage of N-95 masks and it became a large problem because healthcare workers had to reuse masks, which put them at an unnecessary risk of exposure. Masks and other personal protective equipment became things the public was advised not to buy. Now, there is not a mask shortage anymore. In a number of counties masks are required for everyone leaving the home. Many stories have rules that you cannot enter without a mask. What once was supposed to be saved for the people who need it most are now required for all. This makes sense why **masks** was used often with **available** in the press briefings in March but not April.\n",
    "\n",
    "###### Ventilators\n",
    "The word **ventilators**  was used often with the word **available** in April but not in March. There was an initial concern that there would not be enough ventilators for people who are sick in the hospital from coronavirus. However, we do not see ventilators as collocates in March. We see them in April because in April Donald Trump called himself the \"King of Ventilators\" due to his increase in production. Trump claims the the United States has more ventilators than we'll ever need, so he wants to stress that in his press briefings in April.\n"
   ]
  },
  {
   "cell_type": "markdown",
   "metadata": {},
   "source": [
    "## Keyness Analysis of Bigrams"
   ]
  },
  {
   "cell_type": "markdown",
   "metadata": {},
   "source": [
    "In addition to topics addressed, I want to see how the communication style itself changes in order to better understand the communication and leadership style of the Trump Administration. In other words, I want to consider not only what he says but also how he says it.  I think considering the keyness of bigrams could be a bit more useful for this because they can be verb-noun pairings, which are far more informative than verbs and nouns individually."
   ]
  },
  {
   "cell_type": "markdown",
   "metadata": {},
   "source": [
    "### Bigram Keyness Comparing March to April"
   ]
  },
  {
   "cell_type": "code",
   "execution_count": 83,
   "metadata": {},
   "outputs": [
    {
     "name": "stdout",
     "output_type": "stream",
     "text": [
      "WORD                     Corpus Freq.RC Freq.  Keyness\n",
      "======================================================\n",
      "thank you                707       651       80.132\n",
      "vice president:          273       199       60.758\n",
      "the vice                 345       278       59.631\n",
      "mr vice                  116       53        56.411\n",
      "the president            451       413       52.144\n",
      "be tested                40        5         46.974\n",
      "the risk                 44        7         46.944\n",
      "vice president           225       170       45.978\n",
      "will be                  360       339       37.523\n",
      "south korea              64        27        34.152\n",
      "the fda                  100       60        32.787\n",
      "american public          61        26        32.179\n",
      "the senate               46        15        31.531\n",
      "commercial labs          43        13        31.355\n",
      "the house                53        21        30.255\n",
      "let me                   188       157       29.345\n",
      "with regard              46        17        28.155\n",
      "regard to                46        17        28.155\n",
      "of washington            36        10        27.985\n",
      "the american             293       283       27.620\n",
      "last night               56        26        26.701\n",
      "we will                  258       244       26.448\n",
      "private sector           39        14        24.539\n",
      "stay home                26        6         22.866\n",
      "as the                   181       162       22.673\n",
      "the airline              24        5         22.404\n",
      "health and               67        40        22.156\n",
      "you the                  93        66        21.988\n",
      "we’re working            130       106       21.741\n",
      "the private              35        13        21.319\n"
     ]
    }
   ],
   "source": [
    "calculate_keyness(mar_bigram_dist, apr_bigram_dist, top=30)"
   ]
  },
  {
   "cell_type": "markdown",
   "metadata": {},
   "source": [
    "##### Groupings for March Key Bigrams\n",
    "* American Federal Government: \"vice president\", \"the vice\", \"mr vice\", \"the president\", \"vice president\", \"of washington\", \"the senate\", \"the house\", \n",
    "* Verbs: \"be tested\", \"will be\", \"let me\", \"we're working\", \"we will\"\n",
    "* Misc: \"the risk\", \"south korea\", \"last night\", \"as the\", \"you the\", \"health and\", \"the airline\"\n",
    "* Vaccine/ Test: \"the fda\", \"commercial labs\", \"private sector\"\n",
    "* Americans:\"american public\", \"the american\",\"stay home\"\n",
    "* Pleasantries: \"thank you\", \"with regard\", \"regard to\",\"as the\", \"you the\","
   ]
  },
  {
   "cell_type": "markdown",
   "metadata": {},
   "source": [
    "### Bigram Keyness Comparing April to March"
   ]
  },
  {
   "cell_type": "code",
   "execution_count": 38,
   "metadata": {},
   "outputs": [
    {
     "name": "stdout",
     "output_type": "stream",
     "text": [
      "WORD                     Corpus Freq.RC Freq.  Keyness\n",
      "======================================================\n",
      "new jersey               154       27        54.403\n",
      "the president:           2218      1164      45.084\n",
      "— the                    1086      524       38.455\n",
      "he said                  122       26        34.781\n",
      "should have              79        12        31.783\n",
      "states that              102       21        30.315\n",
      "to open                  91        18        28.323\n",
      "the states               200       66        27.301\n",
      "can see                  93        22        23.112\n",
      "what he                  48        6         22.391\n",
      "opening up               48        6         22.391\n",
      "more than                301       124       21.682\n",
      "new orleans              50        7         21.479\n",
      "it was                   492       229       21.096\n",
      "and new                  65        13        19.979\n",
      "it and                   244       97        19.889\n",
      "to reopen                43        6         18.519\n",
      "have enough              39        5         17.875\n",
      "did the                  45        7         17.742\n",
      "no no                    69        16        17.629\n",
      "but he                   58        12        17.138\n",
      "we see                   68        16        17.027\n",
      "a look                   72        18        16.508\n",
      "he didn’t                51        10        16.029\n",
      "in fact                  100       31        15.657\n",
      "you see                  123       42        15.478\n",
      "they’re doing            135       48        15.324\n",
      "president: you           60        14        15.199\n",
      "some of                  302       136       15.163\n",
      "— q                      281       125       14.905\n"
     ]
    }
   ],
   "source": [
    "calculate_keyness(apr_bigram_dist, mar_bigram_dist, top=30)"
   ]
  },
  {
   "cell_type": "markdown",
   "metadata": {},
   "source": [
    "###### Groupings for April Key Bigrams\n",
    "* Specific US states/cities: \"new jersey\", \"new orleans\"\n",
    "* General states: \"states that\", \"the states\", \n",
    "* Third person subject: \"he said\", \"what he\", \"but he\", \"he didn't\", \"they're doing\", \"what he\"\n",
    "* Evaluating: \"can see\", \"have enough\", \"should have\", \"more than\", \"it was\", \"we see\", \"in fact\", \"you see\" \n",
    "* Opening: \"to open\", \"opening up\", \"to reopen\"\n",
    "* Misc: \"no no\",\"- the\", \"it and\", \"did the\", \"a look\", \"president: you\", \"some of\", \"-q\""
   ]
  },
  {
   "cell_type": "markdown",
   "metadata": {},
   "source": [
    "### Findings from March and April Bigrams: \n",
    "\n",
    "Bigrams in March are more key than bigrams in April, meaning March bigrams are especially unique to March.\n",
    "\n",
    "Some themes were reinforced from word keyness: \n",
    "* There are more bigrams about Federal Government in March\n",
    "* There are more bigrams about states and opening in April\n",
    "* In March there was more talk of developing tests/ vaccines \n",
    "    \n",
    "In April there is more language used for evaluating or assessing. The tone shifts to correct what the Trump Administration believes to be false, initial assumptions.\n",
    "\n",
    "With bigram keyness, we see mor verbs than word keyness. Verbs that are key in March appear to mainly be in the future tense, while verbs in April appear to be in the present and past. This indicates that there is less of a plan coming from the Trump Administration in April. Also, pronouns in March appear to be generally first person, while pronouns in April appear to by generally third person. This suggests that there is a shift in responsibility of the pandemic from first to third person. "
   ]
  },
  {
   "cell_type": "markdown",
   "metadata": {},
   "source": [
    "## Exploring Topics Further Using Concordance Analysis:"
   ]
  },
  {
   "cell_type": "markdown",
   "metadata": {},
   "source": [
    "We can use concordance analysis to further explore some of the things we found in keyness analysis. I am interested in the idea of responsibility and ownership. In March, most of the key pronouns are in the first person, but in April most of the pronouns used are in the third person. That means in March the Trump Administration was using words like *I* and *we* at a higher normalized frequency in March. In April, the Trump Administration was using words like *he* and *they* at a higher normalized frequency. This means the subject of the coronavirus response has shifted in responsibility from the White House to others. Another way to test this hypothesis is to consider how the bigram *should have*, which was key in April, was used. Let's consider this bigram in context:"
   ]
  },
  {
   "cell_type": "code",
   "execution_count": 39,
   "metadata": {},
   "outputs": [],
   "source": [
    "apr_kwic_shouldhave = make_kwic2(\"should have\", apr_tokens, win=6)"
   ]
  },
  {
   "cell_type": "code",
   "execution_count": 88,
   "metadata": {},
   "outputs": [
    {
     "name": "stdout",
     "output_type": "stream",
     "text": [
      "        there’s other tests that other americans  should have  and i think this has really\n",
      "                         the way we have now and  should have  — the private sector who clearly\n",
      "                  know i don’t think the captain  should have  been writing letters he’s not ernest\n",
      "                 on in this country this country  should have  voter id okay let’s do another\n",
      "           president: well — well look governors  should have  had ventilators; they chose not to\n",
      "                     have sent that letter or he  should have  gone through his chain of command\n",
      "                     met with them many times he  should have  never met with them and in\n",
      "               happy with the president?” “no he  should have  given us 10000” that’s what’s happening\n",
      "                    anybody in this room what he  should have  done and i’m sure he feels\n",
      "              is what every department of health  should have  because when you go to that\n",
      "             your staff or peter navarro himself  should have  told you about the memo earlier?\n",
      "            most vulnerable by now nursing homes  should have  suspended the entry of all medically\n",
      "                 say made “mistakes” but maybe i  should have  really tried to delve into that\n",
      "                      is that a mistake? maybe i  should have  been able to realize that earlier\n",
      "                       you’re like “oh my gosh i  should have  never done that” and that’s the\n",
      "                     the way some people think i  should have  waited longer and maybe ridden it\n",
      "                          build it to a level it  should have  taken a year it should’ve taken\n",
      "                      and i was angry because it  should have  been told to us it should\n",
      "                           — it should be and it  should have  always been and i’ve always said\n",
      "                away with absolute murder and it  should have  never happened q what about fighting\n",
      "                it should have never happened it  should have  never left that little area where\n",
      "                         have been told to us it  should have  been told to us early it\n",
      "                        been told to us early it  should have  been told to us a lot\n",
      "              it “death” that was unnecessary it  should have  never happened it should have never\n",
      "                made a deal that president obama  should have  never made it was a short-term\n",
      "    things about china world health organization  should have  told us but i was reading\n",
      "           something that frankly i think people  should have  thought of a long time ago\n",
      "                     the bottom of it but people  should have  — q angry with china? or\n",
      "           not saying anything i’m saying people  should have  told us about this they should\n",
      "              well it’s not enough the president  should have  sent more” so he’s asking for\n",
      "                        — i don’t think the ship  should have  been stopping in vietnam when you\n",
      "             recommended — said that every state  should have  stay-at-home orders right now do you\n",
      "             didn’t have them because the states  should have  had them no one who has\n",
      "                 have — the hospitals the states  should have  bought a stockpile they didn’t do\n",
      "         all this equipment ideally those states  should have  had all this equipment and i\n",
      "                stockpiles by the way the states  should have  been building their stockpile we have\n",
      "          worth of our agricultural product that  should have  a huge impact on our farmers\n",
      "                situation that was caused — that  should have  been solved long ago it could\n",
      "                       at a group of people that  should have  stopped it at the source but\n",
      "                       have a lot of things that  should have  been had and you can read\n",
      "               one day because of something that  should have  never been allowed to happen we\n",
      "          badly need in this administration that  should have  been approved a long time ago\n",
      "                     the world and we think that  should have  happened so we’ll let you know\n",
      "                    have told us about this they  should have  told the rest of the world\n",
      "                   bridges are in bad shape they  should have  been fixed 25 years ago and\n",
      "             states where they belong where they  should have  never left what happens if you’re\n",
      "                 a certain country did what they  should have  done and we’re just starting to\n",
      "                     what they should do is they  should have  — long before this pandemic arrived\n",
      "                  those two in either event they  should have  let us go in you know\n",
      "           they’re all really happy because they  should have  been doing this work themselves for\n",
      "                 that they didn’t have that they  should have  had we just got them hospital\n",
      "               have been looking into china they  should have  been looking into china as an\n",
      "                  they would have known and they  should have  known and they probably did know\n",
      "          long before this pandemic arrived they  should have  been on the open market just\n",
      "                        to a late start and they  should have  pushed harder but governors and other\n",
      "                   to the united states and they  should have  never been allowed — this should\n",
      "              fill up their stockpile which they  should have  new york had a chance to\n",
      "              build up the stockpiles which they  should have  had in the states and so\n",
      "               more ventilators at the time they  should have  had more ventilators they were totally\n",
      "              don’t know what they’re doing they  should have  had their own stockpiles and now\n",
      "                     never have to use them they  should have  — the hospitals the states should\n",
      "                        you got to vote and they  should have  voter id by the way if\n",
      "                    it with or without them they  should have  known all they had to do\n",
      "                should be called “voter id” they  should have  that and it shouldn’t be mail-in\n",
      "                 these not states that you think  should have  those stay-at-home orders in place? the\n",
      "                  have never been allowed — this  should have  never been allowed to happen when\n",
      "                            do this — to do this  should have  taken — q and does the\n",
      "                       phase four and i think we  should have  infrastructure and i think we should\n",
      "              have infrastructure and i think we  should have  a payroll tax moratorium because that’s\n",
      "                        system — first of all we  should have  voter id when you vote you\n",
      "                        per week do you think we  should have  before the economy is open sir?\n",
      "                 states who didn’t have them who  should have  had them and we’re also going\n",
      "                       vote at the booth and you  should have  voter id because when you have\n",
      "                         but on many of them you  should have  a picture on your — on\n",
      "                     the media would say “oh you  should have  done two for each person” no\n",
      "                      voter id when you vote you  should have  voter id and if you send\n",
      "                   same thing about you that you  should have  warned them the virus was spreading\n",
      "                   him? the president: you — you  should have  no complaints please q thank you\n",
      "            say “how’s the president doing?” “he  should have  given more” because that’s politics that’s\n"
     ]
    }
   ],
   "source": [
    "print_kwic(sort_kwic(apr_kwic_shouldhave, order= ['L1']))"
   ]
  },
  {
   "cell_type": "markdown",
   "metadata": {},
   "source": [
    "Only a few of these have the word *we* and *I* immediately before *should have*. The rare ocassions where the word preceding **should have** is \"I\", he uses words like \"maybe I should have\" or some people think I should have\". He doesn't really take responsibility for these errors.  Most of the subjects are *they*, *you* or some other subjects including *governors* and *obama.* "
   ]
  },
  {
   "cell_type": "code",
   "execution_count": 41,
   "metadata": {},
   "outputs": [],
   "source": [
    "mar_kwic_shouldhave = make_kwic2(\"should have\", mar_tokens, win=6)"
   ]
  },
  {
   "cell_type": "code",
   "execution_count": 89,
   "metadata": {},
   "outputs": [
    {
     "name": "stdout",
     "output_type": "stream",
     "text": [
      "               american — i think every american  should have  a grateful heart first and foremost\n",
      "                       up to half of the country  should have  caution before traveling? and if that’s\n",
      "            talking about the ventilators but he  should have  ordered the ventilators and he had\n",
      "              next italy? the president: well he  should have  — you know the hospital systems\n",
      "                         how it comes out but it  should have  been — well it’s like —\n",
      "               you did all those divisions italy  should have  close to 400000 deaths they’re not\n",
      "               that were right here because they  should have  never allowed it to happen but\n",
      "                         to all of them but they  should have  told us about this and i\n",
      "                     they knew about it and they  should have  told us we could have saved\n",
      "        focus on critical infrastructure jobs we  should have  that guidance before the president and\n",
      "            cdc-approved tests are moving out we  should have  2500 kits out before the end\n",
      "                 epidemic the way people said we  should have  tackled flu in 1918 and they\n"
     ]
    }
   ],
   "source": [
    "print_kwic(sort_kwic(mar_kwic_shouldhave, order= ['L1']))"
   ]
  },
  {
   "cell_type": "markdown",
   "metadata": {},
   "source": [
    "In march there were only 12 occurences of the bigram *should have* and none of them were that suprising. It makes sense that there are more instances of this bigram because it is in the past tense, and in March less time has gone by for the Trump Administration to reflect on things that should have happened."
   ]
  },
  {
   "cell_type": "markdown",
   "metadata": {},
   "source": [
    "## Exploring Further Using Lexicon-based Sentiment Analysis"
   ]
  },
  {
   "cell_type": "markdown",
   "metadata": {},
   "source": [
    "I want to further explore my hypothesis that the Trump Administration is shifting responsibility/ blame to other parties. In order to do this, I am going to perform a sentiment analysis on the words surrounding the pronouns \"we\" and \"he\".  We know from keyness analysis that \"he\" was the most key word in April. We also know that bigrams that included we (we're working, we will) are key in March. I made some alterations to the make_kwic function in order to do this, which I have included in the functions notebook.\n",
    "\n",
    "The VADER sentiment lexicon is sensitive both the polarity and the intensity of sentiments expressed in social media contexts, but is also generally applicable to sentiment analysis in other domains.\n",
    "\n",
    "VADER's Methodology:\n",
    "> Sentiment ratings from 10 independent human raters (all pre-screened, trained, and quality checked for optimal inter-rater reliability). Over 9,000 token features were rated on a scale from \"[–4] Extremely Negative\" to \"[4] Extremely Positive\", with allowance for \"[0] Neutral (or Neither, N/A)\". We kept every lexical feature that had a non-zero mean rating, and whose standard deviation was less than 2.5 as determined by the aggregate of those ten independent raters. This left us with just over 7,500 lexical features with validated valence scores that indicated both the sentiment polarity (positive/negative), and the sentiment intensity on a scale from –4 to +4.\n",
    "\n",
    "Therefore, even thought these corpora are different sizes, we do not need to consider the average because negative words are associated with a negative score. This means that a large corpus does not have a higher opportunity to score higher because with each word there is also the opportunity for a negative score.\n",
    "\n",
    "\n",
    "Beyond the shift in normalized frequency of these pronouns, let's see if there is a change to the context these pronouns are in. "
   ]
  },
  {
   "cell_type": "markdown",
   "metadata": {},
   "source": [
    "### Pronouns"
   ]
  },
  {
   "cell_type": "markdown",
   "metadata": {},
   "source": [
    "##### He v. We  in March"
   ]
  },
  {
   "cell_type": "code",
   "execution_count": 43,
   "metadata": {},
   "outputs": [],
   "source": [
    "mar_kwic_he= make_kwic_as_text(\"he\", mar_tokens, win=6)"
   ]
  },
  {
   "cell_type": "code",
   "execution_count": 44,
   "metadata": {},
   "outputs": [],
   "source": [
    "mar_kwic_he_sidscore = []\n",
    "for item in mar_kwic_he:\n",
    "    for tok in item:\n",
    "        score = sid.lexicon.get(tok,0)\n",
    "    mar_kwic_he_sidscore.append(score)"
   ]
  },
  {
   "cell_type": "code",
   "execution_count": 45,
   "metadata": {},
   "outputs": [
    {
     "data": {
      "text/plain": [
       "19.300000000000004"
      ]
     },
     "execution_count": 45,
     "metadata": {},
     "output_type": "execute_result"
    }
   ],
   "source": [
    "sum(mar_kwic_he_sidscore)"
   ]
  },
  {
   "cell_type": "markdown",
   "metadata": {},
   "source": [
    "A score of 19.3 means the word he was generally used in a positive context in March."
   ]
  },
  {
   "cell_type": "code",
   "execution_count": 46,
   "metadata": {},
   "outputs": [],
   "source": [
    "mar_kwic_we= make_kwic_as_text(\"we\", mar_tokens, win=6)"
   ]
  },
  {
   "cell_type": "code",
   "execution_count": 47,
   "metadata": {},
   "outputs": [],
   "source": [
    "mar_kwic_we_sidscore = []\n",
    "for item in mar_kwic_we:\n",
    "    for tok in item:\n",
    "        score = sid.lexicon.get(tok,0)\n",
    "    mar_kwic_we_sidscore.append(score)"
   ]
  },
  {
   "cell_type": "code",
   "execution_count": 95,
   "metadata": {},
   "outputs": [
    {
     "data": {
      "text/plain": [
       "0.041079865016872934"
      ]
     },
     "execution_count": 95,
     "metadata": {},
     "output_type": "execute_result"
    }
   ],
   "source": [
    "sum(mar_kwic_we_sidscore) / len(mar_kwic_we_sidscore)"
   ]
  },
  {
   "cell_type": "markdown",
   "metadata": {},
   "source": [
    "We knew that the word *we* was used a lot during March. A score of 182.6 shows that it was in a positive context most of the time. It is significantly higher than the *he* score meaning the word *we* was used by the Trump Administration not only more often, but also in a nicer way."
   ]
  },
  {
   "cell_type": "markdown",
   "metadata": {},
   "source": [
    "##### He v. We in April"
   ]
  },
  {
   "cell_type": "code",
   "execution_count": 49,
   "metadata": {},
   "outputs": [],
   "source": [
    "apr_kwic_he= make_kwic_as_text(\"he\", apr_tokens, win=6)"
   ]
  },
  {
   "cell_type": "code",
   "execution_count": 50,
   "metadata": {},
   "outputs": [],
   "source": [
    "apr_kwic_he_sidscore = []\n",
    "for item in apr_kwic_he:\n",
    "    for tok in item:\n",
    "        score = sid.lexicon.get(tok,0)\n",
    "    apr_kwic_he_sidscore.append(score)"
   ]
  },
  {
   "cell_type": "code",
   "execution_count": 94,
   "metadata": {},
   "outputs": [
    {
     "data": {
      "text/plain": [
       "0.05656249999999998"
      ]
     },
     "execution_count": 94,
     "metadata": {},
     "output_type": "execute_result"
    }
   ],
   "source": [
    "sum(apr_kwic_he_sidscore)  / len(apr_kwic_he_sidscore)"
   ]
  },
  {
   "cell_type": "markdown",
   "metadata": {},
   "source": [
    "The word *he* was used in a net positive context because it is greater than 0. However, given that *he* was the most key word in April (used 960 times) and that he can refer to a number of other people, I would expect a higher score. "
   ]
  },
  {
   "cell_type": "code",
   "execution_count": 52,
   "metadata": {},
   "outputs": [],
   "source": [
    "apr_kwic_we= make_kwic_as_text(\"we\", apr_tokens, win=6)"
   ]
  },
  {
   "cell_type": "code",
   "execution_count": 53,
   "metadata": {},
   "outputs": [],
   "source": [
    "apr_kwic_we_sidscore = []\n",
    "for item in apr_kwic_we:\n",
    "    for tok in item:\n",
    "        score = sid.lexicon.get(tok,0)\n",
    "    apr_kwic_we_sidscore.append(score)"
   ]
  },
  {
   "cell_type": "code",
   "execution_count": 96,
   "metadata": {},
   "outputs": [
    {
     "data": {
      "text/plain": [
       "0.04335741206030155"
      ]
     },
     "execution_count": 96,
     "metadata": {},
     "output_type": "execute_result"
    }
   ],
   "source": [
    "sum(apr_kwic_we_sidscore) / len(apr_kwic_we_sidscore)"
   ]
  },
  {
   "cell_type": "markdown",
   "metadata": {},
   "source": [
    "The score is 276.1. This is a large increase from March. The Trump Administration's rhetoric about itself becomes more positive over time. I think this is likely because of the criticism the Trump Administration has amassed for various reasons regarding the coronavirus response. They highlight their accomplishments more as criticism grows.\n",
    "\n",
    "It is also a much larger than the score of *he* in the same month. That means holding time constant, the Trump Administration speaks much more highly of themselves than of others. "
   ]
  },
  {
   "cell_type": "markdown",
   "metadata": {},
   "source": [
    "### Promises to the People"
   ]
  },
  {
   "cell_type": "markdown",
   "metadata": {},
   "source": [
    "Let's also consider the sentiment of the promises from the Trump Administration. The bigram **we will** was key in March but not in April. This bigram will give us insight into if and how the the promises evolve."
   ]
  },
  {
   "cell_type": "markdown",
   "metadata": {},
   "source": [
    "#### March"
   ]
  },
  {
   "cell_type": "code",
   "execution_count": 98,
   "metadata": {},
   "outputs": [],
   "source": [
    "mar_kwic_wewill= make_kwic2(\"we will\", mar_tokens, win=6)"
   ]
  },
  {
   "cell_type": "code",
   "execution_count": 99,
   "metadata": {},
   "outputs": [
    {
     "name": "stdout",
     "output_type": "stream",
     "text": [
      "                       of our people i know that  we will  achieve victory and quickly return to\n",
      "                    fault we want to protect and  we will  all of the things that a\n",
      "                   to making that data public so  we will  all know? dr birx: we’re committed\n",
      "               something that i hope — hopefully  we will  all have made the right moves\n",
      "                   earth and in the coming weeks  we will  all have to make changes and\n",
      "                    than we were even before and  we will  also have apparatus in place that\n",
      "                    on a program to address that  we will  also be working with small businesses\n",
      "                   put in a great healthcare and  we will  always — i will say this\n",
      "                        is yes and the answer is  we will  always maintain a solvent social security\n",
      "                 listens to the governors and so  we will  assess at the end of the\n",
      "                will only do it with preexisting  we will  back preexisting conditions okay thank you\n",
      "         this whole nightmare will end therefore  we will  be extending our guidelines to april\n",
      "                   to slow the spread on tuesday  we will  be finalizing these plans and providing\n",
      "                     can expect that by june 1st  we will  be well on our way to\n",
      "        rebound with astonishing force and speed  we will  be stronger than ever and we\n",
      "                     all those changes of ppe so  we will  be implementing that this week which\n",
      "                     with all that we’re doing —  we will  be tomorrow at the hospital boat\n",
      "                       it’s also big for jobs so  we will  be able to handle united and\n",
      "              a robust menu of courses virtually  we will  be adding that information to our\n",
      "    letter to america’s governors describing how  we will  be using the data to update\n",
      "                    for those that don’t have it  we will  be having the checks in the\n",
      "               will never be a supplicant nation  we will  be a proud prosperous independent and\n",
      "              will embrace commerce with all but  we will  be dependent on none above all\n",
      "           still working on our backlog although  we will  be in touch with the laboratories\n",
      "              the disease across the country and  we will  be using data to recommend new\n",
      "   and other personal protective equipment which  we will  be distributing to medical hotspots we’re\n",
      "                      to go with their local dmv  we will  be announcing the new deadline very\n",
      "who’ve submitted major disaster declarations that  we will  be reviewing them in an expeditious\n",
      "                      we may quarantine — i mean  we will  be quarantine — quarantining many people\n",
      "              right thing and i think ultimately  we will  be rewarded because of the decision\n",
      "                       time we all know that but  we will  be totally victorious we will then\n",
      "                     a great burden right now so  we will  be talking about that further but\n",
      "                   — it’s an invisible enemy and  we will  be successful — very successful —\n",
      "          hope this morning has been informative  we will  be back again tomorrow and i\n",
      "             are you thinking of? the president:  we will  be helping the airline industry we\n",
      "            will be helping the airline industry  we will  be helping the cruise ship industry\n",
      "               i can’t state it strongly enough:  we will  be helping small businesses that’s where\n",
      "                         of the — of the country  we will  be helping small businesses q these\n",
      "                       it it’s prepared to go so  we will  be invoking the defense production act\n",
      "                      that would be the case and  we will  be — it’s being signed it’s\n",
      "             increase that to $300 billion which  we will  be doing now let me just\n",
      "                industry and we’ll be doing that  we will  be doing that this is not\n",
      "                    do what we’re doing and what  we will  be doing admirar giroir: and let\n",
      "                        people per day we will —  we will  be at the tens of thousands\n",
      "                    is our total sample size and  we will  be getting more data from countries\n",
      "                 and as of midnight monday night  we will  be suspending all travel from the\n",
      "                           let me say as i close  we will  be back in the morning tomorrow\n",
      "                  say that at 5 o’clock tomorrow  we will  be detailing the progress that our\n",
      "               don’t want people to be surprised  we will  be doing a technical correction on\n",
      "              speaker and i have acknowledged it  we will  be working starting immediately the airlines\n",
      "                 we will succeed we will prevail  we will  be very very successful and we’ll\n",
      "              it’s a very important industry and  we will  be helping them and we will\n",
      "                     we will be helping them and  we will  be helping the airline industry if\n",
      "                    if we start doing this today  we will  be ready next year for any\n",
      "                 care of the american public and  we will  be taking care of the american\n",
      "                the president: well i think what  we will  be doing is having a news\n",
      "           informed each of these guidelines but  we will  be providing that this evening in\n",
      "                    thank you all for being here  we will  be back here tomorrow and we’ll\n",
      "                       — we’ll find that out but  we will  be testing everyone on the ship\n",
      "                 be testing everyone on the ship  we will  be quarantining as necessary but with\n",
      "                         midst of a busy day and  we will  be engaged i’m confident in the\n",
      "                         dr birx speak to this —  we will  be meeting tomorrow here at the\n",
      "                  will be issuing a new guidance  we will  be directing all federal government agencies\n",
      "                  you as the vice president said  we will  be focusing all of our state\n",
      "             for the country the vice president:  we will  be back tomorrow as i said\n",
      "              think it’s a terrific question and  we will  bring secretary betsy devos here tomorrow\n",
      "   have capabilities from roche diagnostics that  we will  bring into our facilities this weekend\n",
      "                   have to defeat this virus and  we will  but it cost me billions and\n",
      "              there for everyone to see together  we will  care for our fellow citizens and\n",
      "             i’ll promise the american people is  we will  collect the data and then make\n",
      "                  and that’s what we’ve done and  we will  continue to do it until our\n",
      "              mercy arrived in los angeles today  we will  continue to focus resources and supplies\n",
      "               what we’re going through and what  we will  continue to be going through for\n",
      "                     the spread in new york city  we will  continue to surge resources the president\n",
      "   best scientists and medical professionals and  we will  continue to do so until we\n",
      "               resources i’ve made it clear that  we will  continue to support the administration’s comprehensive\n",
      "             the president’s direction we will —  we will  continue to do whatever it takes\n",
      "             who’s in session right now actively  we will  continue to have conversations with the\n",
      "         public and at the president’s direction  we will  continue not only a whole-of-government approach\n",
      "                focus on the most vulnerable and  we will  continue to urge every american to\n",
      "                  the governor a few moments ago  we will  continue to work very closely with\n",
      "        very closely with his administration and  we will  continue to put the health and\n",
      "            relationship with the fda is ongoing  we will  continue that as we develop more\n",
      "             if we follow this prescription then  we will  decrease the number of people who\n",
      "               number of people who are impacted  we will  decrease the number of people who\n",
      "         contain and ultimately defeat the virus  we will  defeat the virus it will also\n",
      "        single most important asset and together  we will  defeat this invisible curse — this\n",
      "                rally together as one nation and  we will  defeat the virus and we’re going\n",
      "               will of our nation is unbreakable  we will  defeat this threat when america is\n",
      "       availability of ventilators and on monday  we will  detail some very encouraging news for\n",
      "                   the bottom line and quickly —  we will  do what we have to do\n",
      "            power of the american government and  we will  do that and that’s what we’ve\n",
      "                 saying that the answer is “yes”  we will  do those tests because i think\n",
      "                hhs to answer these requests but  we will  do whatever is necessary to get\n",
      "                  some un- — really good promise  we will  do so in a way that\n",
      "                find that we need something that  we will  do that and you don’t know\n",
      "             a very exciting news conference and  we will  do it as quickly as we\n",
      "        government to defeat the coronavirus and  we will  do whatever it takes and we’re\n",
      "                   we look at this and literally  we will  do everything that we can to\n",
      "                      and whatever we need to do  we will  do q mr vice president thank\n",
      "                   — is very very important here  we will  do the best we can eamon\n",
      "                    but within the next 100 days  we will  either make or get in some\n",
      "proud prosperous independent and self-reliant nation  we will  embrace commerce with all but we\n",
      "       dedicate ourselves today the more quickly  we will  emerge on the other side of\n",
      "            like hospitals and nursing homes and  we will  ensure that we can give cities\n",
      "           the need for additional resources and  we will  evaluate those very carefully and i\n",
      "              it out because it’s something that  we will  face we’re not facing it now\n",
      "                     we’re not facing it now but  we will  face — our chinese colleagues are\n",
      "                if we continue with that process  we will  fail in containing this virus so\n",
      "                       in and we share the facts  we will  flatten the curve and we will\n",
      "                 have a good relationship and so  we will  follow the news as you’re bringing\n",
      "            people in this country praying daily  we will  get through this and get back\n",
      "                    going on so it’s likely that  we will  get what’s called an “efficacy signal”\n",
      "              the prayers of the american people  we will  get this done we will —\n",
      "                   q thank you for being patient  we will  get to you we have so\n",
      "       one last encouragement to every american:  we will  get to that day quicker if\n",
      "                   i want americans to know that  we will  get through this challenge the hardship\n",
      "     because of the hospitalization records what  we will  get to as a country with\n",
      "                which are doing testing for whom  we will  get data this week to give\n",
      "                 let’s pull in this together and  we will  get through it i promise you\n",
      "               our state and local officials and  we will  get through this and we will\n",
      "                    we will get through this and  we will  get through this together thank you\n",
      "                  the strength of our people and  we will  get through this all together we\n",
      "               but we’ll refer that question and  we will  get you an answer from the\n",
      "       what were those occasions? the president:  we will  give you that notification we’ll let\n",
      "                  really the fate of our victory  we will  have a great victory we have\n",
      "               because we’ve learned so much but  we will  have lost a lot of people\n",
      "                  will be stronger than ever and  we will  have learned so much where something\n",
      "                          we can do with it that  we will  have some sort of therapy that’ll\n",
      "                delay i will sign it immediately  we will  have a signing and it’ll be\n",
      "                         by the end of next week  we will  have a very simple process where\n",
      "           our expectation is within three weeks  we will  have direct payments out where we\n",
      "              controlled trials of drugs so that  we will  have a menu of drugs that\n",
      "           testing even though probably by today  we will  have done more tests than south\n",
      "                       period and on top of that  we will  have direct deposit checks of roughly\n",
      "             of population infected and you know  we will  have vaccines most likely by the\n",
      "             of california was just received and  we will  have it approved very quickly we’ll\n",
      "       and we remain increasingly confident that  we will  have the ventilators that we need\n",
      "                great people of this country and  we will  have things worked out i think\n",
      "                           need it and we will —  we will  have it all completed signing it\n",
      "     all of the individual hospital laboratories  we will  have that upcoming in the next\n",
      "                  we’re going to be helping them  we will  have a very powerful airline industry\n",
      "                      have to knock out this and  we will  have an economy — i actually\n",
      "                   enough and if it’s not enough  we will  have it by the time we\n",
      "                     as i mentioned as of monday  we will  have more than 2000 labs coming\n",
      "                    per week and maybe even more  we will  have 19 million of these high-throughput\n",
      "             up now implemented during this week  we will  have the capability of testing tens\n",
      "                    roll out over this next week  we will  have a spike in our curve\n",
      "              that sir? the vice president: well  we will  have updated guidelines tomorrow morning for\n",
      "                    point early in the week that  we will  have a website that goes up\n",
      "             countries on all of those maneuvers  we will  have non-california residents who will be\n",
      "              president was referring to is that  we will  have people that test positive and\n",
      "          can access tests those are discussions  we will  have tomorrow and be able to\n",
      "            will protect our most vulnerable and  we will  heal our land and now for\n",
      "            will protect the most vulnerable and  we will  heal our land with that let\n",
      "            will protect our most vulnerable and  we will  heal our land thank you mr\n",
      "             can protect our most vulnerable and  we will  heal our land the president: thank\n",
      "                       are in big trouble so now  we will  hear from our great secretary of\n",
      "                    that are friends of ours and  we will  help those countries we’re in a\n",
      "       continue learning can happen anywhere and  we will  help make sure it does we\n",
      "                   the economy was in good shape  we will  help them and their employees get\n",
      "                  iran and many of the countries  we will  help and we’re willing to as\n",
      "                     so remember what i said and  we will  if we have to call congress\n",
      "       private payroll in small businesses where  we will  immediately make loans that will supply\n",
      "         businesses that have cash flow problems  we will  issue guidelines; you’ll be able to\n",
      "        white house coronavirus task force today  we will  issue new guidance from the cdc\n",
      "              will get through this all together  we will  just get through it so much\n",
      "          what’s called an “efficacy signal” and  we will  know whether or not it actually\n",
      "                    incredible job if we do that  we will  let you know but it’s pretty\n",
      "                     to the actual new cases and  we will  let you know when we have\n",
      "president said eligibility requires worker retention  we will  maintain the people eligible we’ll maintain\n",
      "                 on bipartisan support we will —  we will  make sure that the economy recovers\n",
      "                in the country are precisely how  we will  make coronavirus tests available for your\n",
      "                      and as we learn about that  we will  make advice about travel but right\n",
      "                   as few deaths as possible and  we will  meet again tomorrow for some statistics\n",
      "    a teleconference with the nation’s governors  we will  meet at the national response coordination\n",
      "                      of people who will die and  we will  more quickly get to the end\n",
      "              been very special — something that  we will  never forget that the history books\n",
      "          should demonstrate clearly to all that  we will  not hesitate to use the full\n",
      "                         get this done we will —  we will  not only — we will not\n",
      "                            — we will not only —  we will  not only slow the spread we’ll\n",
      "             and supplies because they know that  we will  not hesitate to invoke the dpa\n",
      "               some people are doing very simply  we will  not allow anyone to exploit the\n",
      "                   love them we’re with them and  we will  not let them down thank you\n",
      "               no getting close during this time  we will  not enforce applicable hipaa penalties so\n",
      "            testings for roche and thermo fisher  we will  now have access in the days\n",
      "                 can get a great healthcare plan  we will  only do it if we have\n",
      "                  it have a great healthcare but  we will  only do it with preexisting we\n",
      "                        the — in the near future  we will  outline a more detailed package for\n",
      "                         a few moments we will —  we will  outline community guidance that dr birx\n",
      "     prioritize our testing to hospital patients  we will  over the next few weeks be\n",
      "                   we will flatten the curve and  we will  overcome this situation so finally my\n",
      " and shared sacrifice and national determination  we will  overcome the threat of the virus\n",
      "              follow this prescription we will —  we will  overcome the coronavirus as dr fauci\n",
      "                       in a nursing home and now  we will  pay for labs to go out\n",
      "                             us to get rid of it  we will  prevail together it’s very important from\n",
      "          love and determination we will succeed  we will  prevail we will be very very\n",
      "            and as governors make these requests  we will  process them bring them to the\n",
      "       support to students families and teachers  we will  propose congress provide micro grants to\n",
      "                    that we will slow the spread  we will  protect our most vulnerable and we\n",
      "                      do we will slow the spread  we will  protect the most vulnerable and we\n",
      "                    that we will slow the spread  we will  protect our most vulnerable and we\n",
      "             enduring a great national trial and  we will  prove that we can meet the\n",
      "         president is 100 percent committed that  we will  provide whatever tools we need that\n",
      "       these critical changes and sacrifices now  we will  rally together as one nation and\n",
      "                         will win and when we do  we will  rebound with astonishing force and speed\n",
      "                        it where you can find it  we will  reimburse you if you buy medical\n",
      "                   have done a fantastic job and  we will  see you all tomorrow thank you\n",
      "                     it started two days ago but  we will  see what happens i want to\n",
      "                 early results that are good but  we will  see and that’s going i think\n",
      "                 now in a high-speed platform so  we will  see the number of people diagnosed\n",
      "                       for over the next 15 days  we will  see a dramatic difference and we\n",
      "                   have not reached our peak now  we will  see more cases and we will\n",
      "                      we will see more cases and  we will  see more suffering and death predominantly\n",
      "                the coronavirus as dr fauci said  we will  see more cases unfortunately we are\n",
      "            capacity over the next several weeks  we will  see increasing demand and we’re trying\n",
      "                american people i just know that  we will  slow the spread we will protect\n",
      "                           do all that we can do  we will  slow the spread we will protect\n",
      "                       this i have no doubt that  we will  slow the spread we will protect\n",
      "                         we had this great — and  we will  soon have again because i think\n",
      "           focusing in on specific locations now  we will  start shipping gear stuff tomorrow we\n",
      "         will start shipping gear stuff tomorrow  we will  start deploying officers tomorrow and tuesday\n",
      "             and hope and love and determination  we will  succeed we will prevail we will\n",
      "                 believe in you to our teachers:  we will  support you and help you you\n",
      "                talking about the same thing yes  we will  test that person because i think\n",
      "                     out of our country but yeah  we will  test those people okay? thank you\n",
      "               but we will be totally victorious  we will  then get our economy up to\n",
      "                     critical we can learn — and  we will  turn a corner on this virus\n",
      "                  later this summer early fall —  we will  unveil another package of tax cut\n",
      "          the president has reflected many times  we will  use the defense production act if\n",
      "                       to make sure as i’ve said  we will  use all the powers we have\n",
      "                    suggested we are trying to —  we will  use assistance to unpaid sick leave\n",
      "                    to provide to the us economy  we will  use all our tools working very\n",
      "       bipartisan agreement on the spending deal  we will  use the same approach to work\n",
      "               it’s a very devastating thing but  we will  vanquish this virus and it’s —\n",
      "                    back to cdc these results so  we will  very quickly get those results the\n",
      "                   easter q that’s april 12th so  we will  watch and see what happens the\n",
      "           the eternal light of american courage  we will  win and when we do we\n",
      "                care for our fellow citizens and  we will  win this war and we’ll win\n",
      "                           we win this war — and  we will  win the war we want to\n",
      "                    solved and it will be solved  we will  win and there will be a\n",
      "              when we’re finished with the virus  we will  win we will win and when\n",
      "                      with the virus we will win  we will  win and when that victory takes\n",
      "            all across this nation i’m confident  we will  with that dr tony fauci for\n",
      "a tremendous breakthrough tremendous breakthrough and  we will  work toward a much-needed vaccine in\n",
      "                 being the highest level — which  we will  work with and we’ve been working\n",
      " an unprecedented challenge unprecedented and so  we will  work to increase the supplies of\n",
      "                   in the list of countries that  we will  you could say ban — or\n",
      "                    people we will get this done  we will  — we will not only —\n",
      "                    is to have a situation where  we will  — we do have disparities in\n",
      "                        things if we need it and  we will  — we will have it all\n",
      "                  know whether or not urgent but  we will  — yeah we do have targets\n",
      "                   no i haven’t seen the article  we will  — we are making a lot\n",
      "  additional orders at the president’s direction  we will  — we will continue to do\n",
      "                from thousands of people per day  we will  — we will be at the\n",
      "           the second step on bipartisan support  we will  — we will make sure that\n",
      "             safe if we follow this prescription  we will  — we will overcome the coronavirus\n",
      "               leadership today in a few moments  we will  — we will outline community guidance\n"
     ]
    }
   ],
   "source": [
    "print_kwic(sort_kwic(mar_kwic_wewill, order= ['R1']))"
   ]
  },
  {
   "cell_type": "code",
   "execution_count": 67,
   "metadata": {},
   "outputs": [],
   "source": [
    "mar_kwic_wewill= make_kwic2_as_text(\"we will\", mar_tokens, win=6)"
   ]
  },
  {
   "cell_type": "code",
   "execution_count": 68,
   "metadata": {},
   "outputs": [],
   "source": [
    "mar_kwic_wewill_sidscore = []\n",
    "for item in mar_kwic_wewill:\n",
    "    for tok in item:\n",
    "        score = sid.lexicon.get(tok,0)\n",
    "    mar_kwic_wewill_sidscore.append(score)"
   ]
  },
  {
   "cell_type": "code",
   "execution_count": 69,
   "metadata": {},
   "outputs": [
    {
     "data": {
      "text/plain": [
       "13.700000000000001"
      ]
     },
     "execution_count": 69,
     "metadata": {},
     "output_type": "execute_result"
    }
   ],
   "source": [
    "sum(mar_kwic_wewill_sidscore)"
   ]
  },
  {
   "cell_type": "markdown",
   "metadata": {},
   "source": [
    "The score is a net positive, but it is quite low given the size of the corpus. That means the promises likely reflect the solemn time of a national emergency."
   ]
  },
  {
   "cell_type": "markdown",
   "metadata": {},
   "source": [
    "#### April"
   ]
  },
  {
   "cell_type": "code",
   "execution_count": 70,
   "metadata": {},
   "outputs": [],
   "source": [
    "apr_kwic_wewill= make_kwic2(\"we will\", apr_tokens, win=6)"
   ]
  },
  {
   "cell_type": "code",
   "execution_count": 71,
   "metadata": {},
   "outputs": [
    {
     "name": "stdout",
     "output_type": "stream",
     "text": [
      "               enduring all of this together and  we will  soon prevail together we’re making a\n",
      "                    will and i feel certain that  we will  then we have to worry about\n",
      "                  texas and we’ve told them that  we will  be staffing those hospitals again above\n",
      "                with and has been persistent and  we will  emphasize to the american people again:\n",
      "                 end users of these products and  we will  continue to do — make all\n",
      "               will end this plague and together  we will  restore the full measure of american\n",
      "                         to see and the only way  we will  see them is if every american\n",
      "                      on the fact that very soon  we will  have an antibody test that americans\n",
      "                   if they need to remain closed  we will  allow them to do that and\n",
      "                     we will need more money and  we will  — we will sit down and\n",
      "               they need and americans have jobs  we will  continue — at the department and\n",
      "                         going to look at it but  we will  look at ending funding q and\n",
      "                  we will do as interagency team  we will  report back to the president and\n",
      "                           could get to and we —  we will  be lower than that number anywhere\n",
      "                    would it be — the president:  we will  let you know when it’s appropriate\n",
      "               if they are asymptomatic and that  we will  be able to deploy resources appropriately\n",
      "                are able to access needed credit  we will  continue working around the clock as\n",
      "   the information? secretary mnuchin: of course  we will  we’ll give you the names as\n",
      "                 every governor on the call that  we will  make all of those laboratories available\n",
      "                     the day will soon come when  we will  heal our land and we’ll be\n",
      "                    the wide open in other cases  we will  be doing that so we’ll be\n",
      "               of different options that i think  we will  have soon and it will be\n",
      "                   it before and we will prevail  we will  win and hopefully it will be\n",
      "               your struggle is our struggle and  we will  beat this virus we will beat\n",
      "                 have more results this week but  we will  be transparent about those results because\n",
      "                          say is let us know and  we will  immediately drop out of the bidding\n",
      "                suckers anymore so it’s cold out  we will  talk to you tomorrow a big\n",
      "                    dollars out and so this week  we will  be putting out another $30 billion\n",
      "     innovative solutions to these hard problems  we will  make progress today we were briefing\n",
      "                   and also early in the morning  we will  end that grant very quickly but\n",
      "                      in colorado that we will —  we will  work to support that effort but\n",
      "            energy we want to remain independent  we will  remain independent i think regardless but\n",
      "                 things don’t happen but i think  we will  be sooner rather than later but\n",
      "              of companies and the employees and  we will  meet any challenges we face by\n",
      "                          say it? q do you think  we will  be on track for that by\n",
      "                    the way we believe they will  we will  have millions on the market by\n",
      "          president the vice president have said  we will  not let that happen we can’t\n",
      "                      so far out that it’s wrong  we will  stop that but in the case\n",
      "               to keep their communities fed and  we will  continue to work with the cdc\n",
      "                    all conditions but we will —  we will  get this done we’re very close\n",
      "      rather large drug development business and  we will  continue to work with our colleagues\n",
      "                      five weeks ago i said that  we will  win based on what the communities\n",
      "   their employer for expressing health concerns  we will  not tolerate retaliation osha will continue\n",
      "                     love new york and every day  we will  be with you and it could\n",
      "              to fight the spread of coronavirus  we will  continue to execute the president’s counter-narcotics\n",
      "        in the most critically vulnerable states  we will  continue to see mortality and deaths\n",
      "        and dedication of every american patriot  we will  win this battle we will defeat\n",
      "                   anthony the 100000 and i hope  we will  all right so today the department\n",
      "                      what we hope and i believe  we will  be successful: if we carefully do\n",
      "                be careful in all conditions but  we will  — we will get this done\n",
      "                  hope and i literally pray that  we will  soon find ourselves on the downslope\n",
      "                     soon but we want 2 trillion  we will  have spent in the middle east\n",
      "        — the commonwealth of massachusetts that  we will  be helping them in their efforts\n",
      "                       what i believe they can —  we will  have and there will be enough\n",
      "               devotion of our people we believe  we will  experience far fewer deaths than even\n",
      "          also today informed the governors that  we will  be deploying cdc teams to every\n",
      "        to safeguard our great american citizens  we will  continue to use every power every\n",
      "                  nobody has discussed it no but  we will  now q have any business executives\n",
      "                     will be doing that and also  we will  be staffing it so the federal\n",
      "                     to make sure that they know  we will  find a way to pay for\n",
      "                     offered this to him: “no no  we will  take the conversation” — where fortunately\n",
      "healthcare providers under the president’s direction  we will  use a portion of that funding\n",
      "                said “okay maybe with this virus  we will  see some sort of net gain\n",
      "                        more money and we will —  we will  sit down and try to get\n",
      "                    believe it is time to reopen  we will  provide them the freedom and guidance\n",
      "                   — what we’ve just gone though  we will  not go through you could have\n",
      "                 to make that decision and maybe  we will  maybe we won’t but we’ll have\n",
      "                       of our god we will endure  we will  overcome we will prevail we have\n",
      "                    days to slow the spread” and  we will  hasten the day that we heal\n",
      "               continue to take the posture that  we will  defer to state and local health\n",
      "             feel confident that sooner or later  we will  get to the point — hopefully\n",
      "                        do a thing like that but  we will  have succeeded in many ways hopefully\n",
      "                   i’ve never seen it before and  we will  prevail we will win and hopefully\n",
      "            will be reimbursed at medicare rates  we will  soon have more specifics on how\n",
      "                     saying first of all is that  we will  have coronavirus in the fall i\n",
      "                   and preparing it now for what  we will  need in the future and i\n",
      "               answer is: it is conceivable that  we will  be able to do that i\n",
      "                   in place that we soon believe  we will  the kind of therapeutics — i\n",
      "                 prevail we have learned so much  we will  be stronger than ever and i\n",
      "                    but — and eventually we’ll —  we will  have that i think it’s important\n",
      "             of schedule and that’s so important  we will  soon finalize new and very important\n",
      "         know how he’s doing relatively speaking  we will  see you’ll probably be hearing in\n",
      "                          we were able to do and  we will  rebuild that economy our economy in\n",
      "                 and prevention of the virus and  we will  keep the american people fully informed\n",
      "                   at the money: $2 trillion and  we will  probably do more i think infrastructure\n",
      "  to create broad-based lending facilities which  we will  do so so our expectation is\n",
      "                  point next fall or next winter  we will  be prepared to deal with it\n",
      "                   of the american public — that  we will  be able to — and it\n",
      "the hardest-hit industries we’re saving industries  we will  be — you’ll be seeing it\n",
      "      no resource — financial medical scientific  we will  not spare anything we’ll get it\n",
      "                     thing when we have that and  we will  have that so with that i’d\n",
      "                    it’s — it’s a terrible thing  we will  be seeing you soon we’ll keep\n",
      "                      modeling this and we are —  we will  get the data to actually look\n",
      "            manhattan and east orange new jersey  we will  be informing the governor of louisiana\n",
      "    americans can defeat any challenger together  we will  rebuild this land that we love\n",
      "        deaths with mitigation it’s looking like  we will  come far under even these lowest\n",
      "                      go the way we’re going now  we will  be significantly less than the lowest\n",
      "                      we will assess it and then  we will  make adjustments from there we may\n",
      "                         to have that for us and  we will  have either a response or maybe\n",
      "         initiate the fourth mission in michigan  we will  be providing the people of michigan\n",
      "                of the numbers for exactly where  we will  be we’re north of 5 million\n",
      "                       again by the end of april  we will  have put well over 5 million\n",
      "                today it is our expectation that  we will  have tested more than 5 million\n",
      "                     we’re trying to do and what  we will  do in the form of mitigation\n",
      "       the american economy and american workers  we will  be doing that q secretary mnuchin\n",
      "          the frontline and first responders but  we will  be rolling that out much more\n",
      "                that’s a great question and what  we will  be doing is monitoring how much\n",
      "                 we will endure we will overcome  we will  prevail we have learned so much\n",
      "                     have in place and i believe  we will  have in place is a much\n",
      "                   lee zeldin out in long island  we will  also be delivering another 200000 n95\n",
      "importantly our dedicated healthcare workers that  we will  be there to meet that need\n",
      "                        now if they do need them  we will  have them there before they need\n",
      "           magnificent destiny that we share and  we will  carry our nation forward to new\n",
      "             the governors’ plans for next month  we will  easily double that 4 million number\n",
      "              you could speak about exactly when  we will  reach the point that some of\n",
      "                    that we’re going to send out  we will  have over 15 million tubes of\n",
      "                    going to let that happen and  we will  — they’ll shoot them out of\n",
      "                      i think as we move forward  we will  become more and more protective of\n",
      "                 every one of the governors that  we will  be deploying teams we think of\n",
      "               with this going back to normality  we will  have in place the capability of\n",
      "               again i have confidence that what  we will  see is the turning around of\n",
      "                  and fake news about this virus  we will  work with the world’s largest oil\n",
      "              that together we will win together  we will  solve this problem and move on\n",
      "                them by wednesday — on wednesday  we will  be launching at irsgov click on\n",
      "            into effect which essentially is now  we will  never have been so focused on\n",
      "             and loyalty for our fellow citizens  we will  safeguard our families care for our\n",
      "                 keep on fighting to victory and  we will  secure the glorious future that our\n",
      "               possible to develop like this and  we will  conquer the disease and restore our\n",
      "                      can be found at sbagov and  we will  be updating these resources regularly our\n",
      "            everyone to have that assurance that  we will  provide you what you need over\n",
      "                     i was glad to announce that  we will  begin to reopen our national parks\n",
      "                            we — where we are so  we will  — according to the governors’ plans\n",
      "                    do if we see something wrong  we will  be expressing ourselves very strongly please\n",
      "                      when we get back to normal  we will  go back gradually to the point\n",
      "      this could happen we’re building thousands  we will  fairly soon be at a point\n",
      "            providing that data very shortly but  we will  be doing that analysis the president:\n",
      "malign activities under president trump’s leadership  we will  continue to execute our maximum pressure\n",
      "                       as we continue to do that  we will  hasten the day that we put\n",
      "                      you all a good evening and  we will  be back tomorrow and — q\n",
      "              issues overnight but i promise you  we will  work with your communities to quickly\n",
      "                 about it but they weren’t there  we will  talk about it at the right\n",
      "             be extremely clear about one point:  we will  move heaven and earth to safeguard\n",
      "                 the country are stepping up and  we will  get through this together at sba\n",
      "        address volatility in global oil markets  we will  always protect our servicemen and servicewomen\n",
      "            designing that like every other bill  we will  work with senators on both sides\n",
      "                       the point of the need and  we will  continue to do just that so\n",
      "                     shows up in four months and  we will  deliver on that promise q so\n",
      "                 way so we’re helping mexico out  we will  be reimbursed in a form sometime\n",
      "                   they’re the best in the world  we will  take every action and we’ll spare\n",
      "                as we talked about earlier today  we will  be able to supply every state\n",
      "                   the minimum side then i think  we will  have — hey look it’s still\n",
      "            to encourage people in colorado that  we will  — we will work to support\n",
      "      war on anti-narcotics? the president: yeah  we will  not be happy if that takes\n",
      "                   than they would have been and  we will  do that we have tremendous talent\n",
      "               the last four weeks is incredible  we will  also continue to expand our testing\n",
      "                 folks that’s great dr fauci and  we will  — oh how are you? thank\n",
      "             easily double that 4 million number  we will  have over 20 million swabs that\n",
      "                 on the clinical trials and when  we will  be getting a readout of that\n",
      "             manner that their states reopen and  we will  look to support them in that\n",
      "      economy to support hardworking americans —  we will  work with congress to get that\n",
      "           problem than a mechanical problem but  we will  be making a determination on that\n",
      "                   when the next fall comes that  we will  have a vast array so that\n",
      "                         we get to the fall that  we will  have this under control enough that\n",
      "                       need to have in place and  we will  have that in place is that\n",
      "                we will get through this america  we will  get through the coronavirus to that\n",
      "                   you an idea the supplies that  we will  be providing to states — the\n",
      "              upcoming fall and winter season so  we will  not need to resort to the\n",
      "                      will look at the facts and  we will  give people recommendations based on the\n",
      "     clear in understanding the certification so  we will  give people the benefit of the\n",
      "                     them — many academics — and  we will  be including that information and the\n",
      "              town or a specific community here”  we will  do — and that’s what the\n",
      "                          three x four x so that  we will  be absolutely over prepared when the\n",
      "                        but if they can’t get it  we will  take care of it yesterday the\n",
      "               providing tests at the level that  we will  need them for any of the\n",
      "             allow instead of a blanket shutdown  we will  pursue a focus on sheltering the\n",
      "                     best tests in the world and  we will  be working very much with the\n",
      "                  may and more than 120000 total  we will  have by the end of the\n",
      "          them with very low-grade symptoms what  we will  be triangulating for you is the\n",
      "                over the next several weeks that  we will  see potential to go under the\n",
      "                 acute care over the coming days  we will  be making a push to the\n",
      "                exxon mobil i informed them that  we will  be making space available in the\n",
      "                 will care for our neighbors and  we will  unleash the full might of the\n",
      "                     we must not let that happen  we will  never let that happen today the\n",
      "            we’re the united states military and  we will  defend our country regardless of the\n",
      "                            have a job to do and  we will  continue to do it: defend the\n",
      "                  back we’re way pulled back but  we will  have spent $8 trillion in the\n",
      "            don’t continue to maintain that that  we will  have a resurgence right within the\n",
      "                  to have in place and hopefully  we will  at the time that we then\n",
      "             that shake shack returned the money  we will  be putting out some faqs there\n",
      "                      once we get done with that  we will  review with the president if there\n",
      "          cases hopefully that will continue and  we will  continue to make great progress these\n",
      "                        we need it for the virus  we will  be using it for that they’d\n",
      "               to grow faster than that together  we will  win together we will solve this\n",
      "             the american people and ensure that  we will  have the resources to meet this\n",
      "                            so i think we will —  we will  come up with things as time\n",
      "                       want to comment on it but  we will  be saving that for another time\n",
      "          capacity even further beginning in may  we will  install testing capabilities in up to\n",
      "                      saying is that in the fall  we will  be much much better prepared to\n",
      "        concerned about the most vulnerable then  we will  have to have increased testing to\n",
      "                    good job but we’ve done more  we will  continue to work with governors to\n",
      "                     not — i’m not playing games  we will  pull out if we have to\n",
      "         us public health service announced that  we will  give an option to states to\n",
      "                      beating it yet but i think  we will  have a very good chance to\n",
      "                    will get a good vaccine that  we will  never have to get back to\n",
      "          here and kill additional americans and  we will  marshal whatever assets are required to\n",
      "            mr president? the president: i think  we will  yeah i think we’re going to\n",
      "            information this week about that and  we will  provide that information in a transparent\n",
      "                          we do have — i believe  we will  have roughly four separate clinical trials\n",
      "        louisiana john bel edwards tomorrow that  we will  give him access to our va\n",
      "                    have to defeat this enemy so  we will  see you tomorrow thank you very\n",
      "               is a possibility that that’s what  we will  see q and that’s a very\n",
      "                     and we will beat this virus  we will  beat it together i also want\n",
      "              people who have been so incredible  we will  end this plague and together we\n",
      "                 this we’ve always told you that  we will  look at the facts and we\n",
      "                  rebuild this land that we love  we will  reclaim the magnificent destiny that we\n",
      "                      that over a period of time  we will  get a good vaccine that we\n",
      "                   we will heal our citizens and  we will  care for our neighbors and we\n",
      "                        a “yes” answer so that —  we will  be doing that and also we\n",
      "                      going down — which i think  we will  and i feel certain that we\n",
      "                come together it’s not great but  we will  not go through what we went\n",
      "             close and we’re building it rapidly  we will  have — early next year we’ll\n",
      "      need certain authorities from the treasury  we will  accommodate that so we’re — we’re\n",
      "               optimistic person let me tell you  we will  have thousands of ventilators and what\n",
      "                     i mentioned — i expect that  we will  still see the pattern that when\n",
      "                     all together and we can and  we will  get through this with a whole-of-america\n",
      "                  we think there is a likelihood  we will  need more money and we will\n",
      "                venezuela but if that took place  we will  not be happy okay? i will\n",
      "                        we’ve said it will end —  we will  get over coronavirus but there will\n",
      "                 patriot we will win this battle  we will  defeat this enemy and we will\n",
      "                        and the grace of our god  we will  endure we will overcome we will\n",
      "                        not going to be too long  we will  heal our citizens and we will\n",
      "                       to keep on keeping on and  we will  get through this america we will\n",
      "                      long that will be and then  we will  assess it and then we will\n",
      "                  but this will be an assessment  we will  do as interagency team we will\n",
      "                        line as we started and —  we will  end with it’s communities that will\n",
      "          this together we’ll fight together and  we will  win together we’re going to win\n",
      "                          lot of them so i think  we will  — we will come up with\n",
      "                   we will defeat this enemy and  we will  rise from this present crisis with\n",
      "      influence some of the recommendations that  we will  make but i can assure you\n",
      "                          mean we — think of it:  we will  have spent $8 trillion and you\n",
      "     deposit information and within several days  we will  automatically deposit the money into your\n",
      "   have increased these interdiction efforts and  we will  continue to outreach and do —\n",
      "             anything and yet it’s very valuable  we will  be reimbursed in the future —\n",
      "                  rather than a small bounce but  we will  be back and i think —\n"
     ]
    }
   ],
   "source": [
    "print_kwic(sort_kwic(apr_kwic_wewill, order= ['R6']))"
   ]
  },
  {
   "cell_type": "code",
   "execution_count": 76,
   "metadata": {},
   "outputs": [],
   "source": [
    "apr_kwic_wewill = make_kwic2_as_text(\"we will\", apr_tokens, win=6)"
   ]
  },
  {
   "cell_type": "code",
   "execution_count": 77,
   "metadata": {},
   "outputs": [],
   "source": [
    "apr_kwic_wewill_sidscore = []\n",
    "\n",
    "for item in apr_kwic_wewill:\n",
    "    for tok in item:\n",
    "        score = sid.lexicon.get(tok,0)\n",
    "        apr_kwic_wewill_sidscore.append(score)\n",
    "\n"
   ]
  },
  {
   "cell_type": "code",
   "execution_count": 78,
   "metadata": {},
   "outputs": [
    {
     "data": {
      "text/plain": [
       "165.9000000000001"
      ]
     },
     "execution_count": 78,
     "metadata": {},
     "output_type": "execute_result"
    }
   ],
   "source": [
    "sum(apr_kwic_wewill_sidscore)"
   ]
  },
  {
   "cell_type": "markdown",
   "metadata": {},
   "source": [
    "The promises become far more positive in April. While the  **we will** in March seems to be statements of fact like \"we will issue new guidance\" or \"we will be talking about this further\" statements in April seem to be more inspirational statements like \"end this plague together and we will restore every American\", \"your struggle is our struggle and we will beat this virus\", and \"we have learned so much we will be stronger than ever.\""
   ]
  },
  {
   "cell_type": "markdown",
   "metadata": {},
   "source": [
    "Rather than deliver more updates and information, the Trump Administration has chosen to inspire the people and assure them that America will indeed be Great Again. This seems to indicate that the worst of the coronavirus is over. "
   ]
  },
  {
   "cell_type": "markdown",
   "metadata": {},
   "source": [
    "# Conclusion"
   ]
  },
  {
   "cell_type": "markdown",
   "metadata": {},
   "source": [
    "From these results, we have a few main takeaways from how the Trump Administration's speech regarding the coronavirus has changed over time. \n",
    "\n",
    "### If It Isn't One Thing, It's Another:\n",
    "As time goes on, old issues are solved and new ones arise. The White House addresses the greatest need at the time. In March, a national emergency was declared to escalate the severity of the problem. Millions were out of work and filed for unemployment. In March, the Trump Administration spoke a lot about chambers of congress, as the stimulus bill was released, as this was the biggest need for many people. In April, states were beginning to reopen and thousands protested the shelter in place order, believing it was a violation of freedom. The Trump Administration discussed the concept of reopening states more in April, as this was the biggest need for many people in conservative states.\n",
    "\n",
    "In a pandemic, there is a public concern over what is available. When something is scarce, fear arises in the people because they might not be able to have it even if they need it.  The collocates of the word \"available\" changed from April to March because different things became scarce. **Testing** was often used with the word **available** in both April and March due to initial claims that the Trump Administration was unable to deliver upon. Some experts argue that ample testing and tracing is the only way to overcome a pandemic. There was a brief shortage of masks in March, which caused the collocate **mask** to be used frequently with available. It was the greatest need of healthcare workers because they were putting their lives at risk without necessary protection. The Trump Administration increased production of ventilators and appears to be using the abundance of ventilators as a measure of success, so **ventilators**  was often used with **available** in April not because they were a great need, but because they were a metric of success.\n"
   ]
  },
  {
   "cell_type": "markdown",
   "metadata": {},
   "source": [
    "\n",
    "### The Trump Administration Has Done It's Part and Pats Itself on the Back:\n",
    "\n",
    "What is discussed is not entirely up to the Trump Administration; they are asked questions by reporters and must respond to what is relevant. However, how they speak about a pandemic shows leadership style and is completely within their control. In March, key bigrams were mainly in the first person and in April key bigrams tended to be in the third person. That means initially the Trump Administration spoke about thinks it (*we*) was doing to address the problem and later on discussed things that others (*he*,*they*) were or were not doing. This indicates a general shift in responsibility and ownership of the problem from Trump Administration to other people and parties. Along with this change in subject is a change in tone, to one that is more critical. Key bigrams of April included *can see*, *have enough*, *should have*, *more than*, *it was*, *we see*, *in fact*, and *you see* which implies the Trump Administration is correcting some initial assumptions of the state of the problem. Additionally, the bigram *should have* was used extensively in April to refer to other people and measures they should have taken.\n",
    "\n",
    "Lastly, the Trump Administration is not so critical when it comes to their own actions. Using sentiment analysis we saw that the words surrounding the word *we* were far more positive than the words surrounding the word *he*. This shows that while Trump uses critical language of others and their response to the COVID-19 pandemic, he thinks that his Administration has generally done many positive things and handled the crisis well. "
   ]
  },
  {
   "cell_type": "markdown",
   "metadata": {},
   "source": [
    "![](trumpthumbs.gif)"
   ]
  }
 ],
 "metadata": {
  "kernelspec": {
   "display_name": "Python 3",
   "language": "python",
   "name": "python3"
  },
  "language_info": {
   "codemirror_mode": {
    "name": "ipython",
    "version": 3
   },
   "file_extension": ".py",
   "mimetype": "text/x-python",
   "name": "python",
   "nbconvert_exporter": "python",
   "pygments_lexer": "ipython3",
   "version": "3.7.3"
  }
 },
 "nbformat": 4,
 "nbformat_minor": 2
}
