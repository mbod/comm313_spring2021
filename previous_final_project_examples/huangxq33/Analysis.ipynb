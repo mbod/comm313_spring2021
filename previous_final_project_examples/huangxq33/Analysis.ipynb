{
 "cells": [
  {
   "cell_type": "markdown",
   "metadata": {},
   "source": [
    "# Analyzing the Reviews\n",
    "\n",
    "This notebook shows the codes for different kinds of text analysis on the reviews I collected from MyDramaList.com.\n",
    "\n",
    "I plan to conduct three kinds of text analysis in my project:\n",
    "1. Word and Phrase Frequency Analysis\n",
    "2. Concordance Analysis\n",
    "3. Sentiment Analysis"
   ]
  },
  {
   "cell_type": "markdown",
   "metadata": {},
   "source": [
    "### Setup"
   ]
  },
  {
   "cell_type": "code",
   "execution_count": 1,
   "metadata": {},
   "outputs": [],
   "source": [
    "import os\n",
    "import string\n",
    "import re\n",
    "import random\n",
    "import time\n",
    "import json\n",
    "import csv\n",
    "\n",
    "import requests\n",
    "import bs4\n",
    "from bs4 import BeautifulSoup\n",
    "\n",
    "from collections import Counter\n",
    "\n",
    "from nltk.sentiment.vader import SentimentIntensityAnalyzer\n",
    "from nltk.tokenize import WordPunctTokenizer"
   ]
  },
  {
   "cell_type": "code",
   "execution_count": 2,
   "metadata": {},
   "outputs": [],
   "source": [
    "%run functions.ipynb"
   ]
  },
  {
   "cell_type": "markdown",
   "metadata": {},
   "source": [
    "To carry out the analyses, we first need to load the list of reviews from each year and from each score range.\n",
    "\n",
    "**Load the reviews by year**"
   ]
  },
  {
   "cell_type": "code",
   "execution_count": 3,
   "metadata": {},
   "outputs": [],
   "source": [
    "reviews_2017 = json.load(open('data/Date/review_2017.json'))"
   ]
  },
  {
   "cell_type": "code",
   "execution_count": 4,
   "metadata": {},
   "outputs": [
    {
     "data": {
      "text/plain": [
       "list"
      ]
     },
     "execution_count": 4,
     "metadata": {},
     "output_type": "execute_result"
    }
   ],
   "source": [
    "type(reviews_2017)"
   ]
  },
  {
   "cell_type": "code",
   "execution_count": 5,
   "metadata": {},
   "outputs": [
    {
     "data": {
      "text/plain": [
       "18"
      ]
     },
     "execution_count": 5,
     "metadata": {},
     "output_type": "execute_result"
    }
   ],
   "source": [
    "len(reviews_2017)"
   ]
  },
  {
   "cell_type": "code",
   "execution_count": 6,
   "metadata": {},
   "outputs": [
    {
     "name": "stdout",
     "output_type": "stream",
     "text": [
      "This is an example of reviews from 2017.\n"
     ]
    },
    {
     "data": {
      "text/plain": [
       "{'Date': 'Dec 25, 2017',\n",
       " 'Overall Score': '9.5',\n",
       " 'Review Text': 'The only regrets I have with this drama is binge watching it so quickly. Finishing it has left such an empty void in me and I can’t help but make comparisons with any other dramas I watch.\\n\\nThis drama is such a unique case for me because usually I only have interest in Korean dramas and have struggled to enjoy a Chinese drama despite been Chinese myself. I also generally dislike dramas where the female chases after the male. However this drama has a special charm that I am unable to resist, making it probably even my most favourite drama ever in my 4 years of watching Asian dramas.\\n\\nMany people may think of Xiaoxi as a dumb bimbo whose life revolves around a guy and while this may be true we must remember that she is a high school girl and at the time where the desire for romance is very strong.\\xa0She makes mistakes and is most definitely not perfect.\\xa0As the drama progresses, we begin to see her development into an independent lady that is not as easily swayed by Jiangchen until she is treated right. Also she too has her own hobbies and aspirations that do not revolve around Jiangchen which is something that is not commonly shown in dramas with similar themes. No she does not become a nurse for Jiangchen.\\n\\nNONE of the character are perfect. Not even the seemingly perfect Jiangchen whose jealously often gets the better of him and also has his own insecurities just like the next person. \\xa0This makes the drama even more likeable and relatable. They all make mistakes and all learn from it.\\xa0\\n\\nThe drama is a perfect example of taking a very cliche and used plot and twisting it into a unique and charming drama that will remain in our hearts for a very very long time.',\n",
       " 'Username': 'musautau'}"
      ]
     },
     "execution_count": 6,
     "metadata": {},
     "output_type": "execute_result"
    }
   ],
   "source": [
    "print('This is an example of reviews from 2017.')\n",
    "\n",
    "reviews_2017[3]"
   ]
  },
  {
   "cell_type": "code",
   "execution_count": 7,
   "metadata": {},
   "outputs": [],
   "source": [
    "reviews_2018 = json.load(open('data/Date/review_2018.json'))"
   ]
  },
  {
   "cell_type": "code",
   "execution_count": 8,
   "metadata": {},
   "outputs": [
    {
     "data": {
      "text/plain": [
       "list"
      ]
     },
     "execution_count": 8,
     "metadata": {},
     "output_type": "execute_result"
    }
   ],
   "source": [
    "type(reviews_2018)"
   ]
  },
  {
   "cell_type": "code",
   "execution_count": 9,
   "metadata": {},
   "outputs": [
    {
     "data": {
      "text/plain": [
       "58"
      ]
     },
     "execution_count": 9,
     "metadata": {},
     "output_type": "execute_result"
    }
   ],
   "source": [
    "len(reviews_2018)"
   ]
  },
  {
   "cell_type": "code",
   "execution_count": 10,
   "metadata": {},
   "outputs": [
    {
     "name": "stdout",
     "output_type": "stream",
     "text": [
      "This is an example of reviews from 2018.\n"
     ]
    },
    {
     "data": {
      "text/plain": [
       "{'Date': 'Dec 12, 2018',\n",
       " 'Overall Score': '10',\n",
       " 'Review Text': \"I highly recommend watching this drama, I finished watching the whole series in 4 days.\\n\\nMy first Cdrama was Meteor Garden, this is my second. Meteor Garden kind of dragged towards the end, and the ending was okay, but A Love so Beautiful kept me hooked through out the drama, every episode was interesting. The leads are not as frustrating.\\n\\nThis drama is filled with cute bubbly scenes. The leads are super adorable!!\\n\\nThe cast was perfect, all of the cast portrayed their roles well. (Warning you will get terrible second lead syndrome.)\\n\\nThere wasn't much music with lyrics mostly instrumentals. Music wasn't over played and was used well.\\n\\nI would definitely re watch! Such a cute drama!\",\n",
       " 'Username': 'c00kie'}"
      ]
     },
     "execution_count": 10,
     "metadata": {},
     "output_type": "execute_result"
    }
   ],
   "source": [
    "print('This is an example of reviews from 2018.')\n",
    "\n",
    "reviews_2018[0]"
   ]
  },
  {
   "cell_type": "code",
   "execution_count": 11,
   "metadata": {},
   "outputs": [],
   "source": [
    "reviews_2019 = json.load(open('data/Date/review_2019.json'))"
   ]
  },
  {
   "cell_type": "code",
   "execution_count": 12,
   "metadata": {},
   "outputs": [
    {
     "data": {
      "text/plain": [
       "list"
      ]
     },
     "execution_count": 12,
     "metadata": {},
     "output_type": "execute_result"
    }
   ],
   "source": [
    "type(reviews_2019)"
   ]
  },
  {
   "cell_type": "code",
   "execution_count": 13,
   "metadata": {},
   "outputs": [
    {
     "data": {
      "text/plain": [
       "24"
      ]
     },
     "execution_count": 13,
     "metadata": {},
     "output_type": "execute_result"
    }
   ],
   "source": [
    "len(reviews_2019)"
   ]
  },
  {
   "cell_type": "code",
   "execution_count": 14,
   "metadata": {},
   "outputs": [
    {
     "name": "stdout",
     "output_type": "stream",
     "text": [
      "This is an example of reviews from 2019.\n"
     ]
    },
    {
     "data": {
      "text/plain": [
       "{'Date': 'Sep  6, 2019',\n",
       " 'Overall Score': '6.0',\n",
       " 'Review Text': \"I just don't understand the whole hype over this drama or the very high ratings.\\n\\nIt took 10ish episodes to start getting interesting. It started because Jiang Chen started to show he liked Xiaoxi and would do little things to show that he was interested. I also liked the second lead Bu Wongsu and how he tried his best, but I especially loved how Jiang Chen would feel jealous and threatened by him.\\n\\nBut Xiaoxi is such a nothing, whiny, submissive, pathetic character!\\n\\nA lot of the series is spent on school life, but because it was hard to connect to anyone, it wasn't particularly moving or interesting, so I began fastforwarding. Only the bits with Jiang Chen showing how he liked Xiaoxi got me squealing and excited.\\n\\nThen it moved to being in university and they did a LOT of time jumps. There was a lot of in the sky, of the sun or of leaves montages which was just unnecessary.\\n\\nVery strange writing, odd beats and pacing. It didn't really seem to have much left to go with.\\n\\nWhen it came to the last episode, I barely noticed because it was so anti climatic and seemed to not really give any real message at the end. It was nice to see the monologue of Jiang Chen and why he liked Xiaoxi.\\n\\nWeird writing and almost mediocre in some parts. It could have been done a whole lot better. Very fluffy, and I would rewatch for those cute moments, but the rest is a bit of rubbish to be honest...\",\n",
       " 'Username': 'whit3butt3rfly'}"
      ]
     },
     "execution_count": 14,
     "metadata": {},
     "output_type": "execute_result"
    }
   ],
   "source": [
    "print('This is an example of reviews from 2019.')\n",
    "\n",
    "reviews_2019[5]"
   ]
  },
  {
   "cell_type": "markdown",
   "metadata": {},
   "source": [
    "**Load the reviews by score range**"
   ]
  },
  {
   "cell_type": "code",
   "execution_count": 15,
   "metadata": {},
   "outputs": [],
   "source": [
    "reviews_0_to_3 = json.load(open('data/Overall_Score/score_0_to_3.json'))"
   ]
  },
  {
   "cell_type": "code",
   "execution_count": 16,
   "metadata": {},
   "outputs": [
    {
     "data": {
      "text/plain": [
       "list"
      ]
     },
     "execution_count": 16,
     "metadata": {},
     "output_type": "execute_result"
    }
   ],
   "source": [
    "type(reviews_0_to_3)"
   ]
  },
  {
   "cell_type": "code",
   "execution_count": 17,
   "metadata": {},
   "outputs": [
    {
     "data": {
      "text/plain": [
       "0"
      ]
     },
     "execution_count": 17,
     "metadata": {},
     "output_type": "execute_result"
    }
   ],
   "source": [
    "len(reviews_0_to_3)"
   ]
  },
  {
   "cell_type": "markdown",
   "metadata": {},
   "source": [
    "Since there is no review that rates the drama with a score between 0 and 3.0, the list `reviews_0_to_3` will be disregarded in the analyses."
   ]
  },
  {
   "cell_type": "code",
   "execution_count": 18,
   "metadata": {},
   "outputs": [],
   "source": [
    "reviews_3_to_6 = json.load(open('data/Overall_Score/score_3_to_6.json'))"
   ]
  },
  {
   "cell_type": "code",
   "execution_count": 19,
   "metadata": {},
   "outputs": [
    {
     "data": {
      "text/plain": [
       "list"
      ]
     },
     "execution_count": 19,
     "metadata": {},
     "output_type": "execute_result"
    }
   ],
   "source": [
    "type(reviews_3_to_6)"
   ]
  },
  {
   "cell_type": "code",
   "execution_count": 20,
   "metadata": {},
   "outputs": [
    {
     "data": {
      "text/plain": [
       "7"
      ]
     },
     "execution_count": 20,
     "metadata": {},
     "output_type": "execute_result"
    }
   ],
   "source": [
    "len(reviews_3_to_6)"
   ]
  },
  {
   "cell_type": "code",
   "execution_count": 21,
   "metadata": {},
   "outputs": [
    {
     "name": "stdout",
     "output_type": "stream",
     "text": [
      "This is an example of reviews with a rating score between 3.0 and 6.0.\n"
     ]
    },
    {
     "data": {
      "text/plain": [
       "{'Date': 'May 22, 2018',\n",
       " 'Overall Score': '5.0',\n",
       " 'Review Text': \"Story:\\n\\nChildhood neighbors who become a couple after knowing each other for several years. Very basic story line with no surprises. Although I like that the OTPs friends were important and had all their own story lines, this dragged out the drama.\\n\\nThe male lead was really static and seemed to have no emotions at all. The female lead on the other hand was often annoying (some might call it bubbly) and all over the place.\\n\\nAgain, the basic idea of showing their love from the beginning to end is great. However, the beginning took about 16 episodes (their high school years), while their collage and after-collage life was wrapped up in 7...this also means 16 episodes of no real deep or romantic encounters, and 7 episodes where they are adults, but again we don't see many lovely scenes. Actually, the last episode was the best, as there was a lot of love included! \\n\\nActing/Cast:\\n\\nAs this was my first cdrama I don't know any of the cast. They made an okay job, though. The characters were quite annoying...\\n\\nMusic:\\n\\nNothing to to remember.\\n\\nRewatch:\\n\\n0/0 I seriously don't know, if I will even watch a cdrama again.... \\n\\nOverall:\\n\\nI get how their deep bond from the beginning is meant to be shown, however it's more suited for a younger audience (about 13+ years) as the focus is on the high school years. I would have loved to watch their adult life more.\",\n",
       " 'Username': 'Maggy'}"
      ]
     },
     "execution_count": 21,
     "metadata": {},
     "output_type": "execute_result"
    }
   ],
   "source": [
    "print('This is an example of reviews with a rating score between 3.0 and 6.0.')\n",
    "\n",
    "reviews_3_to_6[0]"
   ]
  },
  {
   "cell_type": "code",
   "execution_count": 22,
   "metadata": {},
   "outputs": [],
   "source": [
    "reviews_6_to_8 = json.load(open('data/Overall_Score/score_6_to_8.json'))"
   ]
  },
  {
   "cell_type": "code",
   "execution_count": 23,
   "metadata": {},
   "outputs": [
    {
     "data": {
      "text/plain": [
       "list"
      ]
     },
     "execution_count": 23,
     "metadata": {},
     "output_type": "execute_result"
    }
   ],
   "source": [
    "type(reviews_6_to_8)"
   ]
  },
  {
   "cell_type": "code",
   "execution_count": 24,
   "metadata": {},
   "outputs": [
    {
     "data": {
      "text/plain": [
       "13"
      ]
     },
     "execution_count": 24,
     "metadata": {},
     "output_type": "execute_result"
    }
   ],
   "source": [
    "len(reviews_6_to_8)"
   ]
  },
  {
   "cell_type": "code",
   "execution_count": 25,
   "metadata": {},
   "outputs": [
    {
     "name": "stdout",
     "output_type": "stream",
     "text": [
      "This is an example of reviews with a rating score between 6.0 and 8.0.\n"
     ]
    },
    {
     "data": {
      "text/plain": [
       "{'Date': 'Mar 12, 2018',\n",
       " 'Overall Score': '7.5',\n",
       " 'Review Text': \"Chinese school romance dramas are kind of my thing and this one does not disappoint. It has everything, innocent love, intensinty, second lead, good friendship vibes, chemistry between the girl and the boy, nice built up, drama, high school dynamics. Sure, the story wasn't original and there are tons of dramas out there with the same theme, but at least they hundled it pretty neat and the final result was decent. Also, the girl was cute and funny, whether the boy was kind of a snob at first, got better afterwards, but kept his attitude, which was refreshing because in most dramas the male lead starts with a i-hate-you-i-am-too-cynical and makes a 360 degrees turn a few episodes later. So, 7.5 out of 10.\",\n",
       " 'Username': 'PHope'}"
      ]
     },
     "execution_count": 25,
     "metadata": {},
     "output_type": "execute_result"
    }
   ],
   "source": [
    "print('This is an example of reviews with a rating score between 6.0 and 8.0.')\n",
    "\n",
    "reviews_6_to_8[5]"
   ]
  },
  {
   "cell_type": "code",
   "execution_count": 26,
   "metadata": {},
   "outputs": [],
   "source": [
    "reviews_8_to_10 = json.load(open('data/Overall_Score/score_8_to_10.json'))"
   ]
  },
  {
   "cell_type": "code",
   "execution_count": 27,
   "metadata": {},
   "outputs": [
    {
     "data": {
      "text/plain": [
       "list"
      ]
     },
     "execution_count": 27,
     "metadata": {},
     "output_type": "execute_result"
    }
   ],
   "source": [
    "type(reviews_8_to_10)"
   ]
  },
  {
   "cell_type": "code",
   "execution_count": 28,
   "metadata": {},
   "outputs": [
    {
     "data": {
      "text/plain": [
       "80"
      ]
     },
     "execution_count": 28,
     "metadata": {},
     "output_type": "execute_result"
    }
   ],
   "source": [
    "len(reviews_8_to_10)"
   ]
  },
  {
   "cell_type": "code",
   "execution_count": 29,
   "metadata": {},
   "outputs": [
    {
     "name": "stdout",
     "output_type": "stream",
     "text": [
      "This is an example of reviews with a rating score between 8.0 and 10.\n"
     ]
    },
    {
     "data": {
      "text/plain": [
       "{'Date': 'Nov 19, 2018',\n",
       " 'Overall Score': '10',\n",
       " 'Review Text': \"This drama is absolutely amazing, 10/10 my favorite drama of all time. I have watched it 4 times in total! And I have never rewatched anything this much. The story and overall show and characters is very different from your typical Chinese drama. This one is very special. It isn't over exaggerated and fake like most Chinese dramas such as Meteor Garden or Boys Over Flowers. This drama depicts REAL life in China as a highschool student. It really brings you into their lives and the things they deal with. This is a must see for anyone who likes Asian dramas.\",\n",
       " 'Username': 'Xiaoxi'}"
      ]
     },
     "execution_count": 29,
     "metadata": {},
     "output_type": "execute_result"
    }
   ],
   "source": [
    "print('This is an example of reviews with a rating score between 8.0 and 10.')\n",
    "\n",
    "reviews_8_to_10[20]"
   ]
  },
  {
   "cell_type": "markdown",
   "metadata": {},
   "source": [
    "## Word and Phrase Frequency Analysis\n",
    "\n",
    "### Analyzing Reviews from 2017\n",
    "\n",
    "**1. Word frequency list**\n",
    "\n",
    "I am interested in the frequency of a word or a phrase that appears in the review text, so from the list `reviews_2017`, I am going to extract the review text from each dictionary containing the review information and put them into a list called `review_texts_2017`."
   ]
  },
  {
   "cell_type": "code",
   "execution_count": 30,
   "metadata": {},
   "outputs": [],
   "source": [
    "review_texts_2017 = [review['Review Text'] for review in reviews_2017]"
   ]
  },
  {
   "cell_type": "code",
   "execution_count": 31,
   "metadata": {},
   "outputs": [
    {
     "data": {
      "text/plain": [
       "['Amidst all the positivity and perfection that others see in this drama, you can count on me to be a real grinch and center in on all the reasons that it was not entirely flawless. That is not to say I hated it; far from it, but I fail to share the unwavering, absolute love that many others seem to.\\n\\nMany things about A Love So Beautiful was a surprise to me. I\\'ll be the first to admit that I harbor a real prejudice each time I enter the realm that is a Chinese drama - watching them throughout my childhood, they were unfailingly littered with a) tragedy, b) horrible CG, and/or c) gagworthy storylines (typically, an entertaining combination of all three). And quite honestly, few nowadays seem to impress me. Call it bias, but I still think the Mainland has much to learn regarding what constitutes a good show.\\n\\nA Love So Beautiful was different from the moment I picked it up. It does not present melodramatic conflict for you to brood over, but instead focuses on the innocence of a teenager trying to get through the struggles of school and first love. I did not grow up within the Chinese education system, but there is something incredibly charming and nostalgic about seeing a group of five friends trudge through their high school years. Having teachers scold you, finding unpredictable friendships, secretly liking someone...A person is only naive in such a way for a small amount of time, and this drama perfectly captures that foolish yet heartwarming attitude of youth.\\n\\nIt only helped that the cast consisted of young, yet capable actors. How annoying is it when you watch a show about high school and the actors are in their mid- to late-twenties? And then you spend the entire duration brooding over how old they look and how nothing about them reminds you of a cute teenager. A Love So Beautiful never suffers from this issue; because not only do the main actors look young - they are. They act their parts perfectly, accurately presenting the turbulent feelings of their characters and how they grow over the course of the drama. It\\'s difficult to find five lead actors who interact with one another with so much natural chemistry that it\\'s hard to believe that they\\'re acting.\\n\\nBut turn on the sad music - I\\'m done gushing about all the things I absolutely adored. Here\\'s what dragged it down from a perfect 10: as soon as the characters left high school, the plot began to wander. There is a distinct imbalance between the warmth that is their high school lives and the confusion that is their \"growing up.\" \\n\\nI would like to ensure you that I don\\'t hate the fact that they got older. It was the delivery; how the writers depicted their \"maturing\" that was irksome. What I found particularly problematic was how you spend over half of the drama watching them in high school - and you love it to pieces - but then you have less than eight episodes to watch them speed carelessly through cliche relationship problems and time skips. The transition is rough and the trip doesn\\'t get any smoother. It would have made far more sense to me to either limit the story of this show to their high school years, or add more episodes to spread out their time as they age past university and through adulthood. \\n\\nI simply didn\\'t feel the magic in the latter part of the drama, which follows their post-graduation lives. It\\'s still fine to watch, but it just isn\\'t the same. I wanted to see the ways they carefully sort out problems between themselves and thus mature, not watch as they get angry at one another and resolve it merely because - well, merely because that\\'s the way the writers want it to be. I did not feel as connected to their characters; not because they aren\\'t bubbly teenagers, but because the story slowly becomes more about their problems and less about who they are. To me, their characters are one of the greatest strengths of the plotline, and as it fades throughout, so does the show\\'s primary charm.\\n\\nI would feel bad shutting this drama down entirely, since that would be unfair to the refreshing fun that it brought to me as I marathoned it. It is not without its flaws. However, it made me remember my first feelings of romance and filled my heart to the brim with both happiness and bittersweetness. It\\'s hard to find a drama capable of such an effect on a viewer - and I\\'m glad this one found a way.',\n",
       " 'This drama is said to be another adaptation of the \"It Started With A Kiss\" franchise. I personally haven\\'t watched any of these except for this version thus I\\'m gonna base my review from this alone without any comparison :D.\\n\\nMost of us have experienced studying in high school. Although not everyone had experiences of relationships in high school, most likely we have observed this happenings around us. \"A Love So Beautiful\" is that drama that highlights the \\xa0innocence of high school as well as the experiences of having a crush or falling in love with someone. This drama has a typical high school drama plot line which focuses on the lives of the main characters during high school. This is another instance wherein a drama doesn\\'t appeal to be deep, but merely to be relatable. I\\'ll delve deeper with this review by discussing each components for rating, from its story until the rewatch value.\\n\\nThe story of this drama is light. It\\'s a story that is easy to digest since the story is told in a linear manner. The pacing was kind of steady but the ratio between the past and present was kind of unsatisfying. I believe that the story would\\'ve been more interesting if it was able to balance the two parts of the story since the character development can be highlighted more in a setting as such. Another characteristic of the story is that it\\'s romantic. But this characteristic is a double edged sword. It was able to create a story that can be fantasized by many but it can create misconceptions in terms its main theme: love. It was my dilemma while watching the drama since at times it challenges my thoughts about relationships.\\n\\nNext is the Acting and the Cast. Personally, this component is the one that made me continue watching the series. It might seem a bit contrary since I only gave it an 8.5 out of 10 but I considered many factors in rating this criteria. The casting for this drama is really great. The chemistry between them is really commendable.\\n\\nShen Yue and Hu Yi Tian\\'s chemistry however, is what made this drama special. It can tug heartstrings and it can make you punch or slap the back of someone who is beside you. If the casting was the only thing to take into consideration in rating, I would\\'ve gave this a perfect rating, but there is a need to rate the acting, thus lowering my score. There are many times while watching that I felt sad because there were many opportunities to show more emotions, to give more adlibs but there wasn\\'t anything. Character relationships aren\\'t even an excuse because the acting could\\'ve been better and sometimes, you feel that the acting is a bit too calculated. The latter lines however, pertains to the acting for the two main actors, Shen Yue and Hu Yi Tian. The acting isn\\'t perfect, nor excellent, but it\\'s still commendable.\\n\\nThe music for this drama is actually good but the thing is, it can only be memorable if you don\\'t skip the opening sequence. The theme songs are beautiful, but I the music lacked variety, thus lowering my score.\\n\\nLastly the rewatch value. I personally think that this drama has a really high rewatch value since it\\'s a light watch and also because of the cast remarkable and memorable chemistry. \\n\\nIt has been a long time since I last watched a Chinese drama and I must day, watching this drama was a good and pleasant experience. I recommend that people to watch this if they want a light and a heartwarming drama :D.',\n",
       " \"Finished\\xa0A Love so Beautiful in just 2 days, and I am so glad I was able to watch it right as the year ends! This drama really brought my year of 2017 to a happy ending :)\\n\\nStory/plot: -10- I heard that this storyline was very similar to a Japanese drama/manga called “Itazura na Kiss”; however, I have never watched the drama, or any of their remakes, so I am writing this review with nothing to compare it to, pretty much. With that being said, I loved the storyline of this cutesy, heart-warming drama! The cliche style of a not-so-smart girl liking the perfect guy definitely took a positive turn in this show! The transition between high school to college to adult life was pretty smooth, in my opinion, with majority of it focused during their high school years, which made it an innocent and light drama. As the story moves on to the adult life, the relationship between the main leads became more intimate, which made me squeal so many times at 2 o'clock in the morning.\\n\\nActing/cast: -10- The height difference between the 160cm Chen Xiao Xi (played by Shen Yue) and the tall 188cm Jiang Chen (played by Hu Yi Tian) made me squeal every time! Both of the main leads are decently new faces to the entertainment world, and they definitely made a good impression, on me at least haha! For her first main-lead role in a drama, Shen Yue did a spectacular job of performing the different sides and attitudes of the character, Chen Xiao Xi, from the happy, always positive high school youth to the independent grown women that Chen Xiao Xi becomes later on in the drama. NOW, LET’S TALK ABOUT HU YI TIAN! OMG, HE IS SOME HAWT STUFF! So cute, and for his first main-lead role, he played it really well! It’s hard to fall in love with someone who plays a, supposedly, cold-hearted, not caring character, but later on, we find out that the character, Jiang Chen, is pretty much the opposite! The way Hu Yi Tian smirks and acts to care for Chen Xiao Xi in the drama can make any girl's heart flutter! (I think I found my next man crush tbh) The supporting roles might have not done a whole lot, but their contribution played a huge impact throughout the whole show, and it made the drama 100X better! Nothing to complain in general, great leads, great actors/actresses, and great chemistry! :)\\n\\nMusic: -10- The opening song is truly the perfect fit for the drama! When I first heard it, I already loved it and how the melody matches the drama’s theme, but after reading the lyrics, it made me love the song even more! If you don’t believe me, take a look yourself: https://www.youtube.com/watch?v=rIKib5Bymz8 I especially love the line “wo xihuan ni pei wo kanshu fen xin kan wo tou xiao” which translates to “I like you when you’re accompanying me to read a book, distracted by looking at me, smiling quietly,” it brings back many ridiculous smiles when I watched the drama, and I can't seem to stop replaying the song in my head now!\\n\\nRewatch value: -9.5- I love A Love so Beautiful and I have rewatched my favorite parts more than a dozen time, but I am sorry, I can’t rewatch the whole drama from the beginning to end more than once. I am not sure exactly why, but I guess the whole drama wasn’t capturing enough for me? For the parts that I love though, I have rewatched it so many times, and I will never get bored of rewatching them!\\n\\nOverall: -10- This drama truly created a great end to my 2017! The sweet, yet simple story is my cup of tea! I can’t seem to let go of this drama, it was too good and too sweet! The characters played their parts so well, the mixture of the songs and the cute relationships between the characters are too much to be given up so easily. So sad that I watched it in only 2 days! I wish I would have spent more time to savor every second!\\n\\nIf you are looking for a romantic, and heart-warming drama that takes place mainly during the high school life and transitions to more serious matters later on, A Love so Beautiful is definitely the drama for you! Hope this helps and thanks for reading!\\n\\nChào for Now!\\n\\nLily L.\",\n",
       " 'The only regrets I have with this drama is binge watching it so quickly. Finishing it has left such an empty void in me and I can’t help but make comparisons with any other dramas I watch.\\n\\nThis drama is such a unique case for me because usually I only have interest in Korean dramas and have struggled to enjoy a Chinese drama despite been Chinese myself. I also generally dislike dramas where the female chases after the male. However this drama has a special charm that I am unable to resist, making it probably even my most favourite drama ever in my 4 years of watching Asian dramas.\\n\\nMany people may think of Xiaoxi as a dumb bimbo whose life revolves around a guy and while this may be true we must remember that she is a high school girl and at the time where the desire for romance is very strong.\\xa0She makes mistakes and is most definitely not perfect.\\xa0As the drama progresses, we begin to see her development into an independent lady that is not as easily swayed by Jiangchen until she is treated right. Also she too has her own hobbies and aspirations that do not revolve around Jiangchen which is something that is not commonly shown in dramas with similar themes. No she does not become a nurse for Jiangchen.\\n\\nNONE of the character are perfect. Not even the seemingly perfect Jiangchen whose jealously often gets the better of him and also has his own insecurities just like the next person. \\xa0This makes the drama even more likeable and relatable. They all make mistakes and all learn from it.\\xa0\\n\\nThe drama is a perfect example of taking a very cliche and used plot and twisting it into a unique and charming drama that will remain in our hearts for a very very long time.',\n",
       " \"A Love so Beautiful is such a pure and cute love story. This drama really got me invested, mainly because of the overall story and the actors. The plot sounds so simple and cliche, but once you watch it, it will feel like it's not. It was very easy for me to watch because the acting and story were both amazing.\\n\\nI laughed.\\n\\nI cried.\\n\\nI clutched my heart so many times...\\n\\nYou won't regret watching this drama.\\n\\n*warning to those who suffer from a condition called second lead syndrome.\"]"
      ]
     },
     "execution_count": 31,
     "metadata": {},
     "output_type": "execute_result"
    }
   ],
   "source": [
    "review_texts_2017[0:5]"
   ]
  },
  {
   "cell_type": "code",
   "execution_count": 32,
   "metadata": {},
   "outputs": [
    {
     "name": "stdout",
     "output_type": "stream",
     "text": [
      "review_texts_2017 has 18 pieces of review text, each is a string object.\n"
     ]
    }
   ],
   "source": [
    "print('review_texts_2017 has {} pieces of review text, each is a string object.'.format(len(review_texts_2017)))"
   ]
  },
  {
   "cell_type": "markdown",
   "metadata": {},
   "source": [
    "To create a word frequency list named `review_texts_2017_dist`, I need to:\n",
    "1. loop over the list of review texts from 2017\n",
    "2. tokenize the text using the `tokenize` function and turning the letters to lowercase and removing certain punctuations\n",
    "3. update the frequency list"
   ]
  },
  {
   "cell_type": "code",
   "execution_count": 33,
   "metadata": {},
   "outputs": [],
   "source": [
    "review_texts_2017_dist = Counter()\n",
    "\n",
    "for review_text in review_texts_2017:\n",
    "    tok = tokenize(review_text, lowercase = True, strip_chars = '!\"#$%&\\()*+,-.:;<=>?@[\\\\]^_`{|}~')\n",
    "    review_texts_2017_dist.update(tok)"
   ]
  },
  {
   "cell_type": "code",
   "execution_count": 34,
   "metadata": {},
   "outputs": [
    {
     "name": "stdout",
     "output_type": "stream",
     "text": [
      "There are 7678 tokens in review_texts_2017_dist.\n"
     ]
    }
   ],
   "source": [
    "review_token_2017_cnt = sum(review_texts_2017_dist.values())\n",
    "print('There are {} tokens in review_texts_2017_dist.'.format(review_token_2017_cnt))"
   ]
  },
  {
   "cell_type": "code",
   "execution_count": 35,
   "metadata": {},
   "outputs": [
    {
     "name": "stdout",
     "output_type": "stream",
     "text": [
      "[('the', 412), ('i', 235), ('and', 205), ('to', 181), ('a', 170), ('it', 162), ('is', 141), ('drama', 138), ('this', 137), ('of', 115), ('was', 94), ('that', 92), ('in', 86), ('so', 75), ('you', 72), ('for', 63), ('but', 61), ('love', 61), ('as', 55), ('my', 50), ('story', 45), ('not', 44), ('with', 44), ('me', 43), ('have', 42), ('their', 39), ('on', 38), ('they', 38), ('watch', 38), ('be', 37), ('school', 36), ('very', 35), ('all', 34), ('just', 34), ('cute', 32), ('really', 31), ('more', 30), ('high', 28), ('about', 27), ('how', 27), ('he', 27), ('like', 26), ('will', 26), ('beautiful', 25), ('because', 25), ('out', 25), ('at', 25), ('if', 25), ('chen', 24), ('from', 23)]\n"
     ]
    }
   ],
   "source": [
    "print(review_texts_2017_dist.most_common(50))"
   ]
  },
  {
   "cell_type": "markdown",
   "metadata": {},
   "source": [
    "**A few observations**\n",
    "\n",
    "* Function words like *`the`*, *`and`*, *`to`*, and *`a`* appear frequently in the reviews. Other words worthy of attention are *`i`*, *`my`*, and *`me`*. Reviewers refer to themselves very often in their reviews, probably to express their feelings and address their opinions about the drama.\n",
    "* The words *`cute`* and *`beautiful`* are among the 50 most frequent words. The reviewers might use *`cute`* to describe the story plot or the characters, but *`beautiful`* might more likely be used to describe a character or a specific scene. It might also be possible that they use the word *`beautiful`* frequently because they mention the name of the drama (which contains the word *`beautiful`*) very often in their reviews.\n",
    "* Another word that appears frequently is *`school`*. Most parts of the story plot take place in school, so it makes sense that reviewers mention school in their reviews. But which school are they referring to? The \"school\" in the drama or the \"school\" they went to?\n",
    "* Ranking the 49th place is the word *`chen`*. An interesting fact about *`chen`* is that it is the last name of the female lead character and also the first name of the male lead character, so the word frequency list cannot really tell us which specific character the reviewers frequently write about, or whether or not the reviewers mention both lead characters together."
   ]
  },
  {
   "cell_type": "markdown",
   "metadata": {},
   "source": [
    "**2. Bigram frequency list and trigram frequency list**\n",
    "\n",
    "Before we create a bigram frequency list and a trigram frequency list, we need to use the `get_ngram_tokens` function to tokenize the review texts. Instead of having one word as one token, this function makes two words (bigram, where n=2) or three words (trigram, where n=3) as one token. Then, we can create a bigram frequency list (`review_texts_2017_bigram_dist`) and a trigram frequency list (`review_texts_2017_trigram_dist`)."
   ]
  },
  {
   "cell_type": "code",
   "execution_count": 36,
   "metadata": {},
   "outputs": [],
   "source": [
    "review_texts_2017_bigram_dist = Counter()\n",
    "review_texts_2017_trigram_dist = Counter()\n",
    "\n",
    "for review_text in review_texts_2017:\n",
    "    tok = tokenize(review_text, lowercase = True, strip_chars = '!\"#$%&\\()*+,-.:;<=>?@[\\\\]^_`{|}~')\n",
    "    bigram_tok = get_ngram_tokens(tok, n=2)\n",
    "    trigram_tok = get_ngram_tokens(tok, n=3)\n",
    "    \n",
    "    review_texts_2017_bigram_dist.update(bigram_tok)\n",
    "    review_texts_2017_trigram_dist.update(trigram_tok)"
   ]
  },
  {
   "cell_type": "code",
   "execution_count": 37,
   "metadata": {},
   "outputs": [
    {
     "name": "stdout",
     "output_type": "stream",
     "text": [
      "There are 7660 tokens in review_texts_2017_bigram_dist.\n",
      "There are 7642 tokens in review_texts_2017_trigram_dist.\n"
     ]
    }
   ],
   "source": [
    "reviews_2017_bigram_token_cnt = sum(review_texts_2017_bigram_dist.values())\n",
    "print('There are {} tokens in review_texts_2017_bigram_dist.'.format(reviews_2017_bigram_token_cnt))\n",
    "\n",
    "reviews_2017_trigram_token_cnt = sum(review_texts_2017_trigram_dist.values())\n",
    "print('There are {} tokens in review_texts_2017_trigram_dist.'.format(reviews_2017_trigram_token_cnt))"
   ]
  },
  {
   "cell_type": "code",
   "execution_count": 38,
   "metadata": {},
   "outputs": [
    {
     "name": "stdout",
     "output_type": "stream",
     "text": [
      "[('this drama', 63), ('of the', 37), ('the drama', 31), ('high school', 27), ('the story', 26), ('it was', 24), ('and the', 20), ('to the', 18), ('to watch', 16), ('drama is', 16), ('so beautiful', 15), ('is a', 15), ('this is', 15), ('and i', 15), ('a love', 13), ('love so', 13), ('the main', 13), ('is the', 13), ('to be', 12), ('between the', 12), ('made me', 12), ('in love', 12), ('jiang chen', 12), ('all the', 11), ('in this', 11), ('but i', 11), ('that the', 11), ('i would', 11), ('the acting', 11), ('hu yi', 11), ('if you', 11), ('that i', 10), ('as the', 10), ('this show', 10), ('love with', 10), ('yi tian', 10), ('watch this', 10), ('i am', 10), ('i have', 10), ('drama i', 10), ('that is', 9), ('is not', 9), ('such a', 9), ('my heart', 9), ('the music', 9), ('i was', 9), ('xiao xi', 9), ('he is', 9), ('cute and', 9), ('i will', 9)]\n",
      "\n",
      "\n",
      "[('this drama is', 15), ('love so beautiful', 13), ('a love so', 12), ('in this drama', 10), ('in love with', 10), ('hu yi tian', 10), ('of the story', 8), ('their high school', 6), ('the story is', 6), ('this drama was', 5), ('chen xiao xi', 5), ('high school life', 5), ('of the drama', 4), ('there is a', 4), ('in high school', 4), ('so beautiful is', 4), ('was able to', 4), ('of the cast', 4), ('watching this drama', 4), ('to watch this', 4), ('so many times', 4), ('so cute and', 4), ('fall in love', 4), ('is such a', 4), (\"you won't regret\", 4), ('i highly recommend', 4), ('i decided to', 4), ('the drama i', 4), ('the main cast', 4), ('i would definitely', 4), ('fell in love', 4), ('that it was', 3), ('that is not', 3), ('a chinese drama', 3), ('high school years', 3), ('it made me', 3), ('this drama has', 3), ('drama has a', 3), ('of the main', 3), ('of this drama', 3), ('love it was', 3), ('watching the drama', 3), ('the chemistry between', 3), ('shen yue and', 3), ('drama and i', 3), ('i am so', 3), ('this drama really', 3), ('to adult life', 3), ('as the story', 3), ('the height difference', 3)]\n"
     ]
    }
   ],
   "source": [
    "print(review_texts_2017_bigram_dist.most_common(50))\n",
    "print('\\n')\n",
    "print(review_texts_2017_trigram_dist.most_common(50))"
   ]
  },
  {
   "cell_type": "markdown",
   "metadata": {},
   "source": [
    "**A few observations**\n",
    "* The phrase *`high school`* occurs 27 times and ranks the 4th in the bigram frequency list. Notice also that phrase like *`high school life`* and *`high school years`* also appear in the most common 50 trigrams list. The drama probably reminds many viewers about their times in high school.\n",
    "* In the bigram frequency list, we can see that the male lead character's name *`jiang chen`* appears 12 times, and the female lead character's name *`xiao xi`* appears 9 times. If we look at the trigram frequency list, some reviewers write the full name of the female lead character *`chen xiao xi`* in their reviews. This probably explains why *`chen`* appears frequently. And the number of occurrence of each name also suggests that there is not a big difference in how often the reviewers talk about the male lead character and the female lead character.\n",
    "* A little surprise is the phrase *`the music`*, which is among the 50 most common bigrams. This shows that when people watch a drama, they not only focus on the story, sometimes they pay attention to the music, too."
   ]
  },
  {
   "cell_type": "markdown",
   "metadata": {},
   "source": [
    "### Analyzing Reviews from 2018\n",
    "\n",
    "Repeat the steps done for analyzing reviews from 2017.\n",
    "\n",
    "**1. Word frequency list**"
   ]
  },
  {
   "cell_type": "code",
   "execution_count": 39,
   "metadata": {},
   "outputs": [],
   "source": [
    "review_texts_2018 = [review['Review Text'] for review in reviews_2018]"
   ]
  },
  {
   "cell_type": "code",
   "execution_count": 40,
   "metadata": {
    "scrolled": true
   },
   "outputs": [
    {
     "data": {
      "text/plain": [
       "[\"I highly recommend watching this drama, I finished watching the whole series in 4 days.\\n\\nMy first Cdrama was Meteor Garden, this is my second. Meteor Garden kind of dragged towards the end, and the ending was okay, but A Love so Beautiful kept me hooked through out the drama, every episode was interesting. The leads are not as frustrating.\\n\\nThis drama is filled with cute bubbly scenes. The leads are super adorable!!\\n\\nThe cast was perfect, all of the cast portrayed their roles well. (Warning you will get terrible second lead syndrome.)\\n\\nThere wasn't much music with lyrics mostly instrumentals. Music wasn't over played and was used well.\\n\\nI would definitely re watch! Such a cute drama!\",\n",
       " 'A love so beautiful was a great love story. I loved the storyline and how it flowed, It wasn\\'t rushed and it wasn\\'t too slow it was perfect. I usually don\\'t like high school centered dramas and when I found out that this story focused a lot of time in High school I almost didn\\'t watch. However, The cast is awesome, great chemistry. I was drawn in throughout the storyline I didn\\'t even know who to root for the second lead was as mature, sweet and handsome as the main lead.  I hated how the mother kind of disliked the second lead because of his \"dark skin\" but it wasn\\'t a big deal and didn\\'t overshadow the show at all it was just something that bugged me personally because I thought he was a cutie.  I love how the show didn\\'t waste time on trivial things other shows would be the main character failed her college entrance exam and had to retake the exam instead of focusing on that for 5 episodes the audience got a condensed episode of study scene and college life which was great because it cuts out the filler episodes and leaves room for more productive content.  Overall great show, great cast, and storyline.',\n",
       " \"This drama is absolutely amazing, 10/10 my favorite drama of all time. I have watched it 4 times in total! And I have never rewatched anything this much. The story and overall show and characters is very different from your typical Chinese drama. This one is very special. It isn't over exaggerated and fake like most Chinese dramas such as Meteor Garden or Boys Over Flowers. This drama depicts REAL life in China as a highschool student. It really brings you into their lives and the things they deal with. This is a must see for anyone who likes Asian dramas.\",\n",
       " 'Firstly, I have seen many Chinese dramas and this one balanced every factor beautifully. I felt that it was just the right length (24 eps, compared to the usual 40+ with terrible plot lines, and episodes that just drag), and seemed to follow the formula for a Korean drama, in that it was clever and not too predictable. \\n\\nI was fully invested in both the lead and supporting characters, in most dramas I tend to skip the part of the supporting characters, but not this time; everyone really held their weight. I really thought the actors outdid themselves in every aspect, and the chemistry made me hold my breath at times. \\n\\nEven though many compare this to Playful Kiss, I\\'d say that yes, there are some similarities, but it is very unique and not nearly as \"silly\" and \"annoying\" as that show. This felt similar to a slice of life/school anime initially which developed into a very sweet romance. There is also that trait that is often seen with the girl with really short hair being loud and spontaneous, like in Reply 1984, and even the Taiwanese version of Skip Beat (which is the closest, I just kept thinking of Ivy Chen). It was nice to see maturity evolve particularly in the female lead character, from start to finish. \\n\\nOne final thought that kept crossing my mind throughout the show was that I really wanted to have such supportive friends as the lead character had, I was actually jealous at times because they portrayed such a genuine friendship. I laughed with them and cried when it was tough, the emotional investment was there. I think that is why this show also reminded me of animes like Toradora and Kokoro Connect (and even Clannad, but don\\'t take it too far)',\n",
       " \"The drama was quite cute and I appreciated being able to watch the main characters age and grow together, especially the high school portions of the drama. There were a few parts of the plot and the writing which I found particularly week, especially about the main couple's inability to communicate properly. After dating for a while, I wasn't expecting their first big spat to end as childishly as it did, and I found the heroine pretty selfish, leading on a guy when she knew she wasn't fully over her first love, dragging on a relationship for actual years, which was so disrespectful on her part. There were a lot of moments where she was too irrational and too brash, but I respected that despite that, it seemed to somehow work with her character. Their relationship was awkward, but it really felt right, and the ending was more than satisfying, I admit I shed a tear when I saw them walk down the path as adults, holding hands, slowly becoming their teenage selves again, really the beautiful finish that the drama deserved.\\n\\nI think that while the main couple were amazing, the real stars came in the form of the lead roles. The second male lead was the perfect mixture of too kind and too quiet to really make the audience empathise with his position, and while I was rooting for the main couple, I always felt upset when I saw the Bu Song's (second-male-lead) reaction. His acting was so convincing and his character was perfect in balancing out their fivesome.\\n\\nMy personal favourites were Lu Yang and Jing Xiao. They were amazing best friends and were genuinely supportive of everyone  in their little group. When they overcame their High School problems and became a strong couple i university, I was so happy, but they also made me want to hit the main couple's heads because really,  couldn't they just look to their friends for example and realise that communication is integral in a relationship?? \\n\\nWhile the drama largely centered around romance, I really think that the moments that focused on friendship were the strongest written parts. All the scenes where the fivesome help each other overcome problems, or just hang out for fun is ingrained in my memory, because they really made such a lovely little family for themselves.\"]"
      ]
     },
     "execution_count": 40,
     "metadata": {},
     "output_type": "execute_result"
    }
   ],
   "source": [
    "review_texts_2018[0:5]"
   ]
  },
  {
   "cell_type": "code",
   "execution_count": 41,
   "metadata": {},
   "outputs": [
    {
     "name": "stdout",
     "output_type": "stream",
     "text": [
      "review_texts_2018 has 58 pieces of review text, each is a string object.\n"
     ]
    }
   ],
   "source": [
    "print('review_texts_2018 has {} pieces of review text, each is a string object.'.format(len(review_texts_2018)))"
   ]
  },
  {
   "cell_type": "code",
   "execution_count": 42,
   "metadata": {},
   "outputs": [],
   "source": [
    "review_texts_2018_dist = Counter()\n",
    "\n",
    "for review_text in review_texts_2018:\n",
    "    tok = tokenize(review_text, lowercase = True, strip_chars = '!\"#$%&\\()*+,-.:;<=>?@[\\\\]^_`{|}~')\n",
    "    review_texts_2018_dist.update(tok)"
   ]
  },
  {
   "cell_type": "code",
   "execution_count": 43,
   "metadata": {},
   "outputs": [
    {
     "name": "stdout",
     "output_type": "stream",
     "text": [
      "There are 16981 tokens in review_texts_2018_dist.\n"
     ]
    }
   ],
   "source": [
    "review_token_2018_cnt = sum(review_texts_2018_dist.values())\n",
    "print('There are {} tokens in review_texts_2018_dist.'.format(review_token_2018_cnt))"
   ]
  },
  {
   "cell_type": "code",
   "execution_count": 44,
   "metadata": {},
   "outputs": [
    {
     "name": "stdout",
     "output_type": "stream",
     "text": [
      "[('the', 745), ('i', 546), ('and', 440), ('a', 352), ('to', 336), ('it', 287), ('of', 256), ('this', 253), ('is', 250), ('drama', 245), ('was', 204), ('that', 199), ('but', 176), ('in', 170), ('so', 158), ('for', 153), ('love', 132), ('you', 128), ('me', 116), ('like', 102), ('really', 92), ('their', 91), ('all', 90), ('with', 89), ('they', 86), ('my', 85), ('just', 85), ('not', 82), ('as', 81), ('be', 80), ('on', 79), ('story', 75), ('he', 73), (\"it's\", 68), ('because', 63), ('more', 63), ('one', 63), ('she', 62), ('chen', 60), ('watch', 58), ('have', 58), ('school', 57), ('his', 57), ('her', 56), ('lead', 55), ('how', 55), ('are', 54), ('cute', 54), ('very', 54), ('also', 51)]\n"
     ]
    }
   ],
   "source": [
    "print(review_texts_2018_dist.most_common(50))"
   ]
  },
  {
   "cell_type": "markdown",
   "metadata": {},
   "source": [
    "**A few observations**\n",
    "* Besides some function words (e.g., *`the`*, *`and`*, *`a`*, *`to`*, *`of`*, etc.), the words *`i`*, *`it`*, *`this`*, and *`drama`* are among the top 10 words that appear the most in the review texts.\n",
    "    * When the reviewers are writing a review for a drama, they are likely to often refer to themselves and talk about their personal feelings or engagement with the drama, so the word *`i`* occurs a lot in the review text.\n",
    "    * Similarly, since they are writing about a drama, they would keep referring to the drama, too. This might explain the frequent occurrence of the words *`it`*, *`this`*, and *`drama`*.\n",
    "* The word *`love`* ranks the 17th. This is reasonable since the drama is about puppy love and might trigger the reviewers to talk about love -- either their own love stories or the love stories in the drama.\n",
    "* The word *`school`* occurs 57 times. The drama has a setting in school, which might remind the reviewers of their youth memories in school.\n",
    "* The word *`cute`* occurs 54 times. It is very likely the word that the reviewers would use to describe the story or the characters in the drama.\n",
    "* One word that worths paying attention to is *`chen`*. This is the last name of the female lead character; it is also the first name of the male lead character. It is common that the reviews mention about the characters, but in this case, the problem with the one-word frequency list is that we would not know which character the *`chen`* is referring to. So it might be a good idea to look at a bigram frequency list or even a trigram frequency list."
   ]
  },
  {
   "cell_type": "markdown",
   "metadata": {},
   "source": [
    "**2. Bigram frequency list and trigram frequency list**"
   ]
  },
  {
   "cell_type": "code",
   "execution_count": 45,
   "metadata": {},
   "outputs": [],
   "source": [
    "review_texts_2018_bigram_dist = Counter()\n",
    "review_texts_2018_trigram_dist = Counter()\n",
    "\n",
    "for review_text in review_texts_2018:\n",
    "    tok = tokenize(review_text, lowercase = True, strip_chars = '!\"#$%&\\()*+,-.:;<=>?@[\\\\]^_`{|}~')\n",
    "    bigram_tok = get_ngram_tokens(tok, n=2)\n",
    "    trigram_tok = get_ngram_tokens(tok, n=3)\n",
    "    \n",
    "    review_texts_2018_bigram_dist.update(bigram_tok)\n",
    "    review_texts_2018_trigram_dist.update(trigram_tok)"
   ]
  },
  {
   "cell_type": "code",
   "execution_count": 46,
   "metadata": {},
   "outputs": [
    {
     "name": "stdout",
     "output_type": "stream",
     "text": [
      "There are 16923 tokens in review_texts_2018_bigram_dist.\n",
      "There are 16865 tokens in review_texts_2018_trigram_dist.\n"
     ]
    }
   ],
   "source": [
    "reviews_2018_bigram_token_cnt = sum(review_texts_2018_bigram_dist.values())\n",
    "print('There are {} tokens in review_texts_2018_bigram_dist.'.format(reviews_2018_bigram_token_cnt))\n",
    "\n",
    "reviews_2018_trigram_token_cnt = sum(review_texts_2018_trigram_dist.values())\n",
    "print('There are {} tokens in review_texts_2018_trigram_dist.'.format(reviews_2018_trigram_token_cnt))"
   ]
  },
  {
   "cell_type": "code",
   "execution_count": 47,
   "metadata": {},
   "outputs": [
    {
     "name": "stdout",
     "output_type": "stream",
     "text": [
      "[('this drama', 114), ('of the', 62), ('jiang chen', 50), ('the drama', 47), ('it was', 45), ('the story', 38), ('high school', 37), ('and i', 36), ('but i', 35), ('drama is', 33), ('to be', 32), ('the main', 30), ('this is', 29), ('and the', 29), ('i was', 28), ('to watch', 28), ('xiao xi', 28), ('in the', 27), ('i think', 27), ('is a', 26), ('is the', 26), ('to the', 24), ('a love', 23), ('for the', 22), ('it is', 22), ('one of', 22), ('so beautiful', 21), ('i just', 21), ('love so', 20), ('the best', 20), ('a lot', 19), ('i really', 19), ('female lead', 19), ('that i', 19), ('want to', 19), ('all the', 19), ('on the', 19), (\"i don't\", 19), ('so much', 19), ('i liked', 19), ('i love', 18), ('for me', 18), ('is so', 18), ('if you', 18), ('the characters', 18), ('was a', 17), ('but it', 17), ('with the', 17), ('was so', 17), ('the end', 16)]\n",
      "\n",
      "\n",
      "[('this drama is', 30), ('a love so', 18), ('love so beautiful', 18), ('a lot of', 14), ('the female lead', 14), ('one of the', 12), ('the story is', 10), ('jiang chen and', 9), ('this is the', 9), ('in this drama', 9), ('hu yi tian', 8), ('itazura na kiss', 8), ('of the drama', 7), ('wu bo song', 7), ('the chemistry between', 7), ('i liked the', 7), ('is one of', 7), ('and xiao xi', 7), ('drama is a', 7), ('watching this drama', 6), ('towards the end', 6), ('in high school', 6), ('the main characters', 6), ('all in all', 6), ('the drama and', 6), ('it was a', 6), ('this drama was', 6), ('chemistry between the', 6), ('chen and xiao', 6), ('i highly recommend', 5), ('this drama i', 5), ('this is a', 5), ('that it was', 5), ('but it is', 5), ('reminded me of', 5), ('the high school', 5), ('their high school', 5), ('xiao xi and', 5), ('and jiang chen', 5), ('supposed to be', 5), ('this drama and', 5), ('i watched this', 5), ('in the end', 5), ('i love the', 5), ('it made me', 5), ('drama that i', 5), ('about this drama', 5), ('so beautiful is', 5), ('the first episode', 5), (\"i don't know\", 5)]\n"
     ]
    }
   ],
   "source": [
    "print(review_texts_2018_bigram_dist.most_common(50))\n",
    "print('\\n')\n",
    "print(review_texts_2018_trigram_dist.most_common(50))"
   ]
  },
  {
   "cell_type": "markdown",
   "metadata": {},
   "source": [
    "**A few observations**\n",
    "\n",
    "* The bigram *`jiang chen`* ranks the third in the bigram frequency list! This is the full name of the male lead character. The bigram *`xiao xi`* ranks the 17th. This is the first name of the female lead character. The occurrence of *`jiang chen`* is almost twice of that of *`xiao xi`*. But notice that there is a bigram *`female lead`* that occurs 19 times. If we take this 19 times into account for *`xiao xi`* when we consider the number of times that the reviews mention about the two lead characters, there isn't a big difference between the two. The reviewers do not seem to prefer writing about one more than the other in their reviews.\n",
    "* The bigram *`high school`* appears 37 times. This suggests that high school as the setting actually leaves an impression among the audience, probably because it is a place where many people can relate to especially when it mingles with love stories.\n",
    "\n",
    "* More names! The trigram *`hu yi tian`* is the name of the actor who plays *`jiang chen`*. It appears 8 times. Interestingly, one cannot find the name of the actress who plays *`xiao xi`* in the frequency list showing the top 50 bigrams or trigrams. Actually, the actress who plays *`xiao xi`* is Shen Yue; we would look into the bigram frequency list to find her name. In fact, the bigram *`shen yue`* occurs 12 times, though it is not in the top 50. Reviews usually write about the characters because they are the ones directly related to the drama. But sometimes, they also write about the actors or actresses. For example, they might discuss the acting skills or the appearance of these actors and actresses.\n",
    "* Reviewers did not forget about the second male lead character, whose name *`wu bo song`* occurs 7 times in the reviews. Though much fewer times of mentioning compared to those of *`xiao xi`* and *`jiang chen`*, it shows that *`wu bo song`* also plays an impressive role and is worthy of audience discussion.\n",
    "* Notice the trigrams like *`jiang chen and`*, *`and xiao xi`*, *`chen and xiao`*, and *`xiao xi and`*. Audience in fact often talk about the two main characters together.\n",
    "* One interesting trigram is *`the chemistry between`*. When people talk about love, they often use the word \"chemistry\" when they describe the interactions between the couple -- this applies to their discussion of the couples in drama as well."
   ]
  },
  {
   "cell_type": "markdown",
   "metadata": {},
   "source": [
    "### Analyzing Reviews from 2019\n",
    "\n",
    "Repeat the steps done for reviews from 2017 or 2018.\n",
    "\n",
    "**Word frequency list**"
   ]
  },
  {
   "cell_type": "code",
   "execution_count": 48,
   "metadata": {},
   "outputs": [],
   "source": [
    "review_texts_2019 = [review['Review Text'] for review in reviews_2019]"
   ]
  },
  {
   "cell_type": "code",
   "execution_count": 49,
   "metadata": {
    "scrolled": true
   },
   "outputs": [
    {
     "data": {
      "text/plain": [
       "[\"I was putting off watching this drama for a while. I always saw it under 'top dramas', my recommendation feed, reviews where it was called as another ISWAK/Itazura na Kiss/Playful Kiss, etc.\\n\\nBefore I began watching this I was only familiar with the male lead in a drama where his role wasn't too big. I did know that he is quite decent so decided to go ahead. Here's what I thought finally:\\n\\nSTORY: On the surface it comes off as another youth drama. However what I liked most about the drama was the simplicity of the plot. It's just about a group of friends, an annoying love triangle, a jerk male lead and ditz female lead. I can see the comparisons with ISWAK but nothing tops that. It would be fair to say this was at least inspired from that story. But what sets this drama apart are the likeable characters and the trivial-yet-relatable situations they go through. Their friendship was excellent and it was best part for me over the romantic plot. \\n\\nCHARACTERS AND LOVE TRIANGLE: I had a love-hate relationship with Xiao Xi. She's cute, simple but was too dense for my liking. I also don't like how she seemed not to have any self-respect. I was often uncomfortable with the message this drama keeps giving- it's fine to keep chasing someone even if they walk all over you. Not saying that Jiang Chen didn't like her, but he was mean to her majority of the drama. For me I was all in on the second lead ship. I haven't suffered such major Second Lead Syndrome since AGES. Bo Song deserved Xiao Xi's love. I hated how stone cold she was to him and even seemed ungrateful at times. He did so much for her but she always had one person in her heart. I would blame the writer for this plot because the better moments were written between Xiao Xi and Bo Song. She kept hanging with him till the last 2 episodes, not acknowledging his love. For god's sake, she spent her entire life with a one-sided love and I couldn't buy how she couldn't recognise Bo Song's love throughout regardless of what he said to her. I didn't really buy Jiang Chen as a character, his reason for being mean to her and why he liked her. He just seemed like a selfish person to me who played and manipulated her as he wished. I liked his adult side better because he had at least become more mature and expressive by then. I did enjoy his interactions with Xiao Xi towards the end. The other two friends were awesome and I was glad about having a secondary couple on the show.\\n\\nFLAWS: It was slow, seemed to have borrowed ideas and lack of plot in between episodes. One thing that is rarely explained in Chinese dramas is why the leads fall for each other. In this drama also I had no clue. Especially Xiao Xi's devotion to JC was hard to understand. It was more than just fangirl feelings or puppy love. She was stupid, playful and childish but was bold when it came to pursuing him and had only him in her heart forever.\\n\\nI think this drama is cute if you want to watch something relaxing without much drama. The drama was slow but it was consistent in following its own pacing in all the episodes. Just don't root for the second lead and this drama might just be more enjoyable.\",\n",
       " 'Story :\\n\\nFresh! That\\'s my first thought when I start to watch this series. This series is quite mild, but the development of everyone\\'s personality and feelings are clearly visible here. One thing I like the most here is the friendship. This series does not recognize the phrase \"love will destroy the friendship\". They still support each other even though the person they like likes someone else. And I really love how that friendship continues to develop until they are grow up.\\n\\nSometimes I feel exasperated by Chen Xiao Xi\\'s childish attitude, but well, maybe when I was in school I did the same thing. LOL. And I really love to see when Jiang Chen feels jealous seeing Chen Xiao Xi and Wu Bo Song\\'s closeness ^_^\\n\\nActing/Cast :\\n\\nThey all did great and so natural, but I especially love Shen Yue acting. She\\'s so cute I can\\'t help it but to adore her ^_^\\n\\nMusic :\\n\\nThe opening and ending song are so easy listening, and I put them both on my Spotify playlist now ^_^\\n\\nRewatch Value :\\n\\nI definitely will watch this series again if I need some cuteness in my life.',\n",
       " \"''A Love So Beautiful'' was the first C-Drama that I've ever watched!\\n\\nThe story isn't something fresh or new, talks about a looong friendship that turns into something more into a 12 year timelapse.\\n\\nI've really appreciated it because doesn't tend to fall into boring long and unappropriated scenes like many other Chinese dramas, everything super smooth and easy-going.\\n\\nI absolutely loved the second lead, also the main couple made wonderful work!\\n\\nMore than a drama, I can consider it more as a long journey with the cast into their life as teenagers till adults!\\n\\nAbsolutely worth the time spent by watching it!\",\n",
       " 'First of all, I am a sucker for teen dramas (especially high school dramas), so I absolutely loved this drama! I thought the story was so well organised and interesting. I usually don’t watch Chinese dramas as I think they often overact and can be too cringe but I found this drama extremely fun watching despite the amount of cringy scenes. \\n\\nThe main characters chemistry is so amazing and I think that the love story in the drama is really good and sweet. The main couple is definitely the reason that I kept watching the drama as they show so sincere love. And who doesn’t love a love triangle. \\n\\nThe friendship between the five main characters is what I really liked in the drama. However I do think that the story was too slow in some aspects. I would definitely recommend this to anyone wanting to start watching Chinese dramas.',\n",
       " 'I watched this on Netflix and I have re-watched this over a dozen times!\\n\\nThis series brought me back to my childhood, where I had crushes and a lot of  heartbreaks!  It is very relatable!\\n\\nShen Yue, Hu Yi Tian and the rest of the cast portrayed their roles well.  \\n\\nHaving read the book, I wish it had more episodes to really show their life together as an \"adult couple\".\\n\\nThis series brought laughter, excitement, tears and admiration for me and I love that it brought that many emotions.']"
      ]
     },
     "execution_count": 49,
     "metadata": {},
     "output_type": "execute_result"
    }
   ],
   "source": [
    "review_texts_2019[0:5]"
   ]
  },
  {
   "cell_type": "code",
   "execution_count": 50,
   "metadata": {},
   "outputs": [
    {
     "name": "stdout",
     "output_type": "stream",
     "text": [
      "review_texts_2019 has 24 pieces of review text, each is a string object.\n"
     ]
    }
   ],
   "source": [
    "print('review_texts_2019 has {} pieces of review text, each is a string object.'.format(len(review_texts_2019)))"
   ]
  },
  {
   "cell_type": "code",
   "execution_count": 51,
   "metadata": {},
   "outputs": [],
   "source": [
    "review_texts_2019_dist = Counter()\n",
    "\n",
    "for review_text in review_texts_2019:\n",
    "    tok = tokenize(review_text, lowercase = True, strip_chars = '!\"#$%&\\()*+,-.:;<=>?@[\\\\]^_`{|}~')\n",
    "    review_texts_2019_dist.update(tok)"
   ]
  },
  {
   "cell_type": "code",
   "execution_count": 52,
   "metadata": {},
   "outputs": [
    {
     "name": "stdout",
     "output_type": "stream",
     "text": [
      "There are 6031 tokens in review_texts_2019_dist.\n"
     ]
    }
   ],
   "source": [
    "review_token_2019_cnt = sum(review_texts_2019_dist.values())\n",
    "print('There are {} tokens in review_texts_2019_dist.'.format(review_token_2019_cnt))"
   ]
  },
  {
   "cell_type": "code",
   "execution_count": 53,
   "metadata": {},
   "outputs": [
    {
     "name": "stdout",
     "output_type": "stream",
     "text": [
      "[('the', 287), ('i', 216), ('and', 184), ('a', 140), ('to', 114), ('of', 102), ('was', 97), ('is', 97), ('it', 96), ('this', 90), ('drama', 81), ('in', 71), ('but', 64), ('for', 63), ('that', 61), ('her', 49), ('he', 48), ('love', 48), ('chen', 43), ('with', 42), ('as', 40), ('so', 38), ('not', 35), ('you', 35), ('story', 34), ('jiang', 34), ('they', 33), ('how', 33), ('like', 32), ('xiaoxi', 32), ('at', 29), ('really', 29), ('me', 28), ('lead', 27), ('my', 26), ('when', 26), ('his', 25), ('just', 25), ('she', 25), ('on', 24), ('about', 24), ('their', 23), ('all', 23), ('one', 23), ('did', 22), ('also', 22), ('have', 22), ('are', 21), ('show', 21), ('more', 20)]\n"
     ]
    }
   ],
   "source": [
    "print(review_texts_2019_dist.most_common(50))"
   ]
  },
  {
   "cell_type": "markdown",
   "metadata": {},
   "source": [
    "**A few observations**\n",
    "* Words like *`i`*, *`me`*, and *`my`* still occur frequently. But there are more pronouns--*`her`* appears 49 times, *`she`* appears 25 times, and *`he`* appears 48 times.\n",
    "* The last name of the male lead character *`jiang`* appears 34 times, and the first name of the female lead character *`xiaoxi`* (one-word form of *`Xiao Xi`*) appears 32 times, along with the frequent appearance of the word *`chen`* that is common to both lead characters.\n",
    "* Also notice the word *`lead`*, which appears 27 times.\n",
    "* These observations suggest that reviews from 2019 seem to talk about the characters very often."
   ]
  },
  {
   "cell_type": "markdown",
   "metadata": {},
   "source": [
    "**2. Bigram frequency list and trigram frequency list**"
   ]
  },
  {
   "cell_type": "code",
   "execution_count": 54,
   "metadata": {},
   "outputs": [],
   "source": [
    "review_texts_2019_bigram_dist = Counter()\n",
    "review_texts_2019_trigram_dist = Counter()\n",
    "\n",
    "for review_text in review_texts_2019:\n",
    "    tok = tokenize(review_text, lowercase = True, strip_chars = '!\"#$%&\\()*+,-.:;<=>?@[\\\\]^_`{|}~')\n",
    "    bigram_tok = get_ngram_tokens(tok, n=2)\n",
    "    trigram_tok = get_ngram_tokens(tok, n=3)\n",
    "    \n",
    "    review_texts_2019_bigram_dist.update(bigram_tok)\n",
    "    review_texts_2019_trigram_dist.update(trigram_tok)"
   ]
  },
  {
   "cell_type": "code",
   "execution_count": 55,
   "metadata": {},
   "outputs": [
    {
     "name": "stdout",
     "output_type": "stream",
     "text": [
      "There are 6007 tokens in review_texts_2019_bigram_dist.\n",
      "There are 5983 tokens in review_texts_2019_trigram_dist.\n"
     ]
    }
   ],
   "source": [
    "reviews_2019_bigram_token_cnt = sum(review_texts_2019_bigram_dist.values())\n",
    "print('There are {} tokens in review_texts_2019_bigram_dist.'.format(reviews_2019_bigram_token_cnt))\n",
    "\n",
    "reviews_2019_trigram_token_cnt = sum(review_texts_2019_trigram_dist.values())\n",
    "print('There are {} tokens in review_texts_2019_trigram_dist.'.format(reviews_2019_trigram_token_cnt))"
   ]
  },
  {
   "cell_type": "code",
   "execution_count": 56,
   "metadata": {},
   "outputs": [
    {
     "name": "stdout",
     "output_type": "stream",
     "text": [
      "[('this drama', 36), ('jiang chen', 31), ('of the', 21), ('and i', 21), ('it was', 20), ('the drama', 17), ('but i', 17), ('i was', 14), ('and the', 14), ('in the', 14), ('a lot', 13), ('i loved', 13), ('the story', 12), ('the main', 12), ('xiao xi', 11), ('the end', 11), ('is the', 11), ('for me', 10), ('the second', 10), ('drama was', 9), ('second lead', 9), ('i would', 9), ('high school', 9), ('did a', 9), ('watching this', 8), ('when it', 8), ('if you', 8), ('to see', 8), ('that the', 8), ('that i', 8), ('lot of', 8), ('at the', 8), ('the only', 8), ('a little', 8), ('he is', 7), ('on the', 7), ('the plot', 7), ('female lead', 7), ('the other', 7), ('in this', 7), ('drama is', 7), ('for the', 7), ('this series', 7), ('the time', 7), ('it is', 7), ('is a', 7), ('lu yang', 7), ('this show', 7), ('with the', 6), ('it comes', 6)]\n",
      "\n",
      "\n",
      "[('a lot of', 8), ('the second lead', 6), ('in the drama', 5), ('at the end', 5), ('did a great', 5), ('a great job', 5), ('when it comes', 5), ('it comes to', 5), ('watching this drama', 4), ('group of friends', 4), ('in this drama', 4), ('rewatch value i', 4), ('the main couple', 4), ('the drama is', 4), ('i would definitely', 4), ('the female lead', 4), ('to see how', 4), ('this drama was', 4), ('the male lead', 3), ('the drama was', 3), ('with xiao xi', 3), ('of the drama', 3), ('xiao xi and', 3), ('the story was', 3), ('he liked xiaoxi', 3), ('with jiang chen', 3), ('jiang chen and', 3), ('most of the', 3), ('this is the', 3), ('as the story', 3), ('a lot more', 3), ('i loved the', 3), ('was going to', 3), ('and jiang chen', 3), ('i loved this', 3), ('i loved how', 3), ('good good good', 3), ('give it a', 3), ('jiang chen is', 3), ('that he is', 2), ('he is quite', 2), ('the simplicity of', 2), ('simplicity of the', 2), ('of the plot', 2), ('a group of', 2), ('i can see', 2), ('can see the', 2), ('their friendship was', 2), (\"xiao xi she's\", 2), ('but was too', 2)]\n"
     ]
    }
   ],
   "source": [
    "print(review_texts_2019_bigram_dist.most_common(50))\n",
    "print('\\n')\n",
    "print(review_texts_2019_trigram_dist.most_common(50))"
   ]
  },
  {
   "cell_type": "markdown",
   "metadata": {},
   "source": [
    "**A few observations**\n",
    "* The bigram frequency list shows that *`jiang chen`* occurs 31 times, but the numbers of occurence of *`xiao xi`* and *`female lead`* only add up to 18 times. We can reasonably infer that reviewers from 2019 talk about the male lead character more than the female lead character.\n",
    "* More characters show up! The phrase *`second lead`* and the name of a support role *`lu yang`* are among the 50 most common bigrams. Viewers also care about characters other than the main couple!\n",
    "* In the trigram frequency list, there are two phrases related to friends -- *`group of friends`* and *`their friendship was`*. Although the drama is mainly about love stories, it also contains the theme of friendship, and the viewers do not just ignore this theme while enjoying the sweet love between the characters."
   ]
  },
  {
   "cell_type": "markdown",
   "metadata": {},
   "source": [
    "## Concordance Analysis\n",
    "\n",
    "Though word and phrase frequency analysis can give us a general idea of what the reviewers cover in their reviews, it cannot provide more detailed information about the reviewers' thoughts about the drama. For example, we see words such as *`school`* and *`cute`* that show up very often in the reviews, but we cannot tell from the frequency list in what contexts these words appear and how these words are used. So for the next part, I am going to choose a word of interest from the word frequency list for each year and use concordance analysis to take a closer look at them. By investigating a specific word in context, we can summarize certain patterns used with the word and discover meaning in these patterns."
   ]
  },
  {
   "cell_type": "markdown",
   "metadata": {},
   "source": [
    "### Investigating a word of interest for reviews in 2017\n",
    "\n",
    "Let's recall the word frequency list (the most common 50 words) for reviews from 2017 and choose a word that we are interested in investigating."
   ]
  },
  {
   "cell_type": "code",
   "execution_count": 57,
   "metadata": {
    "scrolled": true
   },
   "outputs": [
    {
     "name": "stdout",
     "output_type": "stream",
     "text": [
      "[('the', 412), ('i', 235), ('and', 205), ('to', 181), ('a', 170), ('it', 162), ('is', 141), ('drama', 138), ('this', 137), ('of', 115), ('was', 94), ('that', 92), ('in', 86), ('so', 75), ('you', 72), ('for', 63), ('but', 61), ('love', 61), ('as', 55), ('my', 50), ('story', 45), ('not', 44), ('with', 44), ('me', 43), ('have', 42), ('their', 39), ('on', 38), ('they', 38), ('watch', 38), ('be', 37), ('school', 36), ('very', 35), ('all', 34), ('just', 34), ('cute', 32), ('really', 31), ('more', 30), ('high', 28), ('about', 27), ('how', 27), ('he', 27), ('like', 26), ('will', 26), ('beautiful', 25), ('because', 25), ('out', 25), ('at', 25), ('if', 25), ('chen', 24), ('from', 23)]\n"
     ]
    }
   ],
   "source": [
    "print(review_texts_2017_dist.most_common(50))"
   ]
  },
  {
   "cell_type": "markdown",
   "metadata": {},
   "source": [
    "The word *`school`* appears 36 times. We already know that the drama is mainly about Jiang Chen and Xiao Xi's love story in school, but is there another \"school\" that the reviewers are referring to in their reviews? Would they write about their own love stories during their school life?\n",
    "\n",
    "To examine the use of the word *`school`* by the reviewers, we need to:\n",
    "1. create a list of tokens for the review texts from 2017\n",
    "2. create a KWIC (key word in context) concordance object using the `make_kwic` function\n",
    "3. obtain a random sample of 20 lines\n",
    "4. examine the KWIC listing and make some observations using the `sort_kwic` and `print_kwic` functions"
   ]
  },
  {
   "cell_type": "code",
   "execution_count": 58,
   "metadata": {},
   "outputs": [],
   "source": [
    "review_texts_2017_tokens = []\n",
    "\n",
    "for rev_text in review_texts_2017:\n",
    "    rev_text_tok = tokenize(rev_text, lowercase = True, strip_chars = '!\"#$%&\\()*+,-.:;<=>?@[\\\\]^_`{|}~')\n",
    "    review_texts_2017_tokens.extend(rev_text_tok)"
   ]
  },
  {
   "cell_type": "code",
   "execution_count": 59,
   "metadata": {},
   "outputs": [],
   "source": [
    "school = make_kwic('school', review_texts_2017_tokens, win=6)"
   ]
  },
  {
   "cell_type": "code",
   "execution_count": 60,
   "metadata": {},
   "outputs": [],
   "source": [
    "random.seed(5)\n",
    "school_sample = random.sample(school, 20)"
   ]
  },
  {
   "cell_type": "code",
   "execution_count": 61,
   "metadata": {
    "scrolled": true
   },
   "outputs": [
    {
     "name": "stdout",
     "output_type": "stream",
     "text": [
      "                         lead syndrome a very kawaii chinese  school  novel the story is not groundbreaking\n",
      "                   adulthood changing feelings love and hate  school  challenges and youthful childhood so nostalgic\n",
      "                                 remember that she is a high  school  girl and at the time where\n",
      "                      very smoothly it transitions from high  school  life to adult life while focusing\n",
      "                      five friends trudge through their high  school  years having teachers scold you finding\n",
      "                                    from being a kid at high  school  to an adult facing reality the\n",
      "                        us have experienced studying in high  school  although not everyone had experiences of\n",
      "                           drama life lessons that cute high  school  puppy love story and of course\n",
      "                                 i'm saying from from a high  school  student this drama is beautiful in\n",
      "                             the drama watching them in high  school  and you love it to pieces\n",
      "                            soon as the characters left high  school  the plot began to wander there\n",
      "                          of the main characters during high  school  this is another instance wherein a\n",
      "                          takes place mainly during the high  school  life and transitions to more serious\n",
      "                       this show the transition between high  school  to college to adult life was\n",
      "                                 we got enough of their high  school  life how their characters and relationship\n",
      "                             while focusing the most on high  school  life i fell in love with\n",
      "                             to get through the struggles of  school  and first love i did not\n",
      "                          thought it was just another romcom  school  drama but didn't expect this to\n",
      "                                      you want to go back to  school  and cherish all those moments good\n",
      "                                    boy she likes they go to  school  together and eventually mutual feelings develop\n"
     ]
    }
   ],
   "source": [
    "print_kwic(sort_kwic(school_sample, ['L5']))"
   ]
  },
  {
   "cell_type": "markdown",
   "metadata": {},
   "source": [
    "**Some observations of *`school`***\n",
    "\n",
    "* In this sample, the word *`school`* is used in multiple ways:\n",
    "    1. It is referring to the \"school\" in the drama (e.g., lines 4, 5, 10-16 and 20)\n",
    "    2. It is referring to \"school\" in general or \"school\" related to the reviewers (e.g., lines 2, 3, 6, 7, 9, 17 and 19)\n",
    "    3. It is modifying a noun to give specific information (e.g., lines 1, 3, 8 and 18)\n",
    "\n",
    "\n",
    "* Since the drama tells stories that take place in school, reviewers bring up the word *`school`* a lot in their reviews -- whether or not related to the drama. This shows that school is an element in the drama that impresses the audience. While love stories in school are a memorable point of the drama, these stories also remind the audience of their own experiences with school."
   ]
  },
  {
   "cell_type": "markdown",
   "metadata": {},
   "source": [
    "### Investigating a word of interest for reviews in 2018\n",
    "\n",
    "Recall the word frequency list (the most common 50 words) for reviews from 2018 and choose a word that we are interested in investigating."
   ]
  },
  {
   "cell_type": "code",
   "execution_count": 62,
   "metadata": {},
   "outputs": [
    {
     "name": "stdout",
     "output_type": "stream",
     "text": [
      "[('the', 745), ('i', 546), ('and', 440), ('a', 352), ('to', 336), ('it', 287), ('of', 256), ('this', 253), ('is', 250), ('drama', 245), ('was', 204), ('that', 199), ('but', 176), ('in', 170), ('so', 158), ('for', 153), ('love', 132), ('you', 128), ('me', 116), ('like', 102), ('really', 92), ('their', 91), ('all', 90), ('with', 89), ('they', 86), ('my', 85), ('just', 85), ('not', 82), ('as', 81), ('be', 80), ('on', 79), ('story', 75), ('he', 73), (\"it's\", 68), ('because', 63), ('more', 63), ('one', 63), ('she', 62), ('chen', 60), ('watch', 58), ('have', 58), ('school', 57), ('his', 57), ('her', 56), ('lead', 55), ('how', 55), ('are', 54), ('cute', 54), ('very', 54), ('also', 51)]\n"
     ]
    }
   ],
   "source": [
    "print(review_texts_2018_dist.most_common(50))"
   ]
  },
  {
   "cell_type": "markdown",
   "metadata": {},
   "source": [
    "The word *`cute`* occurs 54 times. What are the reviewers describing when they use this word in their reviews?\n",
    "\n",
    "Repeat the steps as done in the part for reviews in 2017 to examine the use of the word *`cute`* by the reviewers in 2018."
   ]
  },
  {
   "cell_type": "code",
   "execution_count": 63,
   "metadata": {},
   "outputs": [],
   "source": [
    "review_texts_2018_tokens = []\n",
    "\n",
    "for rev_text in review_texts_2018:\n",
    "    rev_text_tok = tokenize(rev_text, lowercase = True, strip_chars = '!\"#$%&\\()*+,-.:;<=>?@[\\\\]^_`{|}~')\n",
    "    review_texts_2018_tokens.extend(rev_text_tok)"
   ]
  },
  {
   "cell_type": "code",
   "execution_count": 64,
   "metadata": {},
   "outputs": [],
   "source": [
    "cute = make_kwic('cute', review_texts_2018_tokens, win=6)"
   ]
  },
  {
   "cell_type": "code",
   "execution_count": 65,
   "metadata": {},
   "outputs": [],
   "source": [
    "random.seed(2)\n",
    "cute_sample = random.sample(cute, 20)"
   ]
  },
  {
   "cell_type": "code",
   "execution_count": 66,
   "metadata": {},
   "outputs": [
    {
     "name": "stdout",
     "output_type": "stream",
     "text": [
      "                                 they portray her love is so  cute  and amazing never did once i\n",
      "                              where they were just acting so  cute  and next ep was literally hell\n",
      "                                    to the end it was really  cute  and funny i watched with my\n",
      "                                 too far the drama was quite  cute  and i appreciated being able to\n",
      "                                  feelings and i find it rly  cute  and i think i keep reassure\n",
      "                                was decent also the girl was  cute  and funny whether the boy was\n",
      "                                 to expect i found the story  cute  at first i thought it was\n",
      "                                 it wasn't cute that's not a  cute  behaviour that's plainly annoying to watch\n",
      "                                 male lead lol no matter how  cute  he is he is so immature\n",
      "                       and entertaining for those who enjoys  cute  high school youthful dramas that eventually\n",
      "                       exaggerate their acting and act super  cute  in this case she was naturally\n",
      "                            mature but they can still remain  cute  it gives me that fresh highschool\n",
      "                                       a plus for all of the  cute  koala hugging moments the chemistry between\n",
      "                          watching the side stories are also  cute  portraying more of the commonly seen\n",
      "                                  me have a friend who likes  cute  romances i heard they deviated quite\n",
      "                               the girl around and it wasn't  cute  that's not a cute behaviour that's\n",
      "                                   in real life as she films  cute  their chemistry is superb the supporting\n",
      "                                  most like omg they look so  cute  together you can see how good\n",
      "                              sorry lol other couples are so  cute  too jiang chen is the most\n",
      "                              character has in this drama is  cute  xiao xie being so persistent to\n"
     ]
    }
   ],
   "source": [
    "print_kwic(sort_kwic(cute_sample, ['R1']))"
   ]
  },
  {
   "cell_type": "markdown",
   "metadata": {},
   "source": [
    "**Some observations of the usage of *`cute`***\n",
    "\n",
    "* In this random sample, the word *`cute`* is being used:\n",
    "    1. To describe the drama (e.g., lines 4 and 10)\n",
    "    2. To describe the actor(s) or character(s) (e.g., lines 6, 9, 11, 12, 17-20)\n",
    "    3. To describe the love story or the love itself (e.g., lines 1, 7, 14, 15, 16)\n",
    "    4. To describe an action or behavior (e.g., lines 8, 13)\n",
    "\n",
    "\n",
    "* Most reviewers think that the drama (in terms of the scenes), the actors and the characters they play, the love between the characters and their love stories, and the things the characters do are *cute*.\n",
    "* But there might also be exception. For example, in line 16, the reviewer does not think that what the characters do was cute. Though the reviewer uses the word *`cute`*, he/she actually uses it along with the negation."
   ]
  },
  {
   "cell_type": "markdown",
   "metadata": {},
   "source": [
    "### Investigating a word of interest for reviews in 2019\n",
    "\n",
    "Recall the word frequency list (the most common 50 words) for reviews from 2019 and choose a word that we are interested in investigating."
   ]
  },
  {
   "cell_type": "code",
   "execution_count": 67,
   "metadata": {},
   "outputs": [
    {
     "name": "stdout",
     "output_type": "stream",
     "text": [
      "[('the', 287), ('i', 216), ('and', 184), ('a', 140), ('to', 114), ('of', 102), ('was', 97), ('is', 97), ('it', 96), ('this', 90), ('drama', 81), ('in', 71), ('but', 64), ('for', 63), ('that', 61), ('her', 49), ('he', 48), ('love', 48), ('chen', 43), ('with', 42), ('as', 40), ('so', 38), ('not', 35), ('you', 35), ('story', 34), ('jiang', 34), ('they', 33), ('how', 33), ('like', 32), ('xiaoxi', 32), ('at', 29), ('really', 29), ('me', 28), ('lead', 27), ('my', 26), ('when', 26), ('his', 25), ('just', 25), ('she', 25), ('on', 24), ('about', 24), ('their', 23), ('all', 23), ('one', 23), ('did', 22), ('also', 22), ('have', 22), ('are', 21), ('show', 21), ('more', 20)]\n"
     ]
    }
   ],
   "source": [
    "print(review_texts_2019_dist.most_common(50))"
   ]
  },
  {
   "cell_type": "markdown",
   "metadata": {},
   "source": [
    "The word *`lead`* occurs 27 times. How do the reviewers use this word in their reviews? Is it referring to the lead characters? Does it describe any other things?\n",
    "\n",
    "Repeat the steps as done in the part for reviews in 2017 and 2018 to examine the use of the word *`lead`* by the reviewers in 2019."
   ]
  },
  {
   "cell_type": "code",
   "execution_count": 68,
   "metadata": {},
   "outputs": [],
   "source": [
    "review_texts_2019_tokens = []\n",
    "\n",
    "for rev_text in review_texts_2019:\n",
    "    rev_text_tok = tokenize(rev_text, lowercase = True, strip_chars = '!\"#$%&\\()*+,-.:;<=>?@[\\\\]^_`{|}~')\n",
    "    review_texts_2019_tokens.extend(rev_text_tok)"
   ]
  },
  {
   "cell_type": "code",
   "execution_count": 69,
   "metadata": {},
   "outputs": [],
   "source": [
    "lead = make_kwic('lead', review_texts_2019_tokens, win=6)"
   ]
  },
  {
   "cell_type": "code",
   "execution_count": 70,
   "metadata": {},
   "outputs": [],
   "source": [
    "random.seed(0)\n",
    "lead_sample = random.sample(lead, 20)"
   ]
  },
  {
   "cell_type": "code",
   "execution_count": 71,
   "metadata": {},
   "outputs": [
    {
     "name": "stdout",
     "output_type": "stream",
     "text": [
      "                           and feels jealous of busan second  lead  a swimmer and xiaoxi's relationship these\n",
      "                     easygoing i absolutely loved the second  lead  also the main couple made wonderful\n",
      "                          annoying love triangle a jerk male  lead  and ditz female lead i can\n",
      "                                  a great job and the female  lead  based off the plot was incredibly\n",
      "                           the male protagonist is the worst  lead  character ive seen flat without any\n",
      "                            couple was love busan the second  lead  guy damn i felt was teary\n",
      "                          the persistence that the main girl  lead  has when it comes to chasing\n",
      "                               comes to chasing the main guy  lead  however the songs are okay this\n",
      "                              jerk male lead and ditz female  lead  i can see the comparisons with\n",
      "                           doesn't go too overboard the male  lead  is a little petty at times\n",
      "                    sweet and completely loveable unlike the  lead  male i honestly fast forwarded through\n",
      "                                    okay for me but the male  lead  seems awkward for me i think\n",
      "                              to be protecting the main girl  lead  super cute this is probably the\n",
      "                        i haven't suffered such major second  lead  syndrome since ages bo song deserved\n",
      "                                  a lot of people had second  lead  syndrome but i actually did not\n",
      "                                  if you hate shows with 2nd  lead  syndrome thing then i guess this\n",
      "                               need at least one main female  lead  to be smart jiaoxing make a\n",
      "                                feel bad for said the female  lead  was 'ugly' at first but she\n",
      "                          another guy falling for the female  lead  what i recommend is the plot\n",
      "                           were really older xiaoxi – female  lead  xiaoxi is the standard ditsy but\n"
     ]
    }
   ],
   "source": [
    "print_kwic(sort_kwic(lead_sample, ['R1']))"
   ]
  },
  {
   "cell_type": "markdown",
   "metadata": {},
   "source": [
    "**Some observations of the usage of *`lead`***\n",
    "\n",
    "* In this sample, the word `lead` is used in two ways:\n",
    "    1. to refer to a character (e.g., lines 1-13, 17-20)\n",
    "    2. to form the term \"second lead syndrome\" (e.g., lines 14-16)\n",
    "    \n",
    "    \n",
    "* Most of the times when reviewers use the word *`lead`*, they are referring to the main couple, Jiang Chen and Xiao Xi. But sometimes, they also talk about the second lead, which shows that the second lead is also an impressive character.\n",
    "* Some reviewers mention about the Second Lead Syndrome, which happens when they like the second male lead more than the first male lead and would like the first female lead to be with the second male lead at the end of the story. Though in this sample, the reviewers do not really have Second Lead Syndrome, it is possible that some other audience has it. And this may indicate that some audience like the second lead (see line 2 as an example)."
   ]
  },
  {
   "cell_type": "markdown",
   "metadata": {},
   "source": [
    "## Sentiment Analysis\n",
    "\n",
    "For my research question, I am interested in looking at the overall polarity of a review (i.e., whether it is positive or negative). The overall polarity should give a sense about whether the drama receives a good reputation and it is the most straightforward indication of how the audience feels about the drama in terms of good or bad. The arousal, dominance, and emotion might tell us about the specific emotional feelings of the reviewer towards the drama (or even a particular scene in the drama), but those are not my focus. So, for sentiment analysis, I am going to look at the dimension of valence only.\n",
    "\n",
    "The sentiment analysis tool I am going to use is VADER -- Valence Aware Dictionary and sEntiment Reasoner. The VADER lexicon has a list of items, each of which has a valence rating.\n",
    "\n",
    "We need to set up the `SentimentIntensityAnalyzer` in order to use VADER.\n",
    "\n",
    "I will point to a `SentimentIntensityAnalyzer` object with pointer `sid`. We can use this object along with the VADER lexicon to classify words (or tokens) in a text."
   ]
  },
  {
   "cell_type": "code",
   "execution_count": 72,
   "metadata": {},
   "outputs": [],
   "source": [
    "sid = SentimentIntensityAnalyzer()"
   ]
  },
  {
   "cell_type": "markdown",
   "metadata": {},
   "source": [
    "I will not go deep into examining the valence of every single word in each review text (since the reviews are long), but will apply the `polarity_scores` function of the `SentimentIntensityAnalyzer` to each review text. This function will take the proportion of words in the text that belongs to each valence category (*negative*, *neutral*, and *positive*) as their polarity score, and will calculate a compound score (between -1 and 1, where -1 means negative and 1 means positive) for the text.\n",
    "\n",
    "For the sentiment analysis, I will analyze the review texts by date and by overall score in the following order:\n",
    "1. reviews from 2017\n",
    "2. reviews from 2018\n",
    "3. reviews from 2019\n",
    "4. reviews with an overall score between 3.0 and 6.0\n",
    "5. reviews with an overall score between 6.0 and 8.0\n",
    "6. reviews with an overall score between 8.0 and 10"
   ]
  },
  {
   "cell_type": "markdown",
   "metadata": {},
   "source": [
    "### Sentiment Analysis by Date\n",
    "\n",
    "### A. 2017 Reviews Sentiment Analysis"
   ]
  },
  {
   "cell_type": "code",
   "execution_count": 73,
   "metadata": {},
   "outputs": [
    {
     "data": {
      "text/plain": [
       "18"
      ]
     },
     "execution_count": 73,
     "metadata": {},
     "output_type": "execute_result"
    }
   ],
   "source": [
    "len(reviews_2017)"
   ]
  },
  {
   "cell_type": "code",
   "execution_count": 74,
   "metadata": {},
   "outputs": [],
   "source": [
    "for rt in reviews_2017:      ## reviews_2017 is a list of dictionary\n",
    "    rt_pol_score = sid.polarity_scores(rt['Review Text'])    ## calculate the polarity score of each review text\n",
    "    rt.update(rt_pol_score)"
   ]
  },
  {
   "cell_type": "code",
   "execution_count": 75,
   "metadata": {},
   "outputs": [
    {
     "data": {
      "text/plain": [
       "[{'Date': 'Dec 30, 2017',\n",
       "  'Overall Score': '8.5',\n",
       "  'Review Text': 'Amidst all the positivity and perfection that others see in this drama, you can count on me to be a real grinch and center in on all the reasons that it was not entirely flawless. That is not to say I hated it; far from it, but I fail to share the unwavering, absolute love that many others seem to.\\n\\nMany things about A Love So Beautiful was a surprise to me. I\\'ll be the first to admit that I harbor a real prejudice each time I enter the realm that is a Chinese drama - watching them throughout my childhood, they were unfailingly littered with a) tragedy, b) horrible CG, and/or c) gagworthy storylines (typically, an entertaining combination of all three). And quite honestly, few nowadays seem to impress me. Call it bias, but I still think the Mainland has much to learn regarding what constitutes a good show.\\n\\nA Love So Beautiful was different from the moment I picked it up. It does not present melodramatic conflict for you to brood over, but instead focuses on the innocence of a teenager trying to get through the struggles of school and first love. I did not grow up within the Chinese education system, but there is something incredibly charming and nostalgic about seeing a group of five friends trudge through their high school years. Having teachers scold you, finding unpredictable friendships, secretly liking someone...A person is only naive in such a way for a small amount of time, and this drama perfectly captures that foolish yet heartwarming attitude of youth.\\n\\nIt only helped that the cast consisted of young, yet capable actors. How annoying is it when you watch a show about high school and the actors are in their mid- to late-twenties? And then you spend the entire duration brooding over how old they look and how nothing about them reminds you of a cute teenager. A Love So Beautiful never suffers from this issue; because not only do the main actors look young - they are. They act their parts perfectly, accurately presenting the turbulent feelings of their characters and how they grow over the course of the drama. It\\'s difficult to find five lead actors who interact with one another with so much natural chemistry that it\\'s hard to believe that they\\'re acting.\\n\\nBut turn on the sad music - I\\'m done gushing about all the things I absolutely adored. Here\\'s what dragged it down from a perfect 10: as soon as the characters left high school, the plot began to wander. There is a distinct imbalance between the warmth that is their high school lives and the confusion that is their \"growing up.\" \\n\\nI would like to ensure you that I don\\'t hate the fact that they got older. It was the delivery; how the writers depicted their \"maturing\" that was irksome. What I found particularly problematic was how you spend over half of the drama watching them in high school - and you love it to pieces - but then you have less than eight episodes to watch them speed carelessly through cliche relationship problems and time skips. The transition is rough and the trip doesn\\'t get any smoother. It would have made far more sense to me to either limit the story of this show to their high school years, or add more episodes to spread out their time as they age past university and through adulthood. \\n\\nI simply didn\\'t feel the magic in the latter part of the drama, which follows their post-graduation lives. It\\'s still fine to watch, but it just isn\\'t the same. I wanted to see the ways they carefully sort out problems between themselves and thus mature, not watch as they get angry at one another and resolve it merely because - well, merely because that\\'s the way the writers want it to be. I did not feel as connected to their characters; not because they aren\\'t bubbly teenagers, but because the story slowly becomes more about their problems and less about who they are. To me, their characters are one of the greatest strengths of the plotline, and as it fades throughout, so does the show\\'s primary charm.\\n\\nI would feel bad shutting this drama down entirely, since that would be unfair to the refreshing fun that it brought to me as I marathoned it. It is not without its flaws. However, it made me remember my first feelings of romance and filled my heart to the brim with both happiness and bittersweetness. It\\'s hard to find a drama capable of such an effect on a viewer - and I\\'m glad this one found a way.',\n",
       "  'Username': 'Richel',\n",
       "  'compound': 0.9992,\n",
       "  'neg': 0.091,\n",
       "  'neu': 0.687,\n",
       "  'pos': 0.222},\n",
       " {'Date': 'Dec 28, 2017',\n",
       "  'Overall Score': '9.0',\n",
       "  'Review Text': 'This drama is said to be another adaptation of the \"It Started With A Kiss\" franchise. I personally haven\\'t watched any of these except for this version thus I\\'m gonna base my review from this alone without any comparison :D.\\n\\nMost of us have experienced studying in high school. Although not everyone had experiences of relationships in high school, most likely we have observed this happenings around us. \"A Love So Beautiful\" is that drama that highlights the \\xa0innocence of high school as well as the experiences of having a crush or falling in love with someone. This drama has a typical high school drama plot line which focuses on the lives of the main characters during high school. This is another instance wherein a drama doesn\\'t appeal to be deep, but merely to be relatable. I\\'ll delve deeper with this review by discussing each components for rating, from its story until the rewatch value.\\n\\nThe story of this drama is light. It\\'s a story that is easy to digest since the story is told in a linear manner. The pacing was kind of steady but the ratio between the past and present was kind of unsatisfying. I believe that the story would\\'ve been more interesting if it was able to balance the two parts of the story since the character development can be highlighted more in a setting as such. Another characteristic of the story is that it\\'s romantic. But this characteristic is a double edged sword. It was able to create a story that can be fantasized by many but it can create misconceptions in terms its main theme: love. It was my dilemma while watching the drama since at times it challenges my thoughts about relationships.\\n\\nNext is the Acting and the Cast. Personally, this component is the one that made me continue watching the series. It might seem a bit contrary since I only gave it an 8.5 out of 10 but I considered many factors in rating this criteria. The casting for this drama is really great. The chemistry between them is really commendable.\\n\\nShen Yue and Hu Yi Tian\\'s chemistry however, is what made this drama special. It can tug heartstrings and it can make you punch or slap the back of someone who is beside you. If the casting was the only thing to take into consideration in rating, I would\\'ve gave this a perfect rating, but there is a need to rate the acting, thus lowering my score. There are many times while watching that I felt sad because there were many opportunities to show more emotions, to give more adlibs but there wasn\\'t anything. Character relationships aren\\'t even an excuse because the acting could\\'ve been better and sometimes, you feel that the acting is a bit too calculated. The latter lines however, pertains to the acting for the two main actors, Shen Yue and Hu Yi Tian. The acting isn\\'t perfect, nor excellent, but it\\'s still commendable.\\n\\nThe music for this drama is actually good but the thing is, it can only be memorable if you don\\'t skip the opening sequence. The theme songs are beautiful, but I the music lacked variety, thus lowering my score.\\n\\nLastly the rewatch value. I personally think that this drama has a really high rewatch value since it\\'s a light watch and also because of the cast remarkable and memorable chemistry. \\n\\nIt has been a long time since I last watched a Chinese drama and I must day, watching this drama was a good and pleasant experience. I recommend that people to watch this if they want a light and a heartwarming drama :D.',\n",
       "  'Username': 'Moonbyul Supremacist',\n",
       "  'compound': 0.9984,\n",
       "  'neg': 0.025,\n",
       "  'neu': 0.809,\n",
       "  'pos': 0.166},\n",
       " {'Date': 'Dec 28, 2017',\n",
       "  'Overall Score': '10',\n",
       "  'Review Text': \"Finished\\xa0A Love so Beautiful in just 2 days, and I am so glad I was able to watch it right as the year ends! This drama really brought my year of 2017 to a happy ending :)\\n\\nStory/plot: -10- I heard that this storyline was very similar to a Japanese drama/manga called “Itazura na Kiss”; however, I have never watched the drama, or any of their remakes, so I am writing this review with nothing to compare it to, pretty much. With that being said, I loved the storyline of this cutesy, heart-warming drama! The cliche style of a not-so-smart girl liking the perfect guy definitely took a positive turn in this show! The transition between high school to college to adult life was pretty smooth, in my opinion, with majority of it focused during their high school years, which made it an innocent and light drama. As the story moves on to the adult life, the relationship between the main leads became more intimate, which made me squeal so many times at 2 o'clock in the morning.\\n\\nActing/cast: -10- The height difference between the 160cm Chen Xiao Xi (played by Shen Yue) and the tall 188cm Jiang Chen (played by Hu Yi Tian) made me squeal every time! Both of the main leads are decently new faces to the entertainment world, and they definitely made a good impression, on me at least haha! For her first main-lead role in a drama, Shen Yue did a spectacular job of performing the different sides and attitudes of the character, Chen Xiao Xi, from the happy, always positive high school youth to the independent grown women that Chen Xiao Xi becomes later on in the drama. NOW, LET’S TALK ABOUT HU YI TIAN! OMG, HE IS SOME HAWT STUFF! So cute, and for his first main-lead role, he played it really well! It’s hard to fall in love with someone who plays a, supposedly, cold-hearted, not caring character, but later on, we find out that the character, Jiang Chen, is pretty much the opposite! The way Hu Yi Tian smirks and acts to care for Chen Xiao Xi in the drama can make any girl's heart flutter! (I think I found my next man crush tbh) The supporting roles might have not done a whole lot, but their contribution played a huge impact throughout the whole show, and it made the drama 100X better! Nothing to complain in general, great leads, great actors/actresses, and great chemistry! :)\\n\\nMusic: -10- The opening song is truly the perfect fit for the drama! When I first heard it, I already loved it and how the melody matches the drama’s theme, but after reading the lyrics, it made me love the song even more! If you don’t believe me, take a look yourself: https://www.youtube.com/watch?v=rIKib5Bymz8 I especially love the line “wo xihuan ni pei wo kanshu fen xin kan wo tou xiao” which translates to “I like you when you’re accompanying me to read a book, distracted by looking at me, smiling quietly,” it brings back many ridiculous smiles when I watched the drama, and I can't seem to stop replaying the song in my head now!\\n\\nRewatch value: -9.5- I love A Love so Beautiful and I have rewatched my favorite parts more than a dozen time, but I am sorry, I can’t rewatch the whole drama from the beginning to end more than once. I am not sure exactly why, but I guess the whole drama wasn’t capturing enough for me? For the parts that I love though, I have rewatched it so many times, and I will never get bored of rewatching them!\\n\\nOverall: -10- This drama truly created a great end to my 2017! The sweet, yet simple story is my cup of tea! I can’t seem to let go of this drama, it was too good and too sweet! The characters played their parts so well, the mixture of the songs and the cute relationships between the characters are too much to be given up so easily. So sad that I watched it in only 2 days! I wish I would have spent more time to savor every second!\\n\\nIf you are looking for a romantic, and heart-warming drama that takes place mainly during the high school life and transitions to more serious matters later on, A Love so Beautiful is definitely the drama for you! Hope this helps and thanks for reading!\\n\\nChào for Now!\\n\\nLily L.\",\n",
       "  'Username': 'LilyL',\n",
       "  'compound': 0.9997,\n",
       "  'neg': 0.025,\n",
       "  'neu': 0.692,\n",
       "  'pos': 0.284},\n",
       " {'Date': 'Dec 25, 2017',\n",
       "  'Overall Score': '9.5',\n",
       "  'Review Text': 'The only regrets I have with this drama is binge watching it so quickly. Finishing it has left such an empty void in me and I can’t help but make comparisons with any other dramas I watch.\\n\\nThis drama is such a unique case for me because usually I only have interest in Korean dramas and have struggled to enjoy a Chinese drama despite been Chinese myself. I also generally dislike dramas where the female chases after the male. However this drama has a special charm that I am unable to resist, making it probably even my most favourite drama ever in my 4 years of watching Asian dramas.\\n\\nMany people may think of Xiaoxi as a dumb bimbo whose life revolves around a guy and while this may be true we must remember that she is a high school girl and at the time where the desire for romance is very strong.\\xa0She makes mistakes and is most definitely not perfect.\\xa0As the drama progresses, we begin to see her development into an independent lady that is not as easily swayed by Jiangchen until she is treated right. Also she too has her own hobbies and aspirations that do not revolve around Jiangchen which is something that is not commonly shown in dramas with similar themes. No she does not become a nurse for Jiangchen.\\n\\nNONE of the character are perfect. Not even the seemingly perfect Jiangchen whose jealously often gets the better of him and also has his own insecurities just like the next person. \\xa0This makes the drama even more likeable and relatable. They all make mistakes and all learn from it.\\xa0\\n\\nThe drama is a perfect example of taking a very cliche and used plot and twisting it into a unique and charming drama that will remain in our hearts for a very very long time.',\n",
       "  'Username': 'musautau',\n",
       "  'compound': 0.7779,\n",
       "  'neg': 0.139,\n",
       "  'neu': 0.712,\n",
       "  'pos': 0.149},\n",
       " {'Date': 'Dec 20, 2017',\n",
       "  'Overall Score': '10',\n",
       "  'Review Text': \"A Love so Beautiful is such a pure and cute love story. This drama really got me invested, mainly because of the overall story and the actors. The plot sounds so simple and cliche, but once you watch it, it will feel like it's not. It was very easy for me to watch because the acting and story were both amazing.\\n\\nI laughed.\\n\\nI cried.\\n\\nI clutched my heart so many times...\\n\\nYou won't regret watching this drama.\\n\\n*warning to those who suffer from a condition called second lead syndrome.\",\n",
       "  'Username': 'ishinhwa',\n",
       "  'compound': 0.9656,\n",
       "  'neg': 0.074,\n",
       "  'neu': 0.66,\n",
       "  'pos': 0.267}]"
      ]
     },
     "execution_count": 75,
     "metadata": {},
     "output_type": "execute_result"
    }
   ],
   "source": [
    "reviews_2017[0:5]"
   ]
  },
  {
   "cell_type": "markdown",
   "metadata": {},
   "source": [
    "Now, each piece of review information in `reviews_2017` includes a polarity compound score."
   ]
  },
  {
   "cell_type": "code",
   "execution_count": 76,
   "metadata": {},
   "outputs": [
    {
     "data": {
      "text/plain": [
       "0.9808444444444445"
      ]
     },
     "execution_count": 76,
     "metadata": {},
     "output_type": "execute_result"
    }
   ],
   "source": [
    "rt_pol_score_2017 = []\n",
    "\n",
    "for rt in reviews_2017:\n",
    "    pol_score = rt['compound']\n",
    "    rt_pol_score_2017.append(pol_score)\n",
    "\n",
    "sum(rt_pol_score_2017) / len(rt_pol_score_2017)\n",
    "## calculate the average compound score of review texts from 2017"
   ]
  },
  {
   "cell_type": "markdown",
   "metadata": {},
   "source": [
    "Reviews from 2017 have an average compound score of 0.9808, which is very close to 1. Therefore, in general, reviewers who wrote a review for the drama in 2017 felt positive towards the drama.\n",
    "\n",
    "We can also check the average overall score on the website (i.e., the average rating given by the reviewers) from reviews in 2017 to see if it suggests a similar attitude."
   ]
  },
  {
   "cell_type": "code",
   "execution_count": 77,
   "metadata": {},
   "outputs": [
    {
     "data": {
      "text/plain": [
       "9.666666666666666"
      ]
     },
     "execution_count": 77,
     "metadata": {},
     "output_type": "execute_result"
    }
   ],
   "source": [
    "r_overallscore_2017 = []\n",
    "\n",
    "for r in reviews_2017:\n",
    "    overallscore = float(r['Overall Score'])\n",
    "    r_overallscore_2017.append(overallscore)\n",
    "\n",
    "sum(r_overallscore_2017) / len(r_overallscore_2017)"
   ]
  },
  {
   "cell_type": "markdown",
   "metadata": {},
   "source": [
    "The highest overall score one can give to the drama on MyDramaList is 10. So, an average overall score of 9.6667 is high and we can say that it suggests a positive attitude of the reviewers from 2017 towards the drama."
   ]
  },
  {
   "cell_type": "markdown",
   "metadata": {},
   "source": [
    "I will repeat the above steps to conduct sentiment analysis on the reviews from 2018 and 2019 and on the reviews from each overall score range."
   ]
  },
  {
   "cell_type": "markdown",
   "metadata": {},
   "source": [
    "### B. 2018 Reviews Sentiment Analysis"
   ]
  },
  {
   "cell_type": "code",
   "execution_count": 78,
   "metadata": {},
   "outputs": [
    {
     "data": {
      "text/plain": [
       "58"
      ]
     },
     "execution_count": 78,
     "metadata": {},
     "output_type": "execute_result"
    }
   ],
   "source": [
    "len(reviews_2018)"
   ]
  },
  {
   "cell_type": "code",
   "execution_count": 79,
   "metadata": {},
   "outputs": [],
   "source": [
    "for rt in reviews_2018:      ## reviews_2018 is a list of dictionary\n",
    "    rt_pol_score = sid.polarity_scores(rt['Review Text'])    ## calculate the polarity score of each review text\n",
    "    rt.update(rt_pol_score)"
   ]
  },
  {
   "cell_type": "code",
   "execution_count": 80,
   "metadata": {
    "scrolled": true
   },
   "outputs": [
    {
     "data": {
      "text/plain": [
       "[{'Date': 'Dec 12, 2018',\n",
       "  'Overall Score': '10',\n",
       "  'Review Text': \"I highly recommend watching this drama, I finished watching the whole series in 4 days.\\n\\nMy first Cdrama was Meteor Garden, this is my second. Meteor Garden kind of dragged towards the end, and the ending was okay, but A Love so Beautiful kept me hooked through out the drama, every episode was interesting. The leads are not as frustrating.\\n\\nThis drama is filled with cute bubbly scenes. The leads are super adorable!!\\n\\nThe cast was perfect, all of the cast portrayed their roles well. (Warning you will get terrible second lead syndrome.)\\n\\nThere wasn't much music with lyrics mostly instrumentals. Music wasn't over played and was used well.\\n\\nI would definitely re watch! Such a cute drama!\",\n",
       "  'Username': 'c00kie',\n",
       "  'compound': 0.9944,\n",
       "  'neg': 0.05,\n",
       "  'neu': 0.6,\n",
       "  'pos': 0.35},\n",
       " {'Date': 'Dec  8, 2018',\n",
       "  'Overall Score': '9.5',\n",
       "  'Review Text': 'A love so beautiful was a great love story. I loved the storyline and how it flowed, It wasn\\'t rushed and it wasn\\'t too slow it was perfect. I usually don\\'t like high school centered dramas and when I found out that this story focused a lot of time in High school I almost didn\\'t watch. However, The cast is awesome, great chemistry. I was drawn in throughout the storyline I didn\\'t even know who to root for the second lead was as mature, sweet and handsome as the main lead.  I hated how the mother kind of disliked the second lead because of his \"dark skin\" but it wasn\\'t a big deal and didn\\'t overshadow the show at all it was just something that bugged me personally because I thought he was a cutie.  I love how the show didn\\'t waste time on trivial things other shows would be the main character failed her college entrance exam and had to retake the exam instead of focusing on that for 5 episodes the audience got a condensed episode of study scene and college life which was great because it cuts out the filler episodes and leaves room for more productive content.  Overall great show, great cast, and storyline.',\n",
       "  'Username': 'Jmonet',\n",
       "  'compound': 0.9927,\n",
       "  'neg': 0.06,\n",
       "  'neu': 0.697,\n",
       "  'pos': 0.243},\n",
       " {'Date': 'Nov 19, 2018',\n",
       "  'Overall Score': '10',\n",
       "  'Review Text': \"This drama is absolutely amazing, 10/10 my favorite drama of all time. I have watched it 4 times in total! And I have never rewatched anything this much. The story and overall show and characters is very different from your typical Chinese drama. This one is very special. It isn't over exaggerated and fake like most Chinese dramas such as Meteor Garden or Boys Over Flowers. This drama depicts REAL life in China as a highschool student. It really brings you into their lives and the things they deal with. This is a must see for anyone who likes Asian dramas.\",\n",
       "  'Username': 'Xiaoxi',\n",
       "  'compound': 0.9165,\n",
       "  'neg': 0.028,\n",
       "  'neu': 0.816,\n",
       "  'pos': 0.156},\n",
       " {'Date': 'Oct 20, 2018',\n",
       "  'Overall Score': '10',\n",
       "  'Review Text': 'Firstly, I have seen many Chinese dramas and this one balanced every factor beautifully. I felt that it was just the right length (24 eps, compared to the usual 40+ with terrible plot lines, and episodes that just drag), and seemed to follow the formula for a Korean drama, in that it was clever and not too predictable. \\n\\nI was fully invested in both the lead and supporting characters, in most dramas I tend to skip the part of the supporting characters, but not this time; everyone really held their weight. I really thought the actors outdid themselves in every aspect, and the chemistry made me hold my breath at times. \\n\\nEven though many compare this to Playful Kiss, I\\'d say that yes, there are some similarities, but it is very unique and not nearly as \"silly\" and \"annoying\" as that show. This felt similar to a slice of life/school anime initially which developed into a very sweet romance. There is also that trait that is often seen with the girl with really short hair being loud and spontaneous, like in Reply 1984, and even the Taiwanese version of Skip Beat (which is the closest, I just kept thinking of Ivy Chen). It was nice to see maturity evolve particularly in the female lead character, from start to finish. \\n\\nOne final thought that kept crossing my mind throughout the show was that I really wanted to have such supportive friends as the lead character had, I was actually jealous at times because they portrayed such a genuine friendship. I laughed with them and cried when it was tough, the emotional investment was there. I think that is why this show also reminded me of animes like Toradora and Kokoro Connect (and even Clannad, but don\\'t take it too far)',\n",
       "  'Username': 'cameratamera',\n",
       "  'compound': 0.9927,\n",
       "  'neg': 0.034,\n",
       "  'neu': 0.797,\n",
       "  'pos': 0.169},\n",
       " {'Date': 'Oct 14, 2018',\n",
       "  'Overall Score': '8.0',\n",
       "  'Review Text': \"The drama was quite cute and I appreciated being able to watch the main characters age and grow together, especially the high school portions of the drama. There were a few parts of the plot and the writing which I found particularly week, especially about the main couple's inability to communicate properly. After dating for a while, I wasn't expecting their first big spat to end as childishly as it did, and I found the heroine pretty selfish, leading on a guy when she knew she wasn't fully over her first love, dragging on a relationship for actual years, which was so disrespectful on her part. There were a lot of moments where she was too irrational and too brash, but I respected that despite that, it seemed to somehow work with her character. Their relationship was awkward, but it really felt right, and the ending was more than satisfying, I admit I shed a tear when I saw them walk down the path as adults, holding hands, slowly becoming their teenage selves again, really the beautiful finish that the drama deserved.\\n\\nI think that while the main couple were amazing, the real stars came in the form of the lead roles. The second male lead was the perfect mixture of too kind and too quiet to really make the audience empathise with his position, and while I was rooting for the main couple, I always felt upset when I saw the Bu Song's (second-male-lead) reaction. His acting was so convincing and his character was perfect in balancing out their fivesome.\\n\\nMy personal favourites were Lu Yang and Jing Xiao. They were amazing best friends and were genuinely supportive of everyone  in their little group. When they overcame their High School problems and became a strong couple i university, I was so happy, but they also made me want to hit the main couple's heads because really,  couldn't they just look to their friends for example and realise that communication is integral in a relationship?? \\n\\nWhile the drama largely centered around romance, I really think that the moments that focused on friendship were the strongest written parts. All the scenes where the fivesome help each other overcome problems, or just hang out for fun is ingrained in my memory, because they really made such a lovely little family for themselves.\",\n",
       "  'Username': 'OkayOrbit',\n",
       "  'compound': 0.9987,\n",
       "  'neg': 0.039,\n",
       "  'neu': 0.711,\n",
       "  'pos': 0.25}]"
      ]
     },
     "execution_count": 80,
     "metadata": {},
     "output_type": "execute_result"
    }
   ],
   "source": [
    "reviews_2018[0:5]"
   ]
  },
  {
   "cell_type": "code",
   "execution_count": 81,
   "metadata": {},
   "outputs": [
    {
     "data": {
      "text/plain": [
       "0.960603448275862"
      ]
     },
     "execution_count": 81,
     "metadata": {},
     "output_type": "execute_result"
    }
   ],
   "source": [
    "rt_pol_score_2018 = []\n",
    "\n",
    "for rt in reviews_2018:\n",
    "    pol_score = rt['compound']\n",
    "    rt_pol_score_2018.append(pol_score)\n",
    "\n",
    "sum(rt_pol_score_2018) / len(rt_pol_score_2018)\n",
    "## calculate the average compound score of review texts from 2018"
   ]
  },
  {
   "cell_type": "markdown",
   "metadata": {},
   "source": [
    "Reviews from 2018 have an average compound score of 0.9606, which is very close to 1. Therefore, in general, reviewers who wrote a review for the drama in 2018 felt positive towards the drama.\n",
    "\n",
    "We can also check the average overall score on the website (i.e., the average rating given by the reviewers) from reviews in 2018 to see if it suggests a similar attitude."
   ]
  },
  {
   "cell_type": "code",
   "execution_count": 82,
   "metadata": {},
   "outputs": [
    {
     "data": {
      "text/plain": [
       "9.172413793103448"
      ]
     },
     "execution_count": 82,
     "metadata": {},
     "output_type": "execute_result"
    }
   ],
   "source": [
    "r_overallscore_2018 = []\n",
    "\n",
    "for r in reviews_2018:\n",
    "    overallscore = float(r['Overall Score'])\n",
    "    r_overallscore_2018.append(overallscore)\n",
    "\n",
    "sum(r_overallscore_2018) / len(r_overallscore_2018)"
   ]
  },
  {
   "cell_type": "markdown",
   "metadata": {},
   "source": [
    "With the highest overall score being 10, an average overall score of 9.1724 is high and we can say that it suggests a positive attitude of the reviewers from 2018 towards the drama."
   ]
  },
  {
   "cell_type": "markdown",
   "metadata": {},
   "source": [
    "### C. 2019 Reviews Sentiment Analysis"
   ]
  },
  {
   "cell_type": "code",
   "execution_count": 83,
   "metadata": {},
   "outputs": [
    {
     "data": {
      "text/plain": [
       "24"
      ]
     },
     "execution_count": 83,
     "metadata": {},
     "output_type": "execute_result"
    }
   ],
   "source": [
    "len(reviews_2019)"
   ]
  },
  {
   "cell_type": "code",
   "execution_count": 84,
   "metadata": {},
   "outputs": [],
   "source": [
    "for rt in reviews_2019:      ## reviews_2019 is a list of dictionary\n",
    "    rt_pol_score = sid.polarity_scores(rt['Review Text'])    ## calculate the polarity score of each review text\n",
    "    rt.update(rt_pol_score)"
   ]
  },
  {
   "cell_type": "code",
   "execution_count": 85,
   "metadata": {
    "scrolled": true
   },
   "outputs": [
    {
     "data": {
      "text/plain": [
       "[{'Date': 'Dec 28, 2019',\n",
       "  'Overall Score': '8.5',\n",
       "  'Review Text': \"I was putting off watching this drama for a while. I always saw it under 'top dramas', my recommendation feed, reviews where it was called as another ISWAK/Itazura na Kiss/Playful Kiss, etc.\\n\\nBefore I began watching this I was only familiar with the male lead in a drama where his role wasn't too big. I did know that he is quite decent so decided to go ahead. Here's what I thought finally:\\n\\nSTORY: On the surface it comes off as another youth drama. However what I liked most about the drama was the simplicity of the plot. It's just about a group of friends, an annoying love triangle, a jerk male lead and ditz female lead. I can see the comparisons with ISWAK but nothing tops that. It would be fair to say this was at least inspired from that story. But what sets this drama apart are the likeable characters and the trivial-yet-relatable situations they go through. Their friendship was excellent and it was best part for me over the romantic plot. \\n\\nCHARACTERS AND LOVE TRIANGLE: I had a love-hate relationship with Xiao Xi. She's cute, simple but was too dense for my liking. I also don't like how she seemed not to have any self-respect. I was often uncomfortable with the message this drama keeps giving- it's fine to keep chasing someone even if they walk all over you. Not saying that Jiang Chen didn't like her, but he was mean to her majority of the drama. For me I was all in on the second lead ship. I haven't suffered such major Second Lead Syndrome since AGES. Bo Song deserved Xiao Xi's love. I hated how stone cold she was to him and even seemed ungrateful at times. He did so much for her but she always had one person in her heart. I would blame the writer for this plot because the better moments were written between Xiao Xi and Bo Song. She kept hanging with him till the last 2 episodes, not acknowledging his love. For god's sake, she spent her entire life with a one-sided love and I couldn't buy how she couldn't recognise Bo Song's love throughout regardless of what he said to her. I didn't really buy Jiang Chen as a character, his reason for being mean to her and why he liked her. He just seemed like a selfish person to me who played and manipulated her as he wished. I liked his adult side better because he had at least become more mature and expressive by then. I did enjoy his interactions with Xiao Xi towards the end. The other two friends were awesome and I was glad about having a secondary couple on the show.\\n\\nFLAWS: It was slow, seemed to have borrowed ideas and lack of plot in between episodes. One thing that is rarely explained in Chinese dramas is why the leads fall for each other. In this drama also I had no clue. Especially Xiao Xi's devotion to JC was hard to understand. It was more than just fangirl feelings or puppy love. She was stupid, playful and childish but was bold when it came to pursuing him and had only him in her heart forever.\\n\\nI think this drama is cute if you want to watch something relaxing without much drama. The drama was slow but it was consistent in following its own pacing in all the episodes. Just don't root for the second lead and this drama might just be more enjoyable.\",\n",
       "  'Username': 'addicted2dramas',\n",
       "  'compound': 0.9988,\n",
       "  'neg': 0.076,\n",
       "  'neu': 0.704,\n",
       "  'pos': 0.22},\n",
       " {'Date': 'Nov  8, 2019',\n",
       "  'Overall Score': '9.0',\n",
       "  'Review Text': 'Story :\\n\\nFresh! That\\'s my first thought when I start to watch this series. This series is quite mild, but the development of everyone\\'s personality and feelings are clearly visible here. One thing I like the most here is the friendship. This series does not recognize the phrase \"love will destroy the friendship\". They still support each other even though the person they like likes someone else. And I really love how that friendship continues to develop until they are grow up.\\n\\nSometimes I feel exasperated by Chen Xiao Xi\\'s childish attitude, but well, maybe when I was in school I did the same thing. LOL. And I really love to see when Jiang Chen feels jealous seeing Chen Xiao Xi and Wu Bo Song\\'s closeness ^_^\\n\\nActing/Cast :\\n\\nThey all did great and so natural, but I especially love Shen Yue acting. She\\'s so cute I can\\'t help it but to adore her ^_^\\n\\nMusic :\\n\\nThe opening and ending song are so easy listening, and I put them both on my Spotify playlist now ^_^\\n\\nRewatch Value :\\n\\nI definitely will watch this series again if I need some cuteness in my life.',\n",
       "  'Username': 'arashinta',\n",
       "  'compound': 0.9978,\n",
       "  'neg': 0.07,\n",
       "  'neu': 0.576,\n",
       "  'pos': 0.354},\n",
       " {'Date': 'Nov  6, 2019',\n",
       "  'Overall Score': '9.0',\n",
       "  'Review Text': \"''A Love So Beautiful'' was the first C-Drama that I've ever watched!\\n\\nThe story isn't something fresh or new, talks about a looong friendship that turns into something more into a 12 year timelapse.\\n\\nI've really appreciated it because doesn't tend to fall into boring long and unappropriated scenes like many other Chinese dramas, everything super smooth and easy-going.\\n\\nI absolutely loved the second lead, also the main couple made wonderful work!\\n\\nMore than a drama, I can consider it more as a long journey with the cast into their life as teenagers till adults!\\n\\nAbsolutely worth the time spent by watching it!\",\n",
       "  'Username': 'seoul-not-soul',\n",
       "  'compound': 0.9778,\n",
       "  'neg': 0.036,\n",
       "  'neu': 0.727,\n",
       "  'pos': 0.237},\n",
       " {'Date': 'Oct 22, 2019',\n",
       "  'Overall Score': '8.0',\n",
       "  'Review Text': 'First of all, I am a sucker for teen dramas (especially high school dramas), so I absolutely loved this drama! I thought the story was so well organised and interesting. I usually don’t watch Chinese dramas as I think they often overact and can be too cringe but I found this drama extremely fun watching despite the amount of cringy scenes. \\n\\nThe main characters chemistry is so amazing and I think that the love story in the drama is really good and sweet. The main couple is definitely the reason that I kept watching the drama as they show so sincere love. And who doesn’t love a love triangle. \\n\\nThe friendship between the five main characters is what I really liked in the drama. However I do think that the story was too slow in some aspects. I would definitely recommend this to anyone wanting to start watching Chinese dramas.',\n",
       "  'Username': 'Agnes Perez',\n",
       "  'compound': 0.9975,\n",
       "  'neg': 0.011,\n",
       "  'neu': 0.612,\n",
       "  'pos': 0.377},\n",
       " {'Date': 'Oct 12, 2019',\n",
       "  'Overall Score': '10',\n",
       "  'Review Text': 'I watched this on Netflix and I have re-watched this over a dozen times!\\n\\nThis series brought me back to my childhood, where I had crushes and a lot of  heartbreaks!  It is very relatable!\\n\\nShen Yue, Hu Yi Tian and the rest of the cast portrayed their roles well.  \\n\\nHaving read the book, I wish it had more episodes to really show their life together as an \"adult couple\".\\n\\nThis series brought laughter, excitement, tears and admiration for me and I love that it brought that many emotions.',\n",
       "  'Username': 'iamchichibebe',\n",
       "  'compound': 0.9213,\n",
       "  'neg': 0.076,\n",
       "  'neu': 0.727,\n",
       "  'pos': 0.197}]"
      ]
     },
     "execution_count": 85,
     "metadata": {},
     "output_type": "execute_result"
    }
   ],
   "source": [
    "reviews_2019[0:5]"
   ]
  },
  {
   "cell_type": "code",
   "execution_count": 86,
   "metadata": {},
   "outputs": [
    {
     "data": {
      "text/plain": [
       "0.7681833333333334"
      ]
     },
     "execution_count": 86,
     "metadata": {},
     "output_type": "execute_result"
    }
   ],
   "source": [
    "rt_pol_score_2019 = []\n",
    "\n",
    "for rt in reviews_2019:\n",
    "    pol_score = rt['compound']\n",
    "    rt_pol_score_2019.append(pol_score)\n",
    "\n",
    "sum(rt_pol_score_2019) / len(rt_pol_score_2019)\n",
    "## calculate the average compound score of review texts from 2019"
   ]
  },
  {
   "cell_type": "markdown",
   "metadata": {},
   "source": [
    "Reviews from 2019 have an average compound score of 0.7682, which is close to 1 but not a very high score on the positive side. Therefore, in general, reviewers who wrote a review for the drama in 2019 felt more positive than negative towards the drama, but the positive feeling is not very strong.\n",
    "\n",
    "We can also check the average overall score on the website (i.e., the average rating given by the reviewers) from reviews in 2019 to see if it suggests a similar attitude."
   ]
  },
  {
   "cell_type": "code",
   "execution_count": 87,
   "metadata": {},
   "outputs": [
    {
     "data": {
      "text/plain": [
       "8.229166666666666"
      ]
     },
     "execution_count": 87,
     "metadata": {},
     "output_type": "execute_result"
    }
   ],
   "source": [
    "r_overallscore_2019 = []\n",
    "\n",
    "for r in reviews_2019:\n",
    "    overallscore = float(r['Overall Score'])\n",
    "    r_overallscore_2019.append(overallscore)\n",
    "\n",
    "sum(r_overallscore_2019) / len(r_overallscore_2019)"
   ]
  },
  {
   "cell_type": "markdown",
   "metadata": {},
   "source": [
    "An average overall score of 8.2292 out of 10 is not a high score but still expresses a positive attitude towards the drama. Compared to the average compound score (which is 0.7682 where the most positive score is 1), the average overall score on the website suggests a more positive attitude than the average compound score given by VADER does, but the general ideas does not differ much.\n",
    "\n",
    "### D. Sentiment Analysis by Date Summary\n",
    "\n",
    "Reviews from 2017 have the highest positive average compound score among the three sets of reviews from different years; on the other hand, reviews from 2019 have the lowest positive average compound score. We know that the drama was on air in 2017, so by 2019, it has already ended for almost two years. Maybe when it was still on air, the audience were more excited about it than when it is ended. The reason might be that when it was on air, the audience had to follow the schedule and had no chance to be spoiled; but if the drama already finished broadcasting, there may be spoilers and comments everywhere on the Internet, which might reduce (or affect, in a more neutral term) the audience's interest."
   ]
  },
  {
   "cell_type": "markdown",
   "metadata": {},
   "source": [
    "### Sentiment Analysis by Score\n",
    "\n",
    "The goal for conducting the sentiment analysis by score is to see if the attitude suggested by the average compound score given by VADER matches with the attitude suggested by the overall score rated by the reviewers.\n",
    "\n",
    "### A. Sentiment Analysis on Reviews with score 3.0 to 6.0"
   ]
  },
  {
   "cell_type": "code",
   "execution_count": 88,
   "metadata": {},
   "outputs": [
    {
     "data": {
      "text/plain": [
       "7"
      ]
     },
     "execution_count": 88,
     "metadata": {},
     "output_type": "execute_result"
    }
   ],
   "source": [
    "len(reviews_3_to_6)"
   ]
  },
  {
   "cell_type": "code",
   "execution_count": 89,
   "metadata": {},
   "outputs": [],
   "source": [
    "for rt in reviews_3_to_6:      ## reviews_3_to_6 is a list of dictionary\n",
    "    rt_pol_score = sid.polarity_scores(rt['Review Text'])    ## calculate the polarity score of each review text\n",
    "    rt.update(rt_pol_score)"
   ]
  },
  {
   "cell_type": "code",
   "execution_count": 90,
   "metadata": {},
   "outputs": [
    {
     "data": {
      "text/plain": [
       "[{'Date': 'May 22, 2018',\n",
       "  'Overall Score': '5.0',\n",
       "  'Review Text': \"Story:\\n\\nChildhood neighbors who become a couple after knowing each other for several years. Very basic story line with no surprises. Although I like that the OTPs friends were important and had all their own story lines, this dragged out the drama.\\n\\nThe male lead was really static and seemed to have no emotions at all. The female lead on the other hand was often annoying (some might call it bubbly) and all over the place.\\n\\nAgain, the basic idea of showing their love from the beginning to end is great. However, the beginning took about 16 episodes (their high school years), while their collage and after-collage life was wrapped up in 7...this also means 16 episodes of no real deep or romantic encounters, and 7 episodes where they are adults, but again we don't see many lovely scenes. Actually, the last episode was the best, as there was a lot of love included! \\n\\nActing/Cast:\\n\\nAs this was my first cdrama I don't know any of the cast. They made an okay job, though. The characters were quite annoying...\\n\\nMusic:\\n\\nNothing to to remember.\\n\\nRewatch:\\n\\n0/0 I seriously don't know, if I will even watch a cdrama again.... \\n\\nOverall:\\n\\nI get how their deep bond from the beginning is meant to be shown, however it's more suited for a younger audience (about 13+ years) as the focus is on the high school years. I would have loved to watch their adult life more.\",\n",
       "  'Username': 'Maggy',\n",
       "  'compound': 0.9733,\n",
       "  'neg': 0.053,\n",
       "  'neu': 0.812,\n",
       "  'pos': 0.135},\n",
       " {'Date': 'Jan  4, 2018',\n",
       "  'Overall Score': '6.0',\n",
       "  'Review Text': 'This drama was okay, it\\'s a bit overrated and shouldn\\'t be rated THIS high on MDL. Would be more reasonable if it was in the 7.5-8.0 range to be honest. \\n\\nThis review will probably never be noticed by the rest of the MDL community since there are a lot of reviews with high ratings for this drama, but I thought I\\'d write one anyways. I watched this drama because 1) it\\'s pretty popular in China for a webdrama and I pretty much check out whatever is popular in China regardless whether it is popular here on MDL and 2) my best friend likes cute romances and I really wanted to make her watch something Chinese this winter break before we parted ways again.\\n\\nStory:\\n\\nWhat I liked:\\n\\n1) The entire group of friends together was very fun to watch. Loved the chemistry of their friendship together. I didn\\'t skip any friendship scenes.\\n\\n2) Their high school lives were more interesting than their adult lives.\\n\\n3) Need a friend like Lin Jingxiao in life. Supportive, smart, and caring.\\n\\nWhat I disliked:\\n\\n1) the main girl was literally SOOOOOO dumb like I don\\'t think I know of a dumber female lead than her character. very few get into a good university like Zhejiang on their second gaokao\\n\\n2) when Jiang Chen was jealous, he would act mean to her. I get this is supposed to be out of jealousy, but his actions seriously irked me.\\n\\n3) Jiang Chen giving up the chance to go to Qinghua. And then almost giving up the internship opportunity. And also selling his car to pay for her manhua thing. Like yeah, I guess those actions are supposed to be romantic, but I thought they were straight up stupid moves.\\n\\n4) liked the second lead initially. towards the end, I\\'d really wish he could just move on to someone else\\n\\n5) lack of communication in their relationship was sooooo idek what to say lol\\n\\n6) their break up was sooooooo.....anticlimatic didn\\'t feel a thing\\n\\n7) the drama felt like it was slowing down at the end\\n\\n8) the second couple scenes were pretty boring, skipped a lot of their scenes as the drama progressed\\n\\n9) I didn\\'t like how even though Chen Xiaoxi knew her grades sucked, she hardly put any work into bringing them up. Like yeah, if she didn\\'t want to ask Jiang Chen, then I get it, but her BEST FRIEND is literally one of the top students in the class and she still didn\\'t use her resources LOL\\n\\nActing/Cast:\\n\\nActing-wise, they were okay. They\\'re all new actors, so I have nothing to compare to. They weren\\'t spectacular, but they weren\\'t terrible either. I think one of my biggest issues was with Hu Yitian\\'s line-reading skills. He speaks pretty unclearly and has poor enunciation (I am fluent in Chinese so this bothered me while I was listening, but if you don\\'t speak it, then you should be okay with it). Also his voice is really monotonous LOL. But he\\'s tall and pretty cute.\\n\\nMusic:\\n\\nI don\\'t really think there was much music played for this drama, but I quite like the opening theme song!! Ending theme song is meh but the opening one is nice.\\n\\nRewatch Value:\\n\\nNever rewatching this again LOL I mean the drama wasn\\'t terrible but I was pretty bored and not captivated\\n\\nOverall:\\n\\nIt\\'s a good drama to watch if you have nothing to do, or if you\\'re like me, have a friend who likes cute romances. I heard they deviated quite a bit from the book. \"Prime example of an adaption gone wrong by removing all the likeable traits from the main characters. Chen Xiaoxi was never this brainless, and Jiang Chen never leads his potential love interests on. I would’ve preferred a story that spent more time on their adulthood (as in the original), especially when it’s clear the only purpose of the schoolyard love triangles was to drag out the episode coount.\" (Source: Cfensi). But yeah I really couldn\\'t stand how brainless Chen Xiaoxi was.',\n",
       "  'Username': 'T___T',\n",
       "  'compound': 0.9997,\n",
       "  'neg': 0.067,\n",
       "  'neu': 0.621,\n",
       "  'pos': 0.313},\n",
       " {'Date': 'Sep  6, 2019',\n",
       "  'Overall Score': '6.0',\n",
       "  'Review Text': \"I just don't understand the whole hype over this drama or the very high ratings.\\n\\nIt took 10ish episodes to start getting interesting. It started because Jiang Chen started to show he liked Xiaoxi and would do little things to show that he was interested. I also liked the second lead Bu Wongsu and how he tried his best, but I especially loved how Jiang Chen would feel jealous and threatened by him.\\n\\nBut Xiaoxi is such a nothing, whiny, submissive, pathetic character!\\n\\nA lot of the series is spent on school life, but because it was hard to connect to anyone, it wasn't particularly moving or interesting, so I began fastforwarding. Only the bits with Jiang Chen showing how he liked Xiaoxi got me squealing and excited.\\n\\nThen it moved to being in university and they did a LOT of time jumps. There was a lot of in the sky, of the sun or of leaves montages which was just unnecessary.\\n\\nVery strange writing, odd beats and pacing. It didn't really seem to have much left to go with.\\n\\nWhen it came to the last episode, I barely noticed because it was so anti climatic and seemed to not really give any real message at the end. It was nice to see the monologue of Jiang Chen and why he liked Xiaoxi.\\n\\nWeird writing and almost mediocre in some parts. It could have been done a whole lot better. Very fluffy, and I would rewatch for those cute moments, but the rest is a bit of rubbish to be honest...\",\n",
       "  'Username': 'whit3butt3rfly',\n",
       "  'compound': 0.979,\n",
       "  'neg': 0.073,\n",
       "  'neu': 0.765,\n",
       "  'pos': 0.162},\n",
       " {'Date': 'Aug 17, 2019',\n",
       "  'Overall Score': '5.5',\n",
       "  'Review Text': 'I don’t understand, why all the hype with this drama?? The only reason I watched it, was because I’ve read all these highly rated reviews., \\n\\nThe main female character was ANNOYING and she’s such an airhead.. Her, running after the guy who hardly looks at her, was humiliating to watch and frustrating.. How can you think that’s cute?? It’s like she had no self respect or dignity.. \\n\\nThe poor swimmer friend, he was great and sweet and completely loveable, unlike the lead male! \\n\\nI honestly fast forwarded through most of the episodes because I got too annoyed to watch it. \\n\\nThe only characters who I thought were great, were both in support roles, her best friend and the swimmer. \\n\\nGirls just a heads up, it’s NOT cute running after a guy who doesn’t even look at you!',\n",
       "  'Username': 'Raven77',\n",
       "  'compound': 0.982,\n",
       "  'neg': 0.081,\n",
       "  'neu': 0.676,\n",
       "  'pos': 0.243},\n",
       " {'Date': 'Aug 10, 2019',\n",
       "  'Overall Score': '4.0',\n",
       "  'Review Text': \"This is the first c-drama that I have watched... and I'm not here for it.\\n\\nI'm a big fan of school dramas, but this one disappointed me A LOT. If you haven't finished it yet then stop reading because I'll get spoiler-y.\\n\\n*I couldn't connect with a single character.\\n\\nMain male (Jiang Chen): annoying, cold as fuck, terrible, i-don't-even-understand-how-girls-can-fall-for-him, pretty outside but shallow inside, etc. \\n\\nMain female (Xiaoxi): silly, easy to manipulate, insecure about what she really wants. I actually feel pity for her sometimes, but then she does a stupid thing and I don't feel pity anymore.\\n\\nSecond male (Bosong(?)): had good intentions but was too annoying sometimes. She doesn't like you, get over it. \\n\\nXiaoxi's bff (Jingxiao(?)): the only character with a bit of personality.. I guess.\\n\\nThe other friend who's married to Xiaoxi's bff (Lu Yang): clingy, edgy, the cringe I felt.. oof,\\n\\n* Male characters apparently can't accept a 'No' or a 'Leave me alone'. Jiang Chen treated Xiaoxi like trash for years only to show he ''actually cared about her'' in the last 20 minutes of the series. That's not love, that's fucking toxic.\\n\\n* They all were jealous, manipulative, what the fuck- I don't understand how people actually wish to have a romance like this (as I was reading Viki comments)\\n\\n* Acting, again, was bad but I guess it's justified, most of the cast were rookies at the time.\\n\\nAnyways, I can't tell you not to watch it because we all have different taste. But I think, romance in general, is not for me. The OST was cute, though. The best part of the drama was reading the horny comments by Viki users, lmao.\",\n",
       "  'Username': 'imyourboy',\n",
       "  'compound': -0.7597,\n",
       "  'neg': 0.198,\n",
       "  'neu': 0.63,\n",
       "  'pos': 0.172}]"
      ]
     },
     "execution_count": 90,
     "metadata": {},
     "output_type": "execute_result"
    }
   ],
   "source": [
    "reviews_3_to_6[0:5]"
   ]
  },
  {
   "cell_type": "code",
   "execution_count": 91,
   "metadata": {},
   "outputs": [
    {
     "data": {
      "text/plain": [
       "0.2401857142857143"
      ]
     },
     "execution_count": 91,
     "metadata": {},
     "output_type": "execute_result"
    }
   ],
   "source": [
    "rt_pol_score_3_to_6 = []\n",
    "\n",
    "for rt in reviews_3_to_6:\n",
    "    pol_score = rt['compound']\n",
    "    rt_pol_score_3_to_6.append(pol_score)\n",
    "\n",
    "sum(rt_pol_score_3_to_6) / len(rt_pol_score_3_to_6)"
   ]
  },
  {
   "cell_type": "markdown",
   "metadata": {},
   "source": [
    "Reviews with an overall score between 3.0 and 6.0 has an average compound score of 0.2402, which is close to 0 but on the positive side. Therefore, in general, reviewers who rated the drama with a score between 3.0 and 6.0 have a rather neutral feeling towards the drama, with a small positive attitude.\n",
    "\n",
    "(Recall: Earlier at the beginning, we classify the score range 3.0 ~ 6.0 as meaning the drama is \"so-so.\" So, the reviewers think that the drama is not bad, but they do not like it very much.)"
   ]
  },
  {
   "cell_type": "markdown",
   "metadata": {},
   "source": [
    "### B. Sentiment Analysis on Reviews with score 6.0 to 8.0"
   ]
  },
  {
   "cell_type": "code",
   "execution_count": 92,
   "metadata": {},
   "outputs": [
    {
     "data": {
      "text/plain": [
       "13"
      ]
     },
     "execution_count": 92,
     "metadata": {},
     "output_type": "execute_result"
    }
   ],
   "source": [
    "len(reviews_6_to_8)"
   ]
  },
  {
   "cell_type": "code",
   "execution_count": 93,
   "metadata": {},
   "outputs": [],
   "source": [
    "for rt in reviews_6_to_8:      ## reviews_6_to_8 is a list of dictionary\n",
    "    rt_pol_score = sid.polarity_scores(rt['Review Text'])    ## calculate the polarity score of each review text\n",
    "    rt.update(rt_pol_score)"
   ]
  },
  {
   "cell_type": "code",
   "execution_count": 94,
   "metadata": {},
   "outputs": [
    {
     "data": {
      "text/plain": [
       "[{'Date': 'Oct 14, 2018',\n",
       "  'Overall Score': '8.0',\n",
       "  'Review Text': \"The drama was quite cute and I appreciated being able to watch the main characters age and grow together, especially the high school portions of the drama. There were a few parts of the plot and the writing which I found particularly week, especially about the main couple's inability to communicate properly. After dating for a while, I wasn't expecting their first big spat to end as childishly as it did, and I found the heroine pretty selfish, leading on a guy when she knew she wasn't fully over her first love, dragging on a relationship for actual years, which was so disrespectful on her part. There were a lot of moments where she was too irrational and too brash, but I respected that despite that, it seemed to somehow work with her character. Their relationship was awkward, but it really felt right, and the ending was more than satisfying, I admit I shed a tear when I saw them walk down the path as adults, holding hands, slowly becoming their teenage selves again, really the beautiful finish that the drama deserved.\\n\\nI think that while the main couple were amazing, the real stars came in the form of the lead roles. The second male lead was the perfect mixture of too kind and too quiet to really make the audience empathise with his position, and while I was rooting for the main couple, I always felt upset when I saw the Bu Song's (second-male-lead) reaction. His acting was so convincing and his character was perfect in balancing out their fivesome.\\n\\nMy personal favourites were Lu Yang and Jing Xiao. They were amazing best friends and were genuinely supportive of everyone  in their little group. When they overcame their High School problems and became a strong couple i university, I was so happy, but they also made me want to hit the main couple's heads because really,  couldn't they just look to their friends for example and realise that communication is integral in a relationship?? \\n\\nWhile the drama largely centered around romance, I really think that the moments that focused on friendship were the strongest written parts. All the scenes where the fivesome help each other overcome problems, or just hang out for fun is ingrained in my memory, because they really made such a lovely little family for themselves.\",\n",
       "  'Username': 'OkayOrbit',\n",
       "  'compound': 0.9987,\n",
       "  'neg': 0.039,\n",
       "  'neu': 0.711,\n",
       "  'pos': 0.25},\n",
       " {'Date': 'Sep 19, 2018',\n",
       "  'Overall Score': '7.0',\n",
       "  'Review Text': 'I initially dropped this drama after the 10th episode.  \\n\\nPros: Watching this drama is like watching life through rose colored glasses.  Everything is beautiful and sweet. This drama is appropriately named. There were only sparks of love though which I will get into later. The writing for this drama is  realistic albeit somewhat childish.  Yet, even with the childish lens, there were occasional moments of great acting from our fresh faced actors.\\n\\nCons: One major con for me is the length of time the producers chose to focus on the high school portion of their lives. I had no qualms with the time period.  I was more annoyed that our protagonists had to remain in that simple and childish mindset for nearly 17 episodes.  I got way too bored.  I hoped that with the group moving on to college that things will start to pick up in drama land.  It does a bit but not in the way that I expected. I was not expecting that college and career life meant spending a LOT of time with Xiao Xi and Jiang Chen while everyone else just falls into background noise.  \\n\\nMoving on to our love duo of Xiao Xi and Jiang Chen.  I am sorry. I just didn\\'t buy it. Jiang Chen spent a lot of time in the first few episodes closing doors in Xiao Xi\\'s face, looking annoyed that she\\'s around and overall just looking like he was just not into her.  Even when he ends up falling in love with her, I just did not see it in Yi Tian\\'s face.  His face is like an emotional void.  It might be his character but Yi Tian was a man of few expressions so who knew what emotion he was really trying to portray in that scene.  Maybe it was supposed to be love but it came across as bleh...?\\n\\nAlso for heaven sake can this drama be any harsher to Wu Bo Song?  He spends the entire time playing 5th wheel while also selflessly being the sweetest human being alive to Xiao Xi. I don\\'t have second lead syndrome.  I have \"can my boy catch a break\" syndrome. That poor pitiful fool.\\n\\nAnyway, I did find the height difference between Shen Yue and Hu Yi Tian to be quite adorable.  Definitely a plus for all of the cute koala hugging moments.',\n",
       "  'Username': 'yoonbread',\n",
       "  'compound': 0.9885,\n",
       "  'neg': 0.074,\n",
       "  'neu': 0.777,\n",
       "  'pos': 0.148},\n",
       " {'Date': 'Aug 31, 2018',\n",
       "  'Overall Score': '8.0',\n",
       "  'Review Text': \"Watched this a couple months ago but only writing a review now because I saw that my notes were cut off.\\n\\nComments right after I finished watching : Cute drama but the story line had a lot of typical tropes. (love triangle, girl who's mean to the main character, etc.) Also sad that Wu Bo Song didn't get a happy ending himself. \\n\\nI'm a bit surprised at my own rating (7.5 when I finished watching it). Now, after a few months, I have positive memories of it. May have to rewatch to see why I didn't like it that much before.\",\n",
       "  'Username': 'Jen',\n",
       "  'compound': -0.2987,\n",
       "  'neg': 0.126,\n",
       "  'neu': 0.768,\n",
       "  'pos': 0.105},\n",
       " {'Date': 'Jul  7, 2018',\n",
       "  'Overall Score': '8.0',\n",
       "  'Review Text': 'Sorry if this is long. I rarely finish a drama so I want to write thoughtful reviews whenever I do from now on! \\n\\nShort review:\\n\\nThis drama is cute! If you want a cute fluff, this drama is definitely for you! Think: Itazura Na Kiss but less elaborate and a bit more variety in characters and instances. \\n\\nThe more elaborate review: \\n\\nI RARELY finish a drama but for some reason, I breezed through this one pretty easily! I watched this in less than 24 hours (I skipped scenes that didn\\'t interest me), it\\'s on youtube too so that helped a lot!  I think each ep is only 40 mns if u skip the intro song (it showed lots of spoilers so I recommend skipping it), preview (tip: skip to 160 secs on yt to go straight to the ep!) and the credits! \\n\\nThe story revolved mostly during their time in highschool. Lots of school dramas, as u can imagine: jealousy, love, family, friendship and ofc the infamous asian grade pressuring of parents to their children.\\n\\nThe story after they graduated felt VERY rushed. I wish they could\\'ve presented it in a more elaborate way. The story telling was pretty messy and everything was happening SO FAST. There was a time (I think around ep 17-18) where I was like, wait did i skip an ep??? bc everything was so sudden. \\n\\nFor the characters:\\n\\nXiaoXi. Sigh. Girl, where\\'s the self-respect?? She really didn\\'t know when to distance herself from Jiang Chen. I guess he doesn\\'t mind but it\\'s frustrating for me, a girl viewer, to see someone submitting themselves so much to a guy who barely even shows his real feelings towards her. I get that she\\'s like that at first but during the last legs of the highschool story arc, I was just fed up. She also didn\\'t mature that much when they graduated. Not as annoying but she really does forgive him too easily and when she doesn\\'t, she becomes annoying again by not even listening properly to him and what he has to say. She\\'s cute though and I now stan Shen Yue (the actress). She so smol tho aw\\n\\nJiang Chen. Sigh again. BOI IF U DON\\'T-!!!!! Idk how to feel about his character, he\\'s cold but not too cold. I relate to to him in a way tho, idk how to express feelings properly. I was so annoyed he kept on entertaining Lee Wei but I guess in  the end, she really needed his help. He needed to learn to express his feelings and his motives for the things that he does for XX. I liked tho that he\\'s become open about his feelings for her to his friend. Also, during the times XX and him were together, he was open to doing what she wants eventho he\\'s not a fan of them. He\\'s a tad bit possessive and selfish tho (not that much of a bad thing ;)). I also like his arc as a doctor bc he never neglected his duties. He\\'s given a proper bg story for me to understand why he was the way that he was so I guess I didn\\'t remember much of what annoyed me of his character.\\n\\nWu Bo Song. He\\'s such a sweetheart. A generous, kind and loving sweetheart. I like his story arc as a swimmer. I don\\'t have much to say about him as his character was the typical nice 2nd male lead. We\\'re all used to that. He\\'s the Kin-chan of this story, basically.\\n\\nSecond main couple: their characters were very well written from beginning to end and honestly, they might just be the reason you\\'ll keep on watching. \\n\\nOTP:\\n\\nChemistry was great! The height difference never fail to surprise me whenever I see it lol. \\n\\nSome annoying things abt their relationship: misunderstandings. They literally got separated for a long time just bc there was a misunderstanding (also bc both of then are hardheaded). They never communicate properly (as u do in these stories) that\\'s why they don\\'t meet halfway. It git annoying so I definitely skipped some of those parts. \\n\\nOne thing I liked about their relationship is when he was having his internship/job at the hospital, XX never complained of how him being a doctor gets in the way of their relationship. Whenever he gets a call, she can get upset but still, she understands. That\\'s why she\\'s perfect for him. As for the sweet moments, it takes a while before we get there and there\\'s not much but when there is, it\\'s very very cute!! We should\\'ve gotten a bit more intimate moments, I remember having an ep where they were just acting SO CUTE and next ep was literally hell. One step forward, two step backwards (as u do ofc). It was even worse the second time around. \\n\\nThe ending felt VERY rushed so we didn\\'t get to have enough otp moments. They were very cute tho! Love the scenes on her apartment. He\\'s so into her, it\\'s great. I\\'m getting Scorpio vibes from Jiang Chen, and XiaoXi is the Cancer to his obsessed Scorpio! Lol.\\n\\nFinal thoughts: \\n\\nAll in all, despite my rants above, this was an easy watch! I recommend it bc seems like lots of people liked it too. Many says this is the greatest drama they\\'ve ever watched (which confuses me bc it\\'s pretty average), it\\'s pretty good when you\\'re looking for a lighthearted drama! The otp is so cute!!! I would love to watch them again (I\\'ve known about the \"scandal\" midway through the drama and it did kinda ruin the fantasy for me but i got over it eventually). I\\'ve became a fan of Shen Yue. \\n\\nPs. Hu Yi Tian looks like Park Bo Gum + Sehun in some angles and Shen Yue looks like Mugi Kadowaki + Tsuchiya Tao!',\n",
       "  'Username': 'horikittypie',\n",
       "  'compound': 0.9996,\n",
       "  'neg': 0.071,\n",
       "  'neu': 0.702,\n",
       "  'pos': 0.226},\n",
       " {'Date': 'May 28, 2018',\n",
       "  'Overall Score': '7.0',\n",
       "  'Review Text': 'As a huge sucker for high school fluff (although I haven\\'t watched a lot to say I\\'m an expert), I was pretty excited to watch this drama after the hype it received from my facebook timeline. I had already planned to only watch the first episode and delay the next episodes for a week or until I get a little free but it drove me to watch more episodes and I ended up watching it in 2 days, somehow managed to squeeze it in my tight schedule.\\n\\nStarting with the plot, it\\'s not the best but it isn\\'t that bad either. The story started fine but as soon as they graduated from High School, everything felt rushed - it felt like huge chunks of their adulthood were missing. Also, there were too many issues in main protagonists\\' relationship that weren\\'t addressed well or maybe it\\'s because they lacked in communication which is one of the things I disliked in this drama.\\n\\nMoving on to the characters, I honestly loved the chemistry and dynamics of the five main characters. Each of them had their own identity which made their group interesting to watch. However, I didn\\'t like some of their behaviours individually. I don\\'t want to spoil much but I\\'ll take Jiangchen as an example. His anger always leads to bad decisions and at some point, it gets tiring that you start questioning how Xiaoxi was able to tolerate him and like him after all his actions specifically his \"coldness.\" I know it\\'s what makes him Jiangchen but the excitement dies down since you how his choices will widely affect the storyline and where it is heading. Nonetheless, I really liked Jingxiao\\'s and Luyang\\'s character. They made the drama more light-hearted than it was supposed to be. I also have nothing but respect for my hero, Wu Bosong.\\n\\nOverall, A Love So Beautiful is a cute drama. I had problems here and there but after all, I came for the fluff. It did give nostalgic vibes and reminded me of my puppy love days. You surely do everything for the person you like whether it\\'s dumb or not. Happy watching!',\n",
       "  'Username': 'Eunice',\n",
       "  'compound': 0.9945,\n",
       "  'neg': 0.092,\n",
       "  'neu': 0.704,\n",
       "  'pos': 0.204}]"
      ]
     },
     "execution_count": 94,
     "metadata": {},
     "output_type": "execute_result"
    }
   ],
   "source": [
    "reviews_6_to_8[0:5]"
   ]
  },
  {
   "cell_type": "code",
   "execution_count": 95,
   "metadata": {},
   "outputs": [
    {
     "data": {
      "text/plain": [
       "0.8878000000000001"
      ]
     },
     "execution_count": 95,
     "metadata": {},
     "output_type": "execute_result"
    }
   ],
   "source": [
    "rt_pol_score_6_to_8 = []\n",
    "\n",
    "for rt in reviews_6_to_8:\n",
    "    pol_score = rt['compound']\n",
    "    rt_pol_score_6_to_8.append(pol_score)\n",
    "\n",
    "sum(rt_pol_score_6_to_8) / len(rt_pol_score_6_to_8)"
   ]
  },
  {
   "cell_type": "markdown",
   "metadata": {},
   "source": [
    "Reviews with an overall score between 6.0 and 8.0 has an average compound score of 0.8878, which is very close to 1. Therefore, in general, reviewers who rated the drama with a score between 6.0 and 8.0 have a positive feeling towards the drama.\n",
    "\n",
    "(Recall: We classify the score range 6.0 ~ 8.0 as meaning the drama is \"good.\" So, the reviewers might approve the drama and might recommend it to others, but they might not say that it is one of their favorite dramas.)"
   ]
  },
  {
   "cell_type": "markdown",
   "metadata": {},
   "source": [
    "### C. Sentiment Analysis on Reviews with score 8.0 to 10"
   ]
  },
  {
   "cell_type": "code",
   "execution_count": 96,
   "metadata": {},
   "outputs": [
    {
     "data": {
      "text/plain": [
       "80"
      ]
     },
     "execution_count": 96,
     "metadata": {},
     "output_type": "execute_result"
    }
   ],
   "source": [
    "len(reviews_8_to_10)"
   ]
  },
  {
   "cell_type": "code",
   "execution_count": 97,
   "metadata": {},
   "outputs": [],
   "source": [
    "for rt in reviews_8_to_10:      ## reviews_8_to_10 is a list of dictionary\n",
    "    rt_pol_score = sid.polarity_scores(rt['Review Text'])    ## calculate the polarity score of each review text\n",
    "    rt.update(rt_pol_score)"
   ]
  },
  {
   "cell_type": "code",
   "execution_count": 98,
   "metadata": {},
   "outputs": [
    {
     "data": {
      "text/plain": [
       "[{'Date': 'Dec 30, 2017',\n",
       "  'Overall Score': '8.5',\n",
       "  'Review Text': 'Amidst all the positivity and perfection that others see in this drama, you can count on me to be a real grinch and center in on all the reasons that it was not entirely flawless. That is not to say I hated it; far from it, but I fail to share the unwavering, absolute love that many others seem to.\\n\\nMany things about A Love So Beautiful was a surprise to me. I\\'ll be the first to admit that I harbor a real prejudice each time I enter the realm that is a Chinese drama - watching them throughout my childhood, they were unfailingly littered with a) tragedy, b) horrible CG, and/or c) gagworthy storylines (typically, an entertaining combination of all three). And quite honestly, few nowadays seem to impress me. Call it bias, but I still think the Mainland has much to learn regarding what constitutes a good show.\\n\\nA Love So Beautiful was different from the moment I picked it up. It does not present melodramatic conflict for you to brood over, but instead focuses on the innocence of a teenager trying to get through the struggles of school and first love. I did not grow up within the Chinese education system, but there is something incredibly charming and nostalgic about seeing a group of five friends trudge through their high school years. Having teachers scold you, finding unpredictable friendships, secretly liking someone...A person is only naive in such a way for a small amount of time, and this drama perfectly captures that foolish yet heartwarming attitude of youth.\\n\\nIt only helped that the cast consisted of young, yet capable actors. How annoying is it when you watch a show about high school and the actors are in their mid- to late-twenties? And then you spend the entire duration brooding over how old they look and how nothing about them reminds you of a cute teenager. A Love So Beautiful never suffers from this issue; because not only do the main actors look young - they are. They act their parts perfectly, accurately presenting the turbulent feelings of their characters and how they grow over the course of the drama. It\\'s difficult to find five lead actors who interact with one another with so much natural chemistry that it\\'s hard to believe that they\\'re acting.\\n\\nBut turn on the sad music - I\\'m done gushing about all the things I absolutely adored. Here\\'s what dragged it down from a perfect 10: as soon as the characters left high school, the plot began to wander. There is a distinct imbalance between the warmth that is their high school lives and the confusion that is their \"growing up.\" \\n\\nI would like to ensure you that I don\\'t hate the fact that they got older. It was the delivery; how the writers depicted their \"maturing\" that was irksome. What I found particularly problematic was how you spend over half of the drama watching them in high school - and you love it to pieces - but then you have less than eight episodes to watch them speed carelessly through cliche relationship problems and time skips. The transition is rough and the trip doesn\\'t get any smoother. It would have made far more sense to me to either limit the story of this show to their high school years, or add more episodes to spread out their time as they age past university and through adulthood. \\n\\nI simply didn\\'t feel the magic in the latter part of the drama, which follows their post-graduation lives. It\\'s still fine to watch, but it just isn\\'t the same. I wanted to see the ways they carefully sort out problems between themselves and thus mature, not watch as they get angry at one another and resolve it merely because - well, merely because that\\'s the way the writers want it to be. I did not feel as connected to their characters; not because they aren\\'t bubbly teenagers, but because the story slowly becomes more about their problems and less about who they are. To me, their characters are one of the greatest strengths of the plotline, and as it fades throughout, so does the show\\'s primary charm.\\n\\nI would feel bad shutting this drama down entirely, since that would be unfair to the refreshing fun that it brought to me as I marathoned it. It is not without its flaws. However, it made me remember my first feelings of romance and filled my heart to the brim with both happiness and bittersweetness. It\\'s hard to find a drama capable of such an effect on a viewer - and I\\'m glad this one found a way.',\n",
       "  'Username': 'Richel',\n",
       "  'compound': 0.9992,\n",
       "  'neg': 0.091,\n",
       "  'neu': 0.687,\n",
       "  'pos': 0.222},\n",
       " {'Date': 'Dec 28, 2017',\n",
       "  'Overall Score': '9.0',\n",
       "  'Review Text': 'This drama is said to be another adaptation of the \"It Started With A Kiss\" franchise. I personally haven\\'t watched any of these except for this version thus I\\'m gonna base my review from this alone without any comparison :D.\\n\\nMost of us have experienced studying in high school. Although not everyone had experiences of relationships in high school, most likely we have observed this happenings around us. \"A Love So Beautiful\" is that drama that highlights the \\xa0innocence of high school as well as the experiences of having a crush or falling in love with someone. This drama has a typical high school drama plot line which focuses on the lives of the main characters during high school. This is another instance wherein a drama doesn\\'t appeal to be deep, but merely to be relatable. I\\'ll delve deeper with this review by discussing each components for rating, from its story until the rewatch value.\\n\\nThe story of this drama is light. It\\'s a story that is easy to digest since the story is told in a linear manner. The pacing was kind of steady but the ratio between the past and present was kind of unsatisfying. I believe that the story would\\'ve been more interesting if it was able to balance the two parts of the story since the character development can be highlighted more in a setting as such. Another characteristic of the story is that it\\'s romantic. But this characteristic is a double edged sword. It was able to create a story that can be fantasized by many but it can create misconceptions in terms its main theme: love. It was my dilemma while watching the drama since at times it challenges my thoughts about relationships.\\n\\nNext is the Acting and the Cast. Personally, this component is the one that made me continue watching the series. It might seem a bit contrary since I only gave it an 8.5 out of 10 but I considered many factors in rating this criteria. The casting for this drama is really great. The chemistry between them is really commendable.\\n\\nShen Yue and Hu Yi Tian\\'s chemistry however, is what made this drama special. It can tug heartstrings and it can make you punch or slap the back of someone who is beside you. If the casting was the only thing to take into consideration in rating, I would\\'ve gave this a perfect rating, but there is a need to rate the acting, thus lowering my score. There are many times while watching that I felt sad because there were many opportunities to show more emotions, to give more adlibs but there wasn\\'t anything. Character relationships aren\\'t even an excuse because the acting could\\'ve been better and sometimes, you feel that the acting is a bit too calculated. The latter lines however, pertains to the acting for the two main actors, Shen Yue and Hu Yi Tian. The acting isn\\'t perfect, nor excellent, but it\\'s still commendable.\\n\\nThe music for this drama is actually good but the thing is, it can only be memorable if you don\\'t skip the opening sequence. The theme songs are beautiful, but I the music lacked variety, thus lowering my score.\\n\\nLastly the rewatch value. I personally think that this drama has a really high rewatch value since it\\'s a light watch and also because of the cast remarkable and memorable chemistry. \\n\\nIt has been a long time since I last watched a Chinese drama and I must day, watching this drama was a good and pleasant experience. I recommend that people to watch this if they want a light and a heartwarming drama :D.',\n",
       "  'Username': 'Moonbyul Supremacist',\n",
       "  'compound': 0.9984,\n",
       "  'neg': 0.025,\n",
       "  'neu': 0.809,\n",
       "  'pos': 0.166},\n",
       " {'Date': 'Dec 28, 2017',\n",
       "  'Overall Score': '10',\n",
       "  'Review Text': \"Finished\\xa0A Love so Beautiful in just 2 days, and I am so glad I was able to watch it right as the year ends! This drama really brought my year of 2017 to a happy ending :)\\n\\nStory/plot: -10- I heard that this storyline was very similar to a Japanese drama/manga called “Itazura na Kiss”; however, I have never watched the drama, or any of their remakes, so I am writing this review with nothing to compare it to, pretty much. With that being said, I loved the storyline of this cutesy, heart-warming drama! The cliche style of a not-so-smart girl liking the perfect guy definitely took a positive turn in this show! The transition between high school to college to adult life was pretty smooth, in my opinion, with majority of it focused during their high school years, which made it an innocent and light drama. As the story moves on to the adult life, the relationship between the main leads became more intimate, which made me squeal so many times at 2 o'clock in the morning.\\n\\nActing/cast: -10- The height difference between the 160cm Chen Xiao Xi (played by Shen Yue) and the tall 188cm Jiang Chen (played by Hu Yi Tian) made me squeal every time! Both of the main leads are decently new faces to the entertainment world, and they definitely made a good impression, on me at least haha! For her first main-lead role in a drama, Shen Yue did a spectacular job of performing the different sides and attitudes of the character, Chen Xiao Xi, from the happy, always positive high school youth to the independent grown women that Chen Xiao Xi becomes later on in the drama. NOW, LET’S TALK ABOUT HU YI TIAN! OMG, HE IS SOME HAWT STUFF! So cute, and for his first main-lead role, he played it really well! It’s hard to fall in love with someone who plays a, supposedly, cold-hearted, not caring character, but later on, we find out that the character, Jiang Chen, is pretty much the opposite! The way Hu Yi Tian smirks and acts to care for Chen Xiao Xi in the drama can make any girl's heart flutter! (I think I found my next man crush tbh) The supporting roles might have not done a whole lot, but their contribution played a huge impact throughout the whole show, and it made the drama 100X better! Nothing to complain in general, great leads, great actors/actresses, and great chemistry! :)\\n\\nMusic: -10- The opening song is truly the perfect fit for the drama! When I first heard it, I already loved it and how the melody matches the drama’s theme, but after reading the lyrics, it made me love the song even more! If you don’t believe me, take a look yourself: https://www.youtube.com/watch?v=rIKib5Bymz8 I especially love the line “wo xihuan ni pei wo kanshu fen xin kan wo tou xiao” which translates to “I like you when you’re accompanying me to read a book, distracted by looking at me, smiling quietly,” it brings back many ridiculous smiles when I watched the drama, and I can't seem to stop replaying the song in my head now!\\n\\nRewatch value: -9.5- I love A Love so Beautiful and I have rewatched my favorite parts more than a dozen time, but I am sorry, I can’t rewatch the whole drama from the beginning to end more than once. I am not sure exactly why, but I guess the whole drama wasn’t capturing enough for me? For the parts that I love though, I have rewatched it so many times, and I will never get bored of rewatching them!\\n\\nOverall: -10- This drama truly created a great end to my 2017! The sweet, yet simple story is my cup of tea! I can’t seem to let go of this drama, it was too good and too sweet! The characters played their parts so well, the mixture of the songs and the cute relationships between the characters are too much to be given up so easily. So sad that I watched it in only 2 days! I wish I would have spent more time to savor every second!\\n\\nIf you are looking for a romantic, and heart-warming drama that takes place mainly during the high school life and transitions to more serious matters later on, A Love so Beautiful is definitely the drama for you! Hope this helps and thanks for reading!\\n\\nChào for Now!\\n\\nLily L.\",\n",
       "  'Username': 'LilyL',\n",
       "  'compound': 0.9997,\n",
       "  'neg': 0.025,\n",
       "  'neu': 0.692,\n",
       "  'pos': 0.284},\n",
       " {'Date': 'Dec 25, 2017',\n",
       "  'Overall Score': '9.5',\n",
       "  'Review Text': 'The only regrets I have with this drama is binge watching it so quickly. Finishing it has left such an empty void in me and I can’t help but make comparisons with any other dramas I watch.\\n\\nThis drama is such a unique case for me because usually I only have interest in Korean dramas and have struggled to enjoy a Chinese drama despite been Chinese myself. I also generally dislike dramas where the female chases after the male. However this drama has a special charm that I am unable to resist, making it probably even my most favourite drama ever in my 4 years of watching Asian dramas.\\n\\nMany people may think of Xiaoxi as a dumb bimbo whose life revolves around a guy and while this may be true we must remember that she is a high school girl and at the time where the desire for romance is very strong.\\xa0She makes mistakes and is most definitely not perfect.\\xa0As the drama progresses, we begin to see her development into an independent lady that is not as easily swayed by Jiangchen until she is treated right. Also she too has her own hobbies and aspirations that do not revolve around Jiangchen which is something that is not commonly shown in dramas with similar themes. No she does not become a nurse for Jiangchen.\\n\\nNONE of the character are perfect. Not even the seemingly perfect Jiangchen whose jealously often gets the better of him and also has his own insecurities just like the next person. \\xa0This makes the drama even more likeable and relatable. They all make mistakes and all learn from it.\\xa0\\n\\nThe drama is a perfect example of taking a very cliche and used plot and twisting it into a unique and charming drama that will remain in our hearts for a very very long time.',\n",
       "  'Username': 'musautau',\n",
       "  'compound': 0.7779,\n",
       "  'neg': 0.139,\n",
       "  'neu': 0.712,\n",
       "  'pos': 0.149},\n",
       " {'Date': 'Dec 20, 2017',\n",
       "  'Overall Score': '10',\n",
       "  'Review Text': \"A Love so Beautiful is such a pure and cute love story. This drama really got me invested, mainly because of the overall story and the actors. The plot sounds so simple and cliche, but once you watch it, it will feel like it's not. It was very easy for me to watch because the acting and story were both amazing.\\n\\nI laughed.\\n\\nI cried.\\n\\nI clutched my heart so many times...\\n\\nYou won't regret watching this drama.\\n\\n*warning to those who suffer from a condition called second lead syndrome.\",\n",
       "  'Username': 'ishinhwa',\n",
       "  'compound': 0.9656,\n",
       "  'neg': 0.074,\n",
       "  'neu': 0.66,\n",
       "  'pos': 0.267}]"
      ]
     },
     "execution_count": 98,
     "metadata": {},
     "output_type": "execute_result"
    }
   ],
   "source": [
    "reviews_8_to_10[0:5]"
   ]
  },
  {
   "cell_type": "code",
   "execution_count": 99,
   "metadata": {},
   "outputs": [
    {
     "data": {
      "text/plain": [
       "0.9822987499999998"
      ]
     },
     "execution_count": 99,
     "metadata": {},
     "output_type": "execute_result"
    }
   ],
   "source": [
    "rt_pol_score_8_to_10 = []\n",
    "\n",
    "for rt in reviews_8_to_10:\n",
    "    pol_score = rt['compound']\n",
    "    rt_pol_score_8_to_10.append(pol_score)\n",
    "\n",
    "sum(rt_pol_score_8_to_10) / len(rt_pol_score_8_to_10)"
   ]
  },
  {
   "cell_type": "markdown",
   "metadata": {},
   "source": [
    "Reviews with an overall score between 8.0 and 10 has an average compound score of 0.9823, which is extremely close to 1. Therefore, in general, reviewers who rated the drama with a score between 8.0 and 10 have a strong positive feeling towards the drama.\n",
    "\n",
    "(Recall: We classify the score range 8.0 ~ 10 as meaning the drama is \"excellent.\" So, the reviewers might like the drama very much and would be very happy to recommend it to others.)"
   ]
  },
  {
   "cell_type": "markdown",
   "metadata": {},
   "source": [
    "### D. Sentiment Analysis by Score Summary\n",
    "\n",
    "As expected, reviews with a score ranging from 8.0 to 10 have the highest positive average compound score, indicating that the reviewers who gave a score in this range have a positive feeling towards the drama. Reviews with a score in the range of 3.0 ~ 6.0 have the lowest positive average compound score, which indicates almost a neutral feeling towards the drama. In fact, there is an even lower score range from 0 to 3.0, which is disregarded in the analysis since there is no review from 2017 to 2019 that rates the drama with a score in this range. But if there are such reviews, what would the average compound score be? Would it be a negative number, given that the average compound score for reviews with a score ranging from 3.0 to 6.0 is very close to the neutral value 0?"
   ]
  },
  {
   "cell_type": "markdown",
   "metadata": {},
   "source": [
    "### Sentiment Analysis in General\n",
    "\n",
    "Lastly, I want to conduct the sentiment analysis on the reviews from 2017 to 2019 altogether and see what the average compound score is. Would this average compound score suggest a similar attitude to the one suggested by the average overall score shown on the website? In general, does *A Love so Beautiful* gain a good reputation outside of Mainland China?"
   ]
  },
  {
   "cell_type": "code",
   "execution_count": 100,
   "metadata": {},
   "outputs": [],
   "source": [
    "reviews_2017_to_2019 = json.load(open('data/review_2017_to_2019.json'))"
   ]
  },
  {
   "cell_type": "code",
   "execution_count": 101,
   "metadata": {},
   "outputs": [
    {
     "data": {
      "text/plain": [
       "100"
      ]
     },
     "execution_count": 101,
     "metadata": {},
     "output_type": "execute_result"
    }
   ],
   "source": [
    "len(reviews_2017_to_2019)"
   ]
  },
  {
   "cell_type": "code",
   "execution_count": 102,
   "metadata": {},
   "outputs": [],
   "source": [
    "for rt in reviews_2017_to_2019:      ## reviews_2017_to_2019 is a list of dictionary\n",
    "    rt_pol_score = sid.polarity_scores(rt['Review Text'])    ## calculate the polarity score of each review text\n",
    "    rt.update(rt_pol_score)"
   ]
  },
  {
   "cell_type": "code",
   "execution_count": 103,
   "metadata": {
    "scrolled": true
   },
   "outputs": [
    {
     "data": {
      "text/plain": [
       "[{'Date': 'Dec 28, 2019',\n",
       "  'Overall Score': '8.5',\n",
       "  'Review Text': \"I was putting off watching this drama for a while. I always saw it under 'top dramas', my recommendation feed, reviews where it was called as another ISWAK/Itazura na Kiss/Playful Kiss, etc.\\n\\nBefore I began watching this I was only familiar with the male lead in a drama where his role wasn't too big. I did know that he is quite decent so decided to go ahead. Here's what I thought finally:\\n\\nSTORY: On the surface it comes off as another youth drama. However what I liked most about the drama was the simplicity of the plot. It's just about a group of friends, an annoying love triangle, a jerk male lead and ditz female lead. I can see the comparisons with ISWAK but nothing tops that. It would be fair to say this was at least inspired from that story. But what sets this drama apart are the likeable characters and the trivial-yet-relatable situations they go through. Their friendship was excellent and it was best part for me over the romantic plot. \\n\\nCHARACTERS AND LOVE TRIANGLE: I had a love-hate relationship with Xiao Xi. She's cute, simple but was too dense for my liking. I also don't like how she seemed not to have any self-respect. I was often uncomfortable with the message this drama keeps giving- it's fine to keep chasing someone even if they walk all over you. Not saying that Jiang Chen didn't like her, but he was mean to her majority of the drama. For me I was all in on the second lead ship. I haven't suffered such major Second Lead Syndrome since AGES. Bo Song deserved Xiao Xi's love. I hated how stone cold she was to him and even seemed ungrateful at times. He did so much for her but she always had one person in her heart. I would blame the writer for this plot because the better moments were written between Xiao Xi and Bo Song. She kept hanging with him till the last 2 episodes, not acknowledging his love. For god's sake, she spent her entire life with a one-sided love and I couldn't buy how she couldn't recognise Bo Song's love throughout regardless of what he said to her. I didn't really buy Jiang Chen as a character, his reason for being mean to her and why he liked her. He just seemed like a selfish person to me who played and manipulated her as he wished. I liked his adult side better because he had at least become more mature and expressive by then. I did enjoy his interactions with Xiao Xi towards the end. The other two friends were awesome and I was glad about having a secondary couple on the show.\\n\\nFLAWS: It was slow, seemed to have borrowed ideas and lack of plot in between episodes. One thing that is rarely explained in Chinese dramas is why the leads fall for each other. In this drama also I had no clue. Especially Xiao Xi's devotion to JC was hard to understand. It was more than just fangirl feelings or puppy love. She was stupid, playful and childish but was bold when it came to pursuing him and had only him in her heart forever.\\n\\nI think this drama is cute if you want to watch something relaxing without much drama. The drama was slow but it was consistent in following its own pacing in all the episodes. Just don't root for the second lead and this drama might just be more enjoyable.\",\n",
       "  'Username': 'addicted2dramas',\n",
       "  'compound': 0.9988,\n",
       "  'neg': 0.076,\n",
       "  'neu': 0.704,\n",
       "  'pos': 0.22},\n",
       " {'Date': 'Nov  8, 2019',\n",
       "  'Overall Score': '9.0',\n",
       "  'Review Text': 'Story :\\n\\nFresh! That\\'s my first thought when I start to watch this series. This series is quite mild, but the development of everyone\\'s personality and feelings are clearly visible here. One thing I like the most here is the friendship. This series does not recognize the phrase \"love will destroy the friendship\". They still support each other even though the person they like likes someone else. And I really love how that friendship continues to develop until they are grow up.\\n\\nSometimes I feel exasperated by Chen Xiao Xi\\'s childish attitude, but well, maybe when I was in school I did the same thing. LOL. And I really love to see when Jiang Chen feels jealous seeing Chen Xiao Xi and Wu Bo Song\\'s closeness ^_^\\n\\nActing/Cast :\\n\\nThey all did great and so natural, but I especially love Shen Yue acting. She\\'s so cute I can\\'t help it but to adore her ^_^\\n\\nMusic :\\n\\nThe opening and ending song are so easy listening, and I put them both on my Spotify playlist now ^_^\\n\\nRewatch Value :\\n\\nI definitely will watch this series again if I need some cuteness in my life.',\n",
       "  'Username': 'arashinta',\n",
       "  'compound': 0.9978,\n",
       "  'neg': 0.07,\n",
       "  'neu': 0.576,\n",
       "  'pos': 0.354},\n",
       " {'Date': 'Nov  6, 2019',\n",
       "  'Overall Score': '9.0',\n",
       "  'Review Text': \"''A Love So Beautiful'' was the first C-Drama that I've ever watched!\\n\\nThe story isn't something fresh or new, talks about a looong friendship that turns into something more into a 12 year timelapse.\\n\\nI've really appreciated it because doesn't tend to fall into boring long and unappropriated scenes like many other Chinese dramas, everything super smooth and easy-going.\\n\\nI absolutely loved the second lead, also the main couple made wonderful work!\\n\\nMore than a drama, I can consider it more as a long journey with the cast into their life as teenagers till adults!\\n\\nAbsolutely worth the time spent by watching it!\",\n",
       "  'Username': 'seoul-not-soul',\n",
       "  'compound': 0.9778,\n",
       "  'neg': 0.036,\n",
       "  'neu': 0.727,\n",
       "  'pos': 0.237},\n",
       " {'Date': 'Oct 22, 2019',\n",
       "  'Overall Score': '8.0',\n",
       "  'Review Text': 'First of all, I am a sucker for teen dramas (especially high school dramas), so I absolutely loved this drama! I thought the story was so well organised and interesting. I usually don’t watch Chinese dramas as I think they often overact and can be too cringe but I found this drama extremely fun watching despite the amount of cringy scenes. \\n\\nThe main characters chemistry is so amazing and I think that the love story in the drama is really good and sweet. The main couple is definitely the reason that I kept watching the drama as they show so sincere love. And who doesn’t love a love triangle. \\n\\nThe friendship between the five main characters is what I really liked in the drama. However I do think that the story was too slow in some aspects. I would definitely recommend this to anyone wanting to start watching Chinese dramas.',\n",
       "  'Username': 'Agnes Perez',\n",
       "  'compound': 0.9975,\n",
       "  'neg': 0.011,\n",
       "  'neu': 0.612,\n",
       "  'pos': 0.377},\n",
       " {'Date': 'Oct 12, 2019',\n",
       "  'Overall Score': '10',\n",
       "  'Review Text': 'I watched this on Netflix and I have re-watched this over a dozen times!\\n\\nThis series brought me back to my childhood, where I had crushes and a lot of  heartbreaks!  It is very relatable!\\n\\nShen Yue, Hu Yi Tian and the rest of the cast portrayed their roles well.  \\n\\nHaving read the book, I wish it had more episodes to really show their life together as an \"adult couple\".\\n\\nThis series brought laughter, excitement, tears and admiration for me and I love that it brought that many emotions.',\n",
       "  'Username': 'iamchichibebe',\n",
       "  'compound': 0.9213,\n",
       "  'neg': 0.076,\n",
       "  'neu': 0.727,\n",
       "  'pos': 0.197}]"
      ]
     },
     "execution_count": 103,
     "metadata": {},
     "output_type": "execute_result"
    }
   ],
   "source": [
    "reviews_2017_to_2019[0:5]"
   ]
  },
  {
   "cell_type": "code",
   "execution_count": 104,
   "metadata": {},
   "outputs": [
    {
     "data": {
      "text/plain": [
       "0.9180660000000005"
      ]
     },
     "execution_count": 104,
     "metadata": {},
     "output_type": "execute_result"
    }
   ],
   "source": [
    "rt_pol_score_2017_to_2019 = []\n",
    "\n",
    "for rt in reviews_2017_to_2019:\n",
    "    pol_score = rt['compound']\n",
    "    rt_pol_score_2017_to_2019.append(pol_score)\n",
    "\n",
    "sum(rt_pol_score_2017_to_2019) / len(rt_pol_score_2017_to_2019)"
   ]
  },
  {
   "cell_type": "markdown",
   "metadata": {},
   "source": [
    "The reviews have an average compound score of 0.9181, which is close to 1. Therefore, in general, reviewers who wrote a review for the drama felt positive towards it.\n",
    "\n",
    "We can also check the average overall score on the website (i.e., the average rating given by the reviewers) for reviews from 2017 to 2019 to see if it suggests a similar attitude."
   ]
  },
  {
   "cell_type": "code",
   "execution_count": 105,
   "metadata": {},
   "outputs": [
    {
     "data": {
      "text/plain": [
       "9.035"
      ]
     },
     "execution_count": 105,
     "metadata": {},
     "output_type": "execute_result"
    }
   ],
   "source": [
    "r_overallscore_2017_to_2019 = []\n",
    "\n",
    "for r in reviews_2017_to_2019:\n",
    "    overallscore = float(r['Overall Score'])\n",
    "    r_overallscore_2017_to_2019.append(overallscore)\n",
    "\n",
    "sum(r_overallscore_2017_to_2019) / len(r_overallscore_2017_to_2019)"
   ]
  },
  {
   "cell_type": "markdown",
   "metadata": {},
   "source": [
    "The drama has an average overall score of 9.035 out of the highest 10 on the website, which suggests that it is a good drama and the majority of the audience (or at least reviewers) like it. This is parallel with the result we get from the sentiment analysis on all the reviews."
   ]
  },
  {
   "cell_type": "code",
   "execution_count": null,
   "metadata": {},
   "outputs": [],
   "source": []
  },
  {
   "cell_type": "code",
   "execution_count": null,
   "metadata": {},
   "outputs": [],
   "source": []
  },
  {
   "cell_type": "code",
   "execution_count": null,
   "metadata": {},
   "outputs": [],
   "source": []
  },
  {
   "cell_type": "code",
   "execution_count": null,
   "metadata": {},
   "outputs": [],
   "source": []
  }
 ],
 "metadata": {
  "kernelspec": {
   "display_name": "Python 3",
   "language": "python",
   "name": "python3"
  },
  "language_info": {
   "codemirror_mode": {
    "name": "ipython",
    "version": 3
   },
   "file_extension": ".py",
   "mimetype": "text/x-python",
   "name": "python",
   "nbconvert_exporter": "python",
   "pygments_lexer": "ipython3",
   "version": "3.7.3"
  }
 },
 "nbformat": 4,
 "nbformat_minor": 2
}
