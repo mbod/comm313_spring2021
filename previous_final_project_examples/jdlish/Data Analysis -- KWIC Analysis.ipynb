{
 "cells": [
  {
   "cell_type": "markdown",
   "metadata": {},
   "source": [
    "# Data Analysis -- Measuring Coronavirus Response Consistency -- KWIC Analysis\n",
    "\n",
    "## This notebook creates KWICs centered around the word 'coronavirus' with 10 words before and after it. I explain the purpose of these KWICS, which I called 'context chunks' in my blog post, below."
   ]
  },
  {
   "cell_type": "code",
   "execution_count": 1,
   "metadata": {},
   "outputs": [
    {
     "name": "stderr",
     "output_type": "stream",
     "text": [
      "[nltk_data] Downloading package vader_lexicon to\n",
      "[nltk_data]     /Commjhub/jupyterhub/comm318_fall2019/jdlish/nltk_data\n",
      "[nltk_data]     ...\n",
      "[nltk_data]   Package vader_lexicon is already up-to-date!\n"
     ]
    }
   ],
   "source": [
    "%run data_processing.ipynb"
   ]
  },
  {
   "cell_type": "markdown",
   "metadata": {},
   "source": [
    "### KWICs of Fox vs. CNN usage of the word 'coronavirus'"
   ]
  },
  {
   "cell_type": "markdown",
   "metadata": {},
   "source": [
    "### Key word in context (KWIC) analysis might give a sense of the consistency of the messaging surrounding the word 'coronavirus' between Fox's and CNN's news broadcasts. I analyzed a random sample of 10 KWICs for each news outlet in both February and April, where each KWIC centers around the word coronavirus, and contains the 10 words before and 10 words after the word 'coronavirus.' By analyzing February and April as well as February vs. April KWICs for each news outlet, I will be able to assess how consistent each news outlet's coronanvirus response/messaging varies within the same month as well as over time. I hypothesized that Fox's messaging/response would be inconsistent in both February and April and over time, in line with their more inconsistent sentiment revealed through sentiment analysis and VAD analysis above. I also hypothesized that CNN's messaging/response would be more consistent in both February and April and over time, which would be consistent with what CNN's sentiment appears to have revealed from sentiment and VAD analysis above. If my hypotheses are correct, then it would provide additional evidence to support the conclusion that Fox and CNN differ in the consistency of their coronavrus responses, with evidence from both messaging and sentiment. "
   ]
  },
  {
   "cell_type": "code",
   "execution_count": 3,
   "metadata": {},
   "outputs": [],
   "source": [
    "#Fox Data Split By Date\n",
    "feb_fox=data_fox[(data_fox['full_date']>='2020-02-01') & (data_fox['full_date']<='2020-02-29')]\n",
    "march_fox=data_fox[(data_fox['full_date']>='2020-03-01') & (data_fox['full_date']<='2020-03-31')]\n",
    "april_fox=data_fox[(data_fox['full_date']>='2020-04-01') & (data_fox['full_date']<='2020-04-30')]\n",
    "#CNN Data Split By Date\n",
    "feb_cnn=data_cnn[(data_cnn['full_date']>='2020-02-01') & (data_cnn['full_date']<='2020-02-29')]\n",
    "march_cnn=data_cnn[(data_cnn['full_date']>='2020-03-01') & (data_cnn['full_date']<='2020-03-31')]\n",
    "april_cnn=data_cnn[(data_cnn['full_date']>='2020-04-01') & (data_cnn['full_date']<='2020-04-30')]"
   ]
  },
  {
   "cell_type": "code",
   "execution_count": 4,
   "metadata": {},
   "outputs": [],
   "source": [
    "full_toks_fox_feb=[]\n",
    "for i in feb_fox.index:\n",
    "    toks=tokenize(feb_fox['targeted text'][i],True,strip_chars=strip_chars)\n",
    "    for t in toks:\n",
    "        full_toks_fox_feb.append(t)\n",
    "        \n",
    "full_toks_fox_march=[]\n",
    "for i in march_fox.index:\n",
    "    toks=tokenize(march_fox['targeted text'][i],True,strip_chars=strip_chars)\n",
    "    for t in toks:\n",
    "        full_toks_fox_march.append(t)\n",
    "\n",
    "full_toks_fox_april=[]\n",
    "for i in april_fox.index:\n",
    "    toks=tokenize(april_fox['targeted text'][i],True,strip_chars=strip_chars)\n",
    "    for t in toks:\n",
    "        full_toks_fox_april.append(t)\n",
    "        \n",
    "full_toks_cnn_feb=[]\n",
    "for i in feb_cnn.index:\n",
    "    toks=tokenize(feb_cnn['targeted text'][i],True,strip_chars=strip_chars)\n",
    "    for t in toks:\n",
    "        full_toks_cnn_feb.append(t)\n",
    "        \n",
    "full_toks_cnn_march=[]\n",
    "for i in march_cnn.index:\n",
    "    toks=tokenize(march_cnn['targeted text'][i],True,strip_chars=strip_chars)\n",
    "    for t in toks:\n",
    "        full_toks_cnn_march.append(t)\n",
    "\n",
    "full_toks_cnn_april=[]\n",
    "for i in april_cnn.index:\n",
    "    toks=tokenize(april_cnn['targeted text'][i],True,strip_chars=strip_chars)\n",
    "    for t in toks:\n",
    "        full_toks_cnn_april.append(t)"
   ]
  },
  {
   "cell_type": "code",
   "execution_count": 5,
   "metadata": {},
   "outputs": [],
   "source": [
    "#Fox Coronavirus KWIC\n",
    "kwic_fox_coronavirus_feb=make_kwic('coronavirus',full_toks_fox_feb,10)\n",
    "kwic_fox_coronavirus_march=make_kwic('coronavirus',full_toks_fox_march,10)\n",
    "kwic_fox_coronavirus_april=make_kwic('coronavirus',full_toks_fox_april,10)\n",
    "#CNN Coronavirus KWIC\n",
    "kwic_cnn_coronavirus_feb=make_kwic('coronavirus',full_toks_cnn_feb,10)\n",
    "kwic_cnn_coronavirus_march=make_kwic('coronavirus',full_toks_cnn_march,10)\n",
    "kwic_cnn_coronavirus_april=make_kwic('coronavirus',full_toks_cnn_april,10)"
   ]
  },
  {
   "cell_type": "code",
   "execution_count": 6,
   "metadata": {},
   "outputs": [],
   "source": [
    "import random\n",
    "random.seed(30)\n",
    "kwic_fox_coronavirus_sample_feb=random.sample(kwic_fox_coronavirus_feb,10)\n",
    "kwic_fox_coronavirus_sample_march=random.sample(kwic_fox_coronavirus_march,10)\n",
    "kwic_fox_coronavirus_sample_april=random.sample(kwic_fox_coronavirus_april,10)\n",
    "\n",
    "kwic_cnn_coronavirus_sample_feb=random.sample(kwic_cnn_coronavirus_feb,10)\n",
    "kwic_cnn_coronavirus_sample_march=random.sample(kwic_cnn_coronavirus_march,10)\n",
    "kwic_cnn_coronavirus_sample_april=random.sample(kwic_cnn_coronavirus_april,10)"
   ]
  },
  {
   "cell_type": "markdown",
   "metadata": {},
   "source": [
    "### Fox February KWICs -- Random Sample of 10"
   ]
  },
  {
   "cell_type": "code",
   "execution_count": 7,
   "metadata": {},
   "outputs": [
    {
     "name": "stdout",
     "output_type": "stream",
     "text": [
      "Fox KWIC Coronavirus February Broadcasts\n",
      "\n",
      "                                                 theget the nomination but we turn now to the deadly  coronavirus  in addition to the 12 cases here in the usthat's\n",
      "                                                      lawn john thanks we will have a live update on  coronavirus  when we come back maccallum as we go to breaktonight\n",
      "                                   concerned?but he's lived in hubei province china the epicenter of  coronavirus  now for 15 years in fact his father inlaw recently15\n",
      "                                           hebig number in fact it's 54 billion people currently the  coronavirus  appears to kill about two percent of the people whothat\n",
      "                                         fromnext maccallum more than 1800 people have died from the  coronavirus  with more than 72000 confirmed cases now worldwide and it'smartha\n",
      "                                 thathealth organization at the beginnings of a global epidemic when  coronavirus  first broke out in china china refused to admit internationalworld\n",
      "                                      onmany fascinating facts we're learning because of the rise of  coronavirus  today almost all of our antibiotics come from china againfrom\n",
      "                                                       to be a coronavirus czar that the head of the  coronavirus  task force theto be a coronavirus czar that the head\n",
      "                                            allflu in florida they haven't had a single diagnosis of  coronavirus  so it's important for americans to keep things in perspectivefolks\n",
      "                                            daysgood evening bret it would appear that the number of  coronavirus  patients in this country just about doubled overnight after twocowan\n"
     ]
    }
   ],
   "source": [
    "print(\"Fox KWIC Coronavirus February Broadcasts\"+\"\\n\")\n",
    "print_kwic(kwic_fox_coronavirus_sample_feb)"
   ]
  },
  {
   "cell_type": "markdown",
   "metadata": {},
   "source": [
    "### In February, Fox's messaging surrounding the coronnavirus appears to have been all over the place. At times they characterized coronavirus as \"deadly,\" and covered the number of cases, deaths, and fatality rates closely. However, at other times they downplayed the coronavirus by comparing it to the flu and telling Americans to keep that in mind. For example, in one of the randomly sampled February KWICs above, Fox said \"flu in florida they haven't had a single diagnosis of  coronavirus so it's important for americans to keep things in perspective folks.\" Fox's messaging surrounding the coronnavirus is inconsistent within the month of February, as they both tell viewers that coronavirus is deadly and \"appears to kill about two percent of the people,\" while also downplaying the virus by comparing it to the flu and telling viewers to keep that in mind."
   ]
  },
  {
   "cell_type": "markdown",
   "metadata": {},
   "source": [
    "### Fox April KWICs -- Random Sample of 10"
   ]
  },
  {
   "cell_type": "code",
   "execution_count": 8,
   "metadata": {},
   "outputs": [
    {
     "name": "stdout",
     "output_type": "stream",
     "text": [
      "Fox KWIC Coronavirus April Broadcasts\n",
      "\n",
      "                                     thiswith it mccolgan thank you tucker good evening carlson well  coronavirus  of course started in china and it has spread acrosstrue\n",
      "                                     outbreaksworkers and to support those that are dealing with the  coronavirus  in those communities on the subject of testing now moreare\n",
      "                                               arefact that people's bills were due today and as the  coronavirus  task force gets set up there dagen maybe a worddonald\n",
      "                                                  care in a london hospital he has been battling the  coronavirus  for the better part of two weeks was admitted toimportant\n",
      "                                                toway of bringing out the best in americans and this  coronavirus  pandemic is no different tonight chief congressional correspondent mike emanuelof\n",
      "                                              knowthink of that? hernandez well i would say that the  coronavirus  pandemic is a medical issue not a political one andof\n",
      "                             pummelingeconomy's taking and bernie sanders is accusing trump of using  coronavirus  relief money to buy off voters (begin video clip) unidentifiedhow\n",
      "                                               wenow in a london hospital he's being treated for the  coronavirus  which he was diagnosed with little more than about 12intensive\n",
      "                                                newflu our modeling says if we did nothing about the  coronavirus  we could have had as many as three million orand\n",
      "                                                      thegrip the flu is you know way worse than the  coronavirus  according to the boston globe well the president has blooda\n"
     ]
    }
   ],
   "source": [
    "print(\"Fox KWIC Coronavirus April Broadcasts\"+\"\\n\")\n",
    "print_kwic(kwic_fox_coronavirus_sample_april)"
   ]
  },
  {
   "cell_type": "markdown",
   "metadata": {},
   "source": [
    "### In April, Fox's messaging surrounding the coroanvirus also appears to be inconsistent. They appear to have maintained the same messaging tactic and are all over the place. At times they appear to be taking the virus seriously, mentioning that \"if we did nothing about the coronavirus we could have had as many as three million\" deaths. However, at other times they continue to compare coronavirus to the flu and downplaying the pandemic and the coronavirus. For example, in one of the KWICs above, Fox mentions that \"the flu is you know way worse than the coronanvirs.\" Within the month of April, Fox's messaging remains to be inconsistent. So overall, over time, Fox's messaging in response to the coronavirus has been consistently inconsistent. This is consistent with the inconsistency over time that Fox's news broadcasts display in sentiment, valence, arousal, and dominannce. Overall, this evidence suggests that Fox's response and messaging to the coronavirus has been rather inconsistent over time. "
   ]
  },
  {
   "cell_type": "markdown",
   "metadata": {},
   "source": [
    "### CNN February KWICs -- Random Sample of 10"
   ]
  },
  {
   "cell_type": "code",
   "execution_count": 9,
   "metadata": {},
   "outputs": [
    {
     "name": "stdout",
     "output_type": "stream",
     "text": [
      "CNN KWIC Coronavirus February\n",
      "\n",
      "                              lowerstill prevails particularly around the economic impact of as this  coronavirus  continues to spread throughout the world you see countries likemore\n",
      "                           campaignnext a whistleblower alleges that americans who helped with those  coronavirus  evacuation flights weren't properly trained or equipped and will theat\n",
      "                              governmentreceived multiple tests that have come back negative for the  coronavirus  so the question again was it effective? time will tellis\n",
      "                                      riskhave not had contact with somebody who tested positive for  coronavirus  people who do test positive on the ship of course140\n",
      "                                      concernsbarbie nadeau in rome we have complete coverage of the  coronavirus  outbreak online instant updates on the story you can find\n",
      "                                      willgoing to start with breaking news stocks plummeting as the  coronavirus  spreads amid serious concerns that experts worldwide might not belargest\n",
      "                         infectedthose airlifted passengers who had tested positive were not showing  coronavirus  symptoms at the time of the flight and that theylater\n",
      "                                   hopefulsyou about what the president said earlier today about the  coronavirus  but first i want to bring in a voter tothe\n",
      "                                  maycontinues right now romans global markets just cannot shake the  coronavirus  the biggest singleday drop in the history of the dowexactly\n",
      "                                economicthis outbreak diamond this as a patient testing positive for  coronavirus  in northern california is now the first us case believednot\n"
     ]
    }
   ],
   "source": [
    "print(\"CNN KWIC Coronavirus February\"+\"\\n\")\n",
    "print_kwic(kwic_cnn_coronavirus_sample_feb)"
   ]
  },
  {
   "cell_type": "markdown",
   "metadata": {},
   "source": [
    "### In February, CNN's messaging surrounding the coronavirus does not appear to have the same inconsistencies that Fox's February messaging appears to have displayed. From the random sample of KWICs displayed above, CNN appears to have focused its messaging around the spread of the coronavirus, the results of coronavirus testing, and the economic impact of the coronavirus' spread across the globe. They appear to only be taking the virus seriously, and use words including \"risk,\" and phrases including \"serious concerns.\" They do not downplay the coronavirus at the same time. CNN's messaging appears to be consistent within the month of February."
   ]
  },
  {
   "cell_type": "markdown",
   "metadata": {},
   "source": [
    "### CNN April KWICs -- Random Sample of 10\n"
   ]
  },
  {
   "cell_type": "code",
   "execution_count": 10,
   "metadata": {},
   "outputs": [
    {
     "name": "stdout",
     "output_type": "stream",
     "text": [
      "CNN KWIC Coronavirus April\n",
      "\n",
      "                                                ayes the president did take some early action in the  coronavirus  fight but his words and deeds also show he constantlyend\n",
      "                                            testingsouth korea but claims it has zero cases of novel  coronavirus  [103506] and he said that it is impossible given thethe\n",
      "                               to expandworld leaders who may tilt towards authoritarianism well the  coronavirus  pandemic is creating a new opportunity for them to expand\n",
      "                                     notsix feet distancing washing your hands (end video clip) azuz  coronavirus  is expected to cause more deaths this year in americain\n",
      "                                         aboutbut in late february the president said this about the  coronavirus  cases trump when you have 15 people and the 15off\n",
      "                                      todaymarks a very grim record of the coronavirus pandemic 1224  coronavirus  deaths were reported in the united states today making itbeen\n",
      "                                         doublingyou jake tapper coming up one world leader uses the  coronavirus  pandemic as cover to give himself more power the stunningjake\n",
      "                                      resonantthan other viruses that we've seen before it's a novel  coronavirus  but you know i think the trend is starting tocome\n",
      "                                                       ofwe'll go live to rome also so where did the  coronavirus  come from? well that's a question that's stumped scientists aroundchina\n",
      "                                    briefings?the way the president is using this and hijacking this  coronavirus  task force briefing every day collins yeah i'm sure therejohnson\n"
     ]
    }
   ],
   "source": [
    "print(\"CNN KWIC Coronavirus April\"+\"\\n\")\n",
    "print_kwic(kwic_cnn_coronavirus_sample_april)"
   ]
  },
  {
   "cell_type": "markdown",
   "metadata": {},
   "source": [
    "### In April, CNN's messaging surrounding the coronavirus also does not appear to have the same inconsistencies that Fox's April messaging surrounding the coronnavirus appears to have displayed. From the random sample of KWICs shown above, within the month of April, CNN appears to have focussed its messaging on critisizing the president's response to the coronavirus, talking about the impact of the coronavirus on the globe's geopolitical landscape and other countries, talking about the coronavirus' continued spread, and talking about the deaths coronavirus has caused. Just like in February, in April CNN appears to have only taken the virus seriously, using phrases including \"very grim.\" CNN does not downplay the coronavirus at the same time. CNN's messaging appears to be consistent within the month of April. So overall, over time, CNN's messaging in response to the coronavirus has been consistent; they are both consistent within given months as well as over time between months. This is consistent with the higher consistency over time that CNN's news broadcasts display in sentiment, valence, arousal, and dominance as previously shown. \n",
    "\n",
    "### Overall, this evidence suggests that CNN's response and messaging to the coronavirus has been rather consistent over time. This contrasts with Fox's response and messaging surrounding the coronavirus which has been inconsistent over time. This conclusions comes from the evidence and findings revealed by sentiment analysis and KWIC analysis."
   ]
  },
  {
   "cell_type": "code",
   "execution_count": null,
   "metadata": {},
   "outputs": [],
   "source": []
  }
 ],
 "metadata": {
  "kernelspec": {
   "display_name": "Python 3",
   "language": "python",
   "name": "python3"
  },
  "language_info": {
   "codemirror_mode": {
    "name": "ipython",
    "version": 3
   },
   "file_extension": ".py",
   "mimetype": "text/x-python",
   "name": "python",
   "nbconvert_exporter": "python",
   "pygments_lexer": "ipython3",
   "version": "3.7.3"
  }
 },
 "nbformat": 4,
 "nbformat_minor": 2
}
