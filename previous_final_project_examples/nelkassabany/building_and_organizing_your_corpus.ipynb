{
 "cells": [
  {
   "cell_type": "markdown",
   "metadata": {},
   "source": [
    "# This notebook contains song information obtained via web scraping, retrieves lyrics through genius API, and manual correction. the two resulting lists of dictionaries are stored as json files and utilized in subsequent notebooks."
   ]
  },
  {
   "cell_type": "markdown",
   "metadata": {
    "deletable": false,
    "editable": false,
    "nbgrader": {
     "cell_type": "markdown",
     "checksum": "d18b9887949edade9b83bc20262ecfe0",
     "grade": false,
     "grade_id": "cell-579b7a5c3dd65dcf",
     "locked": true,
     "schema_version": 3,
     "solution": false,
     "task": false
    }
   },
   "source": [
    "# Collecting and organizing your corpus\n",
    "\n",
    "## COMM313 Spring 2020\n",
    "\n",
    "\n",
    "### DUE FRIDAY APRIL 17 at 11.59PM (EST)\n",
    "\n"
   ]
  },
  {
   "cell_type": "markdown",
   "metadata": {
    "deletable": false,
    "editable": false,
    "nbgrader": {
     "cell_type": "markdown",
     "checksum": "17e367989aece1ad54963e78ddfed32c",
     "grade": false,
     "grade_id": "cell-ab457ca6ecbe6c98",
     "locked": true,
     "schema_version": 3,
     "solution": false,
     "task": false
    }
   },
   "source": [
    "<div style=\"font-size:14pt; line-height: 1.5; \">\n",
    " <p style=\"font-size:16pt\">The goal this assignment if for you to collect a pilot sample of the data for your final project and carry out some initial analyses on these data.</p>\n",
    " \n",
    " <ul>\n",
    "     <li>There are a series of questions that make sure you have\n",
    "         <ol>\n",
    "        <li>collected some data</li>\n",
    "        <li>started to clean and organize these data</li>\n",
    "    <li>have begun to do some initial analyses on your pilot data</li>\n",
    "         </ol>\n",
    "    </li>\n",
    "\n",
    " </ul>\n",
    " \n",
    " \n",
    "</div>\n"
   ]
  },
  {
   "cell_type": "markdown",
   "metadata": {
    "deletable": false,
    "editable": false,
    "nbgrader": {
     "cell_type": "markdown",
     "checksum": "57d871d84949e58ff77960a2902c20b6",
     "grade": false,
     "grade_id": "cell-6a4bfb821e7404ed",
     "locked": true,
     "schema_version": 3,
     "solution": false,
     "task": false
    }
   },
   "source": [
    "## Setup\n",
    "\n",
    "* Add any additional modules you need here"
   ]
  },
  {
   "cell_type": "code",
   "execution_count": 1,
   "metadata": {},
   "outputs": [
    {
     "name": "stderr",
     "output_type": "stream",
     "text": [
      "[nltk_data] Downloading package stopwords to /Commjhub/jupyterhub/comm\n",
      "[nltk_data]     318_fall2019/nelkassabany/nltk_data...\n",
      "[nltk_data]   Package stopwords is already up-to-date!\n"
     ]
    }
   ],
   "source": [
    "import pandas as pd\n",
    "from collections import Counter\n",
    "import os\n",
    "import json\n",
    "import requests\n",
    "from bs4 import BeautifulSoup\n",
    "import lyricsgenius\n",
    "import re\n",
    "\n",
    "import nltk\n",
    "from nltk import Text\n",
    "nltk.download('stopwords')\n",
    "\n",
    "from nltk.corpus import stopwords\n",
    "stop_words = set(stopwords.words('english'))"
   ]
  },
  {
   "cell_type": "markdown",
   "metadata": {},
   "source": [
    "### Functions\n",
    "\n",
    "* Add any functions from previous noteboooks you might need here\n",
    "\n",
    "\n",
    "* REMEMBER you can include the functions in another notebook (e.g. the `functions.ipynb` in this folder) using:\n",
    "    ```\n",
    "    %run functions.ipynb\n",
    "    ```\n",
    "    \n",
    "  You can add your own notebook with the functions you need as well or just add them in a series of code cells in this notebook."
   ]
  },
  {
   "cell_type": "code",
   "execution_count": 2,
   "metadata": {},
   "outputs": [],
   "source": [
    "def tokenize(text, lowercase=False, strip_chars=''):\n",
    "    '''create a list of tokens from a string by splitting on whitespace and applying optional normalization \n",
    "    \n",
    "    Args:\n",
    "        text        -- a string object containing the text to be tokenized\n",
    "        lowercase   -- should text string be normalized as lowercase (default: False)\n",
    "        strip_chars -- a string indicating characters to strip out of text, e.g. punctuation (default: empty string) \n",
    "        \n",
    "    Return:\n",
    "        A list of tokens\n",
    "    '''\n",
    "    \n",
    "    # create a replacement dictionary from the\n",
    "    # string of characters in the **strip_chars**\n",
    "    rdict = str.maketrans('','',strip_chars)\n",
    "    \n",
    "    if lowercase:\n",
    "        text = text.lower()\n",
    "    \n",
    "    tokens = text.translate(rdict).split()\n",
    "    \n",
    "    return tokens"
   ]
  },
  {
   "cell_type": "code",
   "execution_count": 3,
   "metadata": {},
   "outputs": [],
   "source": [
    "def get_ngram_tokens(tokens, n=1):\n",
    "    '''create a list of n-gram tokens from a list of tokens\n",
    "    \n",
    "    Args:\n",
    "        tokens -- a list of tokens\n",
    "        n      -- the size of the window to use to build n-gram token list\n",
    "        \n",
    "    Returns:\n",
    "        \n",
    "        list of n-gram strings (whitespace separated) of length n\n",
    "    '''\n",
    "    \n",
    "    if n<2 or n>len(tokens):\n",
    "        return tokens\n",
    "    \n",
    "    new_tokens = []\n",
    "    \n",
    "    for i in range(len(tokens)-n+1):\n",
    "        new_tokens.append(\" \".join(tokens[i:i+n]))\n",
    "        \n",
    "    return new_tokens"
   ]
  },
  {
   "cell_type": "code",
   "execution_count": 4,
   "metadata": {},
   "outputs": [],
   "source": [
    "#technically this works, but bc it relies on what's in the dictionary\n",
    "## it doesn't accommodate discrepancies between \n",
    "def search_individual_song(songtitle, dictionary):\n",
    "    iso_dict = next((song for song in dictionary if song['song_title'] == songtitle), None)\n",
    "    song = genius.search_song(iso_dict['song_title'], iso_dict['performing_artist'])\n",
    "    iso_dict['lyrics'] = song.lyrics\n",
    "    \n",
    "    return iso_dict"
   ]
  },
  {
   "cell_type": "markdown",
   "metadata": {},
   "source": [
    "## 1. Describe how you have started to collect the corpus/corpora needed for your project\n",
    "\n",
    "* Be specific about:\n",
    "    * the keyword search, date range and sources if you are collecting a news-based corpus\n",
    "    * the keywords, hashtags, mentiond etc, date ranges for a Twitter search\n",
    "    * the websites and methods used if you are building your corpus from a web source (e.g. used billboard100 to get list of titles"
   ]
  },
  {
   "cell_type": "markdown",
   "metadata": {
    "deletable": false,
    "nbgrader": {
     "cell_type": "markdown",
     "checksum": "dd118d33691fc7cd4f673e0f16cf0055",
     "grade": true,
     "grade_id": "cell-a7d2f48d79517a31",
     "locked": false,
     "points": 3,
     "schema_version": 3,
     "solution": true
    }
   },
   "source": [
    "using the table at this URL (https://en.wikipedia.org/wiki/Grammy_Award_for_Song_of_the_Year) I scraped the award year, title of winning song, and its performing artist into a list of dictionaries. then using the genius API, i obtained the lyrics for these songs. for the full corpus, i plan on creating another list of dictionaries of \"losers\" scraped from the nominees column in the table and genius api again to obtain the lyrics. \n",
    "update - starting to think i might need more data, perhaps do similar scrape of RECORD of the year winners/nominees. find info about sales/billboard placements of these songs to understand qualities of winning songs (how much does composition/engineering/commercial success contribute to the win, not just songwriting)"
   ]
  },
  {
   "cell_type": "markdown",
   "metadata": {
    "deletable": false,
    "editable": false,
    "nbgrader": {
     "cell_type": "markdown",
     "checksum": "052294e6c9dd710304a4bc9d49970e0d",
     "grade": false,
     "grade_id": "cell-ac7d4bd68a114832",
     "locked": true,
     "schema_version": 3,
     "solution": false
    }
   },
   "source": [
    "## 2. Pilot data\n",
    "\n",
    "\n",
    "* If you haven't uploaded your data yet place your pilot data into the `data` folder\n",
    "\n",
    "\n",
    "* Show a listing of the pilot data files (use `os.listdir()`)"
   ]
  },
  {
   "cell_type": "markdown",
   "metadata": {},
   "source": [
    "# scraping for song titles, artists, award year\n",
    "\n",
    "### winners"
   ]
  },
  {
   "cell_type": "code",
   "execution_count": 5,
   "metadata": {
    "deletable": false,
    "nbgrader": {
     "cell_type": "code",
     "checksum": "3495888736d368fe75ed35e53ff6fa93",
     "grade": true,
     "grade_id": "cell-2c16c087a4ebca2a",
     "locked": false,
     "points": 1,
     "schema_version": 3,
     "solution": true
    }
   },
   "outputs": [
    {
     "data": {
      "text/plain": [
       "bs4.element.ResultSet"
      ]
     },
     "execution_count": 5,
     "metadata": {},
     "output_type": "execute_result"
    }
   ],
   "source": [
    "# YOUR CODE HERE\n",
    "# 1. use the requests.get function to get retrieve your chart webpage\n",
    "\n",
    "url = 'https://en.wikipedia.org/wiki/Grammy_Award_for_Song_of_the_Year'\n",
    "\n",
    "page = requests.get(url)\n",
    "\n",
    "# 2. get the html of the response and call it html\n",
    "#\n",
    "html = page.text\n",
    "len(html)\n",
    "\n",
    "# 3. create a document object using BeautifulSoup from html and call it doc\n",
    "#    the code will look like:\n",
    "#                             doc = BeautifulSoup(html, 'lxml')\n",
    "doc = BeautifulSoup(html, 'lxml')\n",
    "\n",
    "# 4. use the find() and find_all() search functions on this object to:\n",
    "#    a. find the <table> element for the chart\n",
    "#    b. from this element find all the <tr> elements nested in the <tbody>\n",
    "#       and call your result rows\n",
    "\n",
    "\n",
    "#have to use find_next_sibling bc the first table on the page is the summary info table at the top\n",
    "rows = doc.find('table').find_next_sibling('table').find('tbody').find_all('tr')\n",
    "\n",
    "type(rows)\n",
    "#print(rows[20])\n",
    "#print(rows[21])"
   ]
  },
  {
   "cell_type": "code",
   "execution_count": 6,
   "metadata": {
    "deletable": false,
    "nbgrader": {
     "cell_type": "code",
     "checksum": "9de08d48ba388224d8ffc9068661a6e8",
     "grade": true,
     "grade_id": "cell-f9caa92998d967ae",
     "locked": false,
     "points": 1,
     "schema_version": 3,
     "solution": true
    }
   },
   "outputs": [],
   "source": [
    "# YOUR CODE HERE\n",
    "winners_chart=[]\n",
    "\n",
    "\n",
    "# 1. loop over the relevant items in rows (Note the first item is a header row!)\n",
    "\n",
    "# 2. for each row extract the \n",
    "#      * year\n",
    "#      * song\n",
    "#      * PERFORMING artist\n",
    "#    from the <td> (or <th>) elements\n",
    "\n",
    "# 3. create a dictionary with keys 'year', 'song' & 'performing artist'\n",
    "\n",
    "# 4. add this dictionary to the list called winners_chart\n",
    "\n",
    "for row in rows[1:]:\n",
    "    #extraction\n",
    "    \n",
    "    try:\n",
    "        year = row.find('th').text.strip('\\n')\n",
    "        \n",
    "    except:AttributeError\n",
    "    pass\n",
    "    \n",
    "    #song title and artist are found in td element\n",
    "    try:\n",
    "        winner = row.find('td').text.replace('\\n', \" \")\n",
    "        song_title = row.find('td').find_next_sibling('td').find_next_sibling('td').text.strip('\"\" \\n * \"')\n",
    "    \n",
    "        performing_artist = row.find('td').find_next_sibling('td').find_next_sibling('td').find_next_sibling('td').text.strip('\\n')\n",
    "        \n",
    "    except: AttributeError\n",
    "    pass\n",
    "  \n",
    "    \n",
    "    #dictionary\n",
    "    dict = {\n",
    "        'winner': winner,\n",
    "        'year' : year,\n",
    "        'song_title': song_title,\n",
    "        'performing_artist': performing_artist\n",
    "    }\n",
    "    \n",
    "    #add dict to chart list\n",
    "    winners_chart.append(dict)\n"
   ]
  },
  {
   "cell_type": "code",
   "execution_count": 7,
   "metadata": {},
   "outputs": [],
   "source": [
    "#winners_chart"
   ]
  },
  {
   "cell_type": "code",
   "execution_count": 8,
   "metadata": {},
   "outputs": [],
   "source": [
    "#print(winners_chart)\n",
    "# the year 1978 has 2 winners so this entry won't work with genius API. \n",
    "# i will separate them into 2 separate dictionaries, one for each song. this will give me 63 total entries in winner list\n",
    "\n",
    "# 1961 winner was the Theme of Exodus, an instrumental track. the genius search returned the \n",
    "# ENTIRE TEXT of Thomas Aquinas Summa Contra Gentiles??? deleting that...\n"
   ]
  },
  {
   "cell_type": "code",
   "execution_count": 9,
   "metadata": {},
   "outputs": [
    {
     "data": {
      "text/plain": [
       "{'performing_artist': 'Barbra Streisand',\n",
       " 'song_title': 'Evergreen (Love Theme from A Star Is Born)',\n",
       " 'winner': 'Barbra StreisandPaul Williams ',\n",
       " 'year': '1978'}"
      ]
     },
     "execution_count": 9,
     "metadata": {},
     "output_type": "execute_result"
    }
   ],
   "source": [
    "winners_chart[19]"
   ]
  },
  {
   "cell_type": "code",
   "execution_count": 10,
   "metadata": {},
   "outputs": [
    {
     "data": {
      "text/plain": [
       "{'performing_artist': 'Barbra Streisand',\n",
       " 'song_title': 'Debby Boone',\n",
       " 'winner': 'Joe Brooks ',\n",
       " 'year': '1978'}"
      ]
     },
     "execution_count": 10,
     "metadata": {},
     "output_type": "execute_result"
    }
   ],
   "source": [
    "winners_chart[20]"
   ]
  },
  {
   "cell_type": "code",
   "execution_count": 11,
   "metadata": {},
   "outputs": [
    {
     "name": "stdout",
     "output_type": "stream",
     "text": [
      "[{'winner': 'Barbra StreisandPaul Williams ', 'year': '1978', 'song_title': 'Evergreen (Love Theme from A Star Is Born)', 'performing_artist': 'Barbra Streisand'}, {'winner': 'Joe Brooks', 'year': '1978', 'song_title': 'You Light Up My Life', 'performing_artist': 'Debby Boone'}]\n"
     ]
    }
   ],
   "source": [
    "winners_chart[20]['winner'] = \"Joe Brooks\"\n",
    "winners_chart[20]['performing_artist'] = 'Debby Boone'\n",
    "winners_chart[20]['song_title'] = 'You Light Up My Life'\n",
    "\n",
    "len(winners_chart)\n",
    "print(winners_chart[19:21])"
   ]
  },
  {
   "cell_type": "markdown",
   "metadata": {},
   "source": [
    "### nominees"
   ]
  },
  {
   "cell_type": "markdown",
   "metadata": {},
   "source": [
    "<div class=\"alert alert-info\">\n",
    "    <p>The string for the nominees follows the pattern:\n",
    "    <pre>\n",
    "    (Nominee[s]) for \"(Title)\" performed by (Artists)\n",
    "    </pre>\n",
    "    We can use a string matching pattern with a regular expression\n",
    "    </p>\n",
    "</div>"
   ]
  },
  {
   "cell_type": "code",
   "execution_count": 12,
   "metadata": {},
   "outputs": [],
   "source": [
    "example_nom_str = 'Alan Jay Lerner & Frederick Loewe for \"Theme to Gigi\" performed by Various Artists'"
   ]
  },
  {
   "cell_type": "code",
   "execution_count": 13,
   "metadata": {},
   "outputs": [
    {
     "data": {
      "text/plain": [
       "('Alan Jay Lerner & Frederick Loewe', 'Theme to Gigi', 'Various Artists')"
      ]
     },
     "execution_count": 13,
     "metadata": {},
     "output_type": "execute_result"
    }
   ],
   "source": [
    "re.match('(.*) for [\\'\"](.*)[\\'\"] performed by (.*)', example_nom_str).groups()"
   ]
  },
  {
   "cell_type": "markdown",
   "metadata": {},
   "source": [
    "* This returns a tuple where we can extract the components into the dictionary"
   ]
  },
  {
   "cell_type": "code",
   "execution_count": 14,
   "metadata": {},
   "outputs": [],
   "source": [
    "nom_str_re = re.compile(r'(.*) for [\\'\"](.*)[\\'\"] (?:versions )?performed by (.*)')\n",
    "\n",
    "\n",
    "noms = []\n",
    "\n",
    "# 1. loop over the relevant items in rows (Note the first item is a header row!)\n",
    "\n",
    "# 2. for each row extract the \n",
    "#      * year\n",
    "#      * song\n",
    "#      * PERFORMING artist\n",
    "#    from the <td> (or <th>) elements\n",
    "\n",
    "# 3. create a dictionary with keys 'year', 'song' & 'performing artist'\n",
    "\n",
    "# 4. add this dictionary to the list called noms5\n",
    "\n",
    "for row in rows[1:]:\n",
    "    #extraction\n",
    "    try:\n",
    "        year = row.find('th').text.strip('\\n')\n",
    "    except:AttributeError\n",
    "    pass\n",
    "    \n",
    "    \n",
    "    ###PLAYING W LOOP####\n",
    "    #cell = doc.find('table').find_next_sibling('table').find('tbody').find('ul')\n",
    "\n",
    "    for sibling in row.find_all('li'):\n",
    "        nom_str = sibling.text.strip('\\n')\n",
    "        try:\n",
    "            nominees, song, artist = nom_str_re.match(nom_str).groups()\n",
    "        except:\n",
    "            nominees, song, artist = re.match('(.*) [\\'\"](.*)[\\'\"] (?:versions )?performed by (.*)', nom_str).groups()\n",
    "        dict = {\n",
    "        'year' : year,\n",
    "        'nominees': nominees,\n",
    "        'song_title': song,\n",
    "        'performing_artist': artist}    \n",
    "  \n",
    "    #add dict to chart list\n",
    "        noms.append(dict)\n"
   ]
  },
  {
   "cell_type": "code",
   "execution_count": 15,
   "metadata": {},
   "outputs": [],
   "source": [
    "#noms"
   ]
  },
  {
   "cell_type": "markdown",
   "metadata": {},
   "source": [
    "# retrieving lyrics"
   ]
  },
  {
   "cell_type": "code",
   "execution_count": null,
   "metadata": {},
   "outputs": [],
   "source": []
  },
  {
   "cell_type": "code",
   "execution_count": 16,
   "metadata": {},
   "outputs": [],
   "source": [
    "MY_CLIENT_ACCESS_TOKEN='cyS6-zlhQnNBmBXJARK-gtxTkuduVWS1M2RbZVHP3eOMsoolnOgRpg_x7K7rL3xX'\n",
    "\n",
    "genius = lyricsgenius.Genius(MY_CLIENT_ACCESS_TOKEN)"
   ]
  },
  {
   "cell_type": "code",
   "execution_count": 17,
   "metadata": {},
   "outputs": [
    {
     "name": "stdout",
     "output_type": "stream",
     "text": [
      "Searching for \"Volare\" by Domenico Modugno...\n",
      "Done.\n",
      "Searching for \"The Battle of New Orleans\" by Johnny Horton...\n",
      "Done.\n",
      "Searching for \"Theme of Exodus\" by Instrumental (Various Artists)...\n",
      "Done.\n",
      "Searching for \"Moon River\" by Henry Mancini...\n",
      "Done.\n",
      "Searching for \"What Kind of Fool Am I?\" by Sammy Davis Jr....\n",
      "Done.\n",
      "Searching for \"Days of Wine and Roses\" by Henry Mancini...\n",
      "Done.\n",
      "Searching for \"Hello, Dolly!\" by Louis Armstrong...\n",
      "Done.\n",
      "Searching for \"The Shadow of Your Smile\" by Tony Bennett...\n",
      "Done.\n",
      "Searching for \"Michelle\" by The Beatles...\n",
      "Done.\n",
      "Searching for \"Up, Up, and Away\" by The 5th Dimension...\n",
      "Done.\n",
      "Searching for \"Little Green Apples\" by O. C. Smith...\n",
      "Done.\n",
      "Searching for \"Games People Play\" by Joe South...\n",
      "Done.\n",
      "Searching for \"Bridge over Troubled Water\" by Simon & Garfunkel...\n",
      "Done.\n",
      "Searching for \"You've Got a Friend\" by James Taylor & Carole King...\n",
      "Done.\n",
      "Searching for \"The First Time Ever I Saw Your Face\" by Roberta Flack...\n",
      "Done.\n",
      "Searching for \"Killing Me Softly with His Song\" by Roberta Flack...\n",
      "Done.\n",
      "Searching for \"The Way We Were\" by Barbra Streisand...\n",
      "Done.\n",
      "Searching for \"Send in the Clowns\" by Judy Collins...\n",
      "Done.\n",
      "Searching for \"I Write the Songs\" by Barry Manilow...\n",
      "Done.\n",
      "Searching for \"Evergreen (Love Theme from A Star Is Born)\" by Barbra Streisand...\n",
      "Done.\n",
      "Searching for \"You Light Up My Life\" by Debby Boone...\n",
      "Done.\n",
      "Searching for \"Just the Way You Are\" by Billy Joel...\n",
      "Done.\n",
      "Searching for \"What a Fool Believes\" by The Doobie Brothers...\n",
      "Done.\n",
      "Searching for \"Sailing\" by Christopher Cross...\n",
      "Done.\n",
      "Searching for \"Bette Davis Eyes\" by Kim Carnes...\n",
      "Done.\n",
      "Searching for \"Always on My Mind\" by Willie Nelson...\n",
      "Done.\n",
      "Searching for \"Every Breath You Take\" by The Police...\n",
      "Done.\n",
      "Searching for \"What's Love Got to Do with It\" by Tina Turner...\n",
      "Done.\n",
      "Searching for \"We Are the World\" by USA for Africa...\n",
      "Done.\n",
      "Searching for \"That's What Friends Are For\" by Dionne Warwick & Friends (Elton John, Gladys Knight & Stevie Wonder)...\n",
      "Done.\n",
      "Searching for \"Somewhere Out There\" by Linda Ronstadt & James Ingram...\n",
      "Done.\n",
      "Searching for \"Don't Worry, Be Happy\" by Bobby McFerrin...\n",
      "Done.\n",
      "Searching for \"Wind Beneath My Wings\" by Bette Midler...\n",
      "Done.\n",
      "Searching for \"From a Distance\" by Bette Midler...\n",
      "Done.\n",
      "Searching for \"Unforgettable\" by Natalie Cole with Nat King Cole...\n",
      "Done.\n",
      "Searching for \"Tears in Heaven\" by Eric Clapton...\n",
      "Done.\n",
      "Searching for \"A Whole New World\" by Peabo Bryson & Regina Belle...\n",
      "Done.\n",
      "Searching for \"Streets of Philadelphia\" by Bruce Springsteen...\n",
      "Done.\n",
      "Searching for \"Kiss from a Rose\" by Seal...\n",
      "Done.\n",
      "Searching for \"Change the World\" by Eric Clapton...\n",
      "Done.\n",
      "Searching for \"Sunny Came Home\" by Shawn Colvin...\n",
      "Done.\n",
      "Searching for \"My Heart Will Go On\" by Celine Dion...\n",
      "Done.\n",
      "Searching for \"Smooth\" by Santana featuring Rob Thomas...\n",
      "Done.\n",
      "Searching for \"Beautiful Day\" by U2...\n",
      "Done.\n",
      "Searching for \"Fallin'\" by Alicia Keys...\n",
      "Done.\n",
      "Searching for \"Don't Know Why\" by Norah Jones...\n",
      "Done.\n",
      "Searching for \"Dance with My Father\" by Luther Vandross...\n",
      "Done.\n",
      "Searching for \"Daughters\" by John Mayer...\n",
      "Done.\n",
      "Searching for \"Sometimes You Can't Make It on Your Own\" by U2...\n",
      "Done.\n",
      "Searching for \"Not Ready to Make Nice\" by Dixie Chicks...\n",
      "Done.\n",
      "Searching for \"Rehab\" by Amy Winehouse...\n",
      "Done.\n",
      "Searching for \"Viva la Vida\" by Coldplay...\n",
      "Done.\n",
      "Searching for \"Single Ladies (Put a Ring on It)\" by Beyoncé...\n",
      "Done.\n",
      "Searching for \"Need You Now\" by Lady Antebellum...\n",
      "Done.\n",
      "Searching for \"Rolling in the Deep\" by Adele...\n",
      "Done.\n",
      "Searching for \"We Are Young\" by Fun featuring Janelle Monáe...\n",
      "Done.\n",
      "Searching for \"Royals\" by Lorde...\n",
      "Done.\n",
      "Searching for \"Stay with Me\" (Darkchild version)\" by Sam Smith...\n",
      "Done.\n",
      "Searching for \"Thinking Out Loud\" by Ed Sheeran...\n",
      "Done.\n",
      "Searching for \"Hello\" by Adele...\n",
      "Done.\n",
      "Searching for \"That's What I Like\" by Bruno Mars...\n",
      "Done.\n",
      "Searching for \"This Is America\" by Childish Gambino...\n",
      "Done.\n",
      "Searching for \"Bad Guy\" by Billie Eilish...\n",
      "Done.\n"
     ]
    }
   ],
   "source": [
    "error_processing=[]\n",
    "\n",
    "# YOUR CODE HERE\n",
    "for song_dict in winners_chart:\n",
    "    try:\n",
    "        song = genius.search_song(song_dict['song_title'], song_dict['performing_artist']) #retrieving lyrics\n",
    "        song_dict['lyrics'] = song.lyrics #adding to dictionary\n",
    "    \n",
    "    except AttributeError: \n",
    "        print('no results found')\n",
    "        error_processing.append(song_dict['song_title'])\n",
    "\n",
    "    \n",
    "if len(error_processing)>0:\n",
    "    print('There were {} items in your chart that genius.com could not find'.format(len(error_processing)))"
   ]
  },
  {
   "cell_type": "code",
   "execution_count": 18,
   "metadata": {},
   "outputs": [],
   "source": [
    "#print(winners_chart[2])\n",
    "#the 1961 winner, Theme of Exodus, is an instrumental track, but the genius search returned \n",
    "# the ENTIRE TEXT of Thomas Aquinas Summa Contra Gentiles as lyrics??? deleting those"
   ]
  },
  {
   "cell_type": "code",
   "execution_count": 19,
   "metadata": {},
   "outputs": [],
   "source": [
    "winners_chart[2]['lyrics'] = 'none'"
   ]
  },
  {
   "cell_type": "code",
   "execution_count": 20,
   "metadata": {},
   "outputs": [],
   "source": [
    "#winners_chart"
   ]
  },
  {
   "cell_type": "code",
   "execution_count": 21,
   "metadata": {},
   "outputs": [],
   "source": [
    "## manual fix for song\n",
    "apples = next((song for song in winners_chart if song['song_title'] == 'Little Green Apples'), None)\n",
    "apples['lyrics'] = open('data/little_green_apples_lyrics.txt').read()"
   ]
  },
  {
   "cell_type": "markdown",
   "metadata": {},
   "source": [
    "### retrieving lyrics for nominees : "
   ]
  },
  {
   "cell_type": "code",
   "execution_count": 22,
   "metadata": {},
   "outputs": [
    {
     "name": "stdout",
     "output_type": "stream",
     "text": [
      "Searching for \"Catch a Falling Star\" by Perry Como...\n",
      "Done.\n",
      "Searching for \"Fever\" by Peggy Lee...\n",
      "Done.\n",
      "Searching for \"Theme to Gigi\" by Various Artists...\n",
      "Done.\n",
      "Searching for \"Witchcraft\" by Frank Sinatra...\n",
      "Done.\n",
      "Searching for \"High Hopes\" by Frank Sinatra...\n",
      "Done.\n",
      "Searching for \"I Know\" by Perry Como...\n",
      "Done.\n",
      "Searching for \"Like Young\" by André Previn...\n",
      "Done.\n",
      "Searching for \"Small World\" by Johnny Mathis...\n",
      "Done.\n",
      "Searching for \"He'll Have to Go\" by Jim Reeves...\n",
      "Done.\n",
      "Searching for \"Nice 'n' Easy\" by Frank Sinatra...\n",
      "Done.\n",
      "Searching for \"The Second Time Around\" by Andy Williams...\n",
      "Done.\n",
      "Searching for \"Theme from A Summer Place\" by Percy Faith...\n",
      "Done.\n",
      "Searching for \"Big Bad John\" by Jimmy Dean...\n",
      "Done.\n",
      "Searching for \"A Little Bitty Tear\" by Burl Ives...\n",
      "Done.\n",
      "Searching for \"Lollipops and Roses\" by Jack Jones...\n",
      "Done.\n",
      "Searching for \"Make Someone Happy\" by Various Artists...\n",
      "Done.\n",
      "Searching for \"As Long as He Needs Me\" by Shirley Bassey...\n",
      "Done.\n",
      "Searching for \"I Left My Heart in San Francisco\" by Tony Bennett...\n",
      "Done.\n",
      "Searching for \"My Coloring Book\" by Sandy Stewart...\n",
      "Done.\n",
      "Searching for \"The Sweetest Sounds\" by Various Artists...\n",
      "Done.\n",
      "Searching for \"Call Me Irresponsible\" by Frank Sinatra...\n",
      "Done.\n",
      "Searching for \"The Good Life\" by Tony Bennett...\n",
      "Done.\n",
      "Searching for \"I Wanna Be Around\" by Tony Bennett...\n",
      "Done.\n",
      "Searching for \"Wives and Lovers\" by Jack Jones...\n",
      "Done.\n",
      "Searching for \"A Hard Day's Night\" by The Beatles...\n",
      "Done.\n",
      "Searching for \"Dear Heart\" by Andy Williams...\n",
      "Done.\n",
      "Searching for \"People\" by Barbra Streisand...\n",
      "Done.\n",
      "Searching for \"Who Can I Turn To?\" by Tony Bennett...\n",
      "Done.\n",
      "Searching for \"I Will Wait for You\" by Connie Francis...\n",
      "Done.\n",
      "Searching for \"The September of My Years\" by Frank Sinatra...\n",
      "Done.\n",
      "Searching for \"Yesterday\" by The Beatles...\n",
      "Done.\n",
      "Searching for \"King of the Road\" by Roger Miller...\n",
      "Done.\n",
      "Searching for \"Born Free\" by Andy Williams...\n",
      "Done.\n",
      "Searching for \"The Impossible Dream\" by Richard Kiley...\n",
      "Done.\n",
      "Searching for \"Somewhere, My Love\" by Ray Conniff...\n",
      "Done.\n",
      "Searching for \"Strangers in the Night\" by Frank Sinatra...\n",
      "Done.\n",
      "Searching for \"By the Time I Get to Phoenix\" by Glen Campbell...\n",
      "Done.\n",
      "Searching for \"My Cup Runneth Over\" by Ed Ames...\n",
      "Done.\n",
      "Searching for \"Ode to Billie Joe\" by Bobbie Gentry...\n",
      "Done.\n",
      "Searching for \"Gentle on My Mind\" by Glen Campbell...\n",
      "Done.\n",
      "Searching for \"Harper Valley PTA\" by Jeannie C. Riley...\n",
      "Done.\n",
      "Searching for \"Hey Jude\" by The Beatles...\n",
      "Done.\n",
      "Searching for \"Honey\" by Bobby Goldsboro...\n",
      "Done.\n",
      "Searching for \"Mrs. Robinson\" by Simon & Garfunkel...\n",
      "Done.\n",
      "Searching for \"A Time For Us\" by Henry Mancini...\n",
      "Done.\n",
      "Searching for \"Spinning Wheel\" by Blood, Sweat & Tears...\n",
      "Done.\n",
      "Searching for \"I'll Never Fall in Love Again\" by Dionne Warwick...\n",
      "Done.\n",
      "Searching for \"Raindrops Keep Fallin' on My Head\" by B. J. Thomas...\n",
      "No results found for: 'Raindrops Keep Fallin' on My Head B. J. Thomas'\n",
      "no results found\n",
      "Searching for \"Everything Is Beautiful\" by Ray Stevens...\n",
      "Done.\n",
      "Searching for \"Fire and Rain\" by James Taylor...\n",
      "Done.\n",
      "Searching for \"Let it Be\" by The Beatles...\n",
      "Done.\n",
      "Searching for \"We've Only Just Begun\" by The Carpenters...\n",
      "Done.\n",
      "Searching for \"Help Me Make It Through the Night\" by Kris Kristofferson...\n",
      "Done.\n",
      "Searching for \"It's Impossible\" by Perry Como...\n",
      "Done.\n",
      "Searching for \"Me and Bobby McGee\" by Janis Joplin...\n",
      "Done.\n",
      "Searching for \"(I Never Promised You a) Rose Garden\" by Lynn Anderson...\n",
      "Done.\n",
      "Searching for \"Alone Again (Naturally)\" by Gilbert O'Sullivan...\n",
      "Done.\n",
      "Searching for \"American Pie\" by Don McLean...\n",
      "Done.\n",
      "Searching for \"Song Sung Blue\" by Neil Diamond...\n",
      "Done.\n",
      "Searching for \"The Summer Knows\" by Michel Legrand...\n",
      "Done.\n",
      "Searching for \"Behind Closed Doors\" by Charlie Rich...\n",
      "Done.\n",
      "Searching for \"You Are the Sunshine of My Life\" by Stevie Wonder...\n",
      "Done.\n",
      "Searching for \"You're So Vain\" by Carly Simon...\n",
      "Done.\n",
      "Searching for \"Tie a Yellow Ribbon Round the Ole Oak Tree\" by Dawn featuring Tony Orlando...\n",
      "Done.\n",
      "Searching for \"Feel Like Makin' Love\" by Roberta Flack...\n",
      "Done.\n",
      "Searching for \"I Honestly Love You\" by Olivia Newton-John...\n",
      "Done.\n",
      "Searching for \"Midnight at the Oasis\" by Maria Muldaur...\n",
      "Done.\n",
      "Searching for \"You and Me Against the World\" by Helen Reddy...\n",
      "Done.\n",
      "Searching for \"At Seventeen\" by Janis Ian...\n",
      "Done.\n",
      "Searching for \"Feelings\" by Morris Albert...\n",
      "Done.\n",
      "Searching for \"Love Will Keep Us Together\" by Captain & Tennille...\n",
      "Done.\n",
      "Searching for \"Rhinestone Cowboy\" by Glen Campbell...\n",
      "Done.\n",
      "Searching for \"Afternoon Delight\" by Starland Vocal Band...\n",
      "Done.\n",
      "Searching for \"Breaking Up Is Hard to Do\" by Neil Sedaka...\n",
      "Done.\n",
      "Searching for \"This Masquerade\" by George Benson...\n",
      "Done.\n",
      "Searching for \"The Wreck of the Edmund Fitzgerald\" by Gordon Lightfoot...\n",
      "Done.\n",
      "Searching for \"Don't It Make My Brown Eyes Blue\" by Crystal Gayle...\n",
      "Done.\n",
      "Searching for \"Hotel California\" by the Eagles...\n",
      "Done.\n",
      "Searching for \"Nobody Does It Better\" by Carly Simon...\n",
      "Done.\n",
      "Searching for \"Southern Nights\" by Glen Campbell...\n",
      "Done.\n",
      "Searching for \"Stayin' Alive\" by Bee Gees...\n",
      "Done.\n",
      "Searching for \"Three Times a Lady\" by the Commodores...\n",
      "Done.\n",
      "Searching for \"You Don't Bring Me Flowers\" by Neil Diamond & Barbra Streisand...\n",
      "Done.\n",
      "Searching for \"You Needed Me\" by Anne Murray...\n",
      "Done.\n",
      "Searching for \"After the Love Has Gone\" by Earth, Wind & Fire...\n",
      "Done.\n",
      "Searching for \"Chuck E.'s in Love\" by Rickie Lee Jones...\n",
      "Done.\n",
      "Searching for \"Honesty\" by Billy Joel...\n",
      "Done.\n",
      "Searching for \"I Will Survive\" by Gloria Gaynor...\n",
      "Done.\n",
      "Searching for \"Minute by Minute\" by The Doobie Brothers...\n",
      "Done.\n",
      "Searching for \"Reunited\" by Peaches & Herb...\n",
      "Done.\n",
      "Searching for \"She Believes in Me\" by Kenny Rogers...\n",
      "Done.\n",
      "Searching for \"Fame\" by Irene Cara...\n",
      "Done.\n",
      "Searching for \"The Rose\" by Bette Midler...\n",
      "Done.\n",
      "Searching for \"Lady\" by Kenny Rogers...\n",
      "Done.\n",
      "Searching for \"Theme from New York, New York\" by Frank Sinatra...\n",
      "Done.\n",
      "Searching for \"Woman in Love\" by Barbra Streisand...\n",
      "Done.\n",
      "Searching for \"Arthur's Theme (Best That You Can Do)\" by Christopher Cross...\n",
      "Done.\n",
      "Searching for \"Endless Love\" by Diana Ross & Lionel Richie...\n",
      "Done.\n",
      "Searching for \"Just the Two of Us\" by Grover Washington Jr. with Bill Withers...\n",
      "Done.\n",
      "Searching for \"9 to 5\" by Dolly Parton...\n",
      "Done.\n",
      "Searching for \"Ebony and Ivory\" by Paul McCartney & Stevie Wonder...\n",
      "Done.\n",
      "Searching for \"Rosanna\" by Toto...\n",
      "Done.\n",
      "Searching for \"Eye of the Tiger\" by Survivor...\n",
      "Done.\n",
      "Searching for \"I.G.Y. (What a Beautiful World)\" by Donald Fagen...\n",
      "No results found for: 'I.G.Y. (What a Beautiful World) Donald Fagen'\n",
      "no results found\n",
      "Searching for \"All Night Long (All Night)\" by Lionel Richie...\n",
      "Done.\n",
      "Searching for \"Beat It\" by Michael Jackson...\n",
      "Done.\n",
      "Searching for \"Billie Jean\" by Michael Jackson...\n",
      "Done.\n",
      "Searching for \"Maniac\" by Michael Sembello...\n",
      "Done.\n",
      "Searching for \"Against All Odds (Take a Look at Me Now)\" by Phil Collins...\n",
      "Done.\n",
      "Searching for \"Hello\" by Lionel Richie...\n",
      "Done.\n",
      "Searching for \"I Just Called to Say I Love You\" by Stevie Wonder...\n",
      "Done.\n",
      "Searching for \"Time after Time\" by Cyndi Lauper...\n",
      "Done.\n",
      "Searching for \"Money for Nothing\" by Dire Straits...\n",
      "Done.\n",
      "Searching for \"The Boys of Summer\" by Don Henley...\n",
      "Done.\n",
      "Searching for \"Everytime You Go Away\" by Paul Young...\n",
      "Done.\n",
      "Searching for \"I Want to Know What Love Is\" by Foreigner...\n",
      "Done.\n",
      "Searching for \"Sledgehammer\" by Peter Gabriel...\n",
      "Done.\n",
      "Searching for \"Addicted to Love\" by Robert Palmer...\n",
      "Done.\n",
      "Searching for \"Higher Love\" by Steve Winwood...\n",
      "Done.\n",
      "Searching for \"Graceland\" by Paul Simon...\n",
      "Done.\n",
      "Searching for \"La Bamba\" by Los Lobos...\n",
      "Done.\n",
      "Searching for \"I Still Haven't Found What I'm Looking For\" by U2...\n",
      "Done.\n",
      "Searching for \"Luka\" by Suzanne Vega...\n",
      "Done.\n",
      "Searching for \"Didn't We Almost Have It All\" by Whitney Houston...\n",
      "Done.\n",
      "Searching for \"Giving You the Best That I Got\" by Anita Baker...\n",
      "Done.\n",
      "Searching for \"Fast Car\" by Tracy Chapman...\n",
      "Done.\n",
      "Searching for \"Be Still My Beating Heart\" by Sting...\n",
      "Done.\n",
      "Searching for \"Piano in the Dark\" by Brenda Russell...\n",
      "Done.\n",
      "Searching for \"Don't Know Much\" by Linda Ronstadt & Aaron Neville...\n",
      "Done.\n",
      "Searching for \"The End of the Innocence\" by Don Henley...\n",
      "Done.\n",
      "Searching for \"We Didn't Start the Fire\" by Billy Joel...\n",
      "Done.\n",
      "Searching for \"The Living Years\" by Mike + The Mechanics...\n"
     ]
    },
    {
     "name": "stdout",
     "output_type": "stream",
     "text": [
      "Done.\n",
      "Searching for \"Vision of Love\" by Mariah Carey...\n",
      "Done.\n",
      "Searching for \"Another Day in Paradise\" by Phil Collins...\n",
      "Done.\n",
      "Searching for \"Nothing Compares 2 U\" by Sinéad O'Connor...\n",
      "Done.\n",
      "Searching for \"Hold On\" by Wilson Phillips...\n",
      "Done.\n",
      "Searching for \"(Everything I Do) I Do It for You\" by Bryan Adams...\n",
      "Done.\n",
      "Searching for \"Baby Baby\" by Amy Grant...\n",
      "Done.\n",
      "Searching for \"Losing My Religion\" by R.E.M....\n",
      "Done.\n",
      "Searching for \"Walking in Memphis\" by Marc Cohn...\n",
      "Done.\n",
      "Searching for \"Achy Breaky Heart\" by Billy Ray Cyrus...\n",
      "Done.\n",
      "Searching for \"Beauty and the Beast\" by Celine Dion & Peabo Bryson...\n",
      "Done.\n",
      "Searching for \"Constant Craving\" by k.d. lang...\n",
      "Done.\n",
      "Searching for \"Save the Best for Last\" by Vanessa Williams...\n",
      "Done.\n",
      "Searching for \"The River of Dreams\" by Billy Joel...\n",
      "Done.\n",
      "Searching for \"I'd Do Anything for Love (But I Won't Do That)\" by Meat Loaf...\n",
      "Done.\n",
      "Searching for \"If I Ever Lose My Faith in You\" by Sting...\n",
      "Done.\n",
      "Searching for \"Harvest Moon\" by Neil Young...\n",
      "Done.\n",
      "Searching for \"All I Wanna Do\" by Sheryl Crow...\n",
      "Done.\n",
      "Searching for \"Can You Feel the Love Tonight\" by Elton John...\n",
      "Done.\n",
      "Searching for \"Circle of Life\" by Elton John...\n",
      "Done.\n",
      "Searching for \"I Swear\" by John Michael Montgomery & All-4-One...\n",
      "Done.\n",
      "Searching for \"One of Us\" by Joan Osborne...\n",
      "Done.\n",
      "Searching for \"I Can Love You Like That\" by John Michael Montgomery & All-4-One...\n",
      "No results found for: 'I Can Love You Like That John Michael Montgomery & All-4-One'\n",
      "no results found\n",
      "Searching for \"You Are Not Alone\" by Michael Jackson...\n",
      "Done.\n",
      "Searching for \"You Oughta Know\" by Alanis Morissette...\n",
      "Done.\n",
      "Searching for \"Give Me One Reason\" by Tracy Chapman...\n",
      "Done.\n",
      "Searching for \"Because You Loved Me\" by Celine Dion...\n",
      "Done.\n",
      "Searching for \"Blue\" by LeAnn Rimes...\n",
      "Done.\n",
      "Searching for \"Exhale (Shoop Shoop)\" by Whitney Houston...\n",
      "Done.\n",
      "Searching for \"Don't Speak\" by No Doubt...\n",
      "Done.\n",
      "Searching for \"How Do I Live\" by LeAnn Rimes & Trisha Yearwood...\n",
      "Done.\n",
      "Searching for \"Where Have All the Cowboys Gone?\" by Paula Cole...\n",
      "Done.\n",
      "Searching for \"I Believe I Can Fly\" by R. Kelly...\n",
      "Done.\n",
      "Searching for \"I Don't Want to Miss a Thing\" by Aerosmith...\n",
      "Done.\n",
      "Searching for \"Iris\" by The Goo Goo Dolls...\n",
      "Done.\n",
      "Searching for \"Lean on Me\" by Kirk Franklin...\n",
      "Done.\n",
      "Searching for \"You're Still the One\" by Shania Twain...\n",
      "Done.\n",
      "Searching for \"I Want It That Way\" by Backstreet Boys...\n",
      "Done.\n",
      "Searching for \"Livin' la Vida Loca\" by Ricky Martin...\n",
      "Done.\n",
      "Searching for \"Unpretty\" by TLC...\n",
      "Done.\n",
      "Searching for \"You've Got a Way\" by Shania Twain...\n",
      "Done.\n",
      "Searching for \"Say My Name\" by Destiny's Child...\n",
      "Done.\n",
      "Searching for \"I Try\" by Macy Gray...\n",
      "Done.\n",
      "Searching for \"Breathe\" by Faith Hill...\n",
      "Done.\n",
      "Searching for \"I Hope You Dance\" by Lee Ann Womack...\n",
      "Done.\n",
      "Searching for \"Video\" by India.Arie...\n",
      "Done.\n",
      "Searching for \"Drops of Jupiter (Tell Me)\" by Train...\n",
      "Done.\n",
      "Searching for \"Stuck in a Moment You Can't Get Out Of\" by U2...\n",
      "Done.\n",
      "Searching for \"I'm Like a Bird\" by Nelly Furtado...\n",
      "Done.\n",
      "Searching for \"A Thousand Miles\" by Vanessa Carlton...\n",
      "Done.\n",
      "Searching for \"Complicated\" by Avril Lavigne...\n",
      "Done.\n",
      "Searching for \"The Rising\" by Bruce Springsteen...\n",
      "Done.\n",
      "Searching for \"Where Were You (When the World Stopped Turning)\" by Alan Jackson...\n",
      "Done.\n",
      "Searching for \"Beautiful\" by Christina Aguilera...\n",
      "Done.\n",
      "Searching for \"I'm with You\" by Avril Lavigne...\n",
      "Done.\n",
      "Searching for \"Keep Me In Your Heart\" by Warren Zevon...\n",
      "Done.\n",
      "Searching for \"Lose Yourself\" by Eminem...\n",
      "Done.\n",
      "Searching for \"If I Ain't Got You\" by Alicia Keys...\n",
      "Done.\n",
      "Searching for \"Jesus Walks\" by Kanye West...\n",
      "Done.\n",
      "Searching for \"Live Like You Were Dying\" by Tim McGraw...\n",
      "Done.\n",
      "Searching for \"The Reason\" by Hoobastank...\n",
      "Done.\n",
      "Searching for \"We Belong Together\" by Mariah Carey...\n",
      "Done.\n",
      "Searching for \"Bless the Broken Road\" by Rascal Flatts...\n",
      "Done.\n",
      "Searching for \"Devils & Dust\" by Bruce Springsteen...\n",
      "Done.\n",
      "Searching for \"Ordinary People\" by John Legend...\n",
      "Done.\n",
      "Searching for \"Be Without You\" by Mary J. Blige...\n",
      "Done.\n",
      "Searching for \"You're Beautiful\" by James Blunt...\n",
      "Done.\n",
      "Searching for \"Put Your Records On\" by Corinne Bailey Rae...\n",
      "Done.\n",
      "Searching for \"Jesus, Take the Wheel\" by Carrie Underwood...\n",
      "Done.\n",
      "Searching for \"Before He Cheats\" by Carrie Underwood...\n",
      "Done.\n",
      "Searching for \"Hey There Delilah\" by Plain White T's...\n",
      "Done.\n",
      "Searching for \"Like a Star\" by Corinne Bailey Rae...\n",
      "Done.\n",
      "Searching for \"Umbrella\" by Rihanna featuring Jay-Z...\n",
      "Done.\n",
      "Searching for \"American Boy\" by Estelle featuring Kanye West...\n",
      "Done.\n",
      "Searching for \"Chasing Pavements\" by Adele...\n",
      "Done.\n",
      "Searching for \"I'm Yours\" by Jason Mraz...\n",
      "Done.\n",
      "Searching for \"Love Song\" by Sara Bareilles...\n",
      "Done.\n",
      "Searching for \"Poker Face\" by Lady Gaga...\n",
      "Done.\n",
      "Searching for \"Pretty Wings\" by Maxwell...\n",
      "Done.\n",
      "Searching for \"Use Somebody\" by Kings of Leon...\n",
      "Done.\n",
      "Searching for \"You Belong with Me\" by Taylor Swift...\n",
      "Done.\n",
      "Searching for \"Beg Steal Or Borrow\" by Ray LaMontagne and The Pariah Dogs...\n",
      "Done.\n",
      "Searching for \"F**k You\" by Cee Lo Green...\n",
      "Done.\n",
      "Searching for \"The House That Built Me\" by Miranda Lambert...\n",
      "Done.\n",
      "Searching for \"Love the Way You Lie\" by Eminem featuring Rihanna...\n",
      "Done.\n",
      "Searching for \"All of the Lights\" by Kanye West featuring Rihanna, Kid Cudi & Fergie...\n",
      "Done.\n",
      "Searching for \"The Cave\" by Mumford & Sons...\n",
      "Done.\n",
      "Searching for \"Grenade\" by Bruno Mars...\n",
      "Done.\n",
      "Searching for \"Holocene\" by Bon Iver...\n",
      "Done.\n",
      "Searching for \"The A Team\" by Ed Sheeran...\n",
      "Done.\n",
      "Searching for \"Adorn\" by Miguel...\n",
      "Done.\n",
      "Searching for \"Call Me Maybe\" by Carly Rae Jepsen...\n",
      "Done.\n",
      "Searching for \"Stronger (What Doesn't Kill You)\" by Kelly Clarkson...\n",
      "Done.\n",
      "Searching for \"Just Give Me a Reason\" by Pink featuring Nate Ruess...\n",
      "Done.\n",
      "Searching for \"Locked Out of Heaven\" by Bruno Mars...\n",
      "Done.\n",
      "Searching for \"Roar\" by Katy Perry...\n",
      "Done.\n",
      "Searching for \"Same Love\" by Macklemore & Ryan Lewis featuring Mary Lambert...\n",
      "Done.\n",
      "Searching for \"Take Me to Church\" by Hozier...\n",
      "Done.\n",
      "Searching for \"Chandelier\" by Sia...\n",
      "Done.\n",
      "Searching for \"Shake It Off\" by Taylor Swift...\n",
      "Done.\n",
      "Searching for \"All About That Bass\" by Meghan Trainor...\n",
      "Done.\n",
      "Searching for \"Alright\" by Kendrick Lamar...\n",
      "Done.\n",
      "Searching for \"Blank Space\" by Taylor Swift...\n",
      "Done.\n",
      "Searching for \"Girl Crush\" by Little Big Town...\n",
      "Done.\n",
      "Searching for \"See You Again\" by Wiz Khalifa featuring Charlie Puth...\n",
      "Done.\n",
      "Searching for \"Formation\" by Beyoncé...\n",
      "Done.\n",
      "Searching for \"I Took a Pill in Ibiza\" by Mike Posner...\n",
      "Done.\n",
      "Searching for \"Love Yourself\" by Justin Bieber...\n",
      "Done.\n",
      "Searching for \"7 Years\" by Lukas Graham...\n",
      "Done.\n",
      "Searching for \"Despacito\" by Luis Fonsi & Daddy Yankee ft. Justin Bieber...\n",
      "Done.\n",
      "Searching for \"4:44\" by Jay-Z...\n",
      "Done.\n",
      "Searching for \"Issues\" by Julia Michaels...\n",
      "Done.\n",
      "Searching for \"1-800-273-8255\" by Logic ft. Alessia Cara & Khalid...\n",
      "Done.\n",
      "Searching for \"All the Stars\" by Kendrick Lamar & SZA...\n",
      "Done.\n",
      "Searching for \"Boo'd Up\" by Ella Mai...\n",
      "Done.\n",
      "Searching for \"God's Plan\" by Drake...\n",
      "Done.\n",
      "Searching for \"In My Blood\" by Shawn Mendes...\n",
      "Done.\n",
      "Searching for \"The Joke\" by Brandi Carlile...\n",
      "Done.\n",
      "Searching for \"The Middle\" by Zedd, Maren Morris & Grey...\n",
      "Done.\n",
      "Searching for \"Shallow\" by Lady Gaga & Bradley Cooper...\n",
      "Done.\n",
      "Searching for \"Always Remember Us This Way\" by Lady Gaga...\n",
      "Done.\n",
      "Searching for \"Bring My Flowers Now\" by Tanya Tucker...\n",
      "Done.\n",
      "Searching for \"Hard Place\" by H.E.R....\n",
      "Done.\n",
      "Searching for \"Lover\" by Taylor Swift...\n",
      "Done.\n",
      "Searching for \"Norman Fucking Rockwell\" by Lana Del Rey...\n",
      "Done.\n",
      "Searching for \"Someone You Loved\" by Lewis Capaldi...\n",
      "Done.\n",
      "Searching for \"Truth Hurts\" by Lizzo...\n",
      "Done.\n",
      "There were 3 items in your chart that genius.com could not find\n"
     ]
    }
   ],
   "source": [
    "for song_dict in noms:\n",
    "    try:\n",
    "        song = genius.search_song(song_dict['song_title'], song_dict['performing_artist']) #retrieving lyrics\n",
    "        song_dict['lyrics'] = song.lyrics #adding to dictionary\n",
    "    \n",
    "    except AttributeError: \n",
    "        print('no results found')\n",
    "        error_processing.append(song_dict['song_title'])\n",
    "        song_dict['lyrics'] = 'no results found'\n",
    "\n",
    "    \n",
    "if len(error_processing)>0:\n",
    "    print('There were {} items in your chart that genius.com could not find'.format(len(error_processing)))"
   ]
  },
  {
   "cell_type": "code",
   "execution_count": 23,
   "metadata": {},
   "outputs": [
    {
     "data": {
      "text/plain": [
       "[\"Raindrops Keep Fallin' on My Head\",\n",
       " 'I.G.Y. (What a Beautiful World)',\n",
       " 'I Can Love You Like That']"
      ]
     },
     "execution_count": 23,
     "metadata": {},
     "output_type": "execute_result"
    }
   ],
   "source": [
    "error_processing"
   ]
  },
  {
   "cell_type": "markdown",
   "metadata": {},
   "source": [
    "## manual fixes to no results and incorrect results"
   ]
  },
  {
   "cell_type": "code",
   "execution_count": 24,
   "metadata": {},
   "outputs": [
    {
     "name": "stdout",
     "output_type": "stream",
     "text": [
      "Searching for \"Raindrops Keep Fallin' on My Head\" by B.J. Thomas...\n",
      "Done.\n",
      "{'year': '1970', 'nominees': 'Burt Bacharach & Hal David', 'song_title': \"Raindrops Keep Fallin' on My Head\", 'performing_artist': 'B. J. Thomas', 'lyrics': \"Raindrops keep fallin' on my head\\nAnd just like the guy whose feet are too big for his bed\\nNothin' seems to fit\\nThose raindrops are fallin' on my head, they keep fallin'\\n\\nSo I just did me some talkin' to the sun\\nAnd I said I didn't like the way he got things done\\nSleepin' on the job\\nThose raindrops are fallin' on my head, they keep fallin'\\n\\nBut there's one thing I know\\nThe blues they send to meet me won't defeat me\\nIt won't be long 'til happiness steps up to greet me\\n\\nRaindrops keep fallin' on my head\\nBut that doesn't mean my eyes will soon be turnin' red\\nCryin's not for me\\n'Cause I'm never gonna stop the rain by complainin'\\nBecause I'm free\\nNothing's worryin' me\\n\\nIt won't be long 'til happiness steps up to greet me\\n\\nRaindrops keep fallin' on my head\\nBut that doesn't mean my eyes will soon be turnin' red\\nCryin's not for me\\n'Cause I'm never gonna stop the rain by complainin'\\nBecause I'm free\\nNothing's worryin'\\nMe\"}\n"
     ]
    }
   ],
   "source": [
    "search_one = next((song for song in noms if song['song_title'] == \"Raindrops Keep Fallin' on My Head\"), None) \n",
    "song = genius.search_song(\"Raindrops Keep Fallin' on My Head\", \"B.J. Thomas\")\n",
    "search_one['lyrics'] = song.lyrics\n",
    "\n",
    "print(search_one)"
   ]
  },
  {
   "cell_type": "code",
   "execution_count": null,
   "metadata": {},
   "outputs": [],
   "source": []
  },
  {
   "cell_type": "code",
   "execution_count": 25,
   "metadata": {},
   "outputs": [],
   "source": [
    "search_two = next((song for song in noms if song['song_title'] == 'I.G.Y. (What a Beautiful World)'), None)\n",
    "## the only version on genius is by howard jones, which is a cover of the original grammy-nominated version.\n",
    "## re-doing search with different artist name"
   ]
  },
  {
   "cell_type": "code",
   "execution_count": 26,
   "metadata": {},
   "outputs": [
    {
     "name": "stdout",
     "output_type": "stream",
     "text": [
      "Searching for \"I.G.Y (What a Beautiful World)\" by Howard Jones...\n",
      "Done.\n"
     ]
    }
   ],
   "source": [
    "search_two['lyrics'] = genius.search_song(\"I.G.Y (What a Beautiful World)\", \"Howard Jones\").lyrics"
   ]
  },
  {
   "cell_type": "code",
   "execution_count": 27,
   "metadata": {},
   "outputs": [
    {
     "name": "stdout",
     "output_type": "stream",
     "text": [
      "Searching for \"I Can Love You Like That\" by All-4-One...\n",
      "Done.\n"
     ]
    }
   ],
   "source": [
    "search_three = next((song for song in noms if song['song_title'] == 'I Can Love You Like That'), None)\n",
    "## this nominated version is for All-4-One covering this song originially performed by john michael montgomery\n",
    "## wikipedia lists them both as \"performers\" while genius has identical lyrics listed separately for the artists\n",
    "\n",
    "search_three['lyrics'] = genius.search_song(\"I Can Love You Like That\", \"All-4-One\").lyrics"
   ]
  },
  {
   "cell_type": "code",
   "execution_count": 28,
   "metadata": {},
   "outputs": [
    {
     "data": {
      "text/plain": [
       "{'lyrics': \"There's sweeter music when she sings, isn't there?\\nA different bloom about her cheeks, isn't there?\\nCould I be wrong, could it be so?\\nOh where oh where did Gigi go?\\nGigi, am I a fool without a mind?\\nOr have I merely been too blind?\\nTo realize.\\nOh, Gigi!\\nWhy, you've been growing up before my eyes\\nGigi!\\nYou're not at all that funny\\nAwkward little girl I knew\\nOh no!\\nOvernight, there's been a breathless change\\nIn you.\\nOh, Gigi!\\nWhile you were trembling on the brink\\nWas I out yonder somewhere\\nBlinking at a star?\\nOh, Gigi!\\nHave I been standing up too close?\\nOr back too far?\\nWhen did your sparkle turn to fire?\\nAnd your warmth become desire?\\nOh what miracle has made you the way you are?\\nGigi!\\nGigi!\\nGigi!\\nOh no!\\nI was mad not to have seen the change\\nIn you.\\nOh Gigi!\\nWhile you were trembling...are?\",\n",
       " 'nominees': 'Alan Jay Lerner & Frederick Loewe',\n",
       " 'performing_artist': 'Various Artists',\n",
       " 'song_title': 'Theme to Gigi',\n",
       " 'year': '1959'}"
      ]
     },
     "execution_count": 28,
     "metadata": {},
     "output_type": "execute_result"
    }
   ],
   "source": [
    "gigi = next((song for song in noms if song['song_title'] == 'Theme to Gigi'), None)\n",
    "## original genius search result looks like the transcript of a talk abt DJing at SXSW\n",
    "## this song is from a movie, so fetching lyrics manually\n",
    "\n",
    "gigi['lyrics'] = open('data/gigi_lyrics.txt').read()\n",
    "gigi"
   ]
  },
  {
   "cell_type": "code",
   "execution_count": 29,
   "metadata": {},
   "outputs": [
    {
     "data": {
      "text/plain": [
       "{'lyrics': 'none',\n",
       " 'nominees': 'Paul Francis Webster & André Previn',\n",
       " 'performing_artist': 'André Previn',\n",
       " 'song_title': 'Like Young',\n",
       " 'year': '1960'}"
      ]
     },
     "execution_count": 29,
     "metadata": {},
     "output_type": "execute_result"
    }
   ],
   "source": [
    "like_young = next((song for song in noms if song['song_title'] == 'Like Young'), None)\n",
    "## the original result was a chunk of les miserables! this is an instrumental track, deleting \n",
    "\n",
    "like_young['lyrics'] = 'none'\n",
    "like_young"
   ]
  },
  {
   "cell_type": "code",
   "execution_count": 30,
   "metadata": {},
   "outputs": [
    {
     "name": "stdout",
     "output_type": "stream",
     "text": [
      "Searching for \"Make Someone Happy\" by Jamie Cullum...\n",
      "Done.\n"
     ]
    }
   ],
   "source": [
    "## make someone happy is a song that appeared in the musical do re mi, recorded by other artists in later years\n",
    "## using one of these names to get the lyrics\n",
    "happy = next((song for song in noms if song['song_title'] == 'Make Someone Happy'), None)\n",
    "happy['lyrics'] = genius.search_song(\"Make Someone Happy\", \"Jamie Cullum\").lyrics"
   ]
  },
  {
   "cell_type": "code",
   "execution_count": 31,
   "metadata": {},
   "outputs": [
    {
     "name": "stdout",
     "output_type": "stream",
     "text": [
      "Searching for \"The Sweetest Sounds\" by Richard Rodgers...\n",
      "Done.\n"
     ]
    }
   ],
   "source": [
    "## the sweetest sounds appeared in the musical no strings. listed on genius under songwriter richard rodgers' name\n",
    "sweetest = next((song for song in noms if song['song_title'] == 'The Sweetest Sounds'), None)\n",
    "sweetest['lyrics'] = genius.search_song(\"The Sweetest Sounds\", \"Richard Rodgers\").lyrics\n",
    "#print(sweetest)"
   ]
  },
  {
   "cell_type": "code",
   "execution_count": 32,
   "metadata": {},
   "outputs": [
    {
     "name": "stdout",
     "output_type": "stream",
     "text": [
      "Searching for \"Rose Garden\" by Lynn Anderson...\n",
      "Done.\n"
     ]
    }
   ],
   "source": [
    "## (i never promised you a) rose garden is listed without the parentheticals on genius\n",
    "rose = next((song for song in noms if song['song_title'] == \"(I Never Promised You a) Rose Garden\"), None)\n",
    "rose['lyrics'] = genius.search_song(\"Rose Garden\", \"Lynn Anderson\").lyrics"
   ]
  },
  {
   "cell_type": "code",
   "execution_count": 33,
   "metadata": {},
   "outputs": [
    {
     "name": "stdout",
     "output_type": "stream",
     "text": [
      "Searching for \"Just the Two of Us\" by Grover Washington Jr....\n",
      "Done.\n"
     ]
    }
   ],
   "source": [
    "## just the two of us was scraped as \"grover wash.. WITH bill withers\" different than genius\n",
    "two = next((song for song in noms if song['song_title'] == \"Just the Two of Us\"), None)\n",
    "two['lyrics'] = genius.search_song(\"Just the Two of Us\", \"Grover Washington Jr.\").lyrics"
   ]
  },
  {
   "cell_type": "code",
   "execution_count": 34,
   "metadata": {},
   "outputs": [
    {
     "name": "stdout",
     "output_type": "stream",
     "text": [
      "Searching for \"How Do I Live\" by LeAnn Rimes...\n",
      "Done.\n",
      "{'year': '1998', 'nominees': 'Diane Warren', 'song_title': 'How Do I Live', 'performing_artist': 'LeAnn Rimes & Trisha Yearwood', 'lyrics': \"[Verse 1]\\nHow do I get through one night without you?\\nIf I had to live without you\\nWhat kind of life would that be?\\n\\n[Pre-Chorus]\\nOh, I, I need you in my arms, need you to hold\\nYou're my world, my heart, my soul and if you ever leave\\nBaby you would take away everything good in my life\\nAnd tell me now\\n\\n[Chorus]\\nHow do I live without you? I want to know\\nHow do I breathe without you if you ever go?\\nHow do I ever, ever survive?\\nHow do I, how do I, oh, how do I live?\\n\\n[Verse 2]\\nWithout you there'd be no sun in my sky\\nThere would be no love in my life\\nThere'd be no world left for me\\n\\n[Pre-Chorus 2]\\nAnd I, baby, I don't know what I would do\\nI'd be lost if I lost you, if you ever leave\\nBaby, you would take away everything real in my life\\nAnd tell me now\\n\\n[Chorus]\\nHow do I live without you? I want to know\\nHow do I breathe without you if you ever go?\\nHow do I ever, ever survive?\\nHow do I, how do I, oh, how do I live?\\n\\n[Bridge]\\nPlease, tell me, baby\\nHow do I go on if you ever leave?\\nBaby, you would take away everything, I need you with me\\nBaby, don't you know that you're everything good in my life?\\nAnd tell me now\\n\\n[Chorus]\\nHow do I live without you? I want to know\\nHow do I breathe without you if you ever go\\nHow do I ever, ever survive?\\nHow do I, how do I, oh, how do I live?\\nHow do I live without you?\\nHow do I live without you, baby?\\nHow do I live?\"}\n"
     ]
    }
   ],
   "source": [
    "## how do i live is a good example of definition of song of the year. the nominee was dianne warren who wrote the song.\n",
    "## leann rimes and trisha yearwood both recorded versions around the same time\n",
    "live = next((song for song in noms if song['song_title'] == \"How Do I Live\"), None)\n",
    "live['lyrics'] = genius.search_song(\"How Do I Live\", \"LeAnn Rimes\").lyrics\n",
    "print(live)"
   ]
  },
  {
   "cell_type": "code",
   "execution_count": 35,
   "metadata": {},
   "outputs": [
    {
     "name": "stdout",
     "output_type": "stream",
     "text": [
      "Searching for \"All of the Lights\" by Kanye West...\n",
      "Done.\n"
     ]
    }
   ],
   "source": [
    "## another issue of featured artists in wikipedia listing but not in genius\n",
    "lights = next((song for song in noms if song['song_title'] == \"All of the Lights\"), None)\n",
    "lights['lyrics'] = genius.search_song(\"All of the Lights\", \"Kanye West\").lyrics"
   ]
  },
  {
   "cell_type": "code",
   "execution_count": 36,
   "metadata": {},
   "outputs": [],
   "source": [
    "#noms"
   ]
  },
  {
   "cell_type": "markdown",
   "metadata": {},
   "source": []
  },
  {
   "cell_type": "markdown",
   "metadata": {
    "deletable": false,
    "editable": false,
    "nbgrader": {
     "cell_type": "markdown",
     "checksum": "4f26a27f3bf9105ca957524fba2f60ee",
     "grade": false,
     "grade_id": "cell-6365af2bdcafe402",
     "locked": true,
     "schema_version": 3,
     "solution": false
    }
   },
   "source": [
    "* Describe how you have or think you will organize your data\n",
    "    * What are the dimensions of your analysis (e.g. _date_, _source_, etc.)\n",
    "    * What are the size of units within these dimensions (e.g. _days_, _years_, _national v local_, _conservative vs liberal_ etc.)\n",
    "    * What do you think is the best way to physically organize your corpus/corpora to support this (e.g. separate folders, filename naming scheme etc)"
   ]
  },
  {
   "cell_type": "markdown",
   "metadata": {
    "deletable": false,
    "nbgrader": {
     "cell_type": "markdown",
     "checksum": "9327e60667038fc0008b5b283567e103",
     "grade": true,
     "grade_id": "cell-13f79519e1af0995",
     "locked": false,
     "points": 3,
     "schema_version": 3,
     "solution": true
    }
   },
   "source": [
    "Not entirely sure if I'm understanding this correctly, but the primary dimension of analysis is award status, correct? win/did not win, which I'm planning to organize in two separate dictionaries. Time by years could be another dimension.\n",
    "Since I'm collecting data via web scraping and genius API, all the necessary text data will contained within the lists of song dictionaries. one dictionary for \"winning\" songs and one for the rest of the nominees. "
   ]
  },
  {
   "cell_type": "markdown",
   "metadata": {
    "deletable": false,
    "editable": false,
    "nbgrader": {
     "cell_type": "markdown",
     "checksum": "45fa13985964d348419cd8f36c8ba484",
     "grade": false,
     "grade_id": "cell-71bd83c8a3d83c03",
     "locked": true,
     "schema_version": 3,
     "solution": false
    }
   },
   "source": [
    "## 3. Pilot data descriptives\n",
    "\n",
    "* Write some code to describe your data according the dimensions you've chosen\n",
    "\n",
    "    * e.g. if you have your data in folders by year (e.g. `data/1999`, `data/2000`, etc.) and a single text per file within each folder you could do something like:\n",
    "        ```\n",
    "        for year in os.listdir('data'):\n",
    "            num_of_docs = len(os.listdir(os.path.join('data',year))\n",
    "            print('{}\\t{} texts'.format(year, num_of_docs))\n",
    "        ```\n",
    "            \n",
    "* Do this for each of the relevant dimensions for your analysis.        "
   ]
  },
  {
   "cell_type": "code",
   "execution_count": 37,
   "metadata": {
    "deletable": false,
    "nbgrader": {
     "cell_type": "code",
     "checksum": "8b4fff80f6dc6f7f93acf744438d76d7",
     "grade": true,
     "grade_id": "cell-249093f2247a8c1b",
     "locked": false,
     "points": 2,
     "schema_version": 3,
     "solution": true
    }
   },
   "outputs": [
    {
     "name": "stdout",
     "output_type": "stream",
     "text": [
      "there are 63 winning songs\n",
      "there are 258 non-winning/nominated songs\n"
     ]
    }
   ],
   "source": [
    "# YOUR CODE HERE\n",
    "\n",
    "#pilot data just is just the works that won SOTY\n",
    "print('there are {} winning songs'.format(len(winners_chart)))\n",
    "\n",
    "print('there are {} non-winning/nominated songs'.format(len(noms)))\n",
    "\n"
   ]
  },
  {
   "cell_type": "markdown",
   "metadata": {},
   "source": [
    "## JSON dumping the two corpora"
   ]
  },
  {
   "cell_type": "code",
   "execution_count": 38,
   "metadata": {},
   "outputs": [],
   "source": [
    "# winning songs\n",
    "with open('data/winning_song_corpus.json','w') as out:\n",
    "    out.write(json.dumps(winners_chart))"
   ]
  },
  {
   "cell_type": "code",
   "execution_count": 41,
   "metadata": {},
   "outputs": [],
   "source": [
    "# nominees\n",
    "with open('data/nominees_corpus.json','w') as out:\n",
    "    out.write(json.dumps(noms))"
   ]
  },
  {
   "cell_type": "markdown",
   "metadata": {
    "deletable": false,
    "editable": false,
    "nbgrader": {
     "cell_type": "markdown",
     "checksum": "ef2338d4a5517f8d384e62e7e8daed0f",
     "grade": false,
     "grade_id": "cell-259b655ec8aa8672",
     "locked": true,
     "schema_version": 3,
     "solution": false
    }
   },
   "source": [
    "## 4. Pilot data analysis\n",
    "\n",
    "* Add a series of code cells below showing some initial text analysis\n",
    "\n",
    "    * This could include:\n",
    "        1. creating word and n-gram frequency lists\n",
    "        2. creating keyword lists by comparing different dimensions\n",
    "        3. some targetted KWIC analyses\n",
    "        4. collecting collocates of specific keywords\n",
    "        5. scoring texts using VADER or other dictionary resources"
   ]
  },
  {
   "cell_type": "markdown",
   "metadata": {
    "deletable": false,
    "nbgrader": {
     "cell_type": "markdown",
     "checksum": "990a9711e3ff1a8aac0139158b2a7e09",
     "grade": true,
     "grade_id": "cell-2929d0766072f094",
     "locked": false,
     "points": 10,
     "schema_version": 3,
     "solution": true,
     "task": false
    }
   },
   "source": [
    "Sorry this is so sparse! I'm catching up on the course material but wanted to submit something for feedback as I keep working."
   ]
  },
  {
   "cell_type": "code",
   "execution_count": null,
   "metadata": {},
   "outputs": [],
   "source": []
  },
  {
   "cell_type": "code",
   "execution_count": 39,
   "metadata": {},
   "outputs": [],
   "source": [
    "win_word_freq = Counter()\n",
    "win_bigram_freq = Counter()\n",
    "\n",
    "remove = '()[]:;.-!?,'\n",
    "\n",
    "for song in range(len(winners_chart)):\n",
    "    lyrics_raw = winners_chart[song]['lyrics']\n",
    "    \n",
    "    song_toks = []\n",
    "    temp = tokenize(lyrics_raw, lowercase = True, strip_chars = remove)\n",
    "    for tok in temp:\n",
    "        if tok not in stop_words:\n",
    "            song_toks.append(tok)\n",
    "    \n",
    "    win_word_freq.update(song_toks)\n",
    "    \n",
    "    bigrams = get_ngram_tokens(song_toks, 2)\n",
    "    win_bigram_freq.update(bigrams)\n",
    "    \n",
    "    #clean string\n",
    "    #tokenize\n",
    "    #run thru counter\n",
    "    \n",
    "#win_word_freq.most_common(75), win_bigram_freq.most_common(50)"
   ]
  },
  {
   "cell_type": "code",
   "execution_count": 40,
   "metadata": {},
   "outputs": [],
   "source": [
    "nom_word_freq = Counter()\n",
    "nom_bigram_freq = Counter()\n",
    "remove = '()[]:;.-!?,'\n",
    "\n",
    "for song in range(len(noms)):\n",
    "    lyrics_raw = noms[song]['lyrics']\n",
    "    song_toks = tokenize(lyrics_raw, lowercase = True, strip_chars = remove)\n",
    "    \n",
    "    nom_word_freq.update(song_toks)\n",
    "    \n",
    "    bigrams = get_ngram_tokens(song_toks, 2)\n",
    "    nom_bigram_freq.update(bigrams)\n",
    "    \n",
    "    #clean string\n",
    "    #tokenize\n",
    "    #run thru counter\n",
    "    \n",
    "#nom_word_freq.most_common(75), nom_bigram_freq.most_common(50)"
   ]
  },
  {
   "cell_type": "markdown",
   "metadata": {
    "deletable": false,
    "editable": false,
    "nbgrader": {
     "cell_type": "markdown",
     "checksum": "466a29b8fae1b5396f0307dcc17fc676",
     "grade": false,
     "grade_id": "cell-8419152fccc65a85",
     "locked": true,
     "schema_version": 3,
     "solution": false,
     "task": false
    }
   },
   "source": [
    "## 5. Questions/Problems/Requests for specific help in coding or organizing data "
   ]
  },
  {
   "cell_type": "markdown",
   "metadata": {
    "deletable": false,
    "nbgrader": {
     "cell_type": "markdown",
     "checksum": "9c599cb14eb192b56dd3f291ad8d5dfd",
     "grade": true,
     "grade_id": "cell-f941324dd04e0a5f",
     "locked": false,
     "points": 0,
     "schema_version": 3,
     "solution": true
    }
   },
   "source": [
    "* when it comes to collecting my full set of data, is it worth pulling pull other information about winning songs such as winners of the award (usually songwriters in addition to/independent of performing artist)? i think it could be interesting to see distribution of nationalities and how much overlap there is between the official listed winners and performer of the song (aka did they write it themselves, how much help did they have), but this would only apply for winners. scraping the nominees from this same table wouldn't give me the same amount of info\n",
    "* in the case of wanting to see if songwriter = performing artist, is there a way to work around obstacle of different names in the credits\n",
    "* for organizing the data, does it make more sense to make one dictionary of winning songs and another with the rest of the nominees, or one large dictionary with an \"award status\" key? values win/lose\n",
    "\n",
    "* what is the best way to have separated the double winners for the 1978 year award? the \"brute force\" way that I did it was only possible bc the list was short enough to catch it\n",
    "* is there anything to do with songs that are not in english or instrumental tracks other than eliminate them from analysis? i'm looking at the 1959 winner in italian and the 1961 winner which is instrumental\n",
    "* when I try to use use list indices in defining iterations of a for loop [0: whatever], it returns a syntax error underneath the colon? not understanding why\n",
    "* there was the thomas aquinas lyric mistake that i corrected again with brute force, but i think there are more errors from the genius search because words like \"usage\" \"english\" and \"language\" are coming up in the most common tokens. is there a good way to locate these within the list of dictionaries?"
   ]
  },
  {
   "cell_type": "code",
   "execution_count": null,
   "metadata": {},
   "outputs": [],
   "source": []
  }
 ],
 "metadata": {
  "kernelspec": {
   "display_name": "Python 3",
   "language": "python",
   "name": "python3"
  },
  "language_info": {
   "codemirror_mode": {
    "name": "ipython",
    "version": 3
   },
   "file_extension": ".py",
   "mimetype": "text/x-python",
   "name": "python",
   "nbconvert_exporter": "python",
   "pygments_lexer": "ipython3",
   "version": "3.7.3"
  }
 },
 "nbformat": 4,
 "nbformat_minor": 2
}
